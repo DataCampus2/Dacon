{
 "cells": [
  {
   "cell_type": "markdown",
   "id": "cd4ccc86",
   "metadata": {},
   "source": [
    "# 데이터 확인 및 라이브러리 호출"
   ]
  },
  {
   "cell_type": "markdown",
   "id": "c57b0e29",
   "metadata": {},
   "source": [
    "## 라이브러리 "
   ]
  },
  {
   "cell_type": "markdown",
   "id": "c051fe16",
   "metadata": {},
   "source": [
    "### 설치"
   ]
  },
  {
   "cell_type": "code",
   "execution_count": 2,
   "id": "4cbd7792",
   "metadata": {},
   "outputs": [
    {
     "name": "stdout",
     "output_type": "stream",
     "text": [
      "Collecting seaborn\n",
      "  Downloading seaborn-0.12.2-py3-none-any.whl (293 kB)\n",
      "\u001b[2K     \u001b[90m━━━━━━━━━━━━━━━━━━━━━━━━━━━━━━━━━━━━━━\u001b[0m \u001b[32m293.3/293.3 kB\u001b[0m \u001b[31m12.6 MB/s\u001b[0m eta \u001b[36m0:00:00\u001b[0m\n",
      "\u001b[?25hRequirement already satisfied: numpy!=1.24.0,>=1.17 in /home/t2user2/.conda/envs/pybook/lib/python3.10/site-packages (from seaborn) (1.25.0)\n",
      "Requirement already satisfied: pandas>=0.25 in /home/t2user2/.conda/envs/pybook/lib/python3.10/site-packages (from seaborn) (1.5.3)\n",
      "Requirement already satisfied: matplotlib!=3.6.1,>=3.1 in /home/t2user2/.conda/envs/pybook/lib/python3.10/site-packages (from seaborn) (3.7.1)\n",
      "Requirement already satisfied: contourpy>=1.0.1 in /home/t2user2/.conda/envs/pybook/lib/python3.10/site-packages (from matplotlib!=3.6.1,>=3.1->seaborn) (1.0.5)\n",
      "Requirement already satisfied: cycler>=0.10 in /home/t2user2/.conda/envs/pybook/lib/python3.10/site-packages (from matplotlib!=3.6.1,>=3.1->seaborn) (0.11.0)\n",
      "Requirement already satisfied: fonttools>=4.22.0 in /home/t2user2/.conda/envs/pybook/lib/python3.10/site-packages (from matplotlib!=3.6.1,>=3.1->seaborn) (4.25.0)\n",
      "Requirement already satisfied: kiwisolver>=1.0.1 in /home/t2user2/.conda/envs/pybook/lib/python3.10/site-packages (from matplotlib!=3.6.1,>=3.1->seaborn) (1.4.4)\n",
      "Requirement already satisfied: packaging>=20.0 in /home/t2user2/.conda/envs/pybook/lib/python3.10/site-packages (from matplotlib!=3.6.1,>=3.1->seaborn) (23.0)\n",
      "Requirement already satisfied: pillow>=6.2.0 in /home/t2user2/.conda/envs/pybook/lib/python3.10/site-packages (from matplotlib!=3.6.1,>=3.1->seaborn) (9.4.0)\n",
      "Requirement already satisfied: pyparsing>=2.3.1 in /home/t2user2/.conda/envs/pybook/lib/python3.10/site-packages (from matplotlib!=3.6.1,>=3.1->seaborn) (3.0.9)\n",
      "Requirement already satisfied: python-dateutil>=2.7 in /home/t2user2/.conda/envs/pybook/lib/python3.10/site-packages (from matplotlib!=3.6.1,>=3.1->seaborn) (2.8.2)\n",
      "Requirement already satisfied: pytz>=2020.1 in /home/t2user2/.conda/envs/pybook/lib/python3.10/site-packages (from pandas>=0.25->seaborn) (2022.7)\n",
      "Requirement already satisfied: six>=1.5 in /home/t2user2/.conda/envs/pybook/lib/python3.10/site-packages (from python-dateutil>=2.7->matplotlib!=3.6.1,>=3.1->seaborn) (1.16.0)\n",
      "Installing collected packages: seaborn\n",
      "Successfully installed seaborn-0.12.2\n",
      "Note: you may need to restart the kernel to use updated packages.\n"
     ]
    }
   ],
   "source": [
    "pip install seaborn"
   ]
  },
  {
   "cell_type": "code",
   "execution_count": 4,
   "id": "b3ac07fe",
   "metadata": {
    "ExecuteTime": {
     "end_time": "2023-07-30T11:31:07.672160Z",
     "start_time": "2023-07-30T11:31:04.833275Z"
    },
    "scrolled": false
   },
   "outputs": [
    {
     "name": "stdout",
     "output_type": "stream",
     "text": [
      "Requirement already satisfied: xgboost in /home/t2user2/.local/lib/python3.10/site-packages (1.7.6)\n",
      "Requirement already satisfied: numpy in /home/t2user2/.conda/envs/pybook/lib/python3.10/site-packages (from xgboost) (1.25.0)\n",
      "Collecting scipy (from xgboost)\n",
      "  Downloading scipy-1.11.1-cp310-cp310-manylinux_2_17_x86_64.manylinux2014_x86_64.whl (36.3 MB)\n",
      "\u001b[2K     \u001b[90m━━━━━━━━━━━━━━━━━━━━━━━━━━━━━━━━━━━━━━━━\u001b[0m \u001b[32m36.3/36.3 MB\u001b[0m \u001b[31m63.6 MB/s\u001b[0m eta \u001b[36m0:00:00\u001b[0m00:01\u001b[0m00:01\u001b[0m\n",
      "\u001b[?25hInstalling collected packages: scipy\n",
      "\u001b[31mERROR: pip's dependency resolver does not currently take into account all the packages that are installed. This behaviour is the source of the following dependency conflicts.\n",
      "catboost 1.2 requires plotly, which is not installed.\n",
      "lightgbm 3.3.5 requires scikit-learn!=0.22.0, which is not installed.\u001b[0m\u001b[31m\n",
      "\u001b[0mSuccessfully installed scipy-1.11.1\n"
     ]
    }
   ],
   "source": [
    "!pip install xgboost"
   ]
  },
  {
   "cell_type": "code",
   "execution_count": 5,
   "id": "a7bfb3c5",
   "metadata": {
    "ExecuteTime": {
     "end_time": "2023-07-30T11:31:10.193719Z",
     "start_time": "2023-07-30T11:31:07.674528Z"
    },
    "scrolled": true
   },
   "outputs": [
    {
     "name": "stdout",
     "output_type": "stream",
     "text": [
      "Requirement already satisfied: lightgbm in /home/t2user2/.local/lib/python3.10/site-packages (3.3.5)\n",
      "Collecting lightgbm\n",
      "  Downloading lightgbm-4.0.0-py3-none-manylinux_2_28_x86_64.whl (3.0 MB)\n",
      "\u001b[2K     \u001b[90m━━━━━━━━━━━━━━━━━━━━━━━━━━━━━━━━━━━━━━━━\u001b[0m \u001b[32m3.0/3.0 MB\u001b[0m \u001b[31m58.8 MB/s\u001b[0m eta \u001b[36m0:00:00\u001b[0ma \u001b[36m0:00:01\u001b[0m\n",
      "\u001b[?25hRequirement already satisfied: numpy in /home/t2user2/.conda/envs/pybook/lib/python3.10/site-packages (from lightgbm) (1.25.0)\n",
      "Requirement already satisfied: scipy in /home/t2user2/.conda/envs/pybook/lib/python3.10/site-packages (from lightgbm) (1.11.1)\n",
      "Installing collected packages: lightgbm\n",
      "  Attempting uninstall: lightgbm\n",
      "    Found existing installation: lightgbm 3.3.5\n",
      "    Uninstalling lightgbm-3.3.5:\n",
      "      Successfully uninstalled lightgbm-3.3.5\n",
      "Successfully installed lightgbm-4.0.0\n"
     ]
    }
   ],
   "source": [
    "!pip install --upgrade lightgbm\n"
   ]
  },
  {
   "cell_type": "code",
   "execution_count": 6,
   "id": "e856f482",
   "metadata": {
    "ExecuteTime": {
     "start_time": "2023-07-30T11:31:04.832Z"
    }
   },
   "outputs": [
    {
     "name": "stdout",
     "output_type": "stream",
     "text": [
      "Retrieving notices: ...working... done\n",
      "Collecting package metadata (current_repodata.json): done\n",
      "Solving environment: failed with initial frozen solve. Retrying with flexible solve.\n",
      "Solving environment: failed with repodata from current_repodata.json, will retry with next repodata source.\n",
      "Collecting package metadata (repodata.json): done\n",
      "Solving environment: failed with initial frozen solve. Retrying with flexible solve.\n",
      "Solving environment: done\n",
      "\n",
      "\n",
      "==> WARNING: A newer version of conda exists. <==\n",
      "  current version: 23.3.1\n",
      "  latest version: 23.7.2\n",
      "\n",
      "Please update conda by running\n",
      "\n",
      "    $ conda update -n base -c defaults conda\n",
      "\n",
      "Or to minimize the number of packages updated during conda update use\n",
      "\n",
      "     conda install conda=23.7.2\n",
      "\n",
      "\n",
      "\n",
      "## Package Plan ##\n",
      "\n",
      "  environment location: /home/t2user2/.conda/envs/pybook\n",
      "\n",
      "  added / updated specs:\n",
      "    - lightgbm\n",
      "\n",
      "\n",
      "The following packages will be downloaded:\n",
      "\n",
      "    package                    |            build\n",
      "    ---------------------------|-----------------\n",
      "    certifi-2023.7.22          |  py310h06a4308_0         153 KB\n",
      "    joblib-1.2.0               |  py310h06a4308_0         400 KB\n",
      "    jupyter_client-7.4.9       |  py310h06a4308_0         208 KB\n",
      "    lightgbm-3.3.5             |  py310h6a678d5_0         1.7 MB\n",
      "    scikit-learn-1.2.2         |  py310h6a678d5_1         7.7 MB\n",
      "    scipy-1.10.1               |  py310h5f9d8c6_1        23.7 MB\n",
      "    ------------------------------------------------------------\n",
      "                                           Total:        33.9 MB\n",
      "\n",
      "The following NEW packages will be INSTALLED:\n",
      "\n",
      "  appdirs            pkgs/main/noarch::appdirs-1.4.4-pyhd3eb1b0_0 \n",
      "  joblib             pkgs/main/linux-64::joblib-1.2.0-py310h06a4308_0 \n",
      "  libgfortran-ng     pkgs/main/linux-64::libgfortran-ng-11.2.0-h00389a5_1 \n",
      "  libgfortran5       pkgs/main/linux-64::libgfortran5-11.2.0-h1234567_1 \n",
      "  lightgbm           pkgs/main/linux-64::lightgbm-3.3.5-py310h6a678d5_0 \n",
      "  pooch              pkgs/main/noarch::pooch-1.4.0-pyhd3eb1b0_0 \n",
      "  scikit-learn       pkgs/main/linux-64::scikit-learn-1.2.2-py310h6a678d5_1 \n",
      "  scipy              pkgs/main/linux-64::scipy-1.10.1-py310h5f9d8c6_1 \n",
      "  threadpoolctl      pkgs/main/noarch::threadpoolctl-2.2.0-pyh0d69192_0 \n",
      "\n",
      "The following packages will be UPDATED:\n",
      "\n",
      "  certifi                          2023.5.7-py310h06a4308_0 --> 2023.7.22-py310h06a4308_0 \n",
      "\n",
      "The following packages will be DOWNGRADED:\n",
      "\n",
      "  jupyter_client                      8.1.0-py310h06a4308_0 --> 7.4.9-py310h06a4308_0 \n",
      "  jupyter_server                      2.5.0-py310h06a4308_0 --> 1.23.4-py310h06a4308_0 \n",
      "  pyzmq                              25.1.0-py310h6a678d5_0 --> 23.2.0-py310h6a678d5_0 \n",
      "\n",
      "\n",
      "\n",
      "Downloading and Extracting Packages\n",
      "jupyter_client-7.4.9 | 208 KB    |                                       |   0% \n",
      "scikit-learn-1.2.2   | 7.7 MB    |                                       |   0% \u001b[A\n",
      "\n",
      "scipy-1.10.1         | 23.7 MB   |                                       |   0% \u001b[A\u001b[A\n",
      "\n",
      "\n",
      "joblib-1.2.0         | 400 KB    |                                       |   0% \u001b[A\u001b[A\u001b[A\n",
      "\n",
      "\n",
      "\n",
      "certifi-2023.7.22    | 153 KB    |                                       |   0% \u001b[A\u001b[A\u001b[A\u001b[A\n",
      "\n",
      "\n",
      "\n",
      "\n",
      "lightgbm-3.3.5       | 1.7 MB    |                                       |   0% \u001b[A\u001b[A\u001b[A\u001b[A\u001b[A\n",
      "\n",
      "\n",
      "\n",
      "certifi-2023.7.22    | 153 KB    | ##################################### | 100% \u001b[A\u001b[A\u001b[A\u001b[A\n",
      "\n",
      "\n",
      "joblib-1.2.0         | 400 KB    | ##################################### | 100% \u001b[A\u001b[A\u001b[A\n",
      "scikit-learn-1.2.2   | 7.7 MB    | #############                         |  35% \u001b[A\n",
      "\n",
      "jupyter_client-7.4.9 | 208 KB    | ##################################### | 100% \u001b[A\u001b[A\n",
      "\n",
      "scipy-1.10.1         | 23.7 MB   | ########9                             |  24% \u001b[A\u001b[A\n",
      "\n",
      "scipy-1.10.1         | 23.7 MB   | ######################8               |  62% \u001b[A\u001b[A\n",
      "\n",
      "\n",
      "\n",
      "\n",
      "lightgbm-3.3.5       | 1.7 MB    | 3                                     |   1% \u001b[A\u001b[A\u001b[A\u001b[A\u001b[A\n",
      "scikit-learn-1.2.2   | 7.7 MB    | ##################################### | 100% \u001b[A\n",
      "scikit-learn-1.2.2   | 7.7 MB    | ##################################### | 100% \u001b[A\n",
      "\n",
      "scipy-1.10.1         | 23.7 MB   | ################################4     |  88% \u001b[A\u001b[A\n",
      "\n",
      "\n",
      "\n",
      "\n",
      "lightgbm-3.3.5       | 1.7 MB    | ####6                                 |  13% \u001b[A\u001b[A\u001b[A\u001b[A\u001b[A\n",
      "\n",
      "\n",
      "\n",
      "\n",
      "lightgbm-3.3.5       | 1.7 MB    | #########3                            |  25% \u001b[A\u001b[A\u001b[A\u001b[A\u001b[A\n",
      "\n",
      "\n",
      "\n",
      "\n",
      "lightgbm-3.3.5       | 1.7 MB    | #############9                        |  38% \u001b[A\u001b[A\u001b[A\u001b[A\u001b[A\n",
      "\n",
      "scipy-1.10.1         | 23.7 MB   | ##################################### | 100% \u001b[A\u001b[A\n",
      "\n",
      "\n",
      "\n",
      "\n",
      "lightgbm-3.3.5       | 1.7 MB    | ########################6             |  66% \u001b[A\u001b[A\u001b[A\u001b[A\u001b[A\n",
      "\n",
      "\n",
      "\n",
      "\n",
      "lightgbm-3.3.5       | 1.7 MB    | #################################9    |  92% \u001b[A\u001b[A\u001b[A\u001b[A\u001b[A\n",
      "\n",
      "\n",
      "\n",
      "\n",
      "                                                                                \u001b[A\u001b[A\u001b[A\u001b[A\u001b[A\n",
      "                                                                                \u001b[A\n",
      "\n",
      "                                                                                \u001b[A\u001b[A\n",
      "\n",
      "\n",
      "                                                                                \u001b[A\u001b[A\u001b[A\n",
      "\n",
      "\n",
      "\n",
      "                                                                                \u001b[A\u001b[A\u001b[A\u001b[A\n",
      "\n",
      "\n",
      "\n",
      "\n",
      "                                                                                \u001b[A\u001b[A\u001b[A\u001b[A\u001b[A\n",
      "Preparing transaction: done\n",
      "Verifying transaction: done\n",
      "Executing transaction: - \n",
      "\n",
      "    Installed package of scikit-learn can be accelerated using scikit-learn-intelex.\n",
      "    More details are available here: https://intel.github.io/scikit-learn-intelex\n",
      "\n",
      "    For example:\n",
      "\n",
      "        $ conda install scikit-learn-intelex\n",
      "        $ python -m sklearnex my_application.py\n",
      "\n",
      "    \n",
      "\n",
      "done\n",
      "\n",
      "Note: you may need to restart the kernel to use updated packages.\n"
     ]
    }
   ],
   "source": [
    "conda install lightgbm"
   ]
  },
  {
   "cell_type": "code",
   "execution_count": 7,
   "id": "94d76b1c",
   "metadata": {
    "ExecuteTime": {
     "start_time": "2023-07-30T11:31:04.833Z"
    },
    "scrolled": true
   },
   "outputs": [
    {
     "name": "stdout",
     "output_type": "stream",
     "text": [
      "Collecting optuna\n",
      "  Downloading optuna-3.2.0-py3-none-any.whl (390 kB)\n",
      "\u001b[2K     \u001b[90m━━━━━━━━━━━━━━━━━━━━━━━━━━━━━━━━━━━━━━\u001b[0m \u001b[32m390.6/390.6 kB\u001b[0m \u001b[31m13.4 MB/s\u001b[0m eta \u001b[36m0:00:00\u001b[0m\n",
      "\u001b[?25hCollecting alembic>=1.5.0 (from optuna)\n",
      "  Downloading alembic-1.11.1-py3-none-any.whl (224 kB)\n",
      "\u001b[2K     \u001b[90m━━━━━━━━━━━━━━━━━━━━━━━━━━━━━━━━━━━━━━\u001b[0m \u001b[32m224.5/224.5 kB\u001b[0m \u001b[31m17.4 MB/s\u001b[0m eta \u001b[36m0:00:00\u001b[0m\n",
      "\u001b[?25hCollecting cmaes>=0.9.1 (from optuna)\n",
      "  Downloading cmaes-0.10.0-py3-none-any.whl (29 kB)\n",
      "Collecting colorlog (from optuna)\n",
      "  Downloading colorlog-6.7.0-py2.py3-none-any.whl (11 kB)\n",
      "Requirement already satisfied: numpy in /home/t2user2/.conda/envs/pybook/lib/python3.10/site-packages (from optuna) (1.25.0)\n",
      "Requirement already satisfied: packaging>=20.0 in /home/t2user2/.conda/envs/pybook/lib/python3.10/site-packages (from optuna) (23.0)\n",
      "Collecting sqlalchemy>=1.3.0 (from optuna)\n",
      "  Downloading SQLAlchemy-2.0.19-cp310-cp310-manylinux_2_17_x86_64.manylinux2014_x86_64.whl (2.7 MB)\n",
      "\u001b[2K     \u001b[90m━━━━━━━━━━━━━━━━━━━━━━━━━━━━━━━━━━━━━━━━\u001b[0m \u001b[32m2.7/2.7 MB\u001b[0m \u001b[31m55.2 MB/s\u001b[0m eta \u001b[36m0:00:00\u001b[0m:00:01\u001b[0m\n",
      "\u001b[?25hCollecting tqdm (from optuna)\n",
      "  Downloading tqdm-4.65.0-py3-none-any.whl (77 kB)\n",
      "\u001b[2K     \u001b[90m━━━━━━━━━━━━━━━━━━━━━━━━━━━━━━━━━━━━━━━━\u001b[0m \u001b[32m77.1/77.1 kB\u001b[0m \u001b[31m6.2 MB/s\u001b[0m eta \u001b[36m0:00:00\u001b[0m\n",
      "\u001b[?25hRequirement already satisfied: PyYAML in /home/t2user2/.conda/envs/pybook/lib/python3.10/site-packages (from optuna) (6.0)\n",
      "Collecting Mako (from alembic>=1.5.0->optuna)\n",
      "  Downloading Mako-1.2.4-py3-none-any.whl (78 kB)\n",
      "\u001b[2K     \u001b[90m━━━━━━━━━━━━━━━━━━━━━━━━━━━━━━━━━━━━━━━━\u001b[0m \u001b[32m78.7/78.7 kB\u001b[0m \u001b[31m6.4 MB/s\u001b[0m eta \u001b[36m0:00:00\u001b[0m\n",
      "\u001b[?25hRequirement already satisfied: typing-extensions>=4 in /home/t2user2/.conda/envs/pybook/lib/python3.10/site-packages (from alembic>=1.5.0->optuna) (4.6.3)\n",
      "Collecting greenlet!=0.4.17 (from sqlalchemy>=1.3.0->optuna)\n",
      "  Downloading greenlet-2.0.2-cp310-cp310-manylinux_2_17_x86_64.manylinux2014_x86_64.whl (613 kB)\n",
      "\u001b[2K     \u001b[90m━━━━━━━━━━━━━━━━━━━━━━━━━━━━━━━━━━━━━━\u001b[0m \u001b[32m613.7/613.7 kB\u001b[0m \u001b[31m41.3 MB/s\u001b[0m eta \u001b[36m0:00:00\u001b[0m\n",
      "\u001b[?25hRequirement already satisfied: MarkupSafe>=0.9.2 in /home/t2user2/.conda/envs/pybook/lib/python3.10/site-packages (from Mako->alembic>=1.5.0->optuna) (2.1.1)\n",
      "Installing collected packages: tqdm, Mako, greenlet, colorlog, cmaes, sqlalchemy, alembic, optuna\n",
      "Successfully installed Mako-1.2.4 alembic-1.11.1 cmaes-0.10.0 colorlog-6.7.0 greenlet-2.0.2 optuna-3.2.0 sqlalchemy-2.0.19 tqdm-4.65.0\n"
     ]
    }
   ],
   "source": [
    "!pip install optuna"
   ]
  },
  {
   "cell_type": "code",
   "execution_count": 8,
   "id": "742f8c5c",
   "metadata": {
    "ExecuteTime": {
     "start_time": "2023-07-30T11:31:04.835Z"
    },
    "scrolled": false
   },
   "outputs": [
    {
     "name": "stdout",
     "output_type": "stream",
     "text": [
      "Collecting pyqt5\n",
      "  Downloading PyQt5-5.15.9-cp37-abi3-manylinux_2_17_x86_64.whl (8.4 MB)\n",
      "\u001b[2K     \u001b[90m━━━━━━━━━━━━━━━━━━━━━━━━━━━━━━━━━━━━━━━━\u001b[0m \u001b[32m8.4/8.4 MB\u001b[0m \u001b[31m48.6 MB/s\u001b[0m eta \u001b[36m0:00:00\u001b[0m00:01\u001b[0m00:01\u001b[0m\n",
      "\u001b[?25hCollecting pyqtwebengine\n",
      "  Downloading PyQtWebEngine-5.15.6-cp37-abi3-manylinux1_x86_64.whl (230 kB)\n",
      "\u001b[2K     \u001b[90m━━━━━━━━━━━━━━━━━━━━━━━━━━━━━━━━━━━━━━\u001b[0m \u001b[32m230.4/230.4 kB\u001b[0m \u001b[31m17.6 MB/s\u001b[0m eta \u001b[36m0:00:00\u001b[0m\n",
      "\u001b[?25hRequirement already satisfied: PyQt5-sip<13,>=12.11 in /home/t2user2/.conda/envs/pybook/lib/python3.10/site-packages/PyQt5_sip-12.11.0-py3.10-linux-x86_64.egg (from pyqt5) (12.11.0)\n",
      "Collecting PyQt5-Qt5>=5.15.2 (from pyqt5)\n",
      "  Downloading PyQt5_Qt5-5.15.2-py3-none-manylinux2014_x86_64.whl (59.9 MB)\n",
      "\u001b[2K     \u001b[90m━━━━━━━━━━━━━━━━━━━━━━━━━━━━━━━━━━━━━━━━\u001b[0m \u001b[32m59.9/59.9 MB\u001b[0m \u001b[31m51.1 MB/s\u001b[0m eta \u001b[36m0:00:00\u001b[0m00:01\u001b[0m00:01\u001b[0m\n",
      "\u001b[?25hCollecting PyQtWebEngine-Qt5>=5.15.0 (from pyqtwebengine)\n",
      "  Downloading PyQtWebEngine_Qt5-5.15.2-py3-none-manylinux2014_x86_64.whl (67.5 MB)\n",
      "\u001b[2K     \u001b[90m━━━━━━━━━━━━━━━━━━━━━━━━━━━━━━━━━━━━━━━━\u001b[0m \u001b[32m67.5/67.5 MB\u001b[0m \u001b[31m53.5 MB/s\u001b[0m eta \u001b[36m0:00:00\u001b[0m00:01\u001b[0m00:01\u001b[0m\n",
      "\u001b[?25hInstalling collected packages: PyQtWebEngine-Qt5, PyQt5-Qt5, pyqt5, pyqtwebengine\n",
      "Successfully installed PyQt5-Qt5-5.15.2 PyQtWebEngine-Qt5-5.15.2 pyqt5-5.15.9 pyqtwebengine-5.15.6\n"
     ]
    }
   ],
   "source": [
    "!pip install pyqt5 pyqtwebengine\n"
   ]
  },
  {
   "cell_type": "code",
   "execution_count": 9,
   "id": "e8af93fd",
   "metadata": {
    "ExecuteTime": {
     "start_time": "2023-07-30T11:31:04.836Z"
    }
   },
   "outputs": [
    {
     "name": "stdout",
     "output_type": "stream",
     "text": [
      "Collecting pyqt5==5.12\n",
      "  Downloading PyQt5-5.12-5.12.1_a-cp35.cp36.cp37.cp38-abi3-manylinux1_x86_64.whl (61.1 MB)\n",
      "\u001b[2K     \u001b[90m━━━━━━━━━━━━━━━━━━━━━━━━━━━━━━━━━━━━━━━━\u001b[0m \u001b[32m61.1/61.1 MB\u001b[0m \u001b[31m27.8 MB/s\u001b[0m eta \u001b[36m0:00:00\u001b[0m00:01\u001b[0m00:01\u001b[0m\n",
      "\u001b[?25hCollecting pyqtwebengine==5.12\n",
      "  Downloading PyQtWebEngine-5.12-5.12.1-cp35.cp36.cp37.cp38-abi3-manylinux1_x86_64.whl (61.0 MB)\n",
      "\u001b[2K     \u001b[90m━━━━━━━━━━━━━━━━━━━━━━━━━━━━━━━━━━━━━━━━\u001b[0m \u001b[32m61.0/61.0 MB\u001b[0m \u001b[31m6.9 MB/s\u001b[0m eta \u001b[36m0:00:00\u001b[0m00:01\u001b[0m00:01\u001b[0mm\n",
      "\u001b[?25hINFO: pip is looking at multiple versions of pyqt5 to determine which version is compatible with other requirements. This could take a while.\n",
      "\u001b[31mERROR: Could not find a version that satisfies the requirement PyQt5_sip<4.20,>=4.19.14 (from pyqt5) (from versions: 12.7.0, 12.7.1, 12.7.2, 12.8.0, 12.8.1, 12.9.0, 12.9.1, 12.10.1, 12.11.0, 12.11.1, 12.12.0, 12.12.1, 12.12.2)\u001b[0m\u001b[31m\n",
      "\u001b[0m\u001b[31mERROR: No matching distribution found for PyQt5_sip<4.20,>=4.19.14\u001b[0m\u001b[31m\n",
      "\u001b[0mNote: you may need to restart the kernel to use updated packages.\n"
     ]
    }
   ],
   "source": [
    "pip install pyqt5==5.12 pyqtwebengine==5.12\n"
   ]
  },
  {
   "cell_type": "code",
   "execution_count": 10,
   "id": "dadcae29",
   "metadata": {
    "ExecuteTime": {
     "start_time": "2023-07-30T11:31:04.837Z"
    }
   },
   "outputs": [
    {
     "name": "stdout",
     "output_type": "stream",
     "text": [
      "Collecting spyder\n",
      "  Downloading spyder-5.4.4-py3-none-any.whl (14.9 MB)\n",
      "\u001b[2K     \u001b[90m━━━━━━━━━━━━━━━━━━━━━━━━━━━━━━━━━━━━━━━━\u001b[0m \u001b[32m14.9/14.9 MB\u001b[0m \u001b[31m71.3 MB/s\u001b[0m eta \u001b[36m0:00:00\u001b[0m00:01\u001b[0m00:01\u001b[0m\n",
      "\u001b[?25hCollecting atomicwrites>=1.2.0 (from spyder)\n",
      "  Downloading atomicwrites-1.4.1.tar.gz (14 kB)\n",
      "  Preparing metadata (setup.py) ... \u001b[?25ldone\n",
      "\u001b[?25hCollecting chardet>=2.0.0 (from spyder)\n",
      "  Downloading chardet-5.1.0-py3-none-any.whl (199 kB)\n",
      "\u001b[2K     \u001b[90m━━━━━━━━━━━━━━━━━━━━━━━━━━━━━━━━━━━━━━\u001b[0m \u001b[32m199.1/199.1 kB\u001b[0m \u001b[31m25.1 MB/s\u001b[0m eta \u001b[36m0:00:00\u001b[0m\n",
      "\u001b[?25hCollecting cloudpickle>=0.5.0 (from spyder)\n",
      "  Downloading cloudpickle-2.2.1-py3-none-any.whl (25 kB)\n",
      "Collecting cookiecutter>=1.6.0 (from spyder)\n",
      "  Downloading cookiecutter-2.2.3-py3-none-any.whl (39 kB)\n",
      "Collecting diff-match-patch>=20181111 (from spyder)\n",
      "  Downloading diff_match_patch-20230430-py3-none-any.whl (42 kB)\n",
      "\u001b[2K     \u001b[90m━━━━━━━━━━━━━━━━━━━━━━━━━━━━━━━━━━━━━━━━\u001b[0m \u001b[32m42.8/42.8 kB\u001b[0m \u001b[31m3.7 MB/s\u001b[0m eta \u001b[36m0:00:00\u001b[0m\n",
      "\u001b[?25hCollecting intervaltree>=3.0.2 (from spyder)\n",
      "  Downloading intervaltree-3.1.0.tar.gz (32 kB)\n",
      "  Preparing metadata (setup.py) ... \u001b[?25ldone\n",
      "\u001b[?25hCollecting ipython!=8.10.0,!=8.11.0,!=8.12.0,!=8.12.1,!=8.8.0,!=8.9.0,<9.0.0,>=7.31.1 (from spyder)\n",
      "  Downloading ipython-8.14.0-py3-none-any.whl (798 kB)\n",
      "\u001b[2K     \u001b[90m━━━━━━━━━━━━━━━━━━━━━━━━━━━━━━━━━━━━━━\u001b[0m \u001b[32m798.7/798.7 kB\u001b[0m \u001b[31m45.2 MB/s\u001b[0m eta \u001b[36m0:00:00\u001b[0m\n",
      "\u001b[?25hRequirement already satisfied: jedi<0.19.0,>=0.17.2 in /home/t2user2/.conda/envs/pybook/lib/python3.10/site-packages (from spyder) (0.18.1)\n",
      "Collecting jellyfish>=0.7 (from spyder)\n",
      "  Downloading jellyfish-1.0.0-cp310-cp310-manylinux_2_17_x86_64.manylinux2014_x86_64.whl (1.2 MB)\n",
      "\u001b[2K     \u001b[90m━━━━━━━━━━━━━━━━━━━━━━━━━━━━━━━━━━━━━━━━\u001b[0m \u001b[32m1.2/1.2 MB\u001b[0m \u001b[31m56.1 MB/s\u001b[0m eta \u001b[36m0:00:00\u001b[0m\n",
      "\u001b[?25hRequirement already satisfied: jsonschema>=3.2.0 in /home/t2user2/.conda/envs/pybook/lib/python3.10/site-packages (from spyder) (4.17.3)\n",
      "Collecting keyring>=17.0.0 (from spyder)\n",
      "  Downloading keyring-24.2.0-py3-none-any.whl (37 kB)\n",
      "Requirement already satisfied: nbconvert>=4.0 in /home/t2user2/.conda/envs/pybook/lib/python3.10/site-packages (from spyder) (6.5.4)\n",
      "Collecting numpydoc>=0.6.0 (from spyder)\n",
      "  Downloading numpydoc-1.5.0-py3-none-any.whl (52 kB)\n",
      "\u001b[2K     \u001b[90m━━━━━━━━━━━━━━━━━━━━━━━━━━━━━━━━━━━━━━━━\u001b[0m \u001b[32m52.4/52.4 kB\u001b[0m \u001b[31m4.5 MB/s\u001b[0m eta \u001b[36m0:00:00\u001b[0m\n",
      "\u001b[?25hRequirement already satisfied: parso<0.9.0,>=0.7.0 in /home/t2user2/.conda/envs/pybook/lib/python3.10/site-packages (from spyder) (0.8.3)\n",
      "Requirement already satisfied: pexpect>=4.4.0 in /home/t2user2/.conda/envs/pybook/lib/python3.10/site-packages (from spyder) (4.8.0)\n",
      "Requirement already satisfied: pickleshare>=0.4 in /home/t2user2/.conda/envs/pybook/lib/python3.10/site-packages (from spyder) (0.7.5)\n",
      "Requirement already satisfied: psutil>=5.3 in /home/t2user2/.conda/envs/pybook/lib/python3.10/site-packages (from spyder) (5.9.0)\n",
      "Requirement already satisfied: pygments>=2.0 in /home/t2user2/.conda/envs/pybook/lib/python3.10/site-packages (from spyder) (2.15.1)\n",
      "Collecting pylint<3.0,>=2.5.0 (from spyder)\n",
      "  Downloading pylint-2.17.5-py3-none-any.whl (536 kB)\n",
      "\u001b[2K     \u001b[90m━━━━━━━━━━━━━━━━━━━━━━━━━━━━━━━━━━━━━━\u001b[0m \u001b[32m536.7/536.7 kB\u001b[0m \u001b[31m35.2 MB/s\u001b[0m eta \u001b[36m0:00:00\u001b[0m\n",
      "\u001b[?25hCollecting pylint-venv>=3.0.2 (from spyder)\n",
      "  Downloading pylint_venv-3.0.2-py3-none-any.whl (5.0 kB)\n",
      "Collecting python-lsp-black<3.0.0,>=1.2.0 (from spyder)\n",
      "  Downloading python_lsp_black-1.3.0-py3-none-any.whl (6.3 kB)\n",
      "Collecting pyls-spyder>=0.4.0 (from spyder)\n",
      "  Downloading pyls_spyder-0.4.0-py3-none-any.whl (8.1 kB)\n",
      "Requirement already satisfied: pyqt5<5.16 in /home/t2user2/.conda/envs/pybook/lib/python3.10/site-packages (from spyder) (5.15.9)\n",
      "Requirement already satisfied: pyqtwebengine<5.16 in /home/t2user2/.conda/envs/pybook/lib/python3.10/site-packages (from spyder) (5.15.6)\n",
      "Collecting python-lsp-server[all]<1.8.0,>=1.7.4 (from spyder)\n",
      "  Downloading python_lsp_server-1.7.4-py3-none-any.whl (69 kB)\n",
      "\u001b[2K     \u001b[90m━━━━━━━━━━━━━━━━━━━━━━━━━━━━━━━━━━━━━━━━\u001b[0m \u001b[32m69.4/69.4 kB\u001b[0m \u001b[31m5.2 MB/s\u001b[0m eta \u001b[36m0:00:00\u001b[0m\n",
      "\u001b[?25hRequirement already satisfied: pyzmq>=22.1.0 in /home/t2user2/.conda/envs/pybook/lib/python3.10/site-packages (from spyder) (23.2.0)\n",
      "Collecting qdarkstyle<3.2.0,>=3.0.2 (from spyder)\n",
      "  Downloading QDarkStyle-3.1-py2.py3-none-any.whl (870 kB)\n",
      "\u001b[2K     \u001b[90m━━━━━━━━━━━━━━━━━━━━━━━━━━━━━━━━━━━━━━\u001b[0m \u001b[32m870.2/870.2 kB\u001b[0m \u001b[31m47.7 MB/s\u001b[0m eta \u001b[36m0:00:00\u001b[0m\n",
      "\u001b[?25hCollecting qstylizer>=0.2.2 (from spyder)\n",
      "  Downloading qstylizer-0.2.2-py2.py3-none-any.whl (15 kB)\n",
      "Collecting qtawesome>=1.2.1 (from spyder)\n",
      "  Downloading QtAwesome-1.2.3-py3-none-any.whl (2.3 MB)\n",
      "\u001b[2K     \u001b[90m━━━━━━━━━━━━━━━━━━━━━━━━━━━━━━━━━━━━━━━━\u001b[0m \u001b[32m2.3/2.3 MB\u001b[0m \u001b[31m68.6 MB/s\u001b[0m eta \u001b[36m0:00:00\u001b[0m\n",
      "\u001b[?25hRequirement already satisfied: qtconsole<5.5.0,>=5.4.2 in /home/t2user2/.conda/envs/pybook/lib/python3.10/site-packages (from spyder) (5.4.2)\n",
      "Requirement already satisfied: qtpy>=2.1.0 in /home/t2user2/.conda/envs/pybook/lib/python3.10/site-packages (from spyder) (2.2.0)\n",
      "Collecting rtree>=0.9.7 (from spyder)\n",
      "  Downloading Rtree-1.0.1-cp310-cp310-manylinux_2_17_x86_64.manylinux2014_x86_64.whl (1.0 MB)\n",
      "\u001b[2K     \u001b[90m━━━━━━━━━━━━━━━━━━━━━━━━━━━━━━━━━━━━━━━━\u001b[0m \u001b[32m1.0/1.0 MB\u001b[0m \u001b[31m59.5 MB/s\u001b[0m eta \u001b[36m0:00:00\u001b[0m\n",
      "\u001b[?25hRequirement already satisfied: setuptools>=49.6.0 in /home/t2user2/.conda/envs/pybook/lib/python3.10/site-packages (from spyder) (67.8.0)\n",
      "Collecting sphinx>=0.6.6 (from spyder)\n",
      "  Downloading sphinx-7.1.1-py3-none-any.whl (3.2 MB)\n",
      "\u001b[2K     \u001b[90m━━━━━━━━━━━━━━━━━━━━━━━━━━━━━━━━━━━━━━━━\u001b[0m \u001b[32m3.2/3.2 MB\u001b[0m \u001b[31m71.5 MB/s\u001b[0m eta \u001b[36m0:00:00\u001b[0m00:01\u001b[0m\n",
      "\u001b[?25hCollecting spyder-kernels<2.5.0,>=2.4.4 (from spyder)\n",
      "  Downloading spyder_kernels-2.4.4-py2.py3-none-any.whl (98 kB)\n",
      "\u001b[2K     \u001b[90m━━━━━━━━━━━━━━━━━━━━━━━━━━━━━━━━━━━━━━━━\u001b[0m \u001b[32m98.4/98.4 kB\u001b[0m \u001b[31m12.9 MB/s\u001b[0m eta \u001b[36m0:00:00\u001b[0m\n",
      "\u001b[?25hCollecting textdistance>=4.2.0 (from spyder)\n",
      "  Downloading textdistance-4.5.0-py3-none-any.whl (31 kB)\n",
      "Collecting three-merge>=0.1.1 (from spyder)\n",
      "  Downloading three_merge-0.1.1-py2.py3-none-any.whl (6.4 kB)\n",
      "Collecting watchdog>=0.10.3 (from spyder)\n",
      "  Downloading watchdog-3.0.0-py3-none-manylinux2014_x86_64.whl (82 kB)\n",
      "\u001b[2K     \u001b[90m━━━━━━━━━━━━━━━━━━━━━━━━━━━━━━━━━━━━━━━━\u001b[0m \u001b[32m82.1/82.1 kB\u001b[0m \u001b[31m10.4 MB/s\u001b[0m eta \u001b[36m0:00:00\u001b[0m\n",
      "\u001b[?25hCollecting pyxdg>=0.26 (from spyder)\n",
      "  Downloading pyxdg-0.28-py2.py3-none-any.whl (49 kB)\n",
      "\u001b[2K     \u001b[90m━━━━━━━━━━━━━━━━━━━━━━━━━━━━━━━━━━━━━━━━\u001b[0m \u001b[32m49.5/49.5 kB\u001b[0m \u001b[31m5.0 MB/s\u001b[0m eta \u001b[36m0:00:00\u001b[0m\n",
      "\u001b[?25hCollecting binaryornot>=0.4.4 (from cookiecutter>=1.6.0->spyder)\n",
      "  Downloading binaryornot-0.4.4-py2.py3-none-any.whl (9.0 kB)\n",
      "Requirement already satisfied: Jinja2<4.0.0,>=2.7 in /home/t2user2/.conda/envs/pybook/lib/python3.10/site-packages (from cookiecutter>=1.6.0->spyder) (3.1.2)\n",
      "Collecting click<9.0.0,>=7.0 (from cookiecutter>=1.6.0->spyder)\n",
      "  Downloading click-8.1.6-py3-none-any.whl (97 kB)\n",
      "\u001b[2K     \u001b[90m━━━━━━━━━━━━━━━━━━━━━━━━━━━━━━━━━━━━━━━━\u001b[0m \u001b[32m97.9/97.9 kB\u001b[0m \u001b[31m13.0 MB/s\u001b[0m eta \u001b[36m0:00:00\u001b[0m\n",
      "\u001b[?25hRequirement already satisfied: pyyaml>=5.3.1 in /home/t2user2/.conda/envs/pybook/lib/python3.10/site-packages (from cookiecutter>=1.6.0->spyder) (6.0)\n",
      "Collecting python-slugify>=4.0.0 (from cookiecutter>=1.6.0->spyder)\n",
      "  Downloading python_slugify-8.0.1-py2.py3-none-any.whl (9.7 kB)\n",
      "Requirement already satisfied: requests>=2.23.0 in /home/t2user2/.conda/envs/pybook/lib/python3.10/site-packages (from cookiecutter>=1.6.0->spyder) (2.29.0)\n",
      "Requirement already satisfied: arrow in /home/t2user2/.conda/envs/pybook/lib/python3.10/site-packages (from cookiecutter>=1.6.0->spyder) (1.2.3)\n",
      "Collecting sortedcontainers<3.0,>=2.0 (from intervaltree>=3.0.2->spyder)\n",
      "  Downloading sortedcontainers-2.4.0-py2.py3-none-any.whl (29 kB)\n",
      "Requirement already satisfied: backcall in /home/t2user2/.conda/envs/pybook/lib/python3.10/site-packages (from ipython!=8.10.0,!=8.11.0,!=8.12.0,!=8.12.1,!=8.8.0,!=8.9.0,<9.0.0,>=7.31.1->spyder) (0.2.0)\n",
      "Requirement already satisfied: decorator in /home/t2user2/.conda/envs/pybook/lib/python3.10/site-packages (from ipython!=8.10.0,!=8.11.0,!=8.12.0,!=8.12.1,!=8.8.0,!=8.9.0,<9.0.0,>=7.31.1->spyder) (5.1.1)\n",
      "Requirement already satisfied: matplotlib-inline in /home/t2user2/.conda/envs/pybook/lib/python3.10/site-packages (from ipython!=8.10.0,!=8.11.0,!=8.12.0,!=8.12.1,!=8.8.0,!=8.9.0,<9.0.0,>=7.31.1->spyder) (0.1.6)\n",
      "Requirement already satisfied: prompt-toolkit!=3.0.37,<3.1.0,>=3.0.30 in /home/t2user2/.conda/envs/pybook/lib/python3.10/site-packages (from ipython!=8.10.0,!=8.11.0,!=8.12.0,!=8.12.1,!=8.8.0,!=8.9.0,<9.0.0,>=7.31.1->spyder) (3.0.36)\n",
      "Requirement already satisfied: stack-data in /home/t2user2/.conda/envs/pybook/lib/python3.10/site-packages (from ipython!=8.10.0,!=8.11.0,!=8.12.0,!=8.12.1,!=8.8.0,!=8.9.0,<9.0.0,>=7.31.1->spyder) (0.2.0)\n",
      "Requirement already satisfied: traitlets>=5 in /home/t2user2/.conda/envs/pybook/lib/python3.10/site-packages (from ipython!=8.10.0,!=8.11.0,!=8.12.0,!=8.12.1,!=8.8.0,!=8.9.0,<9.0.0,>=7.31.1->spyder) (5.7.1)\n"
     ]
    },
    {
     "name": "stdout",
     "output_type": "stream",
     "text": [
      "Requirement already satisfied: attrs>=17.4.0 in /home/t2user2/.conda/envs/pybook/lib/python3.10/site-packages (from jsonschema>=3.2.0->spyder) (22.1.0)\n",
      "Requirement already satisfied: pyrsistent!=0.17.0,!=0.17.1,!=0.17.2,>=0.14.0 in /home/t2user2/.conda/envs/pybook/lib/python3.10/site-packages (from jsonschema>=3.2.0->spyder) (0.18.0)\n",
      "Collecting jaraco.classes (from keyring>=17.0.0->spyder)\n",
      "  Downloading jaraco.classes-3.3.0-py3-none-any.whl (5.9 kB)\n",
      "Collecting importlib-metadata>=4.11.4 (from keyring>=17.0.0->spyder)\n",
      "  Downloading importlib_metadata-6.8.0-py3-none-any.whl (22 kB)\n",
      "Collecting SecretStorage>=3.2 (from keyring>=17.0.0->spyder)\n",
      "  Downloading SecretStorage-3.3.3-py3-none-any.whl (15 kB)\n",
      "Collecting jeepney>=0.4.2 (from keyring>=17.0.0->spyder)\n",
      "  Downloading jeepney-0.8.0-py3-none-any.whl (48 kB)\n",
      "\u001b[2K     \u001b[90m━━━━━━━━━━━━━━━━━━━━━━━━━━━━━━━━━━━━━━━━\u001b[0m \u001b[32m48.4/48.4 kB\u001b[0m \u001b[31m5.4 MB/s\u001b[0m eta \u001b[36m0:00:00\u001b[0m\n",
      "\u001b[?25hRequirement already satisfied: lxml in /home/t2user2/.conda/envs/pybook/lib/python3.10/site-packages (from nbconvert>=4.0->spyder) (4.9.2)\n",
      "Requirement already satisfied: beautifulsoup4 in /home/t2user2/.conda/envs/pybook/lib/python3.10/site-packages (from nbconvert>=4.0->spyder) (4.12.2)\n",
      "Requirement already satisfied: bleach in /home/t2user2/.conda/envs/pybook/lib/python3.10/site-packages (from nbconvert>=4.0->spyder) (4.1.0)\n",
      "Requirement already satisfied: defusedxml in /home/t2user2/.conda/envs/pybook/lib/python3.10/site-packages (from nbconvert>=4.0->spyder) (0.7.1)\n",
      "Requirement already satisfied: entrypoints>=0.2.2 in /home/t2user2/.conda/envs/pybook/lib/python3.10/site-packages (from nbconvert>=4.0->spyder) (0.4)\n",
      "Requirement already satisfied: jupyter-core>=4.7 in /home/t2user2/.conda/envs/pybook/lib/python3.10/site-packages (from nbconvert>=4.0->spyder) (5.3.0)\n",
      "Requirement already satisfied: jupyterlab-pygments in /home/t2user2/.conda/envs/pybook/lib/python3.10/site-packages (from nbconvert>=4.0->spyder) (0.1.2)\n",
      "Requirement already satisfied: MarkupSafe>=2.0 in /home/t2user2/.conda/envs/pybook/lib/python3.10/site-packages (from nbconvert>=4.0->spyder) (2.1.1)\n",
      "Requirement already satisfied: mistune<2,>=0.8.1 in /home/t2user2/.conda/envs/pybook/lib/python3.10/site-packages (from nbconvert>=4.0->spyder) (0.8.4)\n",
      "Requirement already satisfied: nbclient>=0.5.0 in /home/t2user2/.conda/envs/pybook/lib/python3.10/site-packages (from nbconvert>=4.0->spyder) (0.5.13)\n",
      "Requirement already satisfied: nbformat>=5.1 in /home/t2user2/.conda/envs/pybook/lib/python3.10/site-packages (from nbconvert>=4.0->spyder) (5.7.0)\n",
      "Requirement already satisfied: packaging in /home/t2user2/.conda/envs/pybook/lib/python3.10/site-packages (from nbconvert>=4.0->spyder) (23.0)\n",
      "Requirement already satisfied: pandocfilters>=1.4.1 in /home/t2user2/.conda/envs/pybook/lib/python3.10/site-packages (from nbconvert>=4.0->spyder) (1.5.0)\n",
      "Requirement already satisfied: tinycss2 in /home/t2user2/.conda/envs/pybook/lib/python3.10/site-packages (from nbconvert>=4.0->spyder) (1.2.1)\n",
      "Requirement already satisfied: ptyprocess>=0.5 in /home/t2user2/.conda/envs/pybook/lib/python3.10/site-packages (from pexpect>=4.4.0->spyder) (0.7.0)\n",
      "Requirement already satisfied: platformdirs>=2.2.0 in /home/t2user2/.conda/envs/pybook/lib/python3.10/site-packages (from pylint<3.0,>=2.5.0->spyder) (2.5.2)\n",
      "Collecting astroid<=2.17.0-dev0,>=2.15.6 (from pylint<3.0,>=2.5.0->spyder)\n",
      "  Downloading astroid-2.15.6-py3-none-any.whl (278 kB)\n",
      "\u001b[2K     \u001b[90m━━━━━━━━━━━━━━━━━━━━━━━━━━━━━━━━━━━━━━\u001b[0m \u001b[32m278.3/278.3 kB\u001b[0m \u001b[31m32.4 MB/s\u001b[0m eta \u001b[36m0:00:00\u001b[0m\n",
      "\u001b[?25hCollecting isort<6,>=4.2.5 (from pylint<3.0,>=2.5.0->spyder)\n",
      "  Downloading isort-5.12.0-py3-none-any.whl (91 kB)\n",
      "\u001b[2K     \u001b[90m━━━━━━━━━━━━━━━━━━━━━━━━━━━━━━━━━━━━━━━━\u001b[0m \u001b[32m91.2/91.2 kB\u001b[0m \u001b[31m11.7 MB/s\u001b[0m eta \u001b[36m0:00:00\u001b[0m\n",
      "\u001b[?25hCollecting mccabe<0.8,>=0.6 (from pylint<3.0,>=2.5.0->spyder)\n",
      "  Downloading mccabe-0.7.0-py2.py3-none-any.whl (7.3 kB)\n",
      "Collecting tomlkit>=0.10.1 (from pylint<3.0,>=2.5.0->spyder)\n",
      "  Downloading tomlkit-0.12.1-py3-none-any.whl (37 kB)\n",
      "Collecting dill>=0.2 (from pylint<3.0,>=2.5.0->spyder)\n",
      "  Downloading dill-0.3.7-py3-none-any.whl (115 kB)\n",
      "\u001b[2K     \u001b[90m━━━━━━━━━━━━━━━━━━━━━━━━━━━━━━━━━━━━━━\u001b[0m \u001b[32m115.3/115.3 kB\u001b[0m \u001b[31m15.2 MB/s\u001b[0m eta \u001b[36m0:00:00\u001b[0m\n",
      "\u001b[?25hRequirement already satisfied: tomli>=1.1.0 in /home/t2user2/.conda/envs/pybook/lib/python3.10/site-packages (from pylint<3.0,>=2.5.0->spyder) (2.0.1)\n",
      "Requirement already satisfied: PyQt5-sip<13,>=12.11 in /home/t2user2/.conda/envs/pybook/lib/python3.10/site-packages/PyQt5_sip-12.11.0-py3.10-linux-x86_64.egg (from pyqt5<5.16->spyder) (12.11.0)\n",
      "Requirement already satisfied: PyQt5-Qt5>=5.15.2 in /home/t2user2/.conda/envs/pybook/lib/python3.10/site-packages (from pyqt5<5.16->spyder) (5.15.2)\n",
      "Requirement already satisfied: PyQtWebEngine-Qt5>=5.15.0 in /home/t2user2/.conda/envs/pybook/lib/python3.10/site-packages (from pyqtwebengine<5.16->spyder) (5.15.2)\n",
      "Collecting black>=22.3.0 (from python-lsp-black<3.0.0,>=1.2.0->spyder)\n",
      "  Downloading black-23.7.0-cp310-cp310-manylinux_2_17_x86_64.manylinux2014_x86_64.whl (1.7 MB)\n",
      "\u001b[2K     \u001b[90m━━━━━━━━━━━━━━━━━━━━━━━━━━━━━━━━━━━━━━━━\u001b[0m \u001b[32m1.7/1.7 MB\u001b[0m \u001b[31m69.5 MB/s\u001b[0m eta \u001b[36m0:00:00\u001b[0m\n",
      "\u001b[?25hCollecting python-lsp-jsonrpc>=1.0.0 (from python-lsp-server[all]<1.8.0,>=1.7.4->spyder)\n",
      "  Downloading python_lsp_jsonrpc-1.0.0-py3-none-any.whl (8.5 kB)\n",
      "Collecting pluggy>=1.0.0 (from python-lsp-server[all]<1.8.0,>=1.7.4->spyder)\n",
      "  Downloading pluggy-1.2.0-py3-none-any.whl (17 kB)\n",
      "Collecting docstring-to-markdown (from python-lsp-server[all]<1.8.0,>=1.7.4->spyder)\n",
      "  Downloading docstring_to_markdown-0.12-py3-none-any.whl (18 kB)\n",
      "Collecting ujson>=3.0.0 (from python-lsp-server[all]<1.8.0,>=1.7.4->spyder)\n",
      "  Downloading ujson-5.8.0-cp310-cp310-manylinux_2_17_x86_64.manylinux2014_x86_64.whl (53 kB)\n",
      "\u001b[2K     \u001b[90m━━━━━━━━━━━━━━━━━━━━━━━━━━━━━━━━━━━━━━━━\u001b[0m \u001b[32m53.9/53.9 kB\u001b[0m \u001b[31m6.7 MB/s\u001b[0m eta \u001b[36m0:00:00\u001b[0m\n",
      "\u001b[?25hCollecting autopep8<2.1.0,>=1.6.0 (from python-lsp-server[all]<1.8.0,>=1.7.4->spyder)\n",
      "  Downloading autopep8-2.0.2-py2.py3-none-any.whl (45 kB)\n",
      "\u001b[2K     \u001b[90m━━━━━━━━━━━━━━━━━━━━━━━━━━━━━━━━━━━━━━━━\u001b[0m \u001b[32m45.2/45.2 kB\u001b[0m \u001b[31m5.4 MB/s\u001b[0m eta \u001b[36m0:00:00\u001b[0m\n",
      "\u001b[?25hCollecting flake8<7,>=5.0.0 (from python-lsp-server[all]<1.8.0,>=1.7.4->spyder)\n",
      "  Downloading flake8-6.1.0-py2.py3-none-any.whl (58 kB)\n",
      "\u001b[2K     \u001b[90m━━━━━━━━━━━━━━━━━━━━━━━━━━━━━━━━━━━━━━━━\u001b[0m \u001b[32m58.3/58.3 kB\u001b[0m \u001b[31m7.4 MB/s\u001b[0m eta \u001b[36m0:00:00\u001b[0m\n",
      "\u001b[?25hCollecting pycodestyle<2.11.0,>=2.9.0 (from python-lsp-server[all]<1.8.0,>=1.7.4->spyder)\n",
      "  Downloading pycodestyle-2.10.0-py2.py3-none-any.whl (41 kB)\n",
      "\u001b[2K     \u001b[90m━━━━━━━━━━━━━━━━━━━━━━━━━━━━━━━━━━━━━━━━\u001b[0m \u001b[32m41.3/41.3 kB\u001b[0m \u001b[31m4.7 MB/s\u001b[0m eta \u001b[36m0:00:00\u001b[0m\n",
      "\u001b[?25hCollecting pydocstyle<6.4.0,>=6.3.0 (from python-lsp-server[all]<1.8.0,>=1.7.4->spyder)\n",
      "  Downloading pydocstyle-6.3.0-py3-none-any.whl (38 kB)\n",
      "Collecting pyflakes<3.1.0,>=2.5.0 (from python-lsp-server[all]<1.8.0,>=1.7.4->spyder)\n",
      "  Downloading pyflakes-3.0.1-py2.py3-none-any.whl (62 kB)\n",
      "\u001b[2K     \u001b[90m━━━━━━━━━━━━━━━━━━━━━━━━━━━━━━━━━━━━━━━━\u001b[0m \u001b[32m62.8/62.8 kB\u001b[0m \u001b[31m7.7 MB/s\u001b[0m eta \u001b[36m0:00:00\u001b[0m\n",
      "\u001b[?25hCollecting rope>1.2.0 (from python-lsp-server[all]<1.8.0,>=1.7.4->spyder)\n",
      "  Downloading rope-1.9.0-py3-none-any.whl (203 kB)\n",
      "\u001b[2K     \u001b[90m━━━━━━━━━━━━━━━━━━━━━━━━━━━━━━━━━━━━━━\u001b[0m \u001b[32m204.0/204.0 kB\u001b[0m \u001b[31m25.3 MB/s\u001b[0m eta \u001b[36m0:00:00\u001b[0m\n",
      "\u001b[?25hCollecting yapf>=0.33.0 (from python-lsp-server[all]<1.8.0,>=1.7.4->spyder)\n",
      "  Downloading yapf-0.40.1-py3-none-any.whl (250 kB)\n",
      "\u001b[2K     \u001b[90m━━━━━━━━━━━━━━━━━━━━━━━━━━━━━━━━━━━━━━\u001b[0m \u001b[32m250.3/250.3 kB\u001b[0m \u001b[31m28.9 MB/s\u001b[0m eta \u001b[36m0:00:00\u001b[0m\n",
      "\u001b[?25hCollecting whatthepatch<2.0.0,>=1.0.2 (from python-lsp-server[all]<1.8.0,>=1.7.4->spyder)\n",
      "  Downloading whatthepatch-1.0.5-py3-none-any.whl (11 kB)\n",
      "Collecting inflection<1,>0.3.0 (from qstylizer>=0.2.2->spyder)\n",
      "  Downloading inflection-0.5.1-py2.py3-none-any.whl (9.5 kB)\n",
      "Requirement already satisfied: ipython-genutils in /home/t2user2/.conda/envs/pybook/lib/python3.10/site-packages (from qtconsole<5.5.0,>=5.4.2->spyder) (0.2.0)\n",
      "Requirement already satisfied: jupyter-client>=4.1 in /home/t2user2/.conda/envs/pybook/lib/python3.10/site-packages (from qtconsole<5.5.0,>=5.4.2->spyder) (7.4.9)\n",
      "Requirement already satisfied: ipykernel>=4.1 in /home/t2user2/.conda/envs/pybook/lib/python3.10/site-packages (from qtconsole<5.5.0,>=5.4.2->spyder) (6.19.2)\n"
     ]
    },
    {
     "name": "stdout",
     "output_type": "stream",
     "text": [
      "Collecting sphinxcontrib-applehelp (from sphinx>=0.6.6->spyder)\n",
      "  Downloading sphinxcontrib_applehelp-1.0.4-py3-none-any.whl (120 kB)\n",
      "\u001b[2K     \u001b[90m━━━━━━━━━━━━━━━━━━━━━━━━━━━━━━━━━━━━━━\u001b[0m \u001b[32m120.6/120.6 kB\u001b[0m \u001b[31m12.9 MB/s\u001b[0m eta \u001b[36m0:00:00\u001b[0m\n",
      "\u001b[?25hCollecting sphinxcontrib-devhelp (from sphinx>=0.6.6->spyder)\n",
      "  Downloading sphinxcontrib_devhelp-1.0.2-py2.py3-none-any.whl (84 kB)\n",
      "\u001b[2K     \u001b[90m━━━━━━━━━━━━━━━━━━━━━━━━━━━━━━━━━━━━━━━━\u001b[0m \u001b[32m84.7/84.7 kB\u001b[0m \u001b[31m8.9 MB/s\u001b[0m eta \u001b[36m0:00:00\u001b[0m\n",
      "\u001b[?25hCollecting sphinxcontrib-jsmath (from sphinx>=0.6.6->spyder)\n",
      "  Downloading sphinxcontrib_jsmath-1.0.1-py2.py3-none-any.whl (5.1 kB)\n",
      "Collecting sphinxcontrib-htmlhelp>=2.0.0 (from sphinx>=0.6.6->spyder)\n",
      "  Downloading sphinxcontrib_htmlhelp-2.0.1-py3-none-any.whl (99 kB)\n",
      "\u001b[2K     \u001b[90m━━━━━━━━━━━━━━━━━━━━━━━━━━━━━━━━━━━━━━━━\u001b[0m \u001b[32m99.8/99.8 kB\u001b[0m \u001b[31m10.9 MB/s\u001b[0m eta \u001b[36m0:00:00\u001b[0m\n",
      "\u001b[?25hCollecting sphinxcontrib-serializinghtml>=1.1.5 (from sphinx>=0.6.6->spyder)\n",
      "  Downloading sphinxcontrib_serializinghtml-1.1.5-py2.py3-none-any.whl (94 kB)\n",
      "\u001b[2K     \u001b[90m━━━━━━━━━━━━━━━━━━━━━━━━━━━━━━━━━━━━━━━━\u001b[0m \u001b[32m94.0/94.0 kB\u001b[0m \u001b[31m10.2 MB/s\u001b[0m eta \u001b[36m0:00:00\u001b[0m\n",
      "\u001b[?25hCollecting sphinxcontrib-qthelp (from sphinx>=0.6.6->spyder)\n",
      "  Downloading sphinxcontrib_qthelp-1.0.3-py2.py3-none-any.whl (90 kB)\n",
      "\u001b[2K     \u001b[90m━━━━━━━━━━━━━━━━━━━━━━━━━━━━━━━━━━━━━━━━\u001b[0m \u001b[32m90.6/90.6 kB\u001b[0m \u001b[31m9.8 MB/s\u001b[0m eta \u001b[36m0:00:00\u001b[0m\n",
      "\u001b[?25hCollecting docutils<0.21,>=0.18.1 (from sphinx>=0.6.6->spyder)\n",
      "  Downloading docutils-0.20.1-py3-none-any.whl (572 kB)\n",
      "\u001b[2K     \u001b[90m━━━━━━━━━━━━━━━━━━━━━━━━━━━━━━━━━━━━━━\u001b[0m \u001b[32m572.7/572.7 kB\u001b[0m \u001b[31m48.9 MB/s\u001b[0m eta \u001b[36m0:00:00\u001b[0m\n",
      "\u001b[?25hCollecting snowballstemmer>=2.0 (from sphinx>=0.6.6->spyder)\n",
      "  Downloading snowballstemmer-2.2.0-py2.py3-none-any.whl (93 kB)\n",
      "\u001b[2K     \u001b[90m━━━━━━━━━━━━━━━━━━━━━━━━━━━━━━━━━━━━━━━━\u001b[0m \u001b[32m93.0/93.0 kB\u001b[0m \u001b[31m10.2 MB/s\u001b[0m eta \u001b[36m0:00:00\u001b[0m\n",
      "\u001b[?25hRequirement already satisfied: babel>=2.9 in /home/t2user2/.conda/envs/pybook/lib/python3.10/site-packages (from sphinx>=0.6.6->spyder) (2.11.0)\n",
      "Collecting alabaster<0.8,>=0.7 (from sphinx>=0.6.6->spyder)\n",
      "  Downloading alabaster-0.7.13-py3-none-any.whl (13 kB)\n",
      "Collecting imagesize>=1.3 (from sphinx>=0.6.6->spyder)\n",
      "  Downloading imagesize-1.4.1-py2.py3-none-any.whl (8.8 kB)\n",
      "Collecting wurlitzer>=1.0.3 (from spyder-kernels<2.5.0,>=2.4.4->spyder)\n",
      "  Downloading wurlitzer-3.0.3-py3-none-any.whl (7.3 kB)\n",
      "Collecting ipykernel>=4.1 (from qtconsole<5.5.0,>=5.4.2->spyder)\n",
      "  Downloading ipykernel-6.25.0-py3-none-any.whl (153 kB)\n",
      "\u001b[2K     \u001b[90m━━━━━━━━━━━━━━━━━━━━━━━━━━━━━━━━━━━━━━\u001b[0m \u001b[32m153.9/153.9 kB\u001b[0m \u001b[31m19.5 MB/s\u001b[0m eta \u001b[36m0:00:00\u001b[0m\n",
      "\u001b[?25hCollecting lazy-object-proxy>=1.4.0 (from astroid<=2.17.0-dev0,>=2.15.6->pylint<3.0,>=2.5.0->spyder)\n",
      "  Downloading lazy_object_proxy-1.9.0-cp310-cp310-manylinux_2_5_x86_64.manylinux1_x86_64.manylinux_2_17_x86_64.manylinux2014_x86_64.whl (63 kB)\n",
      "\u001b[2K     \u001b[90m━━━━━━━━━━━━━━━━━━━━━━━━━━━━━━━━━━━━━━━━\u001b[0m \u001b[32m63.3/63.3 kB\u001b[0m \u001b[31m7.9 MB/s\u001b[0m eta \u001b[36m0:00:00\u001b[0m\n",
      "\u001b[?25hCollecting wrapt<2,>=1.11 (from astroid<=2.17.0-dev0,>=2.15.6->pylint<3.0,>=2.5.0->spyder)\n",
      "  Downloading wrapt-1.15.0-cp310-cp310-manylinux_2_5_x86_64.manylinux1_x86_64.manylinux_2_17_x86_64.manylinux2014_x86_64.whl (78 kB)\n",
      "\u001b[2K     \u001b[90m━━━━━━━━━━━━━━━━━━━━━━━━━━━━━━━━━━━━━━━━\u001b[0m \u001b[32m78.4/78.4 kB\u001b[0m \u001b[31m10.0 MB/s\u001b[0m eta \u001b[36m0:00:00\u001b[0m\n",
      "\u001b[?25hRequirement already satisfied: typing-extensions>=4.0.0 in /home/t2user2/.conda/envs/pybook/lib/python3.10/site-packages (from astroid<=2.17.0-dev0,>=2.15.6->pylint<3.0,>=2.5.0->spyder) (4.6.3)\n",
      "Requirement already satisfied: pytz>=2015.7 in /home/t2user2/.conda/envs/pybook/lib/python3.10/site-packages (from babel>=2.9->sphinx>=0.6.6->spyder) (2022.7)\n",
      "Collecting mypy-extensions>=0.4.3 (from black>=22.3.0->python-lsp-black<3.0.0,>=1.2.0->spyder)\n",
      "  Downloading mypy_extensions-1.0.0-py3-none-any.whl (4.7 kB)\n",
      "Collecting pathspec>=0.9.0 (from black>=22.3.0->python-lsp-black<3.0.0,>=1.2.0->spyder)\n",
      "  Downloading pathspec-0.11.2-py3-none-any.whl (29 kB)\n",
      "INFO: pip is looking at multiple versions of flake8 to determine which version is compatible with other requirements. This could take a while.\n",
      "Collecting flake8<7,>=5.0.0 (from python-lsp-server[all]<1.8.0,>=1.7.4->spyder)\n",
      "  Downloading flake8-6.0.0-py2.py3-none-any.whl (57 kB)\n",
      "\u001b[2K     \u001b[90m━━━━━━━━━━━━━━━━━━━━━━━━━━━━━━━━━━━━━━━━\u001b[0m \u001b[32m57.8/57.8 kB\u001b[0m \u001b[31m7.1 MB/s\u001b[0m eta \u001b[36m0:00:00\u001b[0m\n",
      "\u001b[?25hCollecting zipp>=0.5 (from importlib-metadata>=4.11.4->keyring>=17.0.0->spyder)\n",
      "  Downloading zipp-3.16.2-py3-none-any.whl (7.2 kB)\n",
      "Requirement already satisfied: comm>=0.1.1 in /home/t2user2/.conda/envs/pybook/lib/python3.10/site-packages (from ipykernel>=4.1->qtconsole<5.5.0,>=5.4.2->spyder) (0.1.2)\n",
      "Collecting debugpy>=1.6.5 (from ipykernel>=4.1->qtconsole<5.5.0,>=5.4.2->spyder)\n",
      "  Downloading debugpy-1.6.7-cp310-cp310-manylinux_2_17_x86_64.manylinux2014_x86_64.whl (3.0 MB)\n",
      "\u001b[2K     \u001b[90m━━━━━━━━━━━━━━━━━━━━━━━━━━━━━━━━━━━━━━━━\u001b[0m \u001b[32m3.0/3.0 MB\u001b[0m \u001b[31m73.4 MB/s\u001b[0m eta \u001b[36m0:00:00\u001b[0m:00:01\u001b[0m\n",
      "\u001b[?25hRequirement already satisfied: nest-asyncio in /home/t2user2/.conda/envs/pybook/lib/python3.10/site-packages (from ipykernel>=4.1->qtconsole<5.5.0,>=5.4.2->spyder) (1.5.6)\n",
      "Requirement already satisfied: tornado>=6.1 in /home/t2user2/.conda/envs/pybook/lib/python3.10/site-packages (from ipykernel>=4.1->qtconsole<5.5.0,>=5.4.2->spyder) (6.2)\n",
      "Requirement already satisfied: python-dateutil>=2.8.2 in /home/t2user2/.conda/envs/pybook/lib/python3.10/site-packages (from jupyter-client>=4.1->qtconsole<5.5.0,>=5.4.2->spyder) (2.8.2)\n",
      "Requirement already satisfied: fastjsonschema in /home/t2user2/.conda/envs/pybook/lib/python3.10/site-packages (from nbformat>=5.1->nbconvert>=4.0->spyder) (2.16.2)\n",
      "Requirement already satisfied: wcwidth in /home/t2user2/.conda/envs/pybook/lib/python3.10/site-packages (from prompt-toolkit!=3.0.37,<3.1.0,>=3.0.30->ipython!=8.10.0,!=8.11.0,!=8.12.0,!=8.12.1,!=8.8.0,!=8.9.0,<9.0.0,>=7.31.1->spyder) (0.2.5)\n",
      "Collecting text-unidecode>=1.3 (from python-slugify>=4.0.0->cookiecutter>=1.6.0->spyder)\n",
      "  Downloading text_unidecode-1.3-py2.py3-none-any.whl (78 kB)\n",
      "\u001b[2K     \u001b[90m━━━━━━━━━━━━━━━━━━━━━━━━━━━━━━━━━━━━━━━━\u001b[0m \u001b[32m78.2/78.2 kB\u001b[0m \u001b[31m8.1 MB/s\u001b[0m eta \u001b[36m0:00:00\u001b[0m\n",
      "\u001b[?25hRequirement already satisfied: charset-normalizer<4,>=2 in /home/t2user2/.conda/envs/pybook/lib/python3.10/site-packages (from requests>=2.23.0->cookiecutter>=1.6.0->spyder) (2.0.4)\n",
      "Requirement already satisfied: idna<4,>=2.5 in /home/t2user2/.conda/envs/pybook/lib/python3.10/site-packages (from requests>=2.23.0->cookiecutter>=1.6.0->spyder) (3.4)\n",
      "Requirement already satisfied: urllib3<1.27,>=1.21.1 in /home/t2user2/.conda/envs/pybook/lib/python3.10/site-packages (from requests>=2.23.0->cookiecutter>=1.6.0->spyder) (1.26.16)\n",
      "Requirement already satisfied: certifi>=2017.4.17 in /home/t2user2/.conda/envs/pybook/lib/python3.10/site-packages (from requests>=2.23.0->cookiecutter>=1.6.0->spyder) (2023.7.22)\n",
      "Collecting pytoolconfig[global]>=1.2.2 (from rope>1.2.0->python-lsp-server[all]<1.8.0,>=1.7.4->spyder)\n",
      "  Downloading pytoolconfig-1.2.5-py3-none-any.whl (16 kB)\n",
      "Requirement already satisfied: cryptography>=2.0 in /home/t2user2/.conda/envs/pybook/lib/python3.10/site-packages (from SecretStorage>=3.2->keyring>=17.0.0->spyder) (39.0.1)\n",
      "Requirement already satisfied: webencodings>=0.4 in /home/t2user2/.conda/envs/pybook/lib/python3.10/site-packages (from tinycss2->nbconvert>=4.0->spyder) (0.5.1)\n",
      "Collecting platformdirs>=2.2.0 (from pylint<3.0,>=2.5.0->spyder)\n",
      "  Downloading platformdirs-3.10.0-py3-none-any.whl (17 kB)\n",
      "Requirement already satisfied: soupsieve>1.2 in /home/t2user2/.conda/envs/pybook/lib/python3.10/site-packages (from beautifulsoup4->nbconvert>=4.0->spyder) (2.4)\n",
      "Requirement already satisfied: six>=1.9.0 in /home/t2user2/.conda/envs/pybook/lib/python3.10/site-packages (from bleach->nbconvert>=4.0->spyder) (1.16.0)\n",
      "Collecting more-itertools (from jaraco.classes->keyring>=17.0.0->spyder)\n",
      "  Downloading more_itertools-10.0.0-py3-none-any.whl (55 kB)\n",
      "\u001b[2K     \u001b[90m━━━━━━━━━━━━━━━━━━━━━━━━━━━━━━━━━━━━━━━━\u001b[0m \u001b[32m55.3/55.3 kB\u001b[0m \u001b[31m6.7 MB/s\u001b[0m eta \u001b[36m0:00:00\u001b[0m\n"
     ]
    },
    {
     "name": "stdout",
     "output_type": "stream",
     "text": [
      "\u001b[?25hRequirement already satisfied: executing in /home/t2user2/.conda/envs/pybook/lib/python3.10/site-packages (from stack-data->ipython!=8.10.0,!=8.11.0,!=8.12.0,!=8.12.1,!=8.8.0,!=8.9.0,<9.0.0,>=7.31.1->spyder) (0.8.3)\n",
      "Requirement already satisfied: asttokens in /home/t2user2/.conda/envs/pybook/lib/python3.10/site-packages (from stack-data->ipython!=8.10.0,!=8.11.0,!=8.12.0,!=8.12.1,!=8.8.0,!=8.9.0,<9.0.0,>=7.31.1->spyder) (2.0.5)\n",
      "Requirement already satisfied: pure-eval in /home/t2user2/.conda/envs/pybook/lib/python3.10/site-packages (from stack-data->ipython!=8.10.0,!=8.11.0,!=8.12.0,!=8.12.1,!=8.8.0,!=8.9.0,<9.0.0,>=7.31.1->spyder) (0.2.2)\n",
      "Requirement already satisfied: cffi>=1.12 in /home/t2user2/.conda/envs/pybook/lib/python3.10/site-packages (from cryptography>=2.0->SecretStorage>=3.2->keyring>=17.0.0->spyder) (1.15.1)\n",
      "Requirement already satisfied: pycparser in /home/t2user2/.conda/envs/pybook/lib/python3.10/site-packages (from cffi>=1.12->cryptography>=2.0->SecretStorage>=3.2->keyring>=17.0.0->spyder) (2.21)\n",
      "Building wheels for collected packages: atomicwrites, intervaltree\n",
      "  Building wheel for atomicwrites (setup.py) ... \u001b[?25ldone\n",
      "\u001b[?25h  Created wheel for atomicwrites: filename=atomicwrites-1.4.1-py2.py3-none-any.whl size=6942 sha256=7e2e8bc94b4a6cbe08cf5e4d589f2528dbca3348af0fa49abf94f43540e16335\n",
      "  Stored in directory: /home/t2user2/.cache/pip/wheels/34/07/0b/33b15f68736109f72ea0bb2499521d87312b932620737447a2\n",
      "  Building wheel for intervaltree (setup.py) ... \u001b[?25ldone\n",
      "\u001b[?25h  Created wheel for intervaltree: filename=intervaltree-3.1.0-py2.py3-none-any.whl size=26098 sha256=35ba0e930b34ab724e8dd4aebe0e3a66b1f61107d6443aa942f0f12299e78056\n",
      "  Stored in directory: /home/t2user2/.cache/pip/wheels/fa/80/8c/43488a924a046b733b64de3fac99252674c892a4c3801c0a61\n",
      "Successfully built atomicwrites intervaltree\n",
      "Installing collected packages: text-unidecode, sortedcontainers, snowballstemmer, pyxdg, zipp, wurlitzer, wrapt, whatthepatch, watchdog, ujson, tomlkit, textdistance, sphinxcontrib-serializinghtml, sphinxcontrib-qthelp, sphinxcontrib-jsmath, sphinxcontrib-htmlhelp, sphinxcontrib-devhelp, sphinxcontrib-applehelp, rtree, pytoolconfig, python-slugify, pylint-venv, pyflakes, pydocstyle, pycodestyle, pluggy, platformdirs, pathspec, mypy-extensions, more-itertools, mccabe, lazy-object-proxy, jellyfish, jeepney, isort, intervaltree, inflection, imagesize, docutils, docstring-to-markdown, dill, diff-match-patch, debugpy, cloudpickle, click, chardet, atomicwrites, alabaster, three-merge, sphinx, qtawesome, qstylizer, qdarkstyle, python-lsp-jsonrpc, jaraco.classes, importlib-metadata, flake8, black, binaryornot, autopep8, astroid, yapf, SecretStorage, rope, python-lsp-server, pylint, numpydoc, ipython, cookiecutter, python-lsp-black, pyls-spyder, keyring, ipykernel, spyder-kernels, spyder\n",
      "  Attempting uninstall: platformdirs\n",
      "    Found existing installation: platformdirs 2.5.2\n",
      "    Uninstalling platformdirs-2.5.2:\n",
      "      Successfully uninstalled platformdirs-2.5.2\n",
      "  Attempting uninstall: debugpy\n",
      "    Found existing installation: debugpy 1.5.1\n",
      "    Uninstalling debugpy-1.5.1:\n",
      "      Successfully uninstalled debugpy-1.5.1\n",
      "  Attempting uninstall: ipython\n",
      "    Found existing installation: ipython 8.12.0\n",
      "    Uninstalling ipython-8.12.0:\n",
      "      Successfully uninstalled ipython-8.12.0\n",
      "  Attempting uninstall: ipykernel\n",
      "    Found existing installation: ipykernel 6.19.2\n",
      "    Uninstalling ipykernel-6.19.2:\n",
      "      Successfully uninstalled ipykernel-6.19.2\n",
      "Successfully installed SecretStorage-3.3.3 alabaster-0.7.13 astroid-2.15.6 atomicwrites-1.4.1 autopep8-2.0.2 binaryornot-0.4.4 black-23.7.0 chardet-5.1.0 click-8.1.6 cloudpickle-2.2.1 cookiecutter-2.2.3 debugpy-1.6.7 diff-match-patch-20230430 dill-0.3.7 docstring-to-markdown-0.12 docutils-0.20.1 flake8-6.0.0 imagesize-1.4.1 importlib-metadata-6.8.0 inflection-0.5.1 intervaltree-3.1.0 ipykernel-6.25.0 ipython-8.14.0 isort-5.12.0 jaraco.classes-3.3.0 jeepney-0.8.0 jellyfish-1.0.0 keyring-24.2.0 lazy-object-proxy-1.9.0 mccabe-0.7.0 more-itertools-10.0.0 mypy-extensions-1.0.0 numpydoc-1.5.0 pathspec-0.11.2 platformdirs-3.10.0 pluggy-1.2.0 pycodestyle-2.10.0 pydocstyle-6.3.0 pyflakes-3.0.1 pylint-2.17.5 pylint-venv-3.0.2 pyls-spyder-0.4.0 python-lsp-black-1.3.0 python-lsp-jsonrpc-1.0.0 python-lsp-server-1.7.4 python-slugify-8.0.1 pytoolconfig-1.2.5 pyxdg-0.28 qdarkstyle-3.1 qstylizer-0.2.2 qtawesome-1.2.3 rope-1.9.0 rtree-1.0.1 snowballstemmer-2.2.0 sortedcontainers-2.4.0 sphinx-7.1.1 sphinxcontrib-applehelp-1.0.4 sphinxcontrib-devhelp-1.0.2 sphinxcontrib-htmlhelp-2.0.1 sphinxcontrib-jsmath-1.0.1 sphinxcontrib-qthelp-1.0.3 sphinxcontrib-serializinghtml-1.1.5 spyder-5.4.4 spyder-kernels-2.4.4 text-unidecode-1.3 textdistance-4.5.0 three-merge-0.1.1 tomlkit-0.12.1 ujson-5.8.0 watchdog-3.0.0 whatthepatch-1.0.5 wrapt-1.15.0 wurlitzer-3.0.3 yapf-0.40.1 zipp-3.16.2\n",
      "Note: you may need to restart the kernel to use updated packages.\n"
     ]
    }
   ],
   "source": [
    "pip install spyder\n"
   ]
  },
  {
   "cell_type": "code",
   "execution_count": 11,
   "id": "8fb9cbd8",
   "metadata": {
    "ExecuteTime": {
     "start_time": "2023-07-30T11:31:04.839Z"
    }
   },
   "outputs": [
    {
     "name": "stdout",
     "output_type": "stream",
     "text": [
      "Collecting pycaret\n",
      "  Downloading pycaret-3.0.4-py3-none-any.whl (484 kB)\n",
      "\u001b[2K     \u001b[90m━━━━━━━━━━━━━━━━━━━━━━━━━━━━━━━━━━━━━━\u001b[0m \u001b[32m484.4/484.4 kB\u001b[0m \u001b[31m17.1 MB/s\u001b[0m eta \u001b[36m0:00:00\u001b[0m\n",
      "\u001b[?25hRequirement already satisfied: ipython>=5.5.0 in /home/t2user2/.conda/envs/pybook/lib/python3.10/site-packages (from pycaret) (8.14.0)\n",
      "Requirement already satisfied: ipywidgets>=7.6.5 in /home/t2user2/.conda/envs/pybook/lib/python3.10/site-packages (from pycaret) (8.0.4)\n",
      "Requirement already satisfied: tqdm>=4.62.0 in /home/t2user2/.conda/envs/pybook/lib/python3.10/site-packages (from pycaret) (4.65.0)\n",
      "Collecting numpy<1.24,>=1.21 (from pycaret)\n",
      "  Downloading numpy-1.23.5-cp310-cp310-manylinux_2_17_x86_64.manylinux2014_x86_64.whl (17.1 MB)\n",
      "\u001b[2K     \u001b[90m━━━━━━━━━━━━━━━━━━━━━━━━━━━━━━━━━━━━━━━━\u001b[0m \u001b[32m17.1/17.1 MB\u001b[0m \u001b[31m68.8 MB/s\u001b[0m eta \u001b[36m0:00:00\u001b[0m00:01\u001b[0m00:01\u001b[0m\n",
      "\u001b[?25hRequirement already satisfied: pandas<2.0.0,>=1.3.0 in /home/t2user2/.conda/envs/pybook/lib/python3.10/site-packages (from pycaret) (1.5.3)\n",
      "Requirement already satisfied: jinja2>=1.2 in /home/t2user2/.conda/envs/pybook/lib/python3.10/site-packages (from pycaret) (3.1.2)\n",
      "Requirement already satisfied: scipy<2.0.0 in /home/t2user2/.conda/envs/pybook/lib/python3.10/site-packages (from pycaret) (1.10.1)\n",
      "Requirement already satisfied: joblib>=1.2.0 in /home/t2user2/.conda/envs/pybook/lib/python3.10/site-packages (from pycaret) (1.2.0)\n",
      "Requirement already satisfied: scikit-learn<1.3.0,>=1.0 in /home/t2user2/.conda/envs/pybook/lib/python3.10/site-packages (from pycaret) (1.2.2)\n",
      "Collecting pyod>=1.0.8 (from pycaret)\n",
      "  Downloading pyod-1.1.0.tar.gz (153 kB)\n",
      "\u001b[2K     \u001b[90m━━━━━━━━━━━━━━━━━━━━━━━━━━━━━━━━━━━━━━\u001b[0m \u001b[32m153.4/153.4 kB\u001b[0m \u001b[31m12.3 MB/s\u001b[0m eta \u001b[36m0:00:00\u001b[0m\n",
      "\u001b[?25h  Preparing metadata (setup.py) ... \u001b[?25ldone\n",
      "\u001b[?25hCollecting imbalanced-learn>=0.8.1 (from pycaret)\n",
      "  Downloading imbalanced_learn-0.11.0-py3-none-any.whl (235 kB)\n",
      "\u001b[2K     \u001b[90m━━━━━━━━━━━━━━━━━━━━━━━━━━━━━━━━━━━━━━\u001b[0m \u001b[32m235.6/235.6 kB\u001b[0m \u001b[31m22.5 MB/s\u001b[0m eta \u001b[36m0:00:00\u001b[0m\n",
      "\u001b[?25hCollecting category-encoders>=2.4.0 (from pycaret)\n",
      "  Downloading category_encoders-2.6.1-py2.py3-none-any.whl (81 kB)\n",
      "\u001b[2K     \u001b[90m━━━━━━━━━━━━━━━━━━━━━━━━━━━━━━━━━━━━━━━━\u001b[0m \u001b[32m81.9/81.9 kB\u001b[0m \u001b[31m6.4 MB/s\u001b[0m eta \u001b[36m0:00:00\u001b[0m\n",
      "\u001b[?25hRequirement already satisfied: lightgbm>=3.0.0 in /home/t2user2/.conda/envs/pybook/lib/python3.10/site-packages (from pycaret) (3.3.5)\n",
      "Collecting numba>=0.55.0 (from pycaret)\n",
      "  Downloading numba-0.57.1-cp310-cp310-manylinux2014_x86_64.manylinux_2_17_x86_64.whl (3.6 MB)\n",
      "\u001b[2K     \u001b[90m━━━━━━━━━━━━━━━━━━━━━━━━━━━━━━━━━━━━━━━━\u001b[0m \u001b[32m3.6/3.6 MB\u001b[0m \u001b[31m77.0 MB/s\u001b[0m eta \u001b[36m0:00:00\u001b[0m:00:01\u001b[0m\n",
      "\u001b[?25hRequirement already satisfied: requests>=2.27.1 in /home/t2user2/.conda/envs/pybook/lib/python3.10/site-packages (from pycaret) (2.29.0)\n",
      "Requirement already satisfied: psutil>=5.9.0 in /home/t2user2/.conda/envs/pybook/lib/python3.10/site-packages (from pycaret) (5.9.0)\n",
      "Requirement already satisfied: markupsafe>=2.0.1 in /home/t2user2/.conda/envs/pybook/lib/python3.10/site-packages (from pycaret) (2.1.1)\n",
      "Requirement already satisfied: importlib-metadata>=4.12.0 in /home/t2user2/.conda/envs/pybook/lib/python3.10/site-packages (from pycaret) (6.8.0)\n",
      "Requirement already satisfied: nbformat>=4.2.0 in /home/t2user2/.conda/envs/pybook/lib/python3.10/site-packages (from pycaret) (5.7.0)\n",
      "Requirement already satisfied: cloudpickle in /home/t2user2/.conda/envs/pybook/lib/python3.10/site-packages (from pycaret) (2.2.1)\n",
      "Collecting deprecation>=2.1.0 (from pycaret)\n",
      "  Downloading deprecation-2.1.0-py2.py3-none-any.whl (11 kB)\n",
      "Collecting xxhash (from pycaret)\n",
      "  Downloading xxhash-3.3.0-cp310-cp310-manylinux_2_17_x86_64.manylinux2014_x86_64.whl (194 kB)\n",
      "\u001b[2K     \u001b[90m━━━━━━━━━━━━━━━━━━━━━━━━━━━━━━━━━━━━━━\u001b[0m \u001b[32m194.1/194.1 kB\u001b[0m \u001b[31m16.0 MB/s\u001b[0m eta \u001b[36m0:00:00\u001b[0m\n",
      "\u001b[?25hRequirement already satisfied: matplotlib>=3.3.0 in /home/t2user2/.conda/envs/pybook/lib/python3.10/site-packages (from pycaret) (3.7.1)\n",
      "Collecting scikit-plot>=0.3.7 (from pycaret)\n",
      "  Downloading scikit_plot-0.3.7-py3-none-any.whl (33 kB)\n",
      "Collecting yellowbrick>=1.4 (from pycaret)\n",
      "  Downloading yellowbrick-1.5-py3-none-any.whl (282 kB)\n",
      "\u001b[2K     \u001b[90m━━━━━━━━━━━━━━━━━━━━━━━━━━━━━━━━━━━━━━\u001b[0m \u001b[32m282.6/282.6 kB\u001b[0m \u001b[31m19.8 MB/s\u001b[0m eta \u001b[36m0:00:00\u001b[0m\n",
      "\u001b[?25hCollecting plotly>=5.0.0 (from pycaret)\n",
      "  Downloading plotly-5.15.0-py2.py3-none-any.whl (15.5 MB)\n",
      "\u001b[2K     \u001b[90m━━━━━━━━━━━━━━━━━━━━━━━━━━━━━━━━━━━━━━━━\u001b[0m \u001b[32m15.5/15.5 MB\u001b[0m \u001b[31m53.7 MB/s\u001b[0m eta \u001b[36m0:00:00\u001b[0m00:01\u001b[0m00:01\u001b[0m\n",
      "\u001b[?25hCollecting kaleido>=0.2.1 (from pycaret)\n",
      "  Downloading kaleido-0.2.1-py2.py3-none-manylinux1_x86_64.whl (79.9 MB)\n",
      "\u001b[2K     \u001b[90m━━━━━━━━━━━━━━━━━━━━━━━━━━━━━━━━━━━━━━━━\u001b[0m \u001b[32m79.9/79.9 MB\u001b[0m \u001b[31m21.2 MB/s\u001b[0m eta \u001b[36m0:00:00\u001b[0m00:01\u001b[0m00:01\u001b[0m\n",
      "\u001b[?25hCollecting schemdraw==0.15 (from pycaret)\n",
      "  Downloading schemdraw-0.15-py3-none-any.whl (106 kB)\n",
      "\u001b[2K     \u001b[90m━━━━━━━━━━━━━━━━━━━━━━━━━━━━━━━━━━━━━━\u001b[0m \u001b[32m106.8/106.8 kB\u001b[0m \u001b[31m12.4 MB/s\u001b[0m eta \u001b[36m0:00:00\u001b[0m\n",
      "\u001b[?25hCollecting plotly-resampler>=0.8.3.1 (from pycaret)\n",
      "  Downloading plotly_resampler-0.9.1-py3-none-any.whl (73 kB)\n",
      "\u001b[2K     \u001b[90m━━━━━━━━━━━━━━━━━━━━━━━━━━━━━━━━━━━━━━━━\u001b[0m \u001b[32m73.4/73.4 kB\u001b[0m \u001b[31m5.7 MB/s\u001b[0m eta \u001b[36m0:00:00\u001b[0m\n",
      "\u001b[?25hCollecting statsmodels>=0.12.1 (from pycaret)\n",
      "  Downloading statsmodels-0.14.0-cp310-cp310-manylinux_2_17_x86_64.manylinux2014_x86_64.whl (10.1 MB)\n",
      "\u001b[2K     \u001b[90m━━━━━━━━━━━━━━━━━━━━━━━━━━━━━━━━━━━━━━━━\u001b[0m \u001b[32m10.1/10.1 MB\u001b[0m \u001b[31m40.6 MB/s\u001b[0m eta \u001b[36m0:00:00\u001b[0m00:01\u001b[0m0:01\u001b[0mm\n",
      "\u001b[?25hCollecting sktime!=0.17.1,!=0.17.2,!=0.18.0,>=0.16.1 (from pycaret)\n",
      "  Downloading sktime-0.21.0-py3-none-any.whl (17.1 MB)\n",
      "\u001b[2K     \u001b[90m━━━━━━━━━━━━━━━━━━━━━━━━━━━━━━━━━━━━━━━━\u001b[0m \u001b[32m17.1/17.1 MB\u001b[0m \u001b[31m72.5 MB/s\u001b[0m eta \u001b[36m0:00:00\u001b[0m00:01\u001b[0m00:01\u001b[0m\n",
      "\u001b[?25hCollecting tbats>=1.1.3 (from pycaret)\n",
      "  Downloading tbats-1.1.3-py3-none-any.whl (44 kB)\n",
      "\u001b[2K     \u001b[90m━━━━━━━━━━━━━━━━━━━━━━━━━━━━━━━━━━━━━━━━\u001b[0m \u001b[32m44.0/44.0 kB\u001b[0m \u001b[31m2.8 MB/s\u001b[0m eta \u001b[36m0:00:00\u001b[0m\n",
      "\u001b[?25hCollecting pmdarima!=1.8.1,<3.0.0,>=1.8.0 (from pycaret)\n",
      "  Downloading pmdarima-2.0.3-cp310-cp310-manylinux_2_17_x86_64.manylinux2014_x86_64.manylinux_2_28_x86_64.whl (1.8 MB)\n",
      "\u001b[2K     \u001b[90m━━━━━━━━━━━━━━━━━━━━━━━━━━━━━━━━━━━━━━━━\u001b[0m \u001b[32m1.8/1.8 MB\u001b[0m \u001b[31m62.2 MB/s\u001b[0m eta \u001b[36m0:00:00\u001b[0m\n",
      "\u001b[?25hRequirement already satisfied: wurlitzer in /home/t2user2/.conda/envs/pybook/lib/python3.10/site-packages (from pycaret) (3.0.3)\n",
      "Collecting patsy>=0.5.1 (from category-encoders>=2.4.0->pycaret)\n",
      "  Downloading patsy-0.5.3-py2.py3-none-any.whl (233 kB)\n",
      "\u001b[2K     \u001b[90m━━━━━━━━━━━━━━━━━━━━━━━━━━━━━━━━━━━━━━\u001b[0m \u001b[32m233.8/233.8 kB\u001b[0m \u001b[31m29.1 MB/s\u001b[0m eta \u001b[36m0:00:00\u001b[0m\n",
      "\u001b[?25hRequirement already satisfied: packaging in /home/t2user2/.conda/envs/pybook/lib/python3.10/site-packages (from deprecation>=2.1.0->pycaret) (23.0)\n",
      "Requirement already satisfied: threadpoolctl>=2.0.0 in /home/t2user2/.conda/envs/pybook/lib/python3.10/site-packages (from imbalanced-learn>=0.8.1->pycaret) (2.2.0)\n",
      "Requirement already satisfied: zipp>=0.5 in /home/t2user2/.conda/envs/pybook/lib/python3.10/site-packages (from importlib-metadata>=4.12.0->pycaret) (3.16.2)\n",
      "Requirement already satisfied: backcall in /home/t2user2/.conda/envs/pybook/lib/python3.10/site-packages (from ipython>=5.5.0->pycaret) (0.2.0)\n",
      "Requirement already satisfied: decorator in /home/t2user2/.conda/envs/pybook/lib/python3.10/site-packages (from ipython>=5.5.0->pycaret) (5.1.1)\n",
      "Requirement already satisfied: jedi>=0.16 in /home/t2user2/.conda/envs/pybook/lib/python3.10/site-packages (from ipython>=5.5.0->pycaret) (0.18.1)\n",
      "Requirement already satisfied: matplotlib-inline in /home/t2user2/.conda/envs/pybook/lib/python3.10/site-packages (from ipython>=5.5.0->pycaret) (0.1.6)\n",
      "Requirement already satisfied: pickleshare in /home/t2user2/.conda/envs/pybook/lib/python3.10/site-packages (from ipython>=5.5.0->pycaret) (0.7.5)\n",
      "Requirement already satisfied: prompt-toolkit!=3.0.37,<3.1.0,>=3.0.30 in /home/t2user2/.conda/envs/pybook/lib/python3.10/site-packages (from ipython>=5.5.0->pycaret) (3.0.36)\n",
      "Requirement already satisfied: pygments>=2.4.0 in /home/t2user2/.conda/envs/pybook/lib/python3.10/site-packages (from ipython>=5.5.0->pycaret) (2.15.1)\n",
      "Requirement already satisfied: stack-data in /home/t2user2/.conda/envs/pybook/lib/python3.10/site-packages (from ipython>=5.5.0->pycaret) (0.2.0)\n",
      "Requirement already satisfied: traitlets>=5 in /home/t2user2/.conda/envs/pybook/lib/python3.10/site-packages (from ipython>=5.5.0->pycaret) (5.7.1)\n",
      "Requirement already satisfied: pexpect>4.3 in /home/t2user2/.conda/envs/pybook/lib/python3.10/site-packages (from ipython>=5.5.0->pycaret) (4.8.0)\n"
     ]
    },
    {
     "name": "stdout",
     "output_type": "stream",
     "text": [
      "Requirement already satisfied: ipykernel>=4.5.1 in /home/t2user2/.conda/envs/pybook/lib/python3.10/site-packages (from ipywidgets>=7.6.5->pycaret) (6.25.0)\n",
      "Requirement already satisfied: widgetsnbextension~=4.0 in /home/t2user2/.conda/envs/pybook/lib/python3.10/site-packages (from ipywidgets>=7.6.5->pycaret) (4.0.5)\n",
      "Requirement already satisfied: jupyterlab-widgets~=3.0 in /home/t2user2/.conda/envs/pybook/lib/python3.10/site-packages (from ipywidgets>=7.6.5->pycaret) (3.0.5)\n",
      "Requirement already satisfied: wheel in /home/t2user2/.conda/envs/pybook/lib/python3.10/site-packages (from lightgbm>=3.0.0->pycaret) (0.38.4)\n",
      "Requirement already satisfied: contourpy>=1.0.1 in /home/t2user2/.conda/envs/pybook/lib/python3.10/site-packages (from matplotlib>=3.3.0->pycaret) (1.0.5)\n",
      "Requirement already satisfied: cycler>=0.10 in /home/t2user2/.conda/envs/pybook/lib/python3.10/site-packages (from matplotlib>=3.3.0->pycaret) (0.11.0)\n",
      "Requirement already satisfied: fonttools>=4.22.0 in /home/t2user2/.conda/envs/pybook/lib/python3.10/site-packages (from matplotlib>=3.3.0->pycaret) (4.25.0)\n",
      "Requirement already satisfied: kiwisolver>=1.0.1 in /home/t2user2/.conda/envs/pybook/lib/python3.10/site-packages (from matplotlib>=3.3.0->pycaret) (1.4.4)\n",
      "Requirement already satisfied: pillow>=6.2.0 in /home/t2user2/.conda/envs/pybook/lib/python3.10/site-packages (from matplotlib>=3.3.0->pycaret) (9.4.0)\n",
      "Requirement already satisfied: pyparsing>=2.3.1 in /home/t2user2/.conda/envs/pybook/lib/python3.10/site-packages (from matplotlib>=3.3.0->pycaret) (3.0.9)\n",
      "Requirement already satisfied: python-dateutil>=2.7 in /home/t2user2/.conda/envs/pybook/lib/python3.10/site-packages (from matplotlib>=3.3.0->pycaret) (2.8.2)\n",
      "Requirement already satisfied: fastjsonschema in /home/t2user2/.conda/envs/pybook/lib/python3.10/site-packages (from nbformat>=4.2.0->pycaret) (2.16.2)\n",
      "Requirement already satisfied: jsonschema>=2.6 in /home/t2user2/.conda/envs/pybook/lib/python3.10/site-packages (from nbformat>=4.2.0->pycaret) (4.17.3)\n",
      "Requirement already satisfied: jupyter-core in /home/t2user2/.conda/envs/pybook/lib/python3.10/site-packages (from nbformat>=4.2.0->pycaret) (5.3.0)\n",
      "Collecting llvmlite<0.41,>=0.40.0dev0 (from numba>=0.55.0->pycaret)\n",
      "  Downloading llvmlite-0.40.1-cp310-cp310-manylinux_2_17_x86_64.manylinux2014_x86_64.whl (42.1 MB)\n",
      "\u001b[2K     \u001b[90m━━━━━━━━━━━━━━━━━━━━━━━━━━━━━━━━━━━━━━━━\u001b[0m \u001b[32m42.1/42.1 MB\u001b[0m \u001b[31m47.2 MB/s\u001b[0m eta \u001b[36m0:00:00\u001b[0m00:01\u001b[0m00:01\u001b[0m\n",
      "\u001b[?25hRequirement already satisfied: pytz>=2020.1 in /home/t2user2/.conda/envs/pybook/lib/python3.10/site-packages (from pandas<2.0.0,>=1.3.0->pycaret) (2022.7)\n",
      "Collecting tenacity>=6.2.0 (from plotly>=5.0.0->pycaret)\n",
      "  Downloading tenacity-8.2.2-py3-none-any.whl (24 kB)\n",
      "Collecting dash<3.0.0,>=2.11.0 (from plotly-resampler>=0.8.3.1->pycaret)\n",
      "  Downloading dash-2.11.1-py3-none-any.whl (10.4 MB)\n",
      "\u001b[2K     \u001b[90m━━━━━━━━━━━━━━━━━━━━━━━━━━━━━━━━━━━━━━━━\u001b[0m \u001b[32m10.4/10.4 MB\u001b[0m \u001b[31m77.1 MB/s\u001b[0m eta \u001b[36m0:00:00\u001b[0m00:01\u001b[0m0:01\u001b[0mm\n",
      "\u001b[?25hCollecting orjson<4.0.0,>=3.8.0 (from plotly-resampler>=0.8.3.1->pycaret)\n",
      "  Downloading orjson-3.9.2-cp310-cp310-manylinux_2_17_x86_64.manylinux2014_x86_64.whl (138 kB)\n",
      "\u001b[2K     \u001b[90m━━━━━━━━━━━━━━━━━━━━━━━━━━━━━━━━━━━━━━━\u001b[0m \u001b[32m138.7/138.7 kB\u001b[0m \u001b[31m8.3 MB/s\u001b[0m eta \u001b[36m0:00:00\u001b[0m\n",
      "\u001b[?25hCollecting trace-updater>=0.0.8 (from plotly-resampler>=0.8.3.1->pycaret)\n",
      "  Downloading trace_updater-0.0.9.1-py3-none-any.whl (185 kB)\n",
      "\u001b[2K     \u001b[90m━━━━━━━━━━━━━━━━━━━━━━━━━━━━━━━━━━━━━━\u001b[0m \u001b[32m185.2/185.2 kB\u001b[0m \u001b[31m20.4 MB/s\u001b[0m eta \u001b[36m0:00:00\u001b[0m\n",
      "\u001b[?25hCollecting tsdownsample==0.1.2 (from plotly-resampler>=0.8.3.1->pycaret)\n",
      "  Downloading tsdownsample-0.1.2-cp310-cp310-manylinux_2_17_x86_64.manylinux2014_x86_64.whl (2.3 MB)\n",
      "\u001b[2K     \u001b[90m━━━━━━━━━━━━━━━━━━━━━━━━━━━━━━━━━━━━━━━━\u001b[0m \u001b[32m2.3/2.3 MB\u001b[0m \u001b[31m75.7 MB/s\u001b[0m eta \u001b[36m0:00:00\u001b[0m\n",
      "\u001b[?25hCollecting Cython!=0.29.18,!=0.29.31,>=0.29 (from pmdarima!=1.8.1,<3.0.0,>=1.8.0->pycaret)\n",
      "  Downloading Cython-3.0.0-cp310-cp310-manylinux_2_17_x86_64.manylinux2014_x86_64.whl (3.6 MB)\n",
      "\u001b[2K     \u001b[90m━━━━━━━━━━━━━━━━━━━━━━━━━━━━━━━━━━━━━━━━\u001b[0m \u001b[32m3.6/3.6 MB\u001b[0m \u001b[31m23.2 MB/s\u001b[0m eta \u001b[36m0:00:00\u001b[0m00:01\u001b[0m00:01\u001b[0m\n",
      "\u001b[?25hRequirement already satisfied: urllib3 in /home/t2user2/.conda/envs/pybook/lib/python3.10/site-packages (from pmdarima!=1.8.1,<3.0.0,>=1.8.0->pycaret) (1.26.16)\n",
      "Requirement already satisfied: setuptools!=50.0.0,>=38.6.0 in /home/t2user2/.conda/envs/pybook/lib/python3.10/site-packages (from pmdarima!=1.8.1,<3.0.0,>=1.8.0->pycaret) (67.8.0)\n",
      "Requirement already satisfied: six in /home/t2user2/.conda/envs/pybook/lib/python3.10/site-packages (from pyod>=1.0.8->pycaret) (1.16.0)\n",
      "Requirement already satisfied: charset-normalizer<4,>=2 in /home/t2user2/.conda/envs/pybook/lib/python3.10/site-packages (from requests>=2.27.1->pycaret) (2.0.4)\n",
      "Requirement already satisfied: idna<4,>=2.5 in /home/t2user2/.conda/envs/pybook/lib/python3.10/site-packages (from requests>=2.27.1->pycaret) (3.4)\n",
      "Requirement already satisfied: certifi>=2017.4.17 in /home/t2user2/.conda/envs/pybook/lib/python3.10/site-packages (from requests>=2.27.1->pycaret) (2023.7.22)\n",
      "Collecting deprecated>=1.2.13 (from sktime!=0.17.1,!=0.17.2,!=0.18.0,>=0.16.1->pycaret)\n",
      "  Downloading Deprecated-1.2.14-py2.py3-none-any.whl (9.6 kB)\n",
      "Collecting scikit-base<0.6.0 (from sktime!=0.17.1,!=0.17.2,!=0.18.0,>=0.16.1->pycaret)\n",
      "  Downloading scikit_base-0.5.0-py3-none-any.whl (118 kB)\n",
      "\u001b[2K     \u001b[90m━━━━━━━━━━━━━━━━━━━━━━━━━━━━━━━━━━━━━━\u001b[0m \u001b[32m118.2/118.2 kB\u001b[0m \u001b[31m12.9 MB/s\u001b[0m eta \u001b[36m0:00:00\u001b[0m\n",
      "\u001b[?25hCollecting Flask<2.3.0,>=1.0.4 (from dash<3.0.0,>=2.11.0->plotly-resampler>=0.8.3.1->pycaret)\n",
      "  Downloading Flask-2.2.5-py3-none-any.whl (101 kB)\n",
      "\u001b[2K     \u001b[90m━━━━━━━━━━━━━━━━━━━━━━━━━━━━━━━━━━━━━━\u001b[0m \u001b[32m101.8/101.8 kB\u001b[0m \u001b[31m13.0 MB/s\u001b[0m eta \u001b[36m0:00:00\u001b[0m\n",
      "\u001b[?25hCollecting Werkzeug<2.3.0 (from dash<3.0.0,>=2.11.0->plotly-resampler>=0.8.3.1->pycaret)\n",
      "  Downloading Werkzeug-2.2.3-py3-none-any.whl (233 kB)\n",
      "\u001b[2K     \u001b[90m━━━━━━━━━━━━━━━━━━━━━━━━━━━━━━━━━━━━━━\u001b[0m \u001b[32m233.6/233.6 kB\u001b[0m \u001b[31m28.3 MB/s\u001b[0m eta \u001b[36m0:00:00\u001b[0m\n",
      "\u001b[?25hCollecting dash-html-components==2.0.0 (from dash<3.0.0,>=2.11.0->plotly-resampler>=0.8.3.1->pycaret)\n",
      "  Downloading dash_html_components-2.0.0-py3-none-any.whl (4.1 kB)\n",
      "Collecting dash-core-components==2.0.0 (from dash<3.0.0,>=2.11.0->plotly-resampler>=0.8.3.1->pycaret)\n",
      "  Downloading dash_core_components-2.0.0-py3-none-any.whl (3.8 kB)\n",
      "Collecting dash-table==5.0.0 (from dash<3.0.0,>=2.11.0->plotly-resampler>=0.8.3.1->pycaret)\n",
      "  Downloading dash_table-5.0.0-py3-none-any.whl (3.9 kB)\n",
      "Requirement already satisfied: typing-extensions>=4.1.1 in /home/t2user2/.conda/envs/pybook/lib/python3.10/site-packages (from dash<3.0.0,>=2.11.0->plotly-resampler>=0.8.3.1->pycaret) (4.6.3)\n",
      "Collecting retrying (from dash<3.0.0,>=2.11.0->plotly-resampler>=0.8.3.1->pycaret)\n",
      "  Downloading retrying-1.3.4-py3-none-any.whl (11 kB)\n",
      "Collecting ansi2html (from dash<3.0.0,>=2.11.0->plotly-resampler>=0.8.3.1->pycaret)\n",
      "  Downloading ansi2html-1.8.0-py3-none-any.whl (16 kB)\n",
      "Requirement already satisfied: nest-asyncio in /home/t2user2/.conda/envs/pybook/lib/python3.10/site-packages (from dash<3.0.0,>=2.11.0->plotly-resampler>=0.8.3.1->pycaret) (1.5.6)\n",
      "Requirement already satisfied: wrapt<2,>=1.10 in /home/t2user2/.conda/envs/pybook/lib/python3.10/site-packages (from deprecated>=1.2.13->sktime!=0.17.1,!=0.17.2,!=0.18.0,>=0.16.1->pycaret) (1.15.0)\n",
      "Requirement already satisfied: comm>=0.1.1 in /home/t2user2/.conda/envs/pybook/lib/python3.10/site-packages (from ipykernel>=4.5.1->ipywidgets>=7.6.5->pycaret) (0.1.2)\n",
      "Requirement already satisfied: debugpy>=1.6.5 in /home/t2user2/.conda/envs/pybook/lib/python3.10/site-packages (from ipykernel>=4.5.1->ipywidgets>=7.6.5->pycaret) (1.6.7)\n",
      "Requirement already satisfied: jupyter-client>=6.1.12 in /home/t2user2/.conda/envs/pybook/lib/python3.10/site-packages (from ipykernel>=4.5.1->ipywidgets>=7.6.5->pycaret) (7.4.9)\n",
      "Requirement already satisfied: pyzmq>=20 in /home/t2user2/.conda/envs/pybook/lib/python3.10/site-packages (from ipykernel>=4.5.1->ipywidgets>=7.6.5->pycaret) (23.2.0)\n",
      "Requirement already satisfied: tornado>=6.1 in /home/t2user2/.conda/envs/pybook/lib/python3.10/site-packages (from ipykernel>=4.5.1->ipywidgets>=7.6.5->pycaret) (6.2)\n",
      "Requirement already satisfied: parso<0.9.0,>=0.8.0 in /home/t2user2/.conda/envs/pybook/lib/python3.10/site-packages (from jedi>=0.16->ipython>=5.5.0->pycaret) (0.8.3)\n",
      "Requirement already satisfied: attrs>=17.4.0 in /home/t2user2/.conda/envs/pybook/lib/python3.10/site-packages (from jsonschema>=2.6->nbformat>=4.2.0->pycaret) (22.1.0)\n",
      "Requirement already satisfied: pyrsistent!=0.17.0,!=0.17.1,!=0.17.2,>=0.14.0 in /home/t2user2/.conda/envs/pybook/lib/python3.10/site-packages (from jsonschema>=2.6->nbformat>=4.2.0->pycaret) (0.18.0)\n"
     ]
    },
    {
     "name": "stdout",
     "output_type": "stream",
     "text": [
      "Requirement already satisfied: platformdirs>=2.5 in /home/t2user2/.conda/envs/pybook/lib/python3.10/site-packages (from jupyter-core->nbformat>=4.2.0->pycaret) (3.10.0)\n",
      "Requirement already satisfied: ptyprocess>=0.5 in /home/t2user2/.conda/envs/pybook/lib/python3.10/site-packages (from pexpect>4.3->ipython>=5.5.0->pycaret) (0.7.0)\n",
      "Requirement already satisfied: wcwidth in /home/t2user2/.conda/envs/pybook/lib/python3.10/site-packages (from prompt-toolkit!=3.0.37,<3.1.0,>=3.0.30->ipython>=5.5.0->pycaret) (0.2.5)\n",
      "Requirement already satisfied: executing in /home/t2user2/.conda/envs/pybook/lib/python3.10/site-packages (from stack-data->ipython>=5.5.0->pycaret) (0.8.3)\n",
      "Requirement already satisfied: asttokens in /home/t2user2/.conda/envs/pybook/lib/python3.10/site-packages (from stack-data->ipython>=5.5.0->pycaret) (2.0.5)\n",
      "Requirement already satisfied: pure-eval in /home/t2user2/.conda/envs/pybook/lib/python3.10/site-packages (from stack-data->ipython>=5.5.0->pycaret) (0.2.2)\n",
      "Collecting itsdangerous>=2.0 (from Flask<2.3.0,>=1.0.4->dash<3.0.0,>=2.11.0->plotly-resampler>=0.8.3.1->pycaret)\n",
      "  Downloading itsdangerous-2.1.2-py3-none-any.whl (15 kB)\n",
      "Requirement already satisfied: click>=8.0 in /home/t2user2/.conda/envs/pybook/lib/python3.10/site-packages (from Flask<2.3.0,>=1.0.4->dash<3.0.0,>=2.11.0->plotly-resampler>=0.8.3.1->pycaret) (8.1.6)\n",
      "Requirement already satisfied: entrypoints in /home/t2user2/.conda/envs/pybook/lib/python3.10/site-packages (from jupyter-client>=6.1.12->ipykernel>=4.5.1->ipywidgets>=7.6.5->pycaret) (0.4)\n",
      "Building wheels for collected packages: pyod\n",
      "  Building wheel for pyod (setup.py) ... \u001b[?25ldone\n",
      "\u001b[?25h  Created wheel for pyod: filename=pyod-1.1.0-py3-none-any.whl size=185331 sha256=7aa00e8ba6a7f6f8b65dedfc34be6007449ca74ab6c6a471d228f5cba60005df\n",
      "  Stored in directory: /home/t2user2/.cache/pip/wheels/36/8e/e2/e932956b10b843eb6be9eefa70b5c1bee7b561be14c423b136\n",
      "Successfully built pyod\n",
      "Installing collected packages: trace-updater, kaleido, dash-table, dash-html-components, dash-core-components, xxhash, Werkzeug, tenacity, scikit-base, schemdraw, retrying, orjson, numpy, llvmlite, itsdangerous, deprecation, deprecated, Cython, ansi2html, tsdownsample, plotly, patsy, numba, Flask, statsmodels, dash, yellowbrick, sktime, scikit-plot, pyod, pmdarima, plotly-resampler, imbalanced-learn, category-encoders, tbats, pycaret\n",
      "  Attempting uninstall: numpy\n",
      "    Found existing installation: numpy 1.25.0\n",
      "    Uninstalling numpy-1.25.0:\n",
      "      Successfully uninstalled numpy-1.25.0\n",
      "Successfully installed Cython-3.0.0 Flask-2.2.5 Werkzeug-2.2.3 ansi2html-1.8.0 category-encoders-2.6.1 dash-2.11.1 dash-core-components-2.0.0 dash-html-components-2.0.0 dash-table-5.0.0 deprecated-1.2.14 deprecation-2.1.0 imbalanced-learn-0.11.0 itsdangerous-2.1.2 kaleido-0.2.1 llvmlite-0.40.1 numba-0.57.1 numpy-1.23.5 orjson-3.9.2 patsy-0.5.3 plotly-5.15.0 plotly-resampler-0.9.1 pmdarima-2.0.3 pycaret-3.0.4 pyod-1.1.0 retrying-1.3.4 schemdraw-0.15 scikit-base-0.5.0 scikit-plot-0.3.7 sktime-0.21.0 statsmodels-0.14.0 tbats-1.1.3 tenacity-8.2.2 trace-updater-0.0.9.1 tsdownsample-0.1.2 xxhash-3.3.0 yellowbrick-1.5\n"
     ]
    }
   ],
   "source": [
    "!pip install pycaret"
   ]
  },
  {
   "cell_type": "code",
   "execution_count": 6,
   "id": "e0896dd0",
   "metadata": {},
   "outputs": [
    {
     "name": "stdout",
     "output_type": "stream",
     "text": [
      "Defaulting to user installation because normal site-packages is not writeable\n",
      "Collecting optuna\n",
      "  Using cached optuna-3.2.0-py3-none-any.whl (390 kB)\n",
      "Collecting colorlog\n",
      "  Using cached colorlog-6.7.0-py2.py3-none-any.whl (11 kB)\n",
      "Requirement already satisfied: PyYAML in /opt/anaconda3/lib/python3.10/site-packages (from optuna) (6.0)\n",
      "Requirement already satisfied: tqdm in /opt/anaconda3/lib/python3.10/site-packages (from optuna) (4.64.1)\n",
      "Requirement already satisfied: packaging>=20.0 in /opt/anaconda3/lib/python3.10/site-packages (from optuna) (22.0)\n",
      "Requirement already satisfied: numpy in /opt/anaconda3/lib/python3.10/site-packages (from optuna) (1.23.5)\n",
      "Requirement already satisfied: sqlalchemy>=1.3.0 in /opt/anaconda3/lib/python3.10/site-packages (from optuna) (1.4.39)\n",
      "Collecting cmaes>=0.9.1\n",
      "  Using cached cmaes-0.10.0-py3-none-any.whl (29 kB)\n",
      "Collecting alembic>=1.5.0\n",
      "  Using cached alembic-1.11.1-py3-none-any.whl (224 kB)\n",
      "Requirement already satisfied: typing-extensions>=4 in /opt/anaconda3/lib/python3.10/site-packages (from alembic>=1.5.0->optuna) (4.4.0)\n",
      "Collecting Mako\n",
      "  Using cached Mako-1.2.4-py3-none-any.whl (78 kB)\n",
      "Requirement already satisfied: greenlet!=0.4.17 in /opt/anaconda3/lib/python3.10/site-packages (from sqlalchemy>=1.3.0->optuna) (2.0.1)\n",
      "Requirement already satisfied: MarkupSafe>=0.9.2 in /opt/anaconda3/lib/python3.10/site-packages (from Mako->alembic>=1.5.0->optuna) (2.1.1)\n",
      "Installing collected packages: Mako, colorlog, cmaes, alembic, optuna\n",
      "Successfully installed Mako-1.2.4 alembic-1.11.1 cmaes-0.10.0 colorlog-6.7.0 optuna-3.2.0\n",
      "Note: you may need to restart the kernel to use updated packages.\n"
     ]
    }
   ],
   "source": [
    "pip install optuna"
   ]
  },
  {
   "cell_type": "markdown",
   "id": "b933954a",
   "metadata": {},
   "source": [
    "### 호출 및 파일 불러오기"
   ]
  },
  {
   "cell_type": "code",
   "execution_count": null,
   "id": "53bf1bf6",
   "metadata": {},
   "outputs": [],
   "source": []
  },
  {
   "cell_type": "code",
   "execution_count": 164,
   "id": "f68d5ad5",
   "metadata": {
    "ExecuteTime": {
     "end_time": "2023-07-30T11:32:29.414001Z",
     "start_time": "2023-07-30T11:32:28.120972Z"
    },
    "scrolled": true
   },
   "outputs": [],
   "source": [
    "import pandas as pd\n",
    "import numpy as np\n",
    "import matplotlib.pyplot as plt\n",
    "import seaborn as sns\n",
    "from tqdm import tqdm\n",
    "from sklearn.linear_model import LinearRegression, ElasticNet, Lasso, Ridge\n",
    "from sklearn.tree import DecisionTreeRegressor\n",
    "from sklearn.ensemble import RandomForestRegressor\n",
    "\n",
    "\n",
    "import xgboost as xgb\n",
    "\n",
    "import re\n",
    "import optuna\n",
    "from optuna.integration import XGBoostPruningCallback\n",
    "sns.set_theme(style=\"darkgrid\")\n",
    "\n",
    "\n",
    "pd.options.mode.chained_assignment = None\n",
    "%matplotlib inline"
   ]
  },
  {
   "cell_type": "code",
   "execution_count": 165,
   "id": "1e078cf0",
   "metadata": {
    "ExecuteTime": {
     "end_time": "2023-07-30T11:32:31.061078Z",
     "start_time": "2023-07-30T11:32:30.686174Z"
    },
    "scrolled": true
   },
   "outputs": [],
   "source": [
    "import lightgbm as lgb"
   ]
  },
  {
   "cell_type": "code",
   "execution_count": 181,
   "id": "737060b5",
   "metadata": {
    "ExecuteTime": {
     "end_time": "2023-07-30T11:32:31.987412Z",
     "start_time": "2023-07-30T11:32:31.957808Z"
    }
   },
   "outputs": [],
   "source": [
    "#Import train data set & test data\n",
    "train = pd.read_csv('train.csv')\n",
    "test = pd.read_csv('test.csv')\n",
    "submission = pd.read_csv('sample_submission.csv')"
   ]
  },
  {
   "cell_type": "markdown",
   "id": "38485f77",
   "metadata": {
    "heading_collapsed": true
   },
   "source": [
    "## Train data 확인"
   ]
  },
  {
   "cell_type": "code",
   "execution_count": null,
   "id": "f86f4bc4",
   "metadata": {
    "ExecuteTime": {
     "start_time": "2023-07-30T11:31:04.845Z"
    },
    "hidden": true
   },
   "outputs": [],
   "source": [
    "train.head()"
   ]
  },
  {
   "cell_type": "code",
   "execution_count": null,
   "id": "0f7317cd",
   "metadata": {
    "ExecuteTime": {
     "start_time": "2023-07-30T11:31:04.846Z"
    },
    "hidden": true,
    "scrolled": false
   },
   "outputs": [],
   "source": [
    "train['sigungu'].value_counts()"
   ]
  },
  {
   "cell_type": "code",
   "execution_count": null,
   "id": "cc6f7863",
   "metadata": {
    "ExecuteTime": {
     "start_time": "2023-07-30T11:31:04.847Z"
    },
    "hidden": true
   },
   "outputs": [],
   "source": [
    "train['apt_name'].value_counts()"
   ]
  },
  {
   "cell_type": "code",
   "execution_count": null,
   "id": "b6d08e50",
   "metadata": {
    "ExecuteTime": {
     "start_time": "2023-07-30T11:31:04.848Z"
    },
    "hidden": true,
    "scrolled": true
   },
   "outputs": [],
   "source": [
    "#Checking data types\n",
    "print(train.info())\n",
    "    #No missing value"
   ]
  },
  {
   "cell_type": "code",
   "execution_count": null,
   "id": "9b90268e",
   "metadata": {
    "ExecuteTime": {
     "start_time": "2023-07-30T11:31:04.850Z"
    },
    "hidden": true,
    "scrolled": true
   },
   "outputs": [],
   "source": [
    "#Descriptive statistics of numerical data\n",
    "train.describe()"
   ]
  },
  {
   "cell_type": "code",
   "execution_count": null,
   "id": "1ccbfa35",
   "metadata": {
    "ExecuteTime": {
     "start_time": "2023-07-30T11:31:04.851Z"
    },
    "hidden": true,
    "scrolled": false
   },
   "outputs": [],
   "source": [
    "train['transaction_year_month'].value_counts().sort_values(ascending = True)"
   ]
  },
  {
   "cell_type": "code",
   "execution_count": 97,
   "id": "5d51b05e",
   "metadata": {
    "ExecuteTime": {
     "start_time": "2023-07-30T11:31:04.852Z"
    },
    "hidden": true
   },
   "outputs": [
    {
     "data": {
      "text/plain": [
       "(5987, 10)"
      ]
     },
     "execution_count": 97,
     "metadata": {},
     "output_type": "execute_result"
    }
   ],
   "source": [
    "train.shape"
   ]
  },
  {
   "cell_type": "code",
   "execution_count": 98,
   "id": "14fa2759",
   "metadata": {
    "ExecuteTime": {
     "start_time": "2023-07-30T11:31:04.853Z"
    },
    "hidden": true
   },
   "outputs": [
    {
     "data": {
      "text/plain": [
       "(196, 9)"
      ]
     },
     "execution_count": 98,
     "metadata": {},
     "output_type": "execute_result"
    }
   ],
   "source": [
    "test.shape #transaction_real_price 가 제외"
   ]
  },
  {
   "cell_type": "markdown",
   "id": "753de8a0",
   "metadata": {
    "heading_collapsed": true
   },
   "source": [
    "## Test data & Submission data 확인"
   ]
  },
  {
   "cell_type": "code",
   "execution_count": null,
   "id": "5175000d",
   "metadata": {},
   "outputs": [],
   "source": [
    "test.shp"
   ]
  },
  {
   "cell_type": "code",
   "execution_count": 96,
   "id": "7fc0f261",
   "metadata": {
    "ExecuteTime": {
     "start_time": "2023-07-30T11:31:04.854Z"
    },
    "hidden": true,
    "scrolled": false
   },
   "outputs": [
    {
     "data": {
      "text/html": [
       "<div>\n",
       "<style scoped>\n",
       "    .dataframe tbody tr th:only-of-type {\n",
       "        vertical-align: middle;\n",
       "    }\n",
       "\n",
       "    .dataframe tbody tr th {\n",
       "        vertical-align: top;\n",
       "    }\n",
       "\n",
       "    .dataframe thead th {\n",
       "        text-align: right;\n",
       "    }\n",
       "</style>\n",
       "<table border=\"1\" class=\"dataframe\">\n",
       "  <thead>\n",
       "    <tr style=\"text-align: right;\">\n",
       "      <th></th>\n",
       "      <th>id</th>\n",
       "      <th>sigungu</th>\n",
       "      <th>jibun</th>\n",
       "      <th>apt_name</th>\n",
       "      <th>exclusive_use_area</th>\n",
       "      <th>transaction_year_month</th>\n",
       "      <th>transaction_day</th>\n",
       "      <th>floor</th>\n",
       "      <th>year_of_completion</th>\n",
       "    </tr>\n",
       "  </thead>\n",
       "  <tbody>\n",
       "    <tr>\n",
       "      <th>0</th>\n",
       "      <td>TEST_0000</td>\n",
       "      <td>서울특별시 강남구 대치동</td>\n",
       "      <td>977</td>\n",
       "      <td>(977-)</td>\n",
       "      <td>77.97</td>\n",
       "      <td>202304</td>\n",
       "      <td>10</td>\n",
       "      <td>2</td>\n",
       "      <td>2021</td>\n",
       "    </tr>\n",
       "    <tr>\n",
       "      <th>1</th>\n",
       "      <td>TEST_0001</td>\n",
       "      <td>서울특별시 강남구 대치동</td>\n",
       "      <td>977</td>\n",
       "      <td>(977-)</td>\n",
       "      <td>59.99</td>\n",
       "      <td>202304</td>\n",
       "      <td>10</td>\n",
       "      <td>2</td>\n",
       "      <td>2021</td>\n",
       "    </tr>\n",
       "    <tr>\n",
       "      <th>2</th>\n",
       "      <td>TEST_0002</td>\n",
       "      <td>서울특별시 강남구 대치동</td>\n",
       "      <td>503</td>\n",
       "      <td>개포우성1</td>\n",
       "      <td>84.81</td>\n",
       "      <td>202301</td>\n",
       "      <td>13</td>\n",
       "      <td>3</td>\n",
       "      <td>1983</td>\n",
       "    </tr>\n",
       "    <tr>\n",
       "      <th>3</th>\n",
       "      <td>TEST_0003</td>\n",
       "      <td>서울특별시 강남구 대치동</td>\n",
       "      <td>503</td>\n",
       "      <td>개포우성1</td>\n",
       "      <td>84.81</td>\n",
       "      <td>202301</td>\n",
       "      <td>19</td>\n",
       "      <td>9</td>\n",
       "      <td>1983</td>\n",
       "    </tr>\n",
       "    <tr>\n",
       "      <th>4</th>\n",
       "      <td>TEST_0004</td>\n",
       "      <td>서울특별시 강남구 대치동</td>\n",
       "      <td>503</td>\n",
       "      <td>개포우성1</td>\n",
       "      <td>84.81</td>\n",
       "      <td>202302</td>\n",
       "      <td>15</td>\n",
       "      <td>5</td>\n",
       "      <td>1983</td>\n",
       "    </tr>\n",
       "    <tr>\n",
       "      <th>5</th>\n",
       "      <td>TEST_0005</td>\n",
       "      <td>서울특별시 강남구 대치동</td>\n",
       "      <td>503</td>\n",
       "      <td>개포우성1</td>\n",
       "      <td>158.54</td>\n",
       "      <td>202303</td>\n",
       "      <td>17</td>\n",
       "      <td>2</td>\n",
       "      <td>1983</td>\n",
       "    </tr>\n",
       "    <tr>\n",
       "      <th>6</th>\n",
       "      <td>TEST_0006</td>\n",
       "      <td>서울특별시 강남구 대치동</td>\n",
       "      <td>503</td>\n",
       "      <td>개포우성1</td>\n",
       "      <td>84.81</td>\n",
       "      <td>202304</td>\n",
       "      <td>7</td>\n",
       "      <td>5</td>\n",
       "      <td>1983</td>\n",
       "    </tr>\n",
       "    <tr>\n",
       "      <th>7</th>\n",
       "      <td>TEST_0007</td>\n",
       "      <td>서울특별시 강남구 대치동</td>\n",
       "      <td>503</td>\n",
       "      <td>개포우성1</td>\n",
       "      <td>127.61</td>\n",
       "      <td>202305</td>\n",
       "      <td>24</td>\n",
       "      <td>9</td>\n",
       "      <td>1983</td>\n",
       "    </tr>\n",
       "    <tr>\n",
       "      <th>8</th>\n",
       "      <td>TEST_0008</td>\n",
       "      <td>서울특별시 강남구 대치동</td>\n",
       "      <td>503</td>\n",
       "      <td>개포우성1</td>\n",
       "      <td>158.54</td>\n",
       "      <td>202306</td>\n",
       "      <td>2</td>\n",
       "      <td>3</td>\n",
       "      <td>1983</td>\n",
       "    </tr>\n",
       "    <tr>\n",
       "      <th>9</th>\n",
       "      <td>TEST_0009</td>\n",
       "      <td>서울특별시 강남구 대치동</td>\n",
       "      <td>500</td>\n",
       "      <td>개포우성2</td>\n",
       "      <td>84.69</td>\n",
       "      <td>202302</td>\n",
       "      <td>11</td>\n",
       "      <td>8</td>\n",
       "      <td>1984</td>\n",
       "    </tr>\n",
       "  </tbody>\n",
       "</table>\n",
       "</div>"
      ],
      "text/plain": [
       "          id        sigungu jibun apt_name  exclusive_use_area  \\\n",
       "0  TEST_0000  서울특별시 강남구 대치동   977   (977-)               77.97   \n",
       "1  TEST_0001  서울특별시 강남구 대치동   977   (977-)               59.99   \n",
       "2  TEST_0002  서울특별시 강남구 대치동   503    개포우성1               84.81   \n",
       "3  TEST_0003  서울특별시 강남구 대치동   503    개포우성1               84.81   \n",
       "4  TEST_0004  서울특별시 강남구 대치동   503    개포우성1               84.81   \n",
       "5  TEST_0005  서울특별시 강남구 대치동   503    개포우성1              158.54   \n",
       "6  TEST_0006  서울특별시 강남구 대치동   503    개포우성1               84.81   \n",
       "7  TEST_0007  서울특별시 강남구 대치동   503    개포우성1              127.61   \n",
       "8  TEST_0008  서울특별시 강남구 대치동   503    개포우성1              158.54   \n",
       "9  TEST_0009  서울특별시 강남구 대치동   500    개포우성2               84.69   \n",
       "\n",
       "   transaction_year_month  transaction_day  floor  year_of_completion  \n",
       "0                  202304               10      2                2021  \n",
       "1                  202304               10      2                2021  \n",
       "2                  202301               13      3                1983  \n",
       "3                  202301               19      9                1983  \n",
       "4                  202302               15      5                1983  \n",
       "5                  202303               17      2                1983  \n",
       "6                  202304                7      5                1983  \n",
       "7                  202305               24      9                1983  \n",
       "8                  202306                2      3                1983  \n",
       "9                  202302               11      8                1984  "
      ]
     },
     "execution_count": 96,
     "metadata": {},
     "output_type": "execute_result"
    }
   ],
   "source": [
    "test.head(10\n",
    "        )"
   ]
  },
  {
   "cell_type": "code",
   "execution_count": null,
   "id": "5403fabd",
   "metadata": {
    "ExecuteTime": {
     "start_time": "2023-07-30T11:31:04.855Z"
    },
    "hidden": true
   },
   "outputs": [],
   "source": [
    "test.describe()"
   ]
  },
  {
   "cell_type": "code",
   "execution_count": null,
   "id": "4ba46947",
   "metadata": {
    "ExecuteTime": {
     "start_time": "2023-07-30T11:31:04.856Z"
    },
    "hidden": true
   },
   "outputs": [],
   "source": [
    "test['apt_name'].value_counts()"
   ]
  },
  {
   "cell_type": "code",
   "execution_count": null,
   "id": "c84ba96d",
   "metadata": {
    "ExecuteTime": {
     "start_time": "2023-07-30T11:31:04.857Z"
    },
    "hidden": true
   },
   "outputs": [],
   "source": [
    "test['sigungu'].value_counts()"
   ]
  },
  {
   "cell_type": "code",
   "execution_count": null,
   "id": "62e40053",
   "metadata": {
    "ExecuteTime": {
     "start_time": "2023-07-30T11:31:04.858Z"
    },
    "hidden": true,
    "scrolled": false
   },
   "outputs": [],
   "source": [
    "test['transaction_year_month'].value_counts()"
   ]
  },
  {
   "cell_type": "markdown",
   "id": "342343e3",
   "metadata": {
    "hidden": true
   },
   "source": [
    "test data 에서는 202301~202306의 데이터가 존재"
   ]
  },
  {
   "cell_type": "code",
   "execution_count": 4,
   "id": "410c4fe3",
   "metadata": {
    "ExecuteTime": {
     "start_time": "2023-07-30T11:31:04.860Z"
    },
    "hidden": true,
    "scrolled": true
   },
   "outputs": [
    {
     "data": {
      "text/html": [
       "<div>\n",
       "<style scoped>\n",
       "    .dataframe tbody tr th:only-of-type {\n",
       "        vertical-align: middle;\n",
       "    }\n",
       "\n",
       "    .dataframe tbody tr th {\n",
       "        vertical-align: top;\n",
       "    }\n",
       "\n",
       "    .dataframe thead th {\n",
       "        text-align: right;\n",
       "    }\n",
       "</style>\n",
       "<table border=\"1\" class=\"dataframe\">\n",
       "  <thead>\n",
       "    <tr style=\"text-align: right;\">\n",
       "      <th></th>\n",
       "      <th>id</th>\n",
       "      <th>transaction_real_price</th>\n",
       "    </tr>\n",
       "  </thead>\n",
       "  <tbody>\n",
       "    <tr>\n",
       "      <th>0</th>\n",
       "      <td>TEST_0000</td>\n",
       "      <td>0</td>\n",
       "    </tr>\n",
       "    <tr>\n",
       "      <th>1</th>\n",
       "      <td>TEST_0001</td>\n",
       "      <td>0</td>\n",
       "    </tr>\n",
       "    <tr>\n",
       "      <th>2</th>\n",
       "      <td>TEST_0002</td>\n",
       "      <td>0</td>\n",
       "    </tr>\n",
       "    <tr>\n",
       "      <th>3</th>\n",
       "      <td>TEST_0003</td>\n",
       "      <td>0</td>\n",
       "    </tr>\n",
       "    <tr>\n",
       "      <th>4</th>\n",
       "      <td>TEST_0004</td>\n",
       "      <td>0</td>\n",
       "    </tr>\n",
       "    <tr>\n",
       "      <th>5</th>\n",
       "      <td>TEST_0005</td>\n",
       "      <td>0</td>\n",
       "    </tr>\n",
       "    <tr>\n",
       "      <th>6</th>\n",
       "      <td>TEST_0006</td>\n",
       "      <td>0</td>\n",
       "    </tr>\n",
       "    <tr>\n",
       "      <th>7</th>\n",
       "      <td>TEST_0007</td>\n",
       "      <td>0</td>\n",
       "    </tr>\n",
       "    <tr>\n",
       "      <th>8</th>\n",
       "      <td>TEST_0008</td>\n",
       "      <td>0</td>\n",
       "    </tr>\n",
       "    <tr>\n",
       "      <th>9</th>\n",
       "      <td>TEST_0009</td>\n",
       "      <td>0</td>\n",
       "    </tr>\n",
       "  </tbody>\n",
       "</table>\n",
       "</div>"
      ],
      "text/plain": [
       "          id  transaction_real_price\n",
       "0  TEST_0000                       0\n",
       "1  TEST_0001                       0\n",
       "2  TEST_0002                       0\n",
       "3  TEST_0003                       0\n",
       "4  TEST_0004                       0\n",
       "5  TEST_0005                       0\n",
       "6  TEST_0006                       0\n",
       "7  TEST_0007                       0\n",
       "8  TEST_0008                       0\n",
       "9  TEST_0009                       0"
      ]
     },
     "execution_count": 4,
     "metadata": {},
     "output_type": "execute_result"
    }
   ],
   "source": [
    "#submission 데이터 확인\n",
    "submission.head(10)"
   ]
  },
  {
   "cell_type": "markdown",
   "id": "5c7b7678",
   "metadata": {},
   "source": [
    "# 데이터 전처리 및 EDA"
   ]
  },
  {
   "cell_type": "markdown",
   "id": "b983bf64",
   "metadata": {},
   "source": [
    "## 날짜 데이터 전처리"
   ]
  },
  {
   "cell_type": "markdown",
   "id": "0071385e",
   "metadata": {},
   "source": [
    "날짜 관련 컬럼은 year_of_completion, transaction_year_month, transaction_date가 있다. 이들은 범주형 데이터이기 때문에 분석을 위해 거래날짜 데이터를 제거 하고 거래연월 변수에 라벨인코딩을 적용할 것이다. "
   ]
  },
  {
   "cell_type": "code",
   "execution_count": 182,
   "id": "fdebe27a",
   "metadata": {
    "ExecuteTime": {
     "end_time": "2023-07-30T11:32:57.642581Z",
     "start_time": "2023-07-30T11:32:57.620822Z"
    },
    "scrolled": false
   },
   "outputs": [
    {
     "data": {
      "text/html": [
       "<div>\n",
       "<style scoped>\n",
       "    .dataframe tbody tr th:only-of-type {\n",
       "        vertical-align: middle;\n",
       "    }\n",
       "\n",
       "    .dataframe tbody tr th {\n",
       "        vertical-align: top;\n",
       "    }\n",
       "\n",
       "    .dataframe thead th {\n",
       "        text-align: right;\n",
       "    }\n",
       "</style>\n",
       "<table border=\"1\" class=\"dataframe\">\n",
       "  <thead>\n",
       "    <tr style=\"text-align: right;\">\n",
       "      <th></th>\n",
       "      <th>id</th>\n",
       "      <th>sigungu</th>\n",
       "      <th>jibun</th>\n",
       "      <th>apt_name</th>\n",
       "      <th>exclusive_use_area</th>\n",
       "      <th>transaction_year_month</th>\n",
       "      <th>transaction_real_price</th>\n",
       "      <th>floor</th>\n",
       "      <th>year_of_completion</th>\n",
       "    </tr>\n",
       "  </thead>\n",
       "  <tbody>\n",
       "    <tr>\n",
       "      <th>0</th>\n",
       "      <td>TRAIN_0000</td>\n",
       "      <td>서울특별시 강남구 대치동</td>\n",
       "      <td>503</td>\n",
       "      <td>개포우성1</td>\n",
       "      <td>158.54</td>\n",
       "      <td>201401</td>\n",
       "      <td>174000</td>\n",
       "      <td>13</td>\n",
       "      <td>1983</td>\n",
       "    </tr>\n",
       "    <tr>\n",
       "      <th>1</th>\n",
       "      <td>TRAIN_0001</td>\n",
       "      <td>서울특별시 강남구 대치동</td>\n",
       "      <td>503</td>\n",
       "      <td>개포우성1</td>\n",
       "      <td>127.61</td>\n",
       "      <td>201401</td>\n",
       "      <td>157500</td>\n",
       "      <td>6</td>\n",
       "      <td>1983</td>\n",
       "    </tr>\n",
       "    <tr>\n",
       "      <th>2</th>\n",
       "      <td>TRAIN_0002</td>\n",
       "      <td>서울특별시 강남구 대치동</td>\n",
       "      <td>503</td>\n",
       "      <td>개포우성1</td>\n",
       "      <td>127.61</td>\n",
       "      <td>201401</td>\n",
       "      <td>150000</td>\n",
       "      <td>5</td>\n",
       "      <td>1983</td>\n",
       "    </tr>\n",
       "    <tr>\n",
       "      <th>3</th>\n",
       "      <td>TRAIN_0003</td>\n",
       "      <td>서울특별시 강남구 대치동</td>\n",
       "      <td>503</td>\n",
       "      <td>개포우성1</td>\n",
       "      <td>127.61</td>\n",
       "      <td>201402</td>\n",
       "      <td>152000</td>\n",
       "      <td>9</td>\n",
       "      <td>1983</td>\n",
       "    </tr>\n",
       "    <tr>\n",
       "      <th>4</th>\n",
       "      <td>TRAIN_0004</td>\n",
       "      <td>서울특별시 강남구 대치동</td>\n",
       "      <td>503</td>\n",
       "      <td>개포우성1</td>\n",
       "      <td>84.81</td>\n",
       "      <td>201402</td>\n",
       "      <td>116000</td>\n",
       "      <td>3</td>\n",
       "      <td>1983</td>\n",
       "    </tr>\n",
       "  </tbody>\n",
       "</table>\n",
       "</div>"
      ],
      "text/plain": [
       "           id        sigungu jibun apt_name  exclusive_use_area  \\\n",
       "0  TRAIN_0000  서울특별시 강남구 대치동   503    개포우성1              158.54   \n",
       "1  TRAIN_0001  서울특별시 강남구 대치동   503    개포우성1              127.61   \n",
       "2  TRAIN_0002  서울특별시 강남구 대치동   503    개포우성1              127.61   \n",
       "3  TRAIN_0003  서울특별시 강남구 대치동   503    개포우성1              127.61   \n",
       "4  TRAIN_0004  서울특별시 강남구 대치동   503    개포우성1               84.81   \n",
       "\n",
       "   transaction_year_month  transaction_real_price  floor  year_of_completion  \n",
       "0                  201401                  174000     13                1983  \n",
       "1                  201401                  157500      6                1983  \n",
       "2                  201401                  150000      5                1983  \n",
       "3                  201402                  152000      9                1983  \n",
       "4                  201402                  116000      3                1983  "
      ]
     },
     "execution_count": 182,
     "metadata": {},
     "output_type": "execute_result"
    }
   ],
   "source": [
    "#transaction_day가 거래가에 유의미한 영향을 주지 않을 것으로 판단하고 제거\n",
    "train.drop(['transaction_day'],axis=1, inplace=True)\n",
    "train.head()"
   ]
  },
  {
   "cell_type": "code",
   "execution_count": 183,
   "id": "e0db2cc4",
   "metadata": {
    "ExecuteTime": {
     "end_time": "2023-07-30T11:32:59.479189Z",
     "start_time": "2023-07-30T11:32:59.453051Z"
    },
    "scrolled": true
   },
   "outputs": [
    {
     "name": "stdout",
     "output_type": "stream",
     "text": [
      "train data 기술통계량\n",
      "       year_of_completion  transaction_year_month\n",
      "count         5987.000000             5987.000000\n",
      "mean          1992.938533           201699.414398\n",
      "std             12.418632              208.265846\n",
      "min           1979.000000           201401.000000\n",
      "25%           1983.000000           201509.000000\n",
      "50%           1989.000000           201704.000000\n",
      "75%           2004.000000           201903.000000\n",
      "max           2017.000000           202212.000000\n",
      "------------------------------------------------------------------------------------------\n",
      "test data 기b술통계량\n",
      "       year_of_completion  transaction_year_month\n",
      "count          196.000000              196.000000\n",
      "mean          1989.423469           202304.010204\n",
      "std             12.367420                1.594831\n",
      "min           1979.000000           202301.000000\n",
      "25%           1979.000000           202303.000000\n",
      "50%           1983.000000           202304.000000\n",
      "75%           2000.000000           202305.000000\n",
      "max           2021.000000           202306.000000\n"
     ]
    }
   ],
   "source": [
    "print('train data 기술통계량')\n",
    "print(train[['year_of_completion','transaction_year_month']].describe())\n",
    "print('-'*90)\n",
    "print('test data 기b술통계량')\n",
    "print(test[['year_of_completion','transaction_year_month']].describe())\n"
   ]
  },
  {
   "cell_type": "markdown",
   "id": "e6e06c58",
   "metadata": {},
   "source": [
    "[train data]\n",
    "- year_of_completion\n",
    "\n",
    "최대값은 2017년이며 최솟값은 1979년이다. \n",
    "\n",
    "- transaction_year_month\n",
    "\n",
    "최대값은 2022년 12월이며 최솟값은 2014년 1월이다. \n",
    "\n",
    "-------------\n",
    "[test data]\n",
    "- year_of_completion\n",
    "\n",
    "최대값은 2021년이며 최솟값은 1979년이다. \n",
    "\n",
    "- transaction_year_month\n",
    "\n",
    "최대값은 2023년 6월이며 최솟값은 2023년 1월이다. \n"
   ]
  },
  {
   "cell_type": "markdown",
   "id": "50344452",
   "metadata": {},
   "source": [
    "최대년도에서 최소년도를 뺌으로써 정수형 라벨인코딩을 완성한다. test data의 경우 완공년도는 train data와 동일하기 때문에 인코딩에서 문제가 발생하진 않지만 거래연월에서 문제가 발생한다. "
   ]
  },
  {
   "cell_type": "code",
   "execution_count": 184,
   "id": "fc44c964",
   "metadata": {
    "ExecuteTime": {
     "end_time": "2023-07-30T11:33:01.105586Z",
     "start_time": "2023-07-30T11:33:01.083555Z"
    },
    "scrolled": true
   },
   "outputs": [
    {
     "name": "stdout",
     "output_type": "stream",
     "text": [
      "변환전\n",
      " [1983 1984 2003 2004 2000]\n",
      "변환후\n",
      " [ 4  5 24 25 21]\n",
      "train 변환전\n",
      " [201401 201402 201403 201405 201406]\n",
      "test 변환전\n",
      " [202304 202301 202302 202303 202305]\n",
      "train 변환후\n",
      " [0 1 2 4 5]\n",
      "test 변환후\n",
      " [111 108 109 110 112]\n"
     ]
    }
   ],
   "source": [
    "from sklearn.preprocessing import LabelEncoder\n",
    "\n",
    "# train set과 test set을 합쳐서 \"year_of_completion\" set의 최대값과 최소값 구하기\n",
    "combined_yc = pd.concat([train['year_of_completion'], test['year_of_completion']])\n",
    "combined_yc_max = combined_yc.max()\n",
    "combined_yc_min = combined_yc.min()\n",
    "\n",
    "# train set과 test set을 합쳐서 \"transaction_year_month\" set의 최대값과 최소값 구하기\n",
    "combined_tym = pd.concat([train['transaction_year_month'], test['transaction_year_month']])\n",
    "combined_tym_max = combined_tym.max()\n",
    "combined_tym_min = combined_tym.min()\n",
    "\n",
    "# train set에서 \"year_of_completion\" set에서 최소값 빼기\n",
    "print('변환전\\n', train['year_of_completion'].unique()[:5])\n",
    "train['year_of_completion'] = train['year_of_completion'] - combined_yc_min\n",
    "test['year_of_completion'] = test['year_of_completion'] - combined_yc_min\n",
    "print('변환후\\n', train['year_of_completion'].unique()[:5])\n",
    "\n",
    "# train set과 test set에서 \"transaction_year_month\" 라벨 인코딩\n",
    "print('train 변환전\\n', train['transaction_year_month'].unique()[:5])\n",
    "print('test 변환전\\n', test['transaction_year_month'].unique()[:5])\n",
    "\n",
    "le = LabelEncoder()\n",
    "le.fit(combined_tym)\n",
    "train['transaction_year_month'] = le.transform(train['transaction_year_month'])\n",
    "test['transaction_year_month'] = le.transform(test['transaction_year_month'])\n",
    "\n",
    "print('train 변환후\\n', train['transaction_year_month'].unique()[:5])\n",
    "print('test 변환후\\n', test['transaction_year_month'].unique()[:5])\n",
    "\n"
   ]
  },
  {
   "cell_type": "code",
   "execution_count": 185,
   "id": "f40446ed",
   "metadata": {
    "ExecuteTime": {
     "end_time": "2023-07-30T11:33:01.607727Z",
     "start_time": "2023-07-30T11:33:01.590935Z"
    }
   },
   "outputs": [
    {
     "data": {
      "text/html": [
       "<div>\n",
       "<style scoped>\n",
       "    .dataframe tbody tr th:only-of-type {\n",
       "        vertical-align: middle;\n",
       "    }\n",
       "\n",
       "    .dataframe tbody tr th {\n",
       "        vertical-align: top;\n",
       "    }\n",
       "\n",
       "    .dataframe thead th {\n",
       "        text-align: right;\n",
       "    }\n",
       "</style>\n",
       "<table border=\"1\" class=\"dataframe\">\n",
       "  <thead>\n",
       "    <tr style=\"text-align: right;\">\n",
       "      <th></th>\n",
       "      <th>id</th>\n",
       "      <th>sigungu</th>\n",
       "      <th>jibun</th>\n",
       "      <th>apt_name</th>\n",
       "      <th>exclusive_use_area</th>\n",
       "      <th>transaction_year_month</th>\n",
       "      <th>transaction_real_price</th>\n",
       "      <th>floor</th>\n",
       "      <th>year_of_completion</th>\n",
       "    </tr>\n",
       "  </thead>\n",
       "  <tbody>\n",
       "    <tr>\n",
       "      <th>0</th>\n",
       "      <td>TRAIN_0000</td>\n",
       "      <td>서울특별시 강남구 대치동</td>\n",
       "      <td>503</td>\n",
       "      <td>개포우성1</td>\n",
       "      <td>158.54</td>\n",
       "      <td>0</td>\n",
       "      <td>174000</td>\n",
       "      <td>13</td>\n",
       "      <td>4</td>\n",
       "    </tr>\n",
       "    <tr>\n",
       "      <th>1</th>\n",
       "      <td>TRAIN_0001</td>\n",
       "      <td>서울특별시 강남구 대치동</td>\n",
       "      <td>503</td>\n",
       "      <td>개포우성1</td>\n",
       "      <td>127.61</td>\n",
       "      <td>0</td>\n",
       "      <td>157500</td>\n",
       "      <td>6</td>\n",
       "      <td>4</td>\n",
       "    </tr>\n",
       "    <tr>\n",
       "      <th>2</th>\n",
       "      <td>TRAIN_0002</td>\n",
       "      <td>서울특별시 강남구 대치동</td>\n",
       "      <td>503</td>\n",
       "      <td>개포우성1</td>\n",
       "      <td>127.61</td>\n",
       "      <td>0</td>\n",
       "      <td>150000</td>\n",
       "      <td>5</td>\n",
       "      <td>4</td>\n",
       "    </tr>\n",
       "    <tr>\n",
       "      <th>3</th>\n",
       "      <td>TRAIN_0003</td>\n",
       "      <td>서울특별시 강남구 대치동</td>\n",
       "      <td>503</td>\n",
       "      <td>개포우성1</td>\n",
       "      <td>127.61</td>\n",
       "      <td>1</td>\n",
       "      <td>152000</td>\n",
       "      <td>9</td>\n",
       "      <td>4</td>\n",
       "    </tr>\n",
       "    <tr>\n",
       "      <th>4</th>\n",
       "      <td>TRAIN_0004</td>\n",
       "      <td>서울특별시 강남구 대치동</td>\n",
       "      <td>503</td>\n",
       "      <td>개포우성1</td>\n",
       "      <td>84.81</td>\n",
       "      <td>1</td>\n",
       "      <td>116000</td>\n",
       "      <td>3</td>\n",
       "      <td>4</td>\n",
       "    </tr>\n",
       "  </tbody>\n",
       "</table>\n",
       "</div>"
      ],
      "text/plain": [
       "           id        sigungu jibun apt_name  exclusive_use_area  \\\n",
       "0  TRAIN_0000  서울특별시 강남구 대치동   503    개포우성1              158.54   \n",
       "1  TRAIN_0001  서울특별시 강남구 대치동   503    개포우성1              127.61   \n",
       "2  TRAIN_0002  서울특별시 강남구 대치동   503    개포우성1              127.61   \n",
       "3  TRAIN_0003  서울특별시 강남구 대치동   503    개포우성1              127.61   \n",
       "4  TRAIN_0004  서울특별시 강남구 대치동   503    개포우성1               84.81   \n",
       "\n",
       "   transaction_year_month  transaction_real_price  floor  year_of_completion  \n",
       "0                       0                  174000     13                   4  \n",
       "1                       0                  157500      6                   4  \n",
       "2                       0                  150000      5                   4  \n",
       "3                       1                  152000      9                   4  \n",
       "4                       1                  116000      3                   4  "
      ]
     },
     "execution_count": 185,
     "metadata": {},
     "output_type": "execute_result"
    }
   ],
   "source": [
    "train.head()"
   ]
  },
  {
   "cell_type": "code",
   "execution_count": 186,
   "id": "95b89105",
   "metadata": {
    "ExecuteTime": {
     "end_time": "2023-07-30T11:33:02.123019Z",
     "start_time": "2023-07-30T11:33:02.095911Z"
    },
    "scrolled": true
   },
   "outputs": [
    {
     "name": "stdout",
     "output_type": "stream",
     "text": [
      "train\n",
      "       transaction_year_month  year_of_completion\n",
      "count             5987.000000         5987.000000\n",
      "mean                40.661266           13.938533\n",
      "std                 25.281697           12.418632\n",
      "min                  0.000000            0.000000\n",
      "25%                 20.000000            4.000000\n",
      "50%                 39.000000           10.000000\n",
      "75%                 62.000000           25.000000\n",
      "max                107.000000           38.000000\n",
      "------------------------------------------------------------------------------------------\n",
      "test\n",
      "       transaction_year_month  year_of_completion\n",
      "count              196.000000          196.000000\n",
      "mean               111.010204           10.423469\n",
      "std                  1.594831           12.367420\n",
      "min                108.000000            0.000000\n",
      "25%                110.000000            0.000000\n",
      "50%                111.000000            4.000000\n",
      "75%                112.000000           21.000000\n",
      "max                113.000000           42.000000\n"
     ]
    }
   ],
   "source": [
    "print('train')\n",
    "print(train[['transaction_year_month', 'year_of_completion']].describe())\n",
    "print('-'*90)\n",
    "print('test')\n",
    "print(test[['transaction_year_month', 'year_of_completion']].describe())"
   ]
  },
  {
   "cell_type": "code",
   "execution_count": 187,
   "id": "91c622fa",
   "metadata": {
    "ExecuteTime": {
     "end_time": "2023-07-30T11:33:04.630233Z",
     "start_time": "2023-07-30T11:33:04.614604Z"
    },
    "scrolled": false
   },
   "outputs": [
    {
     "data": {
      "text/html": [
       "<div>\n",
       "<style scoped>\n",
       "    .dataframe tbody tr th:only-of-type {\n",
       "        vertical-align: middle;\n",
       "    }\n",
       "\n",
       "    .dataframe tbody tr th {\n",
       "        vertical-align: top;\n",
       "    }\n",
       "\n",
       "    .dataframe thead th {\n",
       "        text-align: right;\n",
       "    }\n",
       "</style>\n",
       "<table border=\"1\" class=\"dataframe\">\n",
       "  <thead>\n",
       "    <tr style=\"text-align: right;\">\n",
       "      <th></th>\n",
       "      <th>id</th>\n",
       "      <th>sigungu</th>\n",
       "      <th>jibun</th>\n",
       "      <th>apt_name</th>\n",
       "      <th>exclusive_use_area</th>\n",
       "      <th>transaction_year_month</th>\n",
       "      <th>transaction_day</th>\n",
       "      <th>floor</th>\n",
       "      <th>year_of_completion</th>\n",
       "    </tr>\n",
       "  </thead>\n",
       "  <tbody>\n",
       "    <tr>\n",
       "      <th>0</th>\n",
       "      <td>TEST_0000</td>\n",
       "      <td>서울특별시 강남구 대치동</td>\n",
       "      <td>977</td>\n",
       "      <td>대치르엘</td>\n",
       "      <td>77.97</td>\n",
       "      <td>111</td>\n",
       "      <td>10</td>\n",
       "      <td>2</td>\n",
       "      <td>42</td>\n",
       "    </tr>\n",
       "    <tr>\n",
       "      <th>1</th>\n",
       "      <td>TEST_0001</td>\n",
       "      <td>서울특별시 강남구 대치동</td>\n",
       "      <td>977</td>\n",
       "      <td>대치르엘</td>\n",
       "      <td>59.99</td>\n",
       "      <td>111</td>\n",
       "      <td>10</td>\n",
       "      <td>2</td>\n",
       "      <td>42</td>\n",
       "    </tr>\n",
       "  </tbody>\n",
       "</table>\n",
       "</div>"
      ],
      "text/plain": [
       "          id        sigungu jibun apt_name  exclusive_use_area  \\\n",
       "0  TEST_0000  서울특별시 강남구 대치동   977     대치르엘               77.97   \n",
       "1  TEST_0001  서울특별시 강남구 대치동   977     대치르엘               59.99   \n",
       "\n",
       "   transaction_year_month  transaction_day  floor  year_of_completion  \n",
       "0                     111               10      2                  42  \n",
       "1                     111               10      2                  42  "
      ]
     },
     "execution_count": 187,
     "metadata": {},
     "output_type": "execute_result"
    }
   ],
   "source": [
    "# 0,1번 인덱스의 apt_name이 입력되어 있지 않으므로 대치동 977지번 검색을 통하여 실제 아파트 이름을 입력해주었다.\n",
    "test.loc[[0,1], 'apt_name'] = '대치르엘'\n",
    "test.iloc[[0,1],:]"
   ]
  },
  {
   "cell_type": "markdown",
   "id": "7033d75d",
   "metadata": {},
   "source": [
    "## K-means clustering을 통한 아파트 이름 데이터 전처리"
   ]
  },
  {
   "cell_type": "code",
   "execution_count": 188,
   "id": "cbbe0c80",
   "metadata": {
    "ExecuteTime": {
     "end_time": "2023-07-30T11:34:01.185771Z",
     "start_time": "2023-07-30T11:34:01.169870Z"
    }
   },
   "outputs": [],
   "source": [
    "#분석을 위해 두 데이터를 합친다\n",
    "train['train_test'] = 'train'\n",
    "test['train_test'] = 'test'\n",
    "all_data = pd.concat([train, test])\n",
    "all_data  = all_data .reset_index(drop=True)"
   ]
  },
  {
   "cell_type": "code",
   "execution_count": 189,
   "id": "ff155a5f",
   "metadata": {
    "ExecuteTime": {
     "end_time": "2023-07-30T11:34:01.599658Z",
     "start_time": "2023-07-30T11:34:01.588422Z"
    },
    "scrolled": false
   },
   "outputs": [
    {
     "data": {
      "text/plain": [
       "은마                          1546\n",
       "대치삼성                         404\n",
       "래미안대치팰리스                     398\n",
       "대치아이파크                       382\n",
       "동부센트레빌                       363\n",
       "한보미도맨션2                      312\n",
       "한보미도맨션1                      309\n",
       "대치현대                         252\n",
       "개포우성1                        224\n",
       "선경1차(1동-7동)                  185\n",
       "테헤란로대우아이빌(891-6)             144\n",
       "개포우성2                        131\n",
       "래미안대치하이스턴                    112\n",
       "선경2차(8동-12동)                 112\n",
       "포스코더샵                        104\n",
       "쌍용대치아파트1동,2동,3동,5동,6동        102\n",
       "대치우성아파트1동,2동,3동,5동,6동,7동      93\n",
       "대우아이빌명문가(891-23)              82\n",
       "선릉역대우아이빌(890-49)              63\n",
       "롯데캐슬리베                        63\n",
       "쌍용대치2                         57\n",
       "대치동우정에쉐르1                     51\n",
       "대우아이빌멤버스(891-26)              51\n",
       "롯데캐슬                          50\n",
       "대치효성                          47\n",
       "현대1                           46\n",
       "세영팔레스타운                       30\n",
       "대치한신휴플러스                      30\n",
       "대치SKVIEW                      29\n",
       "국제                            27\n",
       "선경3차                          25\n",
       "선릉역풍림아이원레몬                    23\n",
       "아름빌(889-74)                   23\n",
       "하이캐슬                          22\n",
       "풍림아이원4차(1007-2)               19\n",
       "신성미소시티                        19\n",
       "삼환SOGOOD                      16\n",
       "동민맥스빌A동                       15\n",
       "현대썬앤빌테헤란                      14\n",
       "삼성3차                          13\n",
       "풍림아이원아파트                      12\n",
       "청원                            12\n",
       "하이캐슬102동                      11\n",
       "세연파크뷰                         10\n",
       "우정에쉐르                         10\n",
       "한양팰리스                          9\n",
       "풍림아이원2차202동                    9\n",
       "동민맥스빌B동                        9\n",
       "풍림아이원3차(1007-1)                8\n",
       "한티(933-35)                     8\n",
       "한티(933-0)                      8\n",
       "상지리츠빌카일룸(1009-4)               8\n",
       "동양                             7\n",
       "풍림아이원1차103동(910-5)             7\n",
       "스카이써밋아파트                       6\n",
       "풍림아이원2차201동                    6\n",
       "대치하나빌                          6\n",
       "풍림아이원1차101동(910-3)             6\n",
       "메트로                            6\n",
       "대치동우정에쉐르2(890-42)              6\n",
       "대치주성                           5\n",
       "삼성2차                           5\n",
       "대치타워                           4\n",
       "청암빌라트                          4\n",
       "미도맨션3차                         3\n",
       "화인하이빌                          3\n",
       "월드빌                            2\n",
       "노빌리티빌리지                        2\n",
       "대치르엘                           2\n",
       "Name: apt_name, dtype: int64"
      ]
     },
     "execution_count": 189,
     "metadata": {},
     "output_type": "execute_result"
    }
   ],
   "source": [
    "pd.set_option('display.max_rows', None)\n",
    "all_data['apt_name'].value_counts()[:69]"
   ]
  },
  {
   "cell_type": "code",
   "execution_count": 190,
   "id": "544955a3",
   "metadata": {
    "ExecuteTime": {
     "end_time": "2023-07-30T11:34:02.672331Z",
     "start_time": "2023-07-30T11:34:02.602207Z"
    },
    "scrolled": false
   },
   "outputs": [
    {
     "name": "stderr",
     "output_type": "stream",
     "text": [
      "100%|████████████████████████████████████| 6183/6183 [00:00<00:00, 81760.54it/s]\n"
     ]
    }
   ],
   "source": [
    "#괄호안 내용은 분석에 불필요하다고 판단하고 제거\n",
    "#괄호와 괄호안내용 제거\n",
    "regex = \"\\(.*\\)|\\s-\\s.*\"\n",
    "for i in tqdm(range(len(all_data))):\n",
    "    all_data.at[i, 'apt_name'] = re.sub(regex, '', all_data.at[i, 'apt_name'])\n"
   ]
  },
  {
   "cell_type": "code",
   "execution_count": 191,
   "id": "23808c77",
   "metadata": {
    "ExecuteTime": {
     "end_time": "2023-07-30T11:34:03.136128Z",
     "start_time": "2023-07-30T11:34:03.125888Z"
    },
    "scrolled": false
   },
   "outputs": [
    {
     "data": {
      "text/plain": [
       "은마                          1546\n",
       "대치삼성                         404\n",
       "래미안대치팰리스                     398\n",
       "대치아이파크                       382\n",
       "동부센트레빌                       363\n",
       "한보미도맨션2                      312\n",
       "한보미도맨션1                      309\n",
       "대치현대                         252\n",
       "개포우성1                        224\n",
       "선경1차                         185\n",
       "테헤란로대우아이빌                    144\n",
       "개포우성2                        131\n",
       "선경2차                         112\n",
       "래미안대치하이스턴                    112\n",
       "포스코더샵                        104\n",
       "쌍용대치아파트1동,2동,3동,5동,6동        102\n",
       "대치우성아파트1동,2동,3동,5동,6동,7동      93\n",
       "대우아이빌명문가                      82\n",
       "선릉역대우아이빌                      63\n",
       "롯데캐슬리베                        63\n",
       "쌍용대치2                         57\n",
       "대우아이빌멤버스                      51\n",
       "대치동우정에쉐르1                     51\n",
       "롯데캐슬                          50\n",
       "대치효성                          47\n",
       "현대1                           46\n",
       "세영팔레스타운                       30\n",
       "대치한신휴플러스                      30\n",
       "대치SKVIEW                      29\n",
       "국제                            27\n",
       "선경3차                          25\n",
       "아름빌                           23\n",
       "선릉역풍림아이원레몬                    23\n",
       "하이캐슬                          22\n",
       "풍림아이원4차                       19\n",
       "신성미소시티                        19\n",
       "한티                            16\n",
       "삼환SOGOOD                      16\n",
       "동민맥스빌A동                       15\n",
       "현대썬앤빌테헤란                      14\n",
       "삼성3차                          13\n",
       "청원                            12\n",
       "풍림아이원아파트                      12\n",
       "하이캐슬102동                      11\n",
       "우정에쉐르                         10\n",
       "세연파크뷰                         10\n",
       "동민맥스빌B동                        9\n",
       "풍림아이원2차202동                    9\n",
       "한양팰리스                          9\n",
       "풍림아이원3차                        8\n",
       "상지리츠빌카일룸                       8\n",
       "동양                             7\n",
       "풍림아이원1차103동                    7\n",
       "메트로                            6\n",
       "풍림아이원2차201동                    6\n",
       "대치하나빌                          6\n",
       "대치동우정에쉐르2                      6\n",
       "스카이써밋아파트                       6\n",
       "풍림아이원1차101동                    6\n",
       "대치주성                           5\n",
       "삼성2차                           5\n",
       "대치타워                           4\n",
       "청암빌라트                          4\n",
       "미도맨션3차                         3\n",
       "화인하이빌                          3\n",
       "월드빌                            2\n",
       "노빌리티빌리지                        2\n",
       "대치르엘                           2\n",
       "해암프리존                          1\n",
       "Name: apt_name, dtype: int64"
      ]
     },
     "execution_count": 191,
     "metadata": {},
     "output_type": "execute_result"
    }
   ],
   "source": [
    "all_data['apt_name'].value_counts().sort_values(ascending = False)"
   ]
  },
  {
   "cell_type": "code",
   "execution_count": 192,
   "id": "6dd49806",
   "metadata": {
    "ExecuteTime": {
     "end_time": "2023-07-30T11:34:03.809525Z",
     "start_time": "2023-07-30T11:34:03.758022Z"
    },
    "scrolled": true
   },
   "outputs": [
    {
     "name": "stderr",
     "output_type": "stream",
     "text": [
      "Exception ignored on calling ctypes callback function: <function _ThreadpoolInfo._find_modules_with_dl_iterate_phdr.<locals>.match_module_callback at 0x7f72ef422290>\n",
      "Traceback (most recent call last):\n",
      "  File \"/home/t2user2/.conda/envs/pybook/lib/python3.10/site-packages/threadpoolctl.py\", line 400, in match_module_callback\n",
      "    self._make_module_from_path(filepath)\n",
      "  File \"/home/t2user2/.conda/envs/pybook/lib/python3.10/site-packages/threadpoolctl.py\", line 515, in _make_module_from_path\n",
      "    module = module_class(filepath, prefix, user_api, internal_api)\n",
      "  File \"/home/t2user2/.conda/envs/pybook/lib/python3.10/site-packages/threadpoolctl.py\", line 606, in __init__\n",
      "    self.version = self.get_version()\n",
      "  File \"/home/t2user2/.conda/envs/pybook/lib/python3.10/site-packages/threadpoolctl.py\", line 646, in get_version\n",
      "    config = get_config().split()\n",
      "AttributeError: 'NoneType' object has no attribute 'split'\n",
      "Exception ignored on calling ctypes callback function: <function _ThreadpoolInfo._find_modules_with_dl_iterate_phdr.<locals>.match_module_callback at 0x7f72ef422290>\n",
      "Traceback (most recent call last):\n",
      "  File \"/home/t2user2/.conda/envs/pybook/lib/python3.10/site-packages/threadpoolctl.py\", line 400, in match_module_callback\n",
      "    self._make_module_from_path(filepath)\n",
      "  File \"/home/t2user2/.conda/envs/pybook/lib/python3.10/site-packages/threadpoolctl.py\", line 515, in _make_module_from_path\n",
      "    module = module_class(filepath, prefix, user_api, internal_api)\n",
      "  File \"/home/t2user2/.conda/envs/pybook/lib/python3.10/site-packages/threadpoolctl.py\", line 606, in __init__\n",
      "    self.version = self.get_version()\n",
      "  File \"/home/t2user2/.conda/envs/pybook/lib/python3.10/site-packages/threadpoolctl.py\", line 646, in get_version\n",
      "    config = get_config().split()\n",
      "AttributeError: 'NoneType' object has no attribute 'split'\n",
      "Exception ignored on calling ctypes callback function: <function _ThreadpoolInfo._find_modules_with_dl_iterate_phdr.<locals>.match_module_callback at 0x7f72ef422290>\n",
      "Traceback (most recent call last):\n",
      "  File \"/home/t2user2/.conda/envs/pybook/lib/python3.10/site-packages/threadpoolctl.py\", line 400, in match_module_callback\n",
      "    self._make_module_from_path(filepath)\n",
      "  File \"/home/t2user2/.conda/envs/pybook/lib/python3.10/site-packages/threadpoolctl.py\", line 515, in _make_module_from_path\n",
      "    module = module_class(filepath, prefix, user_api, internal_api)\n",
      "  File \"/home/t2user2/.conda/envs/pybook/lib/python3.10/site-packages/threadpoolctl.py\", line 606, in __init__\n",
      "    self.version = self.get_version()\n",
      "  File \"/home/t2user2/.conda/envs/pybook/lib/python3.10/site-packages/threadpoolctl.py\", line 646, in get_version\n",
      "    config = get_config().split()\n",
      "AttributeError: 'NoneType' object has no attribute 'split'\n",
      "Exception ignored on calling ctypes callback function: <function _ThreadpoolInfo._find_modules_with_dl_iterate_phdr.<locals>.match_module_callback at 0x7f72ef422290>\n",
      "Traceback (most recent call last):\n",
      "  File \"/home/t2user2/.conda/envs/pybook/lib/python3.10/site-packages/threadpoolctl.py\", line 400, in match_module_callback\n",
      "    self._make_module_from_path(filepath)\n",
      "  File \"/home/t2user2/.conda/envs/pybook/lib/python3.10/site-packages/threadpoolctl.py\", line 515, in _make_module_from_path\n",
      "    module = module_class(filepath, prefix, user_api, internal_api)\n",
      "  File \"/home/t2user2/.conda/envs/pybook/lib/python3.10/site-packages/threadpoolctl.py\", line 606, in __init__\n",
      "    self.version = self.get_version()\n",
      "  File \"/home/t2user2/.conda/envs/pybook/lib/python3.10/site-packages/threadpoolctl.py\", line 646, in get_version\n",
      "    config = get_config().split()\n",
      "AttributeError: 'NoneType' object has no attribute 'split'\n",
      "Exception ignored on calling ctypes callback function: <function _ThreadpoolInfo._find_modules_with_dl_iterate_phdr.<locals>.match_module_callback at 0x7f72ef422290>\n",
      "Traceback (most recent call last):\n",
      "  File \"/home/t2user2/.conda/envs/pybook/lib/python3.10/site-packages/threadpoolctl.py\", line 400, in match_module_callback\n",
      "    self._make_module_from_path(filepath)\n",
      "  File \"/home/t2user2/.conda/envs/pybook/lib/python3.10/site-packages/threadpoolctl.py\", line 515, in _make_module_from_path\n",
      "    module = module_class(filepath, prefix, user_api, internal_api)\n",
      "  File \"/home/t2user2/.conda/envs/pybook/lib/python3.10/site-packages/threadpoolctl.py\", line 606, in __init__\n",
      "    self.version = self.get_version()\n",
      "  File \"/home/t2user2/.conda/envs/pybook/lib/python3.10/site-packages/threadpoolctl.py\", line 646, in get_version\n",
      "    config = get_config().split()\n",
      "AttributeError: 'NoneType' object has no attribute 'split'\n",
      "Exception ignored on calling ctypes callback function: <function _ThreadpoolInfo._find_modules_with_dl_iterate_phdr.<locals>.match_module_callback at 0x7f72ef422290>\n",
      "Traceback (most recent call last):\n",
      "  File \"/home/t2user2/.conda/envs/pybook/lib/python3.10/site-packages/threadpoolctl.py\", line 400, in match_module_callback\n",
      "    self._make_module_from_path(filepath)\n",
      "  File \"/home/t2user2/.conda/envs/pybook/lib/python3.10/site-packages/threadpoolctl.py\", line 515, in _make_module_from_path\n",
      "    module = module_class(filepath, prefix, user_api, internal_api)\n",
      "  File \"/home/t2user2/.conda/envs/pybook/lib/python3.10/site-packages/threadpoolctl.py\", line 606, in __init__\n",
      "    self.version = self.get_version()\n",
      "  File \"/home/t2user2/.conda/envs/pybook/lib/python3.10/site-packages/threadpoolctl.py\", line 646, in get_version\n",
      "    config = get_config().split()\n",
      "AttributeError: 'NoneType' object has no attribute 'split'\n",
      "Exception ignored on calling ctypes callback function: <function _ThreadpoolInfo._find_modules_with_dl_iterate_phdr.<locals>.match_module_callback at 0x7f72ef422290>\n",
      "Traceback (most recent call last):\n",
      "  File \"/home/t2user2/.conda/envs/pybook/lib/python3.10/site-packages/threadpoolctl.py\", line 400, in match_module_callback\n",
      "    self._make_module_from_path(filepath)\n",
      "  File \"/home/t2user2/.conda/envs/pybook/lib/python3.10/site-packages/threadpoolctl.py\", line 515, in _make_module_from_path\n",
      "    module = module_class(filepath, prefix, user_api, internal_api)\n",
      "  File \"/home/t2user2/.conda/envs/pybook/lib/python3.10/site-packages/threadpoolctl.py\", line 606, in __init__\n",
      "    self.version = self.get_version()\n",
      "  File \"/home/t2user2/.conda/envs/pybook/lib/python3.10/site-packages/threadpoolctl.py\", line 646, in get_version\n",
      "    config = get_config().split()\n",
      "AttributeError: 'NoneType' object has no attribute 'split'\n",
      "Exception ignored on calling ctypes callback function: <function _ThreadpoolInfo._find_modules_with_dl_iterate_phdr.<locals>.match_module_callback at 0x7f72ef422290>\n",
      "Traceback (most recent call last):\n",
      "  File \"/home/t2user2/.conda/envs/pybook/lib/python3.10/site-packages/threadpoolctl.py\", line 400, in match_module_callback\n",
      "    self._make_module_from_path(filepath)\n",
      "  File \"/home/t2user2/.conda/envs/pybook/lib/python3.10/site-packages/threadpoolctl.py\", line 515, in _make_module_from_path\n",
      "    module = module_class(filepath, prefix, user_api, internal_api)\n",
      "  File \"/home/t2user2/.conda/envs/pybook/lib/python3.10/site-packages/threadpoolctl.py\", line 606, in __init__\n",
      "    self.version = self.get_version()\n",
      "  File \"/home/t2user2/.conda/envs/pybook/lib/python3.10/site-packages/threadpoolctl.py\", line 646, in get_version\n",
      "    config = get_config().split()\n",
      "AttributeError: 'NoneType' object has no attribute 'split'\n",
      "Exception ignored on calling ctypes callback function: <function _ThreadpoolInfo._find_modules_with_dl_iterate_phdr.<locals>.match_module_callback at 0x7f72ef422290>\n",
      "Traceback (most recent call last):\n",
      "  File \"/home/t2user2/.conda/envs/pybook/lib/python3.10/site-packages/threadpoolctl.py\", line 400, in match_module_callback\n",
      "    self._make_module_from_path(filepath)\n",
      "  File \"/home/t2user2/.conda/envs/pybook/lib/python3.10/site-packages/threadpoolctl.py\", line 515, in _make_module_from_path\n",
      "    module = module_class(filepath, prefix, user_api, internal_api)\n",
      "  File \"/home/t2user2/.conda/envs/pybook/lib/python3.10/site-packages/threadpoolctl.py\", line 606, in __init__\n",
      "    self.version = self.get_version()\n",
      "  File \"/home/t2user2/.conda/envs/pybook/lib/python3.10/site-packages/threadpoolctl.py\", line 646, in get_version\n",
      "    config = get_config().split()\n",
      "AttributeError: 'NoneType' object has no attribute 'split'\n"
     ]
    },
    {
     "name": "stderr",
     "output_type": "stream",
     "text": [
      "Exception ignored on calling ctypes callback function: <function _ThreadpoolInfo._find_modules_with_dl_iterate_phdr.<locals>.match_module_callback at 0x7f72efb95ab0>\n",
      "Traceback (most recent call last):\n",
      "  File \"/home/t2user2/.conda/envs/pybook/lib/python3.10/site-packages/threadpoolctl.py\", line 400, in match_module_callback\n",
      "    self._make_module_from_path(filepath)\n",
      "  File \"/home/t2user2/.conda/envs/pybook/lib/python3.10/site-packages/threadpoolctl.py\", line 515, in _make_module_from_path\n",
      "    module = module_class(filepath, prefix, user_api, internal_api)\n",
      "  File \"/home/t2user2/.conda/envs/pybook/lib/python3.10/site-packages/threadpoolctl.py\", line 606, in __init__\n",
      "    self.version = self.get_version()\n",
      "  File \"/home/t2user2/.conda/envs/pybook/lib/python3.10/site-packages/threadpoolctl.py\", line 646, in get_version\n",
      "    config = get_config().split()\n",
      "AttributeError: 'NoneType' object has no attribute 'split'\n",
      "Exception ignored on calling ctypes callback function: <function _ThreadpoolInfo._find_modules_with_dl_iterate_phdr.<locals>.match_module_callback at 0x7f72efa3fb50>\n",
      "Traceback (most recent call last):\n",
      "  File \"/home/t2user2/.conda/envs/pybook/lib/python3.10/site-packages/threadpoolctl.py\", line 400, in match_module_callback\n",
      "    self._make_module_from_path(filepath)\n",
      "  File \"/home/t2user2/.conda/envs/pybook/lib/python3.10/site-packages/threadpoolctl.py\", line 515, in _make_module_from_path\n",
      "    module = module_class(filepath, prefix, user_api, internal_api)\n",
      "  File \"/home/t2user2/.conda/envs/pybook/lib/python3.10/site-packages/threadpoolctl.py\", line 606, in __init__\n",
      "    self.version = self.get_version()\n",
      "  File \"/home/t2user2/.conda/envs/pybook/lib/python3.10/site-packages/threadpoolctl.py\", line 646, in get_version\n",
      "    config = get_config().split()\n",
      "AttributeError: 'NoneType' object has no attribute 'split'\n"
     ]
    },
    {
     "data": {
      "text/plain": [
       "2.0    2938\n",
       "3.0    2067\n",
       "1.0     700\n",
       "0.0     470\n",
       "4.0       8\n",
       "Name: cluster, dtype: int64"
      ]
     },
     "execution_count": 192,
     "metadata": {},
     "output_type": "execute_result"
    }
   ],
   "source": [
    "from sklearn.cluster import KMeans\n",
    "import numpy as np\n",
    "\n",
    "# 아파트 별로 가격 평균값 구하기\n",
    "train = all_data[all_data['train_test'] == 'train']\n",
    "data = train[['apt_name', 'transaction_real_price']]\n",
    "\n",
    "data = data.groupby('apt_name').mean()\n",
    "arr = data['transaction_real_price'].to_numpy().reshape(-1, 1)\n",
    "\n",
    "# 가격을 기준으로 아파트 군집화\n",
    "k = 5  \n",
    "kmeans = KMeans(n_clusters=k, n_init=10)\n",
    "kmeans.fit(arr)\n",
    "\n",
    "# 가격을 기준으로 군집의 순서를 정렬하기 위해 인덱스를 추출\n",
    "sort_order = np.argsort(kmeans.cluster_centers_.flatten())\n",
    "\n",
    "# 군집화 결과를 가격 순서대로 재할당\n",
    "labels = np.zeros_like(kmeans.labels_)\n",
    "for i, cluster in enumerate(sort_order):\n",
    "    labels[kmeans.labels_ == cluster] = i\n",
    "\n",
    "# 군집화 결과와 가격을 데이터에 추가\n",
    "data['cluster'] = labels\n",
    "data = data.reset_index()\n",
    "data = data[['apt_name', 'cluster']]\n",
    "\n",
    "all_data = pd.merge(all_data, data, how='left', left_on='apt_name', right_on='apt_name')\n",
    "\n",
    "cluster_mode = all_data.loc[all_data['train_test'] == 'train', 'cluster'].mode()[0]\n",
    "all_data['cluster'] = all_data['cluster'].fillna(cluster_mode)\n",
    "\n",
    "all_data['cluster'].value_counts()"
   ]
  },
  {
   "cell_type": "markdown",
   "id": "fad1a54f",
   "metadata": {},
   "source": [
    "## 층수 전처리"
   ]
  },
  {
   "cell_type": "markdown",
   "id": "f8d2bca8",
   "metadata": {},
   "source": [
    "3층 이하면 0, 이상이면 1로 처리"
   ]
  },
  {
   "cell_type": "code",
   "execution_count": 193,
   "id": "1fcb338a",
   "metadata": {
    "ExecuteTime": {
     "end_time": "2023-07-30T11:34:08.006251Z",
     "start_time": "2023-07-30T11:34:07.988304Z"
    }
   },
   "outputs": [
    {
     "data": {
      "text/plain": [
       "1    5077\n",
       "0    1106\n",
       "Name: low_floor, dtype: int64"
      ]
     },
     "execution_count": 193,
     "metadata": {},
     "output_type": "execute_result"
    }
   ],
   "source": [
    "all_data['low_floor'] = all_data['floor'].apply(lambda x: 0 if x <= 3 else 1)\n",
    "all_data['low_floor'].value_counts()"
   ]
  },
  {
   "cell_type": "markdown",
   "id": "4a940037",
   "metadata": {},
   "source": [
    "다시 데이터를 분리시킨다"
   ]
  },
  {
   "cell_type": "code",
   "execution_count": 194,
   "id": "4df6a417",
   "metadata": {
    "ExecuteTime": {
     "end_time": "2023-07-30T11:34:09.152444Z",
     "start_time": "2023-07-30T11:34:09.139342Z"
    }
   },
   "outputs": [],
   "source": [
    "train = all_data[all_data['train_test'] == 'train']\n",
    "test = all_data[all_data['train_test'] == 'test']\n",
    "\n",
    "train.drop(['train_test','transaction_day'], axis = 1, inplace = True )\n",
    "test.drop(['train_test','transaction_day'], axis = 1, inplace = True )"
   ]
  },
  {
   "cell_type": "markdown",
   "id": "e89783a9",
   "metadata": {
    "heading_collapsed": true
   },
   "source": [
    "## 거래가격 확인 및 로그변환"
   ]
  },
  {
   "cell_type": "code",
   "execution_count": 195,
   "id": "f83c6200",
   "metadata": {
    "ExecuteTime": {
     "start_time": "2023-07-30T11:31:04.917Z"
    },
    "hidden": true,
    "scrolled": false
   },
   "outputs": [
    {
     "data": {
      "text/plain": [
       "<Axes: ylabel='transaction_real_price'>"
      ]
     },
     "execution_count": 195,
     "metadata": {},
     "output_type": "execute_result"
    },
    {
     "data": {
      "image/png": "[encoded data removed]",
      "text/plain": [
       "<Figure size 640x480 with 1 Axes>"
      ]
     },
     "metadata": {},
     "output_type": "display_data"
    }
   ],
   "source": [
    "sns.boxplot(y='transaction_real_price', data = train)"
   ]
  },
  {
   "cell_type": "code",
   "execution_count": 196,
   "id": "d75b1609",
   "metadata": {
    "ExecuteTime": {
     "start_time": "2023-07-30T11:31:04.918Z"
    },
    "hidden": true,
    "scrolled": true
   },
   "outputs": [
    {
     "data": {
      "image/png": "[encoded data removed]",
      "text/plain": [
       "<Figure size 500x500 with 1 Axes>"
      ]
     },
     "metadata": {},
     "output_type": "display_data"
    }
   ],
   "source": [
    "sns.set(style = 'white')\n",
    "sns.displot(train['transaction_real_price'], bins=30)\n",
    "plt.xlabel('Price(10000 won)')\n",
    "plt.title('Distribution of Price')\n",
    "plt.show()\n"
   ]
  },
  {
   "cell_type": "markdown",
   "id": "31ed1f3c",
   "metadata": {},
   "source": [
    "## 면적(m^2) 확인 및 로그변환"
   ]
  },
  {
   "cell_type": "code",
   "execution_count": 197,
   "id": "71ae000d",
   "metadata": {
    "ExecuteTime": {
     "end_time": "2023-07-30T11:34:12.006319Z",
     "start_time": "2023-07-30T11:34:11.823879Z"
    },
    "scrolled": false
   },
   "outputs": [
    {
     "data": {
      "text/plain": [
       "<Figure size 640x480 with 0 Axes>"
      ]
     },
     "metadata": {},
     "output_type": "display_data"
    },
    {
     "data": {
      "image/png": "[encoded data removed]",
      "text/plain": [
       "<Figure size 500x500 with 1 Axes>"
      ]
     },
     "metadata": {},
     "output_type": "display_data"
    }
   ],
   "source": [
    "plt.figure()\n",
    "sns.displot(train['exclusive_use_area'], bins=30)\n",
    "plt.xlabel('Area(Square meter)')\n",
    "plt.title('Distribution of Area')\n",
    "plt.show()"
   ]
  },
  {
   "cell_type": "markdown",
   "id": "306eb74d",
   "metadata": {},
   "source": [
    "이상치 때문에 확실히 로그변환을 수행해야 한다."
   ]
  },
  {
   "cell_type": "code",
   "execution_count": 198,
   "id": "e955a5e8",
   "metadata": {
    "ExecuteTime": {
     "end_time": "2023-07-30T11:34:12.625565Z",
     "start_time": "2023-07-30T11:34:12.601416Z"
    }
   },
   "outputs": [
    {
     "data": {
      "text/html": [
       "<div>\n",
       "<style scoped>\n",
       "    .dataframe tbody tr th:only-of-type {\n",
       "        vertical-align: middle;\n",
       "    }\n",
       "\n",
       "    .dataframe tbody tr th {\n",
       "        vertical-align: top;\n",
       "    }\n",
       "\n",
       "    .dataframe thead th {\n",
       "        text-align: right;\n",
       "    }\n",
       "</style>\n",
       "<table border=\"1\" class=\"dataframe\">\n",
       "  <thead>\n",
       "    <tr style=\"text-align: right;\">\n",
       "      <th></th>\n",
       "      <th>id</th>\n",
       "      <th>sigungu</th>\n",
       "      <th>jibun</th>\n",
       "      <th>apt_name</th>\n",
       "      <th>transaction_year_month</th>\n",
       "      <th>transaction_real_price</th>\n",
       "      <th>floor</th>\n",
       "      <th>year_of_completion</th>\n",
       "      <th>cluster</th>\n",
       "      <th>low_floor</th>\n",
       "      <th>log_area</th>\n",
       "    </tr>\n",
       "  </thead>\n",
       "  <tbody>\n",
       "    <tr>\n",
       "      <th>0</th>\n",
       "      <td>TRAIN_0000</td>\n",
       "      <td>서울특별시 강남구 대치동</td>\n",
       "      <td>503</td>\n",
       "      <td>개포우성1</td>\n",
       "      <td>0</td>\n",
       "      <td>174000.0</td>\n",
       "      <td>13</td>\n",
       "      <td>4</td>\n",
       "      <td>3.0</td>\n",
       "      <td>1</td>\n",
       "      <td>5.072295</td>\n",
       "    </tr>\n",
       "  </tbody>\n",
       "</table>\n",
       "</div>"
      ],
      "text/plain": [
       "           id        sigungu jibun apt_name  transaction_year_month  \\\n",
       "0  TRAIN_0000  서울특별시 강남구 대치동   503    개포우성1                       0   \n",
       "\n",
       "   transaction_real_price  floor  year_of_completion  cluster  low_floor  \\\n",
       "0                174000.0     13                   4      3.0          1   \n",
       "\n",
       "   log_area  \n",
       "0  5.072295  "
      ]
     },
     "execution_count": 198,
     "metadata": {},
     "output_type": "execute_result"
    }
   ],
   "source": [
    "train['log_area'] = np.log1p(train['exclusive_use_area'])\n",
    "test['log_area'] = np.log1p(test['exclusive_use_area'])\n",
    "\n",
    "area = train['exclusive_use_area'] # 원래 면적\n",
    "\n",
    "train.drop('exclusive_use_area', axis=1, inplace=True)\n",
    "test.drop('exclusive_use_area', axis=1, inplace=True)\n",
    "train.head(1)"
   ]
  },
  {
   "cell_type": "code",
   "execution_count": 199,
   "id": "8f0e6760",
   "metadata": {
    "ExecuteTime": {
     "end_time": "2023-07-30T11:34:13.283603Z",
     "start_time": "2023-07-30T11:34:13.120449Z"
    },
    "scrolled": false
   },
   "outputs": [
    {
     "data": {
      "text/plain": [
       "<Figure size 640x480 with 0 Axes>"
      ]
     },
     "metadata": {},
     "output_type": "display_data"
    },
    {
     "data": {
      "image/png": "[encoded data removed]",
      "text/plain": [
       "<Figure size 500x500 with 1 Axes>"
      ]
     },
     "metadata": {},
     "output_type": "display_data"
    }
   ],
   "source": [
    "plt.figure()\n",
    "sns.displot(train['log_area'], bins=30)\n",
    "plt.xlabel('Area(Square meter)')\n",
    "plt.title('Distribution of Area')\n",
    "plt.show()"
   ]
  },
  {
   "cell_type": "markdown",
   "id": "30bef96d",
   "metadata": {},
   "source": [
    "로그변환은 큰 소용이 없었다. 하지만 그래도 약간은 더 정규분포에 근사했으니 만족한다."
   ]
  },
  {
   "cell_type": "code",
   "execution_count": null,
   "id": "8584bd1e",
   "metadata": {},
   "outputs": [],
   "source": []
  },
  {
   "cell_type": "markdown",
   "id": "27d7e9fb",
   "metadata": {},
   "source": [
    "# 모델링(Using Auto ML PyCaret)"
   ]
  },
  {
   "cell_type": "code",
   "execution_count": 200,
   "id": "354316a7",
   "metadata": {
    "ExecuteTime": {
     "end_time": "2023-07-30T11:34:15.931773Z",
     "start_time": "2023-07-30T11:34:15.925181Z"
    },
    "scrolled": false
   },
   "outputs": [
    {
     "data": {
      "text/plain": [
       "Index(['id', 'sigungu', 'jibun', 'apt_name', 'transaction_year_month',\n",
       "       'transaction_real_price', 'floor', 'year_of_completion', 'cluster',\n",
       "       'low_floor', 'log_area'],\n",
       "      dtype='object')"
      ]
     },
     "execution_count": 200,
     "metadata": {},
     "output_type": "execute_result"
    }
   ],
   "source": [
    "train.columns"
   ]
  },
  {
   "cell_type": "code",
   "execution_count": 201,
   "id": "55e8d22e",
   "metadata": {
    "ExecuteTime": {
     "end_time": "2023-07-30T11:26:23.810115Z",
     "start_time": "2023-07-30T11:26:23.795102Z"
    }
   },
   "outputs": [],
   "source": [
    "#사용할 변수만 선택\n",
    "train_modeling = train[['cluster', 'log_area','low_floor','year_of_completion',\n",
    "                      'transaction_real_price','transaction_year_month']]\n",
    "test_modeling = test[['cluster', 'log_area','low_floor','year_of_completion',\n",
    "                      'transaction_real_price','transaction_year_month']] "
   ]
  },
  {
   "cell_type": "code",
   "execution_count": 202,
   "id": "90ed6ad4",
   "metadata": {
    "ExecuteTime": {
     "end_time": "2023-07-30T11:26:26.174146Z",
     "start_time": "2023-07-30T11:26:26.163319Z"
    },
    "scrolled": true
   },
   "outputs": [
    {
     "data": {
      "text/plain": [
       "Index(['cluster', 'log_area', 'low_floor', 'year_of_completion',\n",
       "       'transaction_real_price', 'transaction_year_month'],\n",
       "      dtype='object')"
      ]
     },
     "execution_count": 202,
     "metadata": {},
     "output_type": "execute_result"
    }
   ],
   "source": [
    "train_modeling.columns"
   ]
  },
  {
   "cell_type": "code",
   "execution_count": 203,
   "id": "546e3e6e",
   "metadata": {
    "ExecuteTime": {
     "end_time": "2023-07-30T11:26:26.310736Z",
     "start_time": "2023-07-30T11:26:26.307495Z"
    },
    "scrolled": false
   },
   "outputs": [
    {
     "data": {
      "text/plain": [
       "Index(['cluster', 'log_area', 'low_floor', 'year_of_completion',\n",
       "       'transaction_real_price', 'transaction_year_month'],\n",
       "      dtype='object')"
      ]
     },
     "execution_count": 203,
     "metadata": {},
     "output_type": "execute_result"
    }
   ],
   "source": [
    "test_modeling.columns"
   ]
  },
  {
   "cell_type": "markdown",
   "id": "c9757cb2",
   "metadata": {},
   "source": [
    "## 분석 환경 구축"
   ]
  },
  {
   "cell_type": "code",
   "execution_count": 206,
   "id": "86298a1e",
   "metadata": {
    "ExecuteTime": {
     "end_time": "2023-07-30T11:26:28.884141Z",
     "start_time": "2023-07-30T11:26:27.726706Z"
    },
    "scrolled": true
   },
   "outputs": [
    {
     "data": {
      "text/html": [
       "<style type=\"text/css\">\n",
       "#T_ead0c_row8_col1 {\n",
       "  background-color: lightgreen;\n",
       "}\n",
       "</style>\n",
       "<table id=\"T_ead0c\">\n",
       "  <thead>\n",
       "    <tr>\n",
       "      <th class=\"blank level0\" >&nbsp;</th>\n",
       "      <th id=\"T_ead0c_level0_col0\" class=\"col_heading level0 col0\" >Description</th>\n",
       "      <th id=\"T_ead0c_level0_col1\" class=\"col_heading level0 col1\" >Value</th>\n",
       "    </tr>\n",
       "  </thead>\n",
       "  <tbody>\n",
       "    <tr>\n",
       "      <th id=\"T_ead0c_level0_row0\" class=\"row_heading level0 row0\" >0</th>\n",
       "      <td id=\"T_ead0c_row0_col0\" class=\"data row0 col0\" >Session id</td>\n",
       "      <td id=\"T_ead0c_row0_col1\" class=\"data row0 col1\" >6084</td>\n",
       "    </tr>\n",
       "    <tr>\n",
       "      <th id=\"T_ead0c_level0_row1\" class=\"row_heading level0 row1\" >1</th>\n",
       "      <td id=\"T_ead0c_row1_col0\" class=\"data row1 col0\" >Target</td>\n",
       "      <td id=\"T_ead0c_row1_col1\" class=\"data row1 col1\" >transaction_real_price</td>\n",
       "    </tr>\n",
       "    <tr>\n",
       "      <th id=\"T_ead0c_level0_row2\" class=\"row_heading level0 row2\" >2</th>\n",
       "      <td id=\"T_ead0c_row2_col0\" class=\"data row2 col0\" >Target type</td>\n",
       "      <td id=\"T_ead0c_row2_col1\" class=\"data row2 col1\" >Regression</td>\n",
       "    </tr>\n",
       "    <tr>\n",
       "      <th id=\"T_ead0c_level0_row3\" class=\"row_heading level0 row3\" >3</th>\n",
       "      <td id=\"T_ead0c_row3_col0\" class=\"data row3 col0\" >Original data shape</td>\n",
       "      <td id=\"T_ead0c_row3_col1\" class=\"data row3 col1\" >(4190, 6)</td>\n",
       "    </tr>\n",
       "    <tr>\n",
       "      <th id=\"T_ead0c_level0_row4\" class=\"row_heading level0 row4\" >4</th>\n",
       "      <td id=\"T_ead0c_row4_col0\" class=\"data row4 col0\" >Transformed data shape</td>\n",
       "      <td id=\"T_ead0c_row4_col1\" class=\"data row4 col1\" >(4190, 6)</td>\n",
       "    </tr>\n",
       "    <tr>\n",
       "      <th id=\"T_ead0c_level0_row5\" class=\"row_heading level0 row5\" >5</th>\n",
       "      <td id=\"T_ead0c_row5_col0\" class=\"data row5 col0\" >Transformed train set shape</td>\n",
       "      <td id=\"T_ead0c_row5_col1\" class=\"data row5 col1\" >(2933, 6)</td>\n",
       "    </tr>\n",
       "    <tr>\n",
       "      <th id=\"T_ead0c_level0_row6\" class=\"row_heading level0 row6\" >6</th>\n",
       "      <td id=\"T_ead0c_row6_col0\" class=\"data row6 col0\" >Transformed test set shape</td>\n",
       "      <td id=\"T_ead0c_row6_col1\" class=\"data row6 col1\" >(1257, 6)</td>\n",
       "    </tr>\n",
       "    <tr>\n",
       "      <th id=\"T_ead0c_level0_row7\" class=\"row_heading level0 row7\" >7</th>\n",
       "      <td id=\"T_ead0c_row7_col0\" class=\"data row7 col0\" >Numeric features</td>\n",
       "      <td id=\"T_ead0c_row7_col1\" class=\"data row7 col1\" >5</td>\n",
       "    </tr>\n",
       "    <tr>\n",
       "      <th id=\"T_ead0c_level0_row8\" class=\"row_heading level0 row8\" >8</th>\n",
       "      <td id=\"T_ead0c_row8_col0\" class=\"data row8 col0\" >Preprocess</td>\n",
       "      <td id=\"T_ead0c_row8_col1\" class=\"data row8 col1\" >True</td>\n",
       "    </tr>\n",
       "    <tr>\n",
       "      <th id=\"T_ead0c_level0_row9\" class=\"row_heading level0 row9\" >9</th>\n",
       "      <td id=\"T_ead0c_row9_col0\" class=\"data row9 col0\" >Imputation type</td>\n",
       "      <td id=\"T_ead0c_row9_col1\" class=\"data row9 col1\" >simple</td>\n",
       "    </tr>\n",
       "    <tr>\n",
       "      <th id=\"T_ead0c_level0_row10\" class=\"row_heading level0 row10\" >10</th>\n",
       "      <td id=\"T_ead0c_row10_col0\" class=\"data row10 col0\" >Numeric imputation</td>\n",
       "      <td id=\"T_ead0c_row10_col1\" class=\"data row10 col1\" >mean</td>\n",
       "    </tr>\n",
       "    <tr>\n",
       "      <th id=\"T_ead0c_level0_row11\" class=\"row_heading level0 row11\" >11</th>\n",
       "      <td id=\"T_ead0c_row11_col0\" class=\"data row11 col0\" >Categorical imputation</td>\n",
       "      <td id=\"T_ead0c_row11_col1\" class=\"data row11 col1\" >mode</td>\n",
       "    </tr>\n",
       "    <tr>\n",
       "      <th id=\"T_ead0c_level0_row12\" class=\"row_heading level0 row12\" >12</th>\n",
       "      <td id=\"T_ead0c_row12_col0\" class=\"data row12 col0\" >Fold Generator</td>\n",
       "      <td id=\"T_ead0c_row12_col1\" class=\"data row12 col1\" >TimeSeriesSplit</td>\n",
       "    </tr>\n",
       "    <tr>\n",
       "      <th id=\"T_ead0c_level0_row13\" class=\"row_heading level0 row13\" >13</th>\n",
       "      <td id=\"T_ead0c_row13_col0\" class=\"data row13 col0\" >Fold Number</td>\n",
       "      <td id=\"T_ead0c_row13_col1\" class=\"data row13 col1\" >5</td>\n",
       "    </tr>\n",
       "    <tr>\n",
       "      <th id=\"T_ead0c_level0_row14\" class=\"row_heading level0 row14\" >14</th>\n",
       "      <td id=\"T_ead0c_row14_col0\" class=\"data row14 col0\" >CPU Jobs</td>\n",
       "      <td id=\"T_ead0c_row14_col1\" class=\"data row14 col1\" >-1</td>\n",
       "    </tr>\n",
       "    <tr>\n",
       "      <th id=\"T_ead0c_level0_row15\" class=\"row_heading level0 row15\" >15</th>\n",
       "      <td id=\"T_ead0c_row15_col0\" class=\"data row15 col0\" >Use GPU</td>\n",
       "      <td id=\"T_ead0c_row15_col1\" class=\"data row15 col1\" >False</td>\n",
       "    </tr>\n",
       "    <tr>\n",
       "      <th id=\"T_ead0c_level0_row16\" class=\"row_heading level0 row16\" >16</th>\n",
       "      <td id=\"T_ead0c_row16_col0\" class=\"data row16 col0\" >Log Experiment</td>\n",
       "      <td id=\"T_ead0c_row16_col1\" class=\"data row16 col1\" >False</td>\n",
       "    </tr>\n",
       "    <tr>\n",
       "      <th id=\"T_ead0c_level0_row17\" class=\"row_heading level0 row17\" >17</th>\n",
       "      <td id=\"T_ead0c_row17_col0\" class=\"data row17 col0\" >Experiment Name</td>\n",
       "      <td id=\"T_ead0c_row17_col1\" class=\"data row17 col1\" >reg-default-name</td>\n",
       "    </tr>\n",
       "    <tr>\n",
       "      <th id=\"T_ead0c_level0_row18\" class=\"row_heading level0 row18\" >18</th>\n",
       "      <td id=\"T_ead0c_row18_col0\" class=\"data row18 col0\" >USI</td>\n",
       "      <td id=\"T_ead0c_row18_col1\" class=\"data row18 col1\" >91e8</td>\n",
       "    </tr>\n",
       "  </tbody>\n",
       "</table>\n"
      ],
      "text/plain": [
       "<pandas.io.formats.style.Styler at 0x7f72ed495780>"
      ]
     },
     "metadata": {},
     "output_type": "display_data"
    }
   ],
   "source": [
    "#함수 호출\n",
    "from pycaret.regression import *\n",
    "from sklearn.model_selection import train_test_split\n",
    "\n",
    "# train data를 train set과 validation set으로 나누기 \n",
    "train_data, val_data = train_test_split(train_modeling, test_size=0.3, random_state=42)\n",
    "\n",
    "# PyCaret의 setup 함수를 사용하여 AutoML 적용\n",
    "reg = setup(data=train_data,\n",
    "            target='transaction_real_price',\n",
    "            fold_strategy='timeseries',\n",
    "            fold = 5)\n"
   ]
  },
  {
   "cell_type": "markdown",
   "id": "aa2a8f62",
   "metadata": {},
   "source": [
    "## 모델 비교"
   ]
  },
  {
   "cell_type": "markdown",
   "id": "4706328e",
   "metadata": {},
   "source": [
    "모델 비교의 경우 기본적으로 K-Fold CV로 값을 비교하게 된다.(K=10)\n",
    "\n"
   ]
  },
  {
   "cell_type": "code",
   "execution_count": 213,
   "id": "b9bcbfab",
   "metadata": {
    "ExecuteTime": {
     "end_time": "2023-07-30T11:26:47.660247Z",
     "start_time": "2023-07-30T11:26:30.596797Z"
    },
    "scrolled": false
   },
   "outputs": [
    {
     "data": {
      "text/html": [],
      "text/plain": [
       "<IPython.core.display.HTML object>"
      ]
     },
     "metadata": {},
     "output_type": "display_data"
    },
    {
     "data": {
      "text/html": [
       "<style type=\"text/css\">\n",
       "#T_0c360 th {\n",
       "  text-align: left;\n",
       "}\n",
       "#T_0c360_row0_col0, #T_0c360_row1_col0, #T_0c360_row1_col1, #T_0c360_row1_col2, #T_0c360_row1_col3, #T_0c360_row1_col4, #T_0c360_row1_col5, #T_0c360_row1_col6, #T_0c360_row2_col0, #T_0c360_row2_col1, #T_0c360_row2_col2, #T_0c360_row2_col3, #T_0c360_row2_col4, #T_0c360_row2_col5, #T_0c360_row2_col6, #T_0c360_row3_col0, #T_0c360_row3_col1, #T_0c360_row3_col2, #T_0c360_row3_col3, #T_0c360_row3_col4, #T_0c360_row3_col5, #T_0c360_row3_col6, #T_0c360_row4_col0, #T_0c360_row4_col1, #T_0c360_row4_col2, #T_0c360_row4_col3, #T_0c360_row4_col4, #T_0c360_row4_col5, #T_0c360_row4_col6, #T_0c360_row5_col0, #T_0c360_row5_col1, #T_0c360_row5_col2, #T_0c360_row5_col3, #T_0c360_row5_col4, #T_0c360_row5_col5, #T_0c360_row5_col6, #T_0c360_row6_col0, #T_0c360_row6_col1, #T_0c360_row6_col2, #T_0c360_row6_col3, #T_0c360_row6_col4, #T_0c360_row6_col5, #T_0c360_row6_col6, #T_0c360_row7_col0, #T_0c360_row7_col1, #T_0c360_row7_col2, #T_0c360_row7_col3, #T_0c360_row7_col4, #T_0c360_row7_col5, #T_0c360_row7_col6, #T_0c360_row8_col0, #T_0c360_row8_col1, #T_0c360_row8_col2, #T_0c360_row8_col3, #T_0c360_row8_col4, #T_0c360_row8_col5, #T_0c360_row8_col6, #T_0c360_row9_col0, #T_0c360_row9_col1, #T_0c360_row9_col2, #T_0c360_row9_col3, #T_0c360_row9_col4, #T_0c360_row9_col5, #T_0c360_row9_col6, #T_0c360_row10_col0, #T_0c360_row10_col1, #T_0c360_row10_col2, #T_0c360_row10_col3, #T_0c360_row10_col4, #T_0c360_row10_col5, #T_0c360_row10_col6, #T_0c360_row11_col0, #T_0c360_row11_col1, #T_0c360_row11_col2, #T_0c360_row11_col3, #T_0c360_row11_col4, #T_0c360_row11_col5, #T_0c360_row11_col6, #T_0c360_row12_col0, #T_0c360_row12_col1, #T_0c360_row12_col2, #T_0c360_row12_col3, #T_0c360_row12_col4, #T_0c360_row12_col5, #T_0c360_row12_col6, #T_0c360_row13_col0, #T_0c360_row13_col1, #T_0c360_row13_col2, #T_0c360_row13_col3, #T_0c360_row13_col4, #T_0c360_row13_col5, #T_0c360_row13_col6, #T_0c360_row14_col0, #T_0c360_row14_col1, #T_0c360_row14_col2, #T_0c360_row14_col3, #T_0c360_row14_col4, #T_0c360_row14_col5, #T_0c360_row14_col6, #T_0c360_row15_col0, #T_0c360_row15_col1, #T_0c360_row15_col2, #T_0c360_row15_col3, #T_0c360_row15_col4, #T_0c360_row15_col5, #T_0c360_row15_col6, #T_0c360_row16_col0, #T_0c360_row16_col1, #T_0c360_row16_col2, #T_0c360_row16_col3, #T_0c360_row16_col4, #T_0c360_row16_col5, #T_0c360_row16_col6, #T_0c360_row17_col0, #T_0c360_row17_col1, #T_0c360_row17_col2, #T_0c360_row17_col3, #T_0c360_row17_col4, #T_0c360_row17_col5, #T_0c360_row17_col6, #T_0c360_row18_col0, #T_0c360_row18_col1, #T_0c360_row18_col2, #T_0c360_row18_col3, #T_0c360_row18_col4, #T_0c360_row18_col5, #T_0c360_row18_col6, #T_0c360_row19_col0, #T_0c360_row19_col1, #T_0c360_row19_col2, #T_0c360_row19_col3, #T_0c360_row19_col4, #T_0c360_row19_col5, #T_0c360_row19_col6 {\n",
       "  text-align: left;\n",
       "}\n",
       "#T_0c360_row0_col1, #T_0c360_row0_col2, #T_0c360_row0_col3, #T_0c360_row0_col4, #T_0c360_row0_col5, #T_0c360_row0_col6 {\n",
       "  text-align: left;\n",
       "  background-color: yellow;\n",
       "}\n",
       "#T_0c360_row0_col7, #T_0c360_row1_col7, #T_0c360_row2_col7, #T_0c360_row3_col7, #T_0c360_row4_col7, #T_0c360_row5_col7, #T_0c360_row8_col7, #T_0c360_row10_col7, #T_0c360_row11_col7, #T_0c360_row12_col7, #T_0c360_row13_col7, #T_0c360_row14_col7, #T_0c360_row15_col7, #T_0c360_row17_col7 {\n",
       "  text-align: left;\n",
       "  background-color: lightgrey;\n",
       "}\n",
       "#T_0c360_row6_col7, #T_0c360_row7_col7, #T_0c360_row9_col7, #T_0c360_row16_col7, #T_0c360_row18_col7, #T_0c360_row19_col7 {\n",
       "  text-align: left;\n",
       "  background-color: yellow;\n",
       "  background-color: lightgrey;\n",
       "}\n",
       "</style>\n",
       "<table id=\"T_0c360\">\n",
       "  <thead>\n",
       "    <tr>\n",
       "      <th class=\"blank level0\" >&nbsp;</th>\n",
       "      <th id=\"T_0c360_level0_col0\" class=\"col_heading level0 col0\" >Model</th>\n",
       "      <th id=\"T_0c360_level0_col1\" class=\"col_heading level0 col1\" >MAE</th>\n",
       "      <th id=\"T_0c360_level0_col2\" class=\"col_heading level0 col2\" >MSE</th>\n",
       "      <th id=\"T_0c360_level0_col3\" class=\"col_heading level0 col3\" >RMSE</th>\n",
       "      <th id=\"T_0c360_level0_col4\" class=\"col_heading level0 col4\" >R2</th>\n",
       "      <th id=\"T_0c360_level0_col5\" class=\"col_heading level0 col5\" >RMSLE</th>\n",
       "      <th id=\"T_0c360_level0_col6\" class=\"col_heading level0 col6\" >MAPE</th>\n",
       "      <th id=\"T_0c360_level0_col7\" class=\"col_heading level0 col7\" >TT (Sec)</th>\n",
       "    </tr>\n",
       "  </thead>\n",
       "  <tbody>\n",
       "    <tr>\n",
       "      <th id=\"T_0c360_level0_row0\" class=\"row_heading level0 row0\" >catboost</th>\n",
       "      <td id=\"T_0c360_row0_col0\" class=\"data row0 col0\" >CatBoost Regressor</td>\n",
       "      <td id=\"T_0c360_row0_col1\" class=\"data row0 col1\" >6763.4760</td>\n",
       "      <td id=\"T_0c360_row0_col2\" class=\"data row0 col2\" >116532228.2661</td>\n",
       "      <td id=\"T_0c360_row0_col3\" class=\"data row0 col3\" >10669.9851</td>\n",
       "      <td id=\"T_0c360_row0_col4\" class=\"data row0 col4\" >0.9817</td>\n",
       "      <td id=\"T_0c360_row0_col5\" class=\"data row0 col5\" >0.0719</td>\n",
       "      <td id=\"T_0c360_row0_col6\" class=\"data row0 col6\" >0.0474</td>\n",
       "      <td id=\"T_0c360_row0_col7\" class=\"data row0 col7\" >0.0380</td>\n",
       "    </tr>\n",
       "    <tr>\n",
       "      <th id=\"T_0c360_level0_row1\" class=\"row_heading level0 row1\" >xgboost</th>\n",
       "      <td id=\"T_0c360_row1_col0\" class=\"data row1 col0\" >Extreme Gradient Boosting</td>\n",
       "      <td id=\"T_0c360_row1_col1\" class=\"data row1 col1\" >7706.4828</td>\n",
       "      <td id=\"T_0c360_row1_col2\" class=\"data row1 col2\" >171573950.4000</td>\n",
       "      <td id=\"T_0c360_row1_col3\" class=\"data row1 col3\" >12833.0600</td>\n",
       "      <td id=\"T_0c360_row1_col4\" class=\"data row1 col4\" >0.9728</td>\n",
       "      <td id=\"T_0c360_row1_col5\" class=\"data row1 col5\" >0.0779</td>\n",
       "      <td id=\"T_0c360_row1_col6\" class=\"data row1 col6\" >0.0513</td>\n",
       "      <td id=\"T_0c360_row1_col7\" class=\"data row1 col7\" >0.0200</td>\n",
       "    </tr>\n",
       "    <tr>\n",
       "      <th id=\"T_0c360_level0_row2\" class=\"row_heading level0 row2\" >lightgbm</th>\n",
       "      <td id=\"T_0c360_row2_col0\" class=\"data row2 col0\" >Light Gradient Boosting Machine</td>\n",
       "      <td id=\"T_0c360_row2_col1\" class=\"data row2 col1\" >7968.8585</td>\n",
       "      <td id=\"T_0c360_row2_col2\" class=\"data row2 col2\" >166914628.6356</td>\n",
       "      <td id=\"T_0c360_row2_col3\" class=\"data row2 col3\" >12812.3416</td>\n",
       "      <td id=\"T_0c360_row2_col4\" class=\"data row2 col4\" >0.9738</td>\n",
       "      <td id=\"T_0c360_row2_col5\" class=\"data row2 col5\" >0.0843</td>\n",
       "      <td id=\"T_0c360_row2_col6\" class=\"data row2 col6\" >0.0554</td>\n",
       "      <td id=\"T_0c360_row2_col7\" class=\"data row2 col7\" >0.0100</td>\n",
       "    </tr>\n",
       "    <tr>\n",
       "      <th id=\"T_0c360_level0_row3\" class=\"row_heading level0 row3\" >et</th>\n",
       "      <td id=\"T_0c360_row3_col0\" class=\"data row3 col0\" >Extra Trees Regressor</td>\n",
       "      <td id=\"T_0c360_row3_col1\" class=\"data row3 col1\" >8311.3058</td>\n",
       "      <td id=\"T_0c360_row3_col2\" class=\"data row3 col2\" >191370050.1689</td>\n",
       "      <td id=\"T_0c360_row3_col3\" class=\"data row3 col3\" >13708.6860</td>\n",
       "      <td id=\"T_0c360_row3_col4\" class=\"data row3 col4\" >0.9700</td>\n",
       "      <td id=\"T_0c360_row3_col5\" class=\"data row3 col5\" >0.0789</td>\n",
       "      <td id=\"T_0c360_row3_col6\" class=\"data row3 col6\" >0.0533</td>\n",
       "      <td id=\"T_0c360_row3_col7\" class=\"data row3 col7\" >0.0220</td>\n",
       "    </tr>\n",
       "    <tr>\n",
       "      <th id=\"T_0c360_level0_row4\" class=\"row_heading level0 row4\" >rf</th>\n",
       "      <td id=\"T_0c360_row4_col0\" class=\"data row4 col0\" >Random Forest Regressor</td>\n",
       "      <td id=\"T_0c360_row4_col1\" class=\"data row4 col1\" >8819.3027</td>\n",
       "      <td id=\"T_0c360_row4_col2\" class=\"data row4 col2\" >226519133.7132</td>\n",
       "      <td id=\"T_0c360_row4_col3\" class=\"data row4 col3\" >14961.6411</td>\n",
       "      <td id=\"T_0c360_row4_col4\" class=\"data row4 col4\" >0.9647</td>\n",
       "      <td id=\"T_0c360_row4_col5\" class=\"data row4 col5\" >0.0852</td>\n",
       "      <td id=\"T_0c360_row4_col6\" class=\"data row4 col6\" >0.0572</td>\n",
       "      <td id=\"T_0c360_row4_col7\" class=\"data row4 col7\" >0.0260</td>\n",
       "    </tr>\n",
       "    <tr>\n",
       "      <th id=\"T_0c360_level0_row5\" class=\"row_heading level0 row5\" >gbr</th>\n",
       "      <td id=\"T_0c360_row5_col0\" class=\"data row5 col0\" >Gradient Boosting Regressor</td>\n",
       "      <td id=\"T_0c360_row5_col1\" class=\"data row5 col1\" >9498.9560</td>\n",
       "      <td id=\"T_0c360_row5_col2\" class=\"data row5 col2\" >198915368.3879</td>\n",
       "      <td id=\"T_0c360_row5_col3\" class=\"data row5 col3\" >14056.3466</td>\n",
       "      <td id=\"T_0c360_row5_col4\" class=\"data row5 col4\" >0.9691</td>\n",
       "      <td id=\"T_0c360_row5_col5\" class=\"data row5 col5\" >0.0974</td>\n",
       "      <td id=\"T_0c360_row5_col6\" class=\"data row5 col6\" >0.0674</td>\n",
       "      <td id=\"T_0c360_row5_col7\" class=\"data row5 col7\" >0.0200</td>\n",
       "    </tr>\n",
       "    <tr>\n",
       "      <th id=\"T_0c360_level0_row6\" class=\"row_heading level0 row6\" >dt</th>\n",
       "      <td id=\"T_0c360_row6_col0\" class=\"data row6 col0\" >Decision Tree Regressor</td>\n",
       "      <td id=\"T_0c360_row6_col1\" class=\"data row6 col1\" >11184.5428</td>\n",
       "      <td id=\"T_0c360_row6_col2\" class=\"data row6 col2\" >430738262.4234</td>\n",
       "      <td id=\"T_0c360_row6_col3\" class=\"data row6 col3\" >20521.9883</td>\n",
       "      <td id=\"T_0c360_row6_col4\" class=\"data row6 col4\" >0.9322</td>\n",
       "      <td id=\"T_0c360_row6_col5\" class=\"data row6 col5\" >0.1127</td>\n",
       "      <td id=\"T_0c360_row6_col6\" class=\"data row6 col6\" >0.0702</td>\n",
       "      <td id=\"T_0c360_row6_col7\" class=\"data row6 col7\" >0.0040</td>\n",
       "    </tr>\n",
       "    <tr>\n",
       "      <th id=\"T_0c360_level0_row7\" class=\"row_heading level0 row7\" >lar</th>\n",
       "      <td id=\"T_0c360_row7_col0\" class=\"data row7 col0\" >Least Angle Regression</td>\n",
       "      <td id=\"T_0c360_row7_col1\" class=\"data row7 col1\" >20655.6938</td>\n",
       "      <td id=\"T_0c360_row7_col2\" class=\"data row7 col2\" >847040140.8000</td>\n",
       "      <td id=\"T_0c360_row7_col3\" class=\"data row7 col3\" >29050.9031</td>\n",
       "      <td id=\"T_0c360_row7_col4\" class=\"data row7 col4\" >0.8707</td>\n",
       "      <td id=\"T_0c360_row7_col5\" class=\"data row7 col5\" >0.3506</td>\n",
       "      <td id=\"T_0c360_row7_col6\" class=\"data row7 col6\" >0.2215</td>\n",
       "      <td id=\"T_0c360_row7_col7\" class=\"data row7 col7\" >0.0040</td>\n",
       "    </tr>\n",
       "    <tr>\n",
       "      <th id=\"T_0c360_level0_row8\" class=\"row_heading level0 row8\" >lr</th>\n",
       "      <td id=\"T_0c360_row8_col0\" class=\"data row8 col0\" >Linear Regression</td>\n",
       "      <td id=\"T_0c360_row8_col1\" class=\"data row8 col1\" >20655.6965</td>\n",
       "      <td id=\"T_0c360_row8_col2\" class=\"data row8 col2\" >847040179.2000</td>\n",
       "      <td id=\"T_0c360_row8_col3\" class=\"data row8 col3\" >29050.9043</td>\n",
       "      <td id=\"T_0c360_row8_col4\" class=\"data row8 col4\" >0.8707</td>\n",
       "      <td id=\"T_0c360_row8_col5\" class=\"data row8 col5\" >0.3506</td>\n",
       "      <td id=\"T_0c360_row8_col6\" class=\"data row8 col6\" >0.2215</td>\n",
       "      <td id=\"T_0c360_row8_col7\" class=\"data row8 col7\" >0.0100</td>\n",
       "    </tr>\n",
       "    <tr>\n",
       "      <th id=\"T_0c360_level0_row9\" class=\"row_heading level0 row9\" >llar</th>\n",
       "      <td id=\"T_0c360_row9_col0\" class=\"data row9 col0\" >Lasso Least Angle Regression</td>\n",
       "      <td id=\"T_0c360_row9_col1\" class=\"data row9 col1\" >20655.9844</td>\n",
       "      <td id=\"T_0c360_row9_col2\" class=\"data row9 col2\" >847051571.2000</td>\n",
       "      <td id=\"T_0c360_row9_col3\" class=\"data row9 col3\" >29051.1055</td>\n",
       "      <td id=\"T_0c360_row9_col4\" class=\"data row9 col4\" >0.8707</td>\n",
       "      <td id=\"T_0c360_row9_col5\" class=\"data row9 col5\" >0.3506</td>\n",
       "      <td id=\"T_0c360_row9_col6\" class=\"data row9 col6\" >0.2215</td>\n",
       "      <td id=\"T_0c360_row9_col7\" class=\"data row9 col7\" >0.0040</td>\n",
       "    </tr>\n",
       "    <tr>\n",
       "      <th id=\"T_0c360_level0_row10\" class=\"row_heading level0 row10\" >lasso</th>\n",
       "      <td id=\"T_0c360_row10_col0\" class=\"data row10 col0\" >Lasso Regression</td>\n",
       "      <td id=\"T_0c360_row10_col1\" class=\"data row10 col1\" >20656.0859</td>\n",
       "      <td id=\"T_0c360_row10_col2\" class=\"data row10 col2\" >847054822.4000</td>\n",
       "      <td id=\"T_0c360_row10_col3\" class=\"data row10 col3\" >29051.1621</td>\n",
       "      <td id=\"T_0c360_row10_col4\" class=\"data row10 col4\" >0.8707</td>\n",
       "      <td id=\"T_0c360_row10_col5\" class=\"data row10 col5\" >0.3506</td>\n",
       "      <td id=\"T_0c360_row10_col6\" class=\"data row10 col6\" >0.2215</td>\n",
       "      <td id=\"T_0c360_row10_col7\" class=\"data row10 col7\" >0.0060</td>\n",
       "    </tr>\n",
       "    <tr>\n",
       "      <th id=\"T_0c360_level0_row11\" class=\"row_heading level0 row11\" >br</th>\n",
       "      <td id=\"T_0c360_row11_col0\" class=\"data row11 col0\" >Bayesian Ridge</td>\n",
       "      <td id=\"T_0c360_row11_col1\" class=\"data row11 col1\" >20662.5141</td>\n",
       "      <td id=\"T_0c360_row11_col2\" class=\"data row11 col2\" >847117171.2000</td>\n",
       "      <td id=\"T_0c360_row11_col3\" class=\"data row11 col3\" >29052.3781</td>\n",
       "      <td id=\"T_0c360_row11_col4\" class=\"data row11 col4\" >0.8707</td>\n",
       "      <td id=\"T_0c360_row11_col5\" class=\"data row11 col5\" >0.3507</td>\n",
       "      <td id=\"T_0c360_row11_col6\" class=\"data row11 col6\" >0.2214</td>\n",
       "      <td id=\"T_0c360_row11_col7\" class=\"data row11 col7\" >0.0120</td>\n",
       "    </tr>\n",
       "    <tr>\n",
       "      <th id=\"T_0c360_level0_row12\" class=\"row_heading level0 row12\" >ridge</th>\n",
       "      <td id=\"T_0c360_row12_col0\" class=\"data row12 col0\" >Ridge Regression</td>\n",
       "      <td id=\"T_0c360_row12_col1\" class=\"data row12 col1\" >20671.1762</td>\n",
       "      <td id=\"T_0c360_row12_col2\" class=\"data row12 col2\" >847232972.8000</td>\n",
       "      <td id=\"T_0c360_row12_col3\" class=\"data row12 col3\" >29054.5812</td>\n",
       "      <td id=\"T_0c360_row12_col4\" class=\"data row12 col4\" >0.8707</td>\n",
       "      <td id=\"T_0c360_row12_col5\" class=\"data row12 col5\" >0.3537</td>\n",
       "      <td id=\"T_0c360_row12_col6\" class=\"data row12 col6\" >0.2212</td>\n",
       "      <td id=\"T_0c360_row12_col7\" class=\"data row12 col7\" >0.0060</td>\n",
       "    </tr>\n",
       "    <tr>\n",
       "      <th id=\"T_0c360_level0_row13\" class=\"row_heading level0 row13\" >huber</th>\n",
       "      <td id=\"T_0c360_row13_col0\" class=\"data row13 col0\" >Huber Regressor</td>\n",
       "      <td id=\"T_0c360_row13_col1\" class=\"data row13 col1\" >20680.3907</td>\n",
       "      <td id=\"T_0c360_row13_col2\" class=\"data row13 col2\" >871996455.6330</td>\n",
       "      <td id=\"T_0c360_row13_col3\" class=\"data row13 col3\" >29475.7313</td>\n",
       "      <td id=\"T_0c360_row13_col4\" class=\"data row13 col4\" >0.8669</td>\n",
       "      <td id=\"T_0c360_row13_col5\" class=\"data row13 col5\" >0.3227</td>\n",
       "      <td id=\"T_0c360_row13_col6\" class=\"data row13 col6\" >0.2194</td>\n",
       "      <td id=\"T_0c360_row13_col7\" class=\"data row13 col7\" >0.0060</td>\n",
       "    </tr>\n",
       "    <tr>\n",
       "      <th id=\"T_0c360_level0_row14\" class=\"row_heading level0 row14\" >ada</th>\n",
       "      <td id=\"T_0c360_row14_col0\" class=\"data row14 col0\" >AdaBoost Regressor</td>\n",
       "      <td id=\"T_0c360_row14_col1\" class=\"data row14 col1\" >22888.7982</td>\n",
       "      <td id=\"T_0c360_row14_col2\" class=\"data row14 col2\" >799622488.9726</td>\n",
       "      <td id=\"T_0c360_row14_col3\" class=\"data row14 col3\" >28261.2219</td>\n",
       "      <td id=\"T_0c360_row14_col4\" class=\"data row14 col4\" >0.8772</td>\n",
       "      <td id=\"T_0c360_row14_col5\" class=\"data row14 col5\" >0.2712</td>\n",
       "      <td id=\"T_0c360_row14_col6\" class=\"data row14 col6\" >0.2294</td>\n",
       "      <td id=\"T_0c360_row14_col7\" class=\"data row14 col7\" >0.0160</td>\n",
       "    </tr>\n",
       "    <tr>\n",
       "      <th id=\"T_0c360_level0_row15\" class=\"row_heading level0 row15\" >knn</th>\n",
       "      <td id=\"T_0c360_row15_col0\" class=\"data row15 col0\" >K Neighbors Regressor</td>\n",
       "      <td id=\"T_0c360_row15_col1\" class=\"data row15 col1\" >25092.1176</td>\n",
       "      <td id=\"T_0c360_row15_col2\" class=\"data row15 col2\" >1581908864.0000</td>\n",
       "      <td id=\"T_0c360_row15_col3\" class=\"data row15 col3\" >39610.3289</td>\n",
       "      <td id=\"T_0c360_row15_col4\" class=\"data row15 col4\" >0.7540</td>\n",
       "      <td id=\"T_0c360_row15_col5\" class=\"data row15 col5\" >0.2863</td>\n",
       "      <td id=\"T_0c360_row15_col6\" class=\"data row15 col6\" >0.2136</td>\n",
       "      <td id=\"T_0c360_row15_col7\" class=\"data row15 col7\" >0.0060</td>\n",
       "    </tr>\n",
       "    <tr>\n",
       "      <th id=\"T_0c360_level0_row16\" class=\"row_heading level0 row16\" >en</th>\n",
       "      <td id=\"T_0c360_row16_col0\" class=\"data row16 col0\" >Elastic Net</td>\n",
       "      <td id=\"T_0c360_row16_col1\" class=\"data row16 col1\" >28041.9691</td>\n",
       "      <td id=\"T_0c360_row16_col2\" class=\"data row16 col2\" >1590987699.2000</td>\n",
       "      <td id=\"T_0c360_row16_col3\" class=\"data row16 col3\" >39853.1734</td>\n",
       "      <td id=\"T_0c360_row16_col4\" class=\"data row16 col4\" >0.7566</td>\n",
       "      <td id=\"T_0c360_row16_col5\" class=\"data row16 col5\" >0.3310</td>\n",
       "      <td id=\"T_0c360_row16_col6\" class=\"data row16 col6\" >0.2568</td>\n",
       "      <td id=\"T_0c360_row16_col7\" class=\"data row16 col7\" >0.0040</td>\n",
       "    </tr>\n",
       "    <tr>\n",
       "      <th id=\"T_0c360_level0_row17\" class=\"row_heading level0 row17\" >par</th>\n",
       "      <td id=\"T_0c360_row17_col0\" class=\"data row17 col0\" >Passive Aggressive Regressor</td>\n",
       "      <td id=\"T_0c360_row17_col1\" class=\"data row17 col1\" >32388.2446</td>\n",
       "      <td id=\"T_0c360_row17_col2\" class=\"data row17 col2\" >2090015342.2275</td>\n",
       "      <td id=\"T_0c360_row17_col3\" class=\"data row17 col3\" >45572.4848</td>\n",
       "      <td id=\"T_0c360_row17_col4\" class=\"data row17 col4\" >0.6761</td>\n",
       "      <td id=\"T_0c360_row17_col5\" class=\"data row17 col5\" >0.4207</td>\n",
       "      <td id=\"T_0c360_row17_col6\" class=\"data row17 col6\" >0.2786</td>\n",
       "      <td id=\"T_0c360_row17_col7\" class=\"data row17 col7\" >0.0060</td>\n",
       "    </tr>\n",
       "    <tr>\n",
       "      <th id=\"T_0c360_level0_row18\" class=\"row_heading level0 row18\" >omp</th>\n",
       "      <td id=\"T_0c360_row18_col0\" class=\"data row18 col0\" >Orthogonal Matching Pursuit</td>\n",
       "      <td id=\"T_0c360_row18_col1\" class=\"data row18 col1\" >48707.0500</td>\n",
       "      <td id=\"T_0c360_row18_col2\" class=\"data row18 col2\" >4318484326.4000</td>\n",
       "      <td id=\"T_0c360_row18_col3\" class=\"data row18 col3\" >65657.4734</td>\n",
       "      <td id=\"T_0c360_row18_col4\" class=\"data row18 col4\" >0.3386</td>\n",
       "      <td id=\"T_0c360_row18_col5\" class=\"data row18 col5\" >0.5167</td>\n",
       "      <td id=\"T_0c360_row18_col6\" class=\"data row18 col6\" >0.5193</td>\n",
       "      <td id=\"T_0c360_row18_col7\" class=\"data row18 col7\" >0.0040</td>\n",
       "    </tr>\n",
       "    <tr>\n",
       "      <th id=\"T_0c360_level0_row19\" class=\"row_heading level0 row19\" >dummy</th>\n",
       "      <td id=\"T_0c360_row19_col0\" class=\"data row19 col0\" >Dummy Regressor</td>\n",
       "      <td id=\"T_0c360_row19_col1\" class=\"data row19 col1\" >64081.2461</td>\n",
       "      <td id=\"T_0c360_row19_col2\" class=\"data row19 col2\" >6553141555.2000</td>\n",
       "      <td id=\"T_0c360_row19_col3\" class=\"data row19 col3\" >80887.9266</td>\n",
       "      <td id=\"T_0c360_row19_col4\" class=\"data row19 col4\" >-0.0021</td>\n",
       "      <td id=\"T_0c360_row19_col5\" class=\"data row19 col5\" >0.5952</td>\n",
       "      <td id=\"T_0c360_row19_col6\" class=\"data row19 col6\" >0.6457</td>\n",
       "      <td id=\"T_0c360_row19_col7\" class=\"data row19 col7\" >0.0040</td>\n",
       "    </tr>\n",
       "  </tbody>\n",
       "</table>\n"
      ],
      "text/plain": [
       "<pandas.io.formats.style.Styler at 0x7f72ef91e440>"
      ]
     },
     "metadata": {},
     "output_type": "display_data"
    },
    {
     "data": {
      "text/html": [],
      "text/plain": [
       "<IPython.core.display.HTML object>"
      ]
     },
     "metadata": {},
     "output_type": "display_data"
    }
   ],
   "source": [
    "best = compare_models(sort = 'MAE')"
   ]
  },
  {
   "cell_type": "markdown",
   "id": "09b274e8",
   "metadata": {},
   "source": []
  },
  {
   "cell_type": "markdown",
   "id": "1b50a2e3",
   "metadata": {},
   "source": [
    "## 모델 생성"
   ]
  },
  {
   "cell_type": "code",
   "execution_count": 214,
   "id": "387b5798",
   "metadata": {
    "ExecuteTime": {
     "end_time": "2023-07-30T11:26:53.916143Z",
     "start_time": "2023-07-30T11:26:51.502018Z"
    }
   },
   "outputs": [
    {
     "data": {
      "text/html": [],
      "text/plain": [
       "<IPython.core.display.HTML object>"
      ]
     },
     "metadata": {},
     "output_type": "display_data"
    },
    {
     "data": {
      "text/html": [
       "<style type=\"text/css\">\n",
       "</style>\n",
       "<table id=\"T_9ab5b\">\n",
       "  <thead>\n",
       "    <tr>\n",
       "      <th class=\"blank level0\" >&nbsp;</th>\n",
       "      <th id=\"T_9ab5b_level0_col0\" class=\"col_heading level0 col0\" >MAE</th>\n",
       "      <th id=\"T_9ab5b_level0_col1\" class=\"col_heading level0 col1\" >MSE</th>\n",
       "      <th id=\"T_9ab5b_level0_col2\" class=\"col_heading level0 col2\" >RMSE</th>\n",
       "      <th id=\"T_9ab5b_level0_col3\" class=\"col_heading level0 col3\" >R2</th>\n",
       "      <th id=\"T_9ab5b_level0_col4\" class=\"col_heading level0 col4\" >RMSLE</th>\n",
       "      <th id=\"T_9ab5b_level0_col5\" class=\"col_heading level0 col5\" >MAPE</th>\n",
       "    </tr>\n",
       "  </thead>\n",
       "  <tbody>\n",
       "    <tr>\n",
       "      <th id=\"T_9ab5b_level0_row0\" class=\"row_heading level0 row0\" >Test</th>\n",
       "      <td id=\"T_9ab5b_row0_col0\" class=\"data row0 col0\" >5634.5818</td>\n",
       "      <td id=\"T_9ab5b_row0_col1\" class=\"data row0 col1\" >98493961.3867</td>\n",
       "      <td id=\"T_9ab5b_row0_col2\" class=\"data row0 col2\" >9924.4124</td>\n",
       "      <td id=\"T_9ab5b_row0_col3\" class=\"data row0 col3\" >0.9833</td>\n",
       "      <td id=\"T_9ab5b_row0_col4\" class=\"data row0 col4\" >0.0663</td>\n",
       "      <td id=\"T_9ab5b_row0_col5\" class=\"data row0 col5\" >0.0411</td>\n",
       "    </tr>\n",
       "  </tbody>\n",
       "</table>\n"
      ],
      "text/plain": [
       "<pandas.io.formats.style.Styler at 0x7f72ef2ceda0>"
      ]
     },
     "metadata": {},
     "output_type": "display_data"
    },
    {
     "data": {
      "text/html": [],
      "text/plain": [
       "<IPython.core.display.HTML object>"
      ]
     },
     "metadata": {},
     "output_type": "display_data"
    }
   ],
   "source": [
    "catboost = create_model('catboost', cross_validation=False)"
   ]
  },
  {
   "cell_type": "code",
   "execution_count": null,
   "id": "1698ffa7",
   "metadata": {},
   "outputs": [],
   "source": []
  },
  {
   "cell_type": "code",
   "execution_count": 217,
   "id": "e7c695aa",
   "metadata": {
    "ExecuteTime": {
     "end_time": "2023-07-29T19:13:48.860982Z",
     "start_time": "2023-07-29T19:13:46.746735Z"
    }
   },
   "outputs": [
    {
     "data": {
      "text/html": [],
      "text/plain": [
       "<IPython.core.display.HTML object>"
      ]
     },
     "metadata": {},
     "output_type": "display_data"
    },
    {
     "data": {
      "text/html": [
       "<style type=\"text/css\">\n",
       "</style>\n",
       "<table id=\"T_7f83a\">\n",
       "  <thead>\n",
       "    <tr>\n",
       "      <th class=\"blank level0\" >&nbsp;</th>\n",
       "      <th id=\"T_7f83a_level0_col0\" class=\"col_heading level0 col0\" >MAE</th>\n",
       "      <th id=\"T_7f83a_level0_col1\" class=\"col_heading level0 col1\" >MSE</th>\n",
       "      <th id=\"T_7f83a_level0_col2\" class=\"col_heading level0 col2\" >RMSE</th>\n",
       "      <th id=\"T_7f83a_level0_col3\" class=\"col_heading level0 col3\" >R2</th>\n",
       "      <th id=\"T_7f83a_level0_col4\" class=\"col_heading level0 col4\" >RMSLE</th>\n",
       "      <th id=\"T_7f83a_level0_col5\" class=\"col_heading level0 col5\" >MAPE</th>\n",
       "    </tr>\n",
       "  </thead>\n",
       "  <tbody>\n",
       "    <tr>\n",
       "      <th id=\"T_7f83a_level0_row0\" class=\"row_heading level0 row0\" >Test</th>\n",
       "      <td id=\"T_7f83a_row0_col0\" class=\"data row0 col0\" >5634.5818</td>\n",
       "      <td id=\"T_7f83a_row0_col1\" class=\"data row0 col1\" >98493961.3867</td>\n",
       "      <td id=\"T_7f83a_row0_col2\" class=\"data row0 col2\" >9924.4124</td>\n",
       "      <td id=\"T_7f83a_row0_col3\" class=\"data row0 col3\" >0.9833</td>\n",
       "      <td id=\"T_7f83a_row0_col4\" class=\"data row0 col4\" >0.0663</td>\n",
       "      <td id=\"T_7f83a_row0_col5\" class=\"data row0 col5\" >0.0411</td>\n",
       "    </tr>\n",
       "  </tbody>\n",
       "</table>\n"
      ],
      "text/plain": [
       "<pandas.io.formats.style.Styler at 0x7f72ef2cca30>"
      ]
     },
     "metadata": {},
     "output_type": "display_data"
    },
    {
     "data": {
      "text/html": [],
      "text/plain": [
       "<IPython.core.display.HTML object>"
      ]
     },
     "metadata": {},
     "output_type": "display_data"
    },
    {
     "data": {
      "text/html": [],
      "text/plain": [
       "<IPython.core.display.HTML object>"
      ]
     },
     "metadata": {},
     "output_type": "display_data"
    },
    {
     "data": {
      "text/html": [
       "<style type=\"text/css\">\n",
       "</style>\n",
       "<table id=\"T_3c719\">\n",
       "  <thead>\n",
       "    <tr>\n",
       "      <th class=\"blank level0\" >&nbsp;</th>\n",
       "      <th id=\"T_3c719_level0_col0\" class=\"col_heading level0 col0\" >MAE</th>\n",
       "      <th id=\"T_3c719_level0_col1\" class=\"col_heading level0 col1\" >MSE</th>\n",
       "      <th id=\"T_3c719_level0_col2\" class=\"col_heading level0 col2\" >RMSE</th>\n",
       "      <th id=\"T_3c719_level0_col3\" class=\"col_heading level0 col3\" >R2</th>\n",
       "      <th id=\"T_3c719_level0_col4\" class=\"col_heading level0 col4\" >RMSLE</th>\n",
       "      <th id=\"T_3c719_level0_col5\" class=\"col_heading level0 col5\" >MAPE</th>\n",
       "    </tr>\n",
       "  </thead>\n",
       "  <tbody>\n",
       "    <tr>\n",
       "      <th id=\"T_3c719_level0_row0\" class=\"row_heading level0 row0\" >Test</th>\n",
       "      <td id=\"T_3c719_row0_col0\" class=\"data row0 col0\" >6168.0044</td>\n",
       "      <td id=\"T_3c719_row0_col1\" class=\"data row0 col1\" >154599696.0000</td>\n",
       "      <td id=\"T_3c719_row0_col2\" class=\"data row0 col2\" >12433.8125</td>\n",
       "      <td id=\"T_3c719_row0_col3\" class=\"data row0 col3\" >0.9738</td>\n",
       "      <td id=\"T_3c719_row0_col4\" class=\"data row0 col4\" >0.0690</td>\n",
       "      <td id=\"T_3c719_row0_col5\" class=\"data row0 col5\" >0.0421</td>\n",
       "    </tr>\n",
       "  </tbody>\n",
       "</table>\n"
      ],
      "text/plain": [
       "<pandas.io.formats.style.Styler at 0x7f73ac357310>"
      ]
     },
     "metadata": {},
     "output_type": "display_data"
    },
    {
     "data": {
      "text/html": [],
      "text/plain": [
       "<IPython.core.display.HTML object>"
      ]
     },
     "metadata": {},
     "output_type": "display_data"
    },
    {
     "data": {
      "text/html": [],
      "text/plain": [
       "<IPython.core.display.HTML object>"
      ]
     },
     "metadata": {},
     "output_type": "display_data"
    },
    {
     "data": {
      "text/html": [
       "<style type=\"text/css\">\n",
       "</style>\n",
       "<table id=\"T_da061\">\n",
       "  <thead>\n",
       "    <tr>\n",
       "      <th class=\"blank level0\" >&nbsp;</th>\n",
       "      <th id=\"T_da061_level0_col0\" class=\"col_heading level0 col0\" >MAE</th>\n",
       "      <th id=\"T_da061_level0_col1\" class=\"col_heading level0 col1\" >MSE</th>\n",
       "      <th id=\"T_da061_level0_col2\" class=\"col_heading level0 col2\" >RMSE</th>\n",
       "      <th id=\"T_da061_level0_col3\" class=\"col_heading level0 col3\" >R2</th>\n",
       "      <th id=\"T_da061_level0_col4\" class=\"col_heading level0 col4\" >RMSLE</th>\n",
       "      <th id=\"T_da061_level0_col5\" class=\"col_heading level0 col5\" >MAPE</th>\n",
       "    </tr>\n",
       "  </thead>\n",
       "  <tbody>\n",
       "    <tr>\n",
       "      <th id=\"T_da061_level0_row0\" class=\"row_heading level0 row0\" >Test</th>\n",
       "      <td id=\"T_da061_row0_col0\" class=\"data row0 col0\" >6776.1853</td>\n",
       "      <td id=\"T_da061_row0_col1\" class=\"data row0 col1\" >154182753.6688</td>\n",
       "      <td id=\"T_da061_row0_col2\" class=\"data row0 col2\" >12417.0348</td>\n",
       "      <td id=\"T_da061_row0_col3\" class=\"data row0 col3\" >0.9739</td>\n",
       "      <td id=\"T_da061_row0_col4\" class=\"data row0 col4\" >0.0810</td>\n",
       "      <td id=\"T_da061_row0_col5\" class=\"data row0 col5\" >0.0491</td>\n",
       "    </tr>\n",
       "  </tbody>\n",
       "</table>\n"
      ],
      "text/plain": [
       "<pandas.io.formats.style.Styler at 0x7f72ef91ea40>"
      ]
     },
     "metadata": {},
     "output_type": "display_data"
    },
    {
     "data": {
      "text/html": [],
      "text/plain": [
       "<IPython.core.display.HTML object>"
      ]
     },
     "metadata": {},
     "output_type": "display_data"
    }
   ],
   "source": [
    "catboost = create_model('catboost', cross_validation=False)\n",
    "xgboost = create_model('xgboost', cross_validation=False)\n",
    "lightgbm = create_model('lightgbm', cross_validation=False)"
   ]
  },
  {
   "cell_type": "markdown",
   "id": "4af3f12f",
   "metadata": {},
   "source": [
    "## 하이퍼 파라미터 튜닝"
   ]
  },
  {
   "cell_type": "markdown",
   "id": "50492c63",
   "metadata": {},
   "source": [
    "모델 튜닝에는 기본적으로 K-Fold CV를 바탕으로 진행되며 최적화는 과업에 맞게 'MAE'를 선택해 진행했다.\n",
    "튜닝 방법은 일반적으로 Random Grid를 iter(default=10)만큼 최적화 시킨다.(해당 방법 외 custom grid 파라미터를 추가하여 튜닝을 진행할 수 있다.)"
   ]
  },
  {
   "cell_type": "code",
   "execution_count": 219,
   "id": "036322fc",
   "metadata": {
    "ExecuteTime": {
     "end_time": "2023-07-30T11:27:05.811788Z",
     "start_time": "2023-07-30T11:26:57.524539Z"
    },
    "scrolled": false
   },
   "outputs": [
    {
     "data": {
      "text/html": [],
      "text/plain": [
       "<IPython.core.display.HTML object>"
      ]
     },
     "metadata": {},
     "output_type": "display_data"
    },
    {
     "data": {
      "text/html": [
       "<style type=\"text/css\">\n",
       "#T_7c93f_row5_col0, #T_7c93f_row5_col1, #T_7c93f_row5_col2, #T_7c93f_row5_col3, #T_7c93f_row5_col4, #T_7c93f_row5_col5 {\n",
       "  background: yellow;\n",
       "}\n",
       "</style>\n",
       "<table id=\"T_7c93f\">\n",
       "  <thead>\n",
       "    <tr>\n",
       "      <th class=\"blank level0\" >&nbsp;</th>\n",
       "      <th id=\"T_7c93f_level0_col0\" class=\"col_heading level0 col0\" >MAE</th>\n",
       "      <th id=\"T_7c93f_level0_col1\" class=\"col_heading level0 col1\" >MSE</th>\n",
       "      <th id=\"T_7c93f_level0_col2\" class=\"col_heading level0 col2\" >RMSE</th>\n",
       "      <th id=\"T_7c93f_level0_col3\" class=\"col_heading level0 col3\" >R2</th>\n",
       "      <th id=\"T_7c93f_level0_col4\" class=\"col_heading level0 col4\" >RMSLE</th>\n",
       "      <th id=\"T_7c93f_level0_col5\" class=\"col_heading level0 col5\" >MAPE</th>\n",
       "    </tr>\n",
       "    <tr>\n",
       "      <th class=\"index_name level0\" >Fold</th>\n",
       "      <th class=\"blank col0\" >&nbsp;</th>\n",
       "      <th class=\"blank col1\" >&nbsp;</th>\n",
       "      <th class=\"blank col2\" >&nbsp;</th>\n",
       "      <th class=\"blank col3\" >&nbsp;</th>\n",
       "      <th class=\"blank col4\" >&nbsp;</th>\n",
       "      <th class=\"blank col5\" >&nbsp;</th>\n",
       "    </tr>\n",
       "  </thead>\n",
       "  <tbody>\n",
       "    <tr>\n",
       "      <th id=\"T_7c93f_level0_row0\" class=\"row_heading level0 row0\" >0</th>\n",
       "      <td id=\"T_7c93f_row0_col0\" class=\"data row0 col0\" >10257.8262</td>\n",
       "      <td id=\"T_7c93f_row0_col1\" class=\"data row0 col1\" >256922992.0000</td>\n",
       "      <td id=\"T_7c93f_row0_col2\" class=\"data row0 col2\" >16028.8174</td>\n",
       "      <td id=\"T_7c93f_row0_col3\" class=\"data row0 col3\" >0.9555</td>\n",
       "      <td id=\"T_7c93f_row0_col4\" class=\"data row0 col4\" >0.1099</td>\n",
       "      <td id=\"T_7c93f_row0_col5\" class=\"data row0 col5\" >0.0716</td>\n",
       "    </tr>\n",
       "    <tr>\n",
       "      <th id=\"T_7c93f_level0_row1\" class=\"row_heading level0 row1\" >1</th>\n",
       "      <td id=\"T_7c93f_row1_col0\" class=\"data row1 col0\" >7274.5220</td>\n",
       "      <td id=\"T_7c93f_row1_col1\" class=\"data row1 col1\" >146473600.0000</td>\n",
       "      <td id=\"T_7c93f_row1_col2\" class=\"data row1 col2\" >12102.6279</td>\n",
       "      <td id=\"T_7c93f_row1_col3\" class=\"data row1 col3\" >0.9772</td>\n",
       "      <td id=\"T_7c93f_row1_col4\" class=\"data row1 col4\" >0.0779</td>\n",
       "      <td id=\"T_7c93f_row1_col5\" class=\"data row1 col5\" >0.0496</td>\n",
       "    </tr>\n",
       "    <tr>\n",
       "      <th id=\"T_7c93f_level0_row2\" class=\"row_heading level0 row2\" >2</th>\n",
       "      <td id=\"T_7c93f_row2_col0\" class=\"data row2 col0\" >6846.7368</td>\n",
       "      <td id=\"T_7c93f_row2_col1\" class=\"data row2 col1\" >168791856.0000</td>\n",
       "      <td id=\"T_7c93f_row2_col2\" class=\"data row2 col2\" >12991.9922</td>\n",
       "      <td id=\"T_7c93f_row2_col3\" class=\"data row2 col3\" >0.9732</td>\n",
       "      <td id=\"T_7c93f_row2_col4\" class=\"data row2 col4\" >0.0710</td>\n",
       "      <td id=\"T_7c93f_row2_col5\" class=\"data row2 col5\" >0.0457</td>\n",
       "    </tr>\n",
       "    <tr>\n",
       "      <th id=\"T_7c93f_level0_row3\" class=\"row_heading level0 row3\" >3</th>\n",
       "      <td id=\"T_7c93f_row3_col0\" class=\"data row3 col0\" >6898.4873</td>\n",
       "      <td id=\"T_7c93f_row3_col1\" class=\"data row3 col1\" >134018824.0000</td>\n",
       "      <td id=\"T_7c93f_row3_col2\" class=\"data row3 col2\" >11576.6504</td>\n",
       "      <td id=\"T_7c93f_row3_col3\" class=\"data row3 col3\" >0.9810</td>\n",
       "      <td id=\"T_7c93f_row3_col4\" class=\"data row3 col4\" >0.0667</td>\n",
       "      <td id=\"T_7c93f_row3_col5\" class=\"data row3 col5\" >0.0443</td>\n",
       "    </tr>\n",
       "    <tr>\n",
       "      <th id=\"T_7c93f_level0_row4\" class=\"row_heading level0 row4\" >4</th>\n",
       "      <td id=\"T_7c93f_row4_col0\" class=\"data row4 col0\" >6568.8359</td>\n",
       "      <td id=\"T_7c93f_row4_col1\" class=\"data row4 col1\" >111161304.0000</td>\n",
       "      <td id=\"T_7c93f_row4_col2\" class=\"data row4 col2\" >10543.3057</td>\n",
       "      <td id=\"T_7c93f_row4_col3\" class=\"data row4 col3\" >0.9844</td>\n",
       "      <td id=\"T_7c93f_row4_col4\" class=\"data row4 col4\" >0.0664</td>\n",
       "      <td id=\"T_7c93f_row4_col5\" class=\"data row4 col5\" >0.0431</td>\n",
       "    </tr>\n",
       "    <tr>\n",
       "      <th id=\"T_7c93f_level0_row5\" class=\"row_heading level0 row5\" >Mean</th>\n",
       "      <td id=\"T_7c93f_row5_col0\" class=\"data row5 col0\" >7569.2816</td>\n",
       "      <td id=\"T_7c93f_row5_col1\" class=\"data row5 col1\" >163473715.2000</td>\n",
       "      <td id=\"T_7c93f_row5_col2\" class=\"data row5 col2\" >12648.6787</td>\n",
       "      <td id=\"T_7c93f_row5_col3\" class=\"data row5 col3\" >0.9743</td>\n",
       "      <td id=\"T_7c93f_row5_col4\" class=\"data row5 col4\" >0.0784</td>\n",
       "      <td id=\"T_7c93f_row5_col5\" class=\"data row5 col5\" >0.0509</td>\n",
       "    </tr>\n",
       "    <tr>\n",
       "      <th id=\"T_7c93f_level0_row6\" class=\"row_heading level0 row6\" >Std</th>\n",
       "      <td id=\"T_7c93f_row6_col0\" class=\"data row6 col0\" >1362.9441</td>\n",
       "      <td id=\"T_7c93f_row6_col1\" class=\"data row6 col1\" >50307520.0223</td>\n",
       "      <td id=\"T_7c93f_row6_col2\" class=\"data row6 col2\" >1866.7198</td>\n",
       "      <td id=\"T_7c93f_row6_col3\" class=\"data row6 col3\" >0.0101</td>\n",
       "      <td id=\"T_7c93f_row6_col4\" class=\"data row6 col4\" >0.0163</td>\n",
       "      <td id=\"T_7c93f_row6_col5\" class=\"data row6 col5\" >0.0106</td>\n",
       "    </tr>\n",
       "  </tbody>\n",
       "</table>\n"
      ],
      "text/plain": [
       "<pandas.io.formats.style.Styler at 0x7f72ef2e6b30>"
      ]
     },
     "metadata": {},
     "output_type": "display_data"
    },
    {
     "data": {
      "text/html": [],
      "text/plain": [
       "<IPython.core.display.HTML object>"
      ]
     },
     "metadata": {},
     "output_type": "display_data"
    },
    {
     "name": "stdout",
     "output_type": "stream",
     "text": [
      "Fitting 5 folds for each of 10 candidates, totalling 50 fits\n"
     ]
    },
    {
     "data": {
      "text/html": [],
      "text/plain": [
       "<IPython.core.display.HTML object>"
      ]
     },
     "metadata": {},
     "output_type": "display_data"
    },
    {
     "data": {
      "text/html": [
       "<style type=\"text/css\">\n",
       "#T_cfb94_row5_col0, #T_cfb94_row5_col1, #T_cfb94_row5_col2, #T_cfb94_row5_col3, #T_cfb94_row5_col4, #T_cfb94_row5_col5 {\n",
       "  background: yellow;\n",
       "}\n",
       "</style>\n",
       "<table id=\"T_cfb94\">\n",
       "  <thead>\n",
       "    <tr>\n",
       "      <th class=\"blank level0\" >&nbsp;</th>\n",
       "      <th id=\"T_cfb94_level0_col0\" class=\"col_heading level0 col0\" >MAE</th>\n",
       "      <th id=\"T_cfb94_level0_col1\" class=\"col_heading level0 col1\" >MSE</th>\n",
       "      <th id=\"T_cfb94_level0_col2\" class=\"col_heading level0 col2\" >RMSE</th>\n",
       "      <th id=\"T_cfb94_level0_col3\" class=\"col_heading level0 col3\" >R2</th>\n",
       "      <th id=\"T_cfb94_level0_col4\" class=\"col_heading level0 col4\" >RMSLE</th>\n",
       "      <th id=\"T_cfb94_level0_col5\" class=\"col_heading level0 col5\" >MAPE</th>\n",
       "    </tr>\n",
       "    <tr>\n",
       "      <th class=\"index_name level0\" >Fold</th>\n",
       "      <th class=\"blank col0\" >&nbsp;</th>\n",
       "      <th class=\"blank col1\" >&nbsp;</th>\n",
       "      <th class=\"blank col2\" >&nbsp;</th>\n",
       "      <th class=\"blank col3\" >&nbsp;</th>\n",
       "      <th class=\"blank col4\" >&nbsp;</th>\n",
       "      <th class=\"blank col5\" >&nbsp;</th>\n",
       "    </tr>\n",
       "  </thead>\n",
       "  <tbody>\n",
       "    <tr>\n",
       "      <th id=\"T_cfb94_level0_row0\" class=\"row_heading level0 row0\" >0</th>\n",
       "      <td id=\"T_cfb94_row0_col0\" class=\"data row0 col0\" >9383.5904</td>\n",
       "      <td id=\"T_cfb94_row0_col1\" class=\"data row0 col1\" >215664479.5821</td>\n",
       "      <td id=\"T_cfb94_row0_col2\" class=\"data row0 col2\" >14685.5194</td>\n",
       "      <td id=\"T_cfb94_row0_col3\" class=\"data row0 col3\" >0.9626</td>\n",
       "      <td id=\"T_cfb94_row0_col4\" class=\"data row0 col4\" >0.1040</td>\n",
       "      <td id=\"T_cfb94_row0_col5\" class=\"data row0 col5\" >0.0673</td>\n",
       "    </tr>\n",
       "    <tr>\n",
       "      <th id=\"T_cfb94_level0_row1\" class=\"row_heading level0 row1\" >1</th>\n",
       "      <td id=\"T_cfb94_row1_col0\" class=\"data row1 col0\" >7147.1776</td>\n",
       "      <td id=\"T_cfb94_row1_col1\" class=\"data row1 col1\" >133308353.6290</td>\n",
       "      <td id=\"T_cfb94_row1_col2\" class=\"data row1 col2\" >11545.9237</td>\n",
       "      <td id=\"T_cfb94_row1_col3\" class=\"data row1 col3\" >0.9792</td>\n",
       "      <td id=\"T_cfb94_row1_col4\" class=\"data row1 col4\" >0.0734</td>\n",
       "      <td id=\"T_cfb94_row1_col5\" class=\"data row1 col5\" >0.0488</td>\n",
       "    </tr>\n",
       "    <tr>\n",
       "      <th id=\"T_cfb94_level0_row2\" class=\"row_heading level0 row2\" >2</th>\n",
       "      <td id=\"T_cfb94_row2_col0\" class=\"data row2 col0\" >6384.0036</td>\n",
       "      <td id=\"T_cfb94_row2_col1\" class=\"data row2 col1\" >205600636.8754</td>\n",
       "      <td id=\"T_cfb94_row2_col2\" class=\"data row2 col2\" >14338.7809</td>\n",
       "      <td id=\"T_cfb94_row2_col3\" class=\"data row2 col3\" >0.9674</td>\n",
       "      <td id=\"T_cfb94_row2_col4\" class=\"data row2 col4\" >0.0695</td>\n",
       "      <td id=\"T_cfb94_row2_col5\" class=\"data row2 col5\" >0.0421</td>\n",
       "    </tr>\n",
       "    <tr>\n",
       "      <th id=\"T_cfb94_level0_row3\" class=\"row_heading level0 row3\" >3</th>\n",
       "      <td id=\"T_cfb94_row3_col0\" class=\"data row3 col0\" >6758.3016</td>\n",
       "      <td id=\"T_cfb94_row3_col1\" class=\"data row3 col1\" >150813135.2529</td>\n",
       "      <td id=\"T_cfb94_row3_col2\" class=\"data row3 col2\" >12280.6000</td>\n",
       "      <td id=\"T_cfb94_row3_col3\" class=\"data row3 col3\" >0.9787</td>\n",
       "      <td id=\"T_cfb94_row3_col4\" class=\"data row3 col4\" >0.0704</td>\n",
       "      <td id=\"T_cfb94_row3_col5\" class=\"data row3 col5\" >0.0449</td>\n",
       "    </tr>\n",
       "    <tr>\n",
       "      <th id=\"T_cfb94_level0_row4\" class=\"row_heading level0 row4\" >4</th>\n",
       "      <td id=\"T_cfb94_row4_col0\" class=\"data row4 col0\" >6065.1739</td>\n",
       "      <td id=\"T_cfb94_row4_col1\" class=\"data row4 col1\" >113378423.2438</td>\n",
       "      <td id=\"T_cfb94_row4_col2\" class=\"data row4 col2\" >10647.9305</td>\n",
       "      <td id=\"T_cfb94_row4_col3\" class=\"data row4 col3\" >0.9841</td>\n",
       "      <td id=\"T_cfb94_row4_col4\" class=\"data row4 col4\" >0.0649</td>\n",
       "      <td id=\"T_cfb94_row4_col5\" class=\"data row4 col5\" >0.0390</td>\n",
       "    </tr>\n",
       "    <tr>\n",
       "      <th id=\"T_cfb94_level0_row5\" class=\"row_heading level0 row5\" >Mean</th>\n",
       "      <td id=\"T_cfb94_row5_col0\" class=\"data row5 col0\" >7147.6494</td>\n",
       "      <td id=\"T_cfb94_row5_col1\" class=\"data row5 col1\" >163753005.7166</td>\n",
       "      <td id=\"T_cfb94_row5_col2\" class=\"data row5 col2\" >12699.7509</td>\n",
       "      <td id=\"T_cfb94_row5_col3\" class=\"data row5 col3\" >0.9744</td>\n",
       "      <td id=\"T_cfb94_row5_col4\" class=\"data row5 col4\" >0.0764</td>\n",
       "      <td id=\"T_cfb94_row5_col5\" class=\"data row5 col5\" >0.0484</td>\n",
       "    </tr>\n",
       "    <tr>\n",
       "      <th id=\"T_cfb94_level0_row6\" class=\"row_heading level0 row6\" >Std</th>\n",
       "      <td id=\"T_cfb94_row6_col0\" class=\"data row6 col0\" >1175.2389</td>\n",
       "      <td id=\"T_cfb94_row6_col1\" class=\"data row6 col1\" >40194380.2046</td>\n",
       "      <td id=\"T_cfb94_row6_col2\" class=\"data row6 col2\" >1571.4113</td>\n",
       "      <td id=\"T_cfb94_row6_col3\" class=\"data row6 col3\" >0.0080</td>\n",
       "      <td id=\"T_cfb94_row6_col4\" class=\"data row6 col4\" >0.0140</td>\n",
       "      <td id=\"T_cfb94_row6_col5\" class=\"data row6 col5\" >0.0100</td>\n",
       "    </tr>\n",
       "  </tbody>\n",
       "</table>\n"
      ],
      "text/plain": [
       "<pandas.io.formats.style.Styler at 0x7f72ef9c6440>"
      ]
     },
     "metadata": {},
     "output_type": "display_data"
    },
    {
     "data": {
      "text/html": [],
      "text/plain": [
       "<IPython.core.display.HTML object>"
      ]
     },
     "metadata": {},
     "output_type": "display_data"
    },
    {
     "name": "stdout",
     "output_type": "stream",
     "text": [
      "Fitting 5 folds for each of 10 candidates, totalling 50 fits\n",
      "Original model was better than the tuned model, hence it will be returned. NOTE: The display metrics are for the tuned model (not the original one).\n"
     ]
    },
    {
     "data": {
      "text/html": [],
      "text/plain": [
       "<IPython.core.display.HTML object>"
      ]
     },
     "metadata": {},
     "output_type": "display_data"
    },
    {
     "data": {
      "text/html": [
       "<style type=\"text/css\">\n",
       "#T_f28b4_row5_col0, #T_f28b4_row5_col1, #T_f28b4_row5_col2, #T_f28b4_row5_col3, #T_f28b4_row5_col4, #T_f28b4_row5_col5 {\n",
       "  background: yellow;\n",
       "}\n",
       "</style>\n",
       "<table id=\"T_f28b4\">\n",
       "  <thead>\n",
       "    <tr>\n",
       "      <th class=\"blank level0\" >&nbsp;</th>\n",
       "      <th id=\"T_f28b4_level0_col0\" class=\"col_heading level0 col0\" >MAE</th>\n",
       "      <th id=\"T_f28b4_level0_col1\" class=\"col_heading level0 col1\" >MSE</th>\n",
       "      <th id=\"T_f28b4_level0_col2\" class=\"col_heading level0 col2\" >RMSE</th>\n",
       "      <th id=\"T_f28b4_level0_col3\" class=\"col_heading level0 col3\" >R2</th>\n",
       "      <th id=\"T_f28b4_level0_col4\" class=\"col_heading level0 col4\" >RMSLE</th>\n",
       "      <th id=\"T_f28b4_level0_col5\" class=\"col_heading level0 col5\" >MAPE</th>\n",
       "    </tr>\n",
       "    <tr>\n",
       "      <th class=\"index_name level0\" >Fold</th>\n",
       "      <th class=\"blank col0\" >&nbsp;</th>\n",
       "      <th class=\"blank col1\" >&nbsp;</th>\n",
       "      <th class=\"blank col2\" >&nbsp;</th>\n",
       "      <th class=\"blank col3\" >&nbsp;</th>\n",
       "      <th class=\"blank col4\" >&nbsp;</th>\n",
       "      <th class=\"blank col5\" >&nbsp;</th>\n",
       "    </tr>\n",
       "  </thead>\n",
       "  <tbody>\n",
       "    <tr>\n",
       "      <th id=\"T_f28b4_level0_row0\" class=\"row_heading level0 row0\" >0</th>\n",
       "      <td id=\"T_f28b4_row0_col0\" class=\"data row0 col0\" >10037.3540</td>\n",
       "      <td id=\"T_f28b4_row0_col1\" class=\"data row0 col1\" >228223009.7219</td>\n",
       "      <td id=\"T_f28b4_row0_col2\" class=\"data row0 col2\" >15107.0517</td>\n",
       "      <td id=\"T_f28b4_row0_col3\" class=\"data row0 col3\" >0.9605</td>\n",
       "      <td id=\"T_f28b4_row0_col4\" class=\"data row0 col4\" >0.1162</td>\n",
       "      <td id=\"T_f28b4_row0_col5\" class=\"data row0 col5\" >0.0726</td>\n",
       "    </tr>\n",
       "    <tr>\n",
       "      <th id=\"T_f28b4_level0_row1\" class=\"row_heading level0 row1\" >1</th>\n",
       "      <td id=\"T_f28b4_row1_col0\" class=\"data row1 col0\" >7145.9652</td>\n",
       "      <td id=\"T_f28b4_row1_col1\" class=\"data row1 col1\" >123657526.9507</td>\n",
       "      <td id=\"T_f28b4_row1_col2\" class=\"data row1 col2\" >11120.1406</td>\n",
       "      <td id=\"T_f28b4_row1_col3\" class=\"data row1 col3\" >0.9807</td>\n",
       "      <td id=\"T_f28b4_row1_col4\" class=\"data row1 col4\" >0.0866</td>\n",
       "      <td id=\"T_f28b4_row1_col5\" class=\"data row1 col5\" >0.0519</td>\n",
       "    </tr>\n",
       "    <tr>\n",
       "      <th id=\"T_f28b4_level0_row2\" class=\"row_heading level0 row2\" >2</th>\n",
       "      <td id=\"T_f28b4_row2_col0\" class=\"data row2 col0\" >6579.5979</td>\n",
       "      <td id=\"T_f28b4_row2_col1\" class=\"data row2 col1\" >144118534.2354</td>\n",
       "      <td id=\"T_f28b4_row2_col2\" class=\"data row2 col2\" >12004.9379</td>\n",
       "      <td id=\"T_f28b4_row2_col3\" class=\"data row2 col3\" >0.9771</td>\n",
       "      <td id=\"T_f28b4_row2_col4\" class=\"data row2 col4\" >0.0723</td>\n",
       "      <td id=\"T_f28b4_row2_col5\" class=\"data row2 col5\" >0.0465</td>\n",
       "    </tr>\n",
       "    <tr>\n",
       "      <th id=\"T_f28b4_level0_row3\" class=\"row_heading level0 row3\" >3</th>\n",
       "      <td id=\"T_f28b4_row3_col0\" class=\"data row3 col0\" >6633.1614</td>\n",
       "      <td id=\"T_f28b4_row3_col1\" class=\"data row3 col1\" >111234676.7461</td>\n",
       "      <td id=\"T_f28b4_row3_col2\" class=\"data row3 col2\" >10546.7851</td>\n",
       "      <td id=\"T_f28b4_row3_col3\" class=\"data row3 col3\" >0.9843</td>\n",
       "      <td id=\"T_f28b4_row3_col4\" class=\"data row3 col4\" >0.0700</td>\n",
       "      <td id=\"T_f28b4_row3_col5\" class=\"data row3 col5\" >0.0451</td>\n",
       "    </tr>\n",
       "    <tr>\n",
       "      <th id=\"T_f28b4_level0_row4\" class=\"row_heading level0 row4\" >4</th>\n",
       "      <td id=\"T_f28b4_row4_col0\" class=\"data row4 col0\" >6477.4385</td>\n",
       "      <td id=\"T_f28b4_row4_col1\" class=\"data row4 col1\" >107393985.0932</td>\n",
       "      <td id=\"T_f28b4_row4_col2\" class=\"data row4 col2\" >10363.1069</td>\n",
       "      <td id=\"T_f28b4_row4_col3\" class=\"data row4 col3\" >0.9849</td>\n",
       "      <td id=\"T_f28b4_row4_col4\" class=\"data row4 col4\" >0.0695</td>\n",
       "      <td id=\"T_f28b4_row4_col5\" class=\"data row4 col5\" >0.0438</td>\n",
       "    </tr>\n",
       "    <tr>\n",
       "      <th id=\"T_f28b4_level0_row5\" class=\"row_heading level0 row5\" >Mean</th>\n",
       "      <td id=\"T_f28b4_row5_col0\" class=\"data row5 col0\" >7374.7034</td>\n",
       "      <td id=\"T_f28b4_row5_col1\" class=\"data row5 col1\" >142925546.5495</td>\n",
       "      <td id=\"T_f28b4_row5_col2\" class=\"data row5 col2\" >11828.4044</td>\n",
       "      <td id=\"T_f28b4_row5_col3\" class=\"data row5 col3\" >0.9775</td>\n",
       "      <td id=\"T_f28b4_row5_col4\" class=\"data row5 col4\" >0.0829</td>\n",
       "      <td id=\"T_f28b4_row5_col5\" class=\"data row5 col5\" >0.0520</td>\n",
       "    </tr>\n",
       "    <tr>\n",
       "      <th id=\"T_f28b4_level0_row6\" class=\"row_heading level0 row6\" >Std</th>\n",
       "      <td id=\"T_f28b4_row6_col0\" class=\"data row6 col0\" >1351.2358</td>\n",
       "      <td id=\"T_f28b4_row6_col1\" class=\"data row6 col1\" >44531202.7930</td>\n",
       "      <td id=\"T_f28b4_row6_col2\" class=\"data row6 col2\" >1736.2013</td>\n",
       "      <td id=\"T_f28b4_row6_col3\" class=\"data row6 col3\" >0.0090</td>\n",
       "      <td id=\"T_f28b4_row6_col4\" class=\"data row6 col4\" >0.0178</td>\n",
       "      <td id=\"T_f28b4_row6_col5\" class=\"data row6 col5\" >0.0107</td>\n",
       "    </tr>\n",
       "  </tbody>\n",
       "</table>\n"
      ],
      "text/plain": [
       "<pandas.io.formats.style.Styler at 0x7f72ef13c2b0>"
      ]
     },
     "metadata": {},
     "output_type": "display_data"
    },
    {
     "data": {
      "text/html": [],
      "text/plain": [
       "<IPython.core.display.HTML object>"
      ]
     },
     "metadata": {},
     "output_type": "display_data"
    },
    {
     "name": "stdout",
     "output_type": "stream",
     "text": [
      "Fitting 5 folds for each of 10 candidates, totalling 50 fits\n"
     ]
    }
   ],
   "source": [
    "tuned_xgboost = tune_model(xgboost, optimize = 'MAE', n_iter = 10)\n",
    "tuned_catboost = tune_model(catboost, optimize = 'MAE', n_iter = 10)\n",
    "tuned_lightgbm = tune_model(lightgbm, optimize = 'MAE', n_iter = 10)\n"
   ]
  },
  {
   "cell_type": "markdown",
   "id": "a0061a1b",
   "metadata": {
    "ExecuteTime": {
     "end_time": "2023-07-29T18:18:10.518619Z",
     "start_time": "2023-07-29T18:18:10.507349Z"
    }
   },
   "source": []
  },
  {
   "cell_type": "markdown",
   "id": "50d01fbb",
   "metadata": {},
   "source": [
    "## 블렌딩"
   ]
  },
  {
   "cell_type": "code",
   "execution_count": 220,
   "id": "1004525f",
   "metadata": {
    "ExecuteTime": {
     "end_time": "2023-07-29T18:47:34.724216Z",
     "start_time": "2023-07-29T18:47:33.831676Z"
    },
    "scrolled": false
   },
   "outputs": [
    {
     "data": {
      "text/html": [],
      "text/plain": [
       "<IPython.core.display.HTML object>"
      ]
     },
     "metadata": {},
     "output_type": "display_data"
    },
    {
     "data": {
      "text/html": [
       "<style type=\"text/css\">\n",
       "#T_f0b65_row5_col0, #T_f0b65_row5_col1, #T_f0b65_row5_col2, #T_f0b65_row5_col3, #T_f0b65_row5_col4, #T_f0b65_row5_col5 {\n",
       "  background: yellow;\n",
       "}\n",
       "</style>\n",
       "<table id=\"T_f0b65\">\n",
       "  <thead>\n",
       "    <tr>\n",
       "      <th class=\"blank level0\" >&nbsp;</th>\n",
       "      <th id=\"T_f0b65_level0_col0\" class=\"col_heading level0 col0\" >MAE</th>\n",
       "      <th id=\"T_f0b65_level0_col1\" class=\"col_heading level0 col1\" >MSE</th>\n",
       "      <th id=\"T_f0b65_level0_col2\" class=\"col_heading level0 col2\" >RMSE</th>\n",
       "      <th id=\"T_f0b65_level0_col3\" class=\"col_heading level0 col3\" >R2</th>\n",
       "      <th id=\"T_f0b65_level0_col4\" class=\"col_heading level0 col4\" >RMSLE</th>\n",
       "      <th id=\"T_f0b65_level0_col5\" class=\"col_heading level0 col5\" >MAPE</th>\n",
       "    </tr>\n",
       "    <tr>\n",
       "      <th class=\"index_name level0\" >Fold</th>\n",
       "      <th class=\"blank col0\" >&nbsp;</th>\n",
       "      <th class=\"blank col1\" >&nbsp;</th>\n",
       "      <th class=\"blank col2\" >&nbsp;</th>\n",
       "      <th class=\"blank col3\" >&nbsp;</th>\n",
       "      <th class=\"blank col4\" >&nbsp;</th>\n",
       "      <th class=\"blank col5\" >&nbsp;</th>\n",
       "    </tr>\n",
       "  </thead>\n",
       "  <tbody>\n",
       "    <tr>\n",
       "      <th id=\"T_f0b65_level0_row0\" class=\"row_heading level0 row0\" >0</th>\n",
       "      <td id=\"T_f0b65_row0_col0\" class=\"data row0 col0\" >9054.3709</td>\n",
       "      <td id=\"T_f0b65_row0_col1\" class=\"data row0 col1\" >207814297.2508</td>\n",
       "      <td id=\"T_f0b65_row0_col2\" class=\"data row0 col2\" >14415.7656</td>\n",
       "      <td id=\"T_f0b65_row0_col3\" class=\"data row0 col3\" >0.9640</td>\n",
       "      <td id=\"T_f0b65_row0_col4\" class=\"data row0 col4\" >0.0977</td>\n",
       "      <td id=\"T_f0b65_row0_col5\" class=\"data row0 col5\" >0.0638</td>\n",
       "    </tr>\n",
       "    <tr>\n",
       "      <th id=\"T_f0b65_level0_row1\" class=\"row_heading level0 row1\" >1</th>\n",
       "      <td id=\"T_f0b65_row1_col0\" class=\"data row1 col0\" >6373.2935</td>\n",
       "      <td id=\"T_f0b65_row1_col1\" class=\"data row1 col1\" >99980114.6232</td>\n",
       "      <td id=\"T_f0b65_row1_col2\" class=\"data row1 col2\" >9999.0057</td>\n",
       "      <td id=\"T_f0b65_row1_col3\" class=\"data row1 col3\" >0.9844</td>\n",
       "      <td id=\"T_f0b65_row1_col4\" class=\"data row1 col4\" >0.0641</td>\n",
       "      <td id=\"T_f0b65_row1_col5\" class=\"data row1 col5\" >0.0436</td>\n",
       "    </tr>\n",
       "    <tr>\n",
       "      <th id=\"T_f0b65_level0_row2\" class=\"row_heading level0 row2\" >2</th>\n",
       "      <td id=\"T_f0b65_row2_col0\" class=\"data row2 col0\" >5815.1910</td>\n",
       "      <td id=\"T_f0b65_row2_col1\" class=\"data row2 col1\" >117620870.5071</td>\n",
       "      <td id=\"T_f0b65_row2_col2\" class=\"data row2 col2\" >10845.3156</td>\n",
       "      <td id=\"T_f0b65_row2_col3\" class=\"data row2 col3\" >0.9813</td>\n",
       "      <td id=\"T_f0b65_row2_col4\" class=\"data row2 col4\" >0.0605</td>\n",
       "      <td id=\"T_f0b65_row2_col5\" class=\"data row2 col5\" >0.0393</td>\n",
       "    </tr>\n",
       "    <tr>\n",
       "      <th id=\"T_f0b65_level0_row3\" class=\"row_heading level0 row3\" >3</th>\n",
       "      <td id=\"T_f0b65_row3_col0\" class=\"data row3 col0\" >6085.5740</td>\n",
       "      <td id=\"T_f0b65_row3_col1\" class=\"data row3 col1\" >96633118.0471</td>\n",
       "      <td id=\"T_f0b65_row3_col2\" class=\"data row3 col2\" >9830.2145</td>\n",
       "      <td id=\"T_f0b65_row3_col3\" class=\"data row3 col3\" >0.9863</td>\n",
       "      <td id=\"T_f0b65_row3_col4\" class=\"data row3 col4\" >0.0613</td>\n",
       "      <td id=\"T_f0b65_row3_col5\" class=\"data row3 col5\" >0.0403</td>\n",
       "    </tr>\n",
       "    <tr>\n",
       "      <th id=\"T_f0b65_level0_row4\" class=\"row_heading level0 row4\" >4</th>\n",
       "      <td id=\"T_f0b65_row4_col0\" class=\"data row4 col0\" >6054.9451</td>\n",
       "      <td id=\"T_f0b65_row4_col1\" class=\"data row4 col1\" >93280179.1602</td>\n",
       "      <td id=\"T_f0b65_row4_col2\" class=\"data row4 col2\" >9658.1664</td>\n",
       "      <td id=\"T_f0b65_row4_col3\" class=\"data row4 col3\" >0.9869</td>\n",
       "      <td id=\"T_f0b65_row4_col4\" class=\"data row4 col4\" >0.0607</td>\n",
       "      <td id=\"T_f0b65_row4_col5\" class=\"data row4 col5\" >0.0393</td>\n",
       "    </tr>\n",
       "    <tr>\n",
       "      <th id=\"T_f0b65_level0_row5\" class=\"row_heading level0 row5\" >Mean</th>\n",
       "      <td id=\"T_f0b65_row5_col0\" class=\"data row5 col0\" >6676.6749</td>\n",
       "      <td id=\"T_f0b65_row5_col1\" class=\"data row5 col1\" >123065715.9177</td>\n",
       "      <td id=\"T_f0b65_row5_col2\" class=\"data row5 col2\" >10949.6936</td>\n",
       "      <td id=\"T_f0b65_row5_col3\" class=\"data row5 col3\" >0.9806</td>\n",
       "      <td id=\"T_f0b65_row5_col4\" class=\"data row5 col4\" >0.0689</td>\n",
       "      <td id=\"T_f0b65_row5_col5\" class=\"data row5 col5\" >0.0453</td>\n",
       "    </tr>\n",
       "    <tr>\n",
       "      <th id=\"T_f0b65_level0_row6\" class=\"row_heading level0 row6\" >Std</th>\n",
       "      <td id=\"T_f0b65_row6_col0\" class=\"data row6 col0\" >1201.9635</td>\n",
       "      <td id=\"T_f0b65_row6_col1\" class=\"data row6 col1\" >43199013.4072</td>\n",
       "      <td id=\"T_f0b65_row6_col2\" class=\"data row6 col2\" >1780.4288</td>\n",
       "      <td id=\"T_f0b65_row6_col3\" class=\"data row6 col3\" >0.0085</td>\n",
       "      <td id=\"T_f0b65_row6_col4\" class=\"data row6 col4\" >0.0145</td>\n",
       "      <td id=\"T_f0b65_row6_col5\" class=\"data row6 col5\" >0.0094</td>\n",
       "    </tr>\n",
       "  </tbody>\n",
       "</table>\n"
      ],
      "text/plain": [
       "<pandas.io.formats.style.Styler at 0x7f73aecff8b0>"
      ]
     },
     "metadata": {},
     "output_type": "display_data"
    },
    {
     "data": {
      "text/html": [],
      "text/plain": [
       "<IPython.core.display.HTML object>"
      ]
     },
     "metadata": {},
     "output_type": "display_data"
    }
   ],
   "source": [
    "blender_specific = blend_models(estimator_list = [catboost,xgboost,tuned_lightgbm], optimize = 'MAE')"
   ]
  },
  {
   "cell_type": "markdown",
   "id": "4bec83f5",
   "metadata": {},
   "source": [
    "튜닝이 끝난 모델 3개를 앙상블 하니 좀 성능 괜찮다"
   ]
  },
  {
   "cell_type": "markdown",
   "id": "2e310220",
   "metadata": {},
   "source": [
    "## 시각화"
   ]
  },
  {
   "cell_type": "code",
   "execution_count": 221,
   "id": "9357ee25",
   "metadata": {
    "ExecuteTime": {
     "end_time": "2023-07-30T11:41:12.958381Z",
     "start_time": "2023-07-30T11:41:12.935070Z"
    },
    "scrolled": false
   },
   "outputs": [
    {
     "data": {
      "text/html": [],
      "text/plain": [
       "<IPython.core.display.HTML object>"
      ]
     },
     "metadata": {},
     "output_type": "display_data"
    },
    {
     "data": {
      "image/png": "[encoded data removed]",
      "text/plain": [
       "<Figure size 800x550 with 2 Axes>"
      ]
     },
     "metadata": {},
     "output_type": "display_data"
    }
   ],
   "source": [
    "plot_model(blender_specific)"
   ]
  },
  {
   "cell_type": "markdown",
   "id": "356155f1",
   "metadata": {},
   "source": [
    "train과 test set 설명령이  비슷해 보인다. 크게 도드라지는 outlier도 눈에띄지 않는다"
   ]
  },
  {
   "cell_type": "code",
   "execution_count": 222,
   "id": "67334557",
   "metadata": {
    "ExecuteTime": {
     "end_time": "2023-07-30T11:27:11.330168Z",
     "start_time": "2023-07-30T11:27:10.846441Z"
    },
    "scrolled": false
   },
   "outputs": [
    {
     "data": {
      "text/html": [],
      "text/plain": [
       "<IPython.core.display.HTML object>"
      ]
     },
     "metadata": {},
     "output_type": "display_data"
    },
    {
     "data": {
      "image/png": "[encoded data removed]",
      "text/plain": [
       "<Figure size 800x550 with 1 Axes>"
      ]
     },
     "metadata": {},
     "output_type": "display_data"
    }
   ],
   "source": [
    "plot_model(blender_specific, plot='error')"
   ]
  },
  {
   "cell_type": "code",
   "execution_count": 223,
   "id": "e3a294d1",
   "metadata": {
    "ExecuteTime": {
     "end_time": "2023-07-30T11:27:13.399277Z",
     "start_time": "2023-07-30T11:27:12.456468Z"
    },
    "scrolled": false
   },
   "outputs": [
    {
     "data": {
      "text/html": [],
      "text/plain": [
       "<IPython.core.display.HTML object>"
      ]
     },
     "metadata": {},
     "output_type": "display_data"
    },
    {
     "data": {
      "image/png": "[encoded data removed]",
      "text/plain": [
       "<Figure size 800x550 with 1 Axes>"
      ]
     },
     "metadata": {},
     "output_type": "display_data"
    }
   ],
   "source": [
    "# 모델 시각화(plot)_plot = 'learning'\n",
    "\n",
    "plot_model(blender_specific, plot='learning')"
   ]
  },
  {
   "cell_type": "code",
   "execution_count": null,
   "id": "d841aeb3",
   "metadata": {},
   "outputs": [],
   "source": []
  },
  {
   "cell_type": "markdown",
   "id": "f847a274",
   "metadata": {},
   "source": [
    "이거 해석 공부 더 해야합니다"
   ]
  },
  {
   "cell_type": "markdown",
   "id": "38ad9a9b",
   "metadata": {},
   "source": [
    "## 학습 및 예측 "
   ]
  },
  {
   "cell_type": "code",
   "execution_count": null,
   "id": "8ce4cd0b",
   "metadata": {},
   "outputs": [],
   "source": []
  },
  {
   "cell_type": "code",
   "execution_count": 255,
   "id": "ff788322",
   "metadata": {
    "ExecuteTime": {
     "end_time": "2023-07-29T18:48:41.813202Z",
     "start_time": "2023-07-29T18:48:40.861638Z"
    },
    "scrolled": false
   },
   "outputs": [
    {
     "data": {
      "text/html": [],
      "text/plain": [
       "<IPython.core.display.HTML object>"
      ]
     },
     "metadata": {},
     "output_type": "display_data"
    }
   ],
   "source": [
    "# 마지막 학습(Finalize)\n",
    "\n",
    "final_model = finalize_model(blender_specific)\n",
    "\n",
    "\n",
    "# 예측(Predict)\n",
    "\n",
    "pred = predict_model(final_model, data = test_modeling)"
   ]
  },
  {
   "cell_type": "code",
   "execution_count": 256,
   "id": "af6748f8",
   "metadata": {
    "scrolled": false
   },
   "outputs": [
    {
     "data": {
      "text/html": [
       "<div>\n",
       "<style scoped>\n",
       "    .dataframe tbody tr th:only-of-type {\n",
       "        vertical-align: middle;\n",
       "    }\n",
       "\n",
       "    .dataframe tbody tr th {\n",
       "        vertical-align: top;\n",
       "    }\n",
       "\n",
       "    .dataframe thead th {\n",
       "        text-align: right;\n",
       "    }\n",
       "</style>\n",
       "<table border=\"1\" class=\"dataframe\">\n",
       "  <thead>\n",
       "    <tr style=\"text-align: right;\">\n",
       "      <th></th>\n",
       "      <th>cluster</th>\n",
       "      <th>log_area</th>\n",
       "      <th>low_floor</th>\n",
       "      <th>year_of_completion</th>\n",
       "      <th>transaction_year_month</th>\n",
       "      <th>prediction_label</th>\n",
       "    </tr>\n",
       "  </thead>\n",
       "  <tbody>\n",
       "    <tr>\n",
       "      <th>5987</th>\n",
       "      <td>2.0</td>\n",
       "      <td>4.369068</td>\n",
       "      <td>0</td>\n",
       "      <td>42</td>\n",
       "      <td>111</td>\n",
       "      <td>207368.144597</td>\n",
       "    </tr>\n",
       "    <tr>\n",
       "      <th>5988</th>\n",
       "      <td>2.0</td>\n",
       "      <td>4.110710</td>\n",
       "      <td>0</td>\n",
       "      <td>42</td>\n",
       "      <td>111</td>\n",
       "      <td>192756.550590</td>\n",
       "    </tr>\n",
       "    <tr>\n",
       "      <th>5989</th>\n",
       "      <td>3.0</td>\n",
       "      <td>4.452136</td>\n",
       "      <td>0</td>\n",
       "      <td>4</td>\n",
       "      <td>108</td>\n",
       "      <td>278960.013099</td>\n",
       "    </tr>\n",
       "    <tr>\n",
       "      <th>5990</th>\n",
       "      <td>3.0</td>\n",
       "      <td>4.452136</td>\n",
       "      <td>1</td>\n",
       "      <td>4</td>\n",
       "      <td>108</td>\n",
       "      <td>288260.907004</td>\n",
       "    </tr>\n",
       "    <tr>\n",
       "      <th>5991</th>\n",
       "      <td>3.0</td>\n",
       "      <td>4.452136</td>\n",
       "      <td>1</td>\n",
       "      <td>4</td>\n",
       "      <td>109</td>\n",
       "      <td>288260.907004</td>\n",
       "    </tr>\n",
       "  </tbody>\n",
       "</table>\n",
       "</div>"
      ],
      "text/plain": [
       "      cluster  log_area  low_floor  year_of_completion  \\\n",
       "5987      2.0  4.369068          0                  42   \n",
       "5988      2.0  4.110710          0                  42   \n",
       "5989      3.0  4.452136          0                   4   \n",
       "5990      3.0  4.452136          1                   4   \n",
       "5991      3.0  4.452136          1                   4   \n",
       "\n",
       "      transaction_year_month  prediction_label  \n",
       "5987                     111     207368.144597  \n",
       "5988                     111     192756.550590  \n",
       "5989                     108     278960.013099  \n",
       "5990                     108     288260.907004  \n",
       "5991                     109     288260.907004  "
      ]
     },
     "execution_count": 256,
     "metadata": {},
     "output_type": "execute_result"
    }
   ],
   "source": [
    "pred.head()"
   ]
  },
  {
   "cell_type": "code",
   "execution_count": 258,
   "id": "a3b65798",
   "metadata": {},
   "outputs": [],
   "source": [
    "submission['transaction_real_price'] = list(pred['prediction_label'])\n"
   ]
  },
  {
   "cell_type": "code",
   "execution_count": 259,
   "id": "ac626c2a",
   "metadata": {
    "ExecuteTime": {
     "end_time": "2023-07-29T18:48:45.319295Z",
     "start_time": "2023-07-29T18:48:45.307916Z"
    },
    "scrolled": false
   },
   "outputs": [
    {
     "data": {
      "text/html": [
       "<div>\n",
       "<style scoped>\n",
       "    .dataframe tbody tr th:only-of-type {\n",
       "        vertical-align: middle;\n",
       "    }\n",
       "\n",
       "    .dataframe tbody tr th {\n",
       "        vertical-align: top;\n",
       "    }\n",
       "\n",
       "    .dataframe thead th {\n",
       "        text-align: right;\n",
       "    }\n",
       "</style>\n",
       "<table border=\"1\" class=\"dataframe\">\n",
       "  <thead>\n",
       "    <tr style=\"text-align: right;\">\n",
       "      <th></th>\n",
       "      <th>id</th>\n",
       "      <th>transaction_real_price</th>\n",
       "    </tr>\n",
       "  </thead>\n",
       "  <tbody>\n",
       "    <tr>\n",
       "      <th>0</th>\n",
       "      <td>TEST_0000</td>\n",
       "      <td>207368.144597</td>\n",
       "    </tr>\n",
       "    <tr>\n",
       "      <th>1</th>\n",
       "      <td>TEST_0001</td>\n",
       "      <td>192756.550590</td>\n",
       "    </tr>\n",
       "    <tr>\n",
       "      <th>2</th>\n",
       "      <td>TEST_0002</td>\n",
       "      <td>278960.013099</td>\n",
       "    </tr>\n",
       "    <tr>\n",
       "      <th>3</th>\n",
       "      <td>TEST_0003</td>\n",
       "      <td>288260.907004</td>\n",
       "    </tr>\n",
       "    <tr>\n",
       "      <th>4</th>\n",
       "      <td>TEST_0004</td>\n",
       "      <td>288260.907004</td>\n",
       "    </tr>\n",
       "  </tbody>\n",
       "</table>\n",
       "</div>"
      ],
      "text/plain": [
       "          id  transaction_real_price\n",
       "0  TEST_0000           207368.144597\n",
       "1  TEST_0001           192756.550590\n",
       "2  TEST_0002           278960.013099\n",
       "3  TEST_0003           288260.907004\n",
       "4  TEST_0004           288260.907004"
      ]
     },
     "execution_count": 259,
     "metadata": {},
     "output_type": "execute_result"
    }
   ],
   "source": [
    "submission.head()"
   ]
  },
  {
   "cell_type": "code",
   "execution_count": 260,
   "id": "dbd1e4a7",
   "metadata": {
    "ExecuteTime": {
     "end_time": "2023-07-29T18:58:04.888322Z",
     "start_time": "2023-07-29T18:58:04.872525Z"
    }
   },
   "outputs": [],
   "source": [
    "submission['transaction_real_price'] \n",
    "submission.to_csv('submission.csv', index=False)"
   ]
  },
  {
   "cell_type": "code",
   "execution_count": null,
   "id": "c540ca7f",
   "metadata": {},
   "outputs": [],
   "source": []
  },
  {
   "cell_type": "code",
   "execution_count": null,
   "id": "f2fa013a",
   "metadata": {},
   "outputs": [],
   "source": []
  },
  {
   "cell_type": "code",
   "execution_count": null,
   "id": "f1fbfdcf",
   "metadata": {},
   "outputs": [],
   "source": []
  }
 ],
 "metadata": {
  "kernelspec": {
   "display_name": "Python 3 (ipykernel)",
   "language": "python",
   "name": "python3"
  },
  "language_info": {
   "codemirror_mode": {
    "name": "ipython",
    "version": 3
   },
   "file_extension": ".py",
   "mimetype": "text/x-python",
   "name": "python",
   "nbconvert_exporter": "python",
   "pygments_lexer": "ipython3",
   "version": "3.10.9"
  },
  "toc": {
   "base_numbering": 1,
   "nav_menu": {},
   "number_sections": true,
   "sideBar": true,
   "skip_h1_title": false,
   "title_cell": "Table of Contents",
   "title_sidebar": "Contents",
   "toc_cell": false,
   "toc_position": {},
   "toc_section_display": true,
   "toc_window_display": false
  },
  "varInspector": {
   "cols": {
    "lenName": 16,
    "lenType": 16,
    "lenVar": 40
   },
   "kernels_config": {
    "python": {
     "delete_cmd_postfix": "",
     "delete_cmd_prefix": "del ",
     "library": "var_list.py",
     "varRefreshCmd": "print(var_dic_list())"
    },
    "r": {
     "delete_cmd_postfix": ") ",
     "delete_cmd_prefix": "rm(",
     "library": "var_list.r",
     "varRefreshCmd": "cat(var_dic_list()) "
    }
   },
   "types_to_exclude": [
    "module",
    "function",
    "builtin_function_or_method",
    "instance",
    "_Feature"
   ],
   "window_display": false
  }
 },
 "nbformat": 4,
 "nbformat_minor": 5
}
