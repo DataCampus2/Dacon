{
 "cells": [
  {
   "cell_type": "markdown",
   "id": "cd4ccc86",
   "metadata": {},
   "source": [
    "# 데이터 확인 및 라이브러리 호출"
   ]
  },
  {
   "cell_type": "markdown",
   "id": "c57b0e29",
   "metadata": {},
   "source": [
    "## 라이브러리 "
   ]
  },
  {
   "cell_type": "markdown",
   "id": "c051fe16",
   "metadata": {},
   "source": [
    "### 설치"
   ]
  },
  {
   "cell_type": "code",
   "execution_count": 2,
   "id": "4cbd7792",
   "metadata": {},
   "outputs": [
    {
     "name": "stdout",
     "output_type": "stream",
     "text": [
      "Collecting seaborn\n",
      "  Downloading seaborn-0.12.2-py3-none-any.whl (293 kB)\n",
      "\u001b[2K     \u001b[90m━━━━━━━━━━━━━━━━━━━━━━━━━━━━━━━━━━━━━━\u001b[0m \u001b[32m293.3/293.3 kB\u001b[0m \u001b[31m12.6 MB/s\u001b[0m eta \u001b[36m0:00:00\u001b[0m\n",
      "\u001b[?25hRequirement already satisfied: numpy!=1.24.0,>=1.17 in /home/t2user2/.conda/envs/pybook/lib/python3.10/site-packages (from seaborn) (1.25.0)\n",
      "Requirement already satisfied: pandas>=0.25 in /home/t2user2/.conda/envs/pybook/lib/python3.10/site-packages (from seaborn) (1.5.3)\n",
      "Requirement already satisfied: matplotlib!=3.6.1,>=3.1 in /home/t2user2/.conda/envs/pybook/lib/python3.10/site-packages (from seaborn) (3.7.1)\n",
      "Requirement already satisfied: contourpy>=1.0.1 in /home/t2user2/.conda/envs/pybook/lib/python3.10/site-packages (from matplotlib!=3.6.1,>=3.1->seaborn) (1.0.5)\n",
      "Requirement already satisfied: cycler>=0.10 in /home/t2user2/.conda/envs/pybook/lib/python3.10/site-packages (from matplotlib!=3.6.1,>=3.1->seaborn) (0.11.0)\n",
      "Requirement already satisfied: fonttools>=4.22.0 in /home/t2user2/.conda/envs/pybook/lib/python3.10/site-packages (from matplotlib!=3.6.1,>=3.1->seaborn) (4.25.0)\n",
      "Requirement already satisfied: kiwisolver>=1.0.1 in /home/t2user2/.conda/envs/pybook/lib/python3.10/site-packages (from matplotlib!=3.6.1,>=3.1->seaborn) (1.4.4)\n",
      "Requirement already satisfied: packaging>=20.0 in /home/t2user2/.conda/envs/pybook/lib/python3.10/site-packages (from matplotlib!=3.6.1,>=3.1->seaborn) (23.0)\n",
      "Requirement already satisfied: pillow>=6.2.0 in /home/t2user2/.conda/envs/pybook/lib/python3.10/site-packages (from matplotlib!=3.6.1,>=3.1->seaborn) (9.4.0)\n",
      "Requirement already satisfied: pyparsing>=2.3.1 in /home/t2user2/.conda/envs/pybook/lib/python3.10/site-packages (from matplotlib!=3.6.1,>=3.1->seaborn) (3.0.9)\n",
      "Requirement already satisfied: python-dateutil>=2.7 in /home/t2user2/.conda/envs/pybook/lib/python3.10/site-packages (from matplotlib!=3.6.1,>=3.1->seaborn) (2.8.2)\n",
      "Requirement already satisfied: pytz>=2020.1 in /home/t2user2/.conda/envs/pybook/lib/python3.10/site-packages (from pandas>=0.25->seaborn) (2022.7)\n",
      "Requirement already satisfied: six>=1.5 in /home/t2user2/.conda/envs/pybook/lib/python3.10/site-packages (from python-dateutil>=2.7->matplotlib!=3.6.1,>=3.1->seaborn) (1.16.0)\n",
      "Installing collected packages: seaborn\n",
      "Successfully installed seaborn-0.12.2\n",
      "Note: you may need to restart the kernel to use updated packages.\n"
     ]
    }
   ],
   "source": [
    "pip install seaborn"
   ]
  },
  {
   "cell_type": "code",
   "execution_count": 4,
   "id": "b3ac07fe",
   "metadata": {
    "ExecuteTime": {
     "end_time": "2023-07-30T11:31:07.672160Z",
     "start_time": "2023-07-30T11:31:04.833275Z"
    },
    "scrolled": false
   },
   "outputs": [
    {
     "name": "stdout",
     "output_type": "stream",
     "text": [
      "Requirement already satisfied: xgboost in /home/t2user2/.local/lib/python3.10/site-packages (1.7.6)\n",
      "Requirement already satisfied: numpy in /home/t2user2/.conda/envs/pybook/lib/python3.10/site-packages (from xgboost) (1.25.0)\n",
      "Collecting scipy (from xgboost)\n",
      "  Downloading scipy-1.11.1-cp310-cp310-manylinux_2_17_x86_64.manylinux2014_x86_64.whl (36.3 MB)\n",
      "\u001b[2K     \u001b[90m━━━━━━━━━━━━━━━━━━━━━━━━━━━━━━━━━━━━━━━━\u001b[0m \u001b[32m36.3/36.3 MB\u001b[0m \u001b[31m63.6 MB/s\u001b[0m eta \u001b[36m0:00:00\u001b[0m00:01\u001b[0m00:01\u001b[0m\n",
      "\u001b[?25hInstalling collected packages: scipy\n",
      "\u001b[31mERROR: pip's dependency resolver does not currently take into account all the packages that are installed. This behaviour is the source of the following dependency conflicts.\n",
      "catboost 1.2 requires plotly, which is not installed.\n",
      "lightgbm 3.3.5 requires scikit-learn!=0.22.0, which is not installed.\u001b[0m\u001b[31m\n",
      "\u001b[0mSuccessfully installed scipy-1.11.1\n"
     ]
    }
   ],
   "source": [
    "!pip install xgboost"
   ]
  },
  {
   "cell_type": "code",
   "execution_count": 5,
   "id": "a7bfb3c5",
   "metadata": {
    "ExecuteTime": {
     "end_time": "2023-07-30T11:31:10.193719Z",
     "start_time": "2023-07-30T11:31:07.674528Z"
    },
    "scrolled": true
   },
   "outputs": [
    {
     "name": "stdout",
     "output_type": "stream",
     "text": [
      "Requirement already satisfied: lightgbm in /home/t2user2/.local/lib/python3.10/site-packages (3.3.5)\n",
      "Collecting lightgbm\n",
      "  Downloading lightgbm-4.0.0-py3-none-manylinux_2_28_x86_64.whl (3.0 MB)\n",
      "\u001b[2K     \u001b[90m━━━━━━━━━━━━━━━━━━━━━━━━━━━━━━━━━━━━━━━━\u001b[0m \u001b[32m3.0/3.0 MB\u001b[0m \u001b[31m58.8 MB/s\u001b[0m eta \u001b[36m0:00:00\u001b[0ma \u001b[36m0:00:01\u001b[0m\n",
      "\u001b[?25hRequirement already satisfied: numpy in /home/t2user2/.conda/envs/pybook/lib/python3.10/site-packages (from lightgbm) (1.25.0)\n",
      "Requirement already satisfied: scipy in /home/t2user2/.conda/envs/pybook/lib/python3.10/site-packages (from lightgbm) (1.11.1)\n",
      "Installing collected packages: lightgbm\n",
      "  Attempting uninstall: lightgbm\n",
      "    Found existing installation: lightgbm 3.3.5\n",
      "    Uninstalling lightgbm-3.3.5:\n",
      "      Successfully uninstalled lightgbm-3.3.5\n",
      "Successfully installed lightgbm-4.0.0\n"
     ]
    }
   ],
   "source": [
    "!pip install --upgrade lightgbm\n"
   ]
  },
  {
   "cell_type": "code",
   "execution_count": 6,
   "id": "e856f482",
   "metadata": {
    "ExecuteTime": {
     "start_time": "2023-07-30T11:31:04.832Z"
    }
   },
   "outputs": [
    {
     "name": "stdout",
     "output_type": "stream",
     "text": [
      "Retrieving notices: ...working... done\n",
      "Collecting package metadata (current_repodata.json): done\n",
      "Solving environment: failed with initial frozen solve. Retrying with flexible solve.\n",
      "Solving environment: failed with repodata from current_repodata.json, will retry with next repodata source.\n",
      "Collecting package metadata (repodata.json): done\n",
      "Solving environment: failed with initial frozen solve. Retrying with flexible solve.\n",
      "Solving environment: done\n",
      "\n",
      "\n",
      "==> WARNING: A newer version of conda exists. <==\n",
      "  current version: 23.3.1\n",
      "  latest version: 23.7.2\n",
      "\n",
      "Please update conda by running\n",
      "\n",
      "    $ conda update -n base -c defaults conda\n",
      "\n",
      "Or to minimize the number of packages updated during conda update use\n",
      "\n",
      "     conda install conda=23.7.2\n",
      "\n",
      "\n",
      "\n",
      "## Package Plan ##\n",
      "\n",
      "  environment location: /home/t2user2/.conda/envs/pybook\n",
      "\n",
      "  added / updated specs:\n",
      "    - lightgbm\n",
      "\n",
      "\n",
      "The following packages will be downloaded:\n",
      "\n",
      "    package                    |            build\n",
      "    ---------------------------|-----------------\n",
      "    certifi-2023.7.22          |  py310h06a4308_0         153 KB\n",
      "    joblib-1.2.0               |  py310h06a4308_0         400 KB\n",
      "    jupyter_client-7.4.9       |  py310h06a4308_0         208 KB\n",
      "    lightgbm-3.3.5             |  py310h6a678d5_0         1.7 MB\n",
      "    scikit-learn-1.2.2         |  py310h6a678d5_1         7.7 MB\n",
      "    scipy-1.10.1               |  py310h5f9d8c6_1        23.7 MB\n",
      "    ------------------------------------------------------------\n",
      "                                           Total:        33.9 MB\n",
      "\n",
      "The following NEW packages will be INSTALLED:\n",
      "\n",
      "  appdirs            pkgs/main/noarch::appdirs-1.4.4-pyhd3eb1b0_0 \n",
      "  joblib             pkgs/main/linux-64::joblib-1.2.0-py310h06a4308_0 \n",
      "  libgfortran-ng     pkgs/main/linux-64::libgfortran-ng-11.2.0-h00389a5_1 \n",
      "  libgfortran5       pkgs/main/linux-64::libgfortran5-11.2.0-h1234567_1 \n",
      "  lightgbm           pkgs/main/linux-64::lightgbm-3.3.5-py310h6a678d5_0 \n",
      "  pooch              pkgs/main/noarch::pooch-1.4.0-pyhd3eb1b0_0 \n",
      "  scikit-learn       pkgs/main/linux-64::scikit-learn-1.2.2-py310h6a678d5_1 \n",
      "  scipy              pkgs/main/linux-64::scipy-1.10.1-py310h5f9d8c6_1 \n",
      "  threadpoolctl      pkgs/main/noarch::threadpoolctl-2.2.0-pyh0d69192_0 \n",
      "\n",
      "The following packages will be UPDATED:\n",
      "\n",
      "  certifi                          2023.5.7-py310h06a4308_0 --> 2023.7.22-py310h06a4308_0 \n",
      "\n",
      "The following packages will be DOWNGRADED:\n",
      "\n",
      "  jupyter_client                      8.1.0-py310h06a4308_0 --> 7.4.9-py310h06a4308_0 \n",
      "  jupyter_server                      2.5.0-py310h06a4308_0 --> 1.23.4-py310h06a4308_0 \n",
      "  pyzmq                              25.1.0-py310h6a678d5_0 --> 23.2.0-py310h6a678d5_0 \n",
      "\n",
      "\n",
      "\n",
      "Downloading and Extracting Packages\n",
      "jupyter_client-7.4.9 | 208 KB    |                                       |   0% \n",
      "scikit-learn-1.2.2   | 7.7 MB    |                                       |   0% \u001b[A\n",
      "\n",
      "scipy-1.10.1         | 23.7 MB   |                                       |   0% \u001b[A\u001b[A\n",
      "\n",
      "\n",
      "joblib-1.2.0         | 400 KB    |                                       |   0% \u001b[A\u001b[A\u001b[A\n",
      "\n",
      "\n",
      "\n",
      "certifi-2023.7.22    | 153 KB    |                                       |   0% \u001b[A\u001b[A\u001b[A\u001b[A\n",
      "\n",
      "\n",
      "\n",
      "\n",
      "lightgbm-3.3.5       | 1.7 MB    |                                       |   0% \u001b[A\u001b[A\u001b[A\u001b[A\u001b[A\n",
      "\n",
      "\n",
      "\n",
      "certifi-2023.7.22    | 153 KB    | ##################################### | 100% \u001b[A\u001b[A\u001b[A\u001b[A\n",
      "\n",
      "\n",
      "joblib-1.2.0         | 400 KB    | ##################################### | 100% \u001b[A\u001b[A\u001b[A\n",
      "scikit-learn-1.2.2   | 7.7 MB    | #############                         |  35% \u001b[A\n",
      "\n",
      "jupyter_client-7.4.9 | 208 KB    | ##################################### | 100% \u001b[A\u001b[A\n",
      "\n",
      "scipy-1.10.1         | 23.7 MB   | ########9                             |  24% \u001b[A\u001b[A\n",
      "\n",
      "scipy-1.10.1         | 23.7 MB   | ######################8               |  62% \u001b[A\u001b[A\n",
      "\n",
      "\n",
      "\n",
      "\n",
      "lightgbm-3.3.5       | 1.7 MB    | 3                                     |   1% \u001b[A\u001b[A\u001b[A\u001b[A\u001b[A\n",
      "scikit-learn-1.2.2   | 7.7 MB    | ##################################### | 100% \u001b[A\n",
      "scikit-learn-1.2.2   | 7.7 MB    | ##################################### | 100% \u001b[A\n",
      "\n",
      "scipy-1.10.1         | 23.7 MB   | ################################4     |  88% \u001b[A\u001b[A\n",
      "\n",
      "\n",
      "\n",
      "\n",
      "lightgbm-3.3.5       | 1.7 MB    | ####6                                 |  13% \u001b[A\u001b[A\u001b[A\u001b[A\u001b[A\n",
      "\n",
      "\n",
      "\n",
      "\n",
      "lightgbm-3.3.5       | 1.7 MB    | #########3                            |  25% \u001b[A\u001b[A\u001b[A\u001b[A\u001b[A\n",
      "\n",
      "\n",
      "\n",
      "\n",
      "lightgbm-3.3.5       | 1.7 MB    | #############9                        |  38% \u001b[A\u001b[A\u001b[A\u001b[A\u001b[A\n",
      "\n",
      "scipy-1.10.1         | 23.7 MB   | ##################################### | 100% \u001b[A\u001b[A\n",
      "\n",
      "\n",
      "\n",
      "\n",
      "lightgbm-3.3.5       | 1.7 MB    | ########################6             |  66% \u001b[A\u001b[A\u001b[A\u001b[A\u001b[A\n",
      "\n",
      "\n",
      "\n",
      "\n",
      "lightgbm-3.3.5       | 1.7 MB    | #################################9    |  92% \u001b[A\u001b[A\u001b[A\u001b[A\u001b[A\n",
      "\n",
      "\n",
      "\n",
      "\n",
      "                                                                                \u001b[A\u001b[A\u001b[A\u001b[A\u001b[A\n",
      "                                                                                \u001b[A\n",
      "\n",
      "                                                                                \u001b[A\u001b[A\n",
      "\n",
      "\n",
      "                                                                                \u001b[A\u001b[A\u001b[A\n",
      "\n",
      "\n",
      "\n",
      "                                                                                \u001b[A\u001b[A\u001b[A\u001b[A\n",
      "\n",
      "\n",
      "\n",
      "\n",
      "                                                                                \u001b[A\u001b[A\u001b[A\u001b[A\u001b[A\n",
      "Preparing transaction: done\n",
      "Verifying transaction: done\n",
      "Executing transaction: - \n",
      "\n",
      "    Installed package of scikit-learn can be accelerated using scikit-learn-intelex.\n",
      "    More details are available here: https://intel.github.io/scikit-learn-intelex\n",
      "\n",
      "    For example:\n",
      "\n",
      "        $ conda install scikit-learn-intelex\n",
      "        $ python -m sklearnex my_application.py\n",
      "\n",
      "    \n",
      "\n",
      "done\n",
      "\n",
      "Note: you may need to restart the kernel to use updated packages.\n"
     ]
    }
   ],
   "source": [
    "conda install lightgbm"
   ]
  },
  {
   "cell_type": "code",
   "execution_count": 7,
   "id": "94d76b1c",
   "metadata": {
    "ExecuteTime": {
     "start_time": "2023-07-30T11:31:04.833Z"
    },
    "scrolled": true
   },
   "outputs": [
    {
     "name": "stdout",
     "output_type": "stream",
     "text": [
      "Collecting optuna\n",
      "  Downloading optuna-3.2.0-py3-none-any.whl (390 kB)\n",
      "\u001b[2K     \u001b[90m━━━━━━━━━━━━━━━━━━━━━━━━━━━━━━━━━━━━━━\u001b[0m \u001b[32m390.6/390.6 kB\u001b[0m \u001b[31m13.4 MB/s\u001b[0m eta \u001b[36m0:00:00\u001b[0m\n",
      "\u001b[?25hCollecting alembic>=1.5.0 (from optuna)\n",
      "  Downloading alembic-1.11.1-py3-none-any.whl (224 kB)\n",
      "\u001b[2K     \u001b[90m━━━━━━━━━━━━━━━━━━━━━━━━━━━━━━━━━━━━━━\u001b[0m \u001b[32m224.5/224.5 kB\u001b[0m \u001b[31m17.4 MB/s\u001b[0m eta \u001b[36m0:00:00\u001b[0m\n",
      "\u001b[?25hCollecting cmaes>=0.9.1 (from optuna)\n",
      "  Downloading cmaes-0.10.0-py3-none-any.whl (29 kB)\n",
      "Collecting colorlog (from optuna)\n",
      "  Downloading colorlog-6.7.0-py2.py3-none-any.whl (11 kB)\n",
      "Requirement already satisfied: numpy in /home/t2user2/.conda/envs/pybook/lib/python3.10/site-packages (from optuna) (1.25.0)\n",
      "Requirement already satisfied: packaging>=20.0 in /home/t2user2/.conda/envs/pybook/lib/python3.10/site-packages (from optuna) (23.0)\n",
      "Collecting sqlalchemy>=1.3.0 (from optuna)\n",
      "  Downloading SQLAlchemy-2.0.19-cp310-cp310-manylinux_2_17_x86_64.manylinux2014_x86_64.whl (2.7 MB)\n",
      "\u001b[2K     \u001b[90m━━━━━━━━━━━━━━━━━━━━━━━━━━━━━━━━━━━━━━━━\u001b[0m \u001b[32m2.7/2.7 MB\u001b[0m \u001b[31m55.2 MB/s\u001b[0m eta \u001b[36m0:00:00\u001b[0m:00:01\u001b[0m\n",
      "\u001b[?25hCollecting tqdm (from optuna)\n",
      "  Downloading tqdm-4.65.0-py3-none-any.whl (77 kB)\n",
      "\u001b[2K     \u001b[90m━━━━━━━━━━━━━━━━━━━━━━━━━━━━━━━━━━━━━━━━\u001b[0m \u001b[32m77.1/77.1 kB\u001b[0m \u001b[31m6.2 MB/s\u001b[0m eta \u001b[36m0:00:00\u001b[0m\n",
      "\u001b[?25hRequirement already satisfied: PyYAML in /home/t2user2/.conda/envs/pybook/lib/python3.10/site-packages (from optuna) (6.0)\n",
      "Collecting Mako (from alembic>=1.5.0->optuna)\n",
      "  Downloading Mako-1.2.4-py3-none-any.whl (78 kB)\n",
      "\u001b[2K     \u001b[90m━━━━━━━━━━━━━━━━━━━━━━━━━━━━━━━━━━━━━━━━\u001b[0m \u001b[32m78.7/78.7 kB\u001b[0m \u001b[31m6.4 MB/s\u001b[0m eta \u001b[36m0:00:00\u001b[0m\n",
      "\u001b[?25hRequirement already satisfied: typing-extensions>=4 in /home/t2user2/.conda/envs/pybook/lib/python3.10/site-packages (from alembic>=1.5.0->optuna) (4.6.3)\n",
      "Collecting greenlet!=0.4.17 (from sqlalchemy>=1.3.0->optuna)\n",
      "  Downloading greenlet-2.0.2-cp310-cp310-manylinux_2_17_x86_64.manylinux2014_x86_64.whl (613 kB)\n",
      "\u001b[2K     \u001b[90m━━━━━━━━━━━━━━━━━━━━━━━━━━━━━━━━━━━━━━\u001b[0m \u001b[32m613.7/613.7 kB\u001b[0m \u001b[31m41.3 MB/s\u001b[0m eta \u001b[36m0:00:00\u001b[0m\n",
      "\u001b[?25hRequirement already satisfied: MarkupSafe>=0.9.2 in /home/t2user2/.conda/envs/pybook/lib/python3.10/site-packages (from Mako->alembic>=1.5.0->optuna) (2.1.1)\n",
      "Installing collected packages: tqdm, Mako, greenlet, colorlog, cmaes, sqlalchemy, alembic, optuna\n",
      "Successfully installed Mako-1.2.4 alembic-1.11.1 cmaes-0.10.0 colorlog-6.7.0 greenlet-2.0.2 optuna-3.2.0 sqlalchemy-2.0.19 tqdm-4.65.0\n"
     ]
    }
   ],
   "source": [
    "!pip install optuna"
   ]
  },
  {
   "cell_type": "code",
   "execution_count": 8,
   "id": "742f8c5c",
   "metadata": {
    "ExecuteTime": {
     "start_time": "2023-07-30T11:31:04.835Z"
    },
    "scrolled": false
   },
   "outputs": [
    {
     "name": "stdout",
     "output_type": "stream",
     "text": [
      "Collecting pyqt5\n",
      "  Downloading PyQt5-5.15.9-cp37-abi3-manylinux_2_17_x86_64.whl (8.4 MB)\n",
      "\u001b[2K     \u001b[90m━━━━━━━━━━━━━━━━━━━━━━━━━━━━━━━━━━━━━━━━\u001b[0m \u001b[32m8.4/8.4 MB\u001b[0m \u001b[31m48.6 MB/s\u001b[0m eta \u001b[36m0:00:00\u001b[0m00:01\u001b[0m00:01\u001b[0m\n",
      "\u001b[?25hCollecting pyqtwebengine\n",
      "  Downloading PyQtWebEngine-5.15.6-cp37-abi3-manylinux1_x86_64.whl (230 kB)\n",
      "\u001b[2K     \u001b[90m━━━━━━━━━━━━━━━━━━━━━━━━━━━━━━━━━━━━━━\u001b[0m \u001b[32m230.4/230.4 kB\u001b[0m \u001b[31m17.6 MB/s\u001b[0m eta \u001b[36m0:00:00\u001b[0m\n",
      "\u001b[?25hRequirement already satisfied: PyQt5-sip<13,>=12.11 in /home/t2user2/.conda/envs/pybook/lib/python3.10/site-packages/PyQt5_sip-12.11.0-py3.10-linux-x86_64.egg (from pyqt5) (12.11.0)\n",
      "Collecting PyQt5-Qt5>=5.15.2 (from pyqt5)\n",
      "  Downloading PyQt5_Qt5-5.15.2-py3-none-manylinux2014_x86_64.whl (59.9 MB)\n",
      "\u001b[2K     \u001b[90m━━━━━━━━━━━━━━━━━━━━━━━━━━━━━━━━━━━━━━━━\u001b[0m \u001b[32m59.9/59.9 MB\u001b[0m \u001b[31m51.1 MB/s\u001b[0m eta \u001b[36m0:00:00\u001b[0m00:01\u001b[0m00:01\u001b[0m\n",
      "\u001b[?25hCollecting PyQtWebEngine-Qt5>=5.15.0 (from pyqtwebengine)\n",
      "  Downloading PyQtWebEngine_Qt5-5.15.2-py3-none-manylinux2014_x86_64.whl (67.5 MB)\n",
      "\u001b[2K     \u001b[90m━━━━━━━━━━━━━━━━━━━━━━━━━━━━━━━━━━━━━━━━\u001b[0m \u001b[32m67.5/67.5 MB\u001b[0m \u001b[31m53.5 MB/s\u001b[0m eta \u001b[36m0:00:00\u001b[0m00:01\u001b[0m00:01\u001b[0m\n",
      "\u001b[?25hInstalling collected packages: PyQtWebEngine-Qt5, PyQt5-Qt5, pyqt5, pyqtwebengine\n",
      "Successfully installed PyQt5-Qt5-5.15.2 PyQtWebEngine-Qt5-5.15.2 pyqt5-5.15.9 pyqtwebengine-5.15.6\n"
     ]
    }
   ],
   "source": [
    "!pip install pyqt5 pyqtwebengine\n"
   ]
  },
  {
   "cell_type": "code",
   "execution_count": 9,
   "id": "e8af93fd",
   "metadata": {
    "ExecuteTime": {
     "start_time": "2023-07-30T11:31:04.836Z"
    }
   },
   "outputs": [
    {
     "name": "stdout",
     "output_type": "stream",
     "text": [
      "Collecting pyqt5==5.12\n",
      "  Downloading PyQt5-5.12-5.12.1_a-cp35.cp36.cp37.cp38-abi3-manylinux1_x86_64.whl (61.1 MB)\n",
      "\u001b[2K     \u001b[90m━━━━━━━━━━━━━━━━━━━━━━━━━━━━━━━━━━━━━━━━\u001b[0m \u001b[32m61.1/61.1 MB\u001b[0m \u001b[31m27.8 MB/s\u001b[0m eta \u001b[36m0:00:00\u001b[0m00:01\u001b[0m00:01\u001b[0m\n",
      "\u001b[?25hCollecting pyqtwebengine==5.12\n",
      "  Downloading PyQtWebEngine-5.12-5.12.1-cp35.cp36.cp37.cp38-abi3-manylinux1_x86_64.whl (61.0 MB)\n",
      "\u001b[2K     \u001b[90m━━━━━━━━━━━━━━━━━━━━━━━━━━━━━━━━━━━━━━━━\u001b[0m \u001b[32m61.0/61.0 MB\u001b[0m \u001b[31m6.9 MB/s\u001b[0m eta \u001b[36m0:00:00\u001b[0m00:01\u001b[0m00:01\u001b[0mm\n",
      "\u001b[?25hINFO: pip is looking at multiple versions of pyqt5 to determine which version is compatible with other requirements. This could take a while.\n",
      "\u001b[31mERROR: Could not find a version that satisfies the requirement PyQt5_sip<4.20,>=4.19.14 (from pyqt5) (from versions: 12.7.0, 12.7.1, 12.7.2, 12.8.0, 12.8.1, 12.9.0, 12.9.1, 12.10.1, 12.11.0, 12.11.1, 12.12.0, 12.12.1, 12.12.2)\u001b[0m\u001b[31m\n",
      "\u001b[0m\u001b[31mERROR: No matching distribution found for PyQt5_sip<4.20,>=4.19.14\u001b[0m\u001b[31m\n",
      "\u001b[0mNote: you may need to restart the kernel to use updated packages.\n"
     ]
    }
   ],
   "source": [
    "pip install pyqt5==5.12 pyqtwebengine==5.12\n"
   ]
  },
  {
   "cell_type": "code",
   "execution_count": 10,
   "id": "dadcae29",
   "metadata": {
    "ExecuteTime": {
     "start_time": "2023-07-30T11:31:04.837Z"
    }
   },
   "outputs": [
    {
     "name": "stdout",
     "output_type": "stream",
     "text": [
      "Collecting spyder\n",
      "  Downloading spyder-5.4.4-py3-none-any.whl (14.9 MB)\n",
      "\u001b[2K     \u001b[90m━━━━━━━━━━━━━━━━━━━━━━━━━━━━━━━━━━━━━━━━\u001b[0m \u001b[32m14.9/14.9 MB\u001b[0m \u001b[31m71.3 MB/s\u001b[0m eta \u001b[36m0:00:00\u001b[0m00:01\u001b[0m00:01\u001b[0m\n",
      "\u001b[?25hCollecting atomicwrites>=1.2.0 (from spyder)\n",
      "  Downloading atomicwrites-1.4.1.tar.gz (14 kB)\n",
      "  Preparing metadata (setup.py) ... \u001b[?25ldone\n",
      "\u001b[?25hCollecting chardet>=2.0.0 (from spyder)\n",
      "  Downloading chardet-5.1.0-py3-none-any.whl (199 kB)\n",
      "\u001b[2K     \u001b[90m━━━━━━━━━━━━━━━━━━━━━━━━━━━━━━━━━━━━━━\u001b[0m \u001b[32m199.1/199.1 kB\u001b[0m \u001b[31m25.1 MB/s\u001b[0m eta \u001b[36m0:00:00\u001b[0m\n",
      "\u001b[?25hCollecting cloudpickle>=0.5.0 (from spyder)\n",
      "  Downloading cloudpickle-2.2.1-py3-none-any.whl (25 kB)\n",
      "Collecting cookiecutter>=1.6.0 (from spyder)\n",
      "  Downloading cookiecutter-2.2.3-py3-none-any.whl (39 kB)\n",
      "Collecting diff-match-patch>=20181111 (from spyder)\n",
      "  Downloading diff_match_patch-20230430-py3-none-any.whl (42 kB)\n",
      "\u001b[2K     \u001b[90m━━━━━━━━━━━━━━━━━━━━━━━━━━━━━━━━━━━━━━━━\u001b[0m \u001b[32m42.8/42.8 kB\u001b[0m \u001b[31m3.7 MB/s\u001b[0m eta \u001b[36m0:00:00\u001b[0m\n",
      "\u001b[?25hCollecting intervaltree>=3.0.2 (from spyder)\n",
      "  Downloading intervaltree-3.1.0.tar.gz (32 kB)\n",
      "  Preparing metadata (setup.py) ... \u001b[?25ldone\n",
      "\u001b[?25hCollecting ipython!=8.10.0,!=8.11.0,!=8.12.0,!=8.12.1,!=8.8.0,!=8.9.0,<9.0.0,>=7.31.1 (from spyder)\n",
      "  Downloading ipython-8.14.0-py3-none-any.whl (798 kB)\n",
      "\u001b[2K     \u001b[90m━━━━━━━━━━━━━━━━━━━━━━━━━━━━━━━━━━━━━━\u001b[0m \u001b[32m798.7/798.7 kB\u001b[0m \u001b[31m45.2 MB/s\u001b[0m eta \u001b[36m0:00:00\u001b[0m\n",
      "\u001b[?25hRequirement already satisfied: jedi<0.19.0,>=0.17.2 in /home/t2user2/.conda/envs/pybook/lib/python3.10/site-packages (from spyder) (0.18.1)\n",
      "Collecting jellyfish>=0.7 (from spyder)\n",
      "  Downloading jellyfish-1.0.0-cp310-cp310-manylinux_2_17_x86_64.manylinux2014_x86_64.whl (1.2 MB)\n",
      "\u001b[2K     \u001b[90m━━━━━━━━━━━━━━━━━━━━━━━━━━━━━━━━━━━━━━━━\u001b[0m \u001b[32m1.2/1.2 MB\u001b[0m \u001b[31m56.1 MB/s\u001b[0m eta \u001b[36m0:00:00\u001b[0m\n",
      "\u001b[?25hRequirement already satisfied: jsonschema>=3.2.0 in /home/t2user2/.conda/envs/pybook/lib/python3.10/site-packages (from spyder) (4.17.3)\n",
      "Collecting keyring>=17.0.0 (from spyder)\n",
      "  Downloading keyring-24.2.0-py3-none-any.whl (37 kB)\n",
      "Requirement already satisfied: nbconvert>=4.0 in /home/t2user2/.conda/envs/pybook/lib/python3.10/site-packages (from spyder) (6.5.4)\n",
      "Collecting numpydoc>=0.6.0 (from spyder)\n",
      "  Downloading numpydoc-1.5.0-py3-none-any.whl (52 kB)\n",
      "\u001b[2K     \u001b[90m━━━━━━━━━━━━━━━━━━━━━━━━━━━━━━━━━━━━━━━━\u001b[0m \u001b[32m52.4/52.4 kB\u001b[0m \u001b[31m4.5 MB/s\u001b[0m eta \u001b[36m0:00:00\u001b[0m\n",
      "\u001b[?25hRequirement already satisfied: parso<0.9.0,>=0.7.0 in /home/t2user2/.conda/envs/pybook/lib/python3.10/site-packages (from spyder) (0.8.3)\n",
      "Requirement already satisfied: pexpect>=4.4.0 in /home/t2user2/.conda/envs/pybook/lib/python3.10/site-packages (from spyder) (4.8.0)\n",
      "Requirement already satisfied: pickleshare>=0.4 in /home/t2user2/.conda/envs/pybook/lib/python3.10/site-packages (from spyder) (0.7.5)\n",
      "Requirement already satisfied: psutil>=5.3 in /home/t2user2/.conda/envs/pybook/lib/python3.10/site-packages (from spyder) (5.9.0)\n",
      "Requirement already satisfied: pygments>=2.0 in /home/t2user2/.conda/envs/pybook/lib/python3.10/site-packages (from spyder) (2.15.1)\n",
      "Collecting pylint<3.0,>=2.5.0 (from spyder)\n",
      "  Downloading pylint-2.17.5-py3-none-any.whl (536 kB)\n",
      "\u001b[2K     \u001b[90m━━━━━━━━━━━━━━━━━━━━━━━━━━━━━━━━━━━━━━\u001b[0m \u001b[32m536.7/536.7 kB\u001b[0m \u001b[31m35.2 MB/s\u001b[0m eta \u001b[36m0:00:00\u001b[0m\n",
      "\u001b[?25hCollecting pylint-venv>=3.0.2 (from spyder)\n",
      "  Downloading pylint_venv-3.0.2-py3-none-any.whl (5.0 kB)\n",
      "Collecting python-lsp-black<3.0.0,>=1.2.0 (from spyder)\n",
      "  Downloading python_lsp_black-1.3.0-py3-none-any.whl (6.3 kB)\n",
      "Collecting pyls-spyder>=0.4.0 (from spyder)\n",
      "  Downloading pyls_spyder-0.4.0-py3-none-any.whl (8.1 kB)\n",
      "Requirement already satisfied: pyqt5<5.16 in /home/t2user2/.conda/envs/pybook/lib/python3.10/site-packages (from spyder) (5.15.9)\n",
      "Requirement already satisfied: pyqtwebengine<5.16 in /home/t2user2/.conda/envs/pybook/lib/python3.10/site-packages (from spyder) (5.15.6)\n",
      "Collecting python-lsp-server[all]<1.8.0,>=1.7.4 (from spyder)\n",
      "  Downloading python_lsp_server-1.7.4-py3-none-any.whl (69 kB)\n",
      "\u001b[2K     \u001b[90m━━━━━━━━━━━━━━━━━━━━━━━━━━━━━━━━━━━━━━━━\u001b[0m \u001b[32m69.4/69.4 kB\u001b[0m \u001b[31m5.2 MB/s\u001b[0m eta \u001b[36m0:00:00\u001b[0m\n",
      "\u001b[?25hRequirement already satisfied: pyzmq>=22.1.0 in /home/t2user2/.conda/envs/pybook/lib/python3.10/site-packages (from spyder) (23.2.0)\n",
      "Collecting qdarkstyle<3.2.0,>=3.0.2 (from spyder)\n",
      "  Downloading QDarkStyle-3.1-py2.py3-none-any.whl (870 kB)\n",
      "\u001b[2K     \u001b[90m━━━━━━━━━━━━━━━━━━━━━━━━━━━━━━━━━━━━━━\u001b[0m \u001b[32m870.2/870.2 kB\u001b[0m \u001b[31m47.7 MB/s\u001b[0m eta \u001b[36m0:00:00\u001b[0m\n",
      "\u001b[?25hCollecting qstylizer>=0.2.2 (from spyder)\n",
      "  Downloading qstylizer-0.2.2-py2.py3-none-any.whl (15 kB)\n",
      "Collecting qtawesome>=1.2.1 (from spyder)\n",
      "  Downloading QtAwesome-1.2.3-py3-none-any.whl (2.3 MB)\n",
      "\u001b[2K     \u001b[90m━━━━━━━━━━━━━━━━━━━━━━━━━━━━━━━━━━━━━━━━\u001b[0m \u001b[32m2.3/2.3 MB\u001b[0m \u001b[31m68.6 MB/s\u001b[0m eta \u001b[36m0:00:00\u001b[0m\n",
      "\u001b[?25hRequirement already satisfied: qtconsole<5.5.0,>=5.4.2 in /home/t2user2/.conda/envs/pybook/lib/python3.10/site-packages (from spyder) (5.4.2)\n",
      "Requirement already satisfied: qtpy>=2.1.0 in /home/t2user2/.conda/envs/pybook/lib/python3.10/site-packages (from spyder) (2.2.0)\n",
      "Collecting rtree>=0.9.7 (from spyder)\n",
      "  Downloading Rtree-1.0.1-cp310-cp310-manylinux_2_17_x86_64.manylinux2014_x86_64.whl (1.0 MB)\n",
      "\u001b[2K     \u001b[90m━━━━━━━━━━━━━━━━━━━━━━━━━━━━━━━━━━━━━━━━\u001b[0m \u001b[32m1.0/1.0 MB\u001b[0m \u001b[31m59.5 MB/s\u001b[0m eta \u001b[36m0:00:00\u001b[0m\n",
      "\u001b[?25hRequirement already satisfied: setuptools>=49.6.0 in /home/t2user2/.conda/envs/pybook/lib/python3.10/site-packages (from spyder) (67.8.0)\n",
      "Collecting sphinx>=0.6.6 (from spyder)\n",
      "  Downloading sphinx-7.1.1-py3-none-any.whl (3.2 MB)\n",
      "\u001b[2K     \u001b[90m━━━━━━━━━━━━━━━━━━━━━━━━━━━━━━━━━━━━━━━━\u001b[0m \u001b[32m3.2/3.2 MB\u001b[0m \u001b[31m71.5 MB/s\u001b[0m eta \u001b[36m0:00:00\u001b[0m00:01\u001b[0m\n",
      "\u001b[?25hCollecting spyder-kernels<2.5.0,>=2.4.4 (from spyder)\n",
      "  Downloading spyder_kernels-2.4.4-py2.py3-none-any.whl (98 kB)\n",
      "\u001b[2K     \u001b[90m━━━━━━━━━━━━━━━━━━━━━━━━━━━━━━━━━━━━━━━━\u001b[0m \u001b[32m98.4/98.4 kB\u001b[0m \u001b[31m12.9 MB/s\u001b[0m eta \u001b[36m0:00:00\u001b[0m\n",
      "\u001b[?25hCollecting textdistance>=4.2.0 (from spyder)\n",
      "  Downloading textdistance-4.5.0-py3-none-any.whl (31 kB)\n",
      "Collecting three-merge>=0.1.1 (from spyder)\n",
      "  Downloading three_merge-0.1.1-py2.py3-none-any.whl (6.4 kB)\n",
      "Collecting watchdog>=0.10.3 (from spyder)\n",
      "  Downloading watchdog-3.0.0-py3-none-manylinux2014_x86_64.whl (82 kB)\n",
      "\u001b[2K     \u001b[90m━━━━━━━━━━━━━━━━━━━━━━━━━━━━━━━━━━━━━━━━\u001b[0m \u001b[32m82.1/82.1 kB\u001b[0m \u001b[31m10.4 MB/s\u001b[0m eta \u001b[36m0:00:00\u001b[0m\n",
      "\u001b[?25hCollecting pyxdg>=0.26 (from spyder)\n",
      "  Downloading pyxdg-0.28-py2.py3-none-any.whl (49 kB)\n",
      "\u001b[2K     \u001b[90m━━━━━━━━━━━━━━━━━━━━━━━━━━━━━━━━━━━━━━━━\u001b[0m \u001b[32m49.5/49.5 kB\u001b[0m \u001b[31m5.0 MB/s\u001b[0m eta \u001b[36m0:00:00\u001b[0m\n",
      "\u001b[?25hCollecting binaryornot>=0.4.4 (from cookiecutter>=1.6.0->spyder)\n",
      "  Downloading binaryornot-0.4.4-py2.py3-none-any.whl (9.0 kB)\n",
      "Requirement already satisfied: Jinja2<4.0.0,>=2.7 in /home/t2user2/.conda/envs/pybook/lib/python3.10/site-packages (from cookiecutter>=1.6.0->spyder) (3.1.2)\n",
      "Collecting click<9.0.0,>=7.0 (from cookiecutter>=1.6.0->spyder)\n",
      "  Downloading click-8.1.6-py3-none-any.whl (97 kB)\n",
      "\u001b[2K     \u001b[90m━━━━━━━━━━━━━━━━━━━━━━━━━━━━━━━━━━━━━━━━\u001b[0m \u001b[32m97.9/97.9 kB\u001b[0m \u001b[31m13.0 MB/s\u001b[0m eta \u001b[36m0:00:00\u001b[0m\n",
      "\u001b[?25hRequirement already satisfied: pyyaml>=5.3.1 in /home/t2user2/.conda/envs/pybook/lib/python3.10/site-packages (from cookiecutter>=1.6.0->spyder) (6.0)\n",
      "Collecting python-slugify>=4.0.0 (from cookiecutter>=1.6.0->spyder)\n",
      "  Downloading python_slugify-8.0.1-py2.py3-none-any.whl (9.7 kB)\n",
      "Requirement already satisfied: requests>=2.23.0 in /home/t2user2/.conda/envs/pybook/lib/python3.10/site-packages (from cookiecutter>=1.6.0->spyder) (2.29.0)\n",
      "Requirement already satisfied: arrow in /home/t2user2/.conda/envs/pybook/lib/python3.10/site-packages (from cookiecutter>=1.6.0->spyder) (1.2.3)\n",
      "Collecting sortedcontainers<3.0,>=2.0 (from intervaltree>=3.0.2->spyder)\n",
      "  Downloading sortedcontainers-2.4.0-py2.py3-none-any.whl (29 kB)\n",
      "Requirement already satisfied: backcall in /home/t2user2/.conda/envs/pybook/lib/python3.10/site-packages (from ipython!=8.10.0,!=8.11.0,!=8.12.0,!=8.12.1,!=8.8.0,!=8.9.0,<9.0.0,>=7.31.1->spyder) (0.2.0)\n",
      "Requirement already satisfied: decorator in /home/t2user2/.conda/envs/pybook/lib/python3.10/site-packages (from ipython!=8.10.0,!=8.11.0,!=8.12.0,!=8.12.1,!=8.8.0,!=8.9.0,<9.0.0,>=7.31.1->spyder) (5.1.1)\n",
      "Requirement already satisfied: matplotlib-inline in /home/t2user2/.conda/envs/pybook/lib/python3.10/site-packages (from ipython!=8.10.0,!=8.11.0,!=8.12.0,!=8.12.1,!=8.8.0,!=8.9.0,<9.0.0,>=7.31.1->spyder) (0.1.6)\n",
      "Requirement already satisfied: prompt-toolkit!=3.0.37,<3.1.0,>=3.0.30 in /home/t2user2/.conda/envs/pybook/lib/python3.10/site-packages (from ipython!=8.10.0,!=8.11.0,!=8.12.0,!=8.12.1,!=8.8.0,!=8.9.0,<9.0.0,>=7.31.1->spyder) (3.0.36)\n",
      "Requirement already satisfied: stack-data in /home/t2user2/.conda/envs/pybook/lib/python3.10/site-packages (from ipython!=8.10.0,!=8.11.0,!=8.12.0,!=8.12.1,!=8.8.0,!=8.9.0,<9.0.0,>=7.31.1->spyder) (0.2.0)\n",
      "Requirement already satisfied: traitlets>=5 in /home/t2user2/.conda/envs/pybook/lib/python3.10/site-packages (from ipython!=8.10.0,!=8.11.0,!=8.12.0,!=8.12.1,!=8.8.0,!=8.9.0,<9.0.0,>=7.31.1->spyder) (5.7.1)\n"
     ]
    },
    {
     "name": "stdout",
     "output_type": "stream",
     "text": [
      "Requirement already satisfied: attrs>=17.4.0 in /home/t2user2/.conda/envs/pybook/lib/python3.10/site-packages (from jsonschema>=3.2.0->spyder) (22.1.0)\n",
      "Requirement already satisfied: pyrsistent!=0.17.0,!=0.17.1,!=0.17.2,>=0.14.0 in /home/t2user2/.conda/envs/pybook/lib/python3.10/site-packages (from jsonschema>=3.2.0->spyder) (0.18.0)\n",
      "Collecting jaraco.classes (from keyring>=17.0.0->spyder)\n",
      "  Downloading jaraco.classes-3.3.0-py3-none-any.whl (5.9 kB)\n",
      "Collecting importlib-metadata>=4.11.4 (from keyring>=17.0.0->spyder)\n",
      "  Downloading importlib_metadata-6.8.0-py3-none-any.whl (22 kB)\n",
      "Collecting SecretStorage>=3.2 (from keyring>=17.0.0->spyder)\n",
      "  Downloading SecretStorage-3.3.3-py3-none-any.whl (15 kB)\n",
      "Collecting jeepney>=0.4.2 (from keyring>=17.0.0->spyder)\n",
      "  Downloading jeepney-0.8.0-py3-none-any.whl (48 kB)\n",
      "\u001b[2K     \u001b[90m━━━━━━━━━━━━━━━━━━━━━━━━━━━━━━━━━━━━━━━━\u001b[0m \u001b[32m48.4/48.4 kB\u001b[0m \u001b[31m5.4 MB/s\u001b[0m eta \u001b[36m0:00:00\u001b[0m\n",
      "\u001b[?25hRequirement already satisfied: lxml in /home/t2user2/.conda/envs/pybook/lib/python3.10/site-packages (from nbconvert>=4.0->spyder) (4.9.2)\n",
      "Requirement already satisfied: beautifulsoup4 in /home/t2user2/.conda/envs/pybook/lib/python3.10/site-packages (from nbconvert>=4.0->spyder) (4.12.2)\n",
      "Requirement already satisfied: bleach in /home/t2user2/.conda/envs/pybook/lib/python3.10/site-packages (from nbconvert>=4.0->spyder) (4.1.0)\n",
      "Requirement already satisfied: defusedxml in /home/t2user2/.conda/envs/pybook/lib/python3.10/site-packages (from nbconvert>=4.0->spyder) (0.7.1)\n",
      "Requirement already satisfied: entrypoints>=0.2.2 in /home/t2user2/.conda/envs/pybook/lib/python3.10/site-packages (from nbconvert>=4.0->spyder) (0.4)\n",
      "Requirement already satisfied: jupyter-core>=4.7 in /home/t2user2/.conda/envs/pybook/lib/python3.10/site-packages (from nbconvert>=4.0->spyder) (5.3.0)\n",
      "Requirement already satisfied: jupyterlab-pygments in /home/t2user2/.conda/envs/pybook/lib/python3.10/site-packages (from nbconvert>=4.0->spyder) (0.1.2)\n",
      "Requirement already satisfied: MarkupSafe>=2.0 in /home/t2user2/.conda/envs/pybook/lib/python3.10/site-packages (from nbconvert>=4.0->spyder) (2.1.1)\n",
      "Requirement already satisfied: mistune<2,>=0.8.1 in /home/t2user2/.conda/envs/pybook/lib/python3.10/site-packages (from nbconvert>=4.0->spyder) (0.8.4)\n",
      "Requirement already satisfied: nbclient>=0.5.0 in /home/t2user2/.conda/envs/pybook/lib/python3.10/site-packages (from nbconvert>=4.0->spyder) (0.5.13)\n",
      "Requirement already satisfied: nbformat>=5.1 in /home/t2user2/.conda/envs/pybook/lib/python3.10/site-packages (from nbconvert>=4.0->spyder) (5.7.0)\n",
      "Requirement already satisfied: packaging in /home/t2user2/.conda/envs/pybook/lib/python3.10/site-packages (from nbconvert>=4.0->spyder) (23.0)\n",
      "Requirement already satisfied: pandocfilters>=1.4.1 in /home/t2user2/.conda/envs/pybook/lib/python3.10/site-packages (from nbconvert>=4.0->spyder) (1.5.0)\n",
      "Requirement already satisfied: tinycss2 in /home/t2user2/.conda/envs/pybook/lib/python3.10/site-packages (from nbconvert>=4.0->spyder) (1.2.1)\n",
      "Requirement already satisfied: ptyprocess>=0.5 in /home/t2user2/.conda/envs/pybook/lib/python3.10/site-packages (from pexpect>=4.4.0->spyder) (0.7.0)\n",
      "Requirement already satisfied: platformdirs>=2.2.0 in /home/t2user2/.conda/envs/pybook/lib/python3.10/site-packages (from pylint<3.0,>=2.5.0->spyder) (2.5.2)\n",
      "Collecting astroid<=2.17.0-dev0,>=2.15.6 (from pylint<3.0,>=2.5.0->spyder)\n",
      "  Downloading astroid-2.15.6-py3-none-any.whl (278 kB)\n",
      "\u001b[2K     \u001b[90m━━━━━━━━━━━━━━━━━━━━━━━━━━━━━━━━━━━━━━\u001b[0m \u001b[32m278.3/278.3 kB\u001b[0m \u001b[31m32.4 MB/s\u001b[0m eta \u001b[36m0:00:00\u001b[0m\n",
      "\u001b[?25hCollecting isort<6,>=4.2.5 (from pylint<3.0,>=2.5.0->spyder)\n",
      "  Downloading isort-5.12.0-py3-none-any.whl (91 kB)\n",
      "\u001b[2K     \u001b[90m━━━━━━━━━━━━━━━━━━━━━━━━━━━━━━━━━━━━━━━━\u001b[0m \u001b[32m91.2/91.2 kB\u001b[0m \u001b[31m11.7 MB/s\u001b[0m eta \u001b[36m0:00:00\u001b[0m\n",
      "\u001b[?25hCollecting mccabe<0.8,>=0.6 (from pylint<3.0,>=2.5.0->spyder)\n",
      "  Downloading mccabe-0.7.0-py2.py3-none-any.whl (7.3 kB)\n",
      "Collecting tomlkit>=0.10.1 (from pylint<3.0,>=2.5.0->spyder)\n",
      "  Downloading tomlkit-0.12.1-py3-none-any.whl (37 kB)\n",
      "Collecting dill>=0.2 (from pylint<3.0,>=2.5.0->spyder)\n",
      "  Downloading dill-0.3.7-py3-none-any.whl (115 kB)\n",
      "\u001b[2K     \u001b[90m━━━━━━━━━━━━━━━━━━━━━━━━━━━━━━━━━━━━━━\u001b[0m \u001b[32m115.3/115.3 kB\u001b[0m \u001b[31m15.2 MB/s\u001b[0m eta \u001b[36m0:00:00\u001b[0m\n",
      "\u001b[?25hRequirement already satisfied: tomli>=1.1.0 in /home/t2user2/.conda/envs/pybook/lib/python3.10/site-packages (from pylint<3.0,>=2.5.0->spyder) (2.0.1)\n",
      "Requirement already satisfied: PyQt5-sip<13,>=12.11 in /home/t2user2/.conda/envs/pybook/lib/python3.10/site-packages/PyQt5_sip-12.11.0-py3.10-linux-x86_64.egg (from pyqt5<5.16->spyder) (12.11.0)\n",
      "Requirement already satisfied: PyQt5-Qt5>=5.15.2 in /home/t2user2/.conda/envs/pybook/lib/python3.10/site-packages (from pyqt5<5.16->spyder) (5.15.2)\n",
      "Requirement already satisfied: PyQtWebEngine-Qt5>=5.15.0 in /home/t2user2/.conda/envs/pybook/lib/python3.10/site-packages (from pyqtwebengine<5.16->spyder) (5.15.2)\n",
      "Collecting black>=22.3.0 (from python-lsp-black<3.0.0,>=1.2.0->spyder)\n",
      "  Downloading black-23.7.0-cp310-cp310-manylinux_2_17_x86_64.manylinux2014_x86_64.whl (1.7 MB)\n",
      "\u001b[2K     \u001b[90m━━━━━━━━━━━━━━━━━━━━━━━━━━━━━━━━━━━━━━━━\u001b[0m \u001b[32m1.7/1.7 MB\u001b[0m \u001b[31m69.5 MB/s\u001b[0m eta \u001b[36m0:00:00\u001b[0m\n",
      "\u001b[?25hCollecting python-lsp-jsonrpc>=1.0.0 (from python-lsp-server[all]<1.8.0,>=1.7.4->spyder)\n",
      "  Downloading python_lsp_jsonrpc-1.0.0-py3-none-any.whl (8.5 kB)\n",
      "Collecting pluggy>=1.0.0 (from python-lsp-server[all]<1.8.0,>=1.7.4->spyder)\n",
      "  Downloading pluggy-1.2.0-py3-none-any.whl (17 kB)\n",
      "Collecting docstring-to-markdown (from python-lsp-server[all]<1.8.0,>=1.7.4->spyder)\n",
      "  Downloading docstring_to_markdown-0.12-py3-none-any.whl (18 kB)\n",
      "Collecting ujson>=3.0.0 (from python-lsp-server[all]<1.8.0,>=1.7.4->spyder)\n",
      "  Downloading ujson-5.8.0-cp310-cp310-manylinux_2_17_x86_64.manylinux2014_x86_64.whl (53 kB)\n",
      "\u001b[2K     \u001b[90m━━━━━━━━━━━━━━━━━━━━━━━━━━━━━━━━━━━━━━━━\u001b[0m \u001b[32m53.9/53.9 kB\u001b[0m \u001b[31m6.7 MB/s\u001b[0m eta \u001b[36m0:00:00\u001b[0m\n",
      "\u001b[?25hCollecting autopep8<2.1.0,>=1.6.0 (from python-lsp-server[all]<1.8.0,>=1.7.4->spyder)\n",
      "  Downloading autopep8-2.0.2-py2.py3-none-any.whl (45 kB)\n",
      "\u001b[2K     \u001b[90m━━━━━━━━━━━━━━━━━━━━━━━━━━━━━━━━━━━━━━━━\u001b[0m \u001b[32m45.2/45.2 kB\u001b[0m \u001b[31m5.4 MB/s\u001b[0m eta \u001b[36m0:00:00\u001b[0m\n",
      "\u001b[?25hCollecting flake8<7,>=5.0.0 (from python-lsp-server[all]<1.8.0,>=1.7.4->spyder)\n",
      "  Downloading flake8-6.1.0-py2.py3-none-any.whl (58 kB)\n",
      "\u001b[2K     \u001b[90m━━━━━━━━━━━━━━━━━━━━━━━━━━━━━━━━━━━━━━━━\u001b[0m \u001b[32m58.3/58.3 kB\u001b[0m \u001b[31m7.4 MB/s\u001b[0m eta \u001b[36m0:00:00\u001b[0m\n",
      "\u001b[?25hCollecting pycodestyle<2.11.0,>=2.9.0 (from python-lsp-server[all]<1.8.0,>=1.7.4->spyder)\n",
      "  Downloading pycodestyle-2.10.0-py2.py3-none-any.whl (41 kB)\n",
      "\u001b[2K     \u001b[90m━━━━━━━━━━━━━━━━━━━━━━━━━━━━━━━━━━━━━━━━\u001b[0m \u001b[32m41.3/41.3 kB\u001b[0m \u001b[31m4.7 MB/s\u001b[0m eta \u001b[36m0:00:00\u001b[0m\n",
      "\u001b[?25hCollecting pydocstyle<6.4.0,>=6.3.0 (from python-lsp-server[all]<1.8.0,>=1.7.4->spyder)\n",
      "  Downloading pydocstyle-6.3.0-py3-none-any.whl (38 kB)\n",
      "Collecting pyflakes<3.1.0,>=2.5.0 (from python-lsp-server[all]<1.8.0,>=1.7.4->spyder)\n",
      "  Downloading pyflakes-3.0.1-py2.py3-none-any.whl (62 kB)\n",
      "\u001b[2K     \u001b[90m━━━━━━━━━━━━━━━━━━━━━━━━━━━━━━━━━━━━━━━━\u001b[0m \u001b[32m62.8/62.8 kB\u001b[0m \u001b[31m7.7 MB/s\u001b[0m eta \u001b[36m0:00:00\u001b[0m\n",
      "\u001b[?25hCollecting rope>1.2.0 (from python-lsp-server[all]<1.8.0,>=1.7.4->spyder)\n",
      "  Downloading rope-1.9.0-py3-none-any.whl (203 kB)\n",
      "\u001b[2K     \u001b[90m━━━━━━━━━━━━━━━━━━━━━━━━━━━━━━━━━━━━━━\u001b[0m \u001b[32m204.0/204.0 kB\u001b[0m \u001b[31m25.3 MB/s\u001b[0m eta \u001b[36m0:00:00\u001b[0m\n",
      "\u001b[?25hCollecting yapf>=0.33.0 (from python-lsp-server[all]<1.8.0,>=1.7.4->spyder)\n",
      "  Downloading yapf-0.40.1-py3-none-any.whl (250 kB)\n",
      "\u001b[2K     \u001b[90m━━━━━━━━━━━━━━━━━━━━━━━━━━━━━━━━━━━━━━\u001b[0m \u001b[32m250.3/250.3 kB\u001b[0m \u001b[31m28.9 MB/s\u001b[0m eta \u001b[36m0:00:00\u001b[0m\n",
      "\u001b[?25hCollecting whatthepatch<2.0.0,>=1.0.2 (from python-lsp-server[all]<1.8.0,>=1.7.4->spyder)\n",
      "  Downloading whatthepatch-1.0.5-py3-none-any.whl (11 kB)\n",
      "Collecting inflection<1,>0.3.0 (from qstylizer>=0.2.2->spyder)\n",
      "  Downloading inflection-0.5.1-py2.py3-none-any.whl (9.5 kB)\n",
      "Requirement already satisfied: ipython-genutils in /home/t2user2/.conda/envs/pybook/lib/python3.10/site-packages (from qtconsole<5.5.0,>=5.4.2->spyder) (0.2.0)\n",
      "Requirement already satisfied: jupyter-client>=4.1 in /home/t2user2/.conda/envs/pybook/lib/python3.10/site-packages (from qtconsole<5.5.0,>=5.4.2->spyder) (7.4.9)\n",
      "Requirement already satisfied: ipykernel>=4.1 in /home/t2user2/.conda/envs/pybook/lib/python3.10/site-packages (from qtconsole<5.5.0,>=5.4.2->spyder) (6.19.2)\n"
     ]
    },
    {
     "name": "stdout",
     "output_type": "stream",
     "text": [
      "Collecting sphinxcontrib-applehelp (from sphinx>=0.6.6->spyder)\n",
      "  Downloading sphinxcontrib_applehelp-1.0.4-py3-none-any.whl (120 kB)\n",
      "\u001b[2K     \u001b[90m━━━━━━━━━━━━━━━━━━━━━━━━━━━━━━━━━━━━━━\u001b[0m \u001b[32m120.6/120.6 kB\u001b[0m \u001b[31m12.9 MB/s\u001b[0m eta \u001b[36m0:00:00\u001b[0m\n",
      "\u001b[?25hCollecting sphinxcontrib-devhelp (from sphinx>=0.6.6->spyder)\n",
      "  Downloading sphinxcontrib_devhelp-1.0.2-py2.py3-none-any.whl (84 kB)\n",
      "\u001b[2K     \u001b[90m━━━━━━━━━━━━━━━━━━━━━━━━━━━━━━━━━━━━━━━━\u001b[0m \u001b[32m84.7/84.7 kB\u001b[0m \u001b[31m8.9 MB/s\u001b[0m eta \u001b[36m0:00:00\u001b[0m\n",
      "\u001b[?25hCollecting sphinxcontrib-jsmath (from sphinx>=0.6.6->spyder)\n",
      "  Downloading sphinxcontrib_jsmath-1.0.1-py2.py3-none-any.whl (5.1 kB)\n",
      "Collecting sphinxcontrib-htmlhelp>=2.0.0 (from sphinx>=0.6.6->spyder)\n",
      "  Downloading sphinxcontrib_htmlhelp-2.0.1-py3-none-any.whl (99 kB)\n",
      "\u001b[2K     \u001b[90m━━━━━━━━━━━━━━━━━━━━━━━━━━━━━━━━━━━━━━━━\u001b[0m \u001b[32m99.8/99.8 kB\u001b[0m \u001b[31m10.9 MB/s\u001b[0m eta \u001b[36m0:00:00\u001b[0m\n",
      "\u001b[?25hCollecting sphinxcontrib-serializinghtml>=1.1.5 (from sphinx>=0.6.6->spyder)\n",
      "  Downloading sphinxcontrib_serializinghtml-1.1.5-py2.py3-none-any.whl (94 kB)\n",
      "\u001b[2K     \u001b[90m━━━━━━━━━━━━━━━━━━━━━━━━━━━━━━━━━━━━━━━━\u001b[0m \u001b[32m94.0/94.0 kB\u001b[0m \u001b[31m10.2 MB/s\u001b[0m eta \u001b[36m0:00:00\u001b[0m\n",
      "\u001b[?25hCollecting sphinxcontrib-qthelp (from sphinx>=0.6.6->spyder)\n",
      "  Downloading sphinxcontrib_qthelp-1.0.3-py2.py3-none-any.whl (90 kB)\n",
      "\u001b[2K     \u001b[90m━━━━━━━━━━━━━━━━━━━━━━━━━━━━━━━━━━━━━━━━\u001b[0m \u001b[32m90.6/90.6 kB\u001b[0m \u001b[31m9.8 MB/s\u001b[0m eta \u001b[36m0:00:00\u001b[0m\n",
      "\u001b[?25hCollecting docutils<0.21,>=0.18.1 (from sphinx>=0.6.6->spyder)\n",
      "  Downloading docutils-0.20.1-py3-none-any.whl (572 kB)\n",
      "\u001b[2K     \u001b[90m━━━━━━━━━━━━━━━━━━━━━━━━━━━━━━━━━━━━━━\u001b[0m \u001b[32m572.7/572.7 kB\u001b[0m \u001b[31m48.9 MB/s\u001b[0m eta \u001b[36m0:00:00\u001b[0m\n",
      "\u001b[?25hCollecting snowballstemmer>=2.0 (from sphinx>=0.6.6->spyder)\n",
      "  Downloading snowballstemmer-2.2.0-py2.py3-none-any.whl (93 kB)\n",
      "\u001b[2K     \u001b[90m━━━━━━━━━━━━━━━━━━━━━━━━━━━━━━━━━━━━━━━━\u001b[0m \u001b[32m93.0/93.0 kB\u001b[0m \u001b[31m10.2 MB/s\u001b[0m eta \u001b[36m0:00:00\u001b[0m\n",
      "\u001b[?25hRequirement already satisfied: babel>=2.9 in /home/t2user2/.conda/envs/pybook/lib/python3.10/site-packages (from sphinx>=0.6.6->spyder) (2.11.0)\n",
      "Collecting alabaster<0.8,>=0.7 (from sphinx>=0.6.6->spyder)\n",
      "  Downloading alabaster-0.7.13-py3-none-any.whl (13 kB)\n",
      "Collecting imagesize>=1.3 (from sphinx>=0.6.6->spyder)\n",
      "  Downloading imagesize-1.4.1-py2.py3-none-any.whl (8.8 kB)\n",
      "Collecting wurlitzer>=1.0.3 (from spyder-kernels<2.5.0,>=2.4.4->spyder)\n",
      "  Downloading wurlitzer-3.0.3-py3-none-any.whl (7.3 kB)\n",
      "Collecting ipykernel>=4.1 (from qtconsole<5.5.0,>=5.4.2->spyder)\n",
      "  Downloading ipykernel-6.25.0-py3-none-any.whl (153 kB)\n",
      "\u001b[2K     \u001b[90m━━━━━━━━━━━━━━━━━━━━━━━━━━━━━━━━━━━━━━\u001b[0m \u001b[32m153.9/153.9 kB\u001b[0m \u001b[31m19.5 MB/s\u001b[0m eta \u001b[36m0:00:00\u001b[0m\n",
      "\u001b[?25hCollecting lazy-object-proxy>=1.4.0 (from astroid<=2.17.0-dev0,>=2.15.6->pylint<3.0,>=2.5.0->spyder)\n",
      "  Downloading lazy_object_proxy-1.9.0-cp310-cp310-manylinux_2_5_x86_64.manylinux1_x86_64.manylinux_2_17_x86_64.manylinux2014_x86_64.whl (63 kB)\n",
      "\u001b[2K     \u001b[90m━━━━━━━━━━━━━━━━━━━━━━━━━━━━━━━━━━━━━━━━\u001b[0m \u001b[32m63.3/63.3 kB\u001b[0m \u001b[31m7.9 MB/s\u001b[0m eta \u001b[36m0:00:00\u001b[0m\n",
      "\u001b[?25hCollecting wrapt<2,>=1.11 (from astroid<=2.17.0-dev0,>=2.15.6->pylint<3.0,>=2.5.0->spyder)\n",
      "  Downloading wrapt-1.15.0-cp310-cp310-manylinux_2_5_x86_64.manylinux1_x86_64.manylinux_2_17_x86_64.manylinux2014_x86_64.whl (78 kB)\n",
      "\u001b[2K     \u001b[90m━━━━━━━━━━━━━━━━━━━━━━━━━━━━━━━━━━━━━━━━\u001b[0m \u001b[32m78.4/78.4 kB\u001b[0m \u001b[31m10.0 MB/s\u001b[0m eta \u001b[36m0:00:00\u001b[0m\n",
      "\u001b[?25hRequirement already satisfied: typing-extensions>=4.0.0 in /home/t2user2/.conda/envs/pybook/lib/python3.10/site-packages (from astroid<=2.17.0-dev0,>=2.15.6->pylint<3.0,>=2.5.0->spyder) (4.6.3)\n",
      "Requirement already satisfied: pytz>=2015.7 in /home/t2user2/.conda/envs/pybook/lib/python3.10/site-packages (from babel>=2.9->sphinx>=0.6.6->spyder) (2022.7)\n",
      "Collecting mypy-extensions>=0.4.3 (from black>=22.3.0->python-lsp-black<3.0.0,>=1.2.0->spyder)\n",
      "  Downloading mypy_extensions-1.0.0-py3-none-any.whl (4.7 kB)\n",
      "Collecting pathspec>=0.9.0 (from black>=22.3.0->python-lsp-black<3.0.0,>=1.2.0->spyder)\n",
      "  Downloading pathspec-0.11.2-py3-none-any.whl (29 kB)\n",
      "INFO: pip is looking at multiple versions of flake8 to determine which version is compatible with other requirements. This could take a while.\n",
      "Collecting flake8<7,>=5.0.0 (from python-lsp-server[all]<1.8.0,>=1.7.4->spyder)\n",
      "  Downloading flake8-6.0.0-py2.py3-none-any.whl (57 kB)\n",
      "\u001b[2K     \u001b[90m━━━━━━━━━━━━━━━━━━━━━━━━━━━━━━━━━━━━━━━━\u001b[0m \u001b[32m57.8/57.8 kB\u001b[0m \u001b[31m7.1 MB/s\u001b[0m eta \u001b[36m0:00:00\u001b[0m\n",
      "\u001b[?25hCollecting zipp>=0.5 (from importlib-metadata>=4.11.4->keyring>=17.0.0->spyder)\n",
      "  Downloading zipp-3.16.2-py3-none-any.whl (7.2 kB)\n",
      "Requirement already satisfied: comm>=0.1.1 in /home/t2user2/.conda/envs/pybook/lib/python3.10/site-packages (from ipykernel>=4.1->qtconsole<5.5.0,>=5.4.2->spyder) (0.1.2)\n",
      "Collecting debugpy>=1.6.5 (from ipykernel>=4.1->qtconsole<5.5.0,>=5.4.2->spyder)\n",
      "  Downloading debugpy-1.6.7-cp310-cp310-manylinux_2_17_x86_64.manylinux2014_x86_64.whl (3.0 MB)\n",
      "\u001b[2K     \u001b[90m━━━━━━━━━━━━━━━━━━━━━━━━━━━━━━━━━━━━━━━━\u001b[0m \u001b[32m3.0/3.0 MB\u001b[0m \u001b[31m73.4 MB/s\u001b[0m eta \u001b[36m0:00:00\u001b[0m:00:01\u001b[0m\n",
      "\u001b[?25hRequirement already satisfied: nest-asyncio in /home/t2user2/.conda/envs/pybook/lib/python3.10/site-packages (from ipykernel>=4.1->qtconsole<5.5.0,>=5.4.2->spyder) (1.5.6)\n",
      "Requirement already satisfied: tornado>=6.1 in /home/t2user2/.conda/envs/pybook/lib/python3.10/site-packages (from ipykernel>=4.1->qtconsole<5.5.0,>=5.4.2->spyder) (6.2)\n",
      "Requirement already satisfied: python-dateutil>=2.8.2 in /home/t2user2/.conda/envs/pybook/lib/python3.10/site-packages (from jupyter-client>=4.1->qtconsole<5.5.0,>=5.4.2->spyder) (2.8.2)\n",
      "Requirement already satisfied: fastjsonschema in /home/t2user2/.conda/envs/pybook/lib/python3.10/site-packages (from nbformat>=5.1->nbconvert>=4.0->spyder) (2.16.2)\n",
      "Requirement already satisfied: wcwidth in /home/t2user2/.conda/envs/pybook/lib/python3.10/site-packages (from prompt-toolkit!=3.0.37,<3.1.0,>=3.0.30->ipython!=8.10.0,!=8.11.0,!=8.12.0,!=8.12.1,!=8.8.0,!=8.9.0,<9.0.0,>=7.31.1->spyder) (0.2.5)\n",
      "Collecting text-unidecode>=1.3 (from python-slugify>=4.0.0->cookiecutter>=1.6.0->spyder)\n",
      "  Downloading text_unidecode-1.3-py2.py3-none-any.whl (78 kB)\n",
      "\u001b[2K     \u001b[90m━━━━━━━━━━━━━━━━━━━━━━━━━━━━━━━━━━━━━━━━\u001b[0m \u001b[32m78.2/78.2 kB\u001b[0m \u001b[31m8.1 MB/s\u001b[0m eta \u001b[36m0:00:00\u001b[0m\n",
      "\u001b[?25hRequirement already satisfied: charset-normalizer<4,>=2 in /home/t2user2/.conda/envs/pybook/lib/python3.10/site-packages (from requests>=2.23.0->cookiecutter>=1.6.0->spyder) (2.0.4)\n",
      "Requirement already satisfied: idna<4,>=2.5 in /home/t2user2/.conda/envs/pybook/lib/python3.10/site-packages (from requests>=2.23.0->cookiecutter>=1.6.0->spyder) (3.4)\n",
      "Requirement already satisfied: urllib3<1.27,>=1.21.1 in /home/t2user2/.conda/envs/pybook/lib/python3.10/site-packages (from requests>=2.23.0->cookiecutter>=1.6.0->spyder) (1.26.16)\n",
      "Requirement already satisfied: certifi>=2017.4.17 in /home/t2user2/.conda/envs/pybook/lib/python3.10/site-packages (from requests>=2.23.0->cookiecutter>=1.6.0->spyder) (2023.7.22)\n",
      "Collecting pytoolconfig[global]>=1.2.2 (from rope>1.2.0->python-lsp-server[all]<1.8.0,>=1.7.4->spyder)\n",
      "  Downloading pytoolconfig-1.2.5-py3-none-any.whl (16 kB)\n",
      "Requirement already satisfied: cryptography>=2.0 in /home/t2user2/.conda/envs/pybook/lib/python3.10/site-packages (from SecretStorage>=3.2->keyring>=17.0.0->spyder) (39.0.1)\n",
      "Requirement already satisfied: webencodings>=0.4 in /home/t2user2/.conda/envs/pybook/lib/python3.10/site-packages (from tinycss2->nbconvert>=4.0->spyder) (0.5.1)\n",
      "Collecting platformdirs>=2.2.0 (from pylint<3.0,>=2.5.0->spyder)\n",
      "  Downloading platformdirs-3.10.0-py3-none-any.whl (17 kB)\n",
      "Requirement already satisfied: soupsieve>1.2 in /home/t2user2/.conda/envs/pybook/lib/python3.10/site-packages (from beautifulsoup4->nbconvert>=4.0->spyder) (2.4)\n",
      "Requirement already satisfied: six>=1.9.0 in /home/t2user2/.conda/envs/pybook/lib/python3.10/site-packages (from bleach->nbconvert>=4.0->spyder) (1.16.0)\n",
      "Collecting more-itertools (from jaraco.classes->keyring>=17.0.0->spyder)\n",
      "  Downloading more_itertools-10.0.0-py3-none-any.whl (55 kB)\n",
      "\u001b[2K     \u001b[90m━━━━━━━━━━━━━━━━━━━━━━━━━━━━━━━━━━━━━━━━\u001b[0m \u001b[32m55.3/55.3 kB\u001b[0m \u001b[31m6.7 MB/s\u001b[0m eta \u001b[36m0:00:00\u001b[0m\n"
     ]
    },
    {
     "name": "stdout",
     "output_type": "stream",
     "text": [
      "\u001b[?25hRequirement already satisfied: executing in /home/t2user2/.conda/envs/pybook/lib/python3.10/site-packages (from stack-data->ipython!=8.10.0,!=8.11.0,!=8.12.0,!=8.12.1,!=8.8.0,!=8.9.0,<9.0.0,>=7.31.1->spyder) (0.8.3)\n",
      "Requirement already satisfied: asttokens in /home/t2user2/.conda/envs/pybook/lib/python3.10/site-packages (from stack-data->ipython!=8.10.0,!=8.11.0,!=8.12.0,!=8.12.1,!=8.8.0,!=8.9.0,<9.0.0,>=7.31.1->spyder) (2.0.5)\n",
      "Requirement already satisfied: pure-eval in /home/t2user2/.conda/envs/pybook/lib/python3.10/site-packages (from stack-data->ipython!=8.10.0,!=8.11.0,!=8.12.0,!=8.12.1,!=8.8.0,!=8.9.0,<9.0.0,>=7.31.1->spyder) (0.2.2)\n",
      "Requirement already satisfied: cffi>=1.12 in /home/t2user2/.conda/envs/pybook/lib/python3.10/site-packages (from cryptography>=2.0->SecretStorage>=3.2->keyring>=17.0.0->spyder) (1.15.1)\n",
      "Requirement already satisfied: pycparser in /home/t2user2/.conda/envs/pybook/lib/python3.10/site-packages (from cffi>=1.12->cryptography>=2.0->SecretStorage>=3.2->keyring>=17.0.0->spyder) (2.21)\n",
      "Building wheels for collected packages: atomicwrites, intervaltree\n",
      "  Building wheel for atomicwrites (setup.py) ... \u001b[?25ldone\n",
      "\u001b[?25h  Created wheel for atomicwrites: filename=atomicwrites-1.4.1-py2.py3-none-any.whl size=6942 sha256=7e2e8bc94b4a6cbe08cf5e4d589f2528dbca3348af0fa49abf94f43540e16335\n",
      "  Stored in directory: /home/t2user2/.cache/pip/wheels/34/07/0b/33b15f68736109f72ea0bb2499521d87312b932620737447a2\n",
      "  Building wheel for intervaltree (setup.py) ... \u001b[?25ldone\n",
      "\u001b[?25h  Created wheel for intervaltree: filename=intervaltree-3.1.0-py2.py3-none-any.whl size=26098 sha256=35ba0e930b34ab724e8dd4aebe0e3a66b1f61107d6443aa942f0f12299e78056\n",
      "  Stored in directory: /home/t2user2/.cache/pip/wheels/fa/80/8c/43488a924a046b733b64de3fac99252674c892a4c3801c0a61\n",
      "Successfully built atomicwrites intervaltree\n",
      "Installing collected packages: text-unidecode, sortedcontainers, snowballstemmer, pyxdg, zipp, wurlitzer, wrapt, whatthepatch, watchdog, ujson, tomlkit, textdistance, sphinxcontrib-serializinghtml, sphinxcontrib-qthelp, sphinxcontrib-jsmath, sphinxcontrib-htmlhelp, sphinxcontrib-devhelp, sphinxcontrib-applehelp, rtree, pytoolconfig, python-slugify, pylint-venv, pyflakes, pydocstyle, pycodestyle, pluggy, platformdirs, pathspec, mypy-extensions, more-itertools, mccabe, lazy-object-proxy, jellyfish, jeepney, isort, intervaltree, inflection, imagesize, docutils, docstring-to-markdown, dill, diff-match-patch, debugpy, cloudpickle, click, chardet, atomicwrites, alabaster, three-merge, sphinx, qtawesome, qstylizer, qdarkstyle, python-lsp-jsonrpc, jaraco.classes, importlib-metadata, flake8, black, binaryornot, autopep8, astroid, yapf, SecretStorage, rope, python-lsp-server, pylint, numpydoc, ipython, cookiecutter, python-lsp-black, pyls-spyder, keyring, ipykernel, spyder-kernels, spyder\n",
      "  Attempting uninstall: platformdirs\n",
      "    Found existing installation: platformdirs 2.5.2\n",
      "    Uninstalling platformdirs-2.5.2:\n",
      "      Successfully uninstalled platformdirs-2.5.2\n",
      "  Attempting uninstall: debugpy\n",
      "    Found existing installation: debugpy 1.5.1\n",
      "    Uninstalling debugpy-1.5.1:\n",
      "      Successfully uninstalled debugpy-1.5.1\n",
      "  Attempting uninstall: ipython\n",
      "    Found existing installation: ipython 8.12.0\n",
      "    Uninstalling ipython-8.12.0:\n",
      "      Successfully uninstalled ipython-8.12.0\n",
      "  Attempting uninstall: ipykernel\n",
      "    Found existing installation: ipykernel 6.19.2\n",
      "    Uninstalling ipykernel-6.19.2:\n",
      "      Successfully uninstalled ipykernel-6.19.2\n",
      "Successfully installed SecretStorage-3.3.3 alabaster-0.7.13 astroid-2.15.6 atomicwrites-1.4.1 autopep8-2.0.2 binaryornot-0.4.4 black-23.7.0 chardet-5.1.0 click-8.1.6 cloudpickle-2.2.1 cookiecutter-2.2.3 debugpy-1.6.7 diff-match-patch-20230430 dill-0.3.7 docstring-to-markdown-0.12 docutils-0.20.1 flake8-6.0.0 imagesize-1.4.1 importlib-metadata-6.8.0 inflection-0.5.1 intervaltree-3.1.0 ipykernel-6.25.0 ipython-8.14.0 isort-5.12.0 jaraco.classes-3.3.0 jeepney-0.8.0 jellyfish-1.0.0 keyring-24.2.0 lazy-object-proxy-1.9.0 mccabe-0.7.0 more-itertools-10.0.0 mypy-extensions-1.0.0 numpydoc-1.5.0 pathspec-0.11.2 platformdirs-3.10.0 pluggy-1.2.0 pycodestyle-2.10.0 pydocstyle-6.3.0 pyflakes-3.0.1 pylint-2.17.5 pylint-venv-3.0.2 pyls-spyder-0.4.0 python-lsp-black-1.3.0 python-lsp-jsonrpc-1.0.0 python-lsp-server-1.7.4 python-slugify-8.0.1 pytoolconfig-1.2.5 pyxdg-0.28 qdarkstyle-3.1 qstylizer-0.2.2 qtawesome-1.2.3 rope-1.9.0 rtree-1.0.1 snowballstemmer-2.2.0 sortedcontainers-2.4.0 sphinx-7.1.1 sphinxcontrib-applehelp-1.0.4 sphinxcontrib-devhelp-1.0.2 sphinxcontrib-htmlhelp-2.0.1 sphinxcontrib-jsmath-1.0.1 sphinxcontrib-qthelp-1.0.3 sphinxcontrib-serializinghtml-1.1.5 spyder-5.4.4 spyder-kernels-2.4.4 text-unidecode-1.3 textdistance-4.5.0 three-merge-0.1.1 tomlkit-0.12.1 ujson-5.8.0 watchdog-3.0.0 whatthepatch-1.0.5 wrapt-1.15.0 wurlitzer-3.0.3 yapf-0.40.1 zipp-3.16.2\n",
      "Note: you may need to restart the kernel to use updated packages.\n"
     ]
    }
   ],
   "source": [
    "pip install spyder\n"
   ]
  },
  {
   "cell_type": "code",
   "execution_count": 11,
   "id": "8fb9cbd8",
   "metadata": {
    "ExecuteTime": {
     "start_time": "2023-07-30T11:31:04.839Z"
    }
   },
   "outputs": [
    {
     "name": "stdout",
     "output_type": "stream",
     "text": [
      "Collecting pycaret\n",
      "  Downloading pycaret-3.0.4-py3-none-any.whl (484 kB)\n",
      "\u001b[2K     \u001b[90m━━━━━━━━━━━━━━━━━━━━━━━━━━━━━━━━━━━━━━\u001b[0m \u001b[32m484.4/484.4 kB\u001b[0m \u001b[31m17.1 MB/s\u001b[0m eta \u001b[36m0:00:00\u001b[0m\n",
      "\u001b[?25hRequirement already satisfied: ipython>=5.5.0 in /home/t2user2/.conda/envs/pybook/lib/python3.10/site-packages (from pycaret) (8.14.0)\n",
      "Requirement already satisfied: ipywidgets>=7.6.5 in /home/t2user2/.conda/envs/pybook/lib/python3.10/site-packages (from pycaret) (8.0.4)\n",
      "Requirement already satisfied: tqdm>=4.62.0 in /home/t2user2/.conda/envs/pybook/lib/python3.10/site-packages (from pycaret) (4.65.0)\n",
      "Collecting numpy<1.24,>=1.21 (from pycaret)\n",
      "  Downloading numpy-1.23.5-cp310-cp310-manylinux_2_17_x86_64.manylinux2014_x86_64.whl (17.1 MB)\n",
      "\u001b[2K     \u001b[90m━━━━━━━━━━━━━━━━━━━━━━━━━━━━━━━━━━━━━━━━\u001b[0m \u001b[32m17.1/17.1 MB\u001b[0m \u001b[31m68.8 MB/s\u001b[0m eta \u001b[36m0:00:00\u001b[0m00:01\u001b[0m00:01\u001b[0m\n",
      "\u001b[?25hRequirement already satisfied: pandas<2.0.0,>=1.3.0 in /home/t2user2/.conda/envs/pybook/lib/python3.10/site-packages (from pycaret) (1.5.3)\n",
      "Requirement already satisfied: jinja2>=1.2 in /home/t2user2/.conda/envs/pybook/lib/python3.10/site-packages (from pycaret) (3.1.2)\n",
      "Requirement already satisfied: scipy<2.0.0 in /home/t2user2/.conda/envs/pybook/lib/python3.10/site-packages (from pycaret) (1.10.1)\n",
      "Requirement already satisfied: joblib>=1.2.0 in /home/t2user2/.conda/envs/pybook/lib/python3.10/site-packages (from pycaret) (1.2.0)\n",
      "Requirement already satisfied: scikit-learn<1.3.0,>=1.0 in /home/t2user2/.conda/envs/pybook/lib/python3.10/site-packages (from pycaret) (1.2.2)\n",
      "Collecting pyod>=1.0.8 (from pycaret)\n",
      "  Downloading pyod-1.1.0.tar.gz (153 kB)\n",
      "\u001b[2K     \u001b[90m━━━━━━━━━━━━━━━━━━━━━━━━━━━━━━━━━━━━━━\u001b[0m \u001b[32m153.4/153.4 kB\u001b[0m \u001b[31m12.3 MB/s\u001b[0m eta \u001b[36m0:00:00\u001b[0m\n",
      "\u001b[?25h  Preparing metadata (setup.py) ... \u001b[?25ldone\n",
      "\u001b[?25hCollecting imbalanced-learn>=0.8.1 (from pycaret)\n",
      "  Downloading imbalanced_learn-0.11.0-py3-none-any.whl (235 kB)\n",
      "\u001b[2K     \u001b[90m━━━━━━━━━━━━━━━━━━━━━━━━━━━━━━━━━━━━━━\u001b[0m \u001b[32m235.6/235.6 kB\u001b[0m \u001b[31m22.5 MB/s\u001b[0m eta \u001b[36m0:00:00\u001b[0m\n",
      "\u001b[?25hCollecting category-encoders>=2.4.0 (from pycaret)\n",
      "  Downloading category_encoders-2.6.1-py2.py3-none-any.whl (81 kB)\n",
      "\u001b[2K     \u001b[90m━━━━━━━━━━━━━━━━━━━━━━━━━━━━━━━━━━━━━━━━\u001b[0m \u001b[32m81.9/81.9 kB\u001b[0m \u001b[31m6.4 MB/s\u001b[0m eta \u001b[36m0:00:00\u001b[0m\n",
      "\u001b[?25hRequirement already satisfied: lightgbm>=3.0.0 in /home/t2user2/.conda/envs/pybook/lib/python3.10/site-packages (from pycaret) (3.3.5)\n",
      "Collecting numba>=0.55.0 (from pycaret)\n",
      "  Downloading numba-0.57.1-cp310-cp310-manylinux2014_x86_64.manylinux_2_17_x86_64.whl (3.6 MB)\n",
      "\u001b[2K     \u001b[90m━━━━━━━━━━━━━━━━━━━━━━━━━━━━━━━━━━━━━━━━\u001b[0m \u001b[32m3.6/3.6 MB\u001b[0m \u001b[31m77.0 MB/s\u001b[0m eta \u001b[36m0:00:00\u001b[0m:00:01\u001b[0m\n",
      "\u001b[?25hRequirement already satisfied: requests>=2.27.1 in /home/t2user2/.conda/envs/pybook/lib/python3.10/site-packages (from pycaret) (2.29.0)\n",
      "Requirement already satisfied: psutil>=5.9.0 in /home/t2user2/.conda/envs/pybook/lib/python3.10/site-packages (from pycaret) (5.9.0)\n",
      "Requirement already satisfied: markupsafe>=2.0.1 in /home/t2user2/.conda/envs/pybook/lib/python3.10/site-packages (from pycaret) (2.1.1)\n",
      "Requirement already satisfied: importlib-metadata>=4.12.0 in /home/t2user2/.conda/envs/pybook/lib/python3.10/site-packages (from pycaret) (6.8.0)\n",
      "Requirement already satisfied: nbformat>=4.2.0 in /home/t2user2/.conda/envs/pybook/lib/python3.10/site-packages (from pycaret) (5.7.0)\n",
      "Requirement already satisfied: cloudpickle in /home/t2user2/.conda/envs/pybook/lib/python3.10/site-packages (from pycaret) (2.2.1)\n",
      "Collecting deprecation>=2.1.0 (from pycaret)\n",
      "  Downloading deprecation-2.1.0-py2.py3-none-any.whl (11 kB)\n",
      "Collecting xxhash (from pycaret)\n",
      "  Downloading xxhash-3.3.0-cp310-cp310-manylinux_2_17_x86_64.manylinux2014_x86_64.whl (194 kB)\n",
      "\u001b[2K     \u001b[90m━━━━━━━━━━━━━━━━━━━━━━━━━━━━━━━━━━━━━━\u001b[0m \u001b[32m194.1/194.1 kB\u001b[0m \u001b[31m16.0 MB/s\u001b[0m eta \u001b[36m0:00:00\u001b[0m\n",
      "\u001b[?25hRequirement already satisfied: matplotlib>=3.3.0 in /home/t2user2/.conda/envs/pybook/lib/python3.10/site-packages (from pycaret) (3.7.1)\n",
      "Collecting scikit-plot>=0.3.7 (from pycaret)\n",
      "  Downloading scikit_plot-0.3.7-py3-none-any.whl (33 kB)\n",
      "Collecting yellowbrick>=1.4 (from pycaret)\n",
      "  Downloading yellowbrick-1.5-py3-none-any.whl (282 kB)\n",
      "\u001b[2K     \u001b[90m━━━━━━━━━━━━━━━━━━━━━━━━━━━━━━━━━━━━━━\u001b[0m \u001b[32m282.6/282.6 kB\u001b[0m \u001b[31m19.8 MB/s\u001b[0m eta \u001b[36m0:00:00\u001b[0m\n",
      "\u001b[?25hCollecting plotly>=5.0.0 (from pycaret)\n",
      "  Downloading plotly-5.15.0-py2.py3-none-any.whl (15.5 MB)\n",
      "\u001b[2K     \u001b[90m━━━━━━━━━━━━━━━━━━━━━━━━━━━━━━━━━━━━━━━━\u001b[0m \u001b[32m15.5/15.5 MB\u001b[0m \u001b[31m53.7 MB/s\u001b[0m eta \u001b[36m0:00:00\u001b[0m00:01\u001b[0m00:01\u001b[0m\n",
      "\u001b[?25hCollecting kaleido>=0.2.1 (from pycaret)\n",
      "  Downloading kaleido-0.2.1-py2.py3-none-manylinux1_x86_64.whl (79.9 MB)\n",
      "\u001b[2K     \u001b[90m━━━━━━━━━━━━━━━━━━━━━━━━━━━━━━━━━━━━━━━━\u001b[0m \u001b[32m79.9/79.9 MB\u001b[0m \u001b[31m21.2 MB/s\u001b[0m eta \u001b[36m0:00:00\u001b[0m00:01\u001b[0m00:01\u001b[0m\n",
      "\u001b[?25hCollecting schemdraw==0.15 (from pycaret)\n",
      "  Downloading schemdraw-0.15-py3-none-any.whl (106 kB)\n",
      "\u001b[2K     \u001b[90m━━━━━━━━━━━━━━━━━━━━━━━━━━━━━━━━━━━━━━\u001b[0m \u001b[32m106.8/106.8 kB\u001b[0m \u001b[31m12.4 MB/s\u001b[0m eta \u001b[36m0:00:00\u001b[0m\n",
      "\u001b[?25hCollecting plotly-resampler>=0.8.3.1 (from pycaret)\n",
      "  Downloading plotly_resampler-0.9.1-py3-none-any.whl (73 kB)\n",
      "\u001b[2K     \u001b[90m━━━━━━━━━━━━━━━━━━━━━━━━━━━━━━━━━━━━━━━━\u001b[0m \u001b[32m73.4/73.4 kB\u001b[0m \u001b[31m5.7 MB/s\u001b[0m eta \u001b[36m0:00:00\u001b[0m\n",
      "\u001b[?25hCollecting statsmodels>=0.12.1 (from pycaret)\n",
      "  Downloading statsmodels-0.14.0-cp310-cp310-manylinux_2_17_x86_64.manylinux2014_x86_64.whl (10.1 MB)\n",
      "\u001b[2K     \u001b[90m━━━━━━━━━━━━━━━━━━━━━━━━━━━━━━━━━━━━━━━━\u001b[0m \u001b[32m10.1/10.1 MB\u001b[0m \u001b[31m40.6 MB/s\u001b[0m eta \u001b[36m0:00:00\u001b[0m00:01\u001b[0m0:01\u001b[0mm\n",
      "\u001b[?25hCollecting sktime!=0.17.1,!=0.17.2,!=0.18.0,>=0.16.1 (from pycaret)\n",
      "  Downloading sktime-0.21.0-py3-none-any.whl (17.1 MB)\n",
      "\u001b[2K     \u001b[90m━━━━━━━━━━━━━━━━━━━━━━━━━━━━━━━━━━━━━━━━\u001b[0m \u001b[32m17.1/17.1 MB\u001b[0m \u001b[31m72.5 MB/s\u001b[0m eta \u001b[36m0:00:00\u001b[0m00:01\u001b[0m00:01\u001b[0m\n",
      "\u001b[?25hCollecting tbats>=1.1.3 (from pycaret)\n",
      "  Downloading tbats-1.1.3-py3-none-any.whl (44 kB)\n",
      "\u001b[2K     \u001b[90m━━━━━━━━━━━━━━━━━━━━━━━━━━━━━━━━━━━━━━━━\u001b[0m \u001b[32m44.0/44.0 kB\u001b[0m \u001b[31m2.8 MB/s\u001b[0m eta \u001b[36m0:00:00\u001b[0m\n",
      "\u001b[?25hCollecting pmdarima!=1.8.1,<3.0.0,>=1.8.0 (from pycaret)\n",
      "  Downloading pmdarima-2.0.3-cp310-cp310-manylinux_2_17_x86_64.manylinux2014_x86_64.manylinux_2_28_x86_64.whl (1.8 MB)\n",
      "\u001b[2K     \u001b[90m━━━━━━━━━━━━━━━━━━━━━━━━━━━━━━━━━━━━━━━━\u001b[0m \u001b[32m1.8/1.8 MB\u001b[0m \u001b[31m62.2 MB/s\u001b[0m eta \u001b[36m0:00:00\u001b[0m\n",
      "\u001b[?25hRequirement already satisfied: wurlitzer in /home/t2user2/.conda/envs/pybook/lib/python3.10/site-packages (from pycaret) (3.0.3)\n",
      "Collecting patsy>=0.5.1 (from category-encoders>=2.4.0->pycaret)\n",
      "  Downloading patsy-0.5.3-py2.py3-none-any.whl (233 kB)\n",
      "\u001b[2K     \u001b[90m━━━━━━━━━━━━━━━━━━━━━━━━━━━━━━━━━━━━━━\u001b[0m \u001b[32m233.8/233.8 kB\u001b[0m \u001b[31m29.1 MB/s\u001b[0m eta \u001b[36m0:00:00\u001b[0m\n",
      "\u001b[?25hRequirement already satisfied: packaging in /home/t2user2/.conda/envs/pybook/lib/python3.10/site-packages (from deprecation>=2.1.0->pycaret) (23.0)\n",
      "Requirement already satisfied: threadpoolctl>=2.0.0 in /home/t2user2/.conda/envs/pybook/lib/python3.10/site-packages (from imbalanced-learn>=0.8.1->pycaret) (2.2.0)\n",
      "Requirement already satisfied: zipp>=0.5 in /home/t2user2/.conda/envs/pybook/lib/python3.10/site-packages (from importlib-metadata>=4.12.0->pycaret) (3.16.2)\n",
      "Requirement already satisfied: backcall in /home/t2user2/.conda/envs/pybook/lib/python3.10/site-packages (from ipython>=5.5.0->pycaret) (0.2.0)\n",
      "Requirement already satisfied: decorator in /home/t2user2/.conda/envs/pybook/lib/python3.10/site-packages (from ipython>=5.5.0->pycaret) (5.1.1)\n",
      "Requirement already satisfied: jedi>=0.16 in /home/t2user2/.conda/envs/pybook/lib/python3.10/site-packages (from ipython>=5.5.0->pycaret) (0.18.1)\n",
      "Requirement already satisfied: matplotlib-inline in /home/t2user2/.conda/envs/pybook/lib/python3.10/site-packages (from ipython>=5.5.0->pycaret) (0.1.6)\n",
      "Requirement already satisfied: pickleshare in /home/t2user2/.conda/envs/pybook/lib/python3.10/site-packages (from ipython>=5.5.0->pycaret) (0.7.5)\n",
      "Requirement already satisfied: prompt-toolkit!=3.0.37,<3.1.0,>=3.0.30 in /home/t2user2/.conda/envs/pybook/lib/python3.10/site-packages (from ipython>=5.5.0->pycaret) (3.0.36)\n",
      "Requirement already satisfied: pygments>=2.4.0 in /home/t2user2/.conda/envs/pybook/lib/python3.10/site-packages (from ipython>=5.5.0->pycaret) (2.15.1)\n",
      "Requirement already satisfied: stack-data in /home/t2user2/.conda/envs/pybook/lib/python3.10/site-packages (from ipython>=5.5.0->pycaret) (0.2.0)\n",
      "Requirement already satisfied: traitlets>=5 in /home/t2user2/.conda/envs/pybook/lib/python3.10/site-packages (from ipython>=5.5.0->pycaret) (5.7.1)\n",
      "Requirement already satisfied: pexpect>4.3 in /home/t2user2/.conda/envs/pybook/lib/python3.10/site-packages (from ipython>=5.5.0->pycaret) (4.8.0)\n"
     ]
    },
    {
     "name": "stdout",
     "output_type": "stream",
     "text": [
      "Requirement already satisfied: ipykernel>=4.5.1 in /home/t2user2/.conda/envs/pybook/lib/python3.10/site-packages (from ipywidgets>=7.6.5->pycaret) (6.25.0)\n",
      "Requirement already satisfied: widgetsnbextension~=4.0 in /home/t2user2/.conda/envs/pybook/lib/python3.10/site-packages (from ipywidgets>=7.6.5->pycaret) (4.0.5)\n",
      "Requirement already satisfied: jupyterlab-widgets~=3.0 in /home/t2user2/.conda/envs/pybook/lib/python3.10/site-packages (from ipywidgets>=7.6.5->pycaret) (3.0.5)\n",
      "Requirement already satisfied: wheel in /home/t2user2/.conda/envs/pybook/lib/python3.10/site-packages (from lightgbm>=3.0.0->pycaret) (0.38.4)\n",
      "Requirement already satisfied: contourpy>=1.0.1 in /home/t2user2/.conda/envs/pybook/lib/python3.10/site-packages (from matplotlib>=3.3.0->pycaret) (1.0.5)\n",
      "Requirement already satisfied: cycler>=0.10 in /home/t2user2/.conda/envs/pybook/lib/python3.10/site-packages (from matplotlib>=3.3.0->pycaret) (0.11.0)\n",
      "Requirement already satisfied: fonttools>=4.22.0 in /home/t2user2/.conda/envs/pybook/lib/python3.10/site-packages (from matplotlib>=3.3.0->pycaret) (4.25.0)\n",
      "Requirement already satisfied: kiwisolver>=1.0.1 in /home/t2user2/.conda/envs/pybook/lib/python3.10/site-packages (from matplotlib>=3.3.0->pycaret) (1.4.4)\n",
      "Requirement already satisfied: pillow>=6.2.0 in /home/t2user2/.conda/envs/pybook/lib/python3.10/site-packages (from matplotlib>=3.3.0->pycaret) (9.4.0)\n",
      "Requirement already satisfied: pyparsing>=2.3.1 in /home/t2user2/.conda/envs/pybook/lib/python3.10/site-packages (from matplotlib>=3.3.0->pycaret) (3.0.9)\n",
      "Requirement already satisfied: python-dateutil>=2.7 in /home/t2user2/.conda/envs/pybook/lib/python3.10/site-packages (from matplotlib>=3.3.0->pycaret) (2.8.2)\n",
      "Requirement already satisfied: fastjsonschema in /home/t2user2/.conda/envs/pybook/lib/python3.10/site-packages (from nbformat>=4.2.0->pycaret) (2.16.2)\n",
      "Requirement already satisfied: jsonschema>=2.6 in /home/t2user2/.conda/envs/pybook/lib/python3.10/site-packages (from nbformat>=4.2.0->pycaret) (4.17.3)\n",
      "Requirement already satisfied: jupyter-core in /home/t2user2/.conda/envs/pybook/lib/python3.10/site-packages (from nbformat>=4.2.0->pycaret) (5.3.0)\n",
      "Collecting llvmlite<0.41,>=0.40.0dev0 (from numba>=0.55.0->pycaret)\n",
      "  Downloading llvmlite-0.40.1-cp310-cp310-manylinux_2_17_x86_64.manylinux2014_x86_64.whl (42.1 MB)\n",
      "\u001b[2K     \u001b[90m━━━━━━━━━━━━━━━━━━━━━━━━━━━━━━━━━━━━━━━━\u001b[0m \u001b[32m42.1/42.1 MB\u001b[0m \u001b[31m47.2 MB/s\u001b[0m eta \u001b[36m0:00:00\u001b[0m00:01\u001b[0m00:01\u001b[0m\n",
      "\u001b[?25hRequirement already satisfied: pytz>=2020.1 in /home/t2user2/.conda/envs/pybook/lib/python3.10/site-packages (from pandas<2.0.0,>=1.3.0->pycaret) (2022.7)\n",
      "Collecting tenacity>=6.2.0 (from plotly>=5.0.0->pycaret)\n",
      "  Downloading tenacity-8.2.2-py3-none-any.whl (24 kB)\n",
      "Collecting dash<3.0.0,>=2.11.0 (from plotly-resampler>=0.8.3.1->pycaret)\n",
      "  Downloading dash-2.11.1-py3-none-any.whl (10.4 MB)\n",
      "\u001b[2K     \u001b[90m━━━━━━━━━━━━━━━━━━━━━━━━━━━━━━━━━━━━━━━━\u001b[0m \u001b[32m10.4/10.4 MB\u001b[0m \u001b[31m77.1 MB/s\u001b[0m eta \u001b[36m0:00:00\u001b[0m00:01\u001b[0m0:01\u001b[0mm\n",
      "\u001b[?25hCollecting orjson<4.0.0,>=3.8.0 (from plotly-resampler>=0.8.3.1->pycaret)\n",
      "  Downloading orjson-3.9.2-cp310-cp310-manylinux_2_17_x86_64.manylinux2014_x86_64.whl (138 kB)\n",
      "\u001b[2K     \u001b[90m━━━━━━━━━━━━━━━━━━━━━━━━━━━━━━━━━━━━━━━\u001b[0m \u001b[32m138.7/138.7 kB\u001b[0m \u001b[31m8.3 MB/s\u001b[0m eta \u001b[36m0:00:00\u001b[0m\n",
      "\u001b[?25hCollecting trace-updater>=0.0.8 (from plotly-resampler>=0.8.3.1->pycaret)\n",
      "  Downloading trace_updater-0.0.9.1-py3-none-any.whl (185 kB)\n",
      "\u001b[2K     \u001b[90m━━━━━━━━━━━━━━━━━━━━━━━━━━━━━━━━━━━━━━\u001b[0m \u001b[32m185.2/185.2 kB\u001b[0m \u001b[31m20.4 MB/s\u001b[0m eta \u001b[36m0:00:00\u001b[0m\n",
      "\u001b[?25hCollecting tsdownsample==0.1.2 (from plotly-resampler>=0.8.3.1->pycaret)\n",
      "  Downloading tsdownsample-0.1.2-cp310-cp310-manylinux_2_17_x86_64.manylinux2014_x86_64.whl (2.3 MB)\n",
      "\u001b[2K     \u001b[90m━━━━━━━━━━━━━━━━━━━━━━━━━━━━━━━━━━━━━━━━\u001b[0m \u001b[32m2.3/2.3 MB\u001b[0m \u001b[31m75.7 MB/s\u001b[0m eta \u001b[36m0:00:00\u001b[0m\n",
      "\u001b[?25hCollecting Cython!=0.29.18,!=0.29.31,>=0.29 (from pmdarima!=1.8.1,<3.0.0,>=1.8.0->pycaret)\n",
      "  Downloading Cython-3.0.0-cp310-cp310-manylinux_2_17_x86_64.manylinux2014_x86_64.whl (3.6 MB)\n",
      "\u001b[2K     \u001b[90m━━━━━━━━━━━━━━━━━━━━━━━━━━━━━━━━━━━━━━━━\u001b[0m \u001b[32m3.6/3.6 MB\u001b[0m \u001b[31m23.2 MB/s\u001b[0m eta \u001b[36m0:00:00\u001b[0m00:01\u001b[0m00:01\u001b[0m\n",
      "\u001b[?25hRequirement already satisfied: urllib3 in /home/t2user2/.conda/envs/pybook/lib/python3.10/site-packages (from pmdarima!=1.8.1,<3.0.0,>=1.8.0->pycaret) (1.26.16)\n",
      "Requirement already satisfied: setuptools!=50.0.0,>=38.6.0 in /home/t2user2/.conda/envs/pybook/lib/python3.10/site-packages (from pmdarima!=1.8.1,<3.0.0,>=1.8.0->pycaret) (67.8.0)\n",
      "Requirement already satisfied: six in /home/t2user2/.conda/envs/pybook/lib/python3.10/site-packages (from pyod>=1.0.8->pycaret) (1.16.0)\n",
      "Requirement already satisfied: charset-normalizer<4,>=2 in /home/t2user2/.conda/envs/pybook/lib/python3.10/site-packages (from requests>=2.27.1->pycaret) (2.0.4)\n",
      "Requirement already satisfied: idna<4,>=2.5 in /home/t2user2/.conda/envs/pybook/lib/python3.10/site-packages (from requests>=2.27.1->pycaret) (3.4)\n",
      "Requirement already satisfied: certifi>=2017.4.17 in /home/t2user2/.conda/envs/pybook/lib/python3.10/site-packages (from requests>=2.27.1->pycaret) (2023.7.22)\n",
      "Collecting deprecated>=1.2.13 (from sktime!=0.17.1,!=0.17.2,!=0.18.0,>=0.16.1->pycaret)\n",
      "  Downloading Deprecated-1.2.14-py2.py3-none-any.whl (9.6 kB)\n",
      "Collecting scikit-base<0.6.0 (from sktime!=0.17.1,!=0.17.2,!=0.18.0,>=0.16.1->pycaret)\n",
      "  Downloading scikit_base-0.5.0-py3-none-any.whl (118 kB)\n",
      "\u001b[2K     \u001b[90m━━━━━━━━━━━━━━━━━━━━━━━━━━━━━━━━━━━━━━\u001b[0m \u001b[32m118.2/118.2 kB\u001b[0m \u001b[31m12.9 MB/s\u001b[0m eta \u001b[36m0:00:00\u001b[0m\n",
      "\u001b[?25hCollecting Flask<2.3.0,>=1.0.4 (from dash<3.0.0,>=2.11.0->plotly-resampler>=0.8.3.1->pycaret)\n",
      "  Downloading Flask-2.2.5-py3-none-any.whl (101 kB)\n",
      "\u001b[2K     \u001b[90m━━━━━━━━━━━━━━━━━━━━━━━━━━━━━━━━━━━━━━\u001b[0m \u001b[32m101.8/101.8 kB\u001b[0m \u001b[31m13.0 MB/s\u001b[0m eta \u001b[36m0:00:00\u001b[0m\n",
      "\u001b[?25hCollecting Werkzeug<2.3.0 (from dash<3.0.0,>=2.11.0->plotly-resampler>=0.8.3.1->pycaret)\n",
      "  Downloading Werkzeug-2.2.3-py3-none-any.whl (233 kB)\n",
      "\u001b[2K     \u001b[90m━━━━━━━━━━━━━━━━━━━━━━━━━━━━━━━━━━━━━━\u001b[0m \u001b[32m233.6/233.6 kB\u001b[0m \u001b[31m28.3 MB/s\u001b[0m eta \u001b[36m0:00:00\u001b[0m\n",
      "\u001b[?25hCollecting dash-html-components==2.0.0 (from dash<3.0.0,>=2.11.0->plotly-resampler>=0.8.3.1->pycaret)\n",
      "  Downloading dash_html_components-2.0.0-py3-none-any.whl (4.1 kB)\n",
      "Collecting dash-core-components==2.0.0 (from dash<3.0.0,>=2.11.0->plotly-resampler>=0.8.3.1->pycaret)\n",
      "  Downloading dash_core_components-2.0.0-py3-none-any.whl (3.8 kB)\n",
      "Collecting dash-table==5.0.0 (from dash<3.0.0,>=2.11.0->plotly-resampler>=0.8.3.1->pycaret)\n",
      "  Downloading dash_table-5.0.0-py3-none-any.whl (3.9 kB)\n",
      "Requirement already satisfied: typing-extensions>=4.1.1 in /home/t2user2/.conda/envs/pybook/lib/python3.10/site-packages (from dash<3.0.0,>=2.11.0->plotly-resampler>=0.8.3.1->pycaret) (4.6.3)\n",
      "Collecting retrying (from dash<3.0.0,>=2.11.0->plotly-resampler>=0.8.3.1->pycaret)\n",
      "  Downloading retrying-1.3.4-py3-none-any.whl (11 kB)\n",
      "Collecting ansi2html (from dash<3.0.0,>=2.11.0->plotly-resampler>=0.8.3.1->pycaret)\n",
      "  Downloading ansi2html-1.8.0-py3-none-any.whl (16 kB)\n",
      "Requirement already satisfied: nest-asyncio in /home/t2user2/.conda/envs/pybook/lib/python3.10/site-packages (from dash<3.0.0,>=2.11.0->plotly-resampler>=0.8.3.1->pycaret) (1.5.6)\n",
      "Requirement already satisfied: wrapt<2,>=1.10 in /home/t2user2/.conda/envs/pybook/lib/python3.10/site-packages (from deprecated>=1.2.13->sktime!=0.17.1,!=0.17.2,!=0.18.0,>=0.16.1->pycaret) (1.15.0)\n",
      "Requirement already satisfied: comm>=0.1.1 in /home/t2user2/.conda/envs/pybook/lib/python3.10/site-packages (from ipykernel>=4.5.1->ipywidgets>=7.6.5->pycaret) (0.1.2)\n",
      "Requirement already satisfied: debugpy>=1.6.5 in /home/t2user2/.conda/envs/pybook/lib/python3.10/site-packages (from ipykernel>=4.5.1->ipywidgets>=7.6.5->pycaret) (1.6.7)\n",
      "Requirement already satisfied: jupyter-client>=6.1.12 in /home/t2user2/.conda/envs/pybook/lib/python3.10/site-packages (from ipykernel>=4.5.1->ipywidgets>=7.6.5->pycaret) (7.4.9)\n",
      "Requirement already satisfied: pyzmq>=20 in /home/t2user2/.conda/envs/pybook/lib/python3.10/site-packages (from ipykernel>=4.5.1->ipywidgets>=7.6.5->pycaret) (23.2.0)\n",
      "Requirement already satisfied: tornado>=6.1 in /home/t2user2/.conda/envs/pybook/lib/python3.10/site-packages (from ipykernel>=4.5.1->ipywidgets>=7.6.5->pycaret) (6.2)\n",
      "Requirement already satisfied: parso<0.9.0,>=0.8.0 in /home/t2user2/.conda/envs/pybook/lib/python3.10/site-packages (from jedi>=0.16->ipython>=5.5.0->pycaret) (0.8.3)\n",
      "Requirement already satisfied: attrs>=17.4.0 in /home/t2user2/.conda/envs/pybook/lib/python3.10/site-packages (from jsonschema>=2.6->nbformat>=4.2.0->pycaret) (22.1.0)\n",
      "Requirement already satisfied: pyrsistent!=0.17.0,!=0.17.1,!=0.17.2,>=0.14.0 in /home/t2user2/.conda/envs/pybook/lib/python3.10/site-packages (from jsonschema>=2.6->nbformat>=4.2.0->pycaret) (0.18.0)\n"
     ]
    },
    {
     "name": "stdout",
     "output_type": "stream",
     "text": [
      "Requirement already satisfied: platformdirs>=2.5 in /home/t2user2/.conda/envs/pybook/lib/python3.10/site-packages (from jupyter-core->nbformat>=4.2.0->pycaret) (3.10.0)\n",
      "Requirement already satisfied: ptyprocess>=0.5 in /home/t2user2/.conda/envs/pybook/lib/python3.10/site-packages (from pexpect>4.3->ipython>=5.5.0->pycaret) (0.7.0)\n",
      "Requirement already satisfied: wcwidth in /home/t2user2/.conda/envs/pybook/lib/python3.10/site-packages (from prompt-toolkit!=3.0.37,<3.1.0,>=3.0.30->ipython>=5.5.0->pycaret) (0.2.5)\n",
      "Requirement already satisfied: executing in /home/t2user2/.conda/envs/pybook/lib/python3.10/site-packages (from stack-data->ipython>=5.5.0->pycaret) (0.8.3)\n",
      "Requirement already satisfied: asttokens in /home/t2user2/.conda/envs/pybook/lib/python3.10/site-packages (from stack-data->ipython>=5.5.0->pycaret) (2.0.5)\n",
      "Requirement already satisfied: pure-eval in /home/t2user2/.conda/envs/pybook/lib/python3.10/site-packages (from stack-data->ipython>=5.5.0->pycaret) (0.2.2)\n",
      "Collecting itsdangerous>=2.0 (from Flask<2.3.0,>=1.0.4->dash<3.0.0,>=2.11.0->plotly-resampler>=0.8.3.1->pycaret)\n",
      "  Downloading itsdangerous-2.1.2-py3-none-any.whl (15 kB)\n",
      "Requirement already satisfied: click>=8.0 in /home/t2user2/.conda/envs/pybook/lib/python3.10/site-packages (from Flask<2.3.0,>=1.0.4->dash<3.0.0,>=2.11.0->plotly-resampler>=0.8.3.1->pycaret) (8.1.6)\n",
      "Requirement already satisfied: entrypoints in /home/t2user2/.conda/envs/pybook/lib/python3.10/site-packages (from jupyter-client>=6.1.12->ipykernel>=4.5.1->ipywidgets>=7.6.5->pycaret) (0.4)\n",
      "Building wheels for collected packages: pyod\n",
      "  Building wheel for pyod (setup.py) ... \u001b[?25ldone\n",
      "\u001b[?25h  Created wheel for pyod: filename=pyod-1.1.0-py3-none-any.whl size=185331 sha256=7aa00e8ba6a7f6f8b65dedfc34be6007449ca74ab6c6a471d228f5cba60005df\n",
      "  Stored in directory: /home/t2user2/.cache/pip/wheels/36/8e/e2/e932956b10b843eb6be9eefa70b5c1bee7b561be14c423b136\n",
      "Successfully built pyod\n",
      "Installing collected packages: trace-updater, kaleido, dash-table, dash-html-components, dash-core-components, xxhash, Werkzeug, tenacity, scikit-base, schemdraw, retrying, orjson, numpy, llvmlite, itsdangerous, deprecation, deprecated, Cython, ansi2html, tsdownsample, plotly, patsy, numba, Flask, statsmodels, dash, yellowbrick, sktime, scikit-plot, pyod, pmdarima, plotly-resampler, imbalanced-learn, category-encoders, tbats, pycaret\n",
      "  Attempting uninstall: numpy\n",
      "    Found existing installation: numpy 1.25.0\n",
      "    Uninstalling numpy-1.25.0:\n",
      "      Successfully uninstalled numpy-1.25.0\n",
      "Successfully installed Cython-3.0.0 Flask-2.2.5 Werkzeug-2.2.3 ansi2html-1.8.0 category-encoders-2.6.1 dash-2.11.1 dash-core-components-2.0.0 dash-html-components-2.0.0 dash-table-5.0.0 deprecated-1.2.14 deprecation-2.1.0 imbalanced-learn-0.11.0 itsdangerous-2.1.2 kaleido-0.2.1 llvmlite-0.40.1 numba-0.57.1 numpy-1.23.5 orjson-3.9.2 patsy-0.5.3 plotly-5.15.0 plotly-resampler-0.9.1 pmdarima-2.0.3 pycaret-3.0.4 pyod-1.1.0 retrying-1.3.4 schemdraw-0.15 scikit-base-0.5.0 scikit-plot-0.3.7 sktime-0.21.0 statsmodels-0.14.0 tbats-1.1.3 tenacity-8.2.2 trace-updater-0.0.9.1 tsdownsample-0.1.2 xxhash-3.3.0 yellowbrick-1.5\n"
     ]
    }
   ],
   "source": [
    "!pip install pycaret"
   ]
  },
  {
   "cell_type": "code",
   "execution_count": 6,
   "id": "a6077f6e",
   "metadata": {},
   "outputs": [
    {
     "name": "stdout",
     "output_type": "stream",
     "text": [
      "Defaulting to user installation because normal site-packages is not writeable\n",
      "Collecting optuna\n",
      "  Using cached optuna-3.2.0-py3-none-any.whl (390 kB)\n",
      "Collecting colorlog\n",
      "  Using cached colorlog-6.7.0-py2.py3-none-any.whl (11 kB)\n",
      "Requirement already satisfied: PyYAML in /opt/anaconda3/lib/python3.10/site-packages (from optuna) (6.0)\n",
      "Requirement already satisfied: tqdm in /opt/anaconda3/lib/python3.10/site-packages (from optuna) (4.64.1)\n",
      "Requirement already satisfied: packaging>=20.0 in /opt/anaconda3/lib/python3.10/site-packages (from optuna) (22.0)\n",
      "Requirement already satisfied: numpy in /opt/anaconda3/lib/python3.10/site-packages (from optuna) (1.23.5)\n",
      "Requirement already satisfied: sqlalchemy>=1.3.0 in /opt/anaconda3/lib/python3.10/site-packages (from optuna) (1.4.39)\n",
      "Collecting cmaes>=0.9.1\n",
      "  Using cached cmaes-0.10.0-py3-none-any.whl (29 kB)\n",
      "Collecting alembic>=1.5.0\n",
      "  Using cached alembic-1.11.1-py3-none-any.whl (224 kB)\n",
      "Requirement already satisfied: typing-extensions>=4 in /opt/anaconda3/lib/python3.10/site-packages (from alembic>=1.5.0->optuna) (4.4.0)\n",
      "Collecting Mako\n",
      "  Using cached Mako-1.2.4-py3-none-any.whl (78 kB)\n",
      "Requirement already satisfied: greenlet!=0.4.17 in /opt/anaconda3/lib/python3.10/site-packages (from sqlalchemy>=1.3.0->optuna) (2.0.1)\n",
      "Requirement already satisfied: MarkupSafe>=0.9.2 in /opt/anaconda3/lib/python3.10/site-packages (from Mako->alembic>=1.5.0->optuna) (2.1.1)\n",
      "Installing collected packages: Mako, colorlog, cmaes, alembic, optuna\n",
      "Successfully installed Mako-1.2.4 alembic-1.11.1 cmaes-0.10.0 colorlog-6.7.0 optuna-3.2.0\n",
      "Note: you may need to restart the kernel to use updated packages.\n"
     ]
    }
   ],
   "source": [
    "pip install optuna"
   ]
  },
  {
   "cell_type": "markdown",
   "id": "b933954a",
   "metadata": {},
   "source": [
    "### 호출 및 파일 불러오기"
   ]
  },
  {
   "cell_type": "code",
   "execution_count": null,
   "id": "c8051243",
   "metadata": {},
   "outputs": [],
   "source": []
  },
  {
   "cell_type": "code",
   "execution_count": 1,
   "id": "f68d5ad5",
   "metadata": {
    "ExecuteTime": {
     "end_time": "2023-07-30T11:32:29.414001Z",
     "start_time": "2023-07-30T11:32:28.120972Z"
    },
    "scrolled": true
   },
   "outputs": [],
   "source": [
    "import pandas as pd\n",
    "import numpy as np\n",
    "import matplotlib.pyplot as plt\n",
    "import seaborn as sns\n",
    "from tqdm import tqdm\n",
    "from sklearn.linear_model import LinearRegression, ElasticNet, Lasso, Ridge\n",
    "from sklearn.tree import DecisionTreeRegressor\n",
    "from sklearn.ensemble import RandomForestRegressor\n",
    "\n",
    "\n",
    "import xgboost as xgb\n",
    "\n",
    "import re\n",
    "import optuna\n",
    "from optuna.integration import XGBoostPruningCallback\n",
    "sns.set_theme(style=\"darkgrid\")\n",
    "\n",
    "\n",
    "pd.options.mode.chained_assignment = None\n",
    "%matplotlib inline"
   ]
  },
  {
   "cell_type": "code",
   "execution_count": 2,
   "id": "1e078cf0",
   "metadata": {
    "ExecuteTime": {
     "end_time": "2023-07-30T11:32:31.061078Z",
     "start_time": "2023-07-30T11:32:30.686174Z"
    },
    "scrolled": true
   },
   "outputs": [],
   "source": [
    "import lightgbm as lgb"
   ]
  },
  {
   "cell_type": "code",
   "execution_count": 119,
   "id": "737060b5",
   "metadata": {
    "ExecuteTime": {
     "end_time": "2023-07-30T11:32:31.987412Z",
     "start_time": "2023-07-30T11:32:31.957808Z"
    }
   },
   "outputs": [],
   "source": [
    "#Import train data set & test data\n",
    "train = pd.read_csv('train.csv')\n",
    "test = pd.read_csv('test.csv')\n",
    "submission = pd.read_csv('sample_submission.csv')"
   ]
  },
  {
   "cell_type": "markdown",
   "id": "38485f77",
   "metadata": {
    "heading_collapsed": true
   },
   "source": [
    "## Train data 확인"
   ]
  },
  {
   "cell_type": "code",
   "execution_count": null,
   "id": "f86f4bc4",
   "metadata": {
    "ExecuteTime": {
     "start_time": "2023-07-30T11:31:04.845Z"
    },
    "hidden": true
   },
   "outputs": [],
   "source": [
    "train.head()"
   ]
  },
  {
   "cell_type": "code",
   "execution_count": null,
   "id": "0f7317cd",
   "metadata": {
    "ExecuteTime": {
     "start_time": "2023-07-30T11:31:04.846Z"
    },
    "hidden": true,
    "scrolled": false
   },
   "outputs": [],
   "source": [
    "train['sigungu'].value_counts()"
   ]
  },
  {
   "cell_type": "code",
   "execution_count": null,
   "id": "cc6f7863",
   "metadata": {
    "ExecuteTime": {
     "start_time": "2023-07-30T11:31:04.847Z"
    },
    "hidden": true
   },
   "outputs": [],
   "source": [
    "train['apt_name'].value_counts()"
   ]
  },
  {
   "cell_type": "code",
   "execution_count": null,
   "id": "b6d08e50",
   "metadata": {
    "ExecuteTime": {
     "start_time": "2023-07-30T11:31:04.848Z"
    },
    "hidden": true,
    "scrolled": true
   },
   "outputs": [],
   "source": [
    "#Checking data types\n",
    "print(train.info())\n",
    "    #No missing value"
   ]
  },
  {
   "cell_type": "code",
   "execution_count": null,
   "id": "9b90268e",
   "metadata": {
    "ExecuteTime": {
     "start_time": "2023-07-30T11:31:04.850Z"
    },
    "hidden": true,
    "scrolled": true
   },
   "outputs": [],
   "source": [
    "#Descriptive statistics of numerical data\n",
    "train.describe()"
   ]
  },
  {
   "cell_type": "code",
   "execution_count": null,
   "id": "1ccbfa35",
   "metadata": {
    "ExecuteTime": {
     "start_time": "2023-07-30T11:31:04.851Z"
    },
    "hidden": true,
    "scrolled": false
   },
   "outputs": [],
   "source": [
    "train['transaction_year_month'].value_counts().sort_values(ascending = True)"
   ]
  },
  {
   "cell_type": "code",
   "execution_count": 97,
   "id": "5d51b05e",
   "metadata": {
    "ExecuteTime": {
     "start_time": "2023-07-30T11:31:04.852Z"
    },
    "hidden": true
   },
   "outputs": [
    {
     "data": {
      "text/plain": [
       "(5987, 10)"
      ]
     },
     "execution_count": 97,
     "metadata": {},
     "output_type": "execute_result"
    }
   ],
   "source": [
    "train.shape"
   ]
  },
  {
   "cell_type": "code",
   "execution_count": 98,
   "id": "14fa2759",
   "metadata": {
    "ExecuteTime": {
     "start_time": "2023-07-30T11:31:04.853Z"
    },
    "hidden": true
   },
   "outputs": [
    {
     "data": {
      "text/plain": [
       "(196, 9)"
      ]
     },
     "execution_count": 98,
     "metadata": {},
     "output_type": "execute_result"
    }
   ],
   "source": [
    "test.shape #transaction_real_price 가 제외"
   ]
  },
  {
   "cell_type": "markdown",
   "id": "753de8a0",
   "metadata": {
    "heading_collapsed": true
   },
   "source": [
    "## Test data & Submission data 확인"
   ]
  },
  {
   "cell_type": "code",
   "execution_count": null,
   "id": "71acd778",
   "metadata": {},
   "outputs": [],
   "source": [
    "test.shp"
   ]
  },
  {
   "cell_type": "code",
   "execution_count": 96,
   "id": "7fc0f261",
   "metadata": {
    "ExecuteTime": {
     "start_time": "2023-07-30T11:31:04.854Z"
    },
    "hidden": true,
    "scrolled": false
   },
   "outputs": [
    {
     "data": {
      "text/html": [
       "<div>\n",
       "<style scoped>\n",
       "    .dataframe tbody tr th:only-of-type {\n",
       "        vertical-align: middle;\n",
       "    }\n",
       "\n",
       "    .dataframe tbody tr th {\n",
       "        vertical-align: top;\n",
       "    }\n",
       "\n",
       "    .dataframe thead th {\n",
       "        text-align: right;\n",
       "    }\n",
       "</style>\n",
       "<table border=\"1\" class=\"dataframe\">\n",
       "  <thead>\n",
       "    <tr style=\"text-align: right;\">\n",
       "      <th></th>\n",
       "      <th>id</th>\n",
       "      <th>sigungu</th>\n",
       "      <th>jibun</th>\n",
       "      <th>apt_name</th>\n",
       "      <th>exclusive_use_area</th>\n",
       "      <th>transaction_year_month</th>\n",
       "      <th>transaction_day</th>\n",
       "      <th>floor</th>\n",
       "      <th>year_of_completion</th>\n",
       "    </tr>\n",
       "  </thead>\n",
       "  <tbody>\n",
       "    <tr>\n",
       "      <th>0</th>\n",
       "      <td>TEST_0000</td>\n",
       "      <td>서울특별시 강남구 대치동</td>\n",
       "      <td>977</td>\n",
       "      <td>(977-)</td>\n",
       "      <td>77.97</td>\n",
       "      <td>202304</td>\n",
       "      <td>10</td>\n",
       "      <td>2</td>\n",
       "      <td>2021</td>\n",
       "    </tr>\n",
       "    <tr>\n",
       "      <th>1</th>\n",
       "      <td>TEST_0001</td>\n",
       "      <td>서울특별시 강남구 대치동</td>\n",
       "      <td>977</td>\n",
       "      <td>(977-)</td>\n",
       "      <td>59.99</td>\n",
       "      <td>202304</td>\n",
       "      <td>10</td>\n",
       "      <td>2</td>\n",
       "      <td>2021</td>\n",
       "    </tr>\n",
       "    <tr>\n",
       "      <th>2</th>\n",
       "      <td>TEST_0002</td>\n",
       "      <td>서울특별시 강남구 대치동</td>\n",
       "      <td>503</td>\n",
       "      <td>개포우성1</td>\n",
       "      <td>84.81</td>\n",
       "      <td>202301</td>\n",
       "      <td>13</td>\n",
       "      <td>3</td>\n",
       "      <td>1983</td>\n",
       "    </tr>\n",
       "    <tr>\n",
       "      <th>3</th>\n",
       "      <td>TEST_0003</td>\n",
       "      <td>서울특별시 강남구 대치동</td>\n",
       "      <td>503</td>\n",
       "      <td>개포우성1</td>\n",
       "      <td>84.81</td>\n",
       "      <td>202301</td>\n",
       "      <td>19</td>\n",
       "      <td>9</td>\n",
       "      <td>1983</td>\n",
       "    </tr>\n",
       "    <tr>\n",
       "      <th>4</th>\n",
       "      <td>TEST_0004</td>\n",
       "      <td>서울특별시 강남구 대치동</td>\n",
       "      <td>503</td>\n",
       "      <td>개포우성1</td>\n",
       "      <td>84.81</td>\n",
       "      <td>202302</td>\n",
       "      <td>15</td>\n",
       "      <td>5</td>\n",
       "      <td>1983</td>\n",
       "    </tr>\n",
       "    <tr>\n",
       "      <th>5</th>\n",
       "      <td>TEST_0005</td>\n",
       "      <td>서울특별시 강남구 대치동</td>\n",
       "      <td>503</td>\n",
       "      <td>개포우성1</td>\n",
       "      <td>158.54</td>\n",
       "      <td>202303</td>\n",
       "      <td>17</td>\n",
       "      <td>2</td>\n",
       "      <td>1983</td>\n",
       "    </tr>\n",
       "    <tr>\n",
       "      <th>6</th>\n",
       "      <td>TEST_0006</td>\n",
       "      <td>서울특별시 강남구 대치동</td>\n",
       "      <td>503</td>\n",
       "      <td>개포우성1</td>\n",
       "      <td>84.81</td>\n",
       "      <td>202304</td>\n",
       "      <td>7</td>\n",
       "      <td>5</td>\n",
       "      <td>1983</td>\n",
       "    </tr>\n",
       "    <tr>\n",
       "      <th>7</th>\n",
       "      <td>TEST_0007</td>\n",
       "      <td>서울특별시 강남구 대치동</td>\n",
       "      <td>503</td>\n",
       "      <td>개포우성1</td>\n",
       "      <td>127.61</td>\n",
       "      <td>202305</td>\n",
       "      <td>24</td>\n",
       "      <td>9</td>\n",
       "      <td>1983</td>\n",
       "    </tr>\n",
       "    <tr>\n",
       "      <th>8</th>\n",
       "      <td>TEST_0008</td>\n",
       "      <td>서울특별시 강남구 대치동</td>\n",
       "      <td>503</td>\n",
       "      <td>개포우성1</td>\n",
       "      <td>158.54</td>\n",
       "      <td>202306</td>\n",
       "      <td>2</td>\n",
       "      <td>3</td>\n",
       "      <td>1983</td>\n",
       "    </tr>\n",
       "    <tr>\n",
       "      <th>9</th>\n",
       "      <td>TEST_0009</td>\n",
       "      <td>서울특별시 강남구 대치동</td>\n",
       "      <td>500</td>\n",
       "      <td>개포우성2</td>\n",
       "      <td>84.69</td>\n",
       "      <td>202302</td>\n",
       "      <td>11</td>\n",
       "      <td>8</td>\n",
       "      <td>1984</td>\n",
       "    </tr>\n",
       "  </tbody>\n",
       "</table>\n",
       "</div>"
      ],
      "text/plain": [
       "          id        sigungu jibun apt_name  exclusive_use_area  \\\n",
       "0  TEST_0000  서울특별시 강남구 대치동   977   (977-)               77.97   \n",
       "1  TEST_0001  서울특별시 강남구 대치동   977   (977-)               59.99   \n",
       "2  TEST_0002  서울특별시 강남구 대치동   503    개포우성1               84.81   \n",
       "3  TEST_0003  서울특별시 강남구 대치동   503    개포우성1               84.81   \n",
       "4  TEST_0004  서울특별시 강남구 대치동   503    개포우성1               84.81   \n",
       "5  TEST_0005  서울특별시 강남구 대치동   503    개포우성1              158.54   \n",
       "6  TEST_0006  서울특별시 강남구 대치동   503    개포우성1               84.81   \n",
       "7  TEST_0007  서울특별시 강남구 대치동   503    개포우성1              127.61   \n",
       "8  TEST_0008  서울특별시 강남구 대치동   503    개포우성1              158.54   \n",
       "9  TEST_0009  서울특별시 강남구 대치동   500    개포우성2               84.69   \n",
       "\n",
       "   transaction_year_month  transaction_day  floor  year_of_completion  \n",
       "0                  202304               10      2                2021  \n",
       "1                  202304               10      2                2021  \n",
       "2                  202301               13      3                1983  \n",
       "3                  202301               19      9                1983  \n",
       "4                  202302               15      5                1983  \n",
       "5                  202303               17      2                1983  \n",
       "6                  202304                7      5                1983  \n",
       "7                  202305               24      9                1983  \n",
       "8                  202306                2      3                1983  \n",
       "9                  202302               11      8                1984  "
      ]
     },
     "execution_count": 96,
     "metadata": {},
     "output_type": "execute_result"
    }
   ],
   "source": [
    "test.head(10\n",
    "        )"
   ]
  },
  {
   "cell_type": "code",
   "execution_count": null,
   "id": "5403fabd",
   "metadata": {
    "ExecuteTime": {
     "start_time": "2023-07-30T11:31:04.855Z"
    },
    "hidden": true
   },
   "outputs": [],
   "source": [
    "test.describe()"
   ]
  },
  {
   "cell_type": "code",
   "execution_count": null,
   "id": "4ba46947",
   "metadata": {
    "ExecuteTime": {
     "start_time": "2023-07-30T11:31:04.856Z"
    },
    "hidden": true
   },
   "outputs": [],
   "source": [
    "test['apt_name'].value_counts()"
   ]
  },
  {
   "cell_type": "code",
   "execution_count": null,
   "id": "c84ba96d",
   "metadata": {
    "ExecuteTime": {
     "start_time": "2023-07-30T11:31:04.857Z"
    },
    "hidden": true
   },
   "outputs": [],
   "source": [
    "test['sigungu'].value_counts()"
   ]
  },
  {
   "cell_type": "code",
   "execution_count": null,
   "id": "62e40053",
   "metadata": {
    "ExecuteTime": {
     "start_time": "2023-07-30T11:31:04.858Z"
    },
    "hidden": true,
    "scrolled": false
   },
   "outputs": [],
   "source": [
    "test['transaction_year_month'].value_counts()"
   ]
  },
  {
   "cell_type": "markdown",
   "id": "342343e3",
   "metadata": {
    "hidden": true
   },
   "source": [
    "test data 에서는 202301~202306의 데이터가 존재"
   ]
  },
  {
   "cell_type": "code",
   "execution_count": 4,
   "id": "410c4fe3",
   "metadata": {
    "ExecuteTime": {
     "start_time": "2023-07-30T11:31:04.860Z"
    },
    "hidden": true,
    "scrolled": true
   },
   "outputs": [
    {
     "data": {
      "text/html": [
       "<div>\n",
       "<style scoped>\n",
       "    .dataframe tbody tr th:only-of-type {\n",
       "        vertical-align: middle;\n",
       "    }\n",
       "\n",
       "    .dataframe tbody tr th {\n",
       "        vertical-align: top;\n",
       "    }\n",
       "\n",
       "    .dataframe thead th {\n",
       "        text-align: right;\n",
       "    }\n",
       "</style>\n",
       "<table border=\"1\" class=\"dataframe\">\n",
       "  <thead>\n",
       "    <tr style=\"text-align: right;\">\n",
       "      <th></th>\n",
       "      <th>id</th>\n",
       "      <th>transaction_real_price</th>\n",
       "    </tr>\n",
       "  </thead>\n",
       "  <tbody>\n",
       "    <tr>\n",
       "      <th>0</th>\n",
       "      <td>TEST_0000</td>\n",
       "      <td>0</td>\n",
       "    </tr>\n",
       "    <tr>\n",
       "      <th>1</th>\n",
       "      <td>TEST_0001</td>\n",
       "      <td>0</td>\n",
       "    </tr>\n",
       "    <tr>\n",
       "      <th>2</th>\n",
       "      <td>TEST_0002</td>\n",
       "      <td>0</td>\n",
       "    </tr>\n",
       "    <tr>\n",
       "      <th>3</th>\n",
       "      <td>TEST_0003</td>\n",
       "      <td>0</td>\n",
       "    </tr>\n",
       "    <tr>\n",
       "      <th>4</th>\n",
       "      <td>TEST_0004</td>\n",
       "      <td>0</td>\n",
       "    </tr>\n",
       "    <tr>\n",
       "      <th>5</th>\n",
       "      <td>TEST_0005</td>\n",
       "      <td>0</td>\n",
       "    </tr>\n",
       "    <tr>\n",
       "      <th>6</th>\n",
       "      <td>TEST_0006</td>\n",
       "      <td>0</td>\n",
       "    </tr>\n",
       "    <tr>\n",
       "      <th>7</th>\n",
       "      <td>TEST_0007</td>\n",
       "      <td>0</td>\n",
       "    </tr>\n",
       "    <tr>\n",
       "      <th>8</th>\n",
       "      <td>TEST_0008</td>\n",
       "      <td>0</td>\n",
       "    </tr>\n",
       "    <tr>\n",
       "      <th>9</th>\n",
       "      <td>TEST_0009</td>\n",
       "      <td>0</td>\n",
       "    </tr>\n",
       "  </tbody>\n",
       "</table>\n",
       "</div>"
      ],
      "text/plain": [
       "          id  transaction_real_price\n",
       "0  TEST_0000                       0\n",
       "1  TEST_0001                       0\n",
       "2  TEST_0002                       0\n",
       "3  TEST_0003                       0\n",
       "4  TEST_0004                       0\n",
       "5  TEST_0005                       0\n",
       "6  TEST_0006                       0\n",
       "7  TEST_0007                       0\n",
       "8  TEST_0008                       0\n",
       "9  TEST_0009                       0"
      ]
     },
     "execution_count": 4,
     "metadata": {},
     "output_type": "execute_result"
    }
   ],
   "source": [
    "#submission 데이터 확인\n",
    "submission.head(10)"
   ]
  },
  {
   "cell_type": "markdown",
   "id": "5c7b7678",
   "metadata": {},
   "source": [
    "# 데이터 전처리 및 EDA"
   ]
  },
  {
   "cell_type": "markdown",
   "id": "b983bf64",
   "metadata": {},
   "source": [
    "## 날짜 데이터 전처리"
   ]
  },
  {
   "cell_type": "markdown",
   "id": "0071385e",
   "metadata": {},
   "source": [
    "날짜 관련 컬럼은 year_of_completion, transaction_year_month, transaction_date가 있다. 이들은 범주형 데이터이기 때문에 분석을 위해 거래날짜 데이터를 제거 하고 거래연월 변수에 라벨인코딩을 적용할 것이다. "
   ]
  },
  {
   "cell_type": "code",
   "execution_count": 120,
   "id": "fdebe27a",
   "metadata": {
    "ExecuteTime": {
     "end_time": "2023-07-30T11:32:57.642581Z",
     "start_time": "2023-07-30T11:32:57.620822Z"
    },
    "scrolled": true
   },
   "outputs": [
    {
     "data": {
      "text/html": [
       "<div>\n",
       "<style scoped>\n",
       "    .dataframe tbody tr th:only-of-type {\n",
       "        vertical-align: middle;\n",
       "    }\n",
       "\n",
       "    .dataframe tbody tr th {\n",
       "        vertical-align: top;\n",
       "    }\n",
       "\n",
       "    .dataframe thead th {\n",
       "        text-align: right;\n",
       "    }\n",
       "</style>\n",
       "<table border=\"1\" class=\"dataframe\">\n",
       "  <thead>\n",
       "    <tr style=\"text-align: right;\">\n",
       "      <th></th>\n",
       "      <th>id</th>\n",
       "      <th>sigungu</th>\n",
       "      <th>jibun</th>\n",
       "      <th>apt_name</th>\n",
       "      <th>exclusive_use_area</th>\n",
       "      <th>transaction_year_month</th>\n",
       "      <th>transaction_real_price</th>\n",
       "      <th>floor</th>\n",
       "      <th>year_of_completion</th>\n",
       "    </tr>\n",
       "  </thead>\n",
       "  <tbody>\n",
       "    <tr>\n",
       "      <th>0</th>\n",
       "      <td>TRAIN_0000</td>\n",
       "      <td>서울특별시 강남구 대치동</td>\n",
       "      <td>503</td>\n",
       "      <td>개포우성1</td>\n",
       "      <td>158.54</td>\n",
       "      <td>201401</td>\n",
       "      <td>174000</td>\n",
       "      <td>13</td>\n",
       "      <td>1983</td>\n",
       "    </tr>\n",
       "    <tr>\n",
       "      <th>1</th>\n",
       "      <td>TRAIN_0001</td>\n",
       "      <td>서울특별시 강남구 대치동</td>\n",
       "      <td>503</td>\n",
       "      <td>개포우성1</td>\n",
       "      <td>127.61</td>\n",
       "      <td>201401</td>\n",
       "      <td>157500</td>\n",
       "      <td>6</td>\n",
       "      <td>1983</td>\n",
       "    </tr>\n",
       "    <tr>\n",
       "      <th>2</th>\n",
       "      <td>TRAIN_0002</td>\n",
       "      <td>서울특별시 강남구 대치동</td>\n",
       "      <td>503</td>\n",
       "      <td>개포우성1</td>\n",
       "      <td>127.61</td>\n",
       "      <td>201401</td>\n",
       "      <td>150000</td>\n",
       "      <td>5</td>\n",
       "      <td>1983</td>\n",
       "    </tr>\n",
       "    <tr>\n",
       "      <th>3</th>\n",
       "      <td>TRAIN_0003</td>\n",
       "      <td>서울특별시 강남구 대치동</td>\n",
       "      <td>503</td>\n",
       "      <td>개포우성1</td>\n",
       "      <td>127.61</td>\n",
       "      <td>201402</td>\n",
       "      <td>152000</td>\n",
       "      <td>9</td>\n",
       "      <td>1983</td>\n",
       "    </tr>\n",
       "    <tr>\n",
       "      <th>4</th>\n",
       "      <td>TRAIN_0004</td>\n",
       "      <td>서울특별시 강남구 대치동</td>\n",
       "      <td>503</td>\n",
       "      <td>개포우성1</td>\n",
       "      <td>84.81</td>\n",
       "      <td>201402</td>\n",
       "      <td>116000</td>\n",
       "      <td>3</td>\n",
       "      <td>1983</td>\n",
       "    </tr>\n",
       "  </tbody>\n",
       "</table>\n",
       "</div>"
      ],
      "text/plain": [
       "           id        sigungu jibun apt_name  exclusive_use_area  \\\n",
       "0  TRAIN_0000  서울특별시 강남구 대치동   503    개포우성1              158.54   \n",
       "1  TRAIN_0001  서울특별시 강남구 대치동   503    개포우성1              127.61   \n",
       "2  TRAIN_0002  서울특별시 강남구 대치동   503    개포우성1              127.61   \n",
       "3  TRAIN_0003  서울특별시 강남구 대치동   503    개포우성1              127.61   \n",
       "4  TRAIN_0004  서울특별시 강남구 대치동   503    개포우성1               84.81   \n",
       "\n",
       "   transaction_year_month  transaction_real_price  floor  year_of_completion  \n",
       "0                  201401                  174000     13                1983  \n",
       "1                  201401                  157500      6                1983  \n",
       "2                  201401                  150000      5                1983  \n",
       "3                  201402                  152000      9                1983  \n",
       "4                  201402                  116000      3                1983  "
      ]
     },
     "execution_count": 120,
     "metadata": {},
     "output_type": "execute_result"
    }
   ],
   "source": [
    "#transaction_day가 거래가에 유의미한 영향을 주지 않을 것으로 판단하고 제거\n",
    "train.drop(['transaction_day'],axis=1, inplace=True)\n",
    "train.head()"
   ]
  },
  {
   "cell_type": "code",
   "execution_count": 121,
   "id": "e0db2cc4",
   "metadata": {
    "ExecuteTime": {
     "end_time": "2023-07-30T11:32:59.479189Z",
     "start_time": "2023-07-30T11:32:59.453051Z"
    },
    "scrolled": true
   },
   "outputs": [
    {
     "name": "stdout",
     "output_type": "stream",
     "text": [
      "train data 기술통계량\n",
      "       year_of_completion  transaction_year_month\n",
      "count         5987.000000             5987.000000\n",
      "mean          1992.938533           201699.414398\n",
      "std             12.418632              208.265846\n",
      "min           1979.000000           201401.000000\n",
      "25%           1983.000000           201509.000000\n",
      "50%           1989.000000           201704.000000\n",
      "75%           2004.000000           201903.000000\n",
      "max           2017.000000           202212.000000\n",
      "------------------------------------------------------------------------------------------\n",
      "test data 기b술통계량\n",
      "       year_of_completion  transaction_year_month\n",
      "count          196.000000              196.000000\n",
      "mean          1989.423469           202304.010204\n",
      "std             12.367420                1.594831\n",
      "min           1979.000000           202301.000000\n",
      "25%           1979.000000           202303.000000\n",
      "50%           1983.000000           202304.000000\n",
      "75%           2000.000000           202305.000000\n",
      "max           2021.000000           202306.000000\n"
     ]
    }
   ],
   "source": [
    "print('train data 기술통계량')\n",
    "print(train[['year_of_completion','transaction_year_month']].describe())\n",
    "print('-'*90)\n",
    "print('test data 기b술통계량')\n",
    "print(test[['year_of_completion','transaction_year_month']].describe())\n"
   ]
  },
  {
   "cell_type": "markdown",
   "id": "e6e06c58",
   "metadata": {},
   "source": [
    "[train data]\n",
    "- year_of_completion\n",
    "\n",
    "최대값은 2017년이며 최솟값은 1979년이다. \n",
    "\n",
    "- transaction_year_month\n",
    "\n",
    "최대값은 2022년 12월이며 최솟값은 2014년 1월이다. \n",
    "\n",
    "-------------\n",
    "[test data]\n",
    "- year_of_completion\n",
    "\n",
    "최대값은 2021년이며 최솟값은 1979년이다. \n",
    "\n",
    "- transaction_year_month\n",
    "\n",
    "최대값은 2023년 6월이며 최솟값은 2023년 1월이다. \n"
   ]
  },
  {
   "cell_type": "markdown",
   "id": "50344452",
   "metadata": {},
   "source": [
    "최대년도에서 최소년도를 뺌으로써 정수형 라벨인코딩을 완성한다. test data의 경우 완공년도는 train data와 동일하기 때문에 인코딩에서 문제가 발생하진 않지만 거래연월에서 문제가 발생한다. "
   ]
  },
  {
   "cell_type": "code",
   "execution_count": 122,
   "id": "fc44c964",
   "metadata": {
    "ExecuteTime": {
     "end_time": "2023-07-30T11:33:01.105586Z",
     "start_time": "2023-07-30T11:33:01.083555Z"
    }
   },
   "outputs": [
    {
     "name": "stdout",
     "output_type": "stream",
     "text": [
      "변환전\n",
      " [1983 1984 2003 2004 2000]\n",
      "변환후\n",
      " [ 4  5 24 25 21]\n",
      "train 변환전\n",
      " [201401 201402 201403 201405 201406]\n",
      "test 변환전\n",
      " [202304 202301 202302 202303 202305]\n",
      "train 변환후\n",
      " [0 1 2 4 5]\n",
      "test 변환후\n",
      " [111 108 109 110 112]\n"
     ]
    }
   ],
   "source": [
    "from sklearn.preprocessing import LabelEncoder\n",
    "\n",
    "# train set과 test set을 합쳐서 \"year_of_completion\" set의 최대값과 최소값 구하기\n",
    "combined_yc = pd.concat([train['year_of_completion'], test['year_of_completion']])\n",
    "combined_yc_max = combined_yc.max()\n",
    "combined_yc_min = combined_yc.min()\n",
    "\n",
    "# train set과 test set을 합쳐서 \"transaction_year_month\" set의 최대값과 최소값 구하기\n",
    "combined_tym = pd.concat([train['transaction_year_month'], test['transaction_year_month']])\n",
    "combined_tym_max = combined_tym.max()\n",
    "combined_tym_min = combined_tym.min()\n",
    "\n",
    "# train set에서 \"year_of_completion\" set에서 최소값 빼기\n",
    "print('변환전\\n', train['year_of_completion'].unique()[:5])\n",
    "train['year_of_completion'] = train['year_of_completion'] - combined_yc_min\n",
    "test['year_of_completion'] = test['year_of_completion'] - combined_yc_min\n",
    "print('변환후\\n', train['year_of_completion'].unique()[:5])\n",
    "\n",
    "# train set과 test set에서 \"transaction_year_month\" 라벨 인코딩\n",
    "print('train 변환전\\n', train['transaction_year_month'].unique()[:5])\n",
    "print('test 변환전\\n', test['transaction_year_month'].unique()[:5])\n",
    "\n",
    "le = LabelEncoder()\n",
    "le.fit(combined_tym)\n",
    "train['transaction_year_month'] = le.transform(train['transaction_year_month'])\n",
    "test['transaction_year_month'] = le.transform(test['transaction_year_month'])\n",
    "\n",
    "print('train 변환후\\n', train['transaction_year_month'].unique()[:5])\n",
    "print('test 변환후\\n', test['transaction_year_month'].unique()[:5])\n",
    "\n"
   ]
  },
  {
   "cell_type": "code",
   "execution_count": 123,
   "id": "f40446ed",
   "metadata": {
    "ExecuteTime": {
     "end_time": "2023-07-30T11:33:01.607727Z",
     "start_time": "2023-07-30T11:33:01.590935Z"
    }
   },
   "outputs": [
    {
     "data": {
      "text/html": [
       "<div>\n",
       "<style scoped>\n",
       "    .dataframe tbody tr th:only-of-type {\n",
       "        vertical-align: middle;\n",
       "    }\n",
       "\n",
       "    .dataframe tbody tr th {\n",
       "        vertical-align: top;\n",
       "    }\n",
       "\n",
       "    .dataframe thead th {\n",
       "        text-align: right;\n",
       "    }\n",
       "</style>\n",
       "<table border=\"1\" class=\"dataframe\">\n",
       "  <thead>\n",
       "    <tr style=\"text-align: right;\">\n",
       "      <th></th>\n",
       "      <th>id</th>\n",
       "      <th>sigungu</th>\n",
       "      <th>jibun</th>\n",
       "      <th>apt_name</th>\n",
       "      <th>exclusive_use_area</th>\n",
       "      <th>transaction_year_month</th>\n",
       "      <th>transaction_real_price</th>\n",
       "      <th>floor</th>\n",
       "      <th>year_of_completion</th>\n",
       "    </tr>\n",
       "  </thead>\n",
       "  <tbody>\n",
       "    <tr>\n",
       "      <th>0</th>\n",
       "      <td>TRAIN_0000</td>\n",
       "      <td>서울특별시 강남구 대치동</td>\n",
       "      <td>503</td>\n",
       "      <td>개포우성1</td>\n",
       "      <td>158.54</td>\n",
       "      <td>0</td>\n",
       "      <td>174000</td>\n",
       "      <td>13</td>\n",
       "      <td>4</td>\n",
       "    </tr>\n",
       "    <tr>\n",
       "      <th>1</th>\n",
       "      <td>TRAIN_0001</td>\n",
       "      <td>서울특별시 강남구 대치동</td>\n",
       "      <td>503</td>\n",
       "      <td>개포우성1</td>\n",
       "      <td>127.61</td>\n",
       "      <td>0</td>\n",
       "      <td>157500</td>\n",
       "      <td>6</td>\n",
       "      <td>4</td>\n",
       "    </tr>\n",
       "    <tr>\n",
       "      <th>2</th>\n",
       "      <td>TRAIN_0002</td>\n",
       "      <td>서울특별시 강남구 대치동</td>\n",
       "      <td>503</td>\n",
       "      <td>개포우성1</td>\n",
       "      <td>127.61</td>\n",
       "      <td>0</td>\n",
       "      <td>150000</td>\n",
       "      <td>5</td>\n",
       "      <td>4</td>\n",
       "    </tr>\n",
       "    <tr>\n",
       "      <th>3</th>\n",
       "      <td>TRAIN_0003</td>\n",
       "      <td>서울특별시 강남구 대치동</td>\n",
       "      <td>503</td>\n",
       "      <td>개포우성1</td>\n",
       "      <td>127.61</td>\n",
       "      <td>1</td>\n",
       "      <td>152000</td>\n",
       "      <td>9</td>\n",
       "      <td>4</td>\n",
       "    </tr>\n",
       "    <tr>\n",
       "      <th>4</th>\n",
       "      <td>TRAIN_0004</td>\n",
       "      <td>서울특별시 강남구 대치동</td>\n",
       "      <td>503</td>\n",
       "      <td>개포우성1</td>\n",
       "      <td>84.81</td>\n",
       "      <td>1</td>\n",
       "      <td>116000</td>\n",
       "      <td>3</td>\n",
       "      <td>4</td>\n",
       "    </tr>\n",
       "  </tbody>\n",
       "</table>\n",
       "</div>"
      ],
      "text/plain": [
       "           id        sigungu jibun apt_name  exclusive_use_area  \\\n",
       "0  TRAIN_0000  서울특별시 강남구 대치동   503    개포우성1              158.54   \n",
       "1  TRAIN_0001  서울특별시 강남구 대치동   503    개포우성1              127.61   \n",
       "2  TRAIN_0002  서울특별시 강남구 대치동   503    개포우성1              127.61   \n",
       "3  TRAIN_0003  서울특별시 강남구 대치동   503    개포우성1              127.61   \n",
       "4  TRAIN_0004  서울특별시 강남구 대치동   503    개포우성1               84.81   \n",
       "\n",
       "   transaction_year_month  transaction_real_price  floor  year_of_completion  \n",
       "0                       0                  174000     13                   4  \n",
       "1                       0                  157500      6                   4  \n",
       "2                       0                  150000      5                   4  \n",
       "3                       1                  152000      9                   4  \n",
       "4                       1                  116000      3                   4  "
      ]
     },
     "execution_count": 123,
     "metadata": {},
     "output_type": "execute_result"
    }
   ],
   "source": [
    "train.head()"
   ]
  },
  {
   "cell_type": "code",
   "execution_count": 124,
   "id": "95b89105",
   "metadata": {
    "ExecuteTime": {
     "end_time": "2023-07-30T11:33:02.123019Z",
     "start_time": "2023-07-30T11:33:02.095911Z"
    },
    "scrolled": true
   },
   "outputs": [
    {
     "name": "stdout",
     "output_type": "stream",
     "text": [
      "train\n",
      "       transaction_year_month  year_of_completion\n",
      "count             5987.000000         5987.000000\n",
      "mean                40.661266           13.938533\n",
      "std                 25.281697           12.418632\n",
      "min                  0.000000            0.000000\n",
      "25%                 20.000000            4.000000\n",
      "50%                 39.000000           10.000000\n",
      "75%                 62.000000           25.000000\n",
      "max                107.000000           38.000000\n",
      "------------------------------------------------------------------------------------------\n",
      "test\n",
      "       transaction_year_month  year_of_completion\n",
      "count              196.000000          196.000000\n",
      "mean               111.010204           10.423469\n",
      "std                  1.594831           12.367420\n",
      "min                108.000000            0.000000\n",
      "25%                110.000000            0.000000\n",
      "50%                111.000000            4.000000\n",
      "75%                112.000000           21.000000\n",
      "max                113.000000           42.000000\n"
     ]
    }
   ],
   "source": [
    "print('train')\n",
    "print(train[['transaction_year_month', 'year_of_completion']].describe())\n",
    "print('-'*90)\n",
    "print('test')\n",
    "print(test[['transaction_year_month', 'year_of_completion']].describe())"
   ]
  },
  {
   "cell_type": "code",
   "execution_count": 125,
   "id": "91c622fa",
   "metadata": {
    "ExecuteTime": {
     "end_time": "2023-07-30T11:33:04.630233Z",
     "start_time": "2023-07-30T11:33:04.614604Z"
    },
    "scrolled": false
   },
   "outputs": [
    {
     "data": {
      "text/html": [
       "<div>\n",
       "<style scoped>\n",
       "    .dataframe tbody tr th:only-of-type {\n",
       "        vertical-align: middle;\n",
       "    }\n",
       "\n",
       "    .dataframe tbody tr th {\n",
       "        vertical-align: top;\n",
       "    }\n",
       "\n",
       "    .dataframe thead th {\n",
       "        text-align: right;\n",
       "    }\n",
       "</style>\n",
       "<table border=\"1\" class=\"dataframe\">\n",
       "  <thead>\n",
       "    <tr style=\"text-align: right;\">\n",
       "      <th></th>\n",
       "      <th>id</th>\n",
       "      <th>sigungu</th>\n",
       "      <th>jibun</th>\n",
       "      <th>apt_name</th>\n",
       "      <th>exclusive_use_area</th>\n",
       "      <th>transaction_year_month</th>\n",
       "      <th>transaction_day</th>\n",
       "      <th>floor</th>\n",
       "      <th>year_of_completion</th>\n",
       "    </tr>\n",
       "  </thead>\n",
       "  <tbody>\n",
       "    <tr>\n",
       "      <th>0</th>\n",
       "      <td>TEST_0000</td>\n",
       "      <td>서울특별시 강남구 대치동</td>\n",
       "      <td>977</td>\n",
       "      <td>대치르엘</td>\n",
       "      <td>77.97</td>\n",
       "      <td>111</td>\n",
       "      <td>10</td>\n",
       "      <td>2</td>\n",
       "      <td>42</td>\n",
       "    </tr>\n",
       "    <tr>\n",
       "      <th>1</th>\n",
       "      <td>TEST_0001</td>\n",
       "      <td>서울특별시 강남구 대치동</td>\n",
       "      <td>977</td>\n",
       "      <td>대치르엘</td>\n",
       "      <td>59.99</td>\n",
       "      <td>111</td>\n",
       "      <td>10</td>\n",
       "      <td>2</td>\n",
       "      <td>42</td>\n",
       "    </tr>\n",
       "  </tbody>\n",
       "</table>\n",
       "</div>"
      ],
      "text/plain": [
       "          id        sigungu jibun apt_name  exclusive_use_area  \\\n",
       "0  TEST_0000  서울특별시 강남구 대치동   977     대치르엘               77.97   \n",
       "1  TEST_0001  서울특별시 강남구 대치동   977     대치르엘               59.99   \n",
       "\n",
       "   transaction_year_month  transaction_day  floor  year_of_completion  \n",
       "0                     111               10      2                  42  \n",
       "1                     111               10      2                  42  "
      ]
     },
     "execution_count": 125,
     "metadata": {},
     "output_type": "execute_result"
    }
   ],
   "source": [
    "# 0,1번 인덱스의 apt_name이 입력되어 있지 않으므로 대치동 977지번 검색을 통하여 실제 아파트 이름을 입력해주었다.\n",
    "test.loc[[0,1], 'apt_name'] = '대치르엘'\n",
    "test.iloc[[0,1],:]"
   ]
  },
  {
   "cell_type": "markdown",
   "id": "7033d75d",
   "metadata": {},
   "source": [
    "## K-means clustering을 통한 아파트 이름 데이터 전처리"
   ]
  },
  {
   "cell_type": "code",
   "execution_count": 126,
   "id": "cbbe0c80",
   "metadata": {
    "ExecuteTime": {
     "end_time": "2023-07-30T11:34:01.185771Z",
     "start_time": "2023-07-30T11:34:01.169870Z"
    }
   },
   "outputs": [],
   "source": [
    "#분석을 위해 두 데이터를 합친다\n",
    "train['train_test'] = 'train'\n",
    "test['train_test'] = 'test'\n",
    "all_data = pd.concat([train, test])\n",
    "all_data  = all_data .reset_index(drop=True)"
   ]
  },
  {
   "cell_type": "code",
   "execution_count": 127,
   "id": "ff155a5f",
   "metadata": {
    "ExecuteTime": {
     "end_time": "2023-07-30T11:34:01.599658Z",
     "start_time": "2023-07-30T11:34:01.588422Z"
    },
    "scrolled": false
   },
   "outputs": [
    {
     "data": {
      "text/plain": [
       "은마                          1546\n",
       "대치삼성                         404\n",
       "래미안대치팰리스                     398\n",
       "대치아이파크                       382\n",
       "동부센트레빌                       363\n",
       "한보미도맨션2                      312\n",
       "한보미도맨션1                      309\n",
       "대치현대                         252\n",
       "개포우성1                        224\n",
       "선경1차(1동-7동)                  185\n",
       "테헤란로대우아이빌(891-6)             144\n",
       "개포우성2                        131\n",
       "래미안대치하이스턴                    112\n",
       "선경2차(8동-12동)                 112\n",
       "포스코더샵                        104\n",
       "쌍용대치아파트1동,2동,3동,5동,6동        102\n",
       "대치우성아파트1동,2동,3동,5동,6동,7동      93\n",
       "대우아이빌명문가(891-23)              82\n",
       "선릉역대우아이빌(890-49)              63\n",
       "롯데캐슬리베                        63\n",
       "쌍용대치2                         57\n",
       "대치동우정에쉐르1                     51\n",
       "대우아이빌멤버스(891-26)              51\n",
       "롯데캐슬                          50\n",
       "대치효성                          47\n",
       "현대1                           46\n",
       "세영팔레스타운                       30\n",
       "대치한신휴플러스                      30\n",
       "대치SKVIEW                      29\n",
       "국제                            27\n",
       "선경3차                          25\n",
       "선릉역풍림아이원레몬                    23\n",
       "아름빌(889-74)                   23\n",
       "하이캐슬                          22\n",
       "풍림아이원4차(1007-2)               19\n",
       "신성미소시티                        19\n",
       "삼환SOGOOD                      16\n",
       "동민맥스빌A동                       15\n",
       "현대썬앤빌테헤란                      14\n",
       "삼성3차                          13\n",
       "풍림아이원아파트                      12\n",
       "청원                            12\n",
       "하이캐슬102동                      11\n",
       "세연파크뷰                         10\n",
       "우정에쉐르                         10\n",
       "한양팰리스                          9\n",
       "풍림아이원2차202동                    9\n",
       "동민맥스빌B동                        9\n",
       "풍림아이원3차(1007-1)                8\n",
       "한티(933-35)                     8\n",
       "한티(933-0)                      8\n",
       "상지리츠빌카일룸(1009-4)               8\n",
       "동양                             7\n",
       "풍림아이원1차103동(910-5)             7\n",
       "스카이써밋아파트                       6\n",
       "풍림아이원2차201동                    6\n",
       "대치하나빌                          6\n",
       "풍림아이원1차101동(910-3)             6\n",
       "메트로                            6\n",
       "대치동우정에쉐르2(890-42)              6\n",
       "대치주성                           5\n",
       "삼성2차                           5\n",
       "대치타워                           4\n",
       "청암빌라트                          4\n",
       "미도맨션3차                         3\n",
       "화인하이빌                          3\n",
       "월드빌                            2\n",
       "노빌리티빌리지                        2\n",
       "대치르엘                           2\n",
       "Name: apt_name, dtype: int64"
      ]
     },
     "execution_count": 127,
     "metadata": {},
     "output_type": "execute_result"
    }
   ],
   "source": [
    "pd.set_option('display.max_rows', None)\n",
    "all_data['apt_name'].value_counts()[:69]"
   ]
  },
  {
   "cell_type": "code",
   "execution_count": 128,
   "id": "544955a3",
   "metadata": {
    "ExecuteTime": {
     "end_time": "2023-07-30T11:34:02.672331Z",
     "start_time": "2023-07-30T11:34:02.602207Z"
    },
    "scrolled": false
   },
   "outputs": [
    {
     "name": "stderr",
     "output_type": "stream",
     "text": [
      "100%|████████████████████████████████████| 6183/6183 [00:00<00:00, 73443.62it/s]\n"
     ]
    }
   ],
   "source": [
    "#괄호안 내용은 분석에 불필요하다고 판단하고 제거\n",
    "#괄호와 괄호안내용 제거\n",
    "regex = \"\\(.*\\)|\\s-\\s.*\"\n",
    "for i in tqdm(range(len(all_data))):\n",
    "    all_data.at[i, 'apt_name'] = re.sub(regex, '', all_data.at[i, 'apt_name'])\n"
   ]
  },
  {
   "cell_type": "code",
   "execution_count": 129,
   "id": "23808c77",
   "metadata": {
    "ExecuteTime": {
     "end_time": "2023-07-30T11:34:03.136128Z",
     "start_time": "2023-07-30T11:34:03.125888Z"
    },
    "scrolled": false
   },
   "outputs": [
    {
     "data": {
      "text/plain": [
       "은마                          1546\n",
       "대치삼성                         404\n",
       "래미안대치팰리스                     398\n",
       "대치아이파크                       382\n",
       "동부센트레빌                       363\n",
       "한보미도맨션2                      312\n",
       "한보미도맨션1                      309\n",
       "대치현대                         252\n",
       "개포우성1                        224\n",
       "선경1차                         185\n",
       "테헤란로대우아이빌                    144\n",
       "개포우성2                        131\n",
       "선경2차                         112\n",
       "래미안대치하이스턴                    112\n",
       "포스코더샵                        104\n",
       "쌍용대치아파트1동,2동,3동,5동,6동        102\n",
       "대치우성아파트1동,2동,3동,5동,6동,7동      93\n",
       "대우아이빌명문가                      82\n",
       "선릉역대우아이빌                      63\n",
       "롯데캐슬리베                        63\n",
       "쌍용대치2                         57\n",
       "대우아이빌멤버스                      51\n",
       "대치동우정에쉐르1                     51\n",
       "롯데캐슬                          50\n",
       "대치효성                          47\n",
       "현대1                           46\n",
       "세영팔레스타운                       30\n",
       "대치한신휴플러스                      30\n",
       "대치SKVIEW                      29\n",
       "국제                            27\n",
       "선경3차                          25\n",
       "아름빌                           23\n",
       "선릉역풍림아이원레몬                    23\n",
       "하이캐슬                          22\n",
       "풍림아이원4차                       19\n",
       "신성미소시티                        19\n",
       "한티                            16\n",
       "삼환SOGOOD                      16\n",
       "동민맥스빌A동                       15\n",
       "현대썬앤빌테헤란                      14\n",
       "삼성3차                          13\n",
       "청원                            12\n",
       "풍림아이원아파트                      12\n",
       "하이캐슬102동                      11\n",
       "우정에쉐르                         10\n",
       "세연파크뷰                         10\n",
       "동민맥스빌B동                        9\n",
       "풍림아이원2차202동                    9\n",
       "한양팰리스                          9\n",
       "풍림아이원3차                        8\n",
       "상지리츠빌카일룸                       8\n",
       "동양                             7\n",
       "풍림아이원1차103동                    7\n",
       "메트로                            6\n",
       "풍림아이원2차201동                    6\n",
       "대치하나빌                          6\n",
       "대치동우정에쉐르2                      6\n",
       "스카이써밋아파트                       6\n",
       "풍림아이원1차101동                    6\n",
       "대치주성                           5\n",
       "삼성2차                           5\n",
       "대치타워                           4\n",
       "청암빌라트                          4\n",
       "미도맨션3차                         3\n",
       "화인하이빌                          3\n",
       "월드빌                            2\n",
       "노빌리티빌리지                        2\n",
       "대치르엘                           2\n",
       "해암프리존                          1\n",
       "Name: apt_name, dtype: int64"
      ]
     },
     "execution_count": 129,
     "metadata": {},
     "output_type": "execute_result"
    }
   ],
   "source": [
    "all_data['apt_name'].value_counts().sort_values(ascending = False)"
   ]
  },
  {
   "cell_type": "code",
   "execution_count": 130,
   "id": "6dd49806",
   "metadata": {
    "ExecuteTime": {
     "end_time": "2023-07-30T11:34:03.809525Z",
     "start_time": "2023-07-30T11:34:03.758022Z"
    },
    "scrolled": true
   },
   "outputs": [
    {
     "name": "stderr",
     "output_type": "stream",
     "text": [
      "Exception ignored on calling ctypes callback function: <function _ThreadpoolInfo._find_modules_with_dl_iterate_phdr.<locals>.match_module_callback at 0x7f736d7501f0>\n",
      "Traceback (most recent call last):\n",
      "  File \"/home/t2user2/.conda/envs/pybook/lib/python3.10/site-packages/threadpoolctl.py\", line 400, in match_module_callback\n",
      "    self._make_module_from_path(filepath)\n",
      "  File \"/home/t2user2/.conda/envs/pybook/lib/python3.10/site-packages/threadpoolctl.py\", line 515, in _make_module_from_path\n",
      "    module = module_class(filepath, prefix, user_api, internal_api)\n",
      "  File \"/home/t2user2/.conda/envs/pybook/lib/python3.10/site-packages/threadpoolctl.py\", line 606, in __init__\n",
      "    self.version = self.get_version()\n",
      "  File \"/home/t2user2/.conda/envs/pybook/lib/python3.10/site-packages/threadpoolctl.py\", line 646, in get_version\n",
      "    config = get_config().split()\n",
      "AttributeError: 'NoneType' object has no attribute 'split'\n",
      "Exception ignored on calling ctypes callback function: <function _ThreadpoolInfo._find_modules_with_dl_iterate_phdr.<locals>.match_module_callback at 0x7f736d7501f0>\n",
      "Traceback (most recent call last):\n",
      "  File \"/home/t2user2/.conda/envs/pybook/lib/python3.10/site-packages/threadpoolctl.py\", line 400, in match_module_callback\n",
      "    self._make_module_from_path(filepath)\n",
      "  File \"/home/t2user2/.conda/envs/pybook/lib/python3.10/site-packages/threadpoolctl.py\", line 515, in _make_module_from_path\n",
      "    module = module_class(filepath, prefix, user_api, internal_api)\n",
      "  File \"/home/t2user2/.conda/envs/pybook/lib/python3.10/site-packages/threadpoolctl.py\", line 606, in __init__\n",
      "    self.version = self.get_version()\n",
      "  File \"/home/t2user2/.conda/envs/pybook/lib/python3.10/site-packages/threadpoolctl.py\", line 646, in get_version\n",
      "    config = get_config().split()\n",
      "AttributeError: 'NoneType' object has no attribute 'split'\n",
      "Exception ignored on calling ctypes callback function: <function _ThreadpoolInfo._find_modules_with_dl_iterate_phdr.<locals>.match_module_callback at 0x7f736d7501f0>\n",
      "Traceback (most recent call last):\n",
      "  File \"/home/t2user2/.conda/envs/pybook/lib/python3.10/site-packages/threadpoolctl.py\", line 400, in match_module_callback\n",
      "    self._make_module_from_path(filepath)\n",
      "  File \"/home/t2user2/.conda/envs/pybook/lib/python3.10/site-packages/threadpoolctl.py\", line 515, in _make_module_from_path\n",
      "    module = module_class(filepath, prefix, user_api, internal_api)\n",
      "  File \"/home/t2user2/.conda/envs/pybook/lib/python3.10/site-packages/threadpoolctl.py\", line 606, in __init__\n",
      "    self.version = self.get_version()\n",
      "  File \"/home/t2user2/.conda/envs/pybook/lib/python3.10/site-packages/threadpoolctl.py\", line 646, in get_version\n",
      "    config = get_config().split()\n",
      "AttributeError: 'NoneType' object has no attribute 'split'\n",
      "Exception ignored on calling ctypes callback function: <function _ThreadpoolInfo._find_modules_with_dl_iterate_phdr.<locals>.match_module_callback at 0x7f736d7501f0>\n",
      "Traceback (most recent call last):\n",
      "  File \"/home/t2user2/.conda/envs/pybook/lib/python3.10/site-packages/threadpoolctl.py\", line 400, in match_module_callback\n",
      "    self._make_module_from_path(filepath)\n",
      "  File \"/home/t2user2/.conda/envs/pybook/lib/python3.10/site-packages/threadpoolctl.py\", line 515, in _make_module_from_path\n",
      "    module = module_class(filepath, prefix, user_api, internal_api)\n",
      "  File \"/home/t2user2/.conda/envs/pybook/lib/python3.10/site-packages/threadpoolctl.py\", line 606, in __init__\n",
      "    self.version = self.get_version()\n",
      "  File \"/home/t2user2/.conda/envs/pybook/lib/python3.10/site-packages/threadpoolctl.py\", line 646, in get_version\n",
      "    config = get_config().split()\n",
      "AttributeError: 'NoneType' object has no attribute 'split'\n",
      "Exception ignored on calling ctypes callback function: <function _ThreadpoolInfo._find_modules_with_dl_iterate_phdr.<locals>.match_module_callback at 0x7f736d7501f0>\n",
      "Traceback (most recent call last):\n",
      "  File \"/home/t2user2/.conda/envs/pybook/lib/python3.10/site-packages/threadpoolctl.py\", line 400, in match_module_callback\n",
      "    self._make_module_from_path(filepath)\n",
      "  File \"/home/t2user2/.conda/envs/pybook/lib/python3.10/site-packages/threadpoolctl.py\", line 515, in _make_module_from_path\n",
      "    module = module_class(filepath, prefix, user_api, internal_api)\n",
      "  File \"/home/t2user2/.conda/envs/pybook/lib/python3.10/site-packages/threadpoolctl.py\", line 606, in __init__\n",
      "    self.version = self.get_version()\n",
      "  File \"/home/t2user2/.conda/envs/pybook/lib/python3.10/site-packages/threadpoolctl.py\", line 646, in get_version\n",
      "    config = get_config().split()\n",
      "AttributeError: 'NoneType' object has no attribute 'split'\n",
      "Exception ignored on calling ctypes callback function: <function _ThreadpoolInfo._find_modules_with_dl_iterate_phdr.<locals>.match_module_callback at 0x7f736d7501f0>\n",
      "Traceback (most recent call last):\n",
      "  File \"/home/t2user2/.conda/envs/pybook/lib/python3.10/site-packages/threadpoolctl.py\", line 400, in match_module_callback\n",
      "    self._make_module_from_path(filepath)\n",
      "  File \"/home/t2user2/.conda/envs/pybook/lib/python3.10/site-packages/threadpoolctl.py\", line 515, in _make_module_from_path\n",
      "    module = module_class(filepath, prefix, user_api, internal_api)\n",
      "  File \"/home/t2user2/.conda/envs/pybook/lib/python3.10/site-packages/threadpoolctl.py\", line 606, in __init__\n",
      "    self.version = self.get_version()\n",
      "  File \"/home/t2user2/.conda/envs/pybook/lib/python3.10/site-packages/threadpoolctl.py\", line 646, in get_version\n",
      "    config = get_config().split()\n",
      "AttributeError: 'NoneType' object has no attribute 'split'\n",
      "Exception ignored on calling ctypes callback function: <function _ThreadpoolInfo._find_modules_with_dl_iterate_phdr.<locals>.match_module_callback at 0x7f736d7501f0>\n",
      "Traceback (most recent call last):\n",
      "  File \"/home/t2user2/.conda/envs/pybook/lib/python3.10/site-packages/threadpoolctl.py\", line 400, in match_module_callback\n",
      "    self._make_module_from_path(filepath)\n",
      "  File \"/home/t2user2/.conda/envs/pybook/lib/python3.10/site-packages/threadpoolctl.py\", line 515, in _make_module_from_path\n",
      "    module = module_class(filepath, prefix, user_api, internal_api)\n",
      "  File \"/home/t2user2/.conda/envs/pybook/lib/python3.10/site-packages/threadpoolctl.py\", line 606, in __init__\n",
      "    self.version = self.get_version()\n",
      "  File \"/home/t2user2/.conda/envs/pybook/lib/python3.10/site-packages/threadpoolctl.py\", line 646, in get_version\n",
      "    config = get_config().split()\n",
      "AttributeError: 'NoneType' object has no attribute 'split'\n",
      "Exception ignored on calling ctypes callback function: <function _ThreadpoolInfo._find_modules_with_dl_iterate_phdr.<locals>.match_module_callback at 0x7f736d7501f0>\n",
      "Traceback (most recent call last):\n",
      "  File \"/home/t2user2/.conda/envs/pybook/lib/python3.10/site-packages/threadpoolctl.py\", line 400, in match_module_callback\n",
      "    self._make_module_from_path(filepath)\n",
      "  File \"/home/t2user2/.conda/envs/pybook/lib/python3.10/site-packages/threadpoolctl.py\", line 515, in _make_module_from_path\n",
      "    module = module_class(filepath, prefix, user_api, internal_api)\n",
      "  File \"/home/t2user2/.conda/envs/pybook/lib/python3.10/site-packages/threadpoolctl.py\", line 606, in __init__\n",
      "    self.version = self.get_version()\n",
      "  File \"/home/t2user2/.conda/envs/pybook/lib/python3.10/site-packages/threadpoolctl.py\", line 646, in get_version\n",
      "    config = get_config().split()\n",
      "AttributeError: 'NoneType' object has no attribute 'split'\n",
      "Exception ignored on calling ctypes callback function: <function _ThreadpoolInfo._find_modules_with_dl_iterate_phdr.<locals>.match_module_callback at 0x7f736d7501f0>\n",
      "Traceback (most recent call last):\n",
      "  File \"/home/t2user2/.conda/envs/pybook/lib/python3.10/site-packages/threadpoolctl.py\", line 400, in match_module_callback\n",
      "    self._make_module_from_path(filepath)\n",
      "  File \"/home/t2user2/.conda/envs/pybook/lib/python3.10/site-packages/threadpoolctl.py\", line 515, in _make_module_from_path\n",
      "    module = module_class(filepath, prefix, user_api, internal_api)\n",
      "  File \"/home/t2user2/.conda/envs/pybook/lib/python3.10/site-packages/threadpoolctl.py\", line 606, in __init__\n",
      "    self.version = self.get_version()\n",
      "  File \"/home/t2user2/.conda/envs/pybook/lib/python3.10/site-packages/threadpoolctl.py\", line 646, in get_version\n",
      "    config = get_config().split()\n",
      "AttributeError: 'NoneType' object has no attribute 'split'\n"
     ]
    },
    {
     "name": "stderr",
     "output_type": "stream",
     "text": [
      "Exception ignored on calling ctypes callback function: <function _ThreadpoolInfo._find_modules_with_dl_iterate_phdr.<locals>.match_module_callback at 0x7f736d7501f0>\n",
      "Traceback (most recent call last):\n",
      "  File \"/home/t2user2/.conda/envs/pybook/lib/python3.10/site-packages/threadpoolctl.py\", line 400, in match_module_callback\n",
      "    self._make_module_from_path(filepath)\n",
      "  File \"/home/t2user2/.conda/envs/pybook/lib/python3.10/site-packages/threadpoolctl.py\", line 515, in _make_module_from_path\n",
      "    module = module_class(filepath, prefix, user_api, internal_api)\n",
      "  File \"/home/t2user2/.conda/envs/pybook/lib/python3.10/site-packages/threadpoolctl.py\", line 606, in __init__\n",
      "    self.version = self.get_version()\n",
      "  File \"/home/t2user2/.conda/envs/pybook/lib/python3.10/site-packages/threadpoolctl.py\", line 646, in get_version\n",
      "    config = get_config().split()\n",
      "AttributeError: 'NoneType' object has no attribute 'split'\n",
      "Exception ignored on calling ctypes callback function: <function _ThreadpoolInfo._find_modules_with_dl_iterate_phdr.<locals>.match_module_callback at 0x7f736d7501f0>\n",
      "Traceback (most recent call last):\n",
      "  File \"/home/t2user2/.conda/envs/pybook/lib/python3.10/site-packages/threadpoolctl.py\", line 400, in match_module_callback\n",
      "    self._make_module_from_path(filepath)\n",
      "  File \"/home/t2user2/.conda/envs/pybook/lib/python3.10/site-packages/threadpoolctl.py\", line 515, in _make_module_from_path\n",
      "    module = module_class(filepath, prefix, user_api, internal_api)\n",
      "  File \"/home/t2user2/.conda/envs/pybook/lib/python3.10/site-packages/threadpoolctl.py\", line 606, in __init__\n",
      "    self.version = self.get_version()\n",
      "  File \"/home/t2user2/.conda/envs/pybook/lib/python3.10/site-packages/threadpoolctl.py\", line 646, in get_version\n",
      "    config = get_config().split()\n",
      "AttributeError: 'NoneType' object has no attribute 'split'\n"
     ]
    },
    {
     "data": {
      "text/plain": [
       "2.0    2938\n",
       "3.0    2067\n",
       "1.0     700\n",
       "0.0     470\n",
       "4.0       8\n",
       "Name: cluster, dtype: int64"
      ]
     },
     "execution_count": 130,
     "metadata": {},
     "output_type": "execute_result"
    }
   ],
   "source": [
    "from sklearn.cluster import KMeans\n",
    "import numpy as np\n",
    "\n",
    "# 아파트 별로 가격 평균값 구하기\n",
    "train = all_data[all_data['train_test'] == 'train']\n",
    "data = train[['apt_name', 'transaction_real_price']]\n",
    "\n",
    "data = data.groupby('apt_name').mean()\n",
    "arr = data['transaction_real_price'].to_numpy().reshape(-1, 1)\n",
    "\n",
    "# 가격을 기준으로 아파트 군집화\n",
    "k = 5  \n",
    "kmeans = KMeans(n_clusters=k, n_init=10)\n",
    "kmeans.fit(arr)\n",
    "\n",
    "# 가격을 기준으로 군집의 순서를 정렬하기 위해 인덱스를 추출\n",
    "sort_order = np.argsort(kmeans.cluster_centers_.flatten())\n",
    "\n",
    "# 군집화 결과를 가격 순서대로 재할당\n",
    "labels = np.zeros_like(kmeans.labels_)\n",
    "for i, cluster in enumerate(sort_order):\n",
    "    labels[kmeans.labels_ == cluster] = i\n",
    "\n",
    "# 군집화 결과와 가격을 데이터에 추가\n",
    "data['cluster'] = labels\n",
    "data = data.reset_index()\n",
    "data = data[['apt_name', 'cluster']]\n",
    "\n",
    "all_data = pd.merge(all_data, data, how='left', left_on='apt_name', right_on='apt_name')\n",
    "\n",
    "cluster_mode = all_data.loc[all_data['train_test'] == 'train', 'cluster'].mode()[0]\n",
    "all_data['cluster'] = all_data['cluster'].fillna(cluster_mode)\n",
    "\n",
    "all_data['cluster'].value_counts()"
   ]
  },
  {
   "cell_type": "markdown",
   "id": "fad1a54f",
   "metadata": {},
   "source": [
    "## 층수 전처리"
   ]
  },
  {
   "cell_type": "markdown",
   "id": "f8d2bca8",
   "metadata": {},
   "source": [
    "3층 이하면 0, 이상이면 1로 처리"
   ]
  },
  {
   "cell_type": "code",
   "execution_count": 131,
   "id": "1fcb338a",
   "metadata": {
    "ExecuteTime": {
     "end_time": "2023-07-30T11:34:08.006251Z",
     "start_time": "2023-07-30T11:34:07.988304Z"
    }
   },
   "outputs": [
    {
     "data": {
      "text/plain": [
       "1    5077\n",
       "0    1106\n",
       "Name: low_floor, dtype: int64"
      ]
     },
     "execution_count": 131,
     "metadata": {},
     "output_type": "execute_result"
    }
   ],
   "source": [
    "all_data['low_floor'] = all_data['floor'].apply(lambda x: 0 if x <= 3 else 1)\n",
    "all_data['low_floor'].value_counts()"
   ]
  },
  {
   "cell_type": "markdown",
   "id": "4a940037",
   "metadata": {},
   "source": [
    "다시 데이터를 분리시킨다"
   ]
  },
  {
   "cell_type": "code",
   "execution_count": 132,
   "id": "4df6a417",
   "metadata": {
    "ExecuteTime": {
     "end_time": "2023-07-30T11:34:09.152444Z",
     "start_time": "2023-07-30T11:34:09.139342Z"
    }
   },
   "outputs": [],
   "source": [
    "train = all_data[all_data['train_test'] == 'train']\n",
    "test = all_data[all_data['train_test'] == 'test']\n",
    "\n",
    "train.drop(['train_test','transaction_day'], axis = 1, inplace = True )\n",
    "test.drop(['train_test','transaction_day'], axis = 1, inplace = True )"
   ]
  },
  {
   "cell_type": "markdown",
   "id": "e89783a9",
   "metadata": {
    "heading_collapsed": true
   },
   "source": [
    "## 거래가격 확인 및 로그변환"
   ]
  },
  {
   "cell_type": "code",
   "execution_count": 133,
   "id": "f83c6200",
   "metadata": {
    "ExecuteTime": {
     "start_time": "2023-07-30T11:31:04.917Z"
    },
    "hidden": true,
    "scrolled": true
   },
   "outputs": [
    {
     "data": {
      "text/plain": [
       "<Axes: ylabel='transaction_real_price'>"
      ]
     },
     "execution_count": 133,
     "metadata": {},
     "output_type": "execute_result"
    },
    {
     "data": {
      "image/png": "[encoded data removed]",
      "text/plain": [
       "<Figure size 640x480 with 1 Axes>"
      ]
     },
     "metadata": {},
     "output_type": "display_data"
    }
   ],
   "source": [
    "sns.boxplot(y='transaction_real_price', data = train)"
   ]
  },
  {
   "cell_type": "code",
   "execution_count": 113,
   "id": "d75b1609",
   "metadata": {
    "ExecuteTime": {
     "start_time": "2023-07-30T11:31:04.918Z"
    },
    "hidden": true,
    "scrolled": false
   },
   "outputs": [
    {
     "data": {
      "image/png": "[encoded data removed]",
      "text/plain": [
       "<Figure size 500x500 with 1 Axes>"
      ]
     },
     "metadata": {},
     "output_type": "display_data"
    }
   ],
   "source": [
    "sns.set(style = 'white')\n",
    "sns.displot(train['transaction_real_price'], bins=30)\n",
    "plt.xlabel('Price(10000 won)')\n",
    "plt.title('Distribution of Price')\n",
    "plt.show()\n"
   ]
  },
  {
   "cell_type": "markdown",
   "id": "31ed1f3c",
   "metadata": {},
   "source": [
    "## 면적(m^2) 확인 및 로그변환"
   ]
  },
  {
   "cell_type": "code",
   "execution_count": 134,
   "id": "71ae000d",
   "metadata": {
    "ExecuteTime": {
     "end_time": "2023-07-30T11:34:12.006319Z",
     "start_time": "2023-07-30T11:34:11.823879Z"
    },
    "scrolled": true
   },
   "outputs": [
    {
     "data": {
      "text/plain": [
       "<Figure size 640x480 with 0 Axes>"
      ]
     },
     "metadata": {},
     "output_type": "display_data"
    },
    {
     "data": {
      "image/png": "[encoded data removed]",
      "text/plain": [
       "<Figure size 500x500 with 1 Axes>"
      ]
     },
     "metadata": {},
     "output_type": "display_data"
    }
   ],
   "source": [
    "plt.figure()\n",
    "sns.displot(train['exclusive_use_area'], bins=30)\n",
    "plt.xlabel('Area(Square meter)')\n",
    "plt.title('Distribution of Area')\n",
    "plt.show()"
   ]
  },
  {
   "cell_type": "markdown",
   "id": "306eb74d",
   "metadata": {},
   "source": [
    "이상치 때문에 확실히 로그변환을 수행해야 한다."
   ]
  },
  {
   "cell_type": "code",
   "execution_count": 135,
   "id": "e955a5e8",
   "metadata": {
    "ExecuteTime": {
     "end_time": "2023-07-30T11:34:12.625565Z",
     "start_time": "2023-07-30T11:34:12.601416Z"
    }
   },
   "outputs": [
    {
     "data": {
      "text/html": [
       "<div>\n",
       "<style scoped>\n",
       "    .dataframe tbody tr th:only-of-type {\n",
       "        vertical-align: middle;\n",
       "    }\n",
       "\n",
       "    .dataframe tbody tr th {\n",
       "        vertical-align: top;\n",
       "    }\n",
       "\n",
       "    .dataframe thead th {\n",
       "        text-align: right;\n",
       "    }\n",
       "</style>\n",
       "<table border=\"1\" class=\"dataframe\">\n",
       "  <thead>\n",
       "    <tr style=\"text-align: right;\">\n",
       "      <th></th>\n",
       "      <th>id</th>\n",
       "      <th>sigungu</th>\n",
       "      <th>jibun</th>\n",
       "      <th>apt_name</th>\n",
       "      <th>transaction_year_month</th>\n",
       "      <th>transaction_real_price</th>\n",
       "      <th>floor</th>\n",
       "      <th>year_of_completion</th>\n",
       "      <th>cluster</th>\n",
       "      <th>low_floor</th>\n",
       "      <th>log_area</th>\n",
       "    </tr>\n",
       "  </thead>\n",
       "  <tbody>\n",
       "    <tr>\n",
       "      <th>0</th>\n",
       "      <td>TRAIN_0000</td>\n",
       "      <td>서울특별시 강남구 대치동</td>\n",
       "      <td>503</td>\n",
       "      <td>개포우성1</td>\n",
       "      <td>0</td>\n",
       "      <td>174000.0</td>\n",
       "      <td>13</td>\n",
       "      <td>4</td>\n",
       "      <td>3.0</td>\n",
       "      <td>1</td>\n",
       "      <td>5.072295</td>\n",
       "    </tr>\n",
       "  </tbody>\n",
       "</table>\n",
       "</div>"
      ],
      "text/plain": [
       "           id        sigungu jibun apt_name  transaction_year_month  \\\n",
       "0  TRAIN_0000  서울특별시 강남구 대치동   503    개포우성1                       0   \n",
       "\n",
       "   transaction_real_price  floor  year_of_completion  cluster  low_floor  \\\n",
       "0                174000.0     13                   4      3.0          1   \n",
       "\n",
       "   log_area  \n",
       "0  5.072295  "
      ]
     },
     "execution_count": 135,
     "metadata": {},
     "output_type": "execute_result"
    }
   ],
   "source": [
    "train['log_area'] = np.log1p(train['exclusive_use_area'])\n",
    "test['log_area'] = np.log1p(test['exclusive_use_area'])\n",
    "\n",
    "area = train['exclusive_use_area'] # 원래 면적\n",
    "\n",
    "train.drop('exclusive_use_area', axis=1, inplace=True)\n",
    "test.drop('exclusive_use_area', axis=1, inplace=True)\n",
    "train.head(1)"
   ]
  },
  {
   "cell_type": "code",
   "execution_count": 136,
   "id": "8f0e6760",
   "metadata": {
    "ExecuteTime": {
     "end_time": "2023-07-30T11:34:13.283603Z",
     "start_time": "2023-07-30T11:34:13.120449Z"
    },
    "scrolled": false
   },
   "outputs": [
    {
     "data": {
      "text/plain": [
       "<Figure size 640x480 with 0 Axes>"
      ]
     },
     "metadata": {},
     "output_type": "display_data"
    },
    {
     "data": {
      "image/png": "[encoded data removed]",
      "text/plain": [
       "<Figure size 500x500 with 1 Axes>"
      ]
     },
     "metadata": {},
     "output_type": "display_data"
    }
   ],
   "source": [
    "plt.figure()\n",
    "sns.displot(train['log_area'], bins=30)\n",
    "plt.xlabel('Area(Square meter)')\n",
    "plt.title('Distribution of Area')\n",
    "plt.show()"
   ]
  },
  {
   "cell_type": "markdown",
   "id": "30bef96d",
   "metadata": {},
   "source": [
    "로그변환은 큰 소용이 없었다. "
   ]
  },
  {
   "cell_type": "markdown",
   "id": "28469ec9",
   "metadata": {},
   "source": [
    "# 직접 모델 비교\n",
    "\n",
    "모델 목록\n",
    "- Linear Regression\n",
    "- Ridge Regression\n",
    "- Lasso Regression\n",
    "- Elasticnet Regression\n",
    "- Decision Tree\n",
    "- RandomForest Regressor\n",
    "- XGBoost Regressor\n",
    "- LightGBM Regressor\n"
   ]
  },
  {
   "cell_type": "code",
   "execution_count": 138,
   "id": "e8027e83",
   "metadata": {
    "ExecuteTime": {
     "end_time": "2023-07-30T11:39:18.934884Z",
     "start_time": "2023-07-30T11:39:18.910379Z"
    }
   },
   "outputs": [],
   "source": [
    "#사용할 변수만 선택\n",
    "train_df = train[['cluster', 'log_area','low_floor','year_of_completion',\n",
    "                      'transaction_real_price','transaction_year_month']]\n",
    "test_df = test[['cluster', 'log_area','low_floor','year_of_completion',\n",
    "                      'transaction_year_month']] "
   ]
  },
  {
   "cell_type": "code",
   "execution_count": 145,
   "id": "7d59d53c",
   "metadata": {
    "ExecuteTime": {
     "end_time": "2023-07-30T11:34:51.921890Z",
     "start_time": "2023-07-30T11:34:51.912970Z"
    }
   },
   "outputs": [
    {
     "name": "stdout",
     "output_type": "stream",
     "text": [
      "(5987, 5) (5987,)\n"
     ]
    }
   ],
   "source": [
    "train_X, train_y = train_df.drop('transaction_real_price', axis=1), train_df['transaction_real_price']\n",
    "print(train_X.shape, train_y.shape)"
   ]
  },
  {
   "cell_type": "code",
   "execution_count": 147,
   "id": "2575ba32",
   "metadata": {
    "ExecuteTime": {
     "end_time": "2023-07-30T11:39:10.954694Z",
     "start_time": "2023-07-30T11:39:09.992042Z"
    }
   },
   "outputs": [],
   "source": [
    "from sklearn.metrics import mean_absolute_error\n",
    "\n",
    "def MAE(y, y_pred):\n",
    "    mae = mean_absolute_error(y, y_pred)\n",
    "    return mae\n",
    "\n",
    "\n",
    "def mae_cv(model):\n",
    "    # cv별로 학습하는 함수\n",
    "    tscv = TimeSeriesSplit(n_splits=10)\n",
    "    mae_list = []\n",
    "    model_name = model.__class__.__name__\n",
    "    for _, (train_index, test_index) in tqdm(enumerate(tscv.split(train_X), start=1), desc=f'{model_name} Cross Validations...', total=10):\n",
    "        X_train, X_test = train_X.iloc[train_index], train_X.iloc[test_index]\n",
    "        y_train, y_test = train_y.iloc[train_index], train_y.iloc[test_index]\n",
    "        clf = model.fit(X_train, y_train)\n",
    "        pred = clf.predict(X_test)\n",
    "        mae = MAE(y_test, pred) \n",
    "        mae_list.append(mae)\n",
    "    return model_name, mae_list\n",
    "\n",
    "def print_mae_score(model):\n",
    "    # cv별 프린팅, 평균 저장\n",
    "    model_name, score = mae_cv(model)\n",
    "    for i, r in enumerate(score, start=1):\n",
    "        print(f'{i} FOLDS: {model_name} MAE: {r:.4f}')\n",
    "    print(f'\\n{model_name} mean MAE: {np.mean(score):.4f}')\n",
    "    print('='*40)\n",
    "    return model_name, np.mean(score)"
   ]
  },
  {
   "cell_type": "code",
   "execution_count": 148,
   "id": "0681849b",
   "metadata": {
    "ExecuteTime": {
     "end_time": "2023-07-30T11:39:12.625801Z",
     "start_time": "2023-07-30T11:39:12.597547Z"
    }
   },
   "outputs": [],
   "source": [
    "reg = LinearRegression(n_jobs=-1)\n",
    "ridge = Ridge(alpha=0.8, random_state=1)\n",
    "lasso = Lasso(alpha = 0.01, random_state=1)\n",
    "Enet = ElasticNet(alpha=0.03, l1_ratio=0.01, random_state=1)\n",
    "DTree = DecisionTreeRegressor(max_depth=6, min_samples_split=10, min_samples_leaf=15, random_state=1)\n",
    "rf = RandomForestRegressor(n_estimators=1, criterion='mae', max_depth=9, min_samples_split=50, \n",
    "                           min_samples_leaf=5, random_state=1, n_jobs=-1)\n",
    "model_xgb = xgb.XGBRegressor(n_estimators=500, max_depth=9, min_child_weight=5, gamma=0.1, n_jobs=-1)\n",
    "model_lgb = lgb.LGBMRegressor(n_estimators=500, max_depth=9, min_child_weight=5, n_jobs=-1)"
   ]
  },
  {
   "cell_type": "markdown",
   "id": "6370a6fa",
   "metadata": {},
   "source": [
    "### 모델링"
   ]
  },
  {
   "cell_type": "code",
   "execution_count": 149,
   "id": "c49300fd",
   "metadata": {
    "ExecuteTime": {
     "start_time": "2023-07-30T11:37:44.763Z"
    }
   },
   "outputs": [
    {
     "name": "stderr",
     "output_type": "stream",
     "text": [
      "LinearRegression Cross Validations...: 100%|███| 10/10 [00:00<00:00, 281.22it/s]\n"
     ]
    },
    {
     "name": "stdout",
     "output_type": "stream",
     "text": [
      "1 FOLDS: LinearRegression MAE: 13582.2703\n",
      "2 FOLDS: LinearRegression MAE: 12061.4755\n",
      "3 FOLDS: LinearRegression MAE: 15799.3044\n",
      "4 FOLDS: LinearRegression MAE: 12844.4428\n",
      "5 FOLDS: LinearRegression MAE: 20210.7306\n",
      "6 FOLDS: LinearRegression MAE: 13245.9680\n",
      "7 FOLDS: LinearRegression MAE: 30323.6690\n",
      "8 FOLDS: LinearRegression MAE: 36314.2247\n",
      "9 FOLDS: LinearRegression MAE: 24704.9337\n",
      "10 FOLDS: LinearRegression MAE: 38426.0550\n",
      "\n",
      "LinearRegression mean MAE: 21751.3074\n",
      "========================================\n"
     ]
    },
    {
     "name": "stderr",
     "output_type": "stream",
     "text": [
      "Ridge Cross Validations...: 100%|██████████████| 10/10 [00:00<00:00, 553.24it/s]\n"
     ]
    },
    {
     "name": "stdout",
     "output_type": "stream",
     "text": [
      "1 FOLDS: Ridge MAE: 13653.2850\n",
      "2 FOLDS: Ridge MAE: 12039.6323\n",
      "3 FOLDS: Ridge MAE: 15836.0312\n",
      "4 FOLDS: Ridge MAE: 12831.1122\n",
      "5 FOLDS: Ridge MAE: 20224.8021\n",
      "6 FOLDS: Ridge MAE: 13235.6891\n",
      "7 FOLDS: Ridge MAE: 30318.3343\n",
      "8 FOLDS: Ridge MAE: 36323.3834\n",
      "9 FOLDS: Ridge MAE: 24715.2158\n",
      "10 FOLDS: Ridge MAE: 38442.5885\n",
      "\n",
      "Ridge mean MAE: 21762.0074\n",
      "========================================\n"
     ]
    },
    {
     "name": "stderr",
     "output_type": "stream",
     "text": [
      "Lasso Cross Validations...: 100%|██████████████| 10/10 [00:00<00:00, 629.52it/s]\n"
     ]
    },
    {
     "name": "stdout",
     "output_type": "stream",
     "text": [
      "1 FOLDS: Lasso MAE: 13582.2720\n",
      "2 FOLDS: Lasso MAE: 12061.4670\n",
      "3 FOLDS: Lasso MAE: 15799.3175\n",
      "4 FOLDS: Lasso MAE: 12844.4372\n",
      "5 FOLDS: Lasso MAE: 20210.7388\n",
      "6 FOLDS: Lasso MAE: 13245.9584\n",
      "7 FOLDS: Lasso MAE: 30323.6654\n",
      "8 FOLDS: Lasso MAE: 36314.2302\n",
      "9 FOLDS: Lasso MAE: 24704.9406\n",
      "10 FOLDS: Lasso MAE: 38426.0641\n",
      "\n",
      "Lasso mean MAE: 21751.3091\n",
      "========================================\n"
     ]
    },
    {
     "name": "stderr",
     "output_type": "stream",
     "text": [
      "ElasticNet Cross Validations...: 100%|█████████| 10/10 [00:00<00:00, 702.47it/s]\n"
     ]
    },
    {
     "name": "stdout",
     "output_type": "stream",
     "text": [
      "1 FOLDS: ElasticNet MAE: 14821.4788\n",
      "2 FOLDS: ElasticNet MAE: 11792.6520\n",
      "3 FOLDS: ElasticNet MAE: 17454.2308\n",
      "4 FOLDS: ElasticNet MAE: 12161.0681\n",
      "5 FOLDS: ElasticNet MAE: 21732.1513\n",
      "6 FOLDS: ElasticNet MAE: 12529.6407\n",
      "7 FOLDS: ElasticNet MAE: 30336.6731\n",
      "8 FOLDS: ElasticNet MAE: 37795.6771\n",
      "9 FOLDS: ElasticNet MAE: 26449.6063\n",
      "10 FOLDS: ElasticNet MAE: 41225.4589\n",
      "\n",
      "ElasticNet mean MAE: 22629.8637\n",
      "========================================\n"
     ]
    },
    {
     "name": "stderr",
     "output_type": "stream",
     "text": [
      "DecisionTreeRegressor Cross Validations...: 100%|█| 10/10 [00:00<00:00, 487.51it\n"
     ]
    },
    {
     "name": "stdout",
     "output_type": "stream",
     "text": [
      "1 FOLDS: DecisionTreeRegressor MAE: 12190.5564\n",
      "2 FOLDS: DecisionTreeRegressor MAE: 10077.6901\n",
      "3 FOLDS: DecisionTreeRegressor MAE: 19198.2408\n",
      "4 FOLDS: DecisionTreeRegressor MAE: 14059.6185\n",
      "5 FOLDS: DecisionTreeRegressor MAE: 20459.0184\n",
      "6 FOLDS: DecisionTreeRegressor MAE: 14504.7832\n",
      "7 FOLDS: DecisionTreeRegressor MAE: 28073.3467\n",
      "8 FOLDS: DecisionTreeRegressor MAE: 30613.1371\n",
      "9 FOLDS: DecisionTreeRegressor MAE: 23661.5901\n",
      "10 FOLDS: DecisionTreeRegressor MAE: 29075.4411\n",
      "\n",
      "DecisionTreeRegressor mean MAE: 20191.3422\n",
      "========================================\n"
     ]
    },
    {
     "name": "stderr",
     "output_type": "stream",
     "text": [
      "XGBRegressor Cross Validations...: 100%|████████| 10/10 [00:04<00:00,  2.07it/s]\n"
     ]
    },
    {
     "name": "stdout",
     "output_type": "stream",
     "text": [
      "1 FOLDS: XGBRegressor MAE: 9028.2063\n",
      "2 FOLDS: XGBRegressor MAE: 6595.5400\n",
      "3 FOLDS: XGBRegressor MAE: 12364.0911\n",
      "4 FOLDS: XGBRegressor MAE: 7642.0057\n",
      "5 FOLDS: XGBRegressor MAE: 16044.8462\n",
      "6 FOLDS: XGBRegressor MAE: 5933.0572\n",
      "7 FOLDS: XGBRegressor MAE: 18130.2614\n",
      "8 FOLDS: XGBRegressor MAE: 22830.8713\n",
      "9 FOLDS: XGBRegressor MAE: 12187.0821\n",
      "10 FOLDS: XGBRegressor MAE: 19970.4266\n",
      "\n",
      "XGBRegressor mean MAE: 13072.6388\n",
      "========================================\n"
     ]
    },
    {
     "name": "stderr",
     "output_type": "stream",
     "text": [
      "LGBMRegressor Cross Validations...: 100%|███████| 10/10 [00:01<00:00,  5.71it/s]"
     ]
    },
    {
     "name": "stdout",
     "output_type": "stream",
     "text": [
      "1 FOLDS: LGBMRegressor MAE: 8223.9738\n",
      "2 FOLDS: LGBMRegressor MAE: 5653.6101\n",
      "3 FOLDS: LGBMRegressor MAE: 11711.5387\n",
      "4 FOLDS: LGBMRegressor MAE: 6839.6290\n",
      "5 FOLDS: LGBMRegressor MAE: 17086.9937\n",
      "6 FOLDS: LGBMRegressor MAE: 6558.5271\n",
      "7 FOLDS: LGBMRegressor MAE: 18051.4618\n",
      "8 FOLDS: LGBMRegressor MAE: 20563.4343\n",
      "9 FOLDS: LGBMRegressor MAE: 11392.7610\n",
      "10 FOLDS: LGBMRegressor MAE: 20225.1141\n",
      "\n",
      "LGBMRegressor mean MAE: 12630.7044\n",
      "========================================\n"
     ]
    },
    {
     "name": "stderr",
     "output_type": "stream",
     "text": [
      "\n"
     ]
    }
   ],
   "source": [
    "from sklearn.model_selection import TimeSeriesSplit\n",
    "\n",
    "models = []\n",
    "scores = []\n",
    "for model in [reg, ridge, lasso, Enet, DTree, model_xgb, model_lgb]:\n",
    "    model_name, mean_score = print_mae_score(model)\n",
    "    models.append(model_name)\n",
    "    scores.append(mean_score)"
   ]
  },
  {
   "cell_type": "code",
   "execution_count": 150,
   "id": "cb4bcf2c",
   "metadata": {
    "scrolled": true
   },
   "outputs": [
    {
     "data": {
      "text/html": [
       "<div>\n",
       "<style scoped>\n",
       "    .dataframe tbody tr th:only-of-type {\n",
       "        vertical-align: middle;\n",
       "    }\n",
       "\n",
       "    .dataframe tbody tr th {\n",
       "        vertical-align: top;\n",
       "    }\n",
       "\n",
       "    .dataframe thead th {\n",
       "        text-align: right;\n",
       "    }\n",
       "</style>\n",
       "<table border=\"1\" class=\"dataframe\">\n",
       "  <thead>\n",
       "    <tr style=\"text-align: right;\">\n",
       "      <th></th>\n",
       "      <th>Model</th>\n",
       "      <th>Score</th>\n",
       "    </tr>\n",
       "  </thead>\n",
       "  <tbody>\n",
       "    <tr>\n",
       "      <th>0</th>\n",
       "      <td>LinearRegression</td>\n",
       "      <td>21751.307402</td>\n",
       "    </tr>\n",
       "    <tr>\n",
       "      <th>1</th>\n",
       "      <td>Ridge</td>\n",
       "      <td>21762.007397</td>\n",
       "    </tr>\n",
       "    <tr>\n",
       "      <th>2</th>\n",
       "      <td>Lasso</td>\n",
       "      <td>21751.309120</td>\n",
       "    </tr>\n",
       "    <tr>\n",
       "      <th>3</th>\n",
       "      <td>ElasticNet</td>\n",
       "      <td>22629.863714</td>\n",
       "    </tr>\n",
       "    <tr>\n",
       "      <th>4</th>\n",
       "      <td>DecisionTreeRegressor</td>\n",
       "      <td>20191.342242</td>\n",
       "    </tr>\n",
       "    <tr>\n",
       "      <th>5</th>\n",
       "      <td>XGBRegressor</td>\n",
       "      <td>13072.638792</td>\n",
       "    </tr>\n",
       "    <tr>\n",
       "      <th>6</th>\n",
       "      <td>LGBMRegressor</td>\n",
       "      <td>12630.704368</td>\n",
       "    </tr>\n",
       "  </tbody>\n",
       "</table>\n",
       "</div>"
      ],
      "text/plain": [
       "                   Model         Score\n",
       "0       LinearRegression  21751.307402\n",
       "1                  Ridge  21762.007397\n",
       "2                  Lasso  21751.309120\n",
       "3             ElasticNet  22629.863714\n",
       "4  DecisionTreeRegressor  20191.342242\n",
       "5           XGBRegressor  13072.638792\n",
       "6          LGBMRegressor  12630.704368"
      ]
     },
     "execution_count": 150,
     "metadata": {},
     "output_type": "execute_result"
    }
   ],
   "source": [
    "result_df = pd.DataFrame({'Model': models, 'Score': scores}).reset_index(drop=True)\n",
    "result_df"
   ]
  },
  {
   "cell_type": "markdown",
   "id": "35755a9f",
   "metadata": {},
   "source": [
    "가장 성능 좋은 LightGBM 채택"
   ]
  },
  {
   "cell_type": "code",
   "execution_count": 151,
   "id": "328371c7",
   "metadata": {
    "scrolled": true
   },
   "outputs": [
    {
     "data": {
      "image/png": "[encoded data removed]",
      "text/plain": [
       "<Figure size 1000x600 with 1 Axes>"
      ]
     },
     "metadata": {},
     "output_type": "display_data"
    }
   ],
   "source": [
    "f, ax = plt.subplots(figsize=(10, 6))\n",
    "\n",
    "sns.barplot(x=result_df['Model'], y=result_df['Score'])\n",
    "plt.xlabel('Models', fontsize=15)\n",
    "plt.ylabel('Model Performance', fontsize=15)\n",
    "\n",
    "plt.title('MAE', fontsize=15)\n",
    "plt.show()"
   ]
  },
  {
   "cell_type": "markdown",
   "id": "870bd6a5",
   "metadata": {},
   "source": [
    "## Hyperparameter Tuning"
   ]
  },
  {
   "cell_type": "code",
   "execution_count": 152,
   "id": "db7c046b",
   "metadata": {},
   "outputs": [
    {
     "name": "stdout",
     "output_type": "stream",
     "text": [
      "(4789, 5) (4789,) (1198, 5) (1198,)\n"
     ]
    }
   ],
   "source": [
    "cut = int(len(train_df)*0.8)\n",
    "h_train = train_df[:cut]\n",
    "h_valid = train_df[cut:]\n",
    "\n",
    "h_train_X = h_train.drop('transaction_real_price', axis=1)\n",
    "h_train_y = h_train['transaction_real_price']\n",
    "h_valid_X = h_valid.drop('transaction_real_price', axis=1)\n",
    "h_valid_y = h_valid['transaction_real_price']\n",
    "print(h_train_X.shape, h_train_y.shape, h_valid_X.shape, h_valid_y.shape)\n"
   ]
  },
  {
   "cell_type": "code",
   "execution_count": 153,
   "id": "10d6ee07",
   "metadata": {
    "scrolled": false
   },
   "outputs": [
    {
     "data": {
      "text/html": [
       "<div>\n",
       "<style scoped>\n",
       "    .dataframe tbody tr th:only-of-type {\n",
       "        vertical-align: middle;\n",
       "    }\n",
       "\n",
       "    .dataframe tbody tr th {\n",
       "        vertical-align: top;\n",
       "    }\n",
       "\n",
       "    .dataframe thead th {\n",
       "        text-align: right;\n",
       "    }\n",
       "</style>\n",
       "<table border=\"1\" class=\"dataframe\">\n",
       "  <thead>\n",
       "    <tr style=\"text-align: right;\">\n",
       "      <th></th>\n",
       "      <th>cluster</th>\n",
       "      <th>log_area</th>\n",
       "      <th>low_floor</th>\n",
       "      <th>year_of_completion</th>\n",
       "      <th>transaction_year_month</th>\n",
       "    </tr>\n",
       "  </thead>\n",
       "  <tbody>\n",
       "    <tr>\n",
       "      <th>0</th>\n",
       "      <td>3.0</td>\n",
       "      <td>5.072295</td>\n",
       "      <td>1</td>\n",
       "      <td>4</td>\n",
       "      <td>0</td>\n",
       "    </tr>\n",
       "    <tr>\n",
       "      <th>1</th>\n",
       "      <td>3.0</td>\n",
       "      <td>4.856785</td>\n",
       "      <td>1</td>\n",
       "      <td>4</td>\n",
       "      <td>0</td>\n",
       "    </tr>\n",
       "    <tr>\n",
       "      <th>2</th>\n",
       "      <td>3.0</td>\n",
       "      <td>4.856785</td>\n",
       "      <td>1</td>\n",
       "      <td>4</td>\n",
       "      <td>0</td>\n",
       "    </tr>\n",
       "    <tr>\n",
       "      <th>3</th>\n",
       "      <td>3.0</td>\n",
       "      <td>4.856785</td>\n",
       "      <td>1</td>\n",
       "      <td>4</td>\n",
       "      <td>1</td>\n",
       "    </tr>\n",
       "    <tr>\n",
       "      <th>4</th>\n",
       "      <td>3.0</td>\n",
       "      <td>4.452136</td>\n",
       "      <td>0</td>\n",
       "      <td>4</td>\n",
       "      <td>1</td>\n",
       "    </tr>\n",
       "  </tbody>\n",
       "</table>\n",
       "</div>"
      ],
      "text/plain": [
       "   cluster  log_area  low_floor  year_of_completion  transaction_year_month\n",
       "0      3.0  5.072295          1                   4                       0\n",
       "1      3.0  4.856785          1                   4                       0\n",
       "2      3.0  4.856785          1                   4                       0\n",
       "3      3.0  4.856785          1                   4                       1\n",
       "4      3.0  4.452136          0                   4                       1"
      ]
     },
     "execution_count": 153,
     "metadata": {},
     "output_type": "execute_result"
    }
   ],
   "source": [
    "h_train_X.head()"
   ]
  },
  {
   "cell_type": "code",
   "execution_count": 154,
   "id": "807b82f0",
   "metadata": {
    "scrolled": true
   },
   "outputs": [
    {
     "name": "stdout",
     "output_type": "stream",
     "text": [
      "3.2.0\n"
     ]
    }
   ],
   "source": [
    "import optuna\n",
    "print(optuna.__version__)\n"
   ]
  },
  {
   "cell_type": "markdown",
   "id": "0627e8d2",
   "metadata": {},
   "source": [
    "### optuna를 통한 튜닝"
   ]
  },
  {
   "cell_type": "code",
   "execution_count": 155,
   "id": "c68a98f6",
   "metadata": {},
   "outputs": [
    {
     "name": "stderr",
     "output_type": "stream",
     "text": [
      "[I 2023-07-30 23:39:46,223] A new study created in memory with name: no-name-89ce730b-9b30-48b4-896e-24db27a7738d\n",
      "/home/t2user2/.conda/envs/pybook/lib/python3.10/site-packages/lightgbm/sklearn.py:726: UserWarning: 'early_stopping_rounds' argument is deprecated and will be removed in a future release of LightGBM. Pass 'early_stopping()' callback via 'callbacks' argument instead.\n",
      "  _log_warning(\"'early_stopping_rounds' argument is deprecated and will be removed in a future release of LightGBM. \"\n",
      "/home/t2user2/.conda/envs/pybook/lib/python3.10/site-packages/lightgbm/sklearn.py:736: UserWarning: 'verbose' argument is deprecated and will be removed in a future release of LightGBM. Pass 'log_evaluation()' callback via 'callbacks' argument instead.\n",
      "  _log_warning(\"'verbose' argument is deprecated and will be removed in a future release of LightGBM. \"\n",
      "[I 2023-07-30 23:39:47,138] Trial 0 finished with value: 103872.86280966131 and parameters: {'max_depth': 13, 'learning_rate': 1.3320229150659043e-08, 'n_estimators': 1938, 'min_child_samples': 76, 'subsample': 0.6315909175774905}. Best is trial 0 with value: 103872.86280966131.\n",
      "/home/t2user2/.conda/envs/pybook/lib/python3.10/site-packages/lightgbm/sklearn.py:726: UserWarning: 'early_stopping_rounds' argument is deprecated and will be removed in a future release of LightGBM. Pass 'early_stopping()' callback via 'callbacks' argument instead.\n",
      "  _log_warning(\"'early_stopping_rounds' argument is deprecated and will be removed in a future release of LightGBM. \"\n",
      "/home/t2user2/.conda/envs/pybook/lib/python3.10/site-packages/lightgbm/sklearn.py:736: UserWarning: 'verbose' argument is deprecated and will be removed in a future release of LightGBM. Pass 'log_evaluation()' callback via 'callbacks' argument instead.\n",
      "  _log_warning(\"'verbose' argument is deprecated and will be removed in a future release of LightGBM. \"\n",
      "[I 2023-07-30 23:39:48,047] Trial 1 finished with value: 103844.26729757748 and parameters: {'max_depth': 5, 'learning_rate': 1.5430400149097381e-07, 'n_estimators': 2306, 'min_child_samples': 21, 'subsample': 0.4337244827306443}. Best is trial 1 with value: 103844.26729757748.\n",
      "/home/t2user2/.conda/envs/pybook/lib/python3.10/site-packages/lightgbm/sklearn.py:726: UserWarning: 'early_stopping_rounds' argument is deprecated and will be removed in a future release of LightGBM. Pass 'early_stopping()' callback via 'callbacks' argument instead.\n",
      "  _log_warning(\"'early_stopping_rounds' argument is deprecated and will be removed in a future release of LightGBM. \"\n",
      "/home/t2user2/.conda/envs/pybook/lib/python3.10/site-packages/lightgbm/sklearn.py:736: UserWarning: 'verbose' argument is deprecated and will be removed in a future release of LightGBM. Pass 'log_evaluation()' callback via 'callbacks' argument instead.\n",
      "  _log_warning(\"'verbose' argument is deprecated and will be removed in a future release of LightGBM. \"\n",
      "[I 2023-07-30 23:39:48,195] Trial 2 finished with value: 65887.8159661654 and parameters: {'max_depth': 11, 'learning_rate': 0.005252427629146827, 'n_estimators': 111, 'min_child_samples': 54, 'subsample': 0.8422371309477078}. Best is trial 2 with value: 65887.8159661654.\n",
      "/home/t2user2/.conda/envs/pybook/lib/python3.10/site-packages/lightgbm/sklearn.py:726: UserWarning: 'early_stopping_rounds' argument is deprecated and will be removed in a future release of LightGBM. Pass 'early_stopping()' callback via 'callbacks' argument instead.\n",
      "  _log_warning(\"'early_stopping_rounds' argument is deprecated and will be removed in a future release of LightGBM. \"\n",
      "/home/t2user2/.conda/envs/pybook/lib/python3.10/site-packages/lightgbm/sklearn.py:736: UserWarning: 'verbose' argument is deprecated and will be removed in a future release of LightGBM. Pass 'log_evaluation()' callback via 'callbacks' argument instead.\n",
      "  _log_warning(\"'verbose' argument is deprecated and will be removed in a future release of LightGBM. \"\n",
      "[I 2023-07-30 23:39:48,591] Trial 3 finished with value: 88635.1057136982 and parameters: {'max_depth': 10, 'learning_rate': 0.00021405821746591817, 'n_estimators': 946, 'min_child_samples': 93, 'subsample': 0.7698715745641292}. Best is trial 2 with value: 65887.8159661654.\n",
      "/home/t2user2/.conda/envs/pybook/lib/python3.10/site-packages/lightgbm/sklearn.py:726: UserWarning: 'early_stopping_rounds' argument is deprecated and will be removed in a future release of LightGBM. Pass 'early_stopping()' callback via 'callbacks' argument instead.\n",
      "  _log_warning(\"'early_stopping_rounds' argument is deprecated and will be removed in a future release of LightGBM. \"\n",
      "/home/t2user2/.conda/envs/pybook/lib/python3.10/site-packages/lightgbm/sklearn.py:736: UserWarning: 'verbose' argument is deprecated and will be removed in a future release of LightGBM. Pass 'log_evaluation()' callback via 'callbacks' argument instead.\n",
      "  _log_warning(\"'verbose' argument is deprecated and will be removed in a future release of LightGBM. \"\n",
      "[I 2023-07-30 23:39:49,172] Trial 4 finished with value: 103868.18247347098 and parameters: {'max_depth': 10, 'learning_rate': 7.128863277996207e-08, 'n_estimators': 1183, 'min_child_samples': 69, 'subsample': 0.5996296351455978}. Best is trial 2 with value: 65887.8159661654.\n",
      "/home/t2user2/.conda/envs/pybook/lib/python3.10/site-packages/lightgbm/sklearn.py:726: UserWarning: 'early_stopping_rounds' argument is deprecated and will be removed in a future release of LightGBM. Pass 'early_stopping()' callback via 'callbacks' argument instead.\n",
      "  _log_warning(\"'early_stopping_rounds' argument is deprecated and will be removed in a future release of LightGBM. \"\n",
      "/home/t2user2/.conda/envs/pybook/lib/python3.10/site-packages/lightgbm/sklearn.py:736: UserWarning: 'verbose' argument is deprecated and will be removed in a future release of LightGBM. Pass 'log_evaluation()' callback via 'callbacks' argument instead.\n",
      "  _log_warning(\"'verbose' argument is deprecated and will be removed in a future release of LightGBM. \"\n",
      "[I 2023-07-30 23:39:49,904] Trial 5 finished with value: 97569.49375275969 and parameters: {'max_depth': 8, 'learning_rate': 5.08864167992051e-05, 'n_estimators': 1588, 'min_child_samples': 67, 'subsample': 0.6938050197112922}. Best is trial 2 with value: 65887.8159661654.\n",
      "/home/t2user2/.conda/envs/pybook/lib/python3.10/site-packages/lightgbm/sklearn.py:726: UserWarning: 'early_stopping_rounds' argument is deprecated and will be removed in a future release of LightGBM. Pass 'early_stopping()' callback via 'callbacks' argument instead.\n",
      "  _log_warning(\"'early_stopping_rounds' argument is deprecated and will be removed in a future release of LightGBM. \"\n",
      "/home/t2user2/.conda/envs/pybook/lib/python3.10/site-packages/lightgbm/sklearn.py:736: UserWarning: 'verbose' argument is deprecated and will be removed in a future release of LightGBM. Pass 'log_evaluation()' callback via 'callbacks' argument instead.\n",
      "  _log_warning(\"'verbose' argument is deprecated and will be removed in a future release of LightGBM. \"\n",
      "[I 2023-07-30 23:39:51,422] Trial 6 finished with value: 100807.91610220844 and parameters: {'max_depth': 13, 'learning_rate': 1.3485992516968212e-05, 'n_estimators': 2735, 'min_child_samples': 35, 'subsample': 0.4345676420333751}. Best is trial 2 with value: 65887.8159661654.\n",
      "/home/t2user2/.conda/envs/pybook/lib/python3.10/site-packages/lightgbm/sklearn.py:726: UserWarning: 'early_stopping_rounds' argument is deprecated and will be removed in a future release of LightGBM. Pass 'early_stopping()' callback via 'callbacks' argument instead.\n",
      "  _log_warning(\"'early_stopping_rounds' argument is deprecated and will be removed in a future release of LightGBM. \"\n",
      "/home/t2user2/.conda/envs/pybook/lib/python3.10/site-packages/lightgbm/sklearn.py:736: UserWarning: 'verbose' argument is deprecated and will be removed in a future release of LightGBM. Pass 'log_evaluation()' callback via 'callbacks' argument instead.\n",
      "  _log_warning(\"'verbose' argument is deprecated and will be removed in a future release of LightGBM. \"\n",
      "[I 2023-07-30 23:39:52,562] Trial 7 finished with value: 103864.83114525712 and parameters: {'max_depth': 6, 'learning_rate': 4.8295444901938926e-08, 'n_estimators': 2504, 'min_child_samples': 9, 'subsample': 0.7100430887666348}. Best is trial 2 with value: 65887.8159661654.\n"
     ]
    },
    {
     "name": "stderr",
     "output_type": "stream",
     "text": [
      "/home/t2user2/.conda/envs/pybook/lib/python3.10/site-packages/lightgbm/sklearn.py:726: UserWarning: 'early_stopping_rounds' argument is deprecated and will be removed in a future release of LightGBM. Pass 'early_stopping()' callback via 'callbacks' argument instead.\n",
      "  _log_warning(\"'early_stopping_rounds' argument is deprecated and will be removed in a future release of LightGBM. \"\n",
      "/home/t2user2/.conda/envs/pybook/lib/python3.10/site-packages/lightgbm/sklearn.py:736: UserWarning: 'verbose' argument is deprecated and will be removed in a future release of LightGBM. Pass 'log_evaluation()' callback via 'callbacks' argument instead.\n",
      "  _log_warning(\"'verbose' argument is deprecated and will be removed in a future release of LightGBM. \"\n",
      "[I 2023-07-30 23:39:52,845] Trial 8 finished with value: 68450.91646378503 and parameters: {'max_depth': 10, 'learning_rate': 0.0008236106883720722, 'n_estimators': 677, 'min_child_samples': 87, 'subsample': 0.5520731753100153}. Best is trial 2 with value: 65887.8159661654.\n",
      "/home/t2user2/.conda/envs/pybook/lib/python3.10/site-packages/lightgbm/sklearn.py:726: UserWarning: 'early_stopping_rounds' argument is deprecated and will be removed in a future release of LightGBM. Pass 'early_stopping()' callback via 'callbacks' argument instead.\n",
      "  _log_warning(\"'early_stopping_rounds' argument is deprecated and will be removed in a future release of LightGBM. \"\n",
      "/home/t2user2/.conda/envs/pybook/lib/python3.10/site-packages/lightgbm/sklearn.py:736: UserWarning: 'verbose' argument is deprecated and will be removed in a future release of LightGBM. Pass 'log_evaluation()' callback via 'callbacks' argument instead.\n",
      "  _log_warning(\"'verbose' argument is deprecated and will be removed in a future release of LightGBM. \"\n",
      "[I 2023-07-30 23:39:54,097] Trial 9 finished with value: 103740.40914349648 and parameters: {'max_depth': 12, 'learning_rate': 5.967195151630884e-07, 'n_estimators': 2664, 'min_child_samples': 36, 'subsample': 0.46529289303849874}. Best is trial 2 with value: 65887.8159661654.\n",
      "/home/t2user2/.conda/envs/pybook/lib/python3.10/site-packages/lightgbm/sklearn.py:726: UserWarning: 'early_stopping_rounds' argument is deprecated and will be removed in a future release of LightGBM. Pass 'early_stopping()' callback via 'callbacks' argument instead.\n",
      "  _log_warning(\"'early_stopping_rounds' argument is deprecated and will be removed in a future release of LightGBM. \"\n",
      "/home/t2user2/.conda/envs/pybook/lib/python3.10/site-packages/lightgbm/sklearn.py:736: UserWarning: 'verbose' argument is deprecated and will be removed in a future release of LightGBM. Pass 'log_evaluation()' callback via 'callbacks' argument instead.\n",
      "  _log_warning(\"'verbose' argument is deprecated and will be removed in a future release of LightGBM. \"\n",
      "[I 2023-07-30 23:39:54,128] Trial 10 finished with value: 62740.1715290838 and parameters: {'max_depth': 3, 'learning_rate': 0.007287079614451871, 'n_estimators': 125, 'min_child_samples': 50, 'subsample': 0.9370978022952945}. Best is trial 10 with value: 62740.1715290838.\n",
      "/home/t2user2/.conda/envs/pybook/lib/python3.10/site-packages/lightgbm/sklearn.py:726: UserWarning: 'early_stopping_rounds' argument is deprecated and will be removed in a future release of LightGBM. Pass 'early_stopping()' callback via 'callbacks' argument instead.\n",
      "  _log_warning(\"'early_stopping_rounds' argument is deprecated and will be removed in a future release of LightGBM. \"\n",
      "/home/t2user2/.conda/envs/pybook/lib/python3.10/site-packages/lightgbm/sklearn.py:736: UserWarning: 'verbose' argument is deprecated and will be removed in a future release of LightGBM. Pass 'log_evaluation()' callback via 'callbacks' argument instead.\n",
      "  _log_warning(\"'verbose' argument is deprecated and will be removed in a future release of LightGBM. \"\n",
      "[I 2023-07-30 23:39:54,161] Trial 11 finished with value: 52855.308938128095 and parameters: {'max_depth': 3, 'learning_rate': 0.009781360056777894, 'n_estimators': 134, 'min_child_samples': 50, 'subsample': 0.9710017015068796}. Best is trial 11 with value: 52855.308938128095.\n",
      "/home/t2user2/.conda/envs/pybook/lib/python3.10/site-packages/lightgbm/sklearn.py:726: UserWarning: 'early_stopping_rounds' argument is deprecated and will be removed in a future release of LightGBM. Pass 'early_stopping()' callback via 'callbacks' argument instead.\n",
      "  _log_warning(\"'early_stopping_rounds' argument is deprecated and will be removed in a future release of LightGBM. \"\n",
      "/home/t2user2/.conda/envs/pybook/lib/python3.10/site-packages/lightgbm/sklearn.py:736: UserWarning: 'verbose' argument is deprecated and will be removed in a future release of LightGBM. Pass 'log_evaluation()' callback via 'callbacks' argument instead.\n",
      "  _log_warning(\"'verbose' argument is deprecated and will be removed in a future release of LightGBM. \"\n",
      "[I 2023-07-30 23:39:54,197] Trial 12 finished with value: 56262.507369302446 and parameters: {'max_depth': 3, 'learning_rate': 0.007773589322284729, 'n_estimators': 151, 'min_child_samples': 46, 'subsample': 0.9989436234186677}. Best is trial 11 with value: 52855.308938128095.\n",
      "/home/t2user2/.conda/envs/pybook/lib/python3.10/site-packages/lightgbm/sklearn.py:726: UserWarning: 'early_stopping_rounds' argument is deprecated and will be removed in a future release of LightGBM. Pass 'early_stopping()' callback via 'callbacks' argument instead.\n",
      "  _log_warning(\"'early_stopping_rounds' argument is deprecated and will be removed in a future release of LightGBM. \"\n",
      "/home/t2user2/.conda/envs/pybook/lib/python3.10/site-packages/lightgbm/sklearn.py:736: UserWarning: 'verbose' argument is deprecated and will be removed in a future release of LightGBM. Pass 'log_evaluation()' callback via 'callbacks' argument instead.\n",
      "  _log_warning(\"'verbose' argument is deprecated and will be removed in a future release of LightGBM. \"\n",
      "[I 2023-07-30 23:39:54,281] Trial 13 finished with value: 26947.379381281648 and parameters: {'max_depth': 3, 'learning_rate': 0.009888319202599477, 'n_estimators': 544, 'min_child_samples': 49, 'subsample': 0.9537507201053227}. Best is trial 13 with value: 26947.379381281648.\n",
      "/home/t2user2/.conda/envs/pybook/lib/python3.10/site-packages/lightgbm/sklearn.py:726: UserWarning: 'early_stopping_rounds' argument is deprecated and will be removed in a future release of LightGBM. Pass 'early_stopping()' callback via 'callbacks' argument instead.\n",
      "  _log_warning(\"'early_stopping_rounds' argument is deprecated and will be removed in a future release of LightGBM. \"\n",
      "/home/t2user2/.conda/envs/pybook/lib/python3.10/site-packages/lightgbm/sklearn.py:736: UserWarning: 'verbose' argument is deprecated and will be removed in a future release of LightGBM. Pass 'log_evaluation()' callback via 'callbacks' argument instead.\n",
      "  _log_warning(\"'verbose' argument is deprecated and will be removed in a future release of LightGBM. \"\n",
      "[I 2023-07-30 23:39:54,553] Trial 14 finished with value: 73230.18945785768 and parameters: {'max_depth': 15, 'learning_rate': 0.0007953098131062764, 'n_estimators': 579, 'min_child_samples': 59, 'subsample': 0.8787981219847804}. Best is trial 13 with value: 26947.379381281648.\n",
      "/home/t2user2/.conda/envs/pybook/lib/python3.10/site-packages/lightgbm/sklearn.py:726: UserWarning: 'early_stopping_rounds' argument is deprecated and will be removed in a future release of LightGBM. Pass 'early_stopping()' callback via 'callbacks' argument instead.\n",
      "  _log_warning(\"'early_stopping_rounds' argument is deprecated and will be removed in a future release of LightGBM. \"\n",
      "/home/t2user2/.conda/envs/pybook/lib/python3.10/site-packages/lightgbm/sklearn.py:736: UserWarning: 'verbose' argument is deprecated and will be removed in a future release of LightGBM. Pass 'log_evaluation()' callback via 'callbacks' argument instead.\n",
      "  _log_warning(\"'verbose' argument is deprecated and will be removed in a future release of LightGBM. \"\n",
      "[I 2023-07-30 23:39:54,799] Trial 15 finished with value: 72256.85523649209 and parameters: {'max_depth': 5, 'learning_rate': 0.0007694971413933516, 'n_estimators': 626, 'min_child_samples': 33, 'subsample': 0.9802388051912547}. Best is trial 13 with value: 26947.379381281648.\n",
      "/home/t2user2/.conda/envs/pybook/lib/python3.10/site-packages/lightgbm/sklearn.py:726: UserWarning: 'early_stopping_rounds' argument is deprecated and will be removed in a future release of LightGBM. Pass 'early_stopping()' callback via 'callbacks' argument instead.\n",
      "  _log_warning(\"'early_stopping_rounds' argument is deprecated and will be removed in a future release of LightGBM. \"\n",
      "/home/t2user2/.conda/envs/pybook/lib/python3.10/site-packages/lightgbm/sklearn.py:736: UserWarning: 'verbose' argument is deprecated and will be removed in a future release of LightGBM. Pass 'log_evaluation()' callback via 'callbacks' argument instead.\n",
      "  _log_warning(\"'verbose' argument is deprecated and will be removed in a future release of LightGBM. \"\n"
     ]
    },
    {
     "name": "stderr",
     "output_type": "stream",
     "text": [
      "[I 2023-07-30 23:39:55,384] Trial 16 finished with value: 103420.22000420495 and parameters: {'max_depth': 7, 'learning_rate': 4.26883356332944e-06, 'n_estimators': 1261, 'min_child_samples': 24, 'subsample': 0.8383644611816777}. Best is trial 13 with value: 26947.379381281648.\n",
      "/home/t2user2/.conda/envs/pybook/lib/python3.10/site-packages/lightgbm/sklearn.py:726: UserWarning: 'early_stopping_rounds' argument is deprecated and will be removed in a future release of LightGBM. Pass 'early_stopping()' callback via 'callbacks' argument instead.\n",
      "  _log_warning(\"'early_stopping_rounds' argument is deprecated and will be removed in a future release of LightGBM. \"\n",
      "/home/t2user2/.conda/envs/pybook/lib/python3.10/site-packages/lightgbm/sklearn.py:736: UserWarning: 'verbose' argument is deprecated and will be removed in a future release of LightGBM. Pass 'log_evaluation()' callback via 'callbacks' argument instead.\n",
      "  _log_warning(\"'verbose' argument is deprecated and will be removed in a future release of LightGBM. \"\n",
      "[I 2023-07-30 23:39:55,512] Trial 17 finished with value: 52871.24447206001 and parameters: {'max_depth': 4, 'learning_rate': 0.001974490171605891, 'n_estimators': 480, 'min_child_samples': 42, 'subsample': 0.9070340852408912}. Best is trial 13 with value: 26947.379381281648.\n",
      "/home/t2user2/.conda/envs/pybook/lib/python3.10/site-packages/lightgbm/sklearn.py:726: UserWarning: 'early_stopping_rounds' argument is deprecated and will be removed in a future release of LightGBM. Pass 'early_stopping()' callback via 'callbacks' argument instead.\n",
      "  _log_warning(\"'early_stopping_rounds' argument is deprecated and will be removed in a future release of LightGBM. \"\n",
      "/home/t2user2/.conda/envs/pybook/lib/python3.10/site-packages/lightgbm/sklearn.py:736: UserWarning: 'verbose' argument is deprecated and will be removed in a future release of LightGBM. Pass 'log_evaluation()' callback via 'callbacks' argument instead.\n",
      "  _log_warning(\"'verbose' argument is deprecated and will be removed in a future release of LightGBM. \"\n",
      "[I 2023-07-30 23:39:55,933] Trial 18 finished with value: 94783.98118314914 and parameters: {'max_depth': 7, 'learning_rate': 0.00012602448397870257, 'n_estimators': 964, 'min_child_samples': 63, 'subsample': 0.8052056675821299}. Best is trial 13 with value: 26947.379381281648.\n",
      "/home/t2user2/.conda/envs/pybook/lib/python3.10/site-packages/lightgbm/sklearn.py:726: UserWarning: 'early_stopping_rounds' argument is deprecated and will be removed in a future release of LightGBM. Pass 'early_stopping()' callback via 'callbacks' argument instead.\n",
      "  _log_warning(\"'early_stopping_rounds' argument is deprecated and will be removed in a future release of LightGBM. \"\n",
      "/home/t2user2/.conda/envs/pybook/lib/python3.10/site-packages/lightgbm/sklearn.py:736: UserWarning: 'verbose' argument is deprecated and will be removed in a future release of LightGBM. Pass 'log_evaluation()' callback via 'callbacks' argument instead.\n",
      "  _log_warning(\"'verbose' argument is deprecated and will be removed in a future release of LightGBM. \"\n",
      "[I 2023-07-30 23:39:56,011] Trial 19 finished with value: 31397.233988564505 and parameters: {'max_depth': 3, 'learning_rate': 0.00936078035561635, 'n_estimators': 385, 'min_child_samples': 81, 'subsample': 0.9267915036418813}. Best is trial 13 with value: 26947.379381281648.\n",
      "/home/t2user2/.conda/envs/pybook/lib/python3.10/site-packages/lightgbm/sklearn.py:726: UserWarning: 'early_stopping_rounds' argument is deprecated and will be removed in a future release of LightGBM. Pass 'early_stopping()' callback via 'callbacks' argument instead.\n",
      "  _log_warning(\"'early_stopping_rounds' argument is deprecated and will be removed in a future release of LightGBM. \"\n",
      "/home/t2user2/.conda/envs/pybook/lib/python3.10/site-packages/lightgbm/sklearn.py:736: UserWarning: 'verbose' argument is deprecated and will be removed in a future release of LightGBM. Pass 'log_evaluation()' callback via 'callbacks' argument instead.\n",
      "  _log_warning(\"'verbose' argument is deprecated and will be removed in a future release of LightGBM. \"\n",
      "[I 2023-07-30 23:39:56,550] Trial 20 finished with value: 25364.765782851693 and parameters: {'max_depth': 5, 'learning_rate': 0.002187488717620425, 'n_estimators': 1686, 'min_child_samples': 77, 'subsample': 0.764009791016043}. Best is trial 20 with value: 25364.765782851693.\n",
      "/home/t2user2/.conda/envs/pybook/lib/python3.10/site-packages/lightgbm/sklearn.py:726: UserWarning: 'early_stopping_rounds' argument is deprecated and will be removed in a future release of LightGBM. Pass 'early_stopping()' callback via 'callbacks' argument instead.\n",
      "  _log_warning(\"'early_stopping_rounds' argument is deprecated and will be removed in a future release of LightGBM. \"\n",
      "/home/t2user2/.conda/envs/pybook/lib/python3.10/site-packages/lightgbm/sklearn.py:736: UserWarning: 'verbose' argument is deprecated and will be removed in a future release of LightGBM. Pass 'log_evaluation()' callback via 'callbacks' argument instead.\n",
      "  _log_warning(\"'verbose' argument is deprecated and will be removed in a future release of LightGBM. \"\n",
      "[I 2023-07-30 23:39:57,043] Trial 21 finished with value: 25336.478255103095 and parameters: {'max_depth': 5, 'learning_rate': 0.0024590460270451577, 'n_estimators': 1566, 'min_child_samples': 85, 'subsample': 0.89963384479485}. Best is trial 21 with value: 25336.478255103095.\n",
      "/home/t2user2/.conda/envs/pybook/lib/python3.10/site-packages/lightgbm/sklearn.py:726: UserWarning: 'early_stopping_rounds' argument is deprecated and will be removed in a future release of LightGBM. Pass 'early_stopping()' callback via 'callbacks' argument instead.\n",
      "  _log_warning(\"'early_stopping_rounds' argument is deprecated and will be removed in a future release of LightGBM. \"\n",
      "/home/t2user2/.conda/envs/pybook/lib/python3.10/site-packages/lightgbm/sklearn.py:736: UserWarning: 'verbose' argument is deprecated and will be removed in a future release of LightGBM. Pass 'log_evaluation()' callback via 'callbacks' argument instead.\n",
      "  _log_warning(\"'verbose' argument is deprecated and will be removed in a future release of LightGBM. \"\n",
      "[I 2023-07-30 23:39:57,537] Trial 22 finished with value: 27262.268458785627 and parameters: {'max_depth': 5, 'learning_rate': 0.0019815503943540883, 'n_estimators': 1832, 'min_child_samples': 100, 'subsample': 0.7958415456838127}. Best is trial 21 with value: 25336.478255103095.\n",
      "/home/t2user2/.conda/envs/pybook/lib/python3.10/site-packages/lightgbm/sklearn.py:726: UserWarning: 'early_stopping_rounds' argument is deprecated and will be removed in a future release of LightGBM. Pass 'early_stopping()' callback via 'callbacks' argument instead.\n",
      "  _log_warning(\"'early_stopping_rounds' argument is deprecated and will be removed in a future release of LightGBM. \"\n",
      "/home/t2user2/.conda/envs/pybook/lib/python3.10/site-packages/lightgbm/sklearn.py:736: UserWarning: 'verbose' argument is deprecated and will be removed in a future release of LightGBM. Pass 'log_evaluation()' callback via 'callbacks' argument instead.\n",
      "  _log_warning(\"'verbose' argument is deprecated and will be removed in a future release of LightGBM. \"\n",
      "[I 2023-07-30 23:39:58,338] Trial 23 finished with value: 24255.20251910501 and parameters: {'max_depth': 6, 'learning_rate': 0.00202691564595339, 'n_estimators': 2129, 'min_child_samples': 77, 'subsample': 0.8729497110773109}. Best is trial 23 with value: 24255.20251910501.\n",
      "/home/t2user2/.conda/envs/pybook/lib/python3.10/site-packages/lightgbm/sklearn.py:726: UserWarning: 'early_stopping_rounds' argument is deprecated and will be removed in a future release of LightGBM. Pass 'early_stopping()' callback via 'callbacks' argument instead.\n",
      "  _log_warning(\"'early_stopping_rounds' argument is deprecated and will be removed in a future release of LightGBM. \"\n",
      "/home/t2user2/.conda/envs/pybook/lib/python3.10/site-packages/lightgbm/sklearn.py:736: UserWarning: 'verbose' argument is deprecated and will be removed in a future release of LightGBM. Pass 'log_evaluation()' callback via 'callbacks' argument instead.\n",
      "  _log_warning(\"'verbose' argument is deprecated and will be removed in a future release of LightGBM. \"\n",
      "[I 2023-07-30 23:39:59,266] Trial 24 finished with value: 69402.71339495244 and parameters: {'max_depth': 8, 'learning_rate': 0.0002527491074030849, 'n_estimators': 2119, 'min_child_samples': 76, 'subsample': 0.7566500984582907}. Best is trial 23 with value: 24255.20251910501.\n"
     ]
    },
    {
     "name": "stderr",
     "output_type": "stream",
     "text": [
      "/home/t2user2/.conda/envs/pybook/lib/python3.10/site-packages/lightgbm/sklearn.py:726: UserWarning: 'early_stopping_rounds' argument is deprecated and will be removed in a future release of LightGBM. Pass 'early_stopping()' callback via 'callbacks' argument instead.\n",
      "  _log_warning(\"'early_stopping_rounds' argument is deprecated and will be removed in a future release of LightGBM. \"\n",
      "/home/t2user2/.conda/envs/pybook/lib/python3.10/site-packages/lightgbm/sklearn.py:736: UserWarning: 'verbose' argument is deprecated and will be removed in a future release of LightGBM. Pass 'log_evaluation()' callback via 'callbacks' argument instead.\n",
      "  _log_warning(\"'verbose' argument is deprecated and will be removed in a future release of LightGBM. \"\n",
      "[I 2023-07-30 23:39:59,810] Trial 25 finished with value: 25396.835099413638 and parameters: {'max_depth': 6, 'learning_rate': 0.0023202689482806557, 'n_estimators': 1544, 'min_child_samples': 87, 'subsample': 0.8440141819027402}. Best is trial 23 with value: 24255.20251910501.\n",
      "/home/t2user2/.conda/envs/pybook/lib/python3.10/site-packages/lightgbm/sklearn.py:726: UserWarning: 'early_stopping_rounds' argument is deprecated and will be removed in a future release of LightGBM. Pass 'early_stopping()' callback via 'callbacks' argument instead.\n",
      "  _log_warning(\"'early_stopping_rounds' argument is deprecated and will be removed in a future release of LightGBM. \"\n",
      "/home/t2user2/.conda/envs/pybook/lib/python3.10/site-packages/lightgbm/sklearn.py:736: UserWarning: 'verbose' argument is deprecated and will be removed in a future release of LightGBM. Pass 'log_evaluation()' callback via 'callbacks' argument instead.\n",
      "  _log_warning(\"'verbose' argument is deprecated and will be removed in a future release of LightGBM. \"\n",
      "[I 2023-07-30 23:40:00,470] Trial 26 finished with value: 68475.88915502395 and parameters: {'max_depth': 6, 'learning_rate': 0.0003574108925106363, 'n_estimators': 1632, 'min_child_samples': 100, 'subsample': 0.739739192708496}. Best is trial 23 with value: 24255.20251910501.\n",
      "/home/t2user2/.conda/envs/pybook/lib/python3.10/site-packages/lightgbm/sklearn.py:726: UserWarning: 'early_stopping_rounds' argument is deprecated and will be removed in a future release of LightGBM. Pass 'early_stopping()' callback via 'callbacks' argument instead.\n",
      "  _log_warning(\"'early_stopping_rounds' argument is deprecated and will be removed in a future release of LightGBM. \"\n",
      "/home/t2user2/.conda/envs/pybook/lib/python3.10/site-packages/lightgbm/sklearn.py:736: UserWarning: 'verbose' argument is deprecated and will be removed in a future release of LightGBM. Pass 'log_evaluation()' callback via 'callbacks' argument instead.\n",
      "  _log_warning(\"'verbose' argument is deprecated and will be removed in a future release of LightGBM. \"\n",
      "[I 2023-07-30 23:40:01,439] Trial 27 finished with value: 91588.45054514435 and parameters: {'max_depth': 8, 'learning_rate': 7.048066109283888e-05, 'n_estimators': 2238, 'min_child_samples': 79, 'subsample': 0.8786862595169586}. Best is trial 23 with value: 24255.20251910501.\n",
      "/home/t2user2/.conda/envs/pybook/lib/python3.10/site-packages/lightgbm/sklearn.py:726: UserWarning: 'early_stopping_rounds' argument is deprecated and will be removed in a future release of LightGBM. Pass 'early_stopping()' callback via 'callbacks' argument instead.\n",
      "  _log_warning(\"'early_stopping_rounds' argument is deprecated and will be removed in a future release of LightGBM. \"\n",
      "/home/t2user2/.conda/envs/pybook/lib/python3.10/site-packages/lightgbm/sklearn.py:736: UserWarning: 'verbose' argument is deprecated and will be removed in a future release of LightGBM. Pass 'log_evaluation()' callback via 'callbacks' argument instead.\n",
      "  _log_warning(\"'verbose' argument is deprecated and will be removed in a future release of LightGBM. \"\n",
      "[I 2023-07-30 23:40:01,831] Trial 28 finished with value: 28982.69933717278 and parameters: {'max_depth': 4, 'learning_rate': 0.0016387166599874147, 'n_estimators': 1845, 'min_child_samples': 71, 'subsample': 0.8838199526711712}. Best is trial 23 with value: 24255.20251910501.\n",
      "/home/t2user2/.conda/envs/pybook/lib/python3.10/site-packages/lightgbm/sklearn.py:726: UserWarning: 'early_stopping_rounds' argument is deprecated and will be removed in a future release of LightGBM. Pass 'early_stopping()' callback via 'callbacks' argument instead.\n",
      "  _log_warning(\"'early_stopping_rounds' argument is deprecated and will be removed in a future release of LightGBM. \"\n",
      "/home/t2user2/.conda/envs/pybook/lib/python3.10/site-packages/lightgbm/sklearn.py:736: UserWarning: 'verbose' argument is deprecated and will be removed in a future release of LightGBM. Pass 'log_evaluation()' callback via 'callbacks' argument instead.\n",
      "  _log_warning(\"'verbose' argument is deprecated and will be removed in a future release of LightGBM. \"\n",
      "[I 2023-07-30 23:40:02,270] Trial 29 finished with value: 55359.64563313822 and parameters: {'max_depth': 4, 'learning_rate': 0.0004560956345067362, 'n_estimators': 2014, 'min_child_samples': 89, 'subsample': 0.6790570669997722}. Best is trial 23 with value: 24255.20251910501.\n",
      "/home/t2user2/.conda/envs/pybook/lib/python3.10/site-packages/lightgbm/sklearn.py:726: UserWarning: 'early_stopping_rounds' argument is deprecated and will be removed in a future release of LightGBM. Pass 'early_stopping()' callback via 'callbacks' argument instead.\n",
      "  _log_warning(\"'early_stopping_rounds' argument is deprecated and will be removed in a future release of LightGBM. \"\n",
      "/home/t2user2/.conda/envs/pybook/lib/python3.10/site-packages/lightgbm/sklearn.py:736: UserWarning: 'verbose' argument is deprecated and will be removed in a future release of LightGBM. Pass 'log_evaluation()' callback via 'callbacks' argument instead.\n",
      "  _log_warning(\"'verbose' argument is deprecated and will be removed in a future release of LightGBM. \"\n",
      "[I 2023-07-30 23:40:02,832] Trial 30 finished with value: 25183.260353080233 and parameters: {'max_depth': 7, 'learning_rate': 0.0025331108801807966, 'n_estimators': 1364, 'min_child_samples': 76, 'subsample': 0.7863569170444361}. Best is trial 23 with value: 24255.20251910501.\n",
      "/home/t2user2/.conda/envs/pybook/lib/python3.10/site-packages/lightgbm/sklearn.py:726: UserWarning: 'early_stopping_rounds' argument is deprecated and will be removed in a future release of LightGBM. Pass 'early_stopping()' callback via 'callbacks' argument instead.\n",
      "  _log_warning(\"'early_stopping_rounds' argument is deprecated and will be removed in a future release of LightGBM. \"\n",
      "/home/t2user2/.conda/envs/pybook/lib/python3.10/site-packages/lightgbm/sklearn.py:736: UserWarning: 'verbose' argument is deprecated and will be removed in a future release of LightGBM. Pass 'log_evaluation()' callback via 'callbacks' argument instead.\n",
      "  _log_warning(\"'verbose' argument is deprecated and will be removed in a future release of LightGBM. \"\n",
      "[I 2023-07-30 23:40:03,663] Trial 31 finished with value: 23725.398856782667 and parameters: {'max_depth': 7, 'learning_rate': 0.0032114354785476506, 'n_estimators': 1347, 'min_child_samples': 75, 'subsample': 0.8040523351395259}. Best is trial 31 with value: 23725.398856782667.\n",
      "/home/t2user2/.conda/envs/pybook/lib/python3.10/site-packages/lightgbm/sklearn.py:726: UserWarning: 'early_stopping_rounds' argument is deprecated and will be removed in a future release of LightGBM. Pass 'early_stopping()' callback via 'callbacks' argument instead.\n",
      "  _log_warning(\"'early_stopping_rounds' argument is deprecated and will be removed in a future release of LightGBM. \"\n",
      "/home/t2user2/.conda/envs/pybook/lib/python3.10/site-packages/lightgbm/sklearn.py:736: UserWarning: 'verbose' argument is deprecated and will be removed in a future release of LightGBM. Pass 'log_evaluation()' callback via 'callbacks' argument instead.\n",
      "  _log_warning(\"'verbose' argument is deprecated and will be removed in a future release of LightGBM. \"\n",
      "[I 2023-07-30 23:40:04,291] Trial 32 finished with value: 25207.579039533066 and parameters: {'max_depth': 7, 'learning_rate': 0.0027962239685107243, 'n_estimators': 1375, 'min_child_samples': 83, 'subsample': 0.8122831832881946}. Best is trial 31 with value: 23725.398856782667.\n",
      "/home/t2user2/.conda/envs/pybook/lib/python3.10/site-packages/lightgbm/sklearn.py:726: UserWarning: 'early_stopping_rounds' argument is deprecated and will be removed in a future release of LightGBM. Pass 'early_stopping()' callback via 'callbacks' argument instead.\n",
      "  _log_warning(\"'early_stopping_rounds' argument is deprecated and will be removed in a future release of LightGBM. \"\n",
      "/home/t2user2/.conda/envs/pybook/lib/python3.10/site-packages/lightgbm/sklearn.py:736: UserWarning: 'verbose' argument is deprecated and will be removed in a future release of LightGBM. Pass 'log_evaluation()' callback via 'callbacks' argument instead.\n",
      "  _log_warning(\"'verbose' argument is deprecated and will be removed in a future release of LightGBM. \"\n"
     ]
    },
    {
     "name": "stderr",
     "output_type": "stream",
     "text": [
      "[I 2023-07-30 23:40:04,948] Trial 33 finished with value: 46702.48680404712 and parameters: {'max_depth': 7, 'learning_rate': 0.0007737489214277607, 'n_estimators': 1344, 'min_child_samples': 72, 'subsample': 0.8167266054263086}. Best is trial 31 with value: 23725.398856782667.\n",
      "/home/t2user2/.conda/envs/pybook/lib/python3.10/site-packages/lightgbm/sklearn.py:726: UserWarning: 'early_stopping_rounds' argument is deprecated and will be removed in a future release of LightGBM. Pass 'early_stopping()' callback via 'callbacks' argument instead.\n",
      "  _log_warning(\"'early_stopping_rounds' argument is deprecated and will be removed in a future release of LightGBM. \"\n",
      "/home/t2user2/.conda/envs/pybook/lib/python3.10/site-packages/lightgbm/sklearn.py:736: UserWarning: 'verbose' argument is deprecated and will be removed in a future release of LightGBM. Pass 'log_evaluation()' callback via 'callbacks' argument instead.\n",
      "  _log_warning(\"'verbose' argument is deprecated and will be removed in a future release of LightGBM. \"\n",
      "[I 2023-07-30 23:40:06,186] Trial 34 finished with value: 21020.03302304609 and parameters: {'max_depth': 9, 'learning_rate': 0.004901956601980915, 'n_estimators': 2971, 'min_child_samples': 60, 'subsample': 0.8094282473112113}. Best is trial 34 with value: 21020.03302304609.\n",
      "/home/t2user2/.conda/envs/pybook/lib/python3.10/site-packages/lightgbm/sklearn.py:726: UserWarning: 'early_stopping_rounds' argument is deprecated and will be removed in a future release of LightGBM. Pass 'early_stopping()' callback via 'callbacks' argument instead.\n",
      "  _log_warning(\"'early_stopping_rounds' argument is deprecated and will be removed in a future release of LightGBM. \"\n",
      "/home/t2user2/.conda/envs/pybook/lib/python3.10/site-packages/lightgbm/sklearn.py:736: UserWarning: 'verbose' argument is deprecated and will be removed in a future release of LightGBM. Pass 'log_evaluation()' callback via 'callbacks' argument instead.\n",
      "  _log_warning(\"'verbose' argument is deprecated and will be removed in a future release of LightGBM. \"\n",
      "[I 2023-07-30 23:40:07,508] Trial 35 finished with value: 21275.13156375408 and parameters: {'max_depth': 9, 'learning_rate': 0.0039826067449577575, 'n_estimators': 2985, 'min_child_samples': 58, 'subsample': 0.7294627178926237}. Best is trial 34 with value: 21020.03302304609.\n",
      "/home/t2user2/.conda/envs/pybook/lib/python3.10/site-packages/lightgbm/sklearn.py:726: UserWarning: 'early_stopping_rounds' argument is deprecated and will be removed in a future release of LightGBM. Pass 'early_stopping()' callback via 'callbacks' argument instead.\n",
      "  _log_warning(\"'early_stopping_rounds' argument is deprecated and will be removed in a future release of LightGBM. \"\n",
      "/home/t2user2/.conda/envs/pybook/lib/python3.10/site-packages/lightgbm/sklearn.py:736: UserWarning: 'verbose' argument is deprecated and will be removed in a future release of LightGBM. Pass 'log_evaluation()' callback via 'callbacks' argument instead.\n",
      "  _log_warning(\"'verbose' argument is deprecated and will be removed in a future release of LightGBM. \"\n",
      "[I 2023-07-30 23:40:08,862] Trial 36 finished with value: 21519.685139888425 and parameters: {'max_depth': 9, 'learning_rate': 0.0032610288912469244, 'n_estimators': 2937, 'min_child_samples': 58, 'subsample': 0.7338345451185931}. Best is trial 34 with value: 21020.03302304609.\n",
      "/home/t2user2/.conda/envs/pybook/lib/python3.10/site-packages/lightgbm/sklearn.py:726: UserWarning: 'early_stopping_rounds' argument is deprecated and will be removed in a future release of LightGBM. Pass 'early_stopping()' callback via 'callbacks' argument instead.\n",
      "  _log_warning(\"'early_stopping_rounds' argument is deprecated and will be removed in a future release of LightGBM. \"\n",
      "/home/t2user2/.conda/envs/pybook/lib/python3.10/site-packages/lightgbm/sklearn.py:736: UserWarning: 'verbose' argument is deprecated and will be removed in a future release of LightGBM. Pass 'log_evaluation()' callback via 'callbacks' argument instead.\n",
      "  _log_warning(\"'verbose' argument is deprecated and will be removed in a future release of LightGBM. \"\n",
      "[I 2023-07-30 23:40:09,938] Trial 37 finished with value: 21312.639399579843 and parameters: {'max_depth': 9, 'learning_rate': 0.004090148422342352, 'n_estimators': 2905, 'min_child_samples': 57, 'subsample': 0.731414063167847}. Best is trial 34 with value: 21020.03302304609.\n",
      "/home/t2user2/.conda/envs/pybook/lib/python3.10/site-packages/lightgbm/sklearn.py:726: UserWarning: 'early_stopping_rounds' argument is deprecated and will be removed in a future release of LightGBM. Pass 'early_stopping()' callback via 'callbacks' argument instead.\n",
      "  _log_warning(\"'early_stopping_rounds' argument is deprecated and will be removed in a future release of LightGBM. \"\n",
      "/home/t2user2/.conda/envs/pybook/lib/python3.10/site-packages/lightgbm/sklearn.py:736: UserWarning: 'verbose' argument is deprecated and will be removed in a future release of LightGBM. Pass 'log_evaluation()' callback via 'callbacks' argument instead.\n",
      "  _log_warning(\"'verbose' argument is deprecated and will be removed in a future release of LightGBM. \"\n",
      "[I 2023-07-30 23:40:11,047] Trial 38 finished with value: 21345.775342193774 and parameters: {'max_depth': 9, 'learning_rate': 0.004009977443113108, 'n_estimators': 2905, 'min_child_samples': 57, 'subsample': 0.6655576822086986}. Best is trial 34 with value: 21020.03302304609.\n",
      "/home/t2user2/.conda/envs/pybook/lib/python3.10/site-packages/lightgbm/sklearn.py:726: UserWarning: 'early_stopping_rounds' argument is deprecated and will be removed in a future release of LightGBM. Pass 'early_stopping()' callback via 'callbacks' argument instead.\n",
      "  _log_warning(\"'early_stopping_rounds' argument is deprecated and will be removed in a future release of LightGBM. \"\n",
      "/home/t2user2/.conda/envs/pybook/lib/python3.10/site-packages/lightgbm/sklearn.py:736: UserWarning: 'verbose' argument is deprecated and will be removed in a future release of LightGBM. Pass 'log_evaluation()' callback via 'callbacks' argument instead.\n",
      "  _log_warning(\"'verbose' argument is deprecated and will be removed in a future release of LightGBM. \"\n",
      "[I 2023-07-30 23:40:12,246] Trial 39 finished with value: 21408.868343088252 and parameters: {'max_depth': 11, 'learning_rate': 0.004087051798042152, 'n_estimators': 3000, 'min_child_samples': 64, 'subsample': 0.6626814238619195}. Best is trial 34 with value: 21020.03302304609.\n",
      "/home/t2user2/.conda/envs/pybook/lib/python3.10/site-packages/lightgbm/sklearn.py:726: UserWarning: 'early_stopping_rounds' argument is deprecated and will be removed in a future release of LightGBM. Pass 'early_stopping()' callback via 'callbacks' argument instead.\n",
      "  _log_warning(\"'early_stopping_rounds' argument is deprecated and will be removed in a future release of LightGBM. \"\n",
      "/home/t2user2/.conda/envs/pybook/lib/python3.10/site-packages/lightgbm/sklearn.py:736: UserWarning: 'verbose' argument is deprecated and will be removed in a future release of LightGBM. Pass 'log_evaluation()' callback via 'callbacks' argument instead.\n",
      "  _log_warning(\"'verbose' argument is deprecated and will be removed in a future release of LightGBM. \"\n",
      "[I 2023-07-30 23:40:13,170] Trial 40 finished with value: 20821.015786125754 and parameters: {'max_depth': 9, 'learning_rate': 0.005046875968987154, 'n_estimators': 2484, 'min_child_samples': 55, 'subsample': 0.6522069706371353}. Best is trial 40 with value: 20821.015786125754.\n",
      "/home/t2user2/.conda/envs/pybook/lib/python3.10/site-packages/lightgbm/sklearn.py:726: UserWarning: 'early_stopping_rounds' argument is deprecated and will be removed in a future release of LightGBM. Pass 'early_stopping()' callback via 'callbacks' argument instead.\n",
      "  _log_warning(\"'early_stopping_rounds' argument is deprecated and will be removed in a future release of LightGBM. \"\n",
      "/home/t2user2/.conda/envs/pybook/lib/python3.10/site-packages/lightgbm/sklearn.py:736: UserWarning: 'verbose' argument is deprecated and will be removed in a future release of LightGBM. Pass 'log_evaluation()' callback via 'callbacks' argument instead.\n",
      "  _log_warning(\"'verbose' argument is deprecated and will be removed in a future release of LightGBM. \"\n",
      "[I 2023-07-30 23:40:13,988] Trial 41 finished with value: 20932.283305714365 and parameters: {'max_depth': 9, 'learning_rate': 0.005606278413396223, 'n_estimators': 2780, 'min_child_samples': 55, 'subsample': 0.6470400292402584}. Best is trial 40 with value: 20821.015786125754.\n"
     ]
    },
    {
     "name": "stderr",
     "output_type": "stream",
     "text": [
      "/home/t2user2/.conda/envs/pybook/lib/python3.10/site-packages/lightgbm/sklearn.py:726: UserWarning: 'early_stopping_rounds' argument is deprecated and will be removed in a future release of LightGBM. Pass 'early_stopping()' callback via 'callbacks' argument instead.\n",
      "  _log_warning(\"'early_stopping_rounds' argument is deprecated and will be removed in a future release of LightGBM. \"\n",
      "/home/t2user2/.conda/envs/pybook/lib/python3.10/site-packages/lightgbm/sklearn.py:736: UserWarning: 'verbose' argument is deprecated and will be removed in a future release of LightGBM. Pass 'log_evaluation()' callback via 'callbacks' argument instead.\n",
      "  _log_warning(\"'verbose' argument is deprecated and will be removed in a future release of LightGBM. \"\n",
      "[I 2023-07-30 23:40:14,903] Trial 42 finished with value: 20692.730491687395 and parameters: {'max_depth': 10, 'learning_rate': 0.005334888615155616, 'n_estimators': 2516, 'min_child_samples': 54, 'subsample': 0.6252175454563121}. Best is trial 42 with value: 20692.730491687395.\n",
      "/home/t2user2/.conda/envs/pybook/lib/python3.10/site-packages/lightgbm/sklearn.py:726: UserWarning: 'early_stopping_rounds' argument is deprecated and will be removed in a future release of LightGBM. Pass 'early_stopping()' callback via 'callbacks' argument instead.\n",
      "  _log_warning(\"'early_stopping_rounds' argument is deprecated and will be removed in a future release of LightGBM. \"\n",
      "/home/t2user2/.conda/envs/pybook/lib/python3.10/site-packages/lightgbm/sklearn.py:736: UserWarning: 'verbose' argument is deprecated and will be removed in a future release of LightGBM. Pass 'log_evaluation()' callback via 'callbacks' argument instead.\n",
      "  _log_warning(\"'verbose' argument is deprecated and will be removed in a future release of LightGBM. \"\n",
      "[I 2023-07-30 23:40:16,028] Trial 43 finished with value: 24936.497842130742 and parameters: {'max_depth': 10, 'learning_rate': 0.0010571449002034104, 'n_estimators': 2473, 'min_child_samples': 43, 'subsample': 0.6155180536165337}. Best is trial 42 with value: 20692.730491687395.\n",
      "/home/t2user2/.conda/envs/pybook/lib/python3.10/site-packages/lightgbm/sklearn.py:726: UserWarning: 'early_stopping_rounds' argument is deprecated and will be removed in a future release of LightGBM. Pass 'early_stopping()' callback via 'callbacks' argument instead.\n",
      "  _log_warning(\"'early_stopping_rounds' argument is deprecated and will be removed in a future release of LightGBM. \"\n",
      "/home/t2user2/.conda/envs/pybook/lib/python3.10/site-packages/lightgbm/sklearn.py:736: UserWarning: 'verbose' argument is deprecated and will be removed in a future release of LightGBM. Pass 'log_evaluation()' callback via 'callbacks' argument instead.\n",
      "  _log_warning(\"'verbose' argument is deprecated and will be removed in a future release of LightGBM. \"\n",
      "[I 2023-07-30 23:40:17,158] Trial 44 finished with value: 21386.072239661145 and parameters: {'max_depth': 10, 'learning_rate': 0.005696240470526119, 'n_estimators': 2751, 'min_child_samples': 63, 'subsample': 0.6382841302849058}. Best is trial 42 with value: 20692.730491687395.\n",
      "/home/t2user2/.conda/envs/pybook/lib/python3.10/site-packages/lightgbm/sklearn.py:726: UserWarning: 'early_stopping_rounds' argument is deprecated and will be removed in a future release of LightGBM. Pass 'early_stopping()' callback via 'callbacks' argument instead.\n",
      "  _log_warning(\"'early_stopping_rounds' argument is deprecated and will be removed in a future release of LightGBM. \"\n",
      "/home/t2user2/.conda/envs/pybook/lib/python3.10/site-packages/lightgbm/sklearn.py:736: UserWarning: 'verbose' argument is deprecated and will be removed in a future release of LightGBM. Pass 'log_evaluation()' callback via 'callbacks' argument instead.\n",
      "  _log_warning(\"'verbose' argument is deprecated and will be removed in a future release of LightGBM. \"\n",
      "[I 2023-07-30 23:40:18,165] Trial 45 finished with value: 20623.07541303339 and parameters: {'max_depth': 11, 'learning_rate': 0.005350884020915661, 'n_estimators': 2507, 'min_child_samples': 54, 'subsample': 0.5812789238433071}. Best is trial 45 with value: 20623.07541303339.\n",
      "/home/t2user2/.conda/envs/pybook/lib/python3.10/site-packages/lightgbm/sklearn.py:726: UserWarning: 'early_stopping_rounds' argument is deprecated and will be removed in a future release of LightGBM. Pass 'early_stopping()' callback via 'callbacks' argument instead.\n",
      "  _log_warning(\"'early_stopping_rounds' argument is deprecated and will be removed in a future release of LightGBM. \"\n",
      "/home/t2user2/.conda/envs/pybook/lib/python3.10/site-packages/lightgbm/sklearn.py:736: UserWarning: 'verbose' argument is deprecated and will be removed in a future release of LightGBM. Pass 'log_evaluation()' callback via 'callbacks' argument instead.\n",
      "  _log_warning(\"'verbose' argument is deprecated and will be removed in a future release of LightGBM. \"\n",
      "[I 2023-07-30 23:40:19,359] Trial 46 finished with value: 24797.26383983587 and parameters: {'max_depth': 11, 'learning_rate': 0.0011886133712346299, 'n_estimators': 2490, 'min_child_samples': 54, 'subsample': 0.5808298320964994}. Best is trial 45 with value: 20623.07541303339.\n",
      "/home/t2user2/.conda/envs/pybook/lib/python3.10/site-packages/lightgbm/sklearn.py:726: UserWarning: 'early_stopping_rounds' argument is deprecated and will be removed in a future release of LightGBM. Pass 'early_stopping()' callback via 'callbacks' argument instead.\n",
      "  _log_warning(\"'early_stopping_rounds' argument is deprecated and will be removed in a future release of LightGBM. \"\n",
      "/home/t2user2/.conda/envs/pybook/lib/python3.10/site-packages/lightgbm/sklearn.py:736: UserWarning: 'verbose' argument is deprecated and will be removed in a future release of LightGBM. Pass 'log_evaluation()' callback via 'callbacks' argument instead.\n",
      "  _log_warning(\"'verbose' argument is deprecated and will be removed in a future release of LightGBM. \"\n",
      "[I 2023-07-30 23:40:20,686] Trial 47 finished with value: 19159.00032451405 and parameters: {'max_depth': 12, 'learning_rate': 0.00559132517633971, 'n_estimators': 2671, 'min_child_samples': 40, 'subsample': 0.5696269155896458}. Best is trial 47 with value: 19159.00032451405.\n",
      "/home/t2user2/.conda/envs/pybook/lib/python3.10/site-packages/lightgbm/sklearn.py:726: UserWarning: 'early_stopping_rounds' argument is deprecated and will be removed in a future release of LightGBM. Pass 'early_stopping()' callback via 'callbacks' argument instead.\n",
      "  _log_warning(\"'early_stopping_rounds' argument is deprecated and will be removed in a future release of LightGBM. \"\n",
      "/home/t2user2/.conda/envs/pybook/lib/python3.10/site-packages/lightgbm/sklearn.py:736: UserWarning: 'verbose' argument is deprecated and will be removed in a future release of LightGBM. Pass 'log_evaluation()' callback via 'callbacks' argument instead.\n",
      "  _log_warning(\"'verbose' argument is deprecated and will be removed in a future release of LightGBM. \"\n",
      "[I 2023-07-30 23:40:21,343] Trial 48 finished with value: 19097.952181319342 and parameters: {'max_depth': 13, 'learning_rate': 0.009934320766298186, 'n_estimators': 2655, 'min_child_samples': 39, 'subsample': 0.5697634474210309}. Best is trial 48 with value: 19097.952181319342.\n",
      "/home/t2user2/.conda/envs/pybook/lib/python3.10/site-packages/lightgbm/sklearn.py:726: UserWarning: 'early_stopping_rounds' argument is deprecated and will be removed in a future release of LightGBM. Pass 'early_stopping()' callback via 'callbacks' argument instead.\n",
      "  _log_warning(\"'early_stopping_rounds' argument is deprecated and will be removed in a future release of LightGBM. \"\n",
      "/home/t2user2/.conda/envs/pybook/lib/python3.10/site-packages/lightgbm/sklearn.py:736: UserWarning: 'verbose' argument is deprecated and will be removed in a future release of LightGBM. Pass 'log_evaluation()' callback via 'callbacks' argument instead.\n",
      "  _log_warning(\"'verbose' argument is deprecated and will be removed in a future release of LightGBM. \"\n",
      "[I 2023-07-30 23:40:22,435] Trial 49 finished with value: 18643.5297963763 and parameters: {'max_depth': 13, 'learning_rate': 0.007527487091736906, 'n_estimators': 2374, 'min_child_samples': 29, 'subsample': 0.545855744570341}. Best is trial 49 with value: 18643.5297963763.\n",
      "/home/t2user2/.conda/envs/pybook/lib/python3.10/site-packages/lightgbm/sklearn.py:726: UserWarning: 'early_stopping_rounds' argument is deprecated and will be removed in a future release of LightGBM. Pass 'early_stopping()' callback via 'callbacks' argument instead.\n",
      "  _log_warning(\"'early_stopping_rounds' argument is deprecated and will be removed in a future release of LightGBM. \"\n",
      "/home/t2user2/.conda/envs/pybook/lib/python3.10/site-packages/lightgbm/sklearn.py:736: UserWarning: 'verbose' argument is deprecated and will be removed in a future release of LightGBM. Pass 'log_evaluation()' callback via 'callbacks' argument instead.\n",
      "  _log_warning(\"'verbose' argument is deprecated and will be removed in a future release of LightGBM. \"\n"
     ]
    },
    {
     "name": "stderr",
     "output_type": "stream",
     "text": [
      "[I 2023-07-30 23:40:22,969] Trial 50 finished with value: 19270.15889204049 and parameters: {'max_depth': 14, 'learning_rate': 0.00807750531718511, 'n_estimators': 2362, 'min_child_samples': 26, 'subsample': 0.5372463839179221}. Best is trial 49 with value: 18643.5297963763.\n",
      "/home/t2user2/.conda/envs/pybook/lib/python3.10/site-packages/lightgbm/sklearn.py:726: UserWarning: 'early_stopping_rounds' argument is deprecated and will be removed in a future release of LightGBM. Pass 'early_stopping()' callback via 'callbacks' argument instead.\n",
      "  _log_warning(\"'early_stopping_rounds' argument is deprecated and will be removed in a future release of LightGBM. \"\n",
      "/home/t2user2/.conda/envs/pybook/lib/python3.10/site-packages/lightgbm/sklearn.py:736: UserWarning: 'verbose' argument is deprecated and will be removed in a future release of LightGBM. Pass 'log_evaluation()' callback via 'callbacks' argument instead.\n",
      "  _log_warning(\"'verbose' argument is deprecated and will be removed in a future release of LightGBM. \"\n",
      "[I 2023-07-30 23:40:24,202] Trial 51 finished with value: 18546.77615110825 and parameters: {'max_depth': 14, 'learning_rate': 0.007080796314762973, 'n_estimators': 2369, 'min_child_samples': 27, 'subsample': 0.5353752622674622}. Best is trial 51 with value: 18546.77615110825.\n",
      "/home/t2user2/.conda/envs/pybook/lib/python3.10/site-packages/lightgbm/sklearn.py:726: UserWarning: 'early_stopping_rounds' argument is deprecated and will be removed in a future release of LightGBM. Pass 'early_stopping()' callback via 'callbacks' argument instead.\n",
      "  _log_warning(\"'early_stopping_rounds' argument is deprecated and will be removed in a future release of LightGBM. \"\n",
      "/home/t2user2/.conda/envs/pybook/lib/python3.10/site-packages/lightgbm/sklearn.py:736: UserWarning: 'verbose' argument is deprecated and will be removed in a future release of LightGBM. Pass 'log_evaluation()' callback via 'callbacks' argument instead.\n",
      "  _log_warning(\"'verbose' argument is deprecated and will be removed in a future release of LightGBM. \"\n",
      "[I 2023-07-30 23:40:24,922] Trial 52 finished with value: 19561.78479037359 and parameters: {'max_depth': 14, 'learning_rate': 0.008951421990093553, 'n_estimators': 2315, 'min_child_samples': 25, 'subsample': 0.5330364097261481}. Best is trial 51 with value: 18546.77615110825.\n",
      "/home/t2user2/.conda/envs/pybook/lib/python3.10/site-packages/lightgbm/sklearn.py:726: UserWarning: 'early_stopping_rounds' argument is deprecated and will be removed in a future release of LightGBM. Pass 'early_stopping()' callback via 'callbacks' argument instead.\n",
      "  _log_warning(\"'early_stopping_rounds' argument is deprecated and will be removed in a future release of LightGBM. \"\n",
      "/home/t2user2/.conda/envs/pybook/lib/python3.10/site-packages/lightgbm/sklearn.py:736: UserWarning: 'verbose' argument is deprecated and will be removed in a future release of LightGBM. Pass 'log_evaluation()' callback via 'callbacks' argument instead.\n",
      "  _log_warning(\"'verbose' argument is deprecated and will be removed in a future release of LightGBM. \"\n",
      "[I 2023-07-30 23:40:25,920] Trial 53 finished with value: 18493.68179157178 and parameters: {'max_depth': 14, 'learning_rate': 0.008332517991773918, 'n_estimators': 2303, 'min_child_samples': 22, 'subsample': 0.544109674348013}. Best is trial 53 with value: 18493.68179157178.\n",
      "/home/t2user2/.conda/envs/pybook/lib/python3.10/site-packages/lightgbm/sklearn.py:726: UserWarning: 'early_stopping_rounds' argument is deprecated and will be removed in a future release of LightGBM. Pass 'early_stopping()' callback via 'callbacks' argument instead.\n",
      "  _log_warning(\"'early_stopping_rounds' argument is deprecated and will be removed in a future release of LightGBM. \"\n",
      "/home/t2user2/.conda/envs/pybook/lib/python3.10/site-packages/lightgbm/sklearn.py:736: UserWarning: 'verbose' argument is deprecated and will be removed in a future release of LightGBM. Pass 'log_evaluation()' callback via 'callbacks' argument instead.\n",
      "  _log_warning(\"'verbose' argument is deprecated and will be removed in a future release of LightGBM. \"\n",
      "[I 2023-07-30 23:40:26,366] Trial 54 finished with value: 19887.223139829897 and parameters: {'max_depth': 13, 'learning_rate': 0.00980317969722282, 'n_estimators': 2268, 'min_child_samples': 13, 'subsample': 0.531681141491007}. Best is trial 53 with value: 18493.68179157178.\n",
      "/home/t2user2/.conda/envs/pybook/lib/python3.10/site-packages/lightgbm/sklearn.py:726: UserWarning: 'early_stopping_rounds' argument is deprecated and will be removed in a future release of LightGBM. Pass 'early_stopping()' callback via 'callbacks' argument instead.\n",
      "  _log_warning(\"'early_stopping_rounds' argument is deprecated and will be removed in a future release of LightGBM. \"\n",
      "/home/t2user2/.conda/envs/pybook/lib/python3.10/site-packages/lightgbm/sklearn.py:736: UserWarning: 'verbose' argument is deprecated and will be removed in a future release of LightGBM. Pass 'log_evaluation()' callback via 'callbacks' argument instead.\n",
      "  _log_warning(\"'verbose' argument is deprecated and will be removed in a future release of LightGBM. \"\n",
      "[I 2023-07-30 23:40:27,785] Trial 55 finished with value: 22174.345063185927 and parameters: {'max_depth': 14, 'learning_rate': 0.0013452916580806928, 'n_estimators': 2613, 'min_child_samples': 30, 'subsample': 0.5088844040331325}. Best is trial 53 with value: 18493.68179157178.\n",
      "/home/t2user2/.conda/envs/pybook/lib/python3.10/site-packages/lightgbm/sklearn.py:726: UserWarning: 'early_stopping_rounds' argument is deprecated and will be removed in a future release of LightGBM. Pass 'early_stopping()' callback via 'callbacks' argument instead.\n",
      "  _log_warning(\"'early_stopping_rounds' argument is deprecated and will be removed in a future release of LightGBM. \"\n",
      "/home/t2user2/.conda/envs/pybook/lib/python3.10/site-packages/lightgbm/sklearn.py:736: UserWarning: 'verbose' argument is deprecated and will be removed in a future release of LightGBM. Pass 'log_evaluation()' callback via 'callbacks' argument instead.\n",
      "  _log_warning(\"'verbose' argument is deprecated and will be removed in a future release of LightGBM. \"\n",
      "[I 2023-07-30 23:40:28,230] Trial 56 finished with value: 19378.683010141533 and parameters: {'max_depth': 15, 'learning_rate': 0.009489988978959809, 'n_estimators': 2347, 'min_child_samples': 17, 'subsample': 0.49221399082937867}. Best is trial 53 with value: 18493.68179157178.\n",
      "/home/t2user2/.conda/envs/pybook/lib/python3.10/site-packages/lightgbm/sklearn.py:726: UserWarning: 'early_stopping_rounds' argument is deprecated and will be removed in a future release of LightGBM. Pass 'early_stopping()' callback via 'callbacks' argument instead.\n",
      "  _log_warning(\"'early_stopping_rounds' argument is deprecated and will be removed in a future release of LightGBM. \"\n",
      "/home/t2user2/.conda/envs/pybook/lib/python3.10/site-packages/lightgbm/sklearn.py:736: UserWarning: 'verbose' argument is deprecated and will be removed in a future release of LightGBM. Pass 'log_evaluation()' callback via 'callbacks' argument instead.\n",
      "  _log_warning(\"'verbose' argument is deprecated and will be removed in a future release of LightGBM. \"\n",
      "[I 2023-07-30 23:40:29,504] Trial 57 finished with value: 22704.630395796128 and parameters: {'max_depth': 13, 'learning_rate': 0.001287968286832257, 'n_estimators': 2629, 'min_child_samples': 39, 'subsample': 0.562534889693591}. Best is trial 53 with value: 18493.68179157178.\n",
      "/home/t2user2/.conda/envs/pybook/lib/python3.10/site-packages/lightgbm/sklearn.py:726: UserWarning: 'early_stopping_rounds' argument is deprecated and will be removed in a future release of LightGBM. Pass 'early_stopping()' callback via 'callbacks' argument instead.\n",
      "  _log_warning(\"'early_stopping_rounds' argument is deprecated and will be removed in a future release of LightGBM. \"\n",
      "/home/t2user2/.conda/envs/pybook/lib/python3.10/site-packages/lightgbm/sklearn.py:736: UserWarning: 'verbose' argument is deprecated and will be removed in a future release of LightGBM. Pass 'log_evaluation()' callback via 'callbacks' argument instead.\n",
      "  _log_warning(\"'verbose' argument is deprecated and will be removed in a future release of LightGBM. \"\n",
      "[I 2023-07-30 23:40:30,431] Trial 58 finished with value: 18845.28778907448 and parameters: {'max_depth': 14, 'learning_rate': 0.006918665723444164, 'n_estimators': 2135, 'min_child_samples': 29, 'subsample': 0.6006764106128958}. Best is trial 53 with value: 18493.68179157178.\n"
     ]
    },
    {
     "name": "stderr",
     "output_type": "stream",
     "text": [
      "/home/t2user2/.conda/envs/pybook/lib/python3.10/site-packages/lightgbm/sklearn.py:726: UserWarning: 'early_stopping_rounds' argument is deprecated and will be removed in a future release of LightGBM. Pass 'early_stopping()' callback via 'callbacks' argument instead.\n",
      "  _log_warning(\"'early_stopping_rounds' argument is deprecated and will be removed in a future release of LightGBM. \"\n",
      "/home/t2user2/.conda/envs/pybook/lib/python3.10/site-packages/lightgbm/sklearn.py:736: UserWarning: 'verbose' argument is deprecated and will be removed in a future release of LightGBM. Pass 'log_evaluation()' callback via 'callbacks' argument instead.\n",
      "  _log_warning(\"'verbose' argument is deprecated and will be removed in a future release of LightGBM. \"\n",
      "[I 2023-07-30 23:40:31,456] Trial 59 finished with value: 33045.183766697184 and parameters: {'max_depth': 13, 'learning_rate': 0.0007827493660483476, 'n_estimators': 2058, 'min_child_samples': 31, 'subsample': 0.6015646334140761}. Best is trial 53 with value: 18493.68179157178.\n",
      "/home/t2user2/.conda/envs/pybook/lib/python3.10/site-packages/lightgbm/sklearn.py:726: UserWarning: 'early_stopping_rounds' argument is deprecated and will be removed in a future release of LightGBM. Pass 'early_stopping()' callback via 'callbacks' argument instead.\n",
      "  _log_warning(\"'early_stopping_rounds' argument is deprecated and will be removed in a future release of LightGBM. \"\n",
      "/home/t2user2/.conda/envs/pybook/lib/python3.10/site-packages/lightgbm/sklearn.py:736: UserWarning: 'verbose' argument is deprecated and will be removed in a future release of LightGBM. Pass 'log_evaluation()' callback via 'callbacks' argument instead.\n",
      "  _log_warning(\"'verbose' argument is deprecated and will be removed in a future release of LightGBM. \"\n",
      "[I 2023-07-30 23:40:32,996] Trial 60 finished with value: 44471.56893631601 and parameters: {'max_depth': 12, 'learning_rate': 0.0004003688898611913, 'n_estimators': 2809, 'min_child_samples': 19, 'subsample': 0.5621969647631189}. Best is trial 53 with value: 18493.68179157178.\n",
      "/home/t2user2/.conda/envs/pybook/lib/python3.10/site-packages/lightgbm/sklearn.py:726: UserWarning: 'early_stopping_rounds' argument is deprecated and will be removed in a future release of LightGBM. Pass 'early_stopping()' callback via 'callbacks' argument instead.\n",
      "  _log_warning(\"'early_stopping_rounds' argument is deprecated and will be removed in a future release of LightGBM. \"\n",
      "/home/t2user2/.conda/envs/pybook/lib/python3.10/site-packages/lightgbm/sklearn.py:736: UserWarning: 'verbose' argument is deprecated and will be removed in a future release of LightGBM. Pass 'log_evaluation()' callback via 'callbacks' argument instead.\n",
      "  _log_warning(\"'verbose' argument is deprecated and will be removed in a future release of LightGBM. \"\n",
      "[I 2023-07-30 23:40:33,984] Trial 61 finished with value: 18989.833533946672 and parameters: {'max_depth': 14, 'learning_rate': 0.007117137573270619, 'n_estimators': 2383, 'min_child_samples': 26, 'subsample': 0.5448062251521955}. Best is trial 53 with value: 18493.68179157178.\n",
      "/home/t2user2/.conda/envs/pybook/lib/python3.10/site-packages/lightgbm/sklearn.py:726: UserWarning: 'early_stopping_rounds' argument is deprecated and will be removed in a future release of LightGBM. Pass 'early_stopping()' callback via 'callbacks' argument instead.\n",
      "  _log_warning(\"'early_stopping_rounds' argument is deprecated and will be removed in a future release of LightGBM. \"\n",
      "/home/t2user2/.conda/envs/pybook/lib/python3.10/site-packages/lightgbm/sklearn.py:736: UserWarning: 'verbose' argument is deprecated and will be removed in a future release of LightGBM. Pass 'log_evaluation()' callback via 'callbacks' argument instead.\n",
      "  _log_warning(\"'verbose' argument is deprecated and will be removed in a future release of LightGBM. \"\n",
      "[I 2023-07-30 23:40:35,092] Trial 62 finished with value: 19102.39463856414 and parameters: {'max_depth': 15, 'learning_rate': 0.006613268158536911, 'n_estimators': 2181, 'min_child_samples': 36, 'subsample': 0.5912600544613585}. Best is trial 53 with value: 18493.68179157178.\n",
      "/home/t2user2/.conda/envs/pybook/lib/python3.10/site-packages/lightgbm/sklearn.py:726: UserWarning: 'early_stopping_rounds' argument is deprecated and will be removed in a future release of LightGBM. Pass 'early_stopping()' callback via 'callbacks' argument instead.\n",
      "  _log_warning(\"'early_stopping_rounds' argument is deprecated and will be removed in a future release of LightGBM. \"\n",
      "/home/t2user2/.conda/envs/pybook/lib/python3.10/site-packages/lightgbm/sklearn.py:736: UserWarning: 'verbose' argument is deprecated and will be removed in a future release of LightGBM. Pass 'log_evaluation()' callback via 'callbacks' argument instead.\n",
      "  _log_warning(\"'verbose' argument is deprecated and will be removed in a future release of LightGBM. \"\n",
      "[I 2023-07-30 23:40:36,001] Trial 63 finished with value: 20266.835147079615 and parameters: {'max_depth': 15, 'learning_rate': 0.0025703533403528215, 'n_estimators': 2210, 'min_child_samples': 6, 'subsample': 0.6003348468728487}. Best is trial 53 with value: 18493.68179157178.\n",
      "/home/t2user2/.conda/envs/pybook/lib/python3.10/site-packages/lightgbm/sklearn.py:726: UserWarning: 'early_stopping_rounds' argument is deprecated and will be removed in a future release of LightGBM. Pass 'early_stopping()' callback via 'callbacks' argument instead.\n",
      "  _log_warning(\"'early_stopping_rounds' argument is deprecated and will be removed in a future release of LightGBM. \"\n",
      "/home/t2user2/.conda/envs/pybook/lib/python3.10/site-packages/lightgbm/sklearn.py:736: UserWarning: 'verbose' argument is deprecated and will be removed in a future release of LightGBM. Pass 'log_evaluation()' callback via 'callbacks' argument instead.\n",
      "  _log_warning(\"'verbose' argument is deprecated and will be removed in a future release of LightGBM. \"\n",
      "[I 2023-07-30 23:40:36,921] Trial 64 finished with value: 23517.54545508022 and parameters: {'max_depth': 14, 'learning_rate': 0.0016681045076313017, 'n_estimators': 1947, 'min_child_samples': 36, 'subsample': 0.5435448332442998}. Best is trial 53 with value: 18493.68179157178.\n",
      "/home/t2user2/.conda/envs/pybook/lib/python3.10/site-packages/lightgbm/sklearn.py:726: UserWarning: 'early_stopping_rounds' argument is deprecated and will be removed in a future release of LightGBM. Pass 'early_stopping()' callback via 'callbacks' argument instead.\n",
      "  _log_warning(\"'early_stopping_rounds' argument is deprecated and will be removed in a future release of LightGBM. \"\n",
      "/home/t2user2/.conda/envs/pybook/lib/python3.10/site-packages/lightgbm/sklearn.py:736: UserWarning: 'verbose' argument is deprecated and will be removed in a future release of LightGBM. Pass 'log_evaluation()' callback via 'callbacks' argument instead.\n",
      "  _log_warning(\"'verbose' argument is deprecated and will be removed in a future release of LightGBM. \"\n",
      "[I 2023-07-30 23:40:37,807] Trial 65 finished with value: 18794.31922283277 and parameters: {'max_depth': 15, 'learning_rate': 0.007757625729381035, 'n_estimators': 2175, 'min_child_samples': 28, 'subsample': 0.5877389846158747}. Best is trial 53 with value: 18493.68179157178.\n",
      "/home/t2user2/.conda/envs/pybook/lib/python3.10/site-packages/lightgbm/sklearn.py:726: UserWarning: 'early_stopping_rounds' argument is deprecated and will be removed in a future release of LightGBM. Pass 'early_stopping()' callback via 'callbacks' argument instead.\n",
      "  _log_warning(\"'early_stopping_rounds' argument is deprecated and will be removed in a future release of LightGBM. \"\n",
      "/home/t2user2/.conda/envs/pybook/lib/python3.10/site-packages/lightgbm/sklearn.py:736: UserWarning: 'verbose' argument is deprecated and will be removed in a future release of LightGBM. Pass 'log_evaluation()' callback via 'callbacks' argument instead.\n",
      "  _log_warning(\"'verbose' argument is deprecated and will be removed in a future release of LightGBM. \"\n",
      "[I 2023-07-30 23:40:38,943] Trial 66 finished with value: 19385.02135021654 and parameters: {'max_depth': 14, 'learning_rate': 0.0034752731496463522, 'n_estimators': 2404, 'min_child_samples': 28, 'subsample': 0.5511232259256894}. Best is trial 53 with value: 18493.68179157178.\n",
      "/home/t2user2/.conda/envs/pybook/lib/python3.10/site-packages/lightgbm/sklearn.py:726: UserWarning: 'early_stopping_rounds' argument is deprecated and will be removed in a future release of LightGBM. Pass 'early_stopping()' callback via 'callbacks' argument instead.\n",
      "  _log_warning(\"'early_stopping_rounds' argument is deprecated and will be removed in a future release of LightGBM. \"\n",
      "/home/t2user2/.conda/envs/pybook/lib/python3.10/site-packages/lightgbm/sklearn.py:736: UserWarning: 'verbose' argument is deprecated and will be removed in a future release of LightGBM. Pass 'log_evaluation()' callback via 'callbacks' argument instead.\n",
      "  _log_warning(\"'verbose' argument is deprecated and will be removed in a future release of LightGBM. \"\n"
     ]
    },
    {
     "name": "stderr",
     "output_type": "stream",
     "text": [
      "[I 2023-07-30 23:40:39,619] Trial 67 finished with value: 19419.10752771994 and parameters: {'max_depth': 15, 'learning_rate': 0.0071272114626856715, 'n_estimators': 1813, 'min_child_samples': 21, 'subsample': 0.5110530951613568}. Best is trial 53 with value: 18493.68179157178.\n",
      "/home/t2user2/.conda/envs/pybook/lib/python3.10/site-packages/lightgbm/sklearn.py:726: UserWarning: 'early_stopping_rounds' argument is deprecated and will be removed in a future release of LightGBM. Pass 'early_stopping()' callback via 'callbacks' argument instead.\n",
      "  _log_warning(\"'early_stopping_rounds' argument is deprecated and will be removed in a future release of LightGBM. \"\n",
      "/home/t2user2/.conda/envs/pybook/lib/python3.10/site-packages/lightgbm/sklearn.py:736: UserWarning: 'verbose' argument is deprecated and will be removed in a future release of LightGBM. Pass 'log_evaluation()' callback via 'callbacks' argument instead.\n",
      "  _log_warning(\"'verbose' argument is deprecated and will be removed in a future release of LightGBM. \"\n",
      "[I 2023-07-30 23:40:40,754] Trial 68 finished with value: 22380.09284969818 and parameters: {'max_depth': 12, 'learning_rate': 0.001737946536481709, 'n_estimators': 2078, 'min_child_samples': 15, 'subsample': 0.5645913145911385}. Best is trial 53 with value: 18493.68179157178.\n",
      "/home/t2user2/.conda/envs/pybook/lib/python3.10/site-packages/lightgbm/sklearn.py:726: UserWarning: 'early_stopping_rounds' argument is deprecated and will be removed in a future release of LightGBM. Pass 'early_stopping()' callback via 'callbacks' argument instead.\n",
      "  _log_warning(\"'early_stopping_rounds' argument is deprecated and will be removed in a future release of LightGBM. \"\n",
      "/home/t2user2/.conda/envs/pybook/lib/python3.10/site-packages/lightgbm/sklearn.py:736: UserWarning: 'verbose' argument is deprecated and will be removed in a future release of LightGBM. Pass 'log_evaluation()' callback via 'callbacks' argument instead.\n",
      "  _log_warning(\"'verbose' argument is deprecated and will be removed in a future release of LightGBM. \"\n",
      "[I 2023-07-30 23:40:41,338] Trial 69 finished with value: 19622.719797631213 and parameters: {'max_depth': 13, 'learning_rate': 0.009850936456535255, 'n_estimators': 2606, 'min_child_samples': 23, 'subsample': 0.6209963205661317}. Best is trial 53 with value: 18493.68179157178.\n",
      "/home/t2user2/.conda/envs/pybook/lib/python3.10/site-packages/lightgbm/sklearn.py:726: UserWarning: 'early_stopping_rounds' argument is deprecated and will be removed in a future release of LightGBM. Pass 'early_stopping()' callback via 'callbacks' argument instead.\n",
      "  _log_warning(\"'early_stopping_rounds' argument is deprecated and will be removed in a future release of LightGBM. \"\n",
      "/home/t2user2/.conda/envs/pybook/lib/python3.10/site-packages/lightgbm/sklearn.py:736: UserWarning: 'verbose' argument is deprecated and will be removed in a future release of LightGBM. Pass 'log_evaluation()' callback via 'callbacks' argument instead.\n",
      "  _log_warning(\"'verbose' argument is deprecated and will be removed in a future release of LightGBM. \"\n",
      "[I 2023-07-30 23:40:42,423] Trial 70 finished with value: 20042.545559919305 and parameters: {'max_depth': 14, 'learning_rate': 0.0031646232730239672, 'n_estimators': 1904, 'min_child_samples': 33, 'subsample': 0.5502640764956144}. Best is trial 53 with value: 18493.68179157178.\n",
      "/home/t2user2/.conda/envs/pybook/lib/python3.10/site-packages/lightgbm/sklearn.py:726: UserWarning: 'early_stopping_rounds' argument is deprecated and will be removed in a future release of LightGBM. Pass 'early_stopping()' callback via 'callbacks' argument instead.\n",
      "  _log_warning(\"'early_stopping_rounds' argument is deprecated and will be removed in a future release of LightGBM. \"\n",
      "/home/t2user2/.conda/envs/pybook/lib/python3.10/site-packages/lightgbm/sklearn.py:736: UserWarning: 'verbose' argument is deprecated and will be removed in a future release of LightGBM. Pass 'log_evaluation()' callback via 'callbacks' argument instead.\n",
      "  _log_warning(\"'verbose' argument is deprecated and will be removed in a future release of LightGBM. \"\n",
      "[I 2023-07-30 23:40:43,391] Trial 71 finished with value: 19069.143900869145 and parameters: {'max_depth': 15, 'learning_rate': 0.0065395435181263666, 'n_estimators': 2175, 'min_child_samples': 35, 'subsample': 0.5873776562150494}. Best is trial 53 with value: 18493.68179157178.\n",
      "/home/t2user2/.conda/envs/pybook/lib/python3.10/site-packages/lightgbm/sklearn.py:726: UserWarning: 'early_stopping_rounds' argument is deprecated and will be removed in a future release of LightGBM. Pass 'early_stopping()' callback via 'callbacks' argument instead.\n",
      "  _log_warning(\"'early_stopping_rounds' argument is deprecated and will be removed in a future release of LightGBM. \"\n",
      "/home/t2user2/.conda/envs/pybook/lib/python3.10/site-packages/lightgbm/sklearn.py:736: UserWarning: 'verbose' argument is deprecated and will be removed in a future release of LightGBM. Pass 'log_evaluation()' callback via 'callbacks' argument instead.\n",
      "  _log_warning(\"'verbose' argument is deprecated and will be removed in a future release of LightGBM. \"\n",
      "[I 2023-07-30 23:40:44,492] Trial 72 finished with value: 18780.799555181544 and parameters: {'max_depth': 15, 'learning_rate': 0.00664556551494453, 'n_estimators': 2177, 'min_child_samples': 29, 'subsample': 0.5829782962606418}. Best is trial 53 with value: 18493.68179157178.\n",
      "/home/t2user2/.conda/envs/pybook/lib/python3.10/site-packages/lightgbm/sklearn.py:726: UserWarning: 'early_stopping_rounds' argument is deprecated and will be removed in a future release of LightGBM. Pass 'early_stopping()' callback via 'callbacks' argument instead.\n",
      "  _log_warning(\"'early_stopping_rounds' argument is deprecated and will be removed in a future release of LightGBM. \"\n",
      "/home/t2user2/.conda/envs/pybook/lib/python3.10/site-packages/lightgbm/sklearn.py:736: UserWarning: 'verbose' argument is deprecated and will be removed in a future release of LightGBM. Pass 'log_evaluation()' callback via 'callbacks' argument instead.\n",
      "  _log_warning(\"'verbose' argument is deprecated and will be removed in a future release of LightGBM. \"\n",
      "[I 2023-07-30 23:40:45,520] Trial 73 finished with value: 20216.73985081451 and parameters: {'max_depth': 15, 'learning_rate': 0.002546389733826081, 'n_estimators': 2166, 'min_child_samples': 28, 'subsample': 0.6089808425803386}. Best is trial 53 with value: 18493.68179157178.\n",
      "/home/t2user2/.conda/envs/pybook/lib/python3.10/site-packages/lightgbm/sklearn.py:726: UserWarning: 'early_stopping_rounds' argument is deprecated and will be removed in a future release of LightGBM. Pass 'early_stopping()' callback via 'callbacks' argument instead.\n",
      "  _log_warning(\"'early_stopping_rounds' argument is deprecated and will be removed in a future release of LightGBM. \"\n",
      "/home/t2user2/.conda/envs/pybook/lib/python3.10/site-packages/lightgbm/sklearn.py:736: UserWarning: 'verbose' argument is deprecated and will be removed in a future release of LightGBM. Pass 'log_evaluation()' callback via 'callbacks' argument instead.\n",
      "  _log_warning(\"'verbose' argument is deprecated and will be removed in a future release of LightGBM. \"\n",
      "[I 2023-07-30 23:40:45,977] Trial 74 finished with value: 20193.979927810204 and parameters: {'max_depth': 15, 'learning_rate': 0.006592610725827949, 'n_estimators': 2295, 'min_child_samples': 22, 'subsample': 0.5887482770519658}. Best is trial 53 with value: 18493.68179157178.\n",
      "/home/t2user2/.conda/envs/pybook/lib/python3.10/site-packages/lightgbm/sklearn.py:726: UserWarning: 'early_stopping_rounds' argument is deprecated and will be removed in a future release of LightGBM. Pass 'early_stopping()' callback via 'callbacks' argument instead.\n",
      "  _log_warning(\"'early_stopping_rounds' argument is deprecated and will be removed in a future release of LightGBM. \"\n",
      "/home/t2user2/.conda/envs/pybook/lib/python3.10/site-packages/lightgbm/sklearn.py:736: UserWarning: 'verbose' argument is deprecated and will be removed in a future release of LightGBM. Pass 'log_evaluation()' callback via 'callbacks' argument instead.\n",
      "  _log_warning(\"'verbose' argument is deprecated and will be removed in a future release of LightGBM. \"\n",
      "[I 2023-07-30 23:40:46,512] Trial 75 finished with value: 21541.511846241574 and parameters: {'max_depth': 14, 'learning_rate': 0.0037306186081463204, 'n_estimators': 1992, 'min_child_samples': 11, 'subsample': 0.579878034343308}. Best is trial 53 with value: 18493.68179157178.\n"
     ]
    },
    {
     "name": "stderr",
     "output_type": "stream",
     "text": [
      "/home/t2user2/.conda/envs/pybook/lib/python3.10/site-packages/lightgbm/sklearn.py:726: UserWarning: 'early_stopping_rounds' argument is deprecated and will be removed in a future release of LightGBM. Pass 'early_stopping()' callback via 'callbacks' argument instead.\n",
      "  _log_warning(\"'early_stopping_rounds' argument is deprecated and will be removed in a future release of LightGBM. \"\n",
      "/home/t2user2/.conda/envs/pybook/lib/python3.10/site-packages/lightgbm/sklearn.py:736: UserWarning: 'verbose' argument is deprecated and will be removed in a future release of LightGBM. Pass 'log_evaluation()' callback via 'callbacks' argument instead.\n",
      "  _log_warning(\"'verbose' argument is deprecated and will be removed in a future release of LightGBM. \"\n",
      "[I 2023-07-30 23:40:47,709] Trial 76 finished with value: 39790.97312981525 and parameters: {'max_depth': 15, 'learning_rate': 0.0005831675029149051, 'n_estimators': 2227, 'min_child_samples': 19, 'subsample': 0.604008081128511}. Best is trial 53 with value: 18493.68179157178.\n",
      "/home/t2user2/.conda/envs/pybook/lib/python3.10/site-packages/lightgbm/sklearn.py:726: UserWarning: 'early_stopping_rounds' argument is deprecated and will be removed in a future release of LightGBM. Pass 'early_stopping()' callback via 'callbacks' argument instead.\n",
      "  _log_warning(\"'early_stopping_rounds' argument is deprecated and will be removed in a future release of LightGBM. \"\n",
      "/home/t2user2/.conda/envs/pybook/lib/python3.10/site-packages/lightgbm/sklearn.py:736: UserWarning: 'verbose' argument is deprecated and will be removed in a future release of LightGBM. Pass 'log_evaluation()' callback via 'callbacks' argument instead.\n",
      "  _log_warning(\"'verbose' argument is deprecated and will be removed in a future release of LightGBM. \"\n",
      "[I 2023-07-30 23:40:48,547] Trial 77 finished with value: 22738.81813443444 and parameters: {'max_depth': 14, 'learning_rate': 0.0018985713470674283, 'n_estimators': 1724, 'min_child_samples': 32, 'subsample': 0.5190429871404396}. Best is trial 53 with value: 18493.68179157178.\n",
      "/home/t2user2/.conda/envs/pybook/lib/python3.10/site-packages/lightgbm/sklearn.py:726: UserWarning: 'early_stopping_rounds' argument is deprecated and will be removed in a future release of LightGBM. Pass 'early_stopping()' callback via 'callbacks' argument instead.\n",
      "  _log_warning(\"'early_stopping_rounds' argument is deprecated and will be removed in a future release of LightGBM. \"\n",
      "/home/t2user2/.conda/envs/pybook/lib/python3.10/site-packages/lightgbm/sklearn.py:736: UserWarning: 'verbose' argument is deprecated and will be removed in a future release of LightGBM. Pass 'log_evaluation()' callback via 'callbacks' argument instead.\n",
      "  _log_warning(\"'verbose' argument is deprecated and will be removed in a future release of LightGBM. \"\n",
      "[I 2023-07-30 23:40:49,319] Trial 78 finished with value: 19244.911845546634 and parameters: {'max_depth': 15, 'learning_rate': 0.006853198551268769, 'n_estimators': 2398, 'min_child_samples': 28, 'subsample': 0.6293508163007526}. Best is trial 53 with value: 18493.68179157178.\n",
      "/home/t2user2/.conda/envs/pybook/lib/python3.10/site-packages/lightgbm/sklearn.py:726: UserWarning: 'early_stopping_rounds' argument is deprecated and will be removed in a future release of LightGBM. Pass 'early_stopping()' callback via 'callbacks' argument instead.\n",
      "  _log_warning(\"'early_stopping_rounds' argument is deprecated and will be removed in a future release of LightGBM. \"\n",
      "/home/t2user2/.conda/envs/pybook/lib/python3.10/site-packages/lightgbm/sklearn.py:736: UserWarning: 'verbose' argument is deprecated and will be removed in a future release of LightGBM. Pass 'log_evaluation()' callback via 'callbacks' argument instead.\n",
      "  _log_warning(\"'verbose' argument is deprecated and will be removed in a future release of LightGBM. \"\n",
      "[I 2023-07-30 23:40:50,201] Trial 79 finished with value: 19858.925464304833 and parameters: {'max_depth': 14, 'learning_rate': 0.0043526802388051, 'n_estimators': 2111, 'min_child_samples': 25, 'subsample': 0.5584527283837635}. Best is trial 53 with value: 18493.68179157178.\n",
      "/home/t2user2/.conda/envs/pybook/lib/python3.10/site-packages/lightgbm/sklearn.py:726: UserWarning: 'early_stopping_rounds' argument is deprecated and will be removed in a future release of LightGBM. Pass 'early_stopping()' callback via 'callbacks' argument instead.\n",
      "  _log_warning(\"'early_stopping_rounds' argument is deprecated and will be removed in a future release of LightGBM. \"\n",
      "/home/t2user2/.conda/envs/pybook/lib/python3.10/site-packages/lightgbm/sklearn.py:736: UserWarning: 'verbose' argument is deprecated and will be removed in a future release of LightGBM. Pass 'log_evaluation()' callback via 'callbacks' argument instead.\n",
      "  _log_warning(\"'verbose' argument is deprecated and will be removed in a future release of LightGBM. \"\n",
      "[I 2023-07-30 23:40:51,302] Trial 80 finished with value: 20462.054808708213 and parameters: {'max_depth': 13, 'learning_rate': 0.0032253633381159265, 'n_estimators': 2424, 'min_child_samples': 45, 'subsample': 0.5405091521498611}. Best is trial 53 with value: 18493.68179157178.\n",
      "/home/t2user2/.conda/envs/pybook/lib/python3.10/site-packages/lightgbm/sklearn.py:726: UserWarning: 'early_stopping_rounds' argument is deprecated and will be removed in a future release of LightGBM. Pass 'early_stopping()' callback via 'callbacks' argument instead.\n",
      "  _log_warning(\"'early_stopping_rounds' argument is deprecated and will be removed in a future release of LightGBM. \"\n",
      "/home/t2user2/.conda/envs/pybook/lib/python3.10/site-packages/lightgbm/sklearn.py:736: UserWarning: 'verbose' argument is deprecated and will be removed in a future release of LightGBM. Pass 'log_evaluation()' callback via 'callbacks' argument instead.\n",
      "  _log_warning(\"'verbose' argument is deprecated and will be removed in a future release of LightGBM. \"\n",
      "[I 2023-07-30 23:40:52,444] Trial 81 finished with value: 19047.43881587473 and parameters: {'max_depth': 14, 'learning_rate': 0.006760200323649361, 'n_estimators': 2285, 'min_child_samples': 34, 'subsample': 0.5765174103146311}. Best is trial 53 with value: 18493.68179157178.\n",
      "/home/t2user2/.conda/envs/pybook/lib/python3.10/site-packages/lightgbm/sklearn.py:726: UserWarning: 'early_stopping_rounds' argument is deprecated and will be removed in a future release of LightGBM. Pass 'early_stopping()' callback via 'callbacks' argument instead.\n",
      "  _log_warning(\"'early_stopping_rounds' argument is deprecated and will be removed in a future release of LightGBM. \"\n",
      "/home/t2user2/.conda/envs/pybook/lib/python3.10/site-packages/lightgbm/sklearn.py:736: UserWarning: 'verbose' argument is deprecated and will be removed in a future release of LightGBM. Pass 'log_evaluation()' callback via 'callbacks' argument instead.\n",
      "  _log_warning(\"'verbose' argument is deprecated and will be removed in a future release of LightGBM. \"\n",
      "[I 2023-07-30 23:40:53,470] Trial 82 finished with value: 18955.570636859873 and parameters: {'max_depth': 14, 'learning_rate': 0.006802786844053117, 'n_estimators': 2302, 'min_child_samples': 34, 'subsample': 0.5919617046183159}. Best is trial 53 with value: 18493.68179157178.\n",
      "/home/t2user2/.conda/envs/pybook/lib/python3.10/site-packages/lightgbm/sklearn.py:726: UserWarning: 'early_stopping_rounds' argument is deprecated and will be removed in a future release of LightGBM. Pass 'early_stopping()' callback via 'callbacks' argument instead.\n",
      "  _log_warning(\"'early_stopping_rounds' argument is deprecated and will be removed in a future release of LightGBM. \"\n",
      "/home/t2user2/.conda/envs/pybook/lib/python3.10/site-packages/lightgbm/sklearn.py:736: UserWarning: 'verbose' argument is deprecated and will be removed in a future release of LightGBM. Pass 'log_evaluation()' callback via 'callbacks' argument instead.\n",
      "  _log_warning(\"'verbose' argument is deprecated and will be removed in a future release of LightGBM. \"\n",
      "[I 2023-07-30 23:40:54,437] Trial 83 finished with value: 19517.114085140485 and parameters: {'max_depth': 14, 'learning_rate': 0.004698475550461615, 'n_estimators': 2296, 'min_child_samples': 27, 'subsample': 0.5742429562747181}. Best is trial 53 with value: 18493.68179157178.\n",
      "/home/t2user2/.conda/envs/pybook/lib/python3.10/site-packages/lightgbm/sklearn.py:726: UserWarning: 'early_stopping_rounds' argument is deprecated and will be removed in a future release of LightGBM. Pass 'early_stopping()' callback via 'callbacks' argument instead.\n",
      "  _log_warning(\"'early_stopping_rounds' argument is deprecated and will be removed in a future release of LightGBM. \"\n",
      "/home/t2user2/.conda/envs/pybook/lib/python3.10/site-packages/lightgbm/sklearn.py:736: UserWarning: 'verbose' argument is deprecated and will be removed in a future release of LightGBM. Pass 'log_evaluation()' callback via 'callbacks' argument instead.\n",
      "  _log_warning(\"'verbose' argument is deprecated and will be removed in a future release of LightGBM. \"\n"
     ]
    },
    {
     "name": "stderr",
     "output_type": "stream",
     "text": [
      "[I 2023-07-30 23:40:55,625] Trial 84 finished with value: 19718.103664466045 and parameters: {'max_depth': 13, 'learning_rate': 0.002929400849625938, 'n_estimators': 2552, 'min_child_samples': 30, 'subsample': 0.5532298499012899}. Best is trial 53 with value: 18493.68179157178.\n",
      "/home/t2user2/.conda/envs/pybook/lib/python3.10/site-packages/lightgbm/sklearn.py:726: UserWarning: 'early_stopping_rounds' argument is deprecated and will be removed in a future release of LightGBM. Pass 'early_stopping()' callback via 'callbacks' argument instead.\n",
      "  _log_warning(\"'early_stopping_rounds' argument is deprecated and will be removed in a future release of LightGBM. \"\n",
      "/home/t2user2/.conda/envs/pybook/lib/python3.10/site-packages/lightgbm/sklearn.py:736: UserWarning: 'verbose' argument is deprecated and will be removed in a future release of LightGBM. Pass 'log_evaluation()' callback via 'callbacks' argument instead.\n",
      "  _log_warning(\"'verbose' argument is deprecated and will be removed in a future release of LightGBM. \"\n",
      "[I 2023-07-30 23:40:56,065] Trial 85 finished with value: 19957.221521363128 and parameters: {'max_depth': 14, 'learning_rate': 0.006909404974690297, 'n_estimators': 2429, 'min_child_samples': 20, 'subsample': 0.6132466547375937}. Best is trial 53 with value: 18493.68179157178.\n",
      "/home/t2user2/.conda/envs/pybook/lib/python3.10/site-packages/lightgbm/sklearn.py:726: UserWarning: 'early_stopping_rounds' argument is deprecated and will be removed in a future release of LightGBM. Pass 'early_stopping()' callback via 'callbacks' argument instead.\n",
      "  _log_warning(\"'early_stopping_rounds' argument is deprecated and will be removed in a future release of LightGBM. \"\n",
      "/home/t2user2/.conda/envs/pybook/lib/python3.10/site-packages/lightgbm/sklearn.py:736: UserWarning: 'verbose' argument is deprecated and will be removed in a future release of LightGBM. Pass 'log_evaluation()' callback via 'callbacks' argument instead.\n",
      "  _log_warning(\"'verbose' argument is deprecated and will be removed in a future release of LightGBM. \"\n",
      "[I 2023-07-30 23:40:56,986] Trial 86 finished with value: 21477.712524826115 and parameters: {'max_depth': 14, 'learning_rate': 0.0020284731697680133, 'n_estimators': 2020, 'min_child_samples': 34, 'subsample': 0.5924438444346279}. Best is trial 53 with value: 18493.68179157178.\n",
      "/home/t2user2/.conda/envs/pybook/lib/python3.10/site-packages/lightgbm/sklearn.py:726: UserWarning: 'early_stopping_rounds' argument is deprecated and will be removed in a future release of LightGBM. Pass 'early_stopping()' callback via 'callbacks' argument instead.\n",
      "  _log_warning(\"'early_stopping_rounds' argument is deprecated and will be removed in a future release of LightGBM. \"\n",
      "/home/t2user2/.conda/envs/pybook/lib/python3.10/site-packages/lightgbm/sklearn.py:736: UserWarning: 'verbose' argument is deprecated and will be removed in a future release of LightGBM. Pass 'log_evaluation()' callback via 'callbacks' argument instead.\n",
      "  _log_warning(\"'verbose' argument is deprecated and will be removed in a future release of LightGBM. \"\n",
      "[I 2023-07-30 23:40:57,451] Trial 87 finished with value: 21322.99531752172 and parameters: {'max_depth': 13, 'learning_rate': 0.004311966428645531, 'n_estimators': 999, 'min_child_samples': 16, 'subsample': 0.5766939677820156}. Best is trial 53 with value: 18493.68179157178.\n",
      "/home/t2user2/.conda/envs/pybook/lib/python3.10/site-packages/lightgbm/sklearn.py:726: UserWarning: 'early_stopping_rounds' argument is deprecated and will be removed in a future release of LightGBM. Pass 'early_stopping()' callback via 'callbacks' argument instead.\n",
      "  _log_warning(\"'early_stopping_rounds' argument is deprecated and will be removed in a future release of LightGBM. \"\n",
      "/home/t2user2/.conda/envs/pybook/lib/python3.10/site-packages/lightgbm/sklearn.py:736: UserWarning: 'verbose' argument is deprecated and will be removed in a future release of LightGBM. Pass 'log_evaluation()' callback via 'callbacks' argument instead.\n",
      "  _log_warning(\"'verbose' argument is deprecated and will be removed in a future release of LightGBM. \"\n",
      "[I 2023-07-30 23:40:58,499] Trial 88 finished with value: 23678.325227689602 and parameters: {'max_depth': 12, 'learning_rate': 0.0014230864111569362, 'n_estimators': 2244, 'min_child_samples': 23, 'subsample': 0.6343693024931271}. Best is trial 53 with value: 18493.68179157178.\n",
      "/home/t2user2/.conda/envs/pybook/lib/python3.10/site-packages/lightgbm/sklearn.py:726: UserWarning: 'early_stopping_rounds' argument is deprecated and will be removed in a future release of LightGBM. Pass 'early_stopping()' callback via 'callbacks' argument instead.\n",
      "  _log_warning(\"'early_stopping_rounds' argument is deprecated and will be removed in a future release of LightGBM. \"\n",
      "/home/t2user2/.conda/envs/pybook/lib/python3.10/site-packages/lightgbm/sklearn.py:736: UserWarning: 'verbose' argument is deprecated and will be removed in a future release of LightGBM. Pass 'log_evaluation()' callback via 'callbacks' argument instead.\n",
      "  _log_warning(\"'verbose' argument is deprecated and will be removed in a future release of LightGBM. \"\n",
      "[I 2023-07-30 23:40:59,660] Trial 89 finished with value: 26241.03935535423 and parameters: {'max_depth': 15, 'learning_rate': 0.0010087276066042524, 'n_estimators': 2353, 'min_child_samples': 37, 'subsample': 0.5271196300314488}. Best is trial 53 with value: 18493.68179157178.\n",
      "/home/t2user2/.conda/envs/pybook/lib/python3.10/site-packages/lightgbm/sklearn.py:726: UserWarning: 'early_stopping_rounds' argument is deprecated and will be removed in a future release of LightGBM. Pass 'early_stopping()' callback via 'callbacks' argument instead.\n",
      "  _log_warning(\"'early_stopping_rounds' argument is deprecated and will be removed in a future release of LightGBM. \"\n",
      "/home/t2user2/.conda/envs/pybook/lib/python3.10/site-packages/lightgbm/sklearn.py:736: UserWarning: 'verbose' argument is deprecated and will be removed in a future release of LightGBM. Pass 'log_evaluation()' callback via 'callbacks' argument instead.\n",
      "  _log_warning(\"'verbose' argument is deprecated and will be removed in a future release of LightGBM. \"\n",
      "[I 2023-07-30 23:41:00,837] Trial 90 finished with value: 20197.1025359064 and parameters: {'max_depth': 14, 'learning_rate': 0.005103387342853624, 'n_estimators': 2547, 'min_child_samples': 48, 'subsample': 0.5454526020061212}. Best is trial 53 with value: 18493.68179157178.\n",
      "/home/t2user2/.conda/envs/pybook/lib/python3.10/site-packages/lightgbm/sklearn.py:726: UserWarning: 'early_stopping_rounds' argument is deprecated and will be removed in a future release of LightGBM. Pass 'early_stopping()' callback via 'callbacks' argument instead.\n",
      "  _log_warning(\"'early_stopping_rounds' argument is deprecated and will be removed in a future release of LightGBM. \"\n",
      "/home/t2user2/.conda/envs/pybook/lib/python3.10/site-packages/lightgbm/sklearn.py:736: UserWarning: 'verbose' argument is deprecated and will be removed in a future release of LightGBM. Pass 'log_evaluation()' callback via 'callbacks' argument instead.\n",
      "  _log_warning(\"'verbose' argument is deprecated and will be removed in a future release of LightGBM. \"\n",
      "[I 2023-07-30 23:41:01,798] Trial 91 finished with value: 18667.10130459739 and parameters: {'max_depth': 15, 'learning_rate': 0.00718163218305686, 'n_estimators': 2119, 'min_child_samples': 31, 'subsample': 0.586714528491627}. Best is trial 53 with value: 18493.68179157178.\n",
      "/home/t2user2/.conda/envs/pybook/lib/python3.10/site-packages/lightgbm/sklearn.py:726: UserWarning: 'early_stopping_rounds' argument is deprecated and will be removed in a future release of LightGBM. Pass 'early_stopping()' callback via 'callbacks' argument instead.\n",
      "  _log_warning(\"'early_stopping_rounds' argument is deprecated and will be removed in a future release of LightGBM. \"\n",
      "/home/t2user2/.conda/envs/pybook/lib/python3.10/site-packages/lightgbm/sklearn.py:736: UserWarning: 'verbose' argument is deprecated and will be removed in a future release of LightGBM. Pass 'log_evaluation()' callback via 'callbacks' argument instead.\n",
      "  _log_warning(\"'verbose' argument is deprecated and will be removed in a future release of LightGBM. \"\n",
      "[I 2023-07-30 23:41:02,819] Trial 92 finished with value: 18785.89569991501 and parameters: {'max_depth': 15, 'learning_rate': 0.0076108454765418075, 'n_estimators': 2112, 'min_child_samples': 30, 'subsample': 0.5614168336813642}. Best is trial 53 with value: 18493.68179157178.\n"
     ]
    },
    {
     "name": "stderr",
     "output_type": "stream",
     "text": [
      "/home/t2user2/.conda/envs/pybook/lib/python3.10/site-packages/lightgbm/sklearn.py:726: UserWarning: 'early_stopping_rounds' argument is deprecated and will be removed in a future release of LightGBM. Pass 'early_stopping()' callback via 'callbacks' argument instead.\n",
      "  _log_warning(\"'early_stopping_rounds' argument is deprecated and will be removed in a future release of LightGBM. \"\n",
      "/home/t2user2/.conda/envs/pybook/lib/python3.10/site-packages/lightgbm/sklearn.py:736: UserWarning: 'verbose' argument is deprecated and will be removed in a future release of LightGBM. Pass 'log_evaluation()' callback via 'callbacks' argument instead.\n",
      "  _log_warning(\"'verbose' argument is deprecated and will be removed in a future release of LightGBM. \"\n",
      "[I 2023-07-30 23:41:03,291] Trial 93 finished with value: 19609.814077106483 and parameters: {'max_depth': 15, 'learning_rate': 0.009797450126332293, 'n_estimators': 2113, 'min_child_samples': 25, 'subsample': 0.5583270847924177}. Best is trial 53 with value: 18493.68179157178.\n",
      "/home/t2user2/.conda/envs/pybook/lib/python3.10/site-packages/lightgbm/sklearn.py:726: UserWarning: 'early_stopping_rounds' argument is deprecated and will be removed in a future release of LightGBM. Pass 'early_stopping()' callback via 'callbacks' argument instead.\n",
      "  _log_warning(\"'early_stopping_rounds' argument is deprecated and will be removed in a future release of LightGBM. \"\n",
      "/home/t2user2/.conda/envs/pybook/lib/python3.10/site-packages/lightgbm/sklearn.py:736: UserWarning: 'verbose' argument is deprecated and will be removed in a future release of LightGBM. Pass 'log_evaluation()' callback via 'callbacks' argument instead.\n",
      "  _log_warning(\"'verbose' argument is deprecated and will be removed in a future release of LightGBM. \"\n",
      "[I 2023-07-30 23:41:04,194] Trial 94 finished with value: 20333.582749995596 and parameters: {'max_depth': 15, 'learning_rate': 0.002624255715636344, 'n_estimators': 1935, 'min_child_samples': 30, 'subsample': 0.5949560491478083}. Best is trial 53 with value: 18493.68179157178.\n",
      "/home/t2user2/.conda/envs/pybook/lib/python3.10/site-packages/lightgbm/sklearn.py:726: UserWarning: 'early_stopping_rounds' argument is deprecated and will be removed in a future release of LightGBM. Pass 'early_stopping()' callback via 'callbacks' argument instead.\n",
      "  _log_warning(\"'early_stopping_rounds' argument is deprecated and will be removed in a future release of LightGBM. \"\n",
      "/home/t2user2/.conda/envs/pybook/lib/python3.10/site-packages/lightgbm/sklearn.py:736: UserWarning: 'verbose' argument is deprecated and will be removed in a future release of LightGBM. Pass 'log_evaluation()' callback via 'callbacks' argument instead.\n",
      "  _log_warning(\"'verbose' argument is deprecated and will be removed in a future release of LightGBM. \"\n",
      "[I 2023-07-30 23:41:05,011] Trial 95 finished with value: 19781.308426944208 and parameters: {'max_depth': 15, 'learning_rate': 0.004074533419918816, 'n_estimators': 2151, 'min_child_samples': 31, 'subsample': 0.6079144729269372}. Best is trial 53 with value: 18493.68179157178.\n",
      "/home/t2user2/.conda/envs/pybook/lib/python3.10/site-packages/lightgbm/sklearn.py:726: UserWarning: 'early_stopping_rounds' argument is deprecated and will be removed in a future release of LightGBM. Pass 'early_stopping()' callback via 'callbacks' argument instead.\n",
      "  _log_warning(\"'early_stopping_rounds' argument is deprecated and will be removed in a future release of LightGBM. \"\n",
      "/home/t2user2/.conda/envs/pybook/lib/python3.10/site-packages/lightgbm/sklearn.py:736: UserWarning: 'verbose' argument is deprecated and will be removed in a future release of LightGBM. Pass 'log_evaluation()' callback via 'callbacks' argument instead.\n",
      "  _log_warning(\"'verbose' argument is deprecated and will be removed in a future release of LightGBM. \"\n",
      "[I 2023-07-30 23:41:05,955] Trial 96 finished with value: 19280.067173849984 and parameters: {'max_depth': 15, 'learning_rate': 0.007041973029835797, 'n_estimators': 2051, 'min_child_samples': 42, 'subsample': 0.5432140079066866}. Best is trial 53 with value: 18493.68179157178.\n",
      "/home/t2user2/.conda/envs/pybook/lib/python3.10/site-packages/lightgbm/sklearn.py:726: UserWarning: 'early_stopping_rounds' argument is deprecated and will be removed in a future release of LightGBM. Pass 'early_stopping()' callback via 'callbacks' argument instead.\n",
      "  _log_warning(\"'early_stopping_rounds' argument is deprecated and will be removed in a future release of LightGBM. \"\n",
      "/home/t2user2/.conda/envs/pybook/lib/python3.10/site-packages/lightgbm/sklearn.py:736: UserWarning: 'verbose' argument is deprecated and will be removed in a future release of LightGBM. Pass 'log_evaluation()' callback via 'callbacks' argument instead.\n",
      "  _log_warning(\"'verbose' argument is deprecated and will be removed in a future release of LightGBM. \"\n",
      "[I 2023-07-30 23:41:06,821] Trial 97 finished with value: 19321.4811073512 and parameters: {'max_depth': 14, 'learning_rate': 0.005008916033619127, 'n_estimators': 1776, 'min_child_samples': 27, 'subsample': 0.5668733953270243}. Best is trial 53 with value: 18493.68179157178.\n",
      "/home/t2user2/.conda/envs/pybook/lib/python3.10/site-packages/lightgbm/sklearn.py:726: UserWarning: 'early_stopping_rounds' argument is deprecated and will be removed in a future release of LightGBM. Pass 'early_stopping()' callback via 'callbacks' argument instead.\n",
      "  _log_warning(\"'early_stopping_rounds' argument is deprecated and will be removed in a future release of LightGBM. \"\n",
      "/home/t2user2/.conda/envs/pybook/lib/python3.10/site-packages/lightgbm/sklearn.py:736: UserWarning: 'verbose' argument is deprecated and will be removed in a future release of LightGBM. Pass 'log_evaluation()' callback via 'callbacks' argument instead.\n",
      "  _log_warning(\"'verbose' argument is deprecated and will be removed in a future release of LightGBM. \"\n",
      "[I 2023-07-30 23:41:07,304] Trial 98 finished with value: 19939.83365934521 and parameters: {'max_depth': 13, 'learning_rate': 0.008214440037930624, 'n_estimators': 1982, 'min_child_samples': 18, 'subsample': 0.5272506712272962}. Best is trial 53 with value: 18493.68179157178.\n",
      "/home/t2user2/.conda/envs/pybook/lib/python3.10/site-packages/lightgbm/sklearn.py:726: UserWarning: 'early_stopping_rounds' argument is deprecated and will be removed in a future release of LightGBM. Pass 'early_stopping()' callback via 'callbacks' argument instead.\n",
      "  _log_warning(\"'early_stopping_rounds' argument is deprecated and will be removed in a future release of LightGBM. \"\n",
      "/home/t2user2/.conda/envs/pybook/lib/python3.10/site-packages/lightgbm/sklearn.py:736: UserWarning: 'verbose' argument is deprecated and will be removed in a future release of LightGBM. Pass 'log_evaluation()' callback via 'callbacks' argument instead.\n",
      "  _log_warning(\"'verbose' argument is deprecated and will be removed in a future release of LightGBM. \"\n",
      "[I 2023-07-30 23:41:08,251] Trial 99 finished with value: 20105.595164690338 and parameters: {'max_depth': 15, 'learning_rate': 0.0032876664482142204, 'n_estimators': 1862, 'min_child_samples': 22, 'subsample': 0.5882456076677072}. Best is trial 53 with value: 18493.68179157178.\n"
     ]
    }
   ],
   "source": [
    "from optuna.samplers import TPESampler\n",
    "\n",
    "sampler = TPESampler(seed=10)\n",
    "\n",
    "def objective(trial):\n",
    "    dtrain = lgb.Dataset(h_train_X, label=h_train_y)\n",
    "    dtest = lgb.Dataset(h_valid_X, label=h_valid_y)\n",
    "\n",
    "    param = {\n",
    "        'objective': 'regression', # 회귀\n",
    "        'verbose': -1,\n",
    "        'metric': 'mae', \n",
    "        'max_depth': trial.suggest_int('max_depth',3, 15),\n",
    "        'learning_rate': trial.suggest_float(\"learning_rate\", 1e-8, 1e-2, log=True),\n",
    "        'n_estimators': trial.suggest_int('n_estimators', 100, 3000),\n",
    "        'min_child_samples': trial.suggest_int('min_child_samples', 5, 100),\n",
    "        'subsample': trial.suggest_float('subsample', 0.4, 1, log=True),\n",
    "    }\n",
    "\n",
    "    model = lgb.LGBMRegressor(**param)\n",
    "    lgb_model = model.fit(h_train_X, h_train_y, eval_set=[(h_valid_X, h_valid_y)], verbose=0, early_stopping_rounds=25)\n",
    "    mae = MAE(h_valid_y, lgb_model.predict(h_valid_X))\n",
    "    return mae\n",
    "\n",
    "\n",
    "\n",
    "        \n",
    "study_lgb = optuna.create_study(direction='minimize', sampler=sampler)\n",
    "study_lgb.optimize(objective, n_trials=100)"
   ]
  },
  {
   "cell_type": "code",
   "execution_count": 156,
   "id": "228e1539",
   "metadata": {
    "scrolled": true
   },
   "outputs": [
    {
     "name": "stdout",
     "output_type": "stream",
     "text": [
      "Best Trial: score 18493.68179157178,\n",
      "params {'max_depth': 14, 'learning_rate': 0.008332517991773918, 'n_estimators': 2303, 'min_child_samples': 22, 'subsample': 0.544109674348013}\n"
     ]
    }
   ],
   "source": [
    "trial = study_lgb.best_trial\n",
    "trial_params = trial.params\n",
    "print('Best Trial: score {},\\nparams {}'.format(trial.value, trial_params))\n"
   ]
  },
  {
   "cell_type": "code",
   "execution_count": 157,
   "id": "ac30f0fe",
   "metadata": {},
   "outputs": [
    {
     "name": "stdout",
     "output_type": "stream",
     "text": [
      "(196, 5)\n",
      "(5987, 6)\n"
     ]
    }
   ],
   "source": [
    "print(test_df.shape)\n",
    "print(train_df.shape)"
   ]
  },
  {
   "cell_type": "code",
   "execution_count": 158,
   "id": "4eee3a8d",
   "metadata": {
    "scrolled": true
   },
   "outputs": [],
   "source": [
    "final_lgb_model = lgb.LGBMRegressor(**trial_params)\n",
    "final_lgb_model.fit(train_X, train_y)\n",
    "final_lgb_pred = final_lgb_model.predict(test_df)"
   ]
  },
  {
   "cell_type": "code",
   "execution_count": 159,
   "id": "be5803c8",
   "metadata": {
    "scrolled": true
   },
   "outputs": [
    {
     "data": {
      "text/plain": [
       "array([211303.18425054, 189174.31741805, 275740.66096529, 281882.75741082,\n",
       "       281882.75741082, 407435.07694204, 281882.75741082, 380911.89231192,\n",
       "       407435.07694204, 281591.57323368, 380859.62311131, 380859.62311131,\n",
       "       380859.62311131, 276486.68106774,  31264.04126682,  36629.94042305,\n",
       "        29054.47532004,  32344.7709309 ,  30949.7256686 ,  29359.8382359 ,\n",
       "       304512.38968951, 301789.70443023, 279646.84837838, 215733.56298876,\n",
       "       242054.40814896, 242054.40814896, 272303.24248225, 242054.40814896,\n",
       "       242054.40814896, 215733.56298876, 172973.33179474, 242054.40814896,\n",
       "       242054.40814896, 172973.33179474, 215733.56298876, 368828.33682888,\n",
       "       197937.02499796, 197937.02499796, 262223.41399098, 197937.02499796,\n",
       "       398239.98752272, 356519.89162242, 254015.56869015, 194284.10057303,\n",
       "       265225.25921618, 207013.55881484, 199348.70593056, 154837.15399579,\n",
       "       217865.67566215, 209824.98753509, 185028.73256713, 470363.15037451,\n",
       "       416427.06930137, 440306.31184202, 440306.31184202, 440306.31184202,\n",
       "       440306.31184202, 440306.31184202, 310324.76460146, 306433.53972515,\n",
       "       512596.64394123, 512596.64394123, 307710.28256428, 438407.55723876,\n",
       "       307710.28256428, 451078.87132541, 451078.87132541, 272205.8963812 ,\n",
       "       362423.18261298, 414193.15995449, 378049.36797672, 378049.36797672,\n",
       "       281247.45255747,  24720.15309732, 273766.76044375, 212004.84482823,\n",
       "       273766.76044375, 204847.72861597, 204847.72861597, 279302.15682494,\n",
       "       202296.55923909, 279302.15682494, 279302.15682494, 191625.38134446,\n",
       "       191625.38134446, 186797.29588898, 210157.83625705, 218527.81423188,\n",
       "       186797.29588898, 210157.83625705, 186797.29588898, 218527.81423188,\n",
       "       191625.38134446, 218527.81423188, 186797.29588898, 218527.81423188,\n",
       "       191625.38134446, 191625.38134446, 191625.38134446, 191625.38134446,\n",
       "       191625.38134446, 186797.29588898, 218527.81423188, 191625.38134446,\n",
       "       191625.38134446, 218527.81423188, 186797.29588898, 218527.81423188,\n",
       "       191625.38134446, 218527.81423188, 218527.81423188, 186797.29588898,\n",
       "       186797.29588898, 218527.81423188, 191625.38134446, 191625.38134446,\n",
       "       210157.83625705, 191625.38134446, 218527.81423188, 186797.29588898,\n",
       "       210157.83625705, 186797.29588898, 191625.38134446, 191625.38134446,\n",
       "       191625.38134446, 218527.81423188, 210157.83625705, 191625.38134446,\n",
       "       218527.81423188, 191625.38134446, 191625.38134446, 191625.38134446,\n",
       "       218527.81423188, 191625.38134446, 191625.38134446, 191625.38134446,\n",
       "       218527.81423188, 210157.83625705, 191625.38134446, 218527.81423188,\n",
       "       191625.38134446, 191625.38134446, 210157.83625705, 191625.38134446,\n",
       "       191625.38134446, 191625.38134446, 191625.38134446, 191625.38134446,\n",
       "       218527.81423188, 218527.81423188, 191625.38134446, 218527.81423188,\n",
       "       191625.38134446,  28389.04001006,  37027.1000516 ,  33069.35666453,\n",
       "        33069.35666453,  70003.61965565,  33069.35666453, 323001.71545746,\n",
       "       284250.43511817, 284250.43511817, 210243.41394265, 368117.98705319,\n",
       "       272796.25324194, 272796.25324194, 279966.81149312, 279966.81149312,\n",
       "       348304.16936031, 368117.98705319, 424731.36029723, 348304.16936031,\n",
       "       424731.36029723, 279966.81149312, 368117.98705319, 279966.81149312,\n",
       "       348304.16936031, 368117.98705319, 368117.98705319, 353604.17935559,\n",
       "       360227.64972276, 365538.28063873, 365538.28063873, 350998.70549898,\n",
       "       360227.64972276, 277657.39572549, 360227.64972276, 353604.17935559,\n",
       "       365538.28063873, 360227.64972276, 350998.70549898, 272308.2764864 ,\n",
       "       353604.17935559, 454037.99069987, 365538.28063873, 177116.69899009])"
      ]
     },
     "execution_count": 159,
     "metadata": {},
     "output_type": "execute_result"
    }
   ],
   "source": [
    "final_lgb_pred"
   ]
  },
  {
   "cell_type": "code",
   "execution_count": 160,
   "id": "b99bd69f",
   "metadata": {},
   "outputs": [
    {
     "data": {
      "text/plain": [
       "<BarContainer object of 5 artists>"
      ]
     },
     "execution_count": 160,
     "metadata": {},
     "output_type": "execute_result"
    },
    {
     "data": {
      "image/png": "[encoded data removed]",
      "text/plain": [
       "<Figure size 640x480 with 1 Axes>"
      ]
     },
     "metadata": {},
     "output_type": "display_data"
    }
   ],
   "source": [
    "#피쳐 중요도\n",
    "plt.barh(train_X.columns, final_lgb_model.feature_importances_)"
   ]
  },
  {
   "cell_type": "markdown",
   "id": "f3cd3eac",
   "metadata": {},
   "source": [
    "층수는 그리 중요하지 않음. 추후 추가 변수를 넣으면 좋을듯. 거래연월이랑 로그면적이 거래가 선정에 영향 허벌나게 많이줌\n"
   ]
  },
  {
   "cell_type": "code",
   "execution_count": 161,
   "id": "42ef5c85",
   "metadata": {
    "scrolled": true
   },
   "outputs": [],
   "source": [
    "submission['transaction_real_price'] = final_lgb_pred"
   ]
  },
  {
   "cell_type": "code",
   "execution_count": 162,
   "id": "a5b74285",
   "metadata": {
    "scrolled": true
   },
   "outputs": [],
   "source": [
    "submission.to_csv('submission.csv', index=False)"
   ]
  },
  {
   "cell_type": "code",
   "execution_count": null,
   "id": "1ecbd22c",
   "metadata": {},
   "outputs": [],
   "source": []
  }
 ],
 "metadata": {
  "kernelspec": {
   "display_name": "Python 3 (ipykernel)",
   "language": "python",
   "name": "python3"
  },
  "language_info": {
   "codemirror_mode": {
    "name": "ipython",
    "version": 3
   },
   "file_extension": ".py",
   "mimetype": "text/x-python",
   "name": "python",
   "nbconvert_exporter": "python",
   "pygments_lexer": "ipython3",
   "version": "3.10.9"
  },
  "toc": {
   "base_numbering": 1,
   "nav_menu": {},
   "number_sections": true,
   "sideBar": true,
   "skip_h1_title": false,
   "title_cell": "Table of Contents",
   "title_sidebar": "Contents",
   "toc_cell": false,
   "toc_position": {},
   "toc_section_display": true,
   "toc_window_display": false
  },
  "varInspector": {
   "cols": {
    "lenName": 16,
    "lenType": 16,
    "lenVar": 40
   },
   "kernels_config": {
    "python": {
     "delete_cmd_postfix": "",
     "delete_cmd_prefix": "del ",
     "library": "var_list.py",
     "varRefreshCmd": "print(var_dic_list())"
    },
    "r": {
     "delete_cmd_postfix": ") ",
     "delete_cmd_prefix": "rm(",
     "library": "var_list.r",
     "varRefreshCmd": "cat(var_dic_list()) "
    }
   },
   "types_to_exclude": [
    "module",
    "function",
    "builtin_function_or_method",
    "instance",
    "_Feature"
   ],
   "window_display": false
  }
 },
 "nbformat": 4,
 "nbformat_minor": 5
}
