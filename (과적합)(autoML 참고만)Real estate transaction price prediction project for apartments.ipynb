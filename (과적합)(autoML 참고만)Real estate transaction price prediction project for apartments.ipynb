{
 "cells": [
  {
   "cell_type": "markdown",
   "id": "cd4ccc86",
   "metadata": {},
   "source": [
    "# 데이터 확인 및 라이브러리 호출"
   ]
  },
  {
   "cell_type": "markdown",
   "id": "4ced0240",
   "metadata": {
    "heading_collapsed": true
   },
   "source": [
    "## 라이브러리 "
   ]
  },
  {
   "cell_type": "markdown",
   "id": "723e06cf",
   "metadata": {
    "heading_collapsed": true,
    "hidden": true
   },
   "source": [
    "### 설치"
   ]
  },
  {
   "cell_type": "code",
   "execution_count": 206,
   "id": "6714b2f2",
   "metadata": {
    "ExecuteTime": {
     "end_time": "2023-07-29T08:14:55.660983Z",
     "start_time": "2023-07-29T08:14:52.913406Z"
    },
    "hidden": true
   },
   "outputs": [
    {
     "name": "stdout",
     "output_type": "stream",
     "text": [
      "Collecting xgboost\n",
      "  Downloading xgboost-1.7.6-py3-none-macosx_10_15_x86_64.macosx_11_0_x86_64.macosx_12_0_x86_64.whl (1.8 MB)\n",
      "\u001b[K     |████████████████████████████████| 1.8 MB 10.0 MB/s eta 0:00:01\n",
      "\u001b[?25hRequirement already satisfied: numpy in /Users/donggunhan/opt/anaconda3/lib/python3.9/site-packages (from xgboost) (1.21.5)\n",
      "Requirement already satisfied: scipy in /Users/donggunhan/opt/anaconda3/lib/python3.9/site-packages (from xgboost) (1.7.3)\n",
      "Installing collected packages: xgboost\n",
      "Successfully installed xgboost-1.7.6\n"
     ]
    }
   ],
   "source": [
    "!pip install xgboost"
   ]
  },
  {
   "cell_type": "code",
   "execution_count": 360,
   "id": "657cc81a",
   "metadata": {
    "ExecuteTime": {
     "end_time": "2023-07-29T16:36:24.879511Z",
     "start_time": "2023-07-29T16:36:22.253555Z"
    },
    "hidden": true,
    "scrolled": true
   },
   "outputs": [
    {
     "name": "stdout",
     "output_type": "stream",
     "text": [
      "Requirement already satisfied: lightgbm in /Users/donggunhan/opt/anaconda3/lib/python3.9/site-packages (4.0.0)\n",
      "Requirement already satisfied: numpy in /Users/donggunhan/opt/anaconda3/lib/python3.9/site-packages (from lightgbm) (1.21.5)\n",
      "Requirement already satisfied: scipy in /Users/donggunhan/opt/anaconda3/lib/python3.9/site-packages (from lightgbm) (1.7.3)\n"
     ]
    }
   ],
   "source": [
    "!pip install --upgrade lightgbm\n"
   ]
  },
  {
   "cell_type": "code",
   "execution_count": 364,
   "id": "f7628dfb",
   "metadata": {
    "ExecuteTime": {
     "end_time": "2023-07-29T16:42:59.646540Z",
     "start_time": "2023-07-29T16:39:18.332271Z"
    },
    "hidden": true
   },
   "outputs": [
    {
     "name": "stdout",
     "output_type": "stream",
     "text": [
      "Collecting package metadata (current_repodata.json): done\n",
      "Solving environment: \\ \n",
      "The environment is inconsistent, please check the package plan carefully\n",
      "The following packages are causing the inconsistency:\n",
      "\n",
      "  - defaults/noarch::conda-pack==0.6.0=pyhd3eb1b0_0\n",
      "  - defaults/osx-64::scikit-learn==1.0.2=py39hae1ba45_1\n",
      "  - defaults/noarch::holoviews==1.14.8=pyhd3eb1b0_0\n",
      "  - defaults/osx-64::anaconda-navigator==2.2.0=py39hecd8cb5_0\n",
      "  - conda-forge/noarch::setuptools-git==1.2=py_1\n",
      "  - defaults/osx-64::notebook==6.4.8=py39hecd8cb5_0\n",
      "  - defaults/noarch::smart_open==5.1.0=pyhd3eb1b0_0\n",
      "  - defaults/osx-64::astroid==2.6.6=py39hecd8cb5_0\n",
      "  - defaults/noarch::nbclassic==0.3.5=pyhd3eb1b0_0\n",
      "  - defaults/osx-64::jupyter==1.0.0=py39hecd8cb5_7\n",
      "  - defaults/noarch::cookiecutter==1.7.3=pyhd3eb1b0_0\n",
      "  - conda-forge/noarch::arviz==0.13.0=pyhd8ed1ab_0\n",
      "  - defaults/noarch::python-lsp-black==1.0.0=pyhd3eb1b0_0\n",
      "  - conda-forge/osx-64::netcdf4==1.5.7=nompi_py39h8cf34ae_101\n",
      "  - defaults/noarch::dask==2022.2.1=pyhd3eb1b0_0\n",
      "  - defaults/noarch::google-cloud-core==1.7.1=pyhd3eb1b0_0\n",
      "  - conda-forge/osx-64::pystan==2.19.1.1=py39h4d6be9b_3\n",
      "  - defaults/noarch::datashader==0.13.0=pyhd3eb1b0_1\n",
      "  - defaults/noarch::conda-repo-cli==1.0.4=pyhd3eb1b0_0\n",
      "  - defaults/noarch::backports.functools_lru_cache==1.6.4=pyhd3eb1b0_0\n",
      "  - conda-forge/noarch::joblib==1.2.0=pyhd8ed1ab_0\n",
      "  - defaults/noarch::jupyter_server==1.13.5=pyhd3eb1b0_0\n",
      "  - conda-forge/noarch::xarray-einstats==0.5.0=pyhd8ed1ab_0\n",
      "  - defaults/noarch::pyls-spyder==0.4.0=pyhd3eb1b0_0\n",
      "  - defaults/osx-64::conda-build==3.21.8=py39hecd8cb5_2\n",
      "  - defaults/noarch::jinja2==2.11.3=pyhd3eb1b0_0\n",
      "  - defaults/noarch::nltk==3.7=pyhd3eb1b0_0\n",
      "  - defaults/noarch::sphinx==4.4.0=pyhd3eb1b0_0\n",
      "  - defaults/osx-64::ipython==8.2.0=py39hecd8cb5_0\n",
      "  - defaults/osx-64::bcrypt==3.2.0=py39h9ed2024_0\n",
      "  - defaults/noarch::numpydoc==1.2=pyhd3eb1b0_0\n",
      "  - defaults/osx-64::scrapy==2.6.1=py39hecd8cb5_0\n",
      "  - defaults/noarch::google-auth==1.33.0=pyhd3eb1b0_0\n",
      "  - defaults/osx-64::pip==21.2.4=py39hecd8cb5_0\n",
      "  - defaults/noarch::anaconda-project==0.10.2=pyhd3eb1b0_0\n",
      "  - defaults/osx-64::spyder-kernels==2.1.3=py39hecd8cb5_0\n",
      "  - defaults/noarch::qtconsole==5.3.0=pyhd3eb1b0_0\n",
      "  - defaults/osx-64::_ipyw_jlab_nb_ext_conf==0.1.0=py39hecd8cb5_1\n",
      "  - defaults/noarch::conda-verify==3.4.2=py_1\n",
      "  - defaults/noarch::flake8==3.9.2=pyhd3eb1b0_0\n",
      "  - defaults/noarch::jinja2-time==0.2.0=pyhd3eb1b0_3\n",
      "  - defaults/noarch::jupyterlab_server==2.10.3=pyhd3eb1b0_1\n",
      "  - defaults/osx-64::nbconvert==6.4.4=py39hecd8cb5_0\n",
      "  - defaults/osx-64::ipykernel==6.9.1=py39hecd8cb5_0\n",
      "  - defaults/osx-64::gensim==4.1.2=py39he9d5cce_0\n",
      "  - defaults/noarch::jupyter_console==6.4.0=pyhd3eb1b0_0\n",
      "  - defaults/osx-64::zope.interface==5.4.0=py39h9ed2024_0\n",
      "  - defaults/osx-64::numba==0.55.1=py39hae1ba45_0\n",
      "  - defaults/osx-64::anaconda-client==1.9.0=py39hecd8cb5_0\n",
      "  - defaults/noarch::flask==1.1.2=pyhd3eb1b0_0\n",
      "  - defaults/noarch::intake==0.6.5=pyhd3eb1b0_0\n",
      "  - defaults/noarch::google-api-core==1.25.1=pyhd3eb1b0_0\n",
      "  - defaults/noarch::google-cloud-storage==1.31.0=py_0\n",
      "  - conda-forge/osx-64::conda==4.12.0=py39h6e9494a_0\n",
      "  - defaults/osx-64::pylint==2.9.6=py39hecd8cb5_1\n",
      "  - defaults/osx-64::bokeh==2.4.2=py39hecd8cb5_0\n",
      "  - defaults/osx-64::spyder==5.1.5=py39hecd8cb5_1\n",
      "  - defaults/noarch::hvplot==0.7.3=pyhd3eb1b0_1\n",
      "  - defaults/noarch::ipywidgets==7.6.5=pyhd3eb1b0_1\n",
      "  - defaults/noarch::python-lsp-server==1.2.4=pyhd3eb1b0_0\n",
      "  - defaults/noarch::conda-token==0.3.0=pyhd3eb1b0_0\n",
      "  - defaults/osx-64::anaconda==custom=py39_1\n",
      "  - defaults/osx-64::_anaconda_depends==2022.10=py39_2\n",
      "  - defaults/osx-64::scikit-learn-intelex==2021.5.0=py39hecd8cb5_0\n",
      "  - defaults/noarch::jupyterlab==3.3.2=pyhd3eb1b0_0\n",
      "  - defaults/osx-64::twisted==22.2.0=py39hca72f7f_0\n",
      "  - defaults/osx-64::widgetsnbextension==3.5.2=py39hecd8cb5_0\n",
      "  - defaults/osx-64::clyent==1.2.2=py39hecd8cb5_1\n",
      "  - conda-forge/osx-64::prophet==1.0.1=py39h6e9494a_5\n",
      "  - defaults/noarch::xarray==0.20.1=pyhd3eb1b0_1\n",
      "  - defaults/noarch::distributed==2022.2.1=pyhd3eb1b0_0\n",
      "  - defaults/osx-64::panel==0.13.0=py39hecd8cb5_0\n",
      "failed with initial frozen solve. Retrying with flexible solve.\n",
      "Solving environment: failed with repodata from current_repodata.json, will retry with next repodata source.\n",
      "Collecting package metadata (repodata.json): done\n",
      "Solving environment: - \n",
      "The environment is inconsistent, please check the package plan carefully\n",
      "The following packages are causing the inconsistency:\n",
      "\n",
      "  - defaults/noarch::babel==2.9.1=pyhd3eb1b0_0\n",
      "  - defaults/osx-64::tqdm==4.64.0=py39hecd8cb5_0\n",
      "  - defaults/noarch::conda-pack==0.6.0=pyhd3eb1b0_0\n",
      "  - defaults/noarch::tifffile==2021.7.2=pyhd3eb1b0_2\n",
      "  - defaults/noarch::python-slugify==5.0.2=pyhd3eb1b0_0\n",
      "  - defaults/osx-64::scikit-learn==1.0.2=py39hae1ba45_1\n",
      "  - defaults/noarch::arrow==1.2.2=pyhd3eb1b0_0\n",
      "  - defaults/osx-64::mpmath==1.2.1=py39hecd8cb5_0\n",
      "  - defaults/noarch::ptyprocess==0.7.0=pyhd3eb1b0_2\n",
      "  - defaults/noarch::holoviews==1.14.8=pyhd3eb1b0_0\n",
      "  - defaults/osx-64::tabulate==0.8.9=py39hecd8cb5_0\n",
      "  - defaults/osx-64::anaconda-navigator==2.2.0=py39hecd8cb5_0\n",
      "  - defaults/noarch::s3transfer==0.5.0=pyhd3eb1b0_0\n",
      "  - defaults/noarch::jupyterlab_widgets==1.0.0=pyhd3eb1b0_1\n",
      "  - defaults/noarch::yapf==0.31.0=pyhd3eb1b0_0\n",
      "  - defaults/noarch::pkginfo==1.8.2=pyhd3eb1b0_0\n",
      "  - defaults/noarch::poyo==0.5.0=pyhd3eb1b0_0\n",
      "  - conda-forge/noarch::setuptools-git==1.2=py_1\n",
      "  - defaults/osx-64::mkl-service==2.4.0=py39h9ed2024_0\n",
      "  - defaults/noarch::constantly==15.1.0=pyh2b92418_0\n",
      "  - defaults/osx-64::jedi==0.18.1=py39hecd8cb5_1\n",
      "  - defaults/noarch::pycodestyle==2.7.0=pyhd3eb1b0_0\n",
      "  - defaults/osx-64::pysocks==1.7.1=py39hecd8cb5_0\n",
      "  - defaults/osx-64::bottleneck==1.3.4=py39h67323c0_0\n",
      "  - defaults/noarch::qdarkstyle==3.0.2=pyhd3eb1b0_0\n",
      "  - defaults/osx-64::typed-ast==1.4.3=py39h9ed2024_1\n",
      "  - defaults/osx-64::notebook==6.4.8=py39hecd8cb5_0\n",
      "  - defaults/noarch::requests-file==1.5.1=pyhd3eb1b0_0\n",
      "  - defaults/noarch::cachetools==4.2.2=pyhd3eb1b0_0\n",
      "  - defaults/noarch::alabaster==0.7.12=pyhd3eb1b0_0\n",
      "  - defaults/osx-64::webencodings==0.5.1=py39hecd8cb5_1\n",
      "  - defaults/noarch::imageio==2.9.0=pyhd3eb1b0_0\n",
      "  - defaults/noarch::smart_open==5.1.0=pyhd3eb1b0_0\n",
      "  - defaults/osx-64::click==8.0.4=py39hecd8cb5_0\n",
      "  - defaults/noarch::idna==3.3=pyhd3eb1b0_0\n",
      "  - defaults/osx-64::bitarray==2.4.1=py39hca72f7f_0\n",
      "  - defaults/noarch::py==1.11.0=pyhd3eb1b0_0\n",
      "  - defaults/osx-64::mistune==0.8.4=py39h9ed2024_1000\n",
      "  - defaults/osx-64::astroid==2.6.6=py39hecd8cb5_0\n",
      "  - defaults/noarch::boto3==1.21.32=pyhd3eb1b0_0\n",
      "  - defaults/osx-64::pillow==9.0.1=py39hde71d04_0\n",
      "  - defaults/noarch::charset-normalizer==2.0.4=pyhd3eb1b0_0\n",
      "  - defaults/noarch::threadpoolctl==2.2.0=pyh0d69192_0\n",
      "  - defaults/osx-64::kiwisolver==1.3.2=py39he9d5cce_0\n",
      "  - defaults/noarch::sortedcontainers==2.4.0=pyhd3eb1b0_0\n",
      "  - conda-forge/noarch::hijri-converter==2.3.1=pyhd8ed1ab_0\n",
      "  - defaults/noarch::nbclassic==0.3.5=pyhd3eb1b0_0\n",
      "  - defaults/osx-64::jupyter==1.0.0=py39hecd8cb5_7\n",
      "  - defaults/noarch::asttokens==2.0.5=pyhd3eb1b0_0\n",
      "  - defaults/noarch::cookiecutter==1.7.3=pyhd3eb1b0_0\n",
      "  - defaults/osx-64::brotlipy==0.7.0=py39h9ed2024_1003\n",
      "  - conda-forge/noarch::arviz==0.13.0=pyhd8ed1ab_0\n",
      "  - defaults/osx-64::scikit-image==0.19.2=py39hae1ba45_0\n",
      "  - defaults/noarch::python-lsp-black==1.0.0=pyhd3eb1b0_0\n",
      "  - defaults/noarch::munkres==1.1.4=py_0\n",
      "  - defaults/noarch::itemloaders==1.0.4=pyhd3eb1b0_1\n",
      "  - defaults/osx-64::lazy-object-proxy==1.6.0=py39h9ed2024_0\n",
      "  - conda-forge/osx-64::netcdf4==1.5.7=nompi_py39h8cf34ae_101\n",
      "  - defaults/noarch::isort==5.9.3=pyhd3eb1b0_0\n",
      "  - defaults/noarch::itsdangerous==2.0.1=pyhd3eb1b0_0\n",
      "  - defaults/noarch::pyasn1==0.4.8=pyhd3eb1b0_0\n",
      "  - defaults/osx-64::xlwings==0.24.9=py39hecd8cb5_0\n",
      "  - defaults/noarch::plotly==5.6.0=pyhd3eb1b0_0\n",
      "  - defaults/noarch::argon2-cffi==21.3.0=pyhd3eb1b0_0\n",
      "  - defaults/noarch::dask==2022.2.1=pyhd3eb1b0_0\n",
      "  - defaults/noarch::google-cloud-core==1.7.1=pyhd3eb1b0_0\n",
      "  - defaults/osx-64::regex==2022.3.15=py39hca72f7f_0\n",
      "  - defaults/osx-64::jupyter_core==4.9.2=py39hecd8cb5_0\n",
      "  - defaults/osx-64::queuelib==1.5.0=py39hecd8cb5_0\n",
      "  - defaults/osx-64::msgpack-python==1.0.2=py39hf7b0b51_1\n",
      "  - defaults/osx-64::aiohttp==3.8.1=py39hca72f7f_1\n",
      "  - defaults/osx-64::datashape==0.5.4=py39hecd8cb5_1\n",
      "  - defaults/noarch::importlib_metadata==4.11.3=hd3eb1b0_0\n",
      "  - conda-forge/osx-64::pystan==2.19.1.1=py39h4d6be9b_3\n",
      "  - conda-forge/osx-64::cftime==1.6.2=py39h7cc1f47_1\n",
      "  - defaults/noarch::defusedxml==0.7.1=pyhd3eb1b0_0\n",
      "  - defaults/osx-64::mkl_random==1.2.2=py39hb2f4e1b_0\n",
      "  - defaults/osx-64::pyyaml==6.0=py39hca72f7f_1\n",
      "  - defaults/osx-64::jsonschema==4.4.0=py39hecd8cb5_0\n",
      "  - defaults/noarch::atomicwrites==1.4.0=py_0\n",
      "  - defaults/noarch::aiosignal==1.2.0=pyhd3eb1b0_0\n",
      "  - defaults/osx-64::matplotlib==3.5.1=py39hecd8cb5_1\n",
      "  - defaults/osx-64::multipledispatch==0.6.0=py39hecd8cb5_0\n",
      "  - defaults/noarch::datashader==0.13.0=pyhd3eb1b0_1\n",
      "  - defaults/noarch::sphinxcontrib-htmlhelp==2.0.0=pyhd3eb1b0_0\n",
      "  - defaults/noarch::conda-repo-cli==1.0.4=pyhd3eb1b0_0\n",
      "  - conda-forge/noarch::korean_lunar_calendar==0.3.1=pyhd8ed1ab_0\n",
      "  - defaults/noarch::backports.functools_lru_cache==1.6.4=pyhd3eb1b0_0\n",
      "  - defaults/noarch::rope==0.22.0=pyhd3eb1b0_0\n",
      "  - defaults/osx-64::wrapt==1.12.1=py39h9ed2024_1\n",
      "  - defaults/noarch::python-fastjsonschema==2.15.1=pyhd3eb1b0_0\n",
      "  - defaults/osx-64::python.app==3=py39hca72f7f_0\n",
      "  - conda-forge/noarch::joblib==1.2.0=pyhd8ed1ab_0\n",
      "  - defaults/osx-64::sympy==1.10.1=py39hecd8cb5_0\n",
      "  - defaults/noarch::jupyter_server==1.13.5=pyhd3eb1b0_0\n",
      "  - defaults/noarch::jdcal==1.4.1=pyhd3eb1b0_0\n",
      "  - defaults/osx-64::imagecodecs==2021.8.26=py39ha952a84_0\n",
      "  - defaults/noarch::networkx==2.7.1=pyhd3eb1b0_0\n",
      "  - defaults/noarch::pycparser==2.21=pyhd3eb1b0_0\n",
      "  - defaults/noarch::parso==0.8.3=pyhd3eb1b0_0\n",
      "  - defaults/noarch::google-resumable-media==1.3.1=pyhd3eb1b0_1\n",
      "  - defaults/osx-64::daal4py==2021.5.0=py39h24a4e90_0\n",
      "  - defaults/noarch::binaryornot==0.4.4=pyhd3eb1b0_1\n",
      "  - defaults/osx-64::bkcharts==0.2=py39hecd8cb5_0\n",
      "  - defaults/osx-64::importlib-metadata==4.11.3=py39hecd8cb5_0\n",
      "  - defaults/noarch::rsa==4.7.2=pyhd3eb1b0_1\n",
      "  - conda-forge/noarch::xarray-einstats==0.5.0=pyhd8ed1ab_0\n",
      "  - defaults/noarch::traitlets==5.1.1=pyhd3eb1b0_0\n",
      "  - defaults/noarch::openpyxl==3.0.9=pyhd3eb1b0_0\n",
      "  - defaults/noarch::pyls-spyder==0.4.0=pyhd3eb1b0_0\n",
      "  - defaults/osx-64::wurlitzer==3.0.2=py39hecd8cb5_0\n",
      "  - defaults/osx-64::astropy==5.0.4=py39h67323c0_0\n",
      "  - defaults/osx-64::appscript==1.1.2=py39h9ed2024_0\n",
      "  - defaults/osx-64::conda-build==3.21.8=py39hecd8cb5_2\n",
      "  - defaults/noarch::partd==1.2.0=pyhd3eb1b0_1\n",
      "  - defaults/noarch::jupyter_client==6.1.12=pyhd3eb1b0_0\n",
      "  - defaults/noarch::json5==0.9.6=pyhd3eb1b0_0\n",
      "  - defaults/noarch::async-timeout==4.0.1=pyhd3eb1b0_0\n",
      "  - defaults/osx-64::pywavelets==1.3.0=py39hca72f7f_0\n",
      "  - defaults/noarch::dask-core==2022.2.1=pyhd3eb1b0_0\n",
      "  - defaults/noarch::six==1.16.0=pyhd3eb1b0_1\n",
      "  - defaults/noarch::pytz==2021.3=pyhd3eb1b0_0\n",
      "  - defaults/osx-64::pyjwt==2.1.0=py39hecd8cb5_0\n",
      "  - defaults/noarch::pyhamcrest==2.0.2=pyhd3eb1b0_2\n",
      "  - defaults/osx-64::llvmlite==0.38.0=py39h8346a28_0\n",
      "  - defaults/noarch::jmespath==0.10.0=pyhd3eb1b0_0\n",
      "  - defaults/osx-64::urllib3==1.26.9=py39hecd8cb5_0\n",
      "  - defaults/noarch::backports.tempfile==1.0=pyhd3eb1b0_1\n",
      "  - defaults/osx-64::nbclient==0.5.13=py39hecd8cb5_0\n",
      "  - defaults/osx-64::numexpr==2.8.1=py39h2e5f0a9_0\n",
      "  - defaults/noarch::decorator==5.1.1=pyhd3eb1b0_0\n",
      "  - defaults/noarch::typing_extensions==4.1.1=pyh06a4308_0\n",
      "  - defaults/noarch::executing==0.8.3=pyhd3eb1b0_0\n",
      "  - defaults/noarch::sphinxcontrib-jsmath==1.0.1=pyhd3eb1b0_0\n",
      "  - defaults/noarch::jinja2==2.11.3=pyhd3eb1b0_0\n",
      "  - defaults/noarch::conda-content-trust==0.1.1=pyhd3eb1b0_0\n",
      "  - defaults/osx-64::cffi==1.15.0=py39hc55c11b_1\n",
      "  - defaults/osx-64::scipy==1.7.3=py39h8c7af03_0\n",
      "  - defaults/noarch::qtpy==2.0.1=pyhd3eb1b0_0\n",
      "  - defaults/osx-64::inflection==0.5.1=py39hecd8cb5_0\n",
      "  - defaults/osx-64::parsel==1.6.0=py39hecd8cb5_0\n",
      "  - defaults/noarch::snowballstemmer==2.2.0=pyhd3eb1b0_0\n",
      "  - defaults/noarch::nltk==3.7=pyhd3eb1b0_0\n",
      "  - defaults/noarch::pexpect==4.8.0=pyhd3eb1b0_3\n",
      "  - defaults/osx-64::conda-package-handling==1.8.1=py39hca72f7f_0\n",
      "  - defaults/noarch::fonttools==4.25.0=pyhd3eb1b0_0\n",
      "  - defaults/osx-64::py-lief==0.11.5=py39he9d5cce_1\n",
      "  - defaults/noarch::pathspec==0.7.0=py_0\n",
      "  - defaults/noarch::pyviz_comms==2.0.2=pyhd3eb1b0_0\n",
      "  - defaults/osx-64::websocket-client==0.58.0=py39hecd8cb5_4\n",
      "  - defaults/noarch::sphinx==4.4.0=pyhd3eb1b0_0\n",
      "  - defaults/noarch::dataclasses==0.8=pyh6d0b6a4_7\n",
      "  - defaults/osx-64::ipython==8.2.0=py39hecd8cb5_0\n",
      "  - defaults/osx-64::bcrypt==3.2.0=py39h9ed2024_0\n",
      "  - defaults/osx-64::sqlalchemy==1.4.32=py39hca72f7f_0\n",
      "  - defaults/osx-64::pytest==7.1.1=py39hecd8cb5_0\n",
      "  - defaults/osx-64::greenlet==1.1.1=py39h23ab428_0\n",
      "  - defaults/noarch::incremental==21.3.0=pyhd3eb1b0_0\n",
      "  - defaults/noarch::numpydoc==1.2=pyhd3eb1b0_0\n",
      "  - defaults/osx-64::multidict==5.2.0=py39hca72f7f_2\n",
      "  - defaults/osx-64::pyzmq==22.3.0=py39he9d5cce_2\n",
      "  - defaults/osx-64::patsy==0.5.2=py39hecd8cb5_1\n",
      "  - defaults/noarch::text-unidecode==1.3=pyhd3eb1b0_0\n",
      "  - defaults/noarch::xlsxwriter==3.0.3=pyhd3eb1b0_0\n",
      "  - defaults/osx-64::scrapy==2.6.1=py39hecd8cb5_0\n",
      "  - defaults/noarch::pyflakes==2.3.1=pyhd3eb1b0_0\n",
      "  - defaults/noarch::tblib==1.7.0=pyhd3eb1b0_0\n",
      "  - defaults/noarch::param==1.12.0=pyhd3eb1b0_0\n",
      "  - defaults/noarch::python-dateutil==2.8.2=pyhd3eb1b0_0\n",
      "  - defaults/osx-64::pandas==1.4.2=py39he9d5cce_0\n",
      "  - defaults/osx-64::pyct==0.4.6=py39hecd8cb5_0\n",
      "  - defaults/noarch::google-auth==1.33.0=pyhd3eb1b0_0\n",
      "  - defaults/noarch::filelock==3.6.0=pyhd3eb1b0_0\n",
      "  - defaults/noarch::diff-match-patch==20200713=pyhd3eb1b0_0\n",
      "  - defaults/osx-64::pip==21.2.4=py39hecd8cb5_0\n",
      "  - defaults/osx-64::grpcio==1.42.0=py39ha29bfda_0\n",
      "  - defaults/noarch::anaconda-project==0.10.2=pyhd3eb1b0_0\n",
      "  - defaults/noarch::sphinxcontrib-applehelp==1.0.2=pyhd3eb1b0_0\n",
      "  - defaults/osx-64::spyder-kernels==2.1.3=py39hecd8cb5_0\n",
      "  - defaults/osx-64::protobuf==3.19.1=py39he9d5cce_0\n",
      "  - defaults/noarch::qtconsole==5.3.0=pyhd3eb1b0_0\n",
      "  - defaults/noarch::wcwidth==0.2.5=pyhd3eb1b0_0\n",
      "  - defaults/osx-64::googleapis-common-protos==1.53.0=py39hecd8cb5_0\n",
      "  - defaults/noarch::unidecode==1.2.0=pyhd3eb1b0_0\n",
      "  - defaults/osx-64::debugpy==1.5.1=py39he9d5cce_0\n",
      "  - defaults/osx-64::_ipyw_jlab_nb_ext_conf==0.1.0=py39hecd8cb5_1\n",
      "  - defaults/osx-64::argon2-cffi-bindings==21.2.0=py39hca72f7f_0\n",
      "  - defaults/noarch::prompt_toolkit==3.0.20=hd3eb1b0_0\n",
      "  - defaults/noarch::xlrd==2.0.1=pyhd3eb1b0_0\n",
      "  - defaults/noarch::conda-verify==3.4.2=py_1\n",
      "  - defaults/noarch::itemadapter==0.3.0=pyhd3eb1b0_0\n",
      "  - defaults/noarch::pyasn1-modules==0.2.8=py_0\n",
      "  - defaults/osx-64::pyodbc==4.0.32=py39he9d5cce_1\n",
      "  - defaults/noarch::send2trash==1.8.0=pyhd3eb1b0_1\n",
      "  - defaults/noarch::nose==1.3.7=pyhd3eb1b0_1008\n",
      "  - defaults/osx-64::statsmodels==0.13.2=py39hca72f7f_0\n",
      "  - defaults/noarch::flake8==3.9.2=pyhd3eb1b0_0\n",
      "  - defaults/osx-64::rtree==0.9.7=py39hecd8cb5_1\n",
      "  - defaults/osx-64::cython==0.29.28=py39he9d5cce_0\n",
      "  - defaults/osx-64::beautifulsoup4==4.11.1=py39hecd8cb5_0\n",
      "  - defaults/noarch::protego==0.1.16=py_0\n",
      "  - defaults/noarch::iniconfig==1.1.1=pyhd3eb1b0_0\n",
      "  - defaults/noarch::cycler==0.11.0=pyhd3eb1b0_0\n",
      "  - defaults/osx-64::ujson==5.1.0=py39he9d5cce_0\n",
      "  - defaults/noarch::mock==4.0.3=pyhd3eb1b0_0\n",
      "  - defaults/osx-64::tenacity==8.0.1=py39hecd8cb5_0\n",
      "  - defaults/osx-64::numpy==1.21.5=py39h2e5f0a9_1\n",
      "  - defaults/osx-64::yarl==1.6.3=py39h9ed2024_0\n",
      "  - conda-forge/noarch::certifi==2023.5.7=pyhd8ed1ab_0\n",
      "  - defaults/noarch::jupyterlab_pygments==0.1.2=py_0\n",
      "  - defaults/noarch::testpath==0.5.0=pyhd3eb1b0_0\n",
      "  - defaults/noarch::jinja2-time==0.2.0=pyhd3eb1b0_3\n",
      "  - defaults/noarch::textdistance==4.2.1=pyhd3eb1b0_0\n",
      "  - conda-forge/osx-64::ephem==4.1.4=py39ha30fb19_0\n",
      "  - defaults/noarch::ipython_genutils==0.2.0=pyhd3eb1b0_1\n",
      "  - defaults/osx-64::psutil==5.8.0=py39h9ed2024_1\n",
      "  - conda-forge/noarch::convertdate==2.4.0=pyhd8ed1ab_0\n",
      "  - defaults/noarch::toml==0.10.2=pyhd3eb1b0_0\n",
      "  - defaults/noarch::w3lib==1.21.0=pyhd3eb1b0_0\n",
      "  - defaults/noarch::jupyterlab_server==2.10.3=pyhd3eb1b0_1\n",
      "  - defaults/osx-64::nbconvert==6.4.4=py39hecd8cb5_0\n",
      "  - defaults/osx-64::ipykernel==6.9.1=py39hecd8cb5_0\n",
      "  - defaults/noarch::botocore==1.24.32=pyhd3eb1b0_0\n",
      "  - defaults/osx-64::numpy-base==1.21.5=py39h3b1a694_1\n",
      "  - defaults/osx-64::gensim==4.1.2=py39he9d5cce_0\n",
      "  - defaults/noarch::cssselect==1.1.0=pyhd3eb1b0_0\n",
      "  - defaults/noarch::sphinxcontrib-qthelp==1.0.3=pyhd3eb1b0_0\n",
      "  - defaults/noarch::cloudpickle==2.0.0=pyhd3eb1b0_0\n",
      "  - defaults/noarch::jupyter_console==6.4.0=pyhd3eb1b0_0\n",
      "  - defaults/osx-64::matplotlib-base==3.5.1=py39hfb0c5b7_1\n",
      "  - defaults/noarch::three-merge==0.1.1=pyhd3eb1b0_0\n",
      "  - defaults/noarch::autopep8==1.6.0=pyhd3eb1b0_0\n",
      "  - defaults/noarch::python-lsp-jsonrpc==1.0.0=pyhd3eb1b0_0\n",
      "  - defaults/noarch::attrs==21.4.0=pyhd3eb1b0_0\n",
      "  - defaults/noarch::backcall==0.2.0=pyhd3eb1b0_0\n",
      "  - defaults/noarch::matplotlib-inline==0.1.2=pyhd3eb1b0_2\n",
      "  - defaults/noarch::bleach==4.1.0=pyhd3eb1b0_0\n",
      "  - defaults/osx-64::zope.interface==5.4.0=py39h9ed2024_0\n",
      "  - defaults/noarch::qstylizer==0.1.10=pyhd3eb1b0_0\n",
      "  - defaults/osx-64::pyqt==5.9.2=py39h23ab428_6\n",
      "  - defaults/osx-64::numba==0.55.1=py39hae1ba45_0\n",
      "  - defaults/osx-64::frozenlist==1.2.0=py39hca72f7f_0\n",
      "  - defaults/osx-64::anaconda-client==1.9.0=py39hecd8cb5_0\n",
      "  - defaults/noarch::requests==2.27.1=pyhd3eb1b0_0\n",
      "  - defaults/noarch::pydocstyle==6.1.1=pyhd3eb1b0_0\n",
      "  - defaults/noarch::glob2==0.7=pyhd3eb1b0_0\n",
      "  - defaults/osx-64::pytables==3.6.1=py39h648f197_1\n",
      "  - defaults/noarch::flask==1.1.2=pyhd3eb1b0_0\n",
      "  - conda-forge/noarch::pymeeus==0.5.12=pyhd8ed1ab_0\n",
      "  - defaults/noarch::intake==0.6.5=pyhd3eb1b0_0\n",
      "  - defaults/noarch::black==19.10b0=py_0\n",
      "  - defaults/noarch::google-api-core==1.25.1=pyhd3eb1b0_0\n",
      "  - defaults/osx-64::tbb4py==2021.5.0=py39haf03e11_0\n",
      "  - defaults/noarch::hyperlink==21.0.0=pyhd3eb1b0_0\n",
      "  - defaults/osx-64::keyring==23.4.0=py39hecd8cb5_0\n",
      "  - defaults/noarch::prompt-toolkit==3.0.20=pyhd3eb1b0_0\n",
      "  - defaults/osx-64::markupsafe==2.0.1=py39h9ed2024_0\n",
      "  - defaults/osx-64::python==3.9.12=hdfd78df_0\n",
      "  - defaults/noarch::google-cloud-storage==1.31.0=py_0\n",
      "  - conda-forge/osx-64::conda==4.12.0=py39h6e9494a_0\n",
      "  - defaults/noarch::pyopenssl==21.0.0=pyhd3eb1b0_1\n",
      "  - defaults/noarch::pure_eval==0.2.2=pyhd3eb1b0_0\n",
      "  - defaults/noarch::qtawesome==1.0.3=pyhd3eb1b0_0\n",
      "  - defaults/osx-64::pyerfa==2.0.0=py39h9ed2024_0\n",
      "  - defaults/noarch::heapdict==1.0.1=pyhd3eb1b0_0\n",
      "  - defaults/noarch::appdirs==1.4.4=pyhd3eb1b0_0\n",
      "  - defaults/noarch::tinycss==0.4=pyhd3eb1b0_1002\n",
      "  - defaults/osx-64::locket==0.2.1=py39hecd8cb5_2\n",
      "  - defaults/osx-64::pylint==2.9.6=py39hecd8cb5_1\n",
      "  - defaults/osx-64::google-crc32c==1.1.2=py39h9ed2024_0\n",
      "  - defaults/noarch::sphinxcontrib-serializinghtml==1.1.5=pyhd3eb1b0_0\n",
      "  - defaults/osx-64::bokeh==2.4.2=py39hecd8cb5_0\n",
      "  - defaults/osx-64::spyder==5.1.5=py39hecd8cb5_1\n",
      "  - defaults/noarch::hvplot==0.7.3=pyhd3eb1b0_1\n",
      "  - defaults/osx-64::mypy_extensions==0.4.3=py39hecd8cb5_1\n",
      "  - defaults/noarch::typing-extensions==4.1.1=hd3eb1b0_0\n",
      "  - defaults/osx-64::pydispatcher==2.0.5=py39hecd8cb5_2\n",
      "  - defaults/noarch::tomli==1.2.2=pyhd3eb1b0_0\n",
      "  - defaults/osx-64::h5py==3.6.0=py39h4a1dd59_0\n",
      "  - defaults/osx-64::anyio==3.5.0=py39hecd8cb5_0\n",
      "  - defaults/noarch::ipywidgets==7.6.5=pyhd3eb1b0_1\n",
      "  - defaults/osx-64::nbformat==5.3.0=py39hecd8cb5_0\n",
      "  - defaults/noarch::soupsieve==2.3.1=pyhd3eb1b0_0\n",
      "  - defaults/osx-64::gmpy2==2.1.2=py39hd5de756_0\n",
      "  - defaults/osx-64::markdown==3.3.4=py39hecd8cb5_0\n",
      "  - defaults/osx-64::pyrsistent==0.18.0=py39hca72f7f_0\n",
      "  - defaults/noarch::intervaltree==3.1.0=pyhd3eb1b0_0\n",
      "  - defaults/noarch::backports==1.1=pyhd3eb1b0_0\n",
      "  - defaults/noarch::colorcet==2.0.6=pyhd3eb1b0_0\n",
      "  - conda-forge/osx-64::python_abi==3.9=2_cp39\n",
      "  - defaults/noarch::python-lsp-server==1.2.4=pyhd3eb1b0_0\n",
      "  - defaults/noarch::applaunchservices==0.2.1=pyhd3eb1b0_0\n",
      "  - defaults/osx-64::mkl_fft==1.3.1=py39h4ab4a9b_0\n",
      "  - defaults/noarch::python-libarchive-c==2.9=pyhd3eb1b0_1\n",
      "  - defaults/osx-64::tornado==6.1=py39h9ed2024_0\n",
      "  - defaults/osx-64::pycurl==7.44.1=py39hbcfaee0_1\n",
      "  - defaults/noarch::toolz==0.11.2=pyhd3eb1b0_0\n",
      "  - defaults/osx-64::nest-asyncio==1.5.5=py39hecd8cb5_0\n",
      "  - defaults/osx-64::pycosat==0.6.3=py39h9ed2024_0\n",
      "  - defaults/noarch::conda-token==0.3.0=pyhd3eb1b0_0\n",
      "  - defaults/osx-64::chardet==4.0.0=py39hecd8cb5_1003\n",
      "  - defaults/osx-64::cryptography==3.4.8=py39h2fd3fbb_0\n",
      "  - defaults/noarch::seaborn==0.11.2=pyhd3eb1b0_0\n",
      "  - defaults/osx-64::entrypoints==0.4=py39hecd8cb5_0\n",
      "  - defaults/osx-64::cytoolz==0.11.0=py39h9ed2024_0\n",
      "  - defaults/noarch::prometheus_client==0.13.1=pyhd3eb1b0_0\n",
      "  - defaults/noarch::pyparsing==3.0.4=pyhd3eb1b0_0\n",
      "  - defaults/osx-64::appnope==0.1.2=py39hecd8cb5_1001\n",
      "  - defaults/osx-64::anaconda==custom=py39_1\n",
      "  - defaults/noarch::sortedcollections==2.1.0=pyhd3eb1b0_0\n",
      "  - defaults/osx-64::et_xmlfile==1.1.0=py39hecd8cb5_0\n",
      "  - defaults/noarch::automat==20.2.0=py_0\n",
      "  - defaults/osx-64::_anaconda_depends==2022.10=py39_2\n",
      "  - defaults/noarch::colorama==0.4.4=pyhd3eb1b0_0\n",
      "  - defaults/osx-64::zope==1.0=py39hecd8cb5_1\n",
      "  - defaults/osx-64::lxml==4.8.0=py39h65b224f_0\n",
      "  - defaults/osx-64::python-snappy==0.6.0=py39h23ab428_3\n",
      "  - defaults/noarch::zipp==3.7.0=pyhd3eb1b0_0\n",
      "  - defaults/osx-64::scikit-learn-intelex==2021.5.0=py39hecd8cb5_0\n",
      "  - defaults/osx-64::mccabe==0.6.1=py39hecd8cb5_1\n",
      "  - defaults/noarch::olefile==0.46=pyhd3eb1b0_0\n",
      "  - defaults/noarch::jupyterlab==3.3.2=pyhd3eb1b0_0\n",
      "  - defaults/noarch::service_identity==18.1.0=pyhd3eb1b0_1\n",
      "  - defaults/noarch::pickleshare==0.7.5=pyhd3eb1b0_1003\n",
      "  - defaults/noarch::werkzeug==2.0.3=pyhd3eb1b0_0\n",
      "  - defaults/osx-64::future==0.18.2=py39hecd8cb5_1\n",
      "  - defaults/osx-64::twisted==22.2.0=py39hca72f7f_0\n",
      "  - defaults/noarch::sphinxcontrib-devhelp==1.0.2=pyhd3eb1b0_0\n",
      "  - defaults/noarch::stack_data==0.2.0=pyhd3eb1b0_0\n",
      "  - defaults/osx-64::docutils==0.17.1=py39hecd8cb5_1\n",
      "  - defaults/noarch::packaging==21.3=pyhd3eb1b0_0\n",
      "  - conda-forge/noarch::lunarcalendar==0.0.9=py_0\n",
      "  - defaults/osx-64::navigator-updater==0.2.1=py39_1\n",
      "  - defaults/noarch::pygments==2.11.2=pyhd3eb1b0_0\n",
      "  - defaults/osx-64::ruamel_yaml==0.15.100=py39h9ed2024_0\n",
      "  - defaults/osx-64::pluggy==1.0.0=py39hecd8cb5_1\n",
      "  - defaults/noarch::fsspec==2022.2.0=pyhd3eb1b0_0\n",
      "  - defaults/osx-64::widgetsnbextension==3.5.2=py39hecd8cb5_0\n",
      "  - defaults/osx-64::terminado==0.13.1=py39hecd8cb5_0\n",
      "  - defaults/noarch::wheel==0.37.1=pyhd3eb1b0_0\n",
      "  - defaults/osx-64::clyent==1.2.2=py39hecd8cb5_1\n",
      "  - defaults/noarch::backports.weakref==1.0.post1=py_1\n",
      "  - defaults/noarch::imagesize==1.3.0=pyhd3eb1b0_0\n",
      "  - defaults/osx-64::sniffio==1.2.0=py39hecd8cb5_1\n",
      "  - conda-forge/osx-64::prophet==1.0.1=py39h6e9494a_5\n",
      "  - defaults/noarch::pandocfilters==1.5.0=pyhd3eb1b0_0\n",
      "  - defaults/noarch::tldextract==3.2.0=pyhd3eb1b0_0\n",
      "  - defaults/osx-64::sip==4.19.13=py39h23ab428_0\n",
      "  - defaults/osx-64::pep8==1.7.1=py39hecd8cb5_0\n",
      "  - defaults/noarch::zict==2.0.0=pyhd3eb1b0_0\n",
      "  - defaults/noarch::xarray==0.20.1=pyhd3eb1b0_1\n",
      "  - defaults/noarch::distributed==2022.2.1=pyhd3eb1b0_0\n",
      "  - defaults/osx-64::watchdog==2.1.6=py39h999c104_0\n",
      "  - defaults/osx-64::panel==0.13.0=py39hecd8cb5_0\n"
     ]
    },
    {
     "name": "stdout",
     "output_type": "stream",
     "text": [
      "done\n",
      "\n",
      "## Package Plan ##\n",
      "\n",
      "  environment location: /Users/donggunhan/opt/anaconda3\n",
      "\n",
      "  added / updated specs:\n",
      "    - lightgbm\n",
      "\n",
      "\n",
      "The following packages will be downloaded:\n",
      "\n",
      "    package                    |            build\n",
      "    ---------------------------|-----------------\n",
      "    ca-certificates-2023.05.30 |       hecd8cb5_0         121 KB\n",
      "    holidays-0.29              |   py39hecd8cb5_0         415 KB\n",
      "    lightgbm-3.2.1             |   py39h23ab428_0         996 KB\n",
      "    openssl-1.1.1u             |       hca72f7f_0         3.4 MB\n",
      "    prophet-1.0.1              |   py39hecd8cb5_0         579 KB\n",
      "    setuptools-68.0.0          |   py39hecd8cb5_0         946 KB\n",
      "    ------------------------------------------------------------\n",
      "                                           Total:         6.3 MB\n",
      "\n",
      "The following NEW packages will be INSTALLED:\n",
      "\n",
      "  holidays           pkgs/main/osx-64::holidays-0.29-py39hecd8cb5_0\n",
      "  lightgbm           pkgs/main/osx-64::lightgbm-3.2.1-py39h23ab428_0\n",
      "  setuptools         pkgs/main/osx-64::setuptools-68.0.0-py39hecd8cb5_0\n",
      "\n",
      "The following packages will be UPDATED:\n",
      "\n",
      "  ca-certificates    conda-forge::ca-certificates-2023.5.7~ --> pkgs/main::ca-certificates-2023.05.30-hecd8cb5_0\n",
      "  openssl            conda-forge::openssl-1.1.1t-hfd90126_0 --> pkgs/main::openssl-1.1.1u-hca72f7f_0\n",
      "\n",
      "The following packages will be SUPERSEDED by a higher-priority channel:\n",
      "\n",
      "  prophet            conda-forge::prophet-1.0.1-py39h6e949~ --> pkgs/main::prophet-1.0.1-py39hecd8cb5_0\n",
      "\n",
      "\n",
      "\n",
      "Downloading and Extracting Packages\n",
      "lightgbm-3.2.1       | 996 KB    | ##################################### | 100% \n",
      "openssl-1.1.1u       | 3.4 MB    | ##################################### | 100% \n",
      "prophet-1.0.1        | 579 KB    | ##################################### | 100% \n",
      "ca-certificates-2023 | 121 KB    | ##################################### | 100% \n",
      "holidays-0.29        | 415 KB    | ##################################### | 100% \n",
      "setuptools-68.0.0    | 946 KB    | ##################################### | 100% \n",
      "Preparing transaction: done\n",
      "Verifying transaction: failed\n",
      "\n",
      "RemoveError: 'setuptools' is a dependency of conda and cannot be removed from\n",
      "conda's operating environment.\n",
      "\n",
      "\n",
      "Note: you may need to restart the kernel to use updated packages.\n"
     ]
    }
   ],
   "source": [
    "conda install lightgbm"
   ]
  },
  {
   "cell_type": "code",
   "execution_count": 217,
   "id": "668ad27e",
   "metadata": {
    "ExecuteTime": {
     "end_time": "2023-07-29T08:18:25.515252Z",
     "start_time": "2023-07-29T08:18:22.817693Z"
    },
    "hidden": true,
    "scrolled": true
   },
   "outputs": [
    {
     "name": "stdout",
     "output_type": "stream",
     "text": [
      "Collecting optuna\n",
      "  Downloading optuna-3.2.0-py3-none-any.whl (390 kB)\n",
      "\u001b[K     |████████████████████████████████| 390 kB 8.4 MB/s eta 0:00:01\n",
      "\u001b[?25hCollecting colorlog\n",
      "  Downloading colorlog-6.7.0-py2.py3-none-any.whl (11 kB)\n",
      "Requirement already satisfied: numpy in /Users/donggunhan/opt/anaconda3/lib/python3.9/site-packages (from optuna) (1.21.5)\n",
      "Collecting alembic>=1.5.0\n",
      "  Downloading alembic-1.11.1-py3-none-any.whl (224 kB)\n",
      "\u001b[K     |████████████████████████████████| 224 kB 20.3 MB/s eta 0:00:01\n",
      "\u001b[?25hRequirement already satisfied: PyYAML in /Users/donggunhan/opt/anaconda3/lib/python3.9/site-packages (from optuna) (6.0)\n",
      "Collecting cmaes>=0.9.1\n",
      "  Downloading cmaes-0.10.0-py3-none-any.whl (29 kB)\n",
      "Requirement already satisfied: sqlalchemy>=1.3.0 in /Users/donggunhan/opt/anaconda3/lib/python3.9/site-packages (from optuna) (1.4.32)\n",
      "Requirement already satisfied: tqdm in /Users/donggunhan/opt/anaconda3/lib/python3.9/site-packages (from optuna) (4.64.0)\n",
      "Requirement already satisfied: packaging>=20.0 in /Users/donggunhan/opt/anaconda3/lib/python3.9/site-packages (from optuna) (21.3)\n",
      "Collecting Mako\n",
      "  Downloading Mako-1.2.4-py3-none-any.whl (78 kB)\n",
      "\u001b[K     |████████████████████████████████| 78 kB 14.4 MB/s eta 0:00:01\n",
      "\u001b[?25hRequirement already satisfied: typing-extensions>=4 in /Users/donggunhan/opt/anaconda3/lib/python3.9/site-packages (from alembic>=1.5.0->optuna) (4.1.1)\n",
      "Requirement already satisfied: pyparsing!=3.0.5,>=2.0.2 in /Users/donggunhan/opt/anaconda3/lib/python3.9/site-packages (from packaging>=20.0->optuna) (3.0.4)\n",
      "Requirement already satisfied: greenlet!=0.4.17 in /Users/donggunhan/opt/anaconda3/lib/python3.9/site-packages (from sqlalchemy>=1.3.0->optuna) (1.1.1)\n",
      "Requirement already satisfied: MarkupSafe>=0.9.2 in /Users/donggunhan/opt/anaconda3/lib/python3.9/site-packages (from Mako->alembic>=1.5.0->optuna) (2.0.1)\n",
      "Installing collected packages: Mako, colorlog, cmaes, alembic, optuna\n",
      "Successfully installed Mako-1.2.4 alembic-1.11.1 cmaes-0.10.0 colorlog-6.7.0 optuna-3.2.0\n"
     ]
    }
   ],
   "source": [
    "!pip install optuna"
   ]
  },
  {
   "cell_type": "code",
   "execution_count": 355,
   "id": "12614b69",
   "metadata": {
    "ExecuteTime": {
     "end_time": "2023-07-29T16:31:13.284300Z",
     "start_time": "2023-07-29T16:30:52.142996Z"
    },
    "hidden": true,
    "scrolled": false
   },
   "outputs": [
    {
     "name": "stdout",
     "output_type": "stream",
     "text": [
      "Collecting pyqt5\n",
      "  Downloading PyQt5-5.15.9-cp37-abi3-macosx_10_13_x86_64.whl (7.0 MB)\n",
      "\u001b[K     |████████████████████████████████| 7.0 MB 5.4 MB/s eta 0:00:01\n",
      "\u001b[?25hCollecting pyqtwebengine\n",
      "  Downloading PyQtWebEngine-5.15.6-cp37-abi3-macosx_10_13_x86_64.whl (187 kB)\n",
      "\u001b[K     |████████████████████████████████| 187 kB 9.1 MB/s eta 0:00:01\n",
      "\u001b[?25hCollecting PyQt5-sip<13,>=12.11\n",
      "  Downloading PyQt5_sip-12.12.2-cp39-cp39-macosx_10_9_universal2.whl (142 kB)\n",
      "\u001b[K     |████████████████████████████████| 142 kB 7.7 MB/s eta 0:00:01\n",
      "\u001b[?25hCollecting PyQt5-Qt5>=5.15.2\n",
      "  Downloading PyQt5_Qt5-5.15.2-py3-none-macosx_10_13_intel.whl (40.5 MB)\n",
      "\u001b[K     |████████████████████████████████| 40.5 MB 3.1 MB/s eta 0:00:01\n",
      "\u001b[?25hCollecting PyQtWebEngine-Qt5>=5.15.0\n",
      "  Downloading PyQtWebEngine_Qt5-5.15.2-py3-none-macosx_10_13_intel.whl (77.9 MB)\n",
      "\u001b[K     |████████████████████████████████| 77.9 MB 418 kB/s eta 0:00:016\n",
      "\u001b[?25hInstalling collected packages: PyQt5-sip, PyQt5-Qt5, PyQtWebEngine-Qt5, pyqt5, pyqtwebengine\n",
      "\u001b[31mERROR: pip's dependency resolver does not currently take into account all the packages that are installed. This behaviour is the source of the following dependency conflicts.\n",
      "spyder 5.1.5 requires pyqt5<5.13, but you have pyqt5 5.15.9 which is incompatible.\n",
      "spyder 5.1.5 requires pyqtwebengine<5.13, but you have pyqtwebengine 5.15.6 which is incompatible.\u001b[0m\n",
      "Successfully installed PyQt5-Qt5-5.15.2 PyQt5-sip-12.12.2 PyQtWebEngine-Qt5-5.15.2 pyqt5-5.15.9 pyqtwebengine-5.15.6\n"
     ]
    }
   ],
   "source": [
    "!pip install pyqt5 pyqtwebengine\n"
   ]
  },
  {
   "cell_type": "code",
   "execution_count": null,
   "id": "49aba9ff",
   "metadata": {
    "ExecuteTime": {
     "end_time": "2023-07-29T16:42:59.701489Z",
     "start_time": "2023-07-29T16:42:59.701482Z"
    },
    "hidden": true
   },
   "outputs": [],
   "source": [
    "pip install pyqt5==5.12 pyqtwebengine==5.12\n"
   ]
  },
  {
   "cell_type": "code",
   "execution_count": 356,
   "id": "b93cee3a",
   "metadata": {
    "ExecuteTime": {
     "end_time": "2023-07-29T16:32:32.967768Z",
     "start_time": "2023-07-29T16:31:23.110721Z"
    },
    "hidden": true
   },
   "outputs": [
    {
     "name": "stdout",
     "output_type": "stream",
     "text": [
      "Requirement already satisfied: spyder in /Users/donggunhan/opt/anaconda3/lib/python3.9/site-packages (5.1.5)\n",
      "Requirement already satisfied: pexpect>=4.4.0 in /Users/donggunhan/opt/anaconda3/lib/python3.9/site-packages (from spyder) (4.8.0)\n",
      "Requirement already satisfied: parso<0.9.0,>=0.7.0 in /Users/donggunhan/opt/anaconda3/lib/python3.9/site-packages (from spyder) (0.8.3)\n",
      "Requirement already satisfied: three-merge>=0.1.1 in /Users/donggunhan/opt/anaconda3/lib/python3.9/site-packages (from spyder) (0.1.1)\n",
      "Requirement already satisfied: python-lsp-black>=1.0.0 in /Users/donggunhan/opt/anaconda3/lib/python3.9/site-packages (from spyder) (1.0.0)\n",
      "Requirement already satisfied: qdarkstyle==3.0.2 in /Users/donggunhan/opt/anaconda3/lib/python3.9/site-packages (from spyder) (3.0.2)\n",
      "Requirement already satisfied: pygments>=2.0 in /Users/donggunhan/opt/anaconda3/lib/python3.9/site-packages (from spyder) (2.11.2)\n",
      "Requirement already satisfied: setuptools>=49.6.0 in /Users/donggunhan/opt/anaconda3/lib/python3.9/site-packages (from spyder) (67.8.0)\n",
      "Requirement already satisfied: numpydoc>=0.6.0 in /Users/donggunhan/opt/anaconda3/lib/python3.9/site-packages (from spyder) (1.2)\n",
      "Requirement already satisfied: qtpy>=1.5.0 in /Users/donggunhan/opt/anaconda3/lib/python3.9/site-packages (from spyder) (2.0.1)\n",
      "Requirement already satisfied: ipython>=7.6.0 in /Users/donggunhan/opt/anaconda3/lib/python3.9/site-packages (from spyder) (8.2.0)\n",
      "Requirement already satisfied: rtree>=0.9.7 in /Users/donggunhan/opt/anaconda3/lib/python3.9/site-packages (from spyder) (0.9.7)\n",
      "Requirement already satisfied: textdistance>=4.2.0 in /Users/donggunhan/opt/anaconda3/lib/python3.9/site-packages (from spyder) (4.2.1)\n",
      "Requirement already satisfied: qtconsole>=5.1.0 in /Users/donggunhan/opt/anaconda3/lib/python3.9/site-packages (from spyder) (5.3.0)\n",
      "Requirement already satisfied: spyder-kernels<2.2.0,>=2.1.1 in /Users/donggunhan/opt/anaconda3/lib/python3.9/site-packages (from spyder) (2.1.3)\n",
      "Requirement already satisfied: cloudpickle>=0.5.0 in /Users/donggunhan/opt/anaconda3/lib/python3.9/site-packages (from spyder) (2.0.0)\n",
      "Requirement already satisfied: applaunchservices>=0.1.7 in /Users/donggunhan/opt/anaconda3/lib/python3.9/site-packages (from spyder) (0.2.1)\n",
      "Requirement already satisfied: pyls-spyder>=0.4.0 in /Users/donggunhan/opt/anaconda3/lib/python3.9/site-packages (from spyder) (0.4.0)\n",
      "Requirement already satisfied: jsonschema>=3.2.0 in /Users/donggunhan/opt/anaconda3/lib/python3.9/site-packages (from spyder) (4.4.0)\n",
      "Requirement already satisfied: pylint<2.10.0,>=2.5.0 in /Users/donggunhan/opt/anaconda3/lib/python3.9/site-packages (from spyder) (2.9.6)\n",
      "Requirement already satisfied: cookiecutter>=1.6.0 in /Users/donggunhan/opt/anaconda3/lib/python3.9/site-packages (from spyder) (1.7.3)\n",
      "Requirement already satisfied: jedi<0.19.0,>=0.17.2 in /Users/donggunhan/opt/anaconda3/lib/python3.9/site-packages (from spyder) (0.18.1)\n",
      "Requirement already satisfied: qstylizer>=0.1.10 in /Users/donggunhan/opt/anaconda3/lib/python3.9/site-packages (from spyder) (0.1.10)\n",
      "Requirement already satisfied: pickleshare>=0.4 in /Users/donggunhan/opt/anaconda3/lib/python3.9/site-packages (from spyder) (0.7.5)\n",
      "Collecting pyqtwebengine<5.13\n",
      "  Downloading PyQtWebEngine-5.12.1-5.12.10-cp35.cp36.cp37.cp38.cp39-abi3-macosx_10_6_intel.whl (56.8 MB)\n",
      "\u001b[K     |████████████████████████████████| 56.8 MB 7.2 MB/s eta 0:00:011     |█████████████████████████       | 44.5 MB 8.9 MB/s eta 0:00:02\n",
      "\u001b[?25hRequirement already satisfied: intervaltree>=3.0.2 in /Users/donggunhan/opt/anaconda3/lib/python3.9/site-packages (from spyder) (3.1.0)\n",
      "Requirement already satisfied: qtawesome>=1.0.2 in /Users/donggunhan/opt/anaconda3/lib/python3.9/site-packages (from spyder) (1.0.3)\n",
      "Requirement already satisfied: python-lsp-server[all]<1.3.0,>=1.2.2 in /Users/donggunhan/opt/anaconda3/lib/python3.9/site-packages (from spyder) (1.2.4)\n",
      "Collecting pyqt5<5.13\n",
      "  Downloading PyQt5-5.12.3-5.12.10-cp35.cp36.cp37.cp38.cp39-abi3-macosx_10_6_intel.whl (39.8 MB)\n",
      "\u001b[K     |████████████████████████████████| 39.8 MB 7.9 MB/s eta 0:00:01\n",
      "\u001b[?25hRequirement already satisfied: nbconvert>=4.0 in /Users/donggunhan/opt/anaconda3/lib/python3.9/site-packages (from spyder) (6.4.4)\n",
      "Requirement already satisfied: chardet>=2.0.0 in /Users/donggunhan/opt/anaconda3/lib/python3.9/site-packages (from spyder) (4.0.0)\n",
      "Requirement already satisfied: psutil>=5.3 in /Users/donggunhan/opt/anaconda3/lib/python3.9/site-packages (from spyder) (5.9.5)\n",
      "Requirement already satisfied: sphinx>=0.6.6 in /Users/donggunhan/opt/anaconda3/lib/python3.9/site-packages (from spyder) (4.4.0)\n",
      "Requirement already satisfied: keyring>=17.0.0 in /Users/donggunhan/opt/anaconda3/lib/python3.9/site-packages (from spyder) (23.4.0)\n",
      "Requirement already satisfied: watchdog>=0.10.3 in /Users/donggunhan/opt/anaconda3/lib/python3.9/site-packages (from spyder) (2.1.6)\n",
      "Requirement already satisfied: diff-match-patch>=20181111 in /Users/donggunhan/opt/anaconda3/lib/python3.9/site-packages (from spyder) (20200713)\n",
      "Requirement already satisfied: atomicwrites>=1.2.0 in /Users/donggunhan/opt/anaconda3/lib/python3.9/site-packages (from spyder) (1.4.0)\n",
      "Requirement already satisfied: pyzmq>=17 in /Users/donggunhan/opt/anaconda3/lib/python3.9/site-packages (from spyder) (22.3.0)\n",
      "Collecting pyobjc\n",
      "  Downloading pyobjc-9.2-py3-none-any.whl (4.0 kB)\n",
      "Requirement already satisfied: poyo>=0.5.0 in /Users/donggunhan/opt/anaconda3/lib/python3.9/site-packages (from cookiecutter>=1.6.0->spyder) (0.5.0)\n",
      "Requirement already satisfied: Jinja2<4.0.0,>=2.7 in /Users/donggunhan/opt/anaconda3/lib/python3.9/site-packages (from cookiecutter>=1.6.0->spyder) (2.11.3)\n",
      "Requirement already satisfied: python-slugify>=4.0.0 in /Users/donggunhan/opt/anaconda3/lib/python3.9/site-packages (from cookiecutter>=1.6.0->spyder) (5.0.2)\n",
      "Requirement already satisfied: binaryornot>=0.4.4 in /Users/donggunhan/opt/anaconda3/lib/python3.9/site-packages (from cookiecutter>=1.6.0->spyder) (0.4.4)\n",
      "Requirement already satisfied: requests>=2.23.0 in /Users/donggunhan/opt/anaconda3/lib/python3.9/site-packages (from cookiecutter>=1.6.0->spyder) (2.27.1)\n",
      "Requirement already satisfied: click>=7.0 in /Users/donggunhan/opt/anaconda3/lib/python3.9/site-packages (from cookiecutter>=1.6.0->spyder) (8.0.4)\n",
      "Requirement already satisfied: jinja2-time>=0.2.0 in /Users/donggunhan/opt/anaconda3/lib/python3.9/site-packages (from cookiecutter>=1.6.0->spyder) (0.2.0)\n",
      "Requirement already satisfied: six>=1.10 in /Users/donggunhan/opt/anaconda3/lib/python3.9/site-packages (from cookiecutter>=1.6.0->spyder) (1.16.0)\n",
      "Requirement already satisfied: sortedcontainers<3.0,>=2.0 in /Users/donggunhan/opt/anaconda3/lib/python3.9/site-packages (from intervaltree>=3.0.2->spyder) (2.4.0)\n",
      "Requirement already satisfied: stack-data in /Users/donggunhan/opt/anaconda3/lib/python3.9/site-packages (from ipython>=7.6.0->spyder) (0.2.0)\n",
      "Requirement already satisfied: backcall in /Users/donggunhan/opt/anaconda3/lib/python3.9/site-packages (from ipython>=7.6.0->spyder) (0.2.0)\n",
      "Requirement already satisfied: appnope in /Users/donggunhan/opt/anaconda3/lib/python3.9/site-packages (from ipython>=7.6.0->spyder) (0.1.2)\n",
      "Requirement already satisfied: prompt-toolkit!=3.0.0,!=3.0.1,<3.1.0,>=2.0.0 in /Users/donggunhan/opt/anaconda3/lib/python3.9/site-packages (from ipython>=7.6.0->spyder) (3.0.20)\n",
      "Requirement already satisfied: matplotlib-inline in /Users/donggunhan/opt/anaconda3/lib/python3.9/site-packages (from ipython>=7.6.0->spyder) (0.1.2)\n",
      "Requirement already satisfied: traitlets>=5 in /Users/donggunhan/opt/anaconda3/lib/python3.9/site-packages (from ipython>=7.6.0->spyder) (5.1.1)\n",
      "Requirement already satisfied: decorator in /Users/donggunhan/opt/anaconda3/lib/python3.9/site-packages (from ipython>=7.6.0->spyder) (5.1.1)\n",
      "Requirement already satisfied: MarkupSafe>=0.23 in /Users/donggunhan/opt/anaconda3/lib/python3.9/site-packages (from Jinja2<4.0.0,>=2.7->cookiecutter>=1.6.0->spyder) (2.0.1)\n",
      "Requirement already satisfied: arrow in /Users/donggunhan/opt/anaconda3/lib/python3.9/site-packages (from jinja2-time>=0.2.0->cookiecutter>=1.6.0->spyder) (1.2.2)\n",
      "Requirement already satisfied: pyrsistent!=0.17.0,!=0.17.1,!=0.17.2,>=0.14.0 in /Users/donggunhan/opt/anaconda3/lib/python3.9/site-packages (from jsonschema>=3.2.0->spyder) (0.18.0)\n",
      "Requirement already satisfied: attrs>=17.4.0 in /Users/donggunhan/opt/anaconda3/lib/python3.9/site-packages (from jsonschema>=3.2.0->spyder) (21.4.0)\n",
      "Requirement already satisfied: importlib-metadata>=3.6 in /Users/donggunhan/opt/anaconda3/lib/python3.9/site-packages (from keyring>=17.0.0->spyder) (6.8.0)\n"
     ]
    },
    {
     "name": "stdout",
     "output_type": "stream",
     "text": [
      "Requirement already satisfied: zipp>=0.5 in /Users/donggunhan/opt/anaconda3/lib/python3.9/site-packages (from importlib-metadata>=3.6->keyring>=17.0.0->spyder) (3.7.0)\n",
      "Requirement already satisfied: testpath in /Users/donggunhan/opt/anaconda3/lib/python3.9/site-packages (from nbconvert>=4.0->spyder) (0.5.0)\n",
      "Requirement already satisfied: nbformat>=4.4 in /Users/donggunhan/opt/anaconda3/lib/python3.9/site-packages (from nbconvert>=4.0->spyder) (5.3.0)\n",
      "Requirement already satisfied: bleach in /Users/donggunhan/opt/anaconda3/lib/python3.9/site-packages (from nbconvert>=4.0->spyder) (4.1.0)\n",
      "Requirement already satisfied: jupyterlab-pygments in /Users/donggunhan/opt/anaconda3/lib/python3.9/site-packages (from nbconvert>=4.0->spyder) (0.1.2)\n",
      "Requirement already satisfied: beautifulsoup4 in /Users/donggunhan/opt/anaconda3/lib/python3.9/site-packages (from nbconvert>=4.0->spyder) (4.11.1)\n",
      "Requirement already satisfied: jupyter-core in /Users/donggunhan/opt/anaconda3/lib/python3.9/site-packages (from nbconvert>=4.0->spyder) (4.9.2)\n",
      "Requirement already satisfied: nbclient<0.6.0,>=0.5.0 in /Users/donggunhan/opt/anaconda3/lib/python3.9/site-packages (from nbconvert>=4.0->spyder) (0.5.13)\n",
      "Requirement already satisfied: mistune<2,>=0.8.1 in /Users/donggunhan/opt/anaconda3/lib/python3.9/site-packages (from nbconvert>=4.0->spyder) (0.8.4)\n",
      "Requirement already satisfied: entrypoints>=0.2.2 in /Users/donggunhan/opt/anaconda3/lib/python3.9/site-packages (from nbconvert>=4.0->spyder) (0.4)\n",
      "Requirement already satisfied: defusedxml in /Users/donggunhan/opt/anaconda3/lib/python3.9/site-packages (from nbconvert>=4.0->spyder) (0.7.1)\n",
      "Requirement already satisfied: pandocfilters>=1.4.1 in /Users/donggunhan/opt/anaconda3/lib/python3.9/site-packages (from nbconvert>=4.0->spyder) (1.5.0)\n",
      "Requirement already satisfied: jupyter-client>=6.1.5 in /Users/donggunhan/opt/anaconda3/lib/python3.9/site-packages (from nbclient<0.6.0,>=0.5.0->nbconvert>=4.0->spyder) (6.1.12)\n",
      "Requirement already satisfied: nest-asyncio in /Users/donggunhan/opt/anaconda3/lib/python3.9/site-packages (from nbclient<0.6.0,>=0.5.0->nbconvert>=4.0->spyder) (1.5.5)\n",
      "Requirement already satisfied: tornado>=4.1 in /Users/donggunhan/opt/anaconda3/lib/python3.9/site-packages (from jupyter-client>=6.1.5->nbclient<0.6.0,>=0.5.0->nbconvert>=4.0->spyder) (6.1)\n",
      "Requirement already satisfied: python-dateutil>=2.1 in /Users/donggunhan/opt/anaconda3/lib/python3.9/site-packages (from jupyter-client>=6.1.5->nbclient<0.6.0,>=0.5.0->nbconvert>=4.0->spyder) (2.8.2)\n",
      "Requirement already satisfied: fastjsonschema in /Users/donggunhan/opt/anaconda3/lib/python3.9/site-packages (from nbformat>=4.4->nbconvert>=4.0->spyder) (2.15.1)\n",
      "Requirement already satisfied: ptyprocess>=0.5 in /Users/donggunhan/opt/anaconda3/lib/python3.9/site-packages (from pexpect>=4.4.0->spyder) (0.7.0)\n",
      "Requirement already satisfied: wcwidth in /Users/donggunhan/opt/anaconda3/lib/python3.9/site-packages (from prompt-toolkit!=3.0.0,!=3.0.1,<3.1.0,>=2.0.0->ipython>=7.6.0->spyder) (0.2.5)\n",
      "Requirement already satisfied: isort<6,>=4.2.5 in /Users/donggunhan/opt/anaconda3/lib/python3.9/site-packages (from pylint<2.10.0,>=2.5.0->spyder) (5.9.3)\n",
      "Requirement already satisfied: toml>=0.7.1 in /Users/donggunhan/opt/anaconda3/lib/python3.9/site-packages (from pylint<2.10.0,>=2.5.0->spyder) (0.10.2)\n",
      "Requirement already satisfied: astroid<2.7,>=2.6.5 in /Users/donggunhan/opt/anaconda3/lib/python3.9/site-packages (from pylint<2.10.0,>=2.5.0->spyder) (2.6.6)\n",
      "Requirement already satisfied: mccabe<0.7,>=0.6 in /Users/donggunhan/opt/anaconda3/lib/python3.9/site-packages (from pylint<2.10.0,>=2.5.0->spyder) (0.6.1)\n",
      "Requirement already satisfied: wrapt<1.13,>=1.11 in /Users/donggunhan/opt/anaconda3/lib/python3.9/site-packages (from astroid<2.7,>=2.6.5->pylint<2.10.0,>=2.5.0->spyder) (1.12.1)\n",
      "Requirement already satisfied: lazy-object-proxy>=1.4.0 in /Users/donggunhan/opt/anaconda3/lib/python3.9/site-packages (from astroid<2.7,>=2.6.5->pylint<2.10.0,>=2.5.0->spyder) (1.6.0)\n",
      "Requirement already satisfied: PyQt5_sip<13,>=4.19.14 in /Users/donggunhan/opt/anaconda3/lib/python3.9/site-packages (from pyqt5<5.13->spyder) (12.12.2)\n",
      "Requirement already satisfied: black>=19.3b0 in /Users/donggunhan/opt/anaconda3/lib/python3.9/site-packages (from python-lsp-black>=1.0.0->spyder) (19.10b0)\n",
      "Requirement already satisfied: appdirs in /Users/donggunhan/opt/anaconda3/lib/python3.9/site-packages (from black>=19.3b0->python-lsp-black>=1.0.0->spyder) (1.4.4)\n",
      "Requirement already satisfied: pathspec<1,>=0.6 in /Users/donggunhan/opt/anaconda3/lib/python3.9/site-packages (from black>=19.3b0->python-lsp-black>=1.0.0->spyder) (0.7.0)\n",
      "Requirement already satisfied: typed-ast>=1.4.0 in /Users/donggunhan/opt/anaconda3/lib/python3.9/site-packages (from black>=19.3b0->python-lsp-black>=1.0.0->spyder) (1.4.3)\n",
      "Requirement already satisfied: regex in /Users/donggunhan/opt/anaconda3/lib/python3.9/site-packages (from black>=19.3b0->python-lsp-black>=1.0.0->spyder) (2022.3.15)\n",
      "Requirement already satisfied: python-lsp-jsonrpc>=1.0.0 in /Users/donggunhan/opt/anaconda3/lib/python3.9/site-packages (from python-lsp-server[all]<1.3.0,>=1.2.2->spyder) (1.0.0)\n",
      "Requirement already satisfied: pluggy in /Users/donggunhan/opt/anaconda3/lib/python3.9/site-packages (from python-lsp-server[all]<1.3.0,>=1.2.2->spyder) (1.0.0)\n",
      "Requirement already satisfied: ujson>=3.0.0 in /Users/donggunhan/opt/anaconda3/lib/python3.9/site-packages (from python-lsp-server[all]<1.3.0,>=1.2.2->spyder) (5.1.0)\n",
      "Requirement already satisfied: autopep8 in /Users/donggunhan/opt/anaconda3/lib/python3.9/site-packages (from python-lsp-server[all]<1.3.0,>=1.2.2->spyder) (1.6.0)\n",
      "Requirement already satisfied: flake8<4.0.0,>=3.8.0 in /Users/donggunhan/opt/anaconda3/lib/python3.9/site-packages (from python-lsp-server[all]<1.3.0,>=1.2.2->spyder) (3.9.2)\n",
      "Requirement already satisfied: pycodestyle>=2.7.0 in /Users/donggunhan/opt/anaconda3/lib/python3.9/site-packages (from python-lsp-server[all]<1.3.0,>=1.2.2->spyder) (2.7.0)\n",
      "Requirement already satisfied: pydocstyle>=2.0.0 in /Users/donggunhan/opt/anaconda3/lib/python3.9/site-packages (from python-lsp-server[all]<1.3.0,>=1.2.2->spyder) (6.1.1)\n",
      "Requirement already satisfied: pyflakes<2.4.0,>=2.3.0 in /Users/donggunhan/opt/anaconda3/lib/python3.9/site-packages (from python-lsp-server[all]<1.3.0,>=1.2.2->spyder) (2.3.1)\n",
      "Requirement already satisfied: rope>=0.10.5 in /Users/donggunhan/opt/anaconda3/lib/python3.9/site-packages (from python-lsp-server[all]<1.3.0,>=1.2.2->spyder) (0.22.0)\n",
      "Requirement already satisfied: yapf in /Users/donggunhan/opt/anaconda3/lib/python3.9/site-packages (from python-lsp-server[all]<1.3.0,>=1.2.2->spyder) (0.31.0)\n",
      "Requirement already satisfied: snowballstemmer in /Users/donggunhan/opt/anaconda3/lib/python3.9/site-packages (from pydocstyle>=2.0.0->python-lsp-server[all]<1.3.0,>=1.2.2->spyder) (2.2.0)\n",
      "Requirement already satisfied: text-unidecode>=1.3 in /Users/donggunhan/opt/anaconda3/lib/python3.9/site-packages (from python-slugify>=4.0.0->cookiecutter>=1.6.0->spyder) (1.3)\n",
      "Requirement already satisfied: tinycss<1,>=0.4 in /Users/donggunhan/opt/anaconda3/lib/python3.9/site-packages (from qstylizer>=0.1.10->spyder) (0.4)\n",
      "Requirement already satisfied: inflection<1,>0.3.0 in /Users/donggunhan/opt/anaconda3/lib/python3.9/site-packages (from qstylizer>=0.1.10->spyder) (0.5.1)\n",
      "Requirement already satisfied: ipython-genutils in /Users/donggunhan/opt/anaconda3/lib/python3.9/site-packages (from qtconsole>=5.1.0->spyder) (0.2.0)\n",
      "Requirement already satisfied: ipykernel>=4.1 in /Users/donggunhan/opt/anaconda3/lib/python3.9/site-packages (from qtconsole>=5.1.0->spyder) (6.9.1)\n",
      "Requirement already satisfied: debugpy<2.0,>=1.0.0 in /Users/donggunhan/opt/anaconda3/lib/python3.9/site-packages (from ipykernel>=4.1->qtconsole>=5.1.0->spyder) (1.5.1)\n",
      "Requirement already satisfied: packaging in /Users/donggunhan/opt/anaconda3/lib/python3.9/site-packages (from qtpy>=1.5.0->spyder) (21.3)\n",
      "Requirement already satisfied: charset-normalizer~=2.0.0 in /Users/donggunhan/opt/anaconda3/lib/python3.9/site-packages (from requests>=2.23.0->cookiecutter>=1.6.0->spyder) (2.0.4)\n",
      "Requirement already satisfied: urllib3<1.27,>=1.21.1 in /Users/donggunhan/opt/anaconda3/lib/python3.9/site-packages (from requests>=2.23.0->cookiecutter>=1.6.0->spyder) (1.26.9)\n",
      "Requirement already satisfied: idna<4,>=2.5 in /Users/donggunhan/opt/anaconda3/lib/python3.9/site-packages (from requests>=2.23.0->cookiecutter>=1.6.0->spyder) (3.3)\n",
      "Requirement already satisfied: certifi>=2017.4.17 in /Users/donggunhan/opt/anaconda3/lib/python3.9/site-packages (from requests>=2.23.0->cookiecutter>=1.6.0->spyder) (2023.5.7)\n"
     ]
    },
    {
     "name": "stdout",
     "output_type": "stream",
     "text": [
      "Requirement already satisfied: sphinxcontrib-applehelp in /Users/donggunhan/opt/anaconda3/lib/python3.9/site-packages (from sphinx>=0.6.6->spyder) (1.0.2)\n",
      "Requirement already satisfied: alabaster<0.8,>=0.7 in /Users/donggunhan/opt/anaconda3/lib/python3.9/site-packages (from sphinx>=0.6.6->spyder) (0.7.12)\n",
      "Requirement already satisfied: imagesize in /Users/donggunhan/opt/anaconda3/lib/python3.9/site-packages (from sphinx>=0.6.6->spyder) (1.3.0)\n",
      "Requirement already satisfied: sphinxcontrib-htmlhelp>=2.0.0 in /Users/donggunhan/opt/anaconda3/lib/python3.9/site-packages (from sphinx>=0.6.6->spyder) (2.0.0)\n",
      "Requirement already satisfied: sphinxcontrib-serializinghtml>=1.1.5 in /Users/donggunhan/opt/anaconda3/lib/python3.9/site-packages (from sphinx>=0.6.6->spyder) (1.1.5)\n",
      "Requirement already satisfied: sphinxcontrib-qthelp in /Users/donggunhan/opt/anaconda3/lib/python3.9/site-packages (from sphinx>=0.6.6->spyder) (1.0.3)\n",
      "Requirement already satisfied: sphinxcontrib-devhelp in /Users/donggunhan/opt/anaconda3/lib/python3.9/site-packages (from sphinx>=0.6.6->spyder) (1.0.2)\n",
      "Requirement already satisfied: docutils<0.18,>=0.14 in /Users/donggunhan/opt/anaconda3/lib/python3.9/site-packages (from sphinx>=0.6.6->spyder) (0.17.1)\n",
      "Requirement already satisfied: babel>=1.3 in /Users/donggunhan/opt/anaconda3/lib/python3.9/site-packages (from sphinx>=0.6.6->spyder) (2.9.1)\n",
      "Requirement already satisfied: sphinxcontrib-jsmath in /Users/donggunhan/opt/anaconda3/lib/python3.9/site-packages (from sphinx>=0.6.6->spyder) (1.0.1)\n",
      "Requirement already satisfied: pytz>=2015.7 in /Users/donggunhan/opt/anaconda3/lib/python3.9/site-packages (from babel>=1.3->sphinx>=0.6.6->spyder) (2021.3)\n",
      "Requirement already satisfied: wurlitzer>=1.0.3 in /Users/donggunhan/opt/anaconda3/lib/python3.9/site-packages (from spyder-kernels<2.2.0,>=2.1.1->spyder) (3.0.2)\n",
      "Collecting autopep8\n",
      "  Downloading autopep8-2.0.2-py2.py3-none-any.whl (45 kB)\n",
      "\u001b[K     |████████████████████████████████| 45 kB 5.5 MB/s eta 0:00:01\n",
      "\u001b[?25hRequirement already satisfied: tomli in /Users/donggunhan/opt/anaconda3/lib/python3.9/site-packages (from autopep8->python-lsp-server[all]<1.3.0,>=1.2.2->spyder) (1.2.2)\n",
      "  Downloading autopep8-2.0.1-py2.py3-none-any.whl (45 kB)\n",
      "\u001b[K     |████████████████████████████████| 45 kB 6.8 MB/s eta 0:00:01\n",
      "\u001b[?25h  Downloading autopep8-2.0.0-py2.py3-none-any.whl (45 kB)\n",
      "\u001b[K     |████████████████████████████████| 45 kB 5.8 MB/s eta 0:00:01\n",
      "\u001b[?25h  Downloading autopep8-1.7.0-py2.py3-none-any.whl (45 kB)\n",
      "\u001b[K     |████████████████████████████████| 45 kB 6.2 MB/s eta 0:00:011\n",
      "\u001b[?25h  Downloading autopep8-1.5.7-py2.py3-none-any.whl (45 kB)\n",
      "\u001b[K     |████████████████████████████████| 45 kB 5.6 MB/s eta 0:00:011\n",
      "\u001b[?25hRequirement already satisfied: soupsieve>1.2 in /Users/donggunhan/opt/anaconda3/lib/python3.9/site-packages (from beautifulsoup4->nbconvert>=4.0->spyder) (2.3.1)\n",
      "Requirement already satisfied: webencodings in /Users/donggunhan/opt/anaconda3/lib/python3.9/site-packages (from bleach->nbconvert>=4.0->spyder) (0.5.1)\n",
      "Requirement already satisfied: pyparsing!=3.0.5,>=2.0.2 in /Users/donggunhan/opt/anaconda3/lib/python3.9/site-packages (from packaging->qtpy>=1.5.0->spyder) (3.0.4)\n",
      "Collecting pyobjc-framework-CoreSpotlight==9.2\n",
      "  Downloading pyobjc_framework_CoreSpotlight-9.2-cp36-abi3-macosx_10_9_x86_64.whl (7.1 kB)\n",
      "Collecting pyobjc-framework-MetalPerformanceShadersGraph==9.2\n",
      "  Downloading pyobjc_framework_MetalPerformanceShadersGraph-9.2-py2.py3-none-any.whl (5.5 kB)\n",
      "Collecting pyobjc-framework-ExternalAccessory==9.2\n",
      "  Downloading pyobjc_framework_ExternalAccessory-9.2-cp36-abi3-macosx_10_9_x86_64.whl (6.5 kB)\n",
      "Collecting pyobjc-framework-ThreadNetwork==9.2\n",
      "  Downloading pyobjc_framework_ThreadNetwork-9.2-py2.py3-none-any.whl (3.2 kB)\n",
      "Collecting pyobjc-framework-MapKit==9.2\n",
      "  Downloading pyobjc_framework_MapKit-9.2-cp36-abi3-macosx_10_9_x86_64.whl (15 kB)\n",
      "Collecting pyobjc-framework-QuickLookThumbnailing==9.2\n",
      "  Downloading pyobjc_framework_QuickLookThumbnailing-9.2-py2.py3-none-any.whl (3.6 kB)\n",
      "Collecting pyobjc-framework-Speech==9.2\n",
      "  Downloading pyobjc_framework_Speech-9.2-cp36-abi3-macosx_10_9_x86_64.whl (6.4 kB)\n",
      "Collecting pyobjc-framework-DVDPlayback==9.2\n",
      "  Downloading pyobjc_framework_DVDPlayback-9.2-py2.py3-none-any.whl (7.8 kB)\n",
      "Collecting pyobjc-framework-GameplayKit==9.2\n",
      "  Downloading pyobjc_framework_GameplayKit-9.2-cp36-abi3-macosx_10_9_x86_64.whl (9.3 kB)\n",
      "Collecting pyobjc-framework-ScreenSaver==9.2\n",
      "  Downloading pyobjc_framework_ScreenSaver-9.2-cp36-abi3-macosx_10_9_x86_64.whl (6.3 kB)\n",
      "Collecting pyobjc-framework-CoreWLAN==9.2\n",
      "  Downloading pyobjc_framework_CoreWLAN-9.2-cp36-abi3-macosx_10_9_x86_64.whl (8.1 kB)\n",
      "Collecting pyobjc-framework-Accessibility==9.2\n",
      "  Downloading pyobjc_framework_Accessibility-9.2-cp36-abi3-macosx_10_9_x86_64.whl (7.1 kB)\n",
      "Collecting pyobjc-framework-ApplicationServices==9.2\n",
      "  Downloading pyobjc_framework_ApplicationServices-9.2-cp39-cp39-macosx_10_9_universal2.whl (32 kB)\n",
      "Collecting pyobjc-framework-Social==9.2\n",
      "  Downloading pyobjc_framework_Social-9.2-py2.py3-none-any.whl (4.0 kB)\n",
      "Collecting pyobjc-framework-OSAKit==9.2\n",
      "  Downloading pyobjc_framework_OSAKit-9.2-py2.py3-none-any.whl (3.6 kB)\n",
      "Collecting pyobjc-framework-DataDetection==9.2\n",
      "  Downloading pyobjc_framework_DataDetection-9.2-py2.py3-none-any.whl (3.0 kB)\n",
      "Collecting pyobjc-framework-ContactsUI==9.2\n",
      "  Downloading pyobjc_framework_ContactsUI-9.2-cp36-abi3-macosx_10_9_x86_64.whl (5.7 kB)\n",
      "Collecting pyobjc-framework-WebKit==9.2\n",
      "  Downloading pyobjc_framework_WebKit-9.2-cp36-abi3-macosx_10_9_x86_64.whl (29 kB)\n",
      "Collecting pyobjc-framework-Automator==9.2\n",
      "  Downloading pyobjc_framework_Automator-9.2-py2.py3-none-any.whl (5.0 kB)\n",
      "Collecting pyobjc-framework-SharedWithYouCore==9.2\n",
      "  Downloading pyobjc_framework_SharedWithYouCore-9.2-cp36-abi3-macosx_10_9_x86_64.whl (6.0 kB)\n",
      "Collecting pyobjc-framework-Virtualization==9.2\n",
      "  Downloading pyobjc_framework_Virtualization-9.2-cp36-abi3-macosx_10_9_x86_64.whl (7.3 kB)\n",
      "Collecting pyobjc-framework-Vision==9.2\n",
      "  Downloading pyobjc_framework_Vision-9.2-cp36-abi3-macosx_10_9_x86_64.whl (13 kB)\n",
      "Collecting pyobjc-framework-ScriptingBridge==9.2\n",
      "  Downloading pyobjc_framework_ScriptingBridge-9.2-cp36-abi3-macosx_10_9_x86_64.whl (6.6 kB)\n",
      "Collecting pyobjc-framework-ColorSync==9.2\n",
      "  Downloading pyobjc_framework_ColorSync-9.2-py2.py3-none-any.whl (5.5 kB)\n",
      "Collecting pyobjc-framework-MediaLibrary==9.2\n",
      "  Downloading pyobjc_framework_MediaLibrary-9.2-py2.py3-none-any.whl (3.8 kB)\n",
      "Collecting pyobjc-framework-CoreAudio==9.2\n",
      "  Downloading pyobjc_framework_CoreAudio-9.2-cp39-cp39-macosx_10_9_universal2.whl (36 kB)\n",
      "Collecting pyobjc-framework-CoreAudioKit==9.2\n",
      "  Downloading pyobjc_framework_CoreAudioKit-9.2-cp36-abi3-macosx_10_9_x86_64.whl (5.4 kB)\n",
      "Collecting pyobjc-framework-CoreMediaIO==9.2\n",
      "  Downloading pyobjc_framework_CoreMediaIO-9.2-cp36-abi3-macosx_10_9_x86_64.whl (12 kB)\n",
      "Collecting pyobjc-framework-IOBluetoothUI==9.2\n",
      "  Downloading pyobjc_framework_IOBluetoothUI-9.2-py2.py3-none-any.whl (3.5 kB)\n",
      "Collecting pyobjc-framework-VideoToolbox==9.2\n",
      "  Downloading pyobjc_framework_VideoToolbox-9.2-cp36-abi3-macosx_10_9_x86_64.whl (9.7 kB)\n",
      "Collecting pyobjc-framework-FileProviderUI==9.2\n",
      "  Downloading pyobjc_framework_FileProviderUI-9.2-py2.py3-none-any.whl (3.1 kB)\n",
      "Collecting pyobjc-framework-ClassKit==9.2\n",
      "  Downloading pyobjc_framework_ClassKit-9.2-cp36-abi3-macosx_10_9_x86_64.whl (6.3 kB)\n",
      "Collecting pyobjc-framework-CoreMotion==9.2\n",
      "  Downloading pyobjc_framework_CoreMotion-9.2-cp39-cp39-macosx_10_9_universal2.whl (9.8 kB)\n",
      "Collecting pyobjc-framework-MediaAccessibility==9.2\n",
      "  Downloading pyobjc_framework_MediaAccessibility-9.2-py2.py3-none-any.whl (3.9 kB)\n",
      "Collecting pyobjc-framework-Photos==9.2\n",
      "  Downloading pyobjc_framework_Photos-9.2-cp36-abi3-macosx_10_9_x86_64.whl (9.4 kB)\n",
      "Collecting pyobjc-framework-AdServices==9.2\n",
      "  Downloading pyobjc_framework_AdServices-9.2-py2.py3-none-any.whl (3.0 kB)\n",
      "Collecting pyobjc-framework-StoreKit==9.2\n",
      "  Downloading pyobjc_framework_StoreKit-9.2-cp36-abi3-macosx_10_9_x86_64.whl (8.7 kB)\n",
      "Collecting pyobjc-framework-LatentSemanticMapping==9.2\n",
      "  Downloading pyobjc_framework_LatentSemanticMapping-9.2-py2.py3-none-any.whl (4.9 kB)\n",
      "Collecting pyobjc-framework-AuthenticationServices==9.2\n",
      "  Downloading pyobjc_framework_AuthenticationServices-9.2-cp36-abi3-macosx_10_9_x86_64.whl (10 kB)\n"
     ]
    },
    {
     "name": "stdout",
     "output_type": "stream",
     "text": [
      "Collecting pyobjc-framework-MetalKit==9.2\n",
      "  Downloading pyobjc_framework_MetalKit-9.2-cp36-abi3-macosx_10_9_x86_64.whl (6.4 kB)\n",
      "Collecting pyobjc-framework-FSEvents==9.2\n",
      "  Downloading pyobjc_framework_FSEvents-9.2-cp36-abi3-macosx_10_9_x86_64.whl (8.9 kB)\n",
      "Collecting pyobjc-framework-ScreenTime==9.2\n",
      "  Downloading pyobjc_framework_ScreenTime-9.2-py2.py3-none-any.whl (3.1 kB)\n",
      "Collecting pyobjc-framework-Collaboration==9.2\n",
      "  Downloading pyobjc_framework_Collaboration-9.2-py2.py3-none-any.whl (4.4 kB)\n",
      "Collecting pyobjc-framework-SecurityInterface==9.2\n",
      "  Downloading pyobjc_framework_SecurityInterface-9.2-cp36-abi3-macosx_10_9_x86_64.whl (7.5 kB)\n",
      "Collecting pyobjc-framework-PushKit==9.2\n",
      "  Downloading pyobjc_framework_PushKit-9.2-cp36-abi3-macosx_10_9_x86_64.whl (5.9 kB)\n",
      "Collecting pyobjc-framework-libxpc==9.2\n",
      "  Downloading pyobjc_framework_libxpc-9.2-cp39-cp39-macosx_10_9_universal2.whl (19 kB)\n",
      "Collecting pyobjc-framework-LocalAuthenticationEmbeddedUI==9.2\n",
      "  Downloading pyobjc_framework_LocalAuthenticationEmbeddedUI-9.2-py2.py3-none-any.whl (3.1 kB)\n",
      "Collecting pyobjc-framework-AVKit==9.2\n",
      "  Downloading pyobjc_framework_AVKit-9.2-cp36-abi3-macosx_10_9_x86_64.whl (8.1 kB)\n",
      "Collecting pyobjc-framework-Quartz==9.2\n",
      "  Downloading pyobjc_framework_Quartz-9.2-cp39-cp39-macosx_10_9_universal2.whl (228 kB)\n",
      "\u001b[K     |████████████████████████████████| 228 kB 6.6 MB/s eta 0:00:01\n",
      "\u001b[?25hCollecting pyobjc-framework-VideoSubscriberAccount==9.2\n",
      "  Downloading pyobjc_framework_VideoSubscriberAccount-9.2-py2.py3-none-any.whl (4.0 kB)\n",
      "Collecting pyobjc-framework-KernelManagement==9.2\n",
      "  Downloading pyobjc_framework_KernelManagement-9.2-py2.py3-none-any.whl (3.2 kB)\n",
      "Collecting pyobjc-framework-iTunesLibrary==9.2\n",
      "  Downloading pyobjc_framework_iTunesLibrary-9.2-py2.py3-none-any.whl (4.7 kB)\n",
      "Collecting pyobjc-framework-LinkPresentation==9.2\n",
      "  Downloading pyobjc_framework_LinkPresentation-9.2-py2.py3-none-any.whl (3.2 kB)\n",
      "Collecting pyobjc-framework-OSLog==9.2\n",
      "  Downloading pyobjc_framework_OSLog-9.2-cp36-abi3-macosx_10_9_x86_64.whl (5.8 kB)\n",
      "Collecting pyobjc-framework-PassKit==9.2\n",
      "  Downloading pyobjc_framework_PassKit-9.2-cp36-abi3-macosx_10_9_x86_64.whl (9.9 kB)\n",
      "Collecting pyobjc-framework-MetalPerformanceShaders==9.2\n",
      "  Downloading pyobjc_framework_MetalPerformanceShaders-9.2-cp36-abi3-macosx_10_9_x86_64.whl (20 kB)\n",
      "Collecting pyobjc-framework-BusinessChat==9.2\n",
      "  Downloading pyobjc_framework_BusinessChat-9.2-py2.py3-none-any.whl (2.9 kB)\n",
      "Collecting pyobjc-framework-DiscRecordingUI==9.2\n",
      "  Downloading pyobjc_framework_DiscRecordingUI-9.2-py2.py3-none-any.whl (4.2 kB)\n",
      "Collecting pyobjc-framework-libdispatch==9.2\n",
      "  Downloading pyobjc_framework_libdispatch-9.2-cp39-cp39-macosx_10_9_universal2.whl (20 kB)\n",
      "Collecting pyobjc-framework-ScreenCaptureKit==9.2\n",
      "  Downloading pyobjc_framework_ScreenCaptureKit-9.2-cp39-cp39-macosx_10_9_universal2.whl (9.9 kB)\n",
      "Collecting pyobjc-framework-AutomaticAssessmentConfiguration==9.2\n",
      "  Downloading pyobjc_framework_AutomaticAssessmentConfiguration-9.2-cp36-abi3-macosx_10_9_x86_64.whl (6.4 kB)\n",
      "Collecting pyobjc-framework-HealthKit==9.2\n",
      "  Downloading pyobjc_framework_HealthKit-9.2-cp36-abi3-macosx_10_9_x86_64.whl (14 kB)\n",
      "Collecting pyobjc-framework-CoreLocation==9.2\n",
      "  Downloading pyobjc_framework_CoreLocation-9.2-cp36-abi3-macosx_10_9_x86_64.whl (9.4 kB)\n",
      "Collecting pyobjc-framework-FileProvider==9.2\n",
      "  Downloading pyobjc_framework_FileProvider-9.2-cp39-cp39-macosx_10_9_universal2.whl (17 kB)\n",
      "Collecting pyobjc-framework-MailKit==9.2\n",
      "  Downloading pyobjc_framework_MailKit-9.2-py2.py3-none-any.whl (4.0 kB)\n",
      "Collecting pyobjc-framework-AudioVideoBridging==9.2\n",
      "  Downloading pyobjc_framework_AudioVideoBridging-9.2-py2.py3-none-any.whl (6.3 kB)\n",
      "Collecting pyobjc-framework-CoreMIDI==9.2\n",
      "  Downloading pyobjc_framework_CoreMIDI-9.2-cp36-abi3-macosx_10_9_x86_64.whl (12 kB)\n",
      "Collecting pyobjc-framework-ExecutionPolicy==9.2\n",
      "  Downloading pyobjc_framework_ExecutionPolicy-9.2-py2.py3-none-any.whl (3.3 kB)\n",
      "Collecting pyobjc-framework-GameKit==9.2\n",
      "  Downloading pyobjc_framework_GameKit-9.2-cp36-abi3-macosx_10_9_x86_64.whl (15 kB)\n",
      "Collecting pyobjc-framework-SystemExtensions==9.2\n",
      "  Downloading pyobjc_framework_SystemExtensions-9.2-cp36-abi3-macosx_10_9_x86_64.whl (6.4 kB)\n",
      "Collecting pyobjc-framework-Accounts==9.2\n",
      "  Downloading pyobjc_framework_Accounts-9.2-py2.py3-none-any.whl (4.6 kB)\n",
      "Collecting pyobjc-framework-ShazamKit==9.2\n",
      "  Downloading pyobjc_framework_ShazamKit-9.2-cp39-cp39-macosx_10_9_universal2.whl (9.1 kB)\n",
      "Collecting pyobjc-framework-DiskArbitration==9.2\n",
      "  Downloading pyobjc_framework_DiskArbitration-9.2-py2.py3-none-any.whl (4.4 kB)\n",
      "Collecting pyobjc-framework-ServiceManagement==9.2\n",
      "  Downloading pyobjc_framework_ServiceManagement-9.2-py2.py3-none-any.whl (4.8 kB)\n",
      "Collecting pyobjc-framework-PHASE==9.2\n",
      "  Downloading pyobjc_framework_PHASE-9.2-py2.py3-none-any.whl (4.9 kB)\n",
      "Collecting pyobjc-framework-SearchKit==9.2\n",
      "  Downloading pyobjc_framework_SearchKit-9.2-py2.py3-none-any.whl (3.3 kB)\n",
      "Collecting pyobjc-framework-CoreHaptics==9.2\n",
      "  Downloading pyobjc_framework_CoreHaptics-9.2-py2.py3-none-any.whl (4.6 kB)\n",
      "Collecting pyobjc-framework-ExtensionKit==9.2\n",
      "  Downloading pyobjc_framework_ExtensionKit-9.2-cp36-abi3-macosx_10_9_x86_64.whl (5.8 kB)\n",
      "Collecting pyobjc-framework-MediaPlayer==9.2\n",
      "  Downloading pyobjc_framework_MediaPlayer-9.2-py2.py3-none-any.whl (6.1 kB)\n",
      "Collecting pyobjc-framework-Security==9.2\n",
      "  Downloading pyobjc_framework_Security-9.2-cp39-cp39-macosx_10_9_universal2.whl (41 kB)\n",
      "\u001b[K     |████████████████████████████████| 41 kB 612 kB/s eta 0:00:01\n",
      "\u001b[?25hCollecting pyobjc-framework-CalendarStore==9.2\n",
      "  Downloading pyobjc_framework_CalendarStore-9.2-py2.py3-none-any.whl (4.6 kB)\n",
      "Collecting pyobjc-framework-MLCompute==9.2\n",
      "  Downloading pyobjc_framework_MLCompute-9.2-py2.py3-none-any.whl (6.1 kB)\n",
      "Collecting pyobjc-framework-SecurityFoundation==9.2\n",
      "  Downloading pyobjc_framework_SecurityFoundation-9.2-py2.py3-none-any.whl (3.3 kB)\n",
      "Collecting pyobjc-framework-ImageCaptureCore==9.2\n",
      "  Downloading pyobjc_framework_ImageCaptureCore-9.2-cp36-abi3-macosx_10_9_x86_64.whl (12 kB)\n",
      "Collecting pyobjc-framework-SharedWithYou==9.2\n",
      "  Downloading pyobjc_framework_SharedWithYou-9.2-cp36-abi3-macosx_10_9_x86_64.whl (6.4 kB)\n",
      "Collecting pyobjc-framework-MultipeerConnectivity==9.2\n",
      "  Downloading pyobjc_framework_MultipeerConnectivity-9.2-cp36-abi3-macosx_10_9_x86_64.whl (8.8 kB)\n",
      "Collecting pyobjc-framework-CoreBluetooth==9.2\n",
      "  Downloading pyobjc_framework_CoreBluetooth-9.2-cp36-abi3-macosx_10_9_x86_64.whl (9.9 kB)\n",
      "Collecting pyobjc-framework-AdSupport==9.2\n",
      "  Downloading pyobjc_framework_AdSupport-9.2-py2.py3-none-any.whl (2.9 kB)\n",
      "Collecting pyobjc-framework-EventKit==9.2\n",
      "  Downloading pyobjc_framework_EventKit-9.2-py2.py3-none-any.whl (5.9 kB)\n",
      "Collecting pyobjc-framework-GameCenter==9.2\n",
      "  Downloading pyobjc_framework_GameCenter-9.2-cp36-abi3-macosx_10_9_x86_64.whl (12 kB)\n",
      "Collecting pyobjc-framework-PhotosUI==9.2\n",
      "  Downloading pyobjc_framework_PhotosUI-9.2-cp36-abi3-macosx_10_9_x86_64.whl (8.2 kB)\n",
      "Collecting pyobjc-framework-NotificationCenter==9.2\n",
      "  Downloading pyobjc_framework_NotificationCenter-9.2-cp36-abi3-macosx_10_9_x86_64.whl (7.2 kB)\n",
      "Collecting pyobjc-framework-CloudKit==9.2\n",
      "  Downloading pyobjc_framework_CloudKit-9.2-py2.py3-none-any.whl (8.1 kB)\n",
      "Collecting pyobjc-framework-Cocoa==9.2\n",
      "  Downloading pyobjc_framework_Cocoa-9.2-cp39-cp39-macosx_10_9_universal2.whl (390 kB)\n",
      "\u001b[K     |████████████████████████████████| 390 kB 8.0 MB/s eta 0:00:01\n",
      "\u001b[?25hCollecting pyobjc-framework-CFNetwork==9.2\n",
      "  Downloading pyobjc_framework_CFNetwork-9.2-cp36-abi3-macosx_10_9_x86_64.whl (14 kB)\n",
      "Collecting pyobjc-framework-DeviceCheck==9.2\n",
      "  Downloading pyobjc_framework_DeviceCheck-9.2-py2.py3-none-any.whl (3.2 kB)\n",
      "Collecting pyobjc-framework-ReplayKit==9.2\n",
      "  Downloading pyobjc_framework_ReplayKit-9.2-cp36-abi3-macosx_10_9_x86_64.whl (7.2 kB)\n",
      "Collecting pyobjc-framework-CallKit==9.2\n",
      "  Downloading pyobjc_framework_CallKit-9.2-py2.py3-none-any.whl (4.4 kB)\n",
      "Collecting pyobjc-core==9.2\n",
      "  Downloading pyobjc_core-9.2-cp39-cp39-macosx_10_9_universal2.whl (737 kB)\n",
      "\u001b[K     |████████████████████████████████| 737 kB 10.0 MB/s eta 0:00:01\n",
      "\u001b[?25hCollecting pyobjc-framework-FinderSync==9.2\n",
      "  Downloading pyobjc_framework_FinderSync-9.2-py2.py3-none-any.whl (4.4 kB)\n"
     ]
    },
    {
     "name": "stdout",
     "output_type": "stream",
     "text": [
      "Collecting pyobjc-framework-IntentsUI==9.2\n",
      "  Downloading pyobjc_framework_IntentsUI-9.2-cp39-cp39-macosx_10_9_universal2.whl (9.9 kB)\n",
      "Collecting pyobjc-framework-AppTrackingTransparency==9.2\n",
      "  Downloading pyobjc_framework_AppTrackingTransparency-9.2-py2.py3-none-any.whl (3.3 kB)\n",
      "Collecting pyobjc-framework-Intents==9.2\n",
      "  Downloading pyobjc_framework_Intents-9.2-cp36-abi3-macosx_10_9_x86_64.whl (21 kB)\n",
      "Collecting pyobjc-framework-PreferencePanes==9.2\n",
      "  Downloading pyobjc_framework_PreferencePanes-9.2-py2.py3-none-any.whl (4.3 kB)\n",
      "Collecting pyobjc-framework-SystemConfiguration==9.2\n",
      "  Downloading pyobjc_framework_SystemConfiguration-9.2-cp36-abi3-macosx_10_9_x86_64.whl (16 kB)\n",
      "Collecting pyobjc-framework-UserNotifications==9.2\n",
      "  Downloading pyobjc_framework_UserNotifications-9.2-cp36-abi3-macosx_10_9_x86_64.whl (7.3 kB)\n",
      "Collecting pyobjc-framework-SpriteKit==9.2\n",
      "  Downloading pyobjc_framework_SpriteKit-9.2-cp39-cp39-macosx_10_9_universal2.whl (17 kB)\n",
      "Collecting pyobjc-framework-MetricKit==9.2\n",
      "  Downloading pyobjc_framework_MetricKit-9.2-cp39-cp39-macosx_10_9_universal2.whl (8.6 kB)\n",
      "Collecting pyobjc-framework-MetalFX==9.2\n",
      "  Downloading pyobjc_framework_MetalFX-9.2-cp36-abi3-macosx_10_9_x86_64.whl (7.0 kB)\n",
      "Collecting pyobjc-framework-CoreServices==9.2\n",
      "  Downloading pyobjc_framework_CoreServices-9.2-cp36-abi3-macosx_10_9_x86_64.whl (27 kB)\n",
      "Collecting pyobjc-framework-Contacts==9.2\n",
      "  Downloading pyobjc_framework_Contacts-9.2-cp36-abi3-macosx_10_9_x86_64.whl (9.1 kB)\n",
      "Collecting pyobjc-framework-NaturalLanguage==9.2\n",
      "  Downloading pyobjc_framework_NaturalLanguage-9.2-py2.py3-none-any.whl (4.4 kB)\n",
      "Collecting pyobjc-framework-SceneKit==9.2\n",
      "  Downloading pyobjc_framework_SceneKit-9.2-cp36-abi3-macosx_10_9_x86_64.whl (22 kB)\n",
      "Collecting pyobjc-framework-MediaToolbox==9.2\n",
      "  Downloading pyobjc_framework_MediaToolbox-9.2-cp36-abi3-macosx_10_9_x86_64.whl (8.3 kB)\n",
      "Collecting pyobjc-framework-IOBluetooth==9.2\n",
      "  Downloading pyobjc_framework_IOBluetooth-9.2-cp36-abi3-macosx_10_9_x86_64.whl (36 kB)\n",
      "Collecting pyobjc-framework-InstantMessage==9.2\n",
      "  Downloading pyobjc_framework_InstantMessage-9.2-py2.py3-none-any.whl (4.9 kB)\n",
      "Collecting pyobjc-framework-Network==9.2\n",
      "  Downloading pyobjc_framework_Network-9.2-cp36-abi3-macosx_10_9_x86_64.whl (14 kB)\n",
      "Collecting pyobjc-framework-BackgroundAssets==9.2\n",
      "  Downloading pyobjc_framework_BackgroundAssets-9.2-cp36-abi3-macosx_10_9_x86_64.whl (6.9 kB)\n",
      "Collecting pyobjc-framework-CryptoTokenKit==9.2\n",
      "  Downloading pyobjc_framework_CryptoTokenKit-9.2-cp36-abi3-macosx_10_9_x86_64.whl (9.3 kB)\n",
      "Collecting pyobjc-framework-Metal==9.2\n",
      "  Downloading pyobjc_framework_Metal-9.2-cp36-abi3-macosx_10_9_x86_64.whl (37 kB)\n",
      "Collecting pyobjc-framework-CoreML==9.2\n",
      "  Downloading pyobjc_framework_CoreML-9.2-cp36-abi3-macosx_10_9_x86_64.whl (8.3 kB)\n",
      "Collecting pyobjc-framework-InputMethodKit==9.2\n",
      "  Downloading pyobjc_framework_InputMethodKit-9.2-cp36-abi3-macosx_10_9_x86_64.whl (7.4 kB)\n",
      "Collecting pyobjc-framework-InstallerPlugins==9.2\n",
      "  Downloading pyobjc_framework_InstallerPlugins-9.2-py2.py3-none-any.whl (4.3 kB)\n",
      "Collecting pyobjc-framework-ModelIO==9.2\n",
      "  Downloading pyobjc_framework_ModelIO-9.2-cp36-abi3-macosx_10_9_x86_64.whl (15 kB)\n",
      "Collecting pyobjc-framework-PencilKit==9.2\n",
      "  Downloading pyobjc_framework_PencilKit-9.2-py2.py3-none-any.whl (3.2 kB)\n",
      "Collecting pyobjc-framework-IMServicePlugIn==9.2\n",
      "  Downloading pyobjc_framework_IMServicePlugIn-9.2-cp36-abi3-macosx_10_9_x86_64.whl (9.5 kB)\n",
      "Collecting pyobjc-framework-LaunchServices==9.2\n",
      "  Downloading pyobjc_framework_LaunchServices-9.2-py2.py3-none-any.whl (3.3 kB)\n",
      "Collecting pyobjc-framework-CoreText==9.2\n",
      "  Downloading pyobjc_framework_CoreText-9.2-cp39-cp39-macosx_10_9_universal2.whl (30 kB)\n",
      "Collecting pyobjc-framework-UniformTypeIdentifiers==9.2\n",
      "  Downloading pyobjc_framework_UniformTypeIdentifiers-9.2-py2.py3-none-any.whl (4.2 kB)\n",
      "Collecting pyobjc-framework-GameController==9.2\n",
      "  Downloading pyobjc_framework_GameController-9.2-cp36-abi3-macosx_10_9_x86_64.whl (13 kB)\n",
      "Collecting pyobjc-framework-ExceptionHandling==9.2\n",
      "  Downloading pyobjc_framework_ExceptionHandling-9.2-py2.py3-none-any.whl (6.6 kB)\n",
      "Collecting pyobjc-framework-NetworkExtension==9.2\n",
      "  Downloading pyobjc_framework_NetworkExtension-9.2-cp36-abi3-macosx_10_9_x86_64.whl (11 kB)\n",
      "Collecting pyobjc-framework-SoundAnalysis==9.2\n",
      "  Downloading pyobjc_framework_SoundAnalysis-9.2-py2.py3-none-any.whl (3.5 kB)\n",
      "Collecting pyobjc-framework-CoreData==9.2\n",
      "  Downloading pyobjc_framework_CoreData-9.2-cp36-abi3-macosx_10_9_x86_64.whl (13 kB)\n",
      "Collecting pyobjc-framework-CoreMedia==9.2\n",
      "  Downloading pyobjc_framework_CoreMedia-9.2-cp39-cp39-macosx_10_9_universal2.whl (23 kB)\n",
      "Collecting pyobjc-framework-SafariServices==9.2\n",
      "  Downloading pyobjc_framework_SafariServices-9.2-cp36-abi3-macosx_10_9_x86_64.whl (5.8 kB)\n",
      "Collecting pyobjc-framework-IOSurface==9.2\n",
      "  Downloading pyobjc_framework_IOSurface-9.2-py2.py3-none-any.whl (4.4 kB)\n",
      "Collecting pyobjc-framework-AppleScriptKit==9.2\n",
      "  Downloading pyobjc_framework_AppleScriptKit-9.2-py2.py3-none-any.whl (3.8 kB)\n",
      "Collecting pyobjc-framework-AVFoundation==9.2\n",
      "  Downloading pyobjc_framework_AVFoundation-9.2-cp36-abi3-macosx_10_9_x86_64.whl (49 kB)\n",
      "\u001b[K     |████████████████████████████████| 49 kB 6.2 MB/s eta 0:00:01\n",
      "\u001b[?25hCollecting pyobjc-framework-DictionaryServices==9.2\n",
      "  Downloading pyobjc_framework_DictionaryServices-9.2-py2.py3-none-any.whl (3.4 kB)\n",
      "Collecting pyobjc-framework-AppleScriptObjC==9.2\n",
      "  Downloading pyobjc_framework_AppleScriptObjC-9.2-py2.py3-none-any.whl (3.9 kB)\n",
      "Collecting pyobjc-framework-SafetyKit==9.2\n",
      "  Downloading pyobjc_framework_SafetyKit-9.2-cp36-abi3-macosx_10_9_x86_64.whl (5.9 kB)\n",
      "Collecting pyobjc-framework-OpenDirectory==9.2\n",
      "  Downloading pyobjc_framework_OpenDirectory-9.2-py2.py3-none-any.whl (11 kB)\n",
      "Collecting pyobjc-framework-NetFS==9.2\n",
      "  Downloading pyobjc_framework_NetFS-9.2-py2.py3-none-any.whl (3.7 kB)\n",
      "Collecting pyobjc-framework-UserNotificationsUI==9.2\n",
      "  Downloading pyobjc_framework_UserNotificationsUI-9.2-py2.py3-none-any.whl (3.4 kB)\n",
      "Collecting pyobjc-framework-LocalAuthentication==9.2\n",
      "  Downloading pyobjc_framework_LocalAuthentication-9.2-py2.py3-none-any.whl (5.4 kB)\n",
      "Collecting pyobjc-framework-AVRouting==9.2\n",
      "  Downloading pyobjc_framework_AVRouting-9.2-cp36-abi3-macosx_10_9_x86_64.whl (5.9 kB)\n",
      "Collecting pyobjc-framework-SyncServices==9.2\n",
      "  Downloading pyobjc_framework_SyncServices-9.2-cp36-abi3-macosx_10_9_x86_64.whl (10 kB)\n",
      "Collecting pyobjc-framework-DiscRecording==9.2\n",
      "  Downloading pyobjc_framework_DiscRecording-9.2-cp36-abi3-macosx_10_9_x86_64.whl (12 kB)\n",
      "Collecting pyobjc-framework-AddressBook==9.2\n",
      "  Downloading pyobjc_framework_AddressBook-9.2-cp36-abi3-macosx_10_9_x86_64.whl (10 kB)\n",
      "Requirement already satisfied: executing in /Users/donggunhan/opt/anaconda3/lib/python3.9/site-packages (from stack-data->ipython>=7.6.0->spyder) (0.8.3)\n",
      "Requirement already satisfied: pure-eval in /Users/donggunhan/opt/anaconda3/lib/python3.9/site-packages (from stack-data->ipython>=7.6.0->spyder) (0.2.2)\n",
      "Requirement already satisfied: asttokens in /Users/donggunhan/opt/anaconda3/lib/python3.9/site-packages (from stack-data->ipython>=7.6.0->spyder) (2.0.5)\n",
      "Installing collected packages: pyobjc-core, pyobjc-framework-Cocoa, pyobjc-framework-Security, pyobjc-framework-Quartz, pyobjc-framework-Metal, pyobjc-framework-FSEvents, pyobjc-framework-CoreMedia, pyobjc-framework-CoreAudio, pyobjc-framework-UserNotifications, pyobjc-framework-SpriteKit, pyobjc-framework-SharedWithYouCore, pyobjc-framework-MetalPerformanceShaders, pyobjc-framework-LocalAuthentication, pyobjc-framework-IOBluetooth, pyobjc-framework-Intents, pyobjc-framework-FileProvider, pyobjc-framework-DiscRecording, pyobjc-framework-CoreServices, pyobjc-framework-CoreML, pyobjc-framework-CoreLocation, pyobjc-framework-CoreData, pyobjc-framework-Contacts, pyobjc-framework-AVFoundation, pyobjc-framework-Accounts, pyobjc-framework-WebKit, pyobjc-framework-Vision, pyobjc-framework-Virtualization, pyobjc-framework-VideoToolbox, pyobjc-framework-VideoSubscriberAccount, pyobjc-framework-UserNotificationsUI, pyobjc-framework-UniformTypeIdentifiers, pyobjc-framework-ThreadNetwork, pyobjc-framework-SystemExtensions, pyobjc-framework-SystemConfiguration, pyobjc-framework-SyncServices, pyobjc-framework-StoreKit, pyobjc-framework-Speech, pyobjc-framework-SoundAnalysis, pyobjc-framework-Social, pyobjc-framework-ShazamKit, pyobjc-framework-SharedWithYou, pyobjc-framework-ServiceManagement, pyobjc-framework-SecurityInterface, pyobjc-framework-SecurityFoundation, pyobjc-framework-SearchKit, pyobjc-framework-ScriptingBridge, pyobjc-framework-ScreenTime, pyobjc-framework-ScreenSaver, pyobjc-framework-ScreenCaptureKit, pyobjc-framework-SceneKit, pyobjc-framework-SafetyKit, pyobjc-framework-SafariServices, pyobjc-framework-ReplayKit, pyobjc-framework-QuickLookThumbnailing, pyobjc-framework-PushKit, pyobjc-framework-PreferencePanes, pyobjc-framework-PhotosUI, pyobjc-framework-Photos, pyobjc-framework-PHASE, pyobjc-framework-PencilKit, pyobjc-framework-PassKit, pyobjc-framework-OSLog, pyobjc-framework-OSAKit, pyobjc-framework-OpenDirectory, pyobjc-framework-NotificationCenter, pyobjc-framework-NetworkExtension, pyobjc-framework-Network, pyobjc-framework-NetFS, pyobjc-framework-NaturalLanguage, pyobjc-framework-MultipeerConnectivity, pyobjc-framework-ModelIO, pyobjc-framework-MLCompute, pyobjc-framework-MetricKit, pyobjc-framework-MetalPerformanceShadersGraph, pyobjc-framework-MetalKit, pyobjc-framework-MetalFX, pyobjc-framework-MediaToolbox, pyobjc-framework-MediaPlayer, pyobjc-framework-MediaLibrary, pyobjc-framework-MediaAccessibility, pyobjc-framework-MapKit, pyobjc-framework-MailKit, pyobjc-framework-LocalAuthenticationEmbeddedUI, pyobjc-framework-LinkPresentation, pyobjc-framework-libxpc, pyobjc-framework-libdispatch, pyobjc-framework-LaunchServices, pyobjc-framework-LatentSemanticMapping, pyobjc-framework-KernelManagement, pyobjc-framework-iTunesLibrary, pyobjc-framework-IOSurface, pyobjc-framework-IOBluetoothUI, pyobjc-framework-IntentsUI, pyobjc-framework-InstantMessage, pyobjc-framework-InstallerPlugins, pyobjc-framework-InputMethodKit, pyobjc-framework-IMServicePlugIn, pyobjc-framework-ImageCaptureCore, pyobjc-framework-HealthKit, pyobjc-framework-GameplayKit, pyobjc-framework-GameKit, pyobjc-framework-GameController, pyobjc-framework-GameCenter, pyobjc-framework-FinderSync, pyobjc-framework-FileProviderUI, pyobjc-framework-ExternalAccessory, pyobjc-framework-ExtensionKit, pyobjc-framework-ExecutionPolicy, pyobjc-framework-ExceptionHandling, pyobjc-framework-EventKit, pyobjc-framework-DVDPlayback, pyobjc-framework-DiskArbitration, pyobjc-framework-DiscRecordingUI, pyobjc-framework-DictionaryServices, pyobjc-framework-DeviceCheck, pyobjc-framework-DataDetection, pyobjc-framework-CryptoTokenKit, pyobjc-framework-CoreWLAN, pyobjc-framework-CoreText, pyobjc-framework-CoreSpotlight, pyobjc-framework-CoreMotion, pyobjc-framework-CoreMIDI, pyobjc-framework-CoreMediaIO, pyobjc-framework-CoreHaptics, pyobjc-framework-CoreBluetooth, pyobjc-framework-CoreAudioKit, pyobjc-framework-ContactsUI, pyobjc-framework-ColorSync, pyobjc-framework-Collaboration, pyobjc-framework-CloudKit, pyobjc-framework-ClassKit, pyobjc-framework-CFNetwork, pyobjc-framework-CallKit, pyobjc-framework-CalendarStore, pyobjc-framework-BusinessChat, pyobjc-framework-BackgroundAssets, pyobjc-framework-AVRouting, pyobjc-framework-AVKit, pyobjc-framework-Automator, pyobjc-framework-AutomaticAssessmentConfiguration, pyobjc-framework-AuthenticationServices, pyobjc-framework-AudioVideoBridging, pyobjc-framework-AppTrackingTransparency, pyobjc-framework-ApplicationServices, pyobjc-framework-AppleScriptObjC, pyobjc-framework-AppleScriptKit, pyobjc-framework-AdSupport, pyobjc-framework-AdServices, pyobjc-framework-AddressBook, pyobjc-framework-Accessibility, pyqt5, pyobjc, autopep8, pyqtwebengine\n"
     ]
    },
    {
     "name": "stdout",
     "output_type": "stream",
     "text": [
      "  Attempting uninstall: pyqt5\n",
      "    Found existing installation: PyQt5 5.15.9\n",
      "    Uninstalling PyQt5-5.15.9:\n",
      "      Successfully uninstalled PyQt5-5.15.9\n",
      "  Attempting uninstall: autopep8\n",
      "    Found existing installation: autopep8 1.6.0\n",
      "    Uninstalling autopep8-1.6.0:\n",
      "      Successfully uninstalled autopep8-1.6.0\n",
      "  Attempting uninstall: pyqtwebengine\n",
      "    Found existing installation: PyQtWebEngine 5.15.6\n",
      "    Uninstalling PyQtWebEngine-5.15.6:\n",
      "      Successfully uninstalled PyQtWebEngine-5.15.6\n",
      "Successfully installed autopep8-1.5.7 pyobjc-9.2 pyobjc-core-9.2 pyobjc-framework-AVFoundation-9.2 pyobjc-framework-AVKit-9.2 pyobjc-framework-AVRouting-9.2 pyobjc-framework-Accessibility-9.2 pyobjc-framework-Accounts-9.2 pyobjc-framework-AdServices-9.2 pyobjc-framework-AdSupport-9.2 pyobjc-framework-AddressBook-9.2 pyobjc-framework-AppTrackingTransparency-9.2 pyobjc-framework-AppleScriptKit-9.2 pyobjc-framework-AppleScriptObjC-9.2 pyobjc-framework-ApplicationServices-9.2 pyobjc-framework-AudioVideoBridging-9.2 pyobjc-framework-AuthenticationServices-9.2 pyobjc-framework-AutomaticAssessmentConfiguration-9.2 pyobjc-framework-Automator-9.2 pyobjc-framework-BackgroundAssets-9.2 pyobjc-framework-BusinessChat-9.2 pyobjc-framework-CFNetwork-9.2 pyobjc-framework-CalendarStore-9.2 pyobjc-framework-CallKit-9.2 pyobjc-framework-ClassKit-9.2 pyobjc-framework-CloudKit-9.2 pyobjc-framework-Cocoa-9.2 pyobjc-framework-Collaboration-9.2 pyobjc-framework-ColorSync-9.2 pyobjc-framework-Contacts-9.2 pyobjc-framework-ContactsUI-9.2 pyobjc-framework-CoreAudio-9.2 pyobjc-framework-CoreAudioKit-9.2 pyobjc-framework-CoreBluetooth-9.2 pyobjc-framework-CoreData-9.2 pyobjc-framework-CoreHaptics-9.2 pyobjc-framework-CoreLocation-9.2 pyobjc-framework-CoreMIDI-9.2 pyobjc-framework-CoreML-9.2 pyobjc-framework-CoreMedia-9.2 pyobjc-framework-CoreMediaIO-9.2 pyobjc-framework-CoreMotion-9.2 pyobjc-framework-CoreServices-9.2 pyobjc-framework-CoreSpotlight-9.2 pyobjc-framework-CoreText-9.2 pyobjc-framework-CoreWLAN-9.2 pyobjc-framework-CryptoTokenKit-9.2 pyobjc-framework-DVDPlayback-9.2 pyobjc-framework-DataDetection-9.2 pyobjc-framework-DeviceCheck-9.2 pyobjc-framework-DictionaryServices-9.2 pyobjc-framework-DiscRecording-9.2 pyobjc-framework-DiscRecordingUI-9.2 pyobjc-framework-DiskArbitration-9.2 pyobjc-framework-EventKit-9.2 pyobjc-framework-ExceptionHandling-9.2 pyobjc-framework-ExecutionPolicy-9.2 pyobjc-framework-ExtensionKit-9.2 pyobjc-framework-ExternalAccessory-9.2 pyobjc-framework-FSEvents-9.2 pyobjc-framework-FileProvider-9.2 pyobjc-framework-FileProviderUI-9.2 pyobjc-framework-FinderSync-9.2 pyobjc-framework-GameCenter-9.2 pyobjc-framework-GameController-9.2 pyobjc-framework-GameKit-9.2 pyobjc-framework-GameplayKit-9.2 pyobjc-framework-HealthKit-9.2 pyobjc-framework-IMServicePlugIn-9.2 pyobjc-framework-IOBluetooth-9.2 pyobjc-framework-IOBluetoothUI-9.2 pyobjc-framework-IOSurface-9.2 pyobjc-framework-ImageCaptureCore-9.2 pyobjc-framework-InputMethodKit-9.2 pyobjc-framework-InstallerPlugins-9.2 pyobjc-framework-InstantMessage-9.2 pyobjc-framework-Intents-9.2 pyobjc-framework-IntentsUI-9.2 pyobjc-framework-KernelManagement-9.2 pyobjc-framework-LatentSemanticMapping-9.2 pyobjc-framework-LaunchServices-9.2 pyobjc-framework-LinkPresentation-9.2 pyobjc-framework-LocalAuthentication-9.2 pyobjc-framework-LocalAuthenticationEmbeddedUI-9.2 pyobjc-framework-MLCompute-9.2 pyobjc-framework-MailKit-9.2 pyobjc-framework-MapKit-9.2 pyobjc-framework-MediaAccessibility-9.2 pyobjc-framework-MediaLibrary-9.2 pyobjc-framework-MediaPlayer-9.2 pyobjc-framework-MediaToolbox-9.2 pyobjc-framework-Metal-9.2 pyobjc-framework-MetalFX-9.2 pyobjc-framework-MetalKit-9.2 pyobjc-framework-MetalPerformanceShaders-9.2 pyobjc-framework-MetalPerformanceShadersGraph-9.2 pyobjc-framework-MetricKit-9.2 pyobjc-framework-ModelIO-9.2 pyobjc-framework-MultipeerConnectivity-9.2 pyobjc-framework-NaturalLanguage-9.2 pyobjc-framework-NetFS-9.2 pyobjc-framework-Network-9.2 pyobjc-framework-NetworkExtension-9.2 pyobjc-framework-NotificationCenter-9.2 pyobjc-framework-OSAKit-9.2 pyobjc-framework-OSLog-9.2 pyobjc-framework-OpenDirectory-9.2 pyobjc-framework-PHASE-9.2 pyobjc-framework-PassKit-9.2 pyobjc-framework-PencilKit-9.2 pyobjc-framework-Photos-9.2 pyobjc-framework-PhotosUI-9.2 pyobjc-framework-PreferencePanes-9.2 pyobjc-framework-PushKit-9.2 pyobjc-framework-Quartz-9.2 pyobjc-framework-QuickLookThumbnailing-9.2 pyobjc-framework-ReplayKit-9.2 pyobjc-framework-SafariServices-9.2 pyobjc-framework-SafetyKit-9.2 pyobjc-framework-SceneKit-9.2 pyobjc-framework-ScreenCaptureKit-9.2 pyobjc-framework-ScreenSaver-9.2 pyobjc-framework-ScreenTime-9.2 pyobjc-framework-ScriptingBridge-9.2 pyobjc-framework-SearchKit-9.2 pyobjc-framework-Security-9.2 pyobjc-framework-SecurityFoundation-9.2 pyobjc-framework-SecurityInterface-9.2 pyobjc-framework-ServiceManagement-9.2 pyobjc-framework-SharedWithYou-9.2 pyobjc-framework-SharedWithYouCore-9.2 pyobjc-framework-ShazamKit-9.2 pyobjc-framework-Social-9.2 pyobjc-framework-SoundAnalysis-9.2 pyobjc-framework-Speech-9.2 pyobjc-framework-SpriteKit-9.2 pyobjc-framework-StoreKit-9.2 pyobjc-framework-SyncServices-9.2 pyobjc-framework-SystemConfiguration-9.2 pyobjc-framework-SystemExtensions-9.2 pyobjc-framework-ThreadNetwork-9.2 pyobjc-framework-UniformTypeIdentifiers-9.2 pyobjc-framework-UserNotifications-9.2 pyobjc-framework-UserNotificationsUI-9.2 pyobjc-framework-VideoSubscriberAccount-9.2 pyobjc-framework-VideoToolbox-9.2 pyobjc-framework-Virtualization-9.2 pyobjc-framework-Vision-9.2 pyobjc-framework-WebKit-9.2 pyobjc-framework-iTunesLibrary-9.2 pyobjc-framework-libdispatch-9.2 pyobjc-framework-libxpc-9.2 pyqt5-5.12.3 pyqtwebengine-5.12.1\n",
      "Note: you may need to restart the kernel to use updated packages.\n"
     ]
    }
   ],
   "source": [
    "pip install spyder\n"
   ]
  },
  {
   "cell_type": "code",
   "execution_count": 354,
   "id": "9bc61909",
   "metadata": {
    "ExecuteTime": {
     "end_time": "2023-07-29T16:29:42.632295Z",
     "start_time": "2023-07-29T16:29:11.046796Z"
    },
    "hidden": true
   },
   "outputs": [
    {
     "name": "stdout",
     "output_type": "stream",
     "text": [
      "Collecting pycaret\n",
      "  Downloading pycaret-3.0.4-py3-none-any.whl (484 kB)\n",
      "\u001b[K     |████████████████████████████████| 484 kB 8.6 MB/s eta 0:00:01\n",
      "\u001b[?25hCollecting pyod>=1.0.8\n",
      "  Downloading pyod-1.1.0.tar.gz (153 kB)\n",
      "\u001b[K     |████████████████████████████████| 153 kB 5.6 MB/s eta 0:00:01\n",
      "\u001b[?25hRequirement already satisfied: scipy<2.0.0 in /Users/donggunhan/opt/anaconda3/lib/python3.9/site-packages (from pycaret) (1.7.3)\n",
      "Requirement already satisfied: cloudpickle in /Users/donggunhan/opt/anaconda3/lib/python3.9/site-packages (from pycaret) (2.0.0)\n",
      "Requirement already satisfied: joblib>=1.2.0 in /Users/donggunhan/opt/anaconda3/lib/python3.9/site-packages (from pycaret) (1.2.0)\n",
      "Requirement already satisfied: scikit-learn<1.3.0,>=1.0 in /Users/donggunhan/opt/anaconda3/lib/python3.9/site-packages (from pycaret) (1.0.2)\n",
      "Collecting importlib-metadata>=4.12.0\n",
      "  Downloading importlib_metadata-6.8.0-py3-none-any.whl (22 kB)\n",
      "Requirement already satisfied: jinja2>=1.2 in /Users/donggunhan/opt/anaconda3/lib/python3.9/site-packages (from pycaret) (2.11.3)\n",
      "Requirement already satisfied: statsmodels>=0.12.1 in /Users/donggunhan/opt/anaconda3/lib/python3.9/site-packages (from pycaret) (0.13.2)\n",
      "Collecting psutil>=5.9.0\n",
      "  Downloading psutil-5.9.5-cp36-abi3-macosx_10_9_x86_64.whl (245 kB)\n",
      "\u001b[K     |████████████████████████████████| 245 kB 7.2 MB/s eta 0:00:01\n",
      "\u001b[?25hRequirement already satisfied: plotly>=5.0.0 in /Users/donggunhan/opt/anaconda3/lib/python3.9/site-packages (from pycaret) (5.6.0)\n",
      "Requirement already satisfied: ipywidgets>=7.6.5 in /Users/donggunhan/opt/anaconda3/lib/python3.9/site-packages (from pycaret) (7.6.5)\n",
      "Collecting deprecation>=2.1.0\n",
      "  Downloading deprecation-2.1.0-py2.py3-none-any.whl (11 kB)\n",
      "Collecting sktime!=0.17.1,!=0.17.2,!=0.18.0,>=0.16.1\n",
      "  Downloading sktime-0.21.0-py3-none-any.whl (17.1 MB)\n",
      "\u001b[K     |████████████████████████████████| 17.1 MB 6.1 MB/s eta 0:00:01\n",
      "\u001b[?25hRequirement already satisfied: tqdm>=4.62.0 in /Users/donggunhan/opt/anaconda3/lib/python3.9/site-packages (from pycaret) (4.64.0)\n",
      "Collecting category-encoders>=2.4.0\n",
      "  Downloading category_encoders-2.6.1-py2.py3-none-any.whl (81 kB)\n",
      "\u001b[K     |████████████████████████████████| 81 kB 92 kB/s s eta 0:00:01\n",
      "\u001b[?25hRequirement already satisfied: imbalanced-learn>=0.8.1 in /Users/donggunhan/opt/anaconda3/lib/python3.9/site-packages (from pycaret) (0.10.1)\n",
      "Requirement already satisfied: pmdarima!=1.8.1,<3.0.0,>=1.8.0 in /Users/donggunhan/opt/anaconda3/lib/python3.9/site-packages (from pycaret) (2.0.3)\n",
      "Requirement already satisfied: numba>=0.55.0 in /Users/donggunhan/opt/anaconda3/lib/python3.9/site-packages (from pycaret) (0.55.1)\n",
      "Collecting xxhash\n",
      "  Downloading xxhash-3.3.0-cp39-cp39-macosx_10_9_x86_64.whl (31 kB)\n",
      "Requirement already satisfied: nbformat>=4.2.0 in /Users/donggunhan/opt/anaconda3/lib/python3.9/site-packages (from pycaret) (5.3.0)\n",
      "Requirement already satisfied: yellowbrick>=1.4 in /Users/donggunhan/opt/anaconda3/lib/python3.9/site-packages (from pycaret) (1.5)\n",
      "Requirement already satisfied: matplotlib>=3.3.0 in /Users/donggunhan/opt/anaconda3/lib/python3.9/site-packages (from pycaret) (3.5.1)\n",
      "Requirement already satisfied: lightgbm>=3.0.0 in /Users/donggunhan/opt/anaconda3/lib/python3.9/site-packages (from pycaret) (4.0.0)\n",
      "Collecting tbats>=1.1.3\n",
      "  Downloading tbats-1.1.3-py3-none-any.whl (44 kB)\n",
      "\u001b[K     |████████████████████████████████| 44 kB 6.5 MB/s  eta 0:00:01\n",
      "\u001b[?25hRequirement already satisfied: scikit-plot>=0.3.7 in /Users/donggunhan/opt/anaconda3/lib/python3.9/site-packages (from pycaret) (0.3.7)\n",
      "Collecting kaleido>=0.2.1\n",
      "  Downloading kaleido-0.2.1-py2.py3-none-macosx_10_11_x86_64.whl (85.2 MB)\n",
      "\u001b[K     |████████████████████████████████| 85.2 MB 9.2 MB/s eta 0:00:014     |█████████████████████████████▉  | 79.5 MB 3.9 MB/s eta 0:00:02\n",
      "\u001b[?25hRequirement already satisfied: numpy<1.24,>=1.21 in /Users/donggunhan/opt/anaconda3/lib/python3.9/site-packages (from pycaret) (1.21.5)\n",
      "Requirement already satisfied: pandas<2.0.0,>=1.3.0 in /Users/donggunhan/opt/anaconda3/lib/python3.9/site-packages (from pycaret) (1.4.2)\n",
      "Requirement already satisfied: markupsafe>=2.0.1 in /Users/donggunhan/opt/anaconda3/lib/python3.9/site-packages (from pycaret) (2.0.1)\n",
      "Requirement already satisfied: ipython>=5.5.0 in /Users/donggunhan/opt/anaconda3/lib/python3.9/site-packages (from pycaret) (8.2.0)\n",
      "Collecting schemdraw==0.15\n",
      "  Downloading schemdraw-0.15-py3-none-any.whl (106 kB)\n",
      "\u001b[K     |████████████████████████████████| 106 kB 6.6 MB/s eta 0:00:01\n",
      "\u001b[?25hCollecting plotly-resampler>=0.8.3.1\n",
      "  Downloading plotly_resampler-0.9.1-py3-none-any.whl (73 kB)\n",
      "\u001b[K     |████████████████████████████████| 73 kB 6.1 MB/s eta 0:00:01\n",
      "\u001b[?25hRequirement already satisfied: requests>=2.27.1 in /Users/donggunhan/opt/anaconda3/lib/python3.9/site-packages (from pycaret) (2.27.1)\n",
      "Requirement already satisfied: wurlitzer in /Users/donggunhan/opt/anaconda3/lib/python3.9/site-packages (from pycaret) (3.0.2)\n",
      "Requirement already satisfied: patsy>=0.5.1 in /Users/donggunhan/opt/anaconda3/lib/python3.9/site-packages (from category-encoders>=2.4.0->pycaret) (0.5.2)\n",
      "Requirement already satisfied: packaging in /Users/donggunhan/opt/anaconda3/lib/python3.9/site-packages (from deprecation>=2.1.0->pycaret) (21.3)\n",
      "Requirement already satisfied: threadpoolctl>=2.0.0 in /Users/donggunhan/opt/anaconda3/lib/python3.9/site-packages (from imbalanced-learn>=0.8.1->pycaret) (2.2.0)\n",
      "Requirement already satisfied: zipp>=0.5 in /Users/donggunhan/opt/anaconda3/lib/python3.9/site-packages (from importlib-metadata>=4.12.0->pycaret) (3.7.0)\n",
      "Requirement already satisfied: pygments>=2.4.0 in /Users/donggunhan/opt/anaconda3/lib/python3.9/site-packages (from ipython>=5.5.0->pycaret) (2.11.2)\n",
      "Requirement already satisfied: jedi>=0.16 in /Users/donggunhan/opt/anaconda3/lib/python3.9/site-packages (from ipython>=5.5.0->pycaret) (0.18.1)\n",
      "Requirement already satisfied: backcall in /Users/donggunhan/opt/anaconda3/lib/python3.9/site-packages (from ipython>=5.5.0->pycaret) (0.2.0)\n",
      "Requirement already satisfied: prompt-toolkit!=3.0.0,!=3.0.1,<3.1.0,>=2.0.0 in /Users/donggunhan/opt/anaconda3/lib/python3.9/site-packages (from ipython>=5.5.0->pycaret) (3.0.20)\n",
      "Requirement already satisfied: traitlets>=5 in /Users/donggunhan/opt/anaconda3/lib/python3.9/site-packages (from ipython>=5.5.0->pycaret) (5.1.1)\n",
      "Requirement already satisfied: setuptools>=18.5 in /Users/donggunhan/opt/anaconda3/lib/python3.9/site-packages (from ipython>=5.5.0->pycaret) (67.8.0)\n",
      "Requirement already satisfied: matplotlib-inline in /Users/donggunhan/opt/anaconda3/lib/python3.9/site-packages (from ipython>=5.5.0->pycaret) (0.1.2)\n",
      "Requirement already satisfied: appnope in /Users/donggunhan/opt/anaconda3/lib/python3.9/site-packages (from ipython>=5.5.0->pycaret) (0.1.2)\n",
      "Requirement already satisfied: pexpect>4.3 in /Users/donggunhan/opt/anaconda3/lib/python3.9/site-packages (from ipython>=5.5.0->pycaret) (4.8.0)\n",
      "Requirement already satisfied: pickleshare in /Users/donggunhan/opt/anaconda3/lib/python3.9/site-packages (from ipython>=5.5.0->pycaret) (0.7.5)\n",
      "Requirement already satisfied: decorator in /Users/donggunhan/opt/anaconda3/lib/python3.9/site-packages (from ipython>=5.5.0->pycaret) (5.1.1)\n",
      "Requirement already satisfied: stack-data in /Users/donggunhan/opt/anaconda3/lib/python3.9/site-packages (from ipython>=5.5.0->pycaret) (0.2.0)\n",
      "Requirement already satisfied: ipykernel>=4.5.1 in /Users/donggunhan/opt/anaconda3/lib/python3.9/site-packages (from ipywidgets>=7.6.5->pycaret) (6.9.1)\n",
      "Requirement already satisfied: ipython-genutils~=0.2.0 in /Users/donggunhan/opt/anaconda3/lib/python3.9/site-packages (from ipywidgets>=7.6.5->pycaret) (0.2.0)\n",
      "Requirement already satisfied: jupyterlab-widgets>=1.0.0 in /Users/donggunhan/opt/anaconda3/lib/python3.9/site-packages (from ipywidgets>=7.6.5->pycaret) (1.0.0)\n",
      "Requirement already satisfied: widgetsnbextension~=3.5.0 in /Users/donggunhan/opt/anaconda3/lib/python3.9/site-packages (from ipywidgets>=7.6.5->pycaret) (3.5.2)\n",
      "Requirement already satisfied: debugpy<2.0,>=1.0.0 in /Users/donggunhan/opt/anaconda3/lib/python3.9/site-packages (from ipykernel>=4.5.1->ipywidgets>=7.6.5->pycaret) (1.5.1)\n",
      "Requirement already satisfied: jupyter-client<8.0 in /Users/donggunhan/opt/anaconda3/lib/python3.9/site-packages (from ipykernel>=4.5.1->ipywidgets>=7.6.5->pycaret) (6.1.12)\n",
      "Requirement already satisfied: tornado<7.0,>=4.2 in /Users/donggunhan/opt/anaconda3/lib/python3.9/site-packages (from ipykernel>=4.5.1->ipywidgets>=7.6.5->pycaret) (6.1)\n",
      "Requirement already satisfied: nest-asyncio in /Users/donggunhan/opt/anaconda3/lib/python3.9/site-packages (from ipykernel>=4.5.1->ipywidgets>=7.6.5->pycaret) (1.5.5)\n"
     ]
    },
    {
     "name": "stdout",
     "output_type": "stream",
     "text": [
      "Requirement already satisfied: parso<0.9.0,>=0.8.0 in /Users/donggunhan/opt/anaconda3/lib/python3.9/site-packages (from jedi>=0.16->ipython>=5.5.0->pycaret) (0.8.3)\n",
      "Requirement already satisfied: jupyter-core>=4.6.0 in /Users/donggunhan/opt/anaconda3/lib/python3.9/site-packages (from jupyter-client<8.0->ipykernel>=4.5.1->ipywidgets>=7.6.5->pycaret) (4.9.2)\n",
      "Requirement already satisfied: python-dateutil>=2.1 in /Users/donggunhan/opt/anaconda3/lib/python3.9/site-packages (from jupyter-client<8.0->ipykernel>=4.5.1->ipywidgets>=7.6.5->pycaret) (2.8.2)\n",
      "Requirement already satisfied: pyzmq>=13 in /Users/donggunhan/opt/anaconda3/lib/python3.9/site-packages (from jupyter-client<8.0->ipykernel>=4.5.1->ipywidgets>=7.6.5->pycaret) (22.3.0)\n",
      "Requirement already satisfied: pillow>=6.2.0 in /Users/donggunhan/opt/anaconda3/lib/python3.9/site-packages (from matplotlib>=3.3.0->pycaret) (9.0.1)\n",
      "Requirement already satisfied: pyparsing>=2.2.1 in /Users/donggunhan/opt/anaconda3/lib/python3.9/site-packages (from matplotlib>=3.3.0->pycaret) (3.0.4)\n",
      "Requirement already satisfied: kiwisolver>=1.0.1 in /Users/donggunhan/opt/anaconda3/lib/python3.9/site-packages (from matplotlib>=3.3.0->pycaret) (1.3.2)\n",
      "Requirement already satisfied: fonttools>=4.22.0 in /Users/donggunhan/opt/anaconda3/lib/python3.9/site-packages (from matplotlib>=3.3.0->pycaret) (4.25.0)\n",
      "Requirement already satisfied: cycler>=0.10 in /Users/donggunhan/opt/anaconda3/lib/python3.9/site-packages (from matplotlib>=3.3.0->pycaret) (0.11.0)\n",
      "Requirement already satisfied: fastjsonschema in /Users/donggunhan/opt/anaconda3/lib/python3.9/site-packages (from nbformat>=4.2.0->pycaret) (2.15.1)\n",
      "Requirement already satisfied: jsonschema>=2.6 in /Users/donggunhan/opt/anaconda3/lib/python3.9/site-packages (from nbformat>=4.2.0->pycaret) (4.4.0)\n",
      "Requirement already satisfied: pyrsistent!=0.17.0,!=0.17.1,!=0.17.2,>=0.14.0 in /Users/donggunhan/opt/anaconda3/lib/python3.9/site-packages (from jsonschema>=2.6->nbformat>=4.2.0->pycaret) (0.18.0)\n",
      "Requirement already satisfied: attrs>=17.4.0 in /Users/donggunhan/opt/anaconda3/lib/python3.9/site-packages (from jsonschema>=2.6->nbformat>=4.2.0->pycaret) (21.4.0)\n",
      "Requirement already satisfied: llvmlite<0.39,>=0.38.0rc1 in /Users/donggunhan/opt/anaconda3/lib/python3.9/site-packages (from numba>=0.55.0->pycaret) (0.38.0)\n",
      "Requirement already satisfied: pytz>=2020.1 in /Users/donggunhan/opt/anaconda3/lib/python3.9/site-packages (from pandas<2.0.0,>=1.3.0->pycaret) (2021.3)\n",
      "Requirement already satisfied: six in /Users/donggunhan/opt/anaconda3/lib/python3.9/site-packages (from patsy>=0.5.1->category-encoders>=2.4.0->pycaret) (1.16.0)\n",
      "Requirement already satisfied: ptyprocess>=0.5 in /Users/donggunhan/opt/anaconda3/lib/python3.9/site-packages (from pexpect>4.3->ipython>=5.5.0->pycaret) (0.7.0)\n",
      "Requirement already satisfied: tenacity>=6.2.0 in /Users/donggunhan/opt/anaconda3/lib/python3.9/site-packages (from plotly>=5.0.0->pycaret) (8.0.1)\n",
      "Collecting orjson<4.0.0,>=3.8.0\n",
      "  Downloading orjson-3.9.2-cp39-cp39-macosx_10_15_x86_64.macosx_11_0_arm64.macosx_10_15_universal2.whl (242 kB)\n",
      "\u001b[K     |████████████████████████████████| 242 kB 4.1 MB/s eta 0:00:01\n",
      "\u001b[?25hCollecting tsdownsample==0.1.2\n",
      "  Downloading tsdownsample-0.1.2-cp39-cp39-macosx_10_7_x86_64.whl (1.3 MB)\n",
      "\u001b[K     |████████████████████████████████| 1.3 MB 4.2 MB/s eta 0:00:01\n",
      "\u001b[?25hCollecting dash<3.0.0,>=2.11.0\n",
      "  Downloading dash-2.11.1-py3-none-any.whl (10.4 MB)\n",
      "\u001b[K     |████████████████████████████████| 10.4 MB 6.7 MB/s eta 0:00:01\n",
      "\u001b[?25hCollecting trace-updater>=0.0.8\n",
      "  Downloading trace_updater-0.0.9.1-py3-none-any.whl (185 kB)\n",
      "\u001b[K     |████████████████████████████████| 185 kB 6.7 MB/s eta 0:00:01\n",
      "\u001b[?25hRequirement already satisfied: Werkzeug<2.3.0 in /Users/donggunhan/opt/anaconda3/lib/python3.9/site-packages (from dash<3.0.0,>=2.11.0->plotly-resampler>=0.8.3.1->pycaret) (2.0.3)\n",
      "Requirement already satisfied: Flask<2.3.0,>=1.0.4 in /Users/donggunhan/opt/anaconda3/lib/python3.9/site-packages (from dash<3.0.0,>=2.11.0->plotly-resampler>=0.8.3.1->pycaret) (1.1.2)\n",
      "Collecting retrying\n",
      "  Downloading retrying-1.3.4-py3-none-any.whl (11 kB)\n",
      "Requirement already satisfied: typing-extensions>=4.1.1 in /Users/donggunhan/opt/anaconda3/lib/python3.9/site-packages (from dash<3.0.0,>=2.11.0->plotly-resampler>=0.8.3.1->pycaret) (4.1.1)\n",
      "Collecting dash-html-components==2.0.0\n",
      "  Downloading dash_html_components-2.0.0-py3-none-any.whl (4.1 kB)\n",
      "Collecting dash-core-components==2.0.0\n",
      "  Downloading dash_core_components-2.0.0-py3-none-any.whl (3.8 kB)\n",
      "Collecting dash-table==5.0.0\n",
      "  Downloading dash_table-5.0.0-py3-none-any.whl (3.9 kB)\n",
      "Collecting ansi2html\n",
      "  Downloading ansi2html-1.8.0-py3-none-any.whl (16 kB)\n",
      "Requirement already satisfied: itsdangerous>=0.24 in /Users/donggunhan/opt/anaconda3/lib/python3.9/site-packages (from Flask<2.3.0,>=1.0.4->dash<3.0.0,>=2.11.0->plotly-resampler>=0.8.3.1->pycaret) (2.0.1)\n",
      "Requirement already satisfied: click>=5.1 in /Users/donggunhan/opt/anaconda3/lib/python3.9/site-packages (from Flask<2.3.0,>=1.0.4->dash<3.0.0,>=2.11.0->plotly-resampler>=0.8.3.1->pycaret) (8.0.4)\n",
      "Requirement already satisfied: Cython!=0.29.18,!=0.29.31,>=0.29 in /Users/donggunhan/opt/anaconda3/lib/python3.9/site-packages (from pmdarima!=1.8.1,<3.0.0,>=1.8.0->pycaret) (0.29.28)\n",
      "Requirement already satisfied: urllib3 in /Users/donggunhan/opt/anaconda3/lib/python3.9/site-packages (from pmdarima!=1.8.1,<3.0.0,>=1.8.0->pycaret) (1.26.9)\n",
      "Requirement already satisfied: wcwidth in /Users/donggunhan/opt/anaconda3/lib/python3.9/site-packages (from prompt-toolkit!=3.0.0,!=3.0.1,<3.1.0,>=2.0.0->ipython>=5.5.0->pycaret) (0.2.5)\n",
      "Requirement already satisfied: idna<4,>=2.5 in /Users/donggunhan/opt/anaconda3/lib/python3.9/site-packages (from requests>=2.27.1->pycaret) (3.3)\n",
      "Requirement already satisfied: certifi>=2017.4.17 in /Users/donggunhan/opt/anaconda3/lib/python3.9/site-packages (from requests>=2.27.1->pycaret) (2023.5.7)\n",
      "Requirement already satisfied: charset-normalizer~=2.0.0 in /Users/donggunhan/opt/anaconda3/lib/python3.9/site-packages (from requests>=2.27.1->pycaret) (2.0.4)\n",
      "Collecting scikit-base<0.6.0\n",
      "  Downloading scikit_base-0.5.0-py3-none-any.whl (118 kB)\n",
      "\u001b[K     |████████████████████████████████| 118 kB 5.9 MB/s eta 0:00:01\n",
      "\u001b[?25hCollecting deprecated>=1.2.13\n",
      "  Downloading Deprecated-1.2.14-py2.py3-none-any.whl (9.6 kB)\n",
      "Requirement already satisfied: wrapt<2,>=1.10 in /Users/donggunhan/opt/anaconda3/lib/python3.9/site-packages (from deprecated>=1.2.13->sktime!=0.17.1,!=0.17.2,!=0.18.0,>=0.16.1->pycaret) (1.12.1)\n",
      "Requirement already satisfied: notebook>=4.4.1 in /Users/donggunhan/opt/anaconda3/lib/python3.9/site-packages (from widgetsnbextension~=3.5.0->ipywidgets>=7.6.5->pycaret) (6.4.8)\n",
      "Requirement already satisfied: nbconvert in /Users/donggunhan/opt/anaconda3/lib/python3.9/site-packages (from notebook>=4.4.1->widgetsnbextension~=3.5.0->ipywidgets>=7.6.5->pycaret) (6.4.4)\n",
      "Requirement already satisfied: prometheus-client in /Users/donggunhan/opt/anaconda3/lib/python3.9/site-packages (from notebook>=4.4.1->widgetsnbextension~=3.5.0->ipywidgets>=7.6.5->pycaret) (0.13.1)\n",
      "Requirement already satisfied: Send2Trash>=1.8.0 in /Users/donggunhan/opt/anaconda3/lib/python3.9/site-packages (from notebook>=4.4.1->widgetsnbextension~=3.5.0->ipywidgets>=7.6.5->pycaret) (1.8.0)\n",
      "Requirement already satisfied: terminado>=0.8.3 in /Users/donggunhan/opt/anaconda3/lib/python3.9/site-packages (from notebook>=4.4.1->widgetsnbextension~=3.5.0->ipywidgets>=7.6.5->pycaret) (0.13.1)\n",
      "Requirement already satisfied: argon2-cffi in /Users/donggunhan/opt/anaconda3/lib/python3.9/site-packages (from notebook>=4.4.1->widgetsnbextension~=3.5.0->ipywidgets>=7.6.5->pycaret) (21.3.0)\n",
      "Requirement already satisfied: argon2-cffi-bindings in /Users/donggunhan/opt/anaconda3/lib/python3.9/site-packages (from argon2-cffi->notebook>=4.4.1->widgetsnbextension~=3.5.0->ipywidgets>=7.6.5->pycaret) (21.2.0)\n",
      "Requirement already satisfied: cffi>=1.0.1 in /Users/donggunhan/opt/anaconda3/lib/python3.9/site-packages (from argon2-cffi-bindings->argon2-cffi->notebook>=4.4.1->widgetsnbextension~=3.5.0->ipywidgets>=7.6.5->pycaret) (1.15.0)\n",
      "Requirement already satisfied: pycparser in /Users/donggunhan/opt/anaconda3/lib/python3.9/site-packages (from cffi>=1.0.1->argon2-cffi-bindings->argon2-cffi->notebook>=4.4.1->widgetsnbextension~=3.5.0->ipywidgets>=7.6.5->pycaret) (2.21)\n"
     ]
    },
    {
     "name": "stdout",
     "output_type": "stream",
     "text": [
      "Requirement already satisfied: defusedxml in /Users/donggunhan/opt/anaconda3/lib/python3.9/site-packages (from nbconvert->notebook>=4.4.1->widgetsnbextension~=3.5.0->ipywidgets>=7.6.5->pycaret) (0.7.1)\n",
      "Requirement already satisfied: beautifulsoup4 in /Users/donggunhan/opt/anaconda3/lib/python3.9/site-packages (from nbconvert->notebook>=4.4.1->widgetsnbextension~=3.5.0->ipywidgets>=7.6.5->pycaret) (4.11.1)\n",
      "Requirement already satisfied: mistune<2,>=0.8.1 in /Users/donggunhan/opt/anaconda3/lib/python3.9/site-packages (from nbconvert->notebook>=4.4.1->widgetsnbextension~=3.5.0->ipywidgets>=7.6.5->pycaret) (0.8.4)\n",
      "Requirement already satisfied: testpath in /Users/donggunhan/opt/anaconda3/lib/python3.9/site-packages (from nbconvert->notebook>=4.4.1->widgetsnbextension~=3.5.0->ipywidgets>=7.6.5->pycaret) (0.5.0)\n",
      "Requirement already satisfied: nbclient<0.6.0,>=0.5.0 in /Users/donggunhan/opt/anaconda3/lib/python3.9/site-packages (from nbconvert->notebook>=4.4.1->widgetsnbextension~=3.5.0->ipywidgets>=7.6.5->pycaret) (0.5.13)\n",
      "Requirement already satisfied: bleach in /Users/donggunhan/opt/anaconda3/lib/python3.9/site-packages (from nbconvert->notebook>=4.4.1->widgetsnbextension~=3.5.0->ipywidgets>=7.6.5->pycaret) (4.1.0)\n",
      "Requirement already satisfied: jupyterlab-pygments in /Users/donggunhan/opt/anaconda3/lib/python3.9/site-packages (from nbconvert->notebook>=4.4.1->widgetsnbextension~=3.5.0->ipywidgets>=7.6.5->pycaret) (0.1.2)\n",
      "Requirement already satisfied: entrypoints>=0.2.2 in /Users/donggunhan/opt/anaconda3/lib/python3.9/site-packages (from nbconvert->notebook>=4.4.1->widgetsnbextension~=3.5.0->ipywidgets>=7.6.5->pycaret) (0.4)\n",
      "Requirement already satisfied: pandocfilters>=1.4.1 in /Users/donggunhan/opt/anaconda3/lib/python3.9/site-packages (from nbconvert->notebook>=4.4.1->widgetsnbextension~=3.5.0->ipywidgets>=7.6.5->pycaret) (1.5.0)\n",
      "Requirement already satisfied: soupsieve>1.2 in /Users/donggunhan/opt/anaconda3/lib/python3.9/site-packages (from beautifulsoup4->nbconvert->notebook>=4.4.1->widgetsnbextension~=3.5.0->ipywidgets>=7.6.5->pycaret) (2.3.1)\n",
      "Requirement already satisfied: webencodings in /Users/donggunhan/opt/anaconda3/lib/python3.9/site-packages (from bleach->nbconvert->notebook>=4.4.1->widgetsnbextension~=3.5.0->ipywidgets>=7.6.5->pycaret) (0.5.1)\n",
      "Requirement already satisfied: pure-eval in /Users/donggunhan/opt/anaconda3/lib/python3.9/site-packages (from stack-data->ipython>=5.5.0->pycaret) (0.2.2)\n",
      "Requirement already satisfied: asttokens in /Users/donggunhan/opt/anaconda3/lib/python3.9/site-packages (from stack-data->ipython>=5.5.0->pycaret) (2.0.5)\n",
      "Requirement already satisfied: executing in /Users/donggunhan/opt/anaconda3/lib/python3.9/site-packages (from stack-data->ipython>=5.5.0->pycaret) (0.8.3)\n",
      "Building wheels for collected packages: pyod\n",
      "  Building wheel for pyod (setup.py) ... \u001b[?25ldone\n",
      "\u001b[?25h  Created wheel for pyod: filename=pyod-1.1.0-py3-none-any.whl size=185331 sha256=d799b4514ea738075b60d6c452261f7a036a08415c2871179b1bcaa310614ba1\n",
      "  Stored in directory: /Users/donggunhan/Library/Caches/pip/wheels/d7/21/ce/d0f4083609d89f6c4371a5ecb8c13636e7570abaed1e2473ce\n",
      "Successfully built pyod\n",
      "Installing collected packages: retrying, dash-table, dash-html-components, dash-core-components, ansi2html, tsdownsample, trace-updater, scikit-base, orjson, deprecated, dash, xxhash, tbats, sktime, schemdraw, pyod, psutil, plotly-resampler, kaleido, importlib-metadata, deprecation, category-encoders, pycaret\n",
      "  Attempting uninstall: psutil\n",
      "    Found existing installation: psutil 5.8.0\n",
      "    Uninstalling psutil-5.8.0:\n",
      "      Successfully uninstalled psutil-5.8.0\n",
      "  Attempting uninstall: importlib-metadata\n",
      "    Found existing installation: importlib-metadata 4.11.3\n",
      "    Uninstalling importlib-metadata-4.11.3:\n",
      "      Successfully uninstalled importlib-metadata-4.11.3\n",
      "\u001b[31mERROR: pip's dependency resolver does not currently take into account all the packages that are installed. This behaviour is the source of the following dependency conflicts.\n",
      "spyder 5.1.5 requires pyqt5<5.13, which is not installed.\n",
      "spyder 5.1.5 requires pyqtwebengine<5.13, which is not installed.\u001b[0m\n",
      "Successfully installed ansi2html-1.8.0 category-encoders-2.6.1 dash-2.11.1 dash-core-components-2.0.0 dash-html-components-2.0.0 dash-table-5.0.0 deprecated-1.2.14 deprecation-2.1.0 importlib-metadata-6.8.0 kaleido-0.2.1 orjson-3.9.2 plotly-resampler-0.9.1 psutil-5.9.5 pycaret-3.0.4 pyod-1.1.0 retrying-1.3.4 schemdraw-0.15 scikit-base-0.5.0 sktime-0.21.0 tbats-1.1.3 trace-updater-0.0.9.1 tsdownsample-0.1.2 xxhash-3.3.0\n"
     ]
    }
   ],
   "source": [
    "!pip install pycaret"
   ]
  },
  {
   "cell_type": "markdown",
   "id": "dbf914c6",
   "metadata": {
    "heading_collapsed": true
   },
   "source": [
    "## 호출"
   ]
  },
  {
   "cell_type": "code",
   "execution_count": 373,
   "id": "fa9d7007",
   "metadata": {
    "ExecuteTime": {
     "end_time": "2023-07-29T16:55:31.608366Z",
     "start_time": "2023-07-29T16:55:31.593856Z"
    },
    "hidden": true
   },
   "outputs": [],
   "source": [
    "import pandas as pd\n",
    "import numpy as np\n",
    "import matplotlib.pyplot as plt\n",
    "import seaborn as sns\n",
    "from tqdm import tqdm\n",
    "from sklearn.linear_model import LinearRegression, ElasticNet, Lasso, Ridge\n",
    "from sklearn.tree import DecisionTreeRegressor\n",
    "from sklearn.ensemble import RandomForestRegressor\n",
    "\n",
    "\n",
    "import xgboost as xgb\n",
    "\n",
    "import re\n",
    "import optuna\n",
    "from optuna.integration import XGBoostPruningCallback\n",
    "sns.set_theme(style=\"darkgrid\")\n",
    "\n",
    "\n",
    "pd.options.mode.chained_assignment = None\n",
    "%matplotlib inline"
   ]
  },
  {
   "cell_type": "code",
   "execution_count": 388,
   "id": "ca6f6060",
   "metadata": {
    "ExecuteTime": {
     "end_time": "2023-07-29T17:31:01.208464Z",
     "start_time": "2023-07-29T17:31:00.693887Z"
    },
    "hidden": true,
    "scrolled": true
   },
   "outputs": [],
   "source": [
    "import lightgbm as lgb"
   ]
  },
  {
   "cell_type": "code",
   "execution_count": 376,
   "id": "29c6249f",
   "metadata": {
    "ExecuteTime": {
     "end_time": "2023-07-29T17:02:10.268638Z",
     "start_time": "2023-07-29T17:02:10.229512Z"
    },
    "hidden": true
   },
   "outputs": [],
   "source": [
    "#Import train data set & test data\n",
    "train = pd.read_csv('train.csv')\n",
    "test = pd.read_csv('test.csv')\n",
    "submission = pd.read_csv('sample_submission.csv')"
   ]
  },
  {
   "cell_type": "markdown",
   "id": "38485f77",
   "metadata": {
    "heading_collapsed": true
   },
   "source": [
    "## Train data 확인"
   ]
  },
  {
   "cell_type": "code",
   "execution_count": 134,
   "id": "f86f4bc4",
   "metadata": {
    "ExecuteTime": {
     "end_time": "2023-07-29T05:18:31.718796Z",
     "start_time": "2023-07-29T05:18:31.700448Z"
    },
    "hidden": true
   },
   "outputs": [
    {
     "data": {
      "text/html": [
       "<div>\n",
       "<style scoped>\n",
       "    .dataframe tbody tr th:only-of-type {\n",
       "        vertical-align: middle;\n",
       "    }\n",
       "\n",
       "    .dataframe tbody tr th {\n",
       "        vertical-align: top;\n",
       "    }\n",
       "\n",
       "    .dataframe thead th {\n",
       "        text-align: right;\n",
       "    }\n",
       "</style>\n",
       "<table border=\"1\" class=\"dataframe\">\n",
       "  <thead>\n",
       "    <tr style=\"text-align: right;\">\n",
       "      <th></th>\n",
       "      <th>id</th>\n",
       "      <th>sigungu</th>\n",
       "      <th>jibun</th>\n",
       "      <th>apt_name</th>\n",
       "      <th>exclusive_use_area</th>\n",
       "      <th>transaction_year_month</th>\n",
       "      <th>transaction_day</th>\n",
       "      <th>transaction_real_price</th>\n",
       "      <th>floor</th>\n",
       "      <th>year_of_completion</th>\n",
       "    </tr>\n",
       "  </thead>\n",
       "  <tbody>\n",
       "    <tr>\n",
       "      <th>0</th>\n",
       "      <td>TRAIN_0000</td>\n",
       "      <td>서울특별시 강남구 대치동</td>\n",
       "      <td>503</td>\n",
       "      <td>개포우성1</td>\n",
       "      <td>158.54</td>\n",
       "      <td>201401</td>\n",
       "      <td>7</td>\n",
       "      <td>174000</td>\n",
       "      <td>13</td>\n",
       "      <td>1983</td>\n",
       "    </tr>\n",
       "    <tr>\n",
       "      <th>1</th>\n",
       "      <td>TRAIN_0001</td>\n",
       "      <td>서울특별시 강남구 대치동</td>\n",
       "      <td>503</td>\n",
       "      <td>개포우성1</td>\n",
       "      <td>127.61</td>\n",
       "      <td>201401</td>\n",
       "      <td>9</td>\n",
       "      <td>157500</td>\n",
       "      <td>6</td>\n",
       "      <td>1983</td>\n",
       "    </tr>\n",
       "    <tr>\n",
       "      <th>2</th>\n",
       "      <td>TRAIN_0002</td>\n",
       "      <td>서울특별시 강남구 대치동</td>\n",
       "      <td>503</td>\n",
       "      <td>개포우성1</td>\n",
       "      <td>127.61</td>\n",
       "      <td>201401</td>\n",
       "      <td>19</td>\n",
       "      <td>150000</td>\n",
       "      <td>5</td>\n",
       "      <td>1983</td>\n",
       "    </tr>\n",
       "    <tr>\n",
       "      <th>3</th>\n",
       "      <td>TRAIN_0003</td>\n",
       "      <td>서울특별시 강남구 대치동</td>\n",
       "      <td>503</td>\n",
       "      <td>개포우성1</td>\n",
       "      <td>127.61</td>\n",
       "      <td>201402</td>\n",
       "      <td>10</td>\n",
       "      <td>152000</td>\n",
       "      <td>9</td>\n",
       "      <td>1983</td>\n",
       "    </tr>\n",
       "    <tr>\n",
       "      <th>4</th>\n",
       "      <td>TRAIN_0004</td>\n",
       "      <td>서울특별시 강남구 대치동</td>\n",
       "      <td>503</td>\n",
       "      <td>개포우성1</td>\n",
       "      <td>84.81</td>\n",
       "      <td>201402</td>\n",
       "      <td>10</td>\n",
       "      <td>116000</td>\n",
       "      <td>3</td>\n",
       "      <td>1983</td>\n",
       "    </tr>\n",
       "  </tbody>\n",
       "</table>\n",
       "</div>"
      ],
      "text/plain": [
       "           id        sigungu jibun apt_name  exclusive_use_area  \\\n",
       "0  TRAIN_0000  서울특별시 강남구 대치동   503    개포우성1              158.54   \n",
       "1  TRAIN_0001  서울특별시 강남구 대치동   503    개포우성1              127.61   \n",
       "2  TRAIN_0002  서울특별시 강남구 대치동   503    개포우성1              127.61   \n",
       "3  TRAIN_0003  서울특별시 강남구 대치동   503    개포우성1              127.61   \n",
       "4  TRAIN_0004  서울특별시 강남구 대치동   503    개포우성1               84.81   \n",
       "\n",
       "   transaction_year_month  transaction_day  transaction_real_price  floor  \\\n",
       "0                  201401                7                  174000     13   \n",
       "1                  201401                9                  157500      6   \n",
       "2                  201401               19                  150000      5   \n",
       "3                  201402               10                  152000      9   \n",
       "4                  201402               10                  116000      3   \n",
       "\n",
       "   year_of_completion  \n",
       "0                1983  \n",
       "1                1983  \n",
       "2                1983  \n",
       "3                1983  \n",
       "4                1983  "
      ]
     },
     "execution_count": 134,
     "metadata": {},
     "output_type": "execute_result"
    }
   ],
   "source": [
    "train.head()"
   ]
  },
  {
   "cell_type": "code",
   "execution_count": 143,
   "id": "c817e95b",
   "metadata": {
    "ExecuteTime": {
     "end_time": "2023-07-29T05:24:37.277704Z",
     "start_time": "2023-07-29T05:24:37.268241Z"
    },
    "hidden": true,
    "scrolled": false
   },
   "outputs": [
    {
     "data": {
      "text/plain": [
       "서울특별시 강남구 대치동    5987\n",
       "Name: sigungu, dtype: int64"
      ]
     },
     "execution_count": 143,
     "metadata": {},
     "output_type": "execute_result"
    }
   ],
   "source": [
    "train['sigungu'].value_counts()"
   ]
  },
  {
   "cell_type": "code",
   "execution_count": 152,
   "id": "55ffb61d",
   "metadata": {
    "ExecuteTime": {
     "end_time": "2023-07-29T06:00:11.765907Z",
     "start_time": "2023-07-29T06:00:11.757484Z"
    },
    "hidden": true
   },
   "outputs": [
    {
     "data": {
      "text/plain": [
       "은마          1476\n",
       "대치삼성         392\n",
       "래미안대치팰리스     389\n",
       "대치아이파크       373\n",
       "동부센트레빌       356\n",
       "            ... \n",
       "미도맨션3차         3\n",
       "화인하이빌          3\n",
       "월드빌            2\n",
       "노빌리티빌리지        2\n",
       "해암프리존          1\n",
       "Name: apt_name, Length: 69, dtype: int64"
      ]
     },
     "execution_count": 152,
     "metadata": {},
     "output_type": "execute_result"
    }
   ],
   "source": [
    "train['apt_name'].value_counts()"
   ]
  },
  {
   "cell_type": "code",
   "execution_count": 259,
   "id": "b6d08e50",
   "metadata": {
    "ExecuteTime": {
     "end_time": "2023-07-29T11:17:03.931750Z",
     "start_time": "2023-07-29T11:17:03.895728Z"
    },
    "hidden": true,
    "scrolled": true
   },
   "outputs": [
    {
     "name": "stdout",
     "output_type": "stream",
     "text": [
      "<class 'pandas.core.frame.DataFrame'>\n",
      "RangeIndex: 5987 entries, 0 to 5986\n",
      "Data columns (total 10 columns):\n",
      " #   Column                  Non-Null Count  Dtype  \n",
      "---  ------                  --------------  -----  \n",
      " 0   id                      5987 non-null   object \n",
      " 1   sigungu                 5987 non-null   object \n",
      " 2   jibun                   5987 non-null   object \n",
      " 3   apt_name                5987 non-null   object \n",
      " 4   exclusive_use_area      5987 non-null   float64\n",
      " 5   transaction_year_month  5987 non-null   int64  \n",
      " 6   transaction_day         5987 non-null   int64  \n",
      " 7   transaction_real_price  5987 non-null   int64  \n",
      " 8   floor                   5987 non-null   int64  \n",
      " 9   year_of_completion      5987 non-null   int64  \n",
      "dtypes: float64(1), int64(5), object(4)\n",
      "memory usage: 467.9+ KB\n",
      "None\n"
     ]
    }
   ],
   "source": [
    "#Checking data types\n",
    "print(train.info())\n",
    "    #No missing value"
   ]
  },
  {
   "cell_type": "code",
   "execution_count": 136,
   "id": "9b90268e",
   "metadata": {
    "ExecuteTime": {
     "end_time": "2023-07-29T05:18:32.593532Z",
     "start_time": "2023-07-29T05:18:32.565615Z"
    },
    "hidden": true,
    "scrolled": true
   },
   "outputs": [
    {
     "data": {
      "text/html": [
       "<div>\n",
       "<style scoped>\n",
       "    .dataframe tbody tr th:only-of-type {\n",
       "        vertical-align: middle;\n",
       "    }\n",
       "\n",
       "    .dataframe tbody tr th {\n",
       "        vertical-align: top;\n",
       "    }\n",
       "\n",
       "    .dataframe thead th {\n",
       "        text-align: right;\n",
       "    }\n",
       "</style>\n",
       "<table border=\"1\" class=\"dataframe\">\n",
       "  <thead>\n",
       "    <tr style=\"text-align: right;\">\n",
       "      <th></th>\n",
       "      <th>exclusive_use_area</th>\n",
       "      <th>transaction_year_month</th>\n",
       "      <th>transaction_day</th>\n",
       "      <th>transaction_real_price</th>\n",
       "      <th>floor</th>\n",
       "      <th>year_of_completion</th>\n",
       "    </tr>\n",
       "  </thead>\n",
       "  <tbody>\n",
       "    <tr>\n",
       "      <th>count</th>\n",
       "      <td>5987.000000</td>\n",
       "      <td>5987.000000</td>\n",
       "      <td>5987.000000</td>\n",
       "      <td>5987.000000</td>\n",
       "      <td>5987.000000</td>\n",
       "      <td>5987.000000</td>\n",
       "    </tr>\n",
       "    <tr>\n",
       "      <th>mean</th>\n",
       "      <td>96.437380</td>\n",
       "      <td>201699.414398</td>\n",
       "      <td>15.902789</td>\n",
       "      <td>158144.810423</td>\n",
       "      <td>9.236178</td>\n",
       "      <td>1992.938533</td>\n",
       "    </tr>\n",
       "    <tr>\n",
       "      <th>std</th>\n",
       "      <td>31.991673</td>\n",
       "      <td>208.265846</td>\n",
       "      <td>8.750938</td>\n",
       "      <td>78877.484068</td>\n",
       "      <td>5.959184</td>\n",
       "      <td>12.418632</td>\n",
       "    </tr>\n",
       "    <tr>\n",
       "      <th>min</th>\n",
       "      <td>20.370000</td>\n",
       "      <td>201401.000000</td>\n",
       "      <td>1.000000</td>\n",
       "      <td>18000.000000</td>\n",
       "      <td>1.000000</td>\n",
       "      <td>1979.000000</td>\n",
       "    </tr>\n",
       "    <tr>\n",
       "      <th>25%</th>\n",
       "      <td>76.790000</td>\n",
       "      <td>201509.000000</td>\n",
       "      <td>8.000000</td>\n",
       "      <td>100000.000000</td>\n",
       "      <td>5.000000</td>\n",
       "      <td>1983.000000</td>\n",
       "    </tr>\n",
       "    <tr>\n",
       "      <th>50%</th>\n",
       "      <td>84.810000</td>\n",
       "      <td>201704.000000</td>\n",
       "      <td>16.000000</td>\n",
       "      <td>146000.000000</td>\n",
       "      <td>8.000000</td>\n",
       "      <td>1989.000000</td>\n",
       "    </tr>\n",
       "    <tr>\n",
       "      <th>75%</th>\n",
       "      <td>119.580000</td>\n",
       "      <td>201903.000000</td>\n",
       "      <td>23.000000</td>\n",
       "      <td>202250.000000</td>\n",
       "      <td>13.000000</td>\n",
       "      <td>2004.000000</td>\n",
       "    </tr>\n",
       "    <tr>\n",
       "      <th>max</th>\n",
       "      <td>209.790000</td>\n",
       "      <td>202212.000000</td>\n",
       "      <td>31.000000</td>\n",
       "      <td>535000.000000</td>\n",
       "      <td>35.000000</td>\n",
       "      <td>2017.000000</td>\n",
       "    </tr>\n",
       "  </tbody>\n",
       "</table>\n",
       "</div>"
      ],
      "text/plain": [
       "       exclusive_use_area  transaction_year_month  transaction_day  \\\n",
       "count         5987.000000             5987.000000      5987.000000   \n",
       "mean            96.437380           201699.414398        15.902789   \n",
       "std             31.991673              208.265846         8.750938   \n",
       "min             20.370000           201401.000000         1.000000   \n",
       "25%             76.790000           201509.000000         8.000000   \n",
       "50%             84.810000           201704.000000        16.000000   \n",
       "75%            119.580000           201903.000000        23.000000   \n",
       "max            209.790000           202212.000000        31.000000   \n",
       "\n",
       "       transaction_real_price        floor  year_of_completion  \n",
       "count             5987.000000  5987.000000         5987.000000  \n",
       "mean            158144.810423     9.236178         1992.938533  \n",
       "std              78877.484068     5.959184           12.418632  \n",
       "min              18000.000000     1.000000         1979.000000  \n",
       "25%             100000.000000     5.000000         1983.000000  \n",
       "50%             146000.000000     8.000000         1989.000000  \n",
       "75%             202250.000000    13.000000         2004.000000  \n",
       "max             535000.000000    35.000000         2017.000000  "
      ]
     },
     "execution_count": 136,
     "metadata": {},
     "output_type": "execute_result"
    }
   ],
   "source": [
    "#Descriptive statistics of numerical data\n",
    "train.describe()"
   ]
  },
  {
   "cell_type": "code",
   "execution_count": 137,
   "id": "532c9e8b",
   "metadata": {
    "ExecuteTime": {
     "end_time": "2023-07-29T05:18:32.711177Z",
     "start_time": "2023-07-29T05:18:32.705549Z"
    },
    "hidden": true,
    "scrolled": false
   },
   "outputs": [
    {
     "data": {
      "text/plain": [
       "202209      4\n",
       "202010      6\n",
       "202201      6\n",
       "202208      6\n",
       "202207      6\n",
       "         ... \n",
       "201711    141\n",
       "202006    142\n",
       "201604    145\n",
       "201707    170\n",
       "201705    183\n",
       "Name: transaction_year_month, Length: 108, dtype: int64"
      ]
     },
     "execution_count": 137,
     "metadata": {},
     "output_type": "execute_result"
    }
   ],
   "source": [
    "train['transaction_year_month'].value_counts().sort_values(ascending = True)"
   ]
  },
  {
   "cell_type": "code",
   "execution_count": 138,
   "id": "24426c37",
   "metadata": {
    "ExecuteTime": {
     "end_time": "2023-07-29T05:18:32.855289Z",
     "start_time": "2023-07-29T05:18:32.852253Z"
    },
    "hidden": true
   },
   "outputs": [
    {
     "data": {
      "text/plain": [
       "(5987, 10)"
      ]
     },
     "execution_count": 138,
     "metadata": {},
     "output_type": "execute_result"
    }
   ],
   "source": [
    "train.shape"
   ]
  },
  {
   "cell_type": "code",
   "execution_count": 139,
   "id": "5fe14324",
   "metadata": {
    "ExecuteTime": {
     "end_time": "2023-07-29T05:18:33.410276Z",
     "start_time": "2023-07-29T05:18:33.404015Z"
    },
    "hidden": true
   },
   "outputs": [
    {
     "data": {
      "text/plain": [
       "(196, 9)"
      ]
     },
     "execution_count": 139,
     "metadata": {},
     "output_type": "execute_result"
    }
   ],
   "source": [
    "test.shape #transaction_real_price 가 제외"
   ]
  },
  {
   "cell_type": "markdown",
   "id": "753de8a0",
   "metadata": {
    "heading_collapsed": true
   },
   "source": [
    "## Test data & Submission data 확인"
   ]
  },
  {
   "cell_type": "code",
   "execution_count": 290,
   "id": "9ff3405e",
   "metadata": {
    "ExecuteTime": {
     "end_time": "2023-07-29T12:12:34.812989Z",
     "start_time": "2023-07-29T12:12:34.779306Z"
    },
    "hidden": true,
    "scrolled": false
   },
   "outputs": [
    {
     "data": {
      "text/html": [
       "<div>\n",
       "<style scoped>\n",
       "    .dataframe tbody tr th:only-of-type {\n",
       "        vertical-align: middle;\n",
       "    }\n",
       "\n",
       "    .dataframe tbody tr th {\n",
       "        vertical-align: top;\n",
       "    }\n",
       "\n",
       "    .dataframe thead th {\n",
       "        text-align: right;\n",
       "    }\n",
       "</style>\n",
       "<table border=\"1\" class=\"dataframe\">\n",
       "  <thead>\n",
       "    <tr style=\"text-align: right;\">\n",
       "      <th></th>\n",
       "      <th>id</th>\n",
       "      <th>sigungu</th>\n",
       "      <th>jibun</th>\n",
       "      <th>apt_name</th>\n",
       "      <th>exclusive_use_area</th>\n",
       "      <th>transaction_year_month</th>\n",
       "      <th>transaction_day</th>\n",
       "      <th>floor</th>\n",
       "      <th>year_of_completion</th>\n",
       "    </tr>\n",
       "  </thead>\n",
       "  <tbody>\n",
       "    <tr>\n",
       "      <th>0</th>\n",
       "      <td>TEST_0000</td>\n",
       "      <td>서울특별시 강남구 대치동</td>\n",
       "      <td>977</td>\n",
       "      <td>대치르엘</td>\n",
       "      <td>77.97</td>\n",
       "      <td>111</td>\n",
       "      <td>10</td>\n",
       "      <td>2</td>\n",
       "      <td>42</td>\n",
       "    </tr>\n",
       "    <tr>\n",
       "      <th>1</th>\n",
       "      <td>TEST_0001</td>\n",
       "      <td>서울특별시 강남구 대치동</td>\n",
       "      <td>977</td>\n",
       "      <td>대치르엘</td>\n",
       "      <td>59.99</td>\n",
       "      <td>111</td>\n",
       "      <td>10</td>\n",
       "      <td>2</td>\n",
       "      <td>42</td>\n",
       "    </tr>\n",
       "    <tr>\n",
       "      <th>2</th>\n",
       "      <td>TEST_0002</td>\n",
       "      <td>서울특별시 강남구 대치동</td>\n",
       "      <td>503</td>\n",
       "      <td>개포우성1</td>\n",
       "      <td>84.81</td>\n",
       "      <td>108</td>\n",
       "      <td>13</td>\n",
       "      <td>3</td>\n",
       "      <td>4</td>\n",
       "    </tr>\n",
       "    <tr>\n",
       "      <th>3</th>\n",
       "      <td>TEST_0003</td>\n",
       "      <td>서울특별시 강남구 대치동</td>\n",
       "      <td>503</td>\n",
       "      <td>개포우성1</td>\n",
       "      <td>84.81</td>\n",
       "      <td>108</td>\n",
       "      <td>19</td>\n",
       "      <td>9</td>\n",
       "      <td>4</td>\n",
       "    </tr>\n",
       "    <tr>\n",
       "      <th>4</th>\n",
       "      <td>TEST_0004</td>\n",
       "      <td>서울특별시 강남구 대치동</td>\n",
       "      <td>503</td>\n",
       "      <td>개포우성1</td>\n",
       "      <td>84.81</td>\n",
       "      <td>109</td>\n",
       "      <td>15</td>\n",
       "      <td>5</td>\n",
       "      <td>4</td>\n",
       "    </tr>\n",
       "    <tr>\n",
       "      <th>5</th>\n",
       "      <td>TEST_0005</td>\n",
       "      <td>서울특별시 강남구 대치동</td>\n",
       "      <td>503</td>\n",
       "      <td>개포우성1</td>\n",
       "      <td>158.54</td>\n",
       "      <td>110</td>\n",
       "      <td>17</td>\n",
       "      <td>2</td>\n",
       "      <td>4</td>\n",
       "    </tr>\n",
       "    <tr>\n",
       "      <th>6</th>\n",
       "      <td>TEST_0006</td>\n",
       "      <td>서울특별시 강남구 대치동</td>\n",
       "      <td>503</td>\n",
       "      <td>개포우성1</td>\n",
       "      <td>84.81</td>\n",
       "      <td>111</td>\n",
       "      <td>7</td>\n",
       "      <td>5</td>\n",
       "      <td>4</td>\n",
       "    </tr>\n",
       "    <tr>\n",
       "      <th>7</th>\n",
       "      <td>TEST_0007</td>\n",
       "      <td>서울특별시 강남구 대치동</td>\n",
       "      <td>503</td>\n",
       "      <td>개포우성1</td>\n",
       "      <td>127.61</td>\n",
       "      <td>112</td>\n",
       "      <td>24</td>\n",
       "      <td>9</td>\n",
       "      <td>4</td>\n",
       "    </tr>\n",
       "    <tr>\n",
       "      <th>8</th>\n",
       "      <td>TEST_0008</td>\n",
       "      <td>서울특별시 강남구 대치동</td>\n",
       "      <td>503</td>\n",
       "      <td>개포우성1</td>\n",
       "      <td>158.54</td>\n",
       "      <td>113</td>\n",
       "      <td>2</td>\n",
       "      <td>3</td>\n",
       "      <td>4</td>\n",
       "    </tr>\n",
       "    <tr>\n",
       "      <th>9</th>\n",
       "      <td>TEST_0009</td>\n",
       "      <td>서울특별시 강남구 대치동</td>\n",
       "      <td>500</td>\n",
       "      <td>개포우성2</td>\n",
       "      <td>84.69</td>\n",
       "      <td>109</td>\n",
       "      <td>11</td>\n",
       "      <td>8</td>\n",
       "      <td>5</td>\n",
       "    </tr>\n",
       "  </tbody>\n",
       "</table>\n",
       "</div>"
      ],
      "text/plain": [
       "          id        sigungu jibun apt_name  exclusive_use_area  \\\n",
       "0  TEST_0000  서울특별시 강남구 대치동   977     대치르엘               77.97   \n",
       "1  TEST_0001  서울특별시 강남구 대치동   977     대치르엘               59.99   \n",
       "2  TEST_0002  서울특별시 강남구 대치동   503    개포우성1               84.81   \n",
       "3  TEST_0003  서울특별시 강남구 대치동   503    개포우성1               84.81   \n",
       "4  TEST_0004  서울특별시 강남구 대치동   503    개포우성1               84.81   \n",
       "5  TEST_0005  서울특별시 강남구 대치동   503    개포우성1              158.54   \n",
       "6  TEST_0006  서울특별시 강남구 대치동   503    개포우성1               84.81   \n",
       "7  TEST_0007  서울특별시 강남구 대치동   503    개포우성1              127.61   \n",
       "8  TEST_0008  서울특별시 강남구 대치동   503    개포우성1              158.54   \n",
       "9  TEST_0009  서울특별시 강남구 대치동   500    개포우성2               84.69   \n",
       "\n",
       "   transaction_year_month  transaction_day  floor  year_of_completion  \n",
       "0                     111               10      2                  42  \n",
       "1                     111               10      2                  42  \n",
       "2                     108               13      3                   4  \n",
       "3                     108               19      9                   4  \n",
       "4                     109               15      5                   4  \n",
       "5                     110               17      2                   4  \n",
       "6                     111                7      5                   4  \n",
       "7                     112               24      9                   4  \n",
       "8                     113                2      3                   4  \n",
       "9                     109               11      8                   5  "
      ]
     },
     "execution_count": 290,
     "metadata": {},
     "output_type": "execute_result"
    }
   ],
   "source": [
    "test.head(10\n",
    "        )"
   ]
  },
  {
   "cell_type": "code",
   "execution_count": 168,
   "id": "dbc4ef9d",
   "metadata": {
    "ExecuteTime": {
     "end_time": "2023-07-29T06:26:24.543465Z",
     "start_time": "2023-07-29T06:26:24.512102Z"
    },
    "hidden": true
   },
   "outputs": [
    {
     "data": {
      "text/html": [
       "<div>\n",
       "<style scoped>\n",
       "    .dataframe tbody tr th:only-of-type {\n",
       "        vertical-align: middle;\n",
       "    }\n",
       "\n",
       "    .dataframe tbody tr th {\n",
       "        vertical-align: top;\n",
       "    }\n",
       "\n",
       "    .dataframe thead th {\n",
       "        text-align: right;\n",
       "    }\n",
       "</style>\n",
       "<table border=\"1\" class=\"dataframe\">\n",
       "  <thead>\n",
       "    <tr style=\"text-align: right;\">\n",
       "      <th></th>\n",
       "      <th>exclusive_use_area</th>\n",
       "      <th>transaction_year_month</th>\n",
       "      <th>transaction_day</th>\n",
       "      <th>floor</th>\n",
       "      <th>year_of_completion</th>\n",
       "    </tr>\n",
       "  </thead>\n",
       "  <tbody>\n",
       "    <tr>\n",
       "      <th>count</th>\n",
       "      <td>196.000000</td>\n",
       "      <td>196.000000</td>\n",
       "      <td>196.000000</td>\n",
       "      <td>196.000000</td>\n",
       "      <td>196.000000</td>\n",
       "    </tr>\n",
       "    <tr>\n",
       "      <th>mean</th>\n",
       "      <td>94.254751</td>\n",
       "      <td>202304.010204</td>\n",
       "      <td>15.750000</td>\n",
       "      <td>8.785714</td>\n",
       "      <td>1989.423469</td>\n",
       "    </tr>\n",
       "    <tr>\n",
       "      <th>std</th>\n",
       "      <td>30.808380</td>\n",
       "      <td>1.594831</td>\n",
       "      <td>8.427899</td>\n",
       "      <td>6.287554</td>\n",
       "      <td>12.367420</td>\n",
       "    </tr>\n",
       "    <tr>\n",
       "      <th>min</th>\n",
       "      <td>28.340000</td>\n",
       "      <td>202301.000000</td>\n",
       "      <td>1.000000</td>\n",
       "      <td>1.000000</td>\n",
       "      <td>1979.000000</td>\n",
       "    </tr>\n",
       "    <tr>\n",
       "      <th>25%</th>\n",
       "      <td>76.790000</td>\n",
       "      <td>202303.000000</td>\n",
       "      <td>9.000000</td>\n",
       "      <td>4.000000</td>\n",
       "      <td>1979.000000</td>\n",
       "    </tr>\n",
       "    <tr>\n",
       "      <th>50%</th>\n",
       "      <td>84.480000</td>\n",
       "      <td>202304.000000</td>\n",
       "      <td>16.000000</td>\n",
       "      <td>8.000000</td>\n",
       "      <td>1983.000000</td>\n",
       "    </tr>\n",
       "    <tr>\n",
       "      <th>75%</th>\n",
       "      <td>116.587500</td>\n",
       "      <td>202305.000000</td>\n",
       "      <td>22.250000</td>\n",
       "      <td>12.000000</td>\n",
       "      <td>2000.000000</td>\n",
       "    </tr>\n",
       "    <tr>\n",
       "      <th>max</th>\n",
       "      <td>190.470000</td>\n",
       "      <td>202306.000000</td>\n",
       "      <td>31.000000</td>\n",
       "      <td>28.000000</td>\n",
       "      <td>2021.000000</td>\n",
       "    </tr>\n",
       "  </tbody>\n",
       "</table>\n",
       "</div>"
      ],
      "text/plain": [
       "       exclusive_use_area  transaction_year_month  transaction_day  \\\n",
       "count          196.000000              196.000000       196.000000   \n",
       "mean            94.254751           202304.010204        15.750000   \n",
       "std             30.808380                1.594831         8.427899   \n",
       "min             28.340000           202301.000000         1.000000   \n",
       "25%             76.790000           202303.000000         9.000000   \n",
       "50%             84.480000           202304.000000        16.000000   \n",
       "75%            116.587500           202305.000000        22.250000   \n",
       "max            190.470000           202306.000000        31.000000   \n",
       "\n",
       "            floor  year_of_completion  \n",
       "count  196.000000          196.000000  \n",
       "mean     8.785714         1989.423469  \n",
       "std      6.287554           12.367420  \n",
       "min      1.000000         1979.000000  \n",
       "25%      4.000000         1979.000000  \n",
       "50%      8.000000         1983.000000  \n",
       "75%     12.000000         2000.000000  \n",
       "max     28.000000         2021.000000  "
      ]
     },
     "execution_count": 168,
     "metadata": {},
     "output_type": "execute_result"
    }
   ],
   "source": [
    "test.describe()"
   ]
  },
  {
   "cell_type": "code",
   "execution_count": 148,
   "id": "cc515f33",
   "metadata": {
    "ExecuteTime": {
     "end_time": "2023-07-29T05:59:47.961828Z",
     "start_time": "2023-07-29T05:59:47.949546Z"
    },
    "hidden": true
   },
   "outputs": [
    {
     "data": {
      "text/plain": [
       "은마                          70\n",
       "한보미도맨션2                     16\n",
       "한보미도맨션1                     16\n",
       "대치삼성                        12\n",
       "대치아이파크                       9\n",
       "래미안대치팰리스                     9\n",
       "동부센트레빌                       7\n",
       "개포우성1                        7\n",
       "테헤란로대우아이빌(891-6)             6\n",
       "개포우성2                        5\n",
       "쌍용대치2                        5\n",
       "대우아이빌멤버스(891-26)             4\n",
       "쌍용대치아파트1동,2동,3동,5동,6동        4\n",
       "대치현대                         4\n",
       "선경2차(8동-12동)                 3\n",
       "포스코더샵                        3\n",
       "대치SKVIEW                     3\n",
       "선경1차(1동-7동)                  2\n",
       "대치우성아파트1동,2동,3동,5동,6동,7동     2\n",
       "대우아이빌명문가(891-23)             2\n",
       "(977-)                       2\n",
       "풍림아이원2차202동                  1\n",
       "래미안대치하이스턴                    1\n",
       "선릉역대우아이빌(890-49)             1\n",
       "대치효성                         1\n",
       "현대1                          1\n",
       "Name: apt_name, dtype: int64"
      ]
     },
     "execution_count": 148,
     "metadata": {},
     "output_type": "execute_result"
    }
   ],
   "source": [
    "test['apt_name'].value_counts()"
   ]
  },
  {
   "cell_type": "code",
   "execution_count": 162,
   "id": "c36223da",
   "metadata": {
    "ExecuteTime": {
     "end_time": "2023-07-29T06:20:07.841826Z",
     "start_time": "2023-07-29T06:20:07.824305Z"
    },
    "hidden": true
   },
   "outputs": [
    {
     "data": {
      "text/plain": [
       "서울특별시 강남구 대치동    196\n",
       "Name: sigungu, dtype: int64"
      ]
     },
     "execution_count": 162,
     "metadata": {},
     "output_type": "execute_result"
    }
   ],
   "source": [
    "test['sigungu'].value_counts()"
   ]
  },
  {
   "cell_type": "code",
   "execution_count": 163,
   "id": "858cdca1",
   "metadata": {
    "ExecuteTime": {
     "end_time": "2023-07-29T06:20:08.371541Z",
     "start_time": "2023-07-29T06:20:08.360426Z"
    },
    "hidden": true,
    "scrolled": false
   },
   "outputs": [
    {
     "data": {
      "text/plain": [
       "202305    45\n",
       "202306    44\n",
       "202304    34\n",
       "202302    30\n",
       "202303    29\n",
       "202301    14\n",
       "Name: transaction_year_month, dtype: int64"
      ]
     },
     "execution_count": 163,
     "metadata": {},
     "output_type": "execute_result"
    }
   ],
   "source": [
    "test['transaction_year_month'].value_counts()"
   ]
  },
  {
   "cell_type": "markdown",
   "id": "23e15aa7",
   "metadata": {
    "hidden": true
   },
   "source": [
    "test data 에서는 202301~202306의 데이터가 존재"
   ]
  },
  {
   "cell_type": "code",
   "execution_count": 164,
   "id": "410c4fe3",
   "metadata": {
    "ExecuteTime": {
     "end_time": "2023-07-29T06:20:09.782690Z",
     "start_time": "2023-07-29T06:20:09.770919Z"
    },
    "hidden": true
   },
   "outputs": [
    {
     "data": {
      "text/html": [
       "<div>\n",
       "<style scoped>\n",
       "    .dataframe tbody tr th:only-of-type {\n",
       "        vertical-align: middle;\n",
       "    }\n",
       "\n",
       "    .dataframe tbody tr th {\n",
       "        vertical-align: top;\n",
       "    }\n",
       "\n",
       "    .dataframe thead th {\n",
       "        text-align: right;\n",
       "    }\n",
       "</style>\n",
       "<table border=\"1\" class=\"dataframe\">\n",
       "  <thead>\n",
       "    <tr style=\"text-align: right;\">\n",
       "      <th></th>\n",
       "      <th>id</th>\n",
       "      <th>transaction_real_price</th>\n",
       "    </tr>\n",
       "  </thead>\n",
       "  <tbody>\n",
       "    <tr>\n",
       "      <th>0</th>\n",
       "      <td>TEST_0000</td>\n",
       "      <td>0</td>\n",
       "    </tr>\n",
       "    <tr>\n",
       "      <th>1</th>\n",
       "      <td>TEST_0001</td>\n",
       "      <td>0</td>\n",
       "    </tr>\n",
       "    <tr>\n",
       "      <th>2</th>\n",
       "      <td>TEST_0002</td>\n",
       "      <td>0</td>\n",
       "    </tr>\n",
       "    <tr>\n",
       "      <th>3</th>\n",
       "      <td>TEST_0003</td>\n",
       "      <td>0</td>\n",
       "    </tr>\n",
       "    <tr>\n",
       "      <th>4</th>\n",
       "      <td>TEST_0004</td>\n",
       "      <td>0</td>\n",
       "    </tr>\n",
       "    <tr>\n",
       "      <th>5</th>\n",
       "      <td>TEST_0005</td>\n",
       "      <td>0</td>\n",
       "    </tr>\n",
       "    <tr>\n",
       "      <th>6</th>\n",
       "      <td>TEST_0006</td>\n",
       "      <td>0</td>\n",
       "    </tr>\n",
       "    <tr>\n",
       "      <th>7</th>\n",
       "      <td>TEST_0007</td>\n",
       "      <td>0</td>\n",
       "    </tr>\n",
       "    <tr>\n",
       "      <th>8</th>\n",
       "      <td>TEST_0008</td>\n",
       "      <td>0</td>\n",
       "    </tr>\n",
       "    <tr>\n",
       "      <th>9</th>\n",
       "      <td>TEST_0009</td>\n",
       "      <td>0</td>\n",
       "    </tr>\n",
       "  </tbody>\n",
       "</table>\n",
       "</div>"
      ],
      "text/plain": [
       "          id  transaction_real_price\n",
       "0  TEST_0000                       0\n",
       "1  TEST_0001                       0\n",
       "2  TEST_0002                       0\n",
       "3  TEST_0003                       0\n",
       "4  TEST_0004                       0\n",
       "5  TEST_0005                       0\n",
       "6  TEST_0006                       0\n",
       "7  TEST_0007                       0\n",
       "8  TEST_0008                       0\n",
       "9  TEST_0009                       0"
      ]
     },
     "execution_count": 164,
     "metadata": {},
     "output_type": "execute_result"
    }
   ],
   "source": [
    "#submission 데이터 확인\n",
    "submission.head(10)"
   ]
  },
  {
   "cell_type": "markdown",
   "id": "5c7b7678",
   "metadata": {},
   "source": [
    "# 데이터 전처리 및 EDA"
   ]
  },
  {
   "cell_type": "markdown",
   "id": "b983bf64",
   "metadata": {
    "heading_collapsed": true
   },
   "source": [
    "## 날짜 데이터 전처리"
   ]
  },
  {
   "cell_type": "markdown",
   "id": "0071385e",
   "metadata": {
    "hidden": true
   },
   "source": [
    "날짜 관련 컬럼은 year_of_completion, transaction_year_month, transaction_date가 있다. 이들은 범주형 데이터이기 때문에 분석을 위해 거래날짜 데이터를 제거 하고 거래연월 변수에 라벨인코딩을 적용할 것이다. "
   ]
  },
  {
   "cell_type": "code",
   "execution_count": 296,
   "id": "1648f94f",
   "metadata": {
    "ExecuteTime": {
     "end_time": "2023-07-29T12:17:44.225862Z",
     "start_time": "2023-07-29T12:17:44.203538Z"
    },
    "hidden": true
   },
   "outputs": [
    {
     "data": {
      "text/html": [
       "<div>\n",
       "<style scoped>\n",
       "    .dataframe tbody tr th:only-of-type {\n",
       "        vertical-align: middle;\n",
       "    }\n",
       "\n",
       "    .dataframe tbody tr th {\n",
       "        vertical-align: top;\n",
       "    }\n",
       "\n",
       "    .dataframe thead th {\n",
       "        text-align: right;\n",
       "    }\n",
       "</style>\n",
       "<table border=\"1\" class=\"dataframe\">\n",
       "  <thead>\n",
       "    <tr style=\"text-align: right;\">\n",
       "      <th></th>\n",
       "      <th>id</th>\n",
       "      <th>sigungu</th>\n",
       "      <th>jibun</th>\n",
       "      <th>apt_name</th>\n",
       "      <th>exclusive_use_area</th>\n",
       "      <th>transaction_year_month</th>\n",
       "      <th>transaction_real_price</th>\n",
       "      <th>floor</th>\n",
       "      <th>year_of_completion</th>\n",
       "    </tr>\n",
       "  </thead>\n",
       "  <tbody>\n",
       "    <tr>\n",
       "      <th>0</th>\n",
       "      <td>TRAIN_0000</td>\n",
       "      <td>서울특별시 강남구 대치동</td>\n",
       "      <td>503</td>\n",
       "      <td>개포우성1</td>\n",
       "      <td>158.54</td>\n",
       "      <td>201401</td>\n",
       "      <td>174000</td>\n",
       "      <td>13</td>\n",
       "      <td>1983</td>\n",
       "    </tr>\n",
       "    <tr>\n",
       "      <th>1</th>\n",
       "      <td>TRAIN_0001</td>\n",
       "      <td>서울특별시 강남구 대치동</td>\n",
       "      <td>503</td>\n",
       "      <td>개포우성1</td>\n",
       "      <td>127.61</td>\n",
       "      <td>201401</td>\n",
       "      <td>157500</td>\n",
       "      <td>6</td>\n",
       "      <td>1983</td>\n",
       "    </tr>\n",
       "    <tr>\n",
       "      <th>2</th>\n",
       "      <td>TRAIN_0002</td>\n",
       "      <td>서울특별시 강남구 대치동</td>\n",
       "      <td>503</td>\n",
       "      <td>개포우성1</td>\n",
       "      <td>127.61</td>\n",
       "      <td>201401</td>\n",
       "      <td>150000</td>\n",
       "      <td>5</td>\n",
       "      <td>1983</td>\n",
       "    </tr>\n",
       "    <tr>\n",
       "      <th>3</th>\n",
       "      <td>TRAIN_0003</td>\n",
       "      <td>서울특별시 강남구 대치동</td>\n",
       "      <td>503</td>\n",
       "      <td>개포우성1</td>\n",
       "      <td>127.61</td>\n",
       "      <td>201402</td>\n",
       "      <td>152000</td>\n",
       "      <td>9</td>\n",
       "      <td>1983</td>\n",
       "    </tr>\n",
       "    <tr>\n",
       "      <th>4</th>\n",
       "      <td>TRAIN_0004</td>\n",
       "      <td>서울특별시 강남구 대치동</td>\n",
       "      <td>503</td>\n",
       "      <td>개포우성1</td>\n",
       "      <td>84.81</td>\n",
       "      <td>201402</td>\n",
       "      <td>116000</td>\n",
       "      <td>3</td>\n",
       "      <td>1983</td>\n",
       "    </tr>\n",
       "  </tbody>\n",
       "</table>\n",
       "</div>"
      ],
      "text/plain": [
       "           id        sigungu jibun apt_name  exclusive_use_area  \\\n",
       "0  TRAIN_0000  서울특별시 강남구 대치동   503    개포우성1              158.54   \n",
       "1  TRAIN_0001  서울특별시 강남구 대치동   503    개포우성1              127.61   \n",
       "2  TRAIN_0002  서울특별시 강남구 대치동   503    개포우성1              127.61   \n",
       "3  TRAIN_0003  서울특별시 강남구 대치동   503    개포우성1              127.61   \n",
       "4  TRAIN_0004  서울특별시 강남구 대치동   503    개포우성1               84.81   \n",
       "\n",
       "   transaction_year_month  transaction_real_price  floor  year_of_completion  \n",
       "0                  201401                  174000     13                1983  \n",
       "1                  201401                  157500      6                1983  \n",
       "2                  201401                  150000      5                1983  \n",
       "3                  201402                  152000      9                1983  \n",
       "4                  201402                  116000      3                1983  "
      ]
     },
     "execution_count": 296,
     "metadata": {},
     "output_type": "execute_result"
    }
   ],
   "source": [
    "#transaction_day가 거래가에 유의미한 영향을 주지 않을 것으로 판단하고 제거\n",
    "train.drop(['transaction_day'],axis=1, inplace=True)\n",
    "train.head()"
   ]
  },
  {
   "cell_type": "code",
   "execution_count": 297,
   "id": "d038d215",
   "metadata": {
    "ExecuteTime": {
     "end_time": "2023-07-29T12:17:44.680236Z",
     "start_time": "2023-07-29T12:17:44.649874Z"
    },
    "hidden": true,
    "scrolled": true
   },
   "outputs": [
    {
     "name": "stdout",
     "output_type": "stream",
     "text": [
      "train data 기술통계량\n",
      "       year_of_completion  transaction_year_month\n",
      "count         5987.000000             5987.000000\n",
      "mean          1992.938533           201699.414398\n",
      "std             12.418632              208.265846\n",
      "min           1979.000000           201401.000000\n",
      "25%           1983.000000           201509.000000\n",
      "50%           1989.000000           201704.000000\n",
      "75%           2004.000000           201903.000000\n",
      "max           2017.000000           202212.000000\n",
      "------------------------------------------------------------------------------------------\n",
      "test data 기b술통계량\n",
      "       year_of_completion  transaction_year_month\n",
      "count          196.000000              196.000000\n",
      "mean          1989.423469           202304.010204\n",
      "std             12.367420                1.594831\n",
      "min           1979.000000           202301.000000\n",
      "25%           1979.000000           202303.000000\n",
      "50%           1983.000000           202304.000000\n",
      "75%           2000.000000           202305.000000\n",
      "max           2021.000000           202306.000000\n"
     ]
    }
   ],
   "source": [
    "print('train data 기술통계량')\n",
    "print(train[['year_of_completion','transaction_year_month']].describe())\n",
    "print('-'*90)\n",
    "print('test data 기b술통계량')\n",
    "print(test[['year_of_completion','transaction_year_month']].describe())\n"
   ]
  },
  {
   "cell_type": "markdown",
   "id": "27fb157c",
   "metadata": {
    "hidden": true
   },
   "source": [
    "[train data]\n",
    "- year_of_completion\n",
    "\n",
    "최대값은 2017년이며 최솟값은 1979년이다. \n",
    "\n",
    "- transaction_year_month\n",
    "\n",
    "최대값은 2022년 12월이며 최솟값은 2014년 1월이다. \n",
    "\n",
    "-------------\n",
    "[test data]\n",
    "- year_of_completion\n",
    "\n",
    "최대값은 2021년이며 최솟값은 1979년이다. \n",
    "\n",
    "- transaction_year_month\n",
    "\n",
    "최대값은 2023년 6월이며 최솟값은 2023년 1월이다. \n"
   ]
  },
  {
   "cell_type": "markdown",
   "id": "a1465072",
   "metadata": {
    "hidden": true
   },
   "source": [
    "최대년도에서 최소년도를 뺌으로써 정수형 라벨인코딩을 완성한다. test data의 경우 완공년도는 train data와 동일하기 때문에 인코딩에서 문제가 발생하진 않지만 거래연월에서 문제가 발생한다. "
   ]
  },
  {
   "cell_type": "code",
   "execution_count": 474,
   "id": "e15507bf",
   "metadata": {
    "ExecuteTime": {
     "end_time": "2023-07-29T18:13:22.108644Z",
     "start_time": "2023-07-29T18:13:22.078591Z"
    },
    "hidden": true
   },
   "outputs": [
    {
     "name": "stdout",
     "output_type": "stream",
     "text": [
      "변환전\n",
      " [1983 1984 2003 2004 2000]\n",
      "변환후\n",
      " [ 4  5 24 25 21]\n",
      "train 변환전\n",
      " [201401 201402 201403 201405 201406]\n",
      "test 변환전\n",
      " [202304 202301 202302 202303 202305]\n",
      "train 변환후\n",
      " [0 1 2 4 5]\n",
      "test 변환후\n",
      " [111 108 109 110 112]\n"
     ]
    }
   ],
   "source": [
    "from sklearn.preprocessing import LabelEncoder\n",
    "\n",
    "# train set과 test set을 합쳐서 \"year_of_completion\" set의 최대값과 최소값 구하기\n",
    "combined_yc = pd.concat([train['year_of_completion'], test['year_of_completion']])\n",
    "combined_yc_max = combined_yc.max()\n",
    "combined_yc_min = combined_yc.min()\n",
    "\n",
    "# train set과 test set을 합쳐서 \"transaction_year_month\" set의 최대값과 최소값 구하기\n",
    "combined_tym = pd.concat([train['transaction_year_month'], test['transaction_year_month']])\n",
    "combined_tym_max = combined_tym.max()\n",
    "combined_tym_min = combined_tym.min()\n",
    "\n",
    "# train set에서 \"year_of_completion\" set에서 최소값 빼기\n",
    "print('변환전\\n', train['year_of_completion'].unique()[:5])\n",
    "train['year_of_completion'] = train['year_of_completion'] - combined_yc_min\n",
    "test['year_of_completion'] = test['year_of_completion'] - combined_yc_min\n",
    "print('변환후\\n', train['year_of_completion'].unique()[:5])\n",
    "\n",
    "# train set과 test set에서 \"transaction_year_month\" 라벨 인코딩\n",
    "print('train 변환전\\n', train['transaction_year_month'].unique()[:5])\n",
    "print('test 변환전\\n', test['transaction_year_month'].unique()[:5])\n",
    "\n",
    "le = LabelEncoder()\n",
    "le.fit(combined_tym)\n",
    "train['transaction_year_month'] = le.transform(train['transaction_year_month'])\n",
    "test['transaction_year_month'] = le.transform(test['transaction_year_month'])\n",
    "\n",
    "print('train 변환후\\n', train['transaction_year_month'].unique()[:5])\n",
    "print('test 변환후\\n', test['transaction_year_month'].unique()[:5])\n",
    "\n"
   ]
  },
  {
   "cell_type": "code",
   "execution_count": 475,
   "id": "d8dec487",
   "metadata": {
    "ExecuteTime": {
     "end_time": "2023-07-29T18:13:26.259496Z",
     "start_time": "2023-07-29T18:13:26.243278Z"
    },
    "hidden": true
   },
   "outputs": [
    {
     "data": {
      "text/html": [
       "<div>\n",
       "<style scoped>\n",
       "    .dataframe tbody tr th:only-of-type {\n",
       "        vertical-align: middle;\n",
       "    }\n",
       "\n",
       "    .dataframe tbody tr th {\n",
       "        vertical-align: top;\n",
       "    }\n",
       "\n",
       "    .dataframe thead th {\n",
       "        text-align: right;\n",
       "    }\n",
       "</style>\n",
       "<table border=\"1\" class=\"dataframe\">\n",
       "  <thead>\n",
       "    <tr style=\"text-align: right;\">\n",
       "      <th></th>\n",
       "      <th>id</th>\n",
       "      <th>sigungu</th>\n",
       "      <th>transaction_year_month</th>\n",
       "      <th>floor</th>\n",
       "      <th>year_of_completion</th>\n",
       "      <th>log_price</th>\n",
       "      <th>log_area</th>\n",
       "    </tr>\n",
       "  </thead>\n",
       "  <tbody>\n",
       "    <tr>\n",
       "      <th>0</th>\n",
       "      <td>TRAIN_0000</td>\n",
       "      <td>서울특별시 강남구 대치동</td>\n",
       "      <td>0</td>\n",
       "      <td>13</td>\n",
       "      <td>4</td>\n",
       "      <td>12.066816</td>\n",
       "      <td>5.072295</td>\n",
       "    </tr>\n",
       "    <tr>\n",
       "      <th>1</th>\n",
       "      <td>TRAIN_0001</td>\n",
       "      <td>서울특별시 강남구 대치동</td>\n",
       "      <td>0</td>\n",
       "      <td>6</td>\n",
       "      <td>4</td>\n",
       "      <td>11.967187</td>\n",
       "      <td>4.856785</td>\n",
       "    </tr>\n",
       "    <tr>\n",
       "      <th>2</th>\n",
       "      <td>TRAIN_0002</td>\n",
       "      <td>서울특별시 강남구 대치동</td>\n",
       "      <td>0</td>\n",
       "      <td>5</td>\n",
       "      <td>4</td>\n",
       "      <td>11.918397</td>\n",
       "      <td>4.856785</td>\n",
       "    </tr>\n",
       "    <tr>\n",
       "      <th>3</th>\n",
       "      <td>TRAIN_0003</td>\n",
       "      <td>서울특별시 강남구 대치동</td>\n",
       "      <td>1</td>\n",
       "      <td>9</td>\n",
       "      <td>4</td>\n",
       "      <td>11.931642</td>\n",
       "      <td>4.856785</td>\n",
       "    </tr>\n",
       "    <tr>\n",
       "      <th>4</th>\n",
       "      <td>TRAIN_0004</td>\n",
       "      <td>서울특별시 강남구 대치동</td>\n",
       "      <td>1</td>\n",
       "      <td>3</td>\n",
       "      <td>4</td>\n",
       "      <td>11.661354</td>\n",
       "      <td>4.452136</td>\n",
       "    </tr>\n",
       "  </tbody>\n",
       "</table>\n",
       "</div>"
      ],
      "text/plain": [
       "           id        sigungu  transaction_year_month  floor  \\\n",
       "0  TRAIN_0000  서울특별시 강남구 대치동                       0     13   \n",
       "1  TRAIN_0001  서울특별시 강남구 대치동                       0      6   \n",
       "2  TRAIN_0002  서울특별시 강남구 대치동                       0      5   \n",
       "3  TRAIN_0003  서울특별시 강남구 대치동                       1      9   \n",
       "4  TRAIN_0004  서울특별시 강남구 대치동                       1      3   \n",
       "\n",
       "   year_of_completion  log_price  log_area  \n",
       "0                   4  12.066816  5.072295  \n",
       "1                   4  11.967187  4.856785  \n",
       "2                   4  11.918397  4.856785  \n",
       "3                   4  11.931642  4.856785  \n",
       "4                   4  11.661354  4.452136  "
      ]
     },
     "execution_count": 475,
     "metadata": {},
     "output_type": "execute_result"
    }
   ],
   "source": [
    "train.head()"
   ]
  },
  {
   "cell_type": "code",
   "execution_count": 476,
   "id": "95b89105",
   "metadata": {
    "ExecuteTime": {
     "end_time": "2023-07-29T18:13:32.504326Z",
     "start_time": "2023-07-29T18:13:32.475467Z"
    },
    "hidden": true,
    "scrolled": true
   },
   "outputs": [
    {
     "name": "stdout",
     "output_type": "stream",
     "text": [
      "train\n",
      "       transaction_year_month  year_of_completion\n",
      "count             5987.000000         5987.000000\n",
      "mean                40.661266           13.938533\n",
      "std                 25.281697           12.418632\n",
      "min                  0.000000            0.000000\n",
      "25%                 20.000000            4.000000\n",
      "50%                 39.000000           10.000000\n",
      "75%                 62.000000           25.000000\n",
      "max                107.000000           38.000000\n",
      "------------------------------------------------------------------------------------------\n",
      "test\n",
      "       transaction_year_month  year_of_completion\n",
      "count              196.000000          196.000000\n",
      "mean               111.010204           10.423469\n",
      "std                  1.594831           12.367420\n",
      "min                108.000000            0.000000\n",
      "25%                110.000000            0.000000\n",
      "50%                111.000000            4.000000\n",
      "75%                112.000000           21.000000\n",
      "max                113.000000           42.000000\n"
     ]
    }
   ],
   "source": [
    "print('train')\n",
    "print(train[['transaction_year_month', 'year_of_completion']].describe())\n",
    "print('-'*90)\n",
    "print('test')\n",
    "print(test[['transaction_year_month', 'year_of_completion']].describe())"
   ]
  },
  {
   "cell_type": "code",
   "execution_count": 301,
   "id": "7756fe83",
   "metadata": {
    "ExecuteTime": {
     "end_time": "2023-07-29T12:18:30.761752Z",
     "start_time": "2023-07-29T12:18:30.738900Z"
    },
    "hidden": true
   },
   "outputs": [
    {
     "data": {
      "text/html": [
       "<div>\n",
       "<style scoped>\n",
       "    .dataframe tbody tr th:only-of-type {\n",
       "        vertical-align: middle;\n",
       "    }\n",
       "\n",
       "    .dataframe tbody tr th {\n",
       "        vertical-align: top;\n",
       "    }\n",
       "\n",
       "    .dataframe thead th {\n",
       "        text-align: right;\n",
       "    }\n",
       "</style>\n",
       "<table border=\"1\" class=\"dataframe\">\n",
       "  <thead>\n",
       "    <tr style=\"text-align: right;\">\n",
       "      <th></th>\n",
       "      <th>id</th>\n",
       "      <th>sigungu</th>\n",
       "      <th>jibun</th>\n",
       "      <th>apt_name</th>\n",
       "      <th>exclusive_use_area</th>\n",
       "      <th>transaction_year_month</th>\n",
       "      <th>transaction_day</th>\n",
       "      <th>floor</th>\n",
       "      <th>year_of_completion</th>\n",
       "    </tr>\n",
       "  </thead>\n",
       "  <tbody>\n",
       "    <tr>\n",
       "      <th>0</th>\n",
       "      <td>TEST_0000</td>\n",
       "      <td>서울특별시 강남구 대치동</td>\n",
       "      <td>977</td>\n",
       "      <td>대치르엘</td>\n",
       "      <td>77.97</td>\n",
       "      <td>111</td>\n",
       "      <td>10</td>\n",
       "      <td>2</td>\n",
       "      <td>42</td>\n",
       "    </tr>\n",
       "    <tr>\n",
       "      <th>1</th>\n",
       "      <td>TEST_0001</td>\n",
       "      <td>서울특별시 강남구 대치동</td>\n",
       "      <td>977</td>\n",
       "      <td>대치르엘</td>\n",
       "      <td>59.99</td>\n",
       "      <td>111</td>\n",
       "      <td>10</td>\n",
       "      <td>2</td>\n",
       "      <td>42</td>\n",
       "    </tr>\n",
       "  </tbody>\n",
       "</table>\n",
       "</div>"
      ],
      "text/plain": [
       "          id        sigungu jibun apt_name  exclusive_use_area  \\\n",
       "0  TEST_0000  서울특별시 강남구 대치동   977     대치르엘               77.97   \n",
       "1  TEST_0001  서울특별시 강남구 대치동   977     대치르엘               59.99   \n",
       "\n",
       "   transaction_year_month  transaction_day  floor  year_of_completion  \n",
       "0                     111               10      2                  42  \n",
       "1                     111               10      2                  42  "
      ]
     },
     "execution_count": 301,
     "metadata": {},
     "output_type": "execute_result"
    }
   ],
   "source": [
    "# 0,1번 인덱스의 apt_name이 입력되어 있지 않으므로 대치동 977지번 검색을 통하여 실제 아파트 이름을 입력해주었다.\n",
    "test.loc[[0,1], 'apt_name'] = '대치르엘'\n",
    "test.iloc[[0,1],:]"
   ]
  },
  {
   "cell_type": "markdown",
   "id": "a4e5c26d",
   "metadata": {
    "heading_collapsed": true
   },
   "source": [
    "## K-means clustering을 통한 아파트 이름 데이터 전처리"
   ]
  },
  {
   "cell_type": "code",
   "execution_count": 302,
   "id": "cb7b90b8",
   "metadata": {
    "ExecuteTime": {
     "end_time": "2023-07-29T12:18:36.725555Z",
     "start_time": "2023-07-29T12:18:36.705270Z"
    },
    "hidden": true
   },
   "outputs": [],
   "source": [
    "#분석을 위해 두 데이터를 합친다\n",
    "train['train_test'] = 'train'\n",
    "test['train_test'] = 'test'\n",
    "df = pd.concat([train, test])\n",
    "df = df.reset_index(drop=True)"
   ]
  },
  {
   "cell_type": "code",
   "execution_count": 303,
   "id": "45b6eb57",
   "metadata": {
    "ExecuteTime": {
     "end_time": "2023-07-29T12:18:38.681146Z",
     "start_time": "2023-07-29T12:18:38.667426Z"
    },
    "hidden": true,
    "scrolled": true
   },
   "outputs": [
    {
     "data": {
      "text/plain": [
       "은마                          1546\n",
       "대치삼성                         404\n",
       "래미안대치팰리스                     398\n",
       "대치아이파크                       382\n",
       "동부센트레빌                       363\n",
       "한보미도맨션2                      312\n",
       "한보미도맨션1                      309\n",
       "대치현대                         252\n",
       "개포우성1                        224\n",
       "선경1차(1동-7동)                  185\n",
       "테헤란로대우아이빌(891-6)             144\n",
       "개포우성2                        131\n",
       "래미안대치하이스턴                    112\n",
       "선경2차(8동-12동)                 112\n",
       "포스코더샵                        104\n",
       "쌍용대치아파트1동,2동,3동,5동,6동        102\n",
       "대치우성아파트1동,2동,3동,5동,6동,7동      93\n",
       "대우아이빌명문가(891-23)              82\n",
       "선릉역대우아이빌(890-49)              63\n",
       "롯데캐슬리베                        63\n",
       "쌍용대치2                         57\n",
       "대치동우정에쉐르1                     51\n",
       "대우아이빌멤버스(891-26)              51\n",
       "롯데캐슬                          50\n",
       "대치효성                          47\n",
       "현대1                           46\n",
       "세영팔레스타운                       30\n",
       "대치한신휴플러스                      30\n",
       "대치SKVIEW                      29\n",
       "국제                            27\n",
       "선경3차                          25\n",
       "선릉역풍림아이원레몬                    23\n",
       "아름빌(889-74)                   23\n",
       "하이캐슬                          22\n",
       "풍림아이원4차(1007-2)               19\n",
       "신성미소시티                        19\n",
       "삼환SOGOOD                      16\n",
       "동민맥스빌A동                       15\n",
       "현대썬앤빌테헤란                      14\n",
       "삼성3차                          13\n",
       "풍림아이원아파트                      12\n",
       "청원                            12\n",
       "하이캐슬102동                      11\n",
       "세연파크뷰                         10\n",
       "우정에쉐르                         10\n",
       "한양팰리스                          9\n",
       "풍림아이원2차202동                    9\n",
       "동민맥스빌B동                        9\n",
       "풍림아이원3차(1007-1)                8\n",
       "한티(933-35)                     8\n",
       "한티(933-0)                      8\n",
       "상지리츠빌카일룸(1009-4)               8\n",
       "동양                             7\n",
       "풍림아이원1차103동(910-5)             7\n",
       "스카이써밋아파트                       6\n",
       "풍림아이원2차201동                    6\n",
       "대치하나빌                          6\n",
       "풍림아이원1차101동(910-3)             6\n",
       "메트로                            6\n",
       "대치동우정에쉐르2(890-42)              6\n",
       "대치주성                           5\n",
       "삼성2차                           5\n",
       "대치타워                           4\n",
       "청암빌라트                          4\n",
       "미도맨션3차                         3\n",
       "화인하이빌                          3\n",
       "월드빌                            2\n",
       "노빌리티빌리지                        2\n",
       "대치르엘                           2\n",
       "Name: apt_name, dtype: int64"
      ]
     },
     "execution_count": 303,
     "metadata": {},
     "output_type": "execute_result"
    }
   ],
   "source": [
    "pd.set_option('display.max_rows', None)\n",
    "df['apt_name'].value_counts()[:69]"
   ]
  },
  {
   "cell_type": "code",
   "execution_count": 304,
   "id": "aa1862b5",
   "metadata": {
    "ExecuteTime": {
     "end_time": "2023-07-29T12:18:52.334984Z",
     "start_time": "2023-07-29T12:18:52.262536Z"
    },
    "hidden": true,
    "scrolled": true
   },
   "outputs": [
    {
     "name": "stderr",
     "output_type": "stream",
     "text": [
      "100%|██████████████████████████████████████████████████████████████████████████████████████████| 6183/6183 [00:00<00:00, 100315.19it/s]\n"
     ]
    }
   ],
   "source": [
    "#괄호안 내용은 분석에 불필요하다고 판단하고 제거\n",
    "#괄호와 괄호안내용 제거\n",
    "regex = \"\\(.*\\)|\\s-\\s.*\"\n",
    "for i in tqdm(range(len(df))):\n",
    "    df.at[i, 'apt_name'] = re.sub(regex, '', df.at[i, 'apt_name'])\n"
   ]
  },
  {
   "cell_type": "code",
   "execution_count": 305,
   "id": "a86412e2",
   "metadata": {
    "ExecuteTime": {
     "end_time": "2023-07-29T12:18:56.794373Z",
     "start_time": "2023-07-29T12:18:56.781240Z"
    },
    "hidden": true,
    "scrolled": true
   },
   "outputs": [
    {
     "data": {
      "text/plain": [
       "은마                          1546\n",
       "대치삼성                         404\n",
       "래미안대치팰리스                     398\n",
       "대치아이파크                       382\n",
       "동부센트레빌                       363\n",
       "한보미도맨션2                      312\n",
       "한보미도맨션1                      309\n",
       "대치현대                         252\n",
       "개포우성1                        224\n",
       "선경1차                         185\n",
       "테헤란로대우아이빌                    144\n",
       "개포우성2                        131\n",
       "선경2차                         112\n",
       "래미안대치하이스턴                    112\n",
       "포스코더샵                        104\n",
       "쌍용대치아파트1동,2동,3동,5동,6동        102\n",
       "대치우성아파트1동,2동,3동,5동,6동,7동      93\n",
       "대우아이빌명문가                      82\n",
       "선릉역대우아이빌                      63\n",
       "롯데캐슬리베                        63\n",
       "쌍용대치2                         57\n",
       "대우아이빌멤버스                      51\n",
       "대치동우정에쉐르1                     51\n",
       "롯데캐슬                          50\n",
       "대치효성                          47\n",
       "현대1                           46\n",
       "세영팔레스타운                       30\n",
       "대치한신휴플러스                      30\n",
       "대치SKVIEW                      29\n",
       "국제                            27\n",
       "선경3차                          25\n",
       "아름빌                           23\n",
       "선릉역풍림아이원레몬                    23\n",
       "하이캐슬                          22\n",
       "풍림아이원4차                       19\n",
       "신성미소시티                        19\n",
       "한티                            16\n",
       "삼환SOGOOD                      16\n",
       "동민맥스빌A동                       15\n",
       "현대썬앤빌테헤란                      14\n",
       "삼성3차                          13\n",
       "청원                            12\n",
       "풍림아이원아파트                      12\n",
       "하이캐슬102동                      11\n",
       "우정에쉐르                         10\n",
       "세연파크뷰                         10\n",
       "동민맥스빌B동                        9\n",
       "풍림아이원2차202동                    9\n",
       "한양팰리스                          9\n",
       "풍림아이원3차                        8\n",
       "상지리츠빌카일룸                       8\n",
       "동양                             7\n",
       "풍림아이원1차103동                    7\n",
       "메트로                            6\n",
       "풍림아이원2차201동                    6\n",
       "대치하나빌                          6\n",
       "대치동우정에쉐르2                      6\n",
       "스카이써밋아파트                       6\n",
       "풍림아이원1차101동                    6\n",
       "대치주성                           5\n",
       "삼성2차                           5\n",
       "대치타워                           4\n",
       "청암빌라트                          4\n",
       "미도맨션3차                         3\n",
       "화인하이빌                          3\n",
       "월드빌                            2\n",
       "노빌리티빌리지                        2\n",
       "대치르엘                           2\n",
       "해암프리존                          1\n",
       "Name: apt_name, dtype: int64"
      ]
     },
     "execution_count": 305,
     "metadata": {},
     "output_type": "execute_result"
    }
   ],
   "source": [
    "df['apt_name'].value_counts().sort_values(ascending = False)"
   ]
  },
  {
   "cell_type": "code",
   "execution_count": 306,
   "id": "17600094",
   "metadata": {
    "ExecuteTime": {
     "end_time": "2023-07-29T12:19:48.499657Z",
     "start_time": "2023-07-29T12:19:43.192444Z"
    },
    "hidden": true,
    "scrolled": true
   },
   "outputs": [
    {
     "data": {
      "text/plain": [
       "2.0    2938\n",
       "3.0    2067\n",
       "1.0     700\n",
       "0.0     470\n",
       "4.0       8\n",
       "Name: cluster, dtype: int64"
      ]
     },
     "execution_count": 306,
     "metadata": {},
     "output_type": "execute_result"
    }
   ],
   "source": [
    "from sklearn.cluster import KMeans\n",
    "import numpy as np\n",
    "\n",
    "# 아파트 별로 가격 평균값 구하기\n",
    "train = all_data[all_data['train_test'] == 'train']\n",
    "data = train[['apt_name', 'transaction_real_price']]\n",
    "\n",
    "data = data.groupby('apt_name').mean()\n",
    "arr = data['transaction_real_price'].to_numpy().reshape(-1, 1)\n",
    "\n",
    "# 가격을 기준으로 아파트 군집화\n",
    "k = 5  \n",
    "kmeans = KMeans(n_clusters=k, n_init=10)\n",
    "kmeans.fit(arr)\n",
    "\n",
    "# 가격을 기준으로 군집의 순서를 정렬하기 위해 인덱스를 추출\n",
    "sort_order = np.argsort(kmeans.cluster_centers_.flatten())\n",
    "\n",
    "# 군집화 결과를 가격 순서대로 재할당\n",
    "labels = np.zeros_like(kmeans.labels_)\n",
    "for i, cluster in enumerate(sort_order):\n",
    "    labels[kmeans.labels_ == cluster] = i\n",
    "\n",
    "# 군집화 결과와 가격을 데이터에 추가\n",
    "data['cluster'] = labels\n",
    "data = data.reset_index()\n",
    "data = data[['apt_name', 'cluster']]\n",
    "\n",
    "all_data = pd.merge(all_data, data, how='left', left_on='apt_name', right_on='apt_name')\n",
    "\n",
    "cluster_mode = all_data.loc[all_data['train_test'] == 'train', 'cluster'].mode()[0]\n",
    "all_data['cluster'] = all_data['cluster'].fillna(cluster_mode)\n",
    "\n",
    "all_data['cluster'].value_counts()"
   ]
  },
  {
   "cell_type": "markdown",
   "id": "b7f1d17d",
   "metadata": {
    "heading_collapsed": true
   },
   "source": [
    "## 층수 전처리"
   ]
  },
  {
   "cell_type": "markdown",
   "id": "275c4c5c",
   "metadata": {
    "hidden": true
   },
   "source": [
    "3층 이하면 0, 이상이면 1로 처리"
   ]
  },
  {
   "cell_type": "code",
   "execution_count": 307,
   "id": "4419819e",
   "metadata": {
    "ExecuteTime": {
     "end_time": "2023-07-29T12:22:20.038805Z",
     "start_time": "2023-07-29T12:22:20.015505Z"
    },
    "hidden": true
   },
   "outputs": [
    {
     "data": {
      "text/plain": [
       "1    5077\n",
       "0    1106\n",
       "Name: low_floor, dtype: int64"
      ]
     },
     "execution_count": 307,
     "metadata": {},
     "output_type": "execute_result"
    }
   ],
   "source": [
    "all_data['low_floor'] = all_data['floor'].apply(lambda x: 0 if x <= 3 else 1)\n",
    "all_data['low_floor'].value_counts()"
   ]
  },
  {
   "cell_type": "markdown",
   "id": "8038af20",
   "metadata": {
    "hidden": true
   },
   "source": [
    "다시 데이터를 분리시킨다"
   ]
  },
  {
   "cell_type": "code",
   "execution_count": 336,
   "id": "9d74cb86",
   "metadata": {
    "ExecuteTime": {
     "end_time": "2023-07-29T16:05:58.049244Z",
     "start_time": "2023-07-29T16:05:58.035236Z"
    },
    "hidden": true
   },
   "outputs": [],
   "source": [
    "train = all_data[all_data['train_test'] == 'train']\n",
    "test = all_data[all_data['train_test'] == 'train']\n",
    "\n",
    "train.drop(['train_test','transaction_day'], axis = 1, inplace = True )\n",
    "test.drop(['train_test','transaction_day'], axis = 1, inplace = True )"
   ]
  },
  {
   "cell_type": "code",
   "execution_count": 337,
   "id": "f0da40b9",
   "metadata": {
    "ExecuteTime": {
     "end_time": "2023-07-29T16:05:59.333195Z",
     "start_time": "2023-07-29T16:05:59.316257Z"
    },
    "hidden": true
   },
   "outputs": [
    {
     "data": {
      "text/html": [
       "<div>\n",
       "<style scoped>\n",
       "    .dataframe tbody tr th:only-of-type {\n",
       "        vertical-align: middle;\n",
       "    }\n",
       "\n",
       "    .dataframe tbody tr th {\n",
       "        vertical-align: top;\n",
       "    }\n",
       "\n",
       "    .dataframe thead th {\n",
       "        text-align: right;\n",
       "    }\n",
       "</style>\n",
       "<table border=\"1\" class=\"dataframe\">\n",
       "  <thead>\n",
       "    <tr style=\"text-align: right;\">\n",
       "      <th></th>\n",
       "      <th>id</th>\n",
       "      <th>sigungu</th>\n",
       "      <th>jibun</th>\n",
       "      <th>apt_name</th>\n",
       "      <th>exclusive_use_area</th>\n",
       "      <th>transaction_year_month</th>\n",
       "      <th>transaction_real_price</th>\n",
       "      <th>floor</th>\n",
       "      <th>year_of_completion</th>\n",
       "      <th>cluster</th>\n",
       "      <th>low_floor</th>\n",
       "    </tr>\n",
       "  </thead>\n",
       "  <tbody>\n",
       "    <tr>\n",
       "      <th>0</th>\n",
       "      <td>TRAIN_0000</td>\n",
       "      <td>서울특별시 강남구 대치동</td>\n",
       "      <td>503</td>\n",
       "      <td>개포우성1</td>\n",
       "      <td>158.54</td>\n",
       "      <td>0</td>\n",
       "      <td>174000.0</td>\n",
       "      <td>13</td>\n",
       "      <td>4</td>\n",
       "      <td>3.0</td>\n",
       "      <td>1</td>\n",
       "    </tr>\n",
       "    <tr>\n",
       "      <th>1</th>\n",
       "      <td>TRAIN_0001</td>\n",
       "      <td>서울특별시 강남구 대치동</td>\n",
       "      <td>503</td>\n",
       "      <td>개포우성1</td>\n",
       "      <td>127.61</td>\n",
       "      <td>0</td>\n",
       "      <td>157500.0</td>\n",
       "      <td>6</td>\n",
       "      <td>4</td>\n",
       "      <td>3.0</td>\n",
       "      <td>1</td>\n",
       "    </tr>\n",
       "    <tr>\n",
       "      <th>2</th>\n",
       "      <td>TRAIN_0002</td>\n",
       "      <td>서울특별시 강남구 대치동</td>\n",
       "      <td>503</td>\n",
       "      <td>개포우성1</td>\n",
       "      <td>127.61</td>\n",
       "      <td>0</td>\n",
       "      <td>150000.0</td>\n",
       "      <td>5</td>\n",
       "      <td>4</td>\n",
       "      <td>3.0</td>\n",
       "      <td>1</td>\n",
       "    </tr>\n",
       "    <tr>\n",
       "      <th>3</th>\n",
       "      <td>TRAIN_0003</td>\n",
       "      <td>서울특별시 강남구 대치동</td>\n",
       "      <td>503</td>\n",
       "      <td>개포우성1</td>\n",
       "      <td>127.61</td>\n",
       "      <td>1</td>\n",
       "      <td>152000.0</td>\n",
       "      <td>9</td>\n",
       "      <td>4</td>\n",
       "      <td>3.0</td>\n",
       "      <td>1</td>\n",
       "    </tr>\n",
       "    <tr>\n",
       "      <th>4</th>\n",
       "      <td>TRAIN_0004</td>\n",
       "      <td>서울특별시 강남구 대치동</td>\n",
       "      <td>503</td>\n",
       "      <td>개포우성1</td>\n",
       "      <td>84.81</td>\n",
       "      <td>1</td>\n",
       "      <td>116000.0</td>\n",
       "      <td>3</td>\n",
       "      <td>4</td>\n",
       "      <td>3.0</td>\n",
       "      <td>0</td>\n",
       "    </tr>\n",
       "  </tbody>\n",
       "</table>\n",
       "</div>"
      ],
      "text/plain": [
       "           id        sigungu jibun apt_name  exclusive_use_area  \\\n",
       "0  TRAIN_0000  서울특별시 강남구 대치동   503    개포우성1              158.54   \n",
       "1  TRAIN_0001  서울특별시 강남구 대치동   503    개포우성1              127.61   \n",
       "2  TRAIN_0002  서울특별시 강남구 대치동   503    개포우성1              127.61   \n",
       "3  TRAIN_0003  서울특별시 강남구 대치동   503    개포우성1              127.61   \n",
       "4  TRAIN_0004  서울특별시 강남구 대치동   503    개포우성1               84.81   \n",
       "\n",
       "   transaction_year_month  transaction_real_price  floor  year_of_completion  \\\n",
       "0                       0                174000.0     13                   4   \n",
       "1                       0                157500.0      6                   4   \n",
       "2                       0                150000.0      5                   4   \n",
       "3                       1                152000.0      9                   4   \n",
       "4                       1                116000.0      3                   4   \n",
       "\n",
       "   cluster  low_floor  \n",
       "0      3.0          1  \n",
       "1      3.0          1  \n",
       "2      3.0          1  \n",
       "3      3.0          1  \n",
       "4      3.0          0  "
      ]
     },
     "execution_count": 337,
     "metadata": {},
     "output_type": "execute_result"
    }
   ],
   "source": [
    "train.head()"
   ]
  },
  {
   "cell_type": "markdown",
   "id": "94400efe",
   "metadata": {
    "heading_collapsed": true
   },
   "source": [
    "## 거래가격 확인 및 로그변환"
   ]
  },
  {
   "cell_type": "code",
   "execution_count": 391,
   "id": "aa603823",
   "metadata": {
    "ExecuteTime": {
     "end_time": "2023-07-29T17:31:58.336522Z",
     "start_time": "2023-07-29T17:31:58.267186Z"
    },
    "hidden": true,
    "scrolled": true
   },
   "outputs": [
    {
     "data": {
      "text/plain": [
       "<AxesSubplot:ylabel='transaction_real_price'>"
      ]
     },
     "execution_count": 391,
     "metadata": {},
     "output_type": "execute_result"
    },
    {
     "data": {
      "image/png": "[encoded data removed]",
      "text/plain": [
       "<Figure size 432x288 with 1 Axes>"
      ]
     },
     "metadata": {
      "needs_background": "light"
     },
     "output_type": "display_data"
    }
   ],
   "source": [
    "sns.boxplot(y='transaction_real_price', data = train)"
   ]
  },
  {
   "cell_type": "code",
   "execution_count": 326,
   "id": "d21e5ac3",
   "metadata": {
    "ExecuteTime": {
     "end_time": "2023-07-29T15:53:13.234722Z",
     "start_time": "2023-07-29T15:53:13.084466Z"
    },
    "hidden": true,
    "scrolled": true
   },
   "outputs": [
    {
     "data": {
      "image/png": "[encoded data removed]",
      "text/plain": [
       "<Figure size 360x360 with 1 Axes>"
      ]
     },
     "metadata": {},
     "output_type": "display_data"
    }
   ],
   "source": [
    "sns.set(style = 'white')\n",
    "sns.displot(train['transaction_real_price'], bins=30)\n",
    "plt.xlabel('Price(10000 won)')\n",
    "plt.title('Distribution of Price')\n",
    "plt.show()\n"
   ]
  },
  {
   "cell_type": "markdown",
   "id": "2005d8e1",
   "metadata": {
    "hidden": true
   },
   "source": [
    "타겟변수에 이상치가 많이 존재하므로 로그변환으로 정규화 후, 역변환한다."
   ]
  },
  {
   "cell_type": "code",
   "execution_count": 438,
   "id": "9193eabb",
   "metadata": {
    "ExecuteTime": {
     "end_time": "2023-07-29T18:02:31.228510Z",
     "start_time": "2023-07-29T18:02:31.176029Z"
    },
    "hidden": true
   },
   "outputs": [
    {
     "ename": "KeyError",
     "evalue": "'transaction_real_price'",
     "output_type": "error",
     "traceback": [
      "\u001b[0;31m---------------------------------------------------------------------------\u001b[0m",
      "\u001b[0;31mKeyError\u001b[0m                                  Traceback (most recent call last)",
      "File \u001b[0;32m~/opt/anaconda3/lib/python3.9/site-packages/pandas/core/indexes/base.py:3621\u001b[0m, in \u001b[0;36mIndex.get_loc\u001b[0;34m(self, key, method, tolerance)\u001b[0m\n\u001b[1;32m   3620\u001b[0m \u001b[38;5;28;01mtry\u001b[39;00m:\n\u001b[0;32m-> 3621\u001b[0m     \u001b[38;5;28;01mreturn\u001b[39;00m \u001b[38;5;28;43mself\u001b[39;49m\u001b[38;5;241;43m.\u001b[39;49m\u001b[43m_engine\u001b[49m\u001b[38;5;241;43m.\u001b[39;49m\u001b[43mget_loc\u001b[49m\u001b[43m(\u001b[49m\u001b[43mcasted_key\u001b[49m\u001b[43m)\u001b[49m\n\u001b[1;32m   3622\u001b[0m \u001b[38;5;28;01mexcept\u001b[39;00m \u001b[38;5;167;01mKeyError\u001b[39;00m \u001b[38;5;28;01mas\u001b[39;00m err:\n",
      "File \u001b[0;32m~/opt/anaconda3/lib/python3.9/site-packages/pandas/_libs/index.pyx:136\u001b[0m, in \u001b[0;36mpandas._libs.index.IndexEngine.get_loc\u001b[0;34m()\u001b[0m\n",
      "File \u001b[0;32m~/opt/anaconda3/lib/python3.9/site-packages/pandas/_libs/index.pyx:163\u001b[0m, in \u001b[0;36mpandas._libs.index.IndexEngine.get_loc\u001b[0;34m()\u001b[0m\n",
      "File \u001b[0;32mpandas/_libs/hashtable_class_helper.pxi:5198\u001b[0m, in \u001b[0;36mpandas._libs.hashtable.PyObjectHashTable.get_item\u001b[0;34m()\u001b[0m\n",
      "File \u001b[0;32mpandas/_libs/hashtable_class_helper.pxi:5206\u001b[0m, in \u001b[0;36mpandas._libs.hashtable.PyObjectHashTable.get_item\u001b[0;34m()\u001b[0m\n",
      "\u001b[0;31mKeyError\u001b[0m: 'transaction_real_price'",
      "\nThe above exception was the direct cause of the following exception:\n",
      "\u001b[0;31mKeyError\u001b[0m                                  Traceback (most recent call last)",
      "Input \u001b[0;32mIn [438]\u001b[0m, in \u001b[0;36m<cell line: 2>\u001b[0;34m()\u001b[0m\n\u001b[1;32m      1\u001b[0m \u001b[38;5;66;03m# 가격 로그 변환 후 원래 가격 따로 저장\u001b[39;00m\n\u001b[0;32m----> 2\u001b[0m train[\u001b[38;5;124m'\u001b[39m\u001b[38;5;124mlog_price\u001b[39m\u001b[38;5;124m'\u001b[39m] \u001b[38;5;241m=\u001b[39m np\u001b[38;5;241m.\u001b[39mlog1p(\u001b[43mtrain\u001b[49m\u001b[43m[\u001b[49m\u001b[38;5;124;43m'\u001b[39;49m\u001b[38;5;124;43mtransaction_real_price\u001b[39;49m\u001b[38;5;124;43m'\u001b[39;49m\u001b[43m]\u001b[49m)\n\u001b[1;32m      4\u001b[0m real_price \u001b[38;5;241m=\u001b[39m train[\u001b[38;5;124m'\u001b[39m\u001b[38;5;124mtransaction_real_price\u001b[39m\u001b[38;5;124m'\u001b[39m] \u001b[38;5;66;03m# 원래 가격\u001b[39;00m\n\u001b[1;32m      6\u001b[0m train\u001b[38;5;241m.\u001b[39mdrop(\u001b[38;5;124m'\u001b[39m\u001b[38;5;124mtransaction_real_price\u001b[39m\u001b[38;5;124m'\u001b[39m, axis\u001b[38;5;241m=\u001b[39m\u001b[38;5;241m1\u001b[39m, inplace\u001b[38;5;241m=\u001b[39m\u001b[38;5;28;01mTrue\u001b[39;00m)\n",
      "File \u001b[0;32m~/opt/anaconda3/lib/python3.9/site-packages/pandas/core/frame.py:3505\u001b[0m, in \u001b[0;36mDataFrame.__getitem__\u001b[0;34m(self, key)\u001b[0m\n\u001b[1;32m   3503\u001b[0m \u001b[38;5;28;01mif\u001b[39;00m \u001b[38;5;28mself\u001b[39m\u001b[38;5;241m.\u001b[39mcolumns\u001b[38;5;241m.\u001b[39mnlevels \u001b[38;5;241m>\u001b[39m \u001b[38;5;241m1\u001b[39m:\n\u001b[1;32m   3504\u001b[0m     \u001b[38;5;28;01mreturn\u001b[39;00m \u001b[38;5;28mself\u001b[39m\u001b[38;5;241m.\u001b[39m_getitem_multilevel(key)\n\u001b[0;32m-> 3505\u001b[0m indexer \u001b[38;5;241m=\u001b[39m \u001b[38;5;28;43mself\u001b[39;49m\u001b[38;5;241;43m.\u001b[39;49m\u001b[43mcolumns\u001b[49m\u001b[38;5;241;43m.\u001b[39;49m\u001b[43mget_loc\u001b[49m\u001b[43m(\u001b[49m\u001b[43mkey\u001b[49m\u001b[43m)\u001b[49m\n\u001b[1;32m   3506\u001b[0m \u001b[38;5;28;01mif\u001b[39;00m is_integer(indexer):\n\u001b[1;32m   3507\u001b[0m     indexer \u001b[38;5;241m=\u001b[39m [indexer]\n",
      "File \u001b[0;32m~/opt/anaconda3/lib/python3.9/site-packages/pandas/core/indexes/base.py:3623\u001b[0m, in \u001b[0;36mIndex.get_loc\u001b[0;34m(self, key, method, tolerance)\u001b[0m\n\u001b[1;32m   3621\u001b[0m     \u001b[38;5;28;01mreturn\u001b[39;00m \u001b[38;5;28mself\u001b[39m\u001b[38;5;241m.\u001b[39m_engine\u001b[38;5;241m.\u001b[39mget_loc(casted_key)\n\u001b[1;32m   3622\u001b[0m \u001b[38;5;28;01mexcept\u001b[39;00m \u001b[38;5;167;01mKeyError\u001b[39;00m \u001b[38;5;28;01mas\u001b[39;00m err:\n\u001b[0;32m-> 3623\u001b[0m     \u001b[38;5;28;01mraise\u001b[39;00m \u001b[38;5;167;01mKeyError\u001b[39;00m(key) \u001b[38;5;28;01mfrom\u001b[39;00m \u001b[38;5;21;01merr\u001b[39;00m\n\u001b[1;32m   3624\u001b[0m \u001b[38;5;28;01mexcept\u001b[39;00m \u001b[38;5;167;01mTypeError\u001b[39;00m:\n\u001b[1;32m   3625\u001b[0m     \u001b[38;5;66;03m# If we have a listlike key, _check_indexing_error will raise\u001b[39;00m\n\u001b[1;32m   3626\u001b[0m     \u001b[38;5;66;03m#  InvalidIndexError. Otherwise we fall through and re-raise\u001b[39;00m\n\u001b[1;32m   3627\u001b[0m     \u001b[38;5;66;03m#  the TypeError.\u001b[39;00m\n\u001b[1;32m   3628\u001b[0m     \u001b[38;5;28mself\u001b[39m\u001b[38;5;241m.\u001b[39m_check_indexing_error(key)\n",
      "\u001b[0;31mKeyError\u001b[0m: 'transaction_real_price'"
     ]
    }
   ],
   "source": [
    "# 가격 로그 변환 후 원래 가격 따로 저장\n",
    "train['log_price'] = np.log1p(train['transaction_real_price'])\n",
    "\n",
    "real_price = train['transaction_real_price'] # 원래 가격\n",
    "\n",
    "train.drop('transaction_real_price', axis=1, inplace=True)\n",
    "train.head(3)"
   ]
  },
  {
   "cell_type": "code",
   "execution_count": 345,
   "id": "c1659470",
   "metadata": {
    "ExecuteTime": {
     "end_time": "2023-07-29T16:08:03.805378Z",
     "start_time": "2023-07-29T16:08:03.596939Z"
    },
    "hidden": true,
    "scrolled": true
   },
   "outputs": [
    {
     "data": {
      "image/png": "[encoded data removed]",
      "text/plain": [
       "<Figure size 360x360 with 1 Axes>"
      ]
     },
     "metadata": {},
     "output_type": "display_data"
    },
    {
     "data": {
      "image/png": "[encoded data removed]",
      "text/plain": [
       "<Figure size 432x288 with 1 Axes>"
      ]
     },
     "metadata": {},
     "output_type": "display_data"
    }
   ],
   "source": [
    "sns.displot(train['log_price'], bins=30)\n",
    "plt.xlabel('Price(10000 won)')\n",
    "plt.title('Distribution of Price')\n",
    "plt.show()\n",
    "\n",
    "sns.boxplot(y='log_price', data = train)\n",
    "plt.show()"
   ]
  },
  {
   "cell_type": "markdown",
   "id": "4585cdbd",
   "metadata": {
    "ExecuteTime": {
     "end_time": "2023-07-29T16:07:59.246612Z",
     "start_time": "2023-07-29T16:07:59.239538Z"
    },
    "hidden": true
   },
   "source": [
    "로그 변환 안해도 됐던건가? 잘모르니 나중에 다시 확인해보자"
   ]
  },
  {
   "cell_type": "markdown",
   "id": "31ed1f3c",
   "metadata": {
    "heading_collapsed": true
   },
   "source": [
    "## 면적(m^2) 확인 및 로그변환"
   ]
  },
  {
   "cell_type": "code",
   "execution_count": 437,
   "id": "301031c9",
   "metadata": {
    "ExecuteTime": {
     "end_time": "2023-07-29T18:02:13.461553Z",
     "start_time": "2023-07-29T18:02:13.398114Z"
    },
    "hidden": true,
    "scrolled": true
   },
   "outputs": [
    {
     "ename": "KeyError",
     "evalue": "'exclusive_use_area'",
     "output_type": "error",
     "traceback": [
      "\u001b[0;31m---------------------------------------------------------------------------\u001b[0m",
      "\u001b[0;31mKeyError\u001b[0m                                  Traceback (most recent call last)",
      "File \u001b[0;32m~/opt/anaconda3/lib/python3.9/site-packages/pandas/core/indexes/base.py:3621\u001b[0m, in \u001b[0;36mIndex.get_loc\u001b[0;34m(self, key, method, tolerance)\u001b[0m\n\u001b[1;32m   3620\u001b[0m \u001b[38;5;28;01mtry\u001b[39;00m:\n\u001b[0;32m-> 3621\u001b[0m     \u001b[38;5;28;01mreturn\u001b[39;00m \u001b[38;5;28;43mself\u001b[39;49m\u001b[38;5;241;43m.\u001b[39;49m\u001b[43m_engine\u001b[49m\u001b[38;5;241;43m.\u001b[39;49m\u001b[43mget_loc\u001b[49m\u001b[43m(\u001b[49m\u001b[43mcasted_key\u001b[49m\u001b[43m)\u001b[49m\n\u001b[1;32m   3622\u001b[0m \u001b[38;5;28;01mexcept\u001b[39;00m \u001b[38;5;167;01mKeyError\u001b[39;00m \u001b[38;5;28;01mas\u001b[39;00m err:\n",
      "File \u001b[0;32m~/opt/anaconda3/lib/python3.9/site-packages/pandas/_libs/index.pyx:136\u001b[0m, in \u001b[0;36mpandas._libs.index.IndexEngine.get_loc\u001b[0;34m()\u001b[0m\n",
      "File \u001b[0;32m~/opt/anaconda3/lib/python3.9/site-packages/pandas/_libs/index.pyx:163\u001b[0m, in \u001b[0;36mpandas._libs.index.IndexEngine.get_loc\u001b[0;34m()\u001b[0m\n",
      "File \u001b[0;32mpandas/_libs/hashtable_class_helper.pxi:5198\u001b[0m, in \u001b[0;36mpandas._libs.hashtable.PyObjectHashTable.get_item\u001b[0;34m()\u001b[0m\n",
      "File \u001b[0;32mpandas/_libs/hashtable_class_helper.pxi:5206\u001b[0m, in \u001b[0;36mpandas._libs.hashtable.PyObjectHashTable.get_item\u001b[0;34m()\u001b[0m\n",
      "\u001b[0;31mKeyError\u001b[0m: 'exclusive_use_area'",
      "\nThe above exception was the direct cause of the following exception:\n",
      "\u001b[0;31mKeyError\u001b[0m                                  Traceback (most recent call last)",
      "Input \u001b[0;32mIn [437]\u001b[0m, in \u001b[0;36m<cell line: 2>\u001b[0;34m()\u001b[0m\n\u001b[1;32m      1\u001b[0m plt\u001b[38;5;241m.\u001b[39mfigure()\n\u001b[0;32m----> 2\u001b[0m sns\u001b[38;5;241m.\u001b[39mdisplot(\u001b[43mtrain\u001b[49m\u001b[43m[\u001b[49m\u001b[38;5;124;43m'\u001b[39;49m\u001b[38;5;124;43mexclusive_use_area\u001b[39;49m\u001b[38;5;124;43m'\u001b[39;49m\u001b[43m]\u001b[49m, bins\u001b[38;5;241m=\u001b[39m\u001b[38;5;241m30\u001b[39m)\n\u001b[1;32m      3\u001b[0m plt\u001b[38;5;241m.\u001b[39mxlabel(\u001b[38;5;124m'\u001b[39m\u001b[38;5;124mArea(Square meter)\u001b[39m\u001b[38;5;124m'\u001b[39m)\n\u001b[1;32m      4\u001b[0m plt\u001b[38;5;241m.\u001b[39mtitle(\u001b[38;5;124m'\u001b[39m\u001b[38;5;124mDistribution of Area\u001b[39m\u001b[38;5;124m'\u001b[39m)\n",
      "File \u001b[0;32m~/opt/anaconda3/lib/python3.9/site-packages/pandas/core/frame.py:3505\u001b[0m, in \u001b[0;36mDataFrame.__getitem__\u001b[0;34m(self, key)\u001b[0m\n\u001b[1;32m   3503\u001b[0m \u001b[38;5;28;01mif\u001b[39;00m \u001b[38;5;28mself\u001b[39m\u001b[38;5;241m.\u001b[39mcolumns\u001b[38;5;241m.\u001b[39mnlevels \u001b[38;5;241m>\u001b[39m \u001b[38;5;241m1\u001b[39m:\n\u001b[1;32m   3504\u001b[0m     \u001b[38;5;28;01mreturn\u001b[39;00m \u001b[38;5;28mself\u001b[39m\u001b[38;5;241m.\u001b[39m_getitem_multilevel(key)\n\u001b[0;32m-> 3505\u001b[0m indexer \u001b[38;5;241m=\u001b[39m \u001b[38;5;28;43mself\u001b[39;49m\u001b[38;5;241;43m.\u001b[39;49m\u001b[43mcolumns\u001b[49m\u001b[38;5;241;43m.\u001b[39;49m\u001b[43mget_loc\u001b[49m\u001b[43m(\u001b[49m\u001b[43mkey\u001b[49m\u001b[43m)\u001b[49m\n\u001b[1;32m   3506\u001b[0m \u001b[38;5;28;01mif\u001b[39;00m is_integer(indexer):\n\u001b[1;32m   3507\u001b[0m     indexer \u001b[38;5;241m=\u001b[39m [indexer]\n",
      "File \u001b[0;32m~/opt/anaconda3/lib/python3.9/site-packages/pandas/core/indexes/base.py:3623\u001b[0m, in \u001b[0;36mIndex.get_loc\u001b[0;34m(self, key, method, tolerance)\u001b[0m\n\u001b[1;32m   3621\u001b[0m     \u001b[38;5;28;01mreturn\u001b[39;00m \u001b[38;5;28mself\u001b[39m\u001b[38;5;241m.\u001b[39m_engine\u001b[38;5;241m.\u001b[39mget_loc(casted_key)\n\u001b[1;32m   3622\u001b[0m \u001b[38;5;28;01mexcept\u001b[39;00m \u001b[38;5;167;01mKeyError\u001b[39;00m \u001b[38;5;28;01mas\u001b[39;00m err:\n\u001b[0;32m-> 3623\u001b[0m     \u001b[38;5;28;01mraise\u001b[39;00m \u001b[38;5;167;01mKeyError\u001b[39;00m(key) \u001b[38;5;28;01mfrom\u001b[39;00m \u001b[38;5;21;01merr\u001b[39;00m\n\u001b[1;32m   3624\u001b[0m \u001b[38;5;28;01mexcept\u001b[39;00m \u001b[38;5;167;01mTypeError\u001b[39;00m:\n\u001b[1;32m   3625\u001b[0m     \u001b[38;5;66;03m# If we have a listlike key, _check_indexing_error will raise\u001b[39;00m\n\u001b[1;32m   3626\u001b[0m     \u001b[38;5;66;03m#  InvalidIndexError. Otherwise we fall through and re-raise\u001b[39;00m\n\u001b[1;32m   3627\u001b[0m     \u001b[38;5;66;03m#  the TypeError.\u001b[39;00m\n\u001b[1;32m   3628\u001b[0m     \u001b[38;5;28mself\u001b[39m\u001b[38;5;241m.\u001b[39m_check_indexing_error(key)\n",
      "\u001b[0;31mKeyError\u001b[0m: 'exclusive_use_area'"
     ]
    },
    {
     "data": {
      "text/plain": [
       "<Figure size 432x288 with 0 Axes>"
      ]
     },
     "metadata": {},
     "output_type": "display_data"
    }
   ],
   "source": [
    "plt.figure()\n",
    "sns.displot(train['exclusive_use_area'], bins=30)\n",
    "plt.xlabel('Area(Square meter)')\n",
    "plt.title('Distribution of Area')\n",
    "plt.show()"
   ]
  },
  {
   "cell_type": "markdown",
   "id": "efeef424",
   "metadata": {
    "hidden": true
   },
   "source": [
    "이상치 때문에 확실히 로그변환을 수행해야 한다."
   ]
  },
  {
   "cell_type": "code",
   "execution_count": 436,
   "id": "ccb0edf3",
   "metadata": {
    "ExecuteTime": {
     "end_time": "2023-07-29T18:02:10.780940Z",
     "start_time": "2023-07-29T18:02:10.725461Z"
    },
    "hidden": true
   },
   "outputs": [
    {
     "ename": "KeyError",
     "evalue": "'exclusive_use_area'",
     "output_type": "error",
     "traceback": [
      "\u001b[0;31m---------------------------------------------------------------------------\u001b[0m",
      "\u001b[0;31mKeyError\u001b[0m                                  Traceback (most recent call last)",
      "File \u001b[0;32m~/opt/anaconda3/lib/python3.9/site-packages/pandas/core/indexes/base.py:3621\u001b[0m, in \u001b[0;36mIndex.get_loc\u001b[0;34m(self, key, method, tolerance)\u001b[0m\n\u001b[1;32m   3620\u001b[0m \u001b[38;5;28;01mtry\u001b[39;00m:\n\u001b[0;32m-> 3621\u001b[0m     \u001b[38;5;28;01mreturn\u001b[39;00m \u001b[38;5;28;43mself\u001b[39;49m\u001b[38;5;241;43m.\u001b[39;49m\u001b[43m_engine\u001b[49m\u001b[38;5;241;43m.\u001b[39;49m\u001b[43mget_loc\u001b[49m\u001b[43m(\u001b[49m\u001b[43mcasted_key\u001b[49m\u001b[43m)\u001b[49m\n\u001b[1;32m   3622\u001b[0m \u001b[38;5;28;01mexcept\u001b[39;00m \u001b[38;5;167;01mKeyError\u001b[39;00m \u001b[38;5;28;01mas\u001b[39;00m err:\n",
      "File \u001b[0;32m~/opt/anaconda3/lib/python3.9/site-packages/pandas/_libs/index.pyx:136\u001b[0m, in \u001b[0;36mpandas._libs.index.IndexEngine.get_loc\u001b[0;34m()\u001b[0m\n",
      "File \u001b[0;32m~/opt/anaconda3/lib/python3.9/site-packages/pandas/_libs/index.pyx:163\u001b[0m, in \u001b[0;36mpandas._libs.index.IndexEngine.get_loc\u001b[0;34m()\u001b[0m\n",
      "File \u001b[0;32mpandas/_libs/hashtable_class_helper.pxi:5198\u001b[0m, in \u001b[0;36mpandas._libs.hashtable.PyObjectHashTable.get_item\u001b[0;34m()\u001b[0m\n",
      "File \u001b[0;32mpandas/_libs/hashtable_class_helper.pxi:5206\u001b[0m, in \u001b[0;36mpandas._libs.hashtable.PyObjectHashTable.get_item\u001b[0;34m()\u001b[0m\n",
      "\u001b[0;31mKeyError\u001b[0m: 'exclusive_use_area'",
      "\nThe above exception was the direct cause of the following exception:\n",
      "\u001b[0;31mKeyError\u001b[0m                                  Traceback (most recent call last)",
      "Input \u001b[0;32mIn [436]\u001b[0m, in \u001b[0;36m<cell line: 1>\u001b[0;34m()\u001b[0m\n\u001b[0;32m----> 1\u001b[0m train[\u001b[38;5;124m'\u001b[39m\u001b[38;5;124mlog_area\u001b[39m\u001b[38;5;124m'\u001b[39m] \u001b[38;5;241m=\u001b[39m np\u001b[38;5;241m.\u001b[39mlog1p(\u001b[43mtrain\u001b[49m\u001b[43m[\u001b[49m\u001b[38;5;124;43m'\u001b[39;49m\u001b[38;5;124;43mexclusive_use_area\u001b[39;49m\u001b[38;5;124;43m'\u001b[39;49m\u001b[43m]\u001b[49m)\n\u001b[1;32m      2\u001b[0m test[\u001b[38;5;124m'\u001b[39m\u001b[38;5;124mlog_area\u001b[39m\u001b[38;5;124m'\u001b[39m] \u001b[38;5;241m=\u001b[39m np\u001b[38;5;241m.\u001b[39mlog1p(test[\u001b[38;5;124m'\u001b[39m\u001b[38;5;124mexclusive_use_area\u001b[39m\u001b[38;5;124m'\u001b[39m])\n\u001b[1;32m      4\u001b[0m area \u001b[38;5;241m=\u001b[39m train[\u001b[38;5;124m'\u001b[39m\u001b[38;5;124mexclusive_use_area\u001b[39m\u001b[38;5;124m'\u001b[39m] \u001b[38;5;66;03m# 원래 면적\u001b[39;00m\n",
      "File \u001b[0;32m~/opt/anaconda3/lib/python3.9/site-packages/pandas/core/frame.py:3505\u001b[0m, in \u001b[0;36mDataFrame.__getitem__\u001b[0;34m(self, key)\u001b[0m\n\u001b[1;32m   3503\u001b[0m \u001b[38;5;28;01mif\u001b[39;00m \u001b[38;5;28mself\u001b[39m\u001b[38;5;241m.\u001b[39mcolumns\u001b[38;5;241m.\u001b[39mnlevels \u001b[38;5;241m>\u001b[39m \u001b[38;5;241m1\u001b[39m:\n\u001b[1;32m   3504\u001b[0m     \u001b[38;5;28;01mreturn\u001b[39;00m \u001b[38;5;28mself\u001b[39m\u001b[38;5;241m.\u001b[39m_getitem_multilevel(key)\n\u001b[0;32m-> 3505\u001b[0m indexer \u001b[38;5;241m=\u001b[39m \u001b[38;5;28;43mself\u001b[39;49m\u001b[38;5;241;43m.\u001b[39;49m\u001b[43mcolumns\u001b[49m\u001b[38;5;241;43m.\u001b[39;49m\u001b[43mget_loc\u001b[49m\u001b[43m(\u001b[49m\u001b[43mkey\u001b[49m\u001b[43m)\u001b[49m\n\u001b[1;32m   3506\u001b[0m \u001b[38;5;28;01mif\u001b[39;00m is_integer(indexer):\n\u001b[1;32m   3507\u001b[0m     indexer \u001b[38;5;241m=\u001b[39m [indexer]\n",
      "File \u001b[0;32m~/opt/anaconda3/lib/python3.9/site-packages/pandas/core/indexes/base.py:3623\u001b[0m, in \u001b[0;36mIndex.get_loc\u001b[0;34m(self, key, method, tolerance)\u001b[0m\n\u001b[1;32m   3621\u001b[0m     \u001b[38;5;28;01mreturn\u001b[39;00m \u001b[38;5;28mself\u001b[39m\u001b[38;5;241m.\u001b[39m_engine\u001b[38;5;241m.\u001b[39mget_loc(casted_key)\n\u001b[1;32m   3622\u001b[0m \u001b[38;5;28;01mexcept\u001b[39;00m \u001b[38;5;167;01mKeyError\u001b[39;00m \u001b[38;5;28;01mas\u001b[39;00m err:\n\u001b[0;32m-> 3623\u001b[0m     \u001b[38;5;28;01mraise\u001b[39;00m \u001b[38;5;167;01mKeyError\u001b[39;00m(key) \u001b[38;5;28;01mfrom\u001b[39;00m \u001b[38;5;21;01merr\u001b[39;00m\n\u001b[1;32m   3624\u001b[0m \u001b[38;5;28;01mexcept\u001b[39;00m \u001b[38;5;167;01mTypeError\u001b[39;00m:\n\u001b[1;32m   3625\u001b[0m     \u001b[38;5;66;03m# If we have a listlike key, _check_indexing_error will raise\u001b[39;00m\n\u001b[1;32m   3626\u001b[0m     \u001b[38;5;66;03m#  InvalidIndexError. Otherwise we fall through and re-raise\u001b[39;00m\n\u001b[1;32m   3627\u001b[0m     \u001b[38;5;66;03m#  the TypeError.\u001b[39;00m\n\u001b[1;32m   3628\u001b[0m     \u001b[38;5;28mself\u001b[39m\u001b[38;5;241m.\u001b[39m_check_indexing_error(key)\n",
      "\u001b[0;31mKeyError\u001b[0m: 'exclusive_use_area'"
     ]
    }
   ],
   "source": [
    "train['log_area'] = np.log1p(train['exclusive_use_area'])\n",
    "test['log_area'] = np.log1p(test['exclusive_use_area'])\n",
    "\n",
    "area = train['exclusive_use_area'] # 원래 면적\n",
    "\n",
    "train.drop('exclusive_use_area', axis=1, inplace=True)\n",
    "test.drop('exclusive_use_area', axis=1, inplace=True)\n",
    "train.head(1)"
   ]
  },
  {
   "cell_type": "code",
   "execution_count": 349,
   "id": "39023436",
   "metadata": {
    "ExecuteTime": {
     "end_time": "2023-07-29T16:11:11.171364Z",
     "start_time": "2023-07-29T16:11:11.012279Z"
    },
    "hidden": true,
    "scrolled": true
   },
   "outputs": [
    {
     "data": {
      "text/plain": [
       "<Figure size 432x288 with 0 Axes>"
      ]
     },
     "metadata": {},
     "output_type": "display_data"
    },
    {
     "data": {
      "image/png": "[encoded data removed]",
      "text/plain": [
       "<Figure size 360x360 with 1 Axes>"
      ]
     },
     "metadata": {},
     "output_type": "display_data"
    }
   ],
   "source": [
    "plt.figure()\n",
    "sns.displot(train['log_area'], bins=30)\n",
    "plt.xlabel('Area(Square meter)')\n",
    "plt.title('Distribution of Area')\n",
    "plt.show()"
   ]
  },
  {
   "cell_type": "markdown",
   "id": "6565fda5",
   "metadata": {
    "hidden": true
   },
   "source": [
    "로그변환은 큰 소용이 없었다. 하지만 그래도 약간은 더 정규분포에 근사했으니 만족한다."
   ]
  },
  {
   "cell_type": "markdown",
   "id": "27d7e9fb",
   "metadata": {},
   "source": [
    "# 모델링(Using Auto ML PyCaret)"
   ]
  },
  {
   "cell_type": "code",
   "execution_count": 477,
   "id": "91885d2e",
   "metadata": {
    "ExecuteTime": {
     "end_time": "2023-07-29T18:13:42.024821Z",
     "start_time": "2023-07-29T18:13:42.017214Z"
    }
   },
   "outputs": [
    {
     "data": {
      "text/plain": [
       "Index(['id', 'sigungu', 'transaction_year_month', 'floor',\n",
       "       'year_of_completion', 'log_price', 'log_area'],\n",
       "      dtype='object')"
      ]
     },
     "execution_count": 477,
     "metadata": {},
     "output_type": "execute_result"
    }
   ],
   "source": [
    "train.columns"
   ]
  },
  {
   "cell_type": "code",
   "execution_count": 478,
   "id": "599a1f66",
   "metadata": {
    "ExecuteTime": {
     "end_time": "2023-07-29T18:13:50.232222Z",
     "start_time": "2023-07-29T18:13:50.226823Z"
    }
   },
   "outputs": [],
   "source": [
    "train_modeling = train\n",
    "test_modeling = test "
   ]
  },
  {
   "cell_type": "code",
   "execution_count": 445,
   "id": "32ec68d3",
   "metadata": {
    "ExecuteTime": {
     "end_time": "2023-07-29T18:05:04.189860Z",
     "start_time": "2023-07-29T18:05:04.181214Z"
    }
   },
   "outputs": [],
   "source": [
    "train_modeling.drop(['jibun','apt_name','transaction_day'],axis=1,inplace=True)\n",
    "test_modeling.drop(['jibun','apt_name','transaction_day'],axis=1,inplace=True)"
   ]
  },
  {
   "cell_type": "code",
   "execution_count": 479,
   "id": "316fa1d5",
   "metadata": {
    "ExecuteTime": {
     "end_time": "2023-07-29T18:13:56.090249Z",
     "start_time": "2023-07-29T18:13:56.081144Z"
    }
   },
   "outputs": [
    {
     "data": {
      "text/plain": [
       "Index(['id', 'sigungu', 'transaction_year_month', 'floor',\n",
       "       'year_of_completion', 'log_price', 'log_area'],\n",
       "      dtype='object')"
      ]
     },
     "execution_count": 479,
     "metadata": {},
     "output_type": "execute_result"
    }
   ],
   "source": [
    "train_modeling.columns"
   ]
  },
  {
   "cell_type": "code",
   "execution_count": 480,
   "id": "f45dff96",
   "metadata": {
    "ExecuteTime": {
     "end_time": "2023-07-29T18:13:58.347894Z",
     "start_time": "2023-07-29T18:13:58.341082Z"
    }
   },
   "outputs": [
    {
     "data": {
      "text/plain": [
       "Index(['id', 'sigungu', 'transaction_year_month', 'floor',\n",
       "       'year_of_completion', 'log_area'],\n",
       "      dtype='object')"
      ]
     },
     "execution_count": 480,
     "metadata": {},
     "output_type": "execute_result"
    }
   ],
   "source": [
    "test_modeling.columns"
   ]
  },
  {
   "cell_type": "markdown",
   "id": "21118acf",
   "metadata": {},
   "source": [
    "## 분석 환경 구축"
   ]
  },
  {
   "cell_type": "code",
   "execution_count": 498,
   "id": "59775131",
   "metadata": {
    "ExecuteTime": {
     "end_time": "2023-07-29T18:43:11.842160Z",
     "start_time": "2023-07-29T18:43:10.529989Z"
    },
    "scrolled": false
   },
   "outputs": [
    {
     "data": {
      "text/html": [
       "<style type=\"text/css\">\n",
       "#T_143d5_row9_col1 {\n",
       "  background-color: lightgreen;\n",
       "}\n",
       "</style>\n",
       "<table id=\"T_143d5\">\n",
       "  <thead>\n",
       "    <tr>\n",
       "      <th class=\"blank level0\" >&nbsp;</th>\n",
       "      <th id=\"T_143d5_level0_col0\" class=\"col_heading level0 col0\" >Description</th>\n",
       "      <th id=\"T_143d5_level0_col1\" class=\"col_heading level0 col1\" >Value</th>\n",
       "    </tr>\n",
       "  </thead>\n",
       "  <tbody>\n",
       "    <tr>\n",
       "      <th id=\"T_143d5_level0_row0\" class=\"row_heading level0 row0\" >0</th>\n",
       "      <td id=\"T_143d5_row0_col0\" class=\"data row0 col0\" >Session id</td>\n",
       "      <td id=\"T_143d5_row0_col1\" class=\"data row0 col1\" >6833</td>\n",
       "    </tr>\n",
       "    <tr>\n",
       "      <th id=\"T_143d5_level0_row1\" class=\"row_heading level0 row1\" >1</th>\n",
       "      <td id=\"T_143d5_row1_col0\" class=\"data row1 col0\" >Target</td>\n",
       "      <td id=\"T_143d5_row1_col1\" class=\"data row1 col1\" >log_price</td>\n",
       "    </tr>\n",
       "    <tr>\n",
       "      <th id=\"T_143d5_level0_row2\" class=\"row_heading level0 row2\" >2</th>\n",
       "      <td id=\"T_143d5_row2_col0\" class=\"data row2 col0\" >Target type</td>\n",
       "      <td id=\"T_143d5_row2_col1\" class=\"data row2 col1\" >Regression</td>\n",
       "    </tr>\n",
       "    <tr>\n",
       "      <th id=\"T_143d5_level0_row3\" class=\"row_heading level0 row3\" >3</th>\n",
       "      <td id=\"T_143d5_row3_col0\" class=\"data row3 col0\" >Original data shape</td>\n",
       "      <td id=\"T_143d5_row3_col1\" class=\"data row3 col1\" >(4789, 7)</td>\n",
       "    </tr>\n",
       "    <tr>\n",
       "      <th id=\"T_143d5_level0_row4\" class=\"row_heading level0 row4\" >4</th>\n",
       "      <td id=\"T_143d5_row4_col0\" class=\"data row4 col0\" >Transformed data shape</td>\n",
       "      <td id=\"T_143d5_row4_col1\" class=\"data row4 col1\" >(4789, 7)</td>\n",
       "    </tr>\n",
       "    <tr>\n",
       "      <th id=\"T_143d5_level0_row5\" class=\"row_heading level0 row5\" >5</th>\n",
       "      <td id=\"T_143d5_row5_col0\" class=\"data row5 col0\" >Transformed train set shape</td>\n",
       "      <td id=\"T_143d5_row5_col1\" class=\"data row5 col1\" >(3352, 7)</td>\n",
       "    </tr>\n",
       "    <tr>\n",
       "      <th id=\"T_143d5_level0_row6\" class=\"row_heading level0 row6\" >6</th>\n",
       "      <td id=\"T_143d5_row6_col0\" class=\"data row6 col0\" >Transformed test set shape</td>\n",
       "      <td id=\"T_143d5_row6_col1\" class=\"data row6 col1\" >(1437, 7)</td>\n",
       "    </tr>\n",
       "    <tr>\n",
       "      <th id=\"T_143d5_level0_row7\" class=\"row_heading level0 row7\" >7</th>\n",
       "      <td id=\"T_143d5_row7_col0\" class=\"data row7 col0\" >Numeric features</td>\n",
       "      <td id=\"T_143d5_row7_col1\" class=\"data row7 col1\" >4</td>\n",
       "    </tr>\n",
       "    <tr>\n",
       "      <th id=\"T_143d5_level0_row8\" class=\"row_heading level0 row8\" >8</th>\n",
       "      <td id=\"T_143d5_row8_col0\" class=\"data row8 col0\" >Categorical features</td>\n",
       "      <td id=\"T_143d5_row8_col1\" class=\"data row8 col1\" >2</td>\n",
       "    </tr>\n",
       "    <tr>\n",
       "      <th id=\"T_143d5_level0_row9\" class=\"row_heading level0 row9\" >9</th>\n",
       "      <td id=\"T_143d5_row9_col0\" class=\"data row9 col0\" >Preprocess</td>\n",
       "      <td id=\"T_143d5_row9_col1\" class=\"data row9 col1\" >True</td>\n",
       "    </tr>\n",
       "    <tr>\n",
       "      <th id=\"T_143d5_level0_row10\" class=\"row_heading level0 row10\" >10</th>\n",
       "      <td id=\"T_143d5_row10_col0\" class=\"data row10 col0\" >Imputation type</td>\n",
       "      <td id=\"T_143d5_row10_col1\" class=\"data row10 col1\" >simple</td>\n",
       "    </tr>\n",
       "    <tr>\n",
       "      <th id=\"T_143d5_level0_row11\" class=\"row_heading level0 row11\" >11</th>\n",
       "      <td id=\"T_143d5_row11_col0\" class=\"data row11 col0\" >Numeric imputation</td>\n",
       "      <td id=\"T_143d5_row11_col1\" class=\"data row11 col1\" >mean</td>\n",
       "    </tr>\n",
       "    <tr>\n",
       "      <th id=\"T_143d5_level0_row12\" class=\"row_heading level0 row12\" >12</th>\n",
       "      <td id=\"T_143d5_row12_col0\" class=\"data row12 col0\" >Categorical imputation</td>\n",
       "      <td id=\"T_143d5_row12_col1\" class=\"data row12 col1\" >mode</td>\n",
       "    </tr>\n",
       "    <tr>\n",
       "      <th id=\"T_143d5_level0_row13\" class=\"row_heading level0 row13\" >13</th>\n",
       "      <td id=\"T_143d5_row13_col0\" class=\"data row13 col0\" >Maximum one-hot encoding</td>\n",
       "      <td id=\"T_143d5_row13_col1\" class=\"data row13 col1\" >25</td>\n",
       "    </tr>\n",
       "    <tr>\n",
       "      <th id=\"T_143d5_level0_row14\" class=\"row_heading level0 row14\" >14</th>\n",
       "      <td id=\"T_143d5_row14_col0\" class=\"data row14 col0\" >Encoding method</td>\n",
       "      <td id=\"T_143d5_row14_col1\" class=\"data row14 col1\" >None</td>\n",
       "    </tr>\n",
       "    <tr>\n",
       "      <th id=\"T_143d5_level0_row15\" class=\"row_heading level0 row15\" >15</th>\n",
       "      <td id=\"T_143d5_row15_col0\" class=\"data row15 col0\" >Fold Generator</td>\n",
       "      <td id=\"T_143d5_row15_col1\" class=\"data row15 col1\" >TimeSeriesSplit</td>\n",
       "    </tr>\n",
       "    <tr>\n",
       "      <th id=\"T_143d5_level0_row16\" class=\"row_heading level0 row16\" >16</th>\n",
       "      <td id=\"T_143d5_row16_col0\" class=\"data row16 col0\" >Fold Number</td>\n",
       "      <td id=\"T_143d5_row16_col1\" class=\"data row16 col1\" >5</td>\n",
       "    </tr>\n",
       "    <tr>\n",
       "      <th id=\"T_143d5_level0_row17\" class=\"row_heading level0 row17\" >17</th>\n",
       "      <td id=\"T_143d5_row17_col0\" class=\"data row17 col0\" >CPU Jobs</td>\n",
       "      <td id=\"T_143d5_row17_col1\" class=\"data row17 col1\" >-1</td>\n",
       "    </tr>\n",
       "    <tr>\n",
       "      <th id=\"T_143d5_level0_row18\" class=\"row_heading level0 row18\" >18</th>\n",
       "      <td id=\"T_143d5_row18_col0\" class=\"data row18 col0\" >Use GPU</td>\n",
       "      <td id=\"T_143d5_row18_col1\" class=\"data row18 col1\" >False</td>\n",
       "    </tr>\n",
       "    <tr>\n",
       "      <th id=\"T_143d5_level0_row19\" class=\"row_heading level0 row19\" >19</th>\n",
       "      <td id=\"T_143d5_row19_col0\" class=\"data row19 col0\" >Log Experiment</td>\n",
       "      <td id=\"T_143d5_row19_col1\" class=\"data row19 col1\" >False</td>\n",
       "    </tr>\n",
       "    <tr>\n",
       "      <th id=\"T_143d5_level0_row20\" class=\"row_heading level0 row20\" >20</th>\n",
       "      <td id=\"T_143d5_row20_col0\" class=\"data row20 col0\" >Experiment Name</td>\n",
       "      <td id=\"T_143d5_row20_col1\" class=\"data row20 col1\" >reg-default-name</td>\n",
       "    </tr>\n",
       "    <tr>\n",
       "      <th id=\"T_143d5_level0_row21\" class=\"row_heading level0 row21\" >21</th>\n",
       "      <td id=\"T_143d5_row21_col0\" class=\"data row21 col0\" >USI</td>\n",
       "      <td id=\"T_143d5_row21_col1\" class=\"data row21 col1\" >e340</td>\n",
       "    </tr>\n",
       "  </tbody>\n",
       "</table>\n"
      ],
      "text/plain": [
       "<pandas.io.formats.style.Styler at 0x7f80352f00a0>"
      ]
     },
     "metadata": {},
     "output_type": "display_data"
    }
   ],
   "source": [
    "#함수 호출\n",
    "from pycaret.regression import *\n",
    "from sklearn.model_selection import train_test_split\n",
    "\n",
    "# train data를 train set과 validation set으로 나누기 \n",
    "train_data, val_data = train_test_split(train_modeling, test_size=0.2, random_state=42)\n",
    "\n",
    "# PyCaret의 setup 함수를 사용하여 AutoML 적용\n",
    "reg = setup(data=train_data,\n",
    "            target='log_price',\n",
    "            fold_strategy='timeseries',\n",
    "            fold=5)"
   ]
  },
  {
   "cell_type": "markdown",
   "id": "9f93d217",
   "metadata": {},
   "source": [
    "## 모델 비교"
   ]
  },
  {
   "cell_type": "markdown",
   "id": "38385506",
   "metadata": {},
   "source": [
    "모델 비교의 경우 기본적으로 K-Fold CV로 값을 비교하게 된다.(K=10)\n",
    "\n"
   ]
  },
  {
   "cell_type": "code",
   "execution_count": 499,
   "id": "4e63098f",
   "metadata": {
    "ExecuteTime": {
     "end_time": "2023-07-29T18:43:41.185040Z",
     "start_time": "2023-07-29T18:43:14.919113Z"
    },
    "scrolled": true
   },
   "outputs": [
    {
     "data": {
      "text/html": [],
      "text/plain": [
       "<IPython.core.display.HTML object>"
      ]
     },
     "metadata": {},
     "output_type": "display_data"
    },
    {
     "data": {
      "text/html": [
       "<style type=\"text/css\">\n",
       "#T_6469d th {\n",
       "  text-align: left;\n",
       "}\n",
       "#T_6469d_row0_col0, #T_6469d_row1_col0, #T_6469d_row1_col1, #T_6469d_row1_col2, #T_6469d_row1_col3, #T_6469d_row1_col4, #T_6469d_row1_col5, #T_6469d_row1_col6, #T_6469d_row2_col0, #T_6469d_row2_col1, #T_6469d_row2_col2, #T_6469d_row2_col3, #T_6469d_row2_col4, #T_6469d_row2_col5, #T_6469d_row2_col6, #T_6469d_row3_col0, #T_6469d_row3_col1, #T_6469d_row3_col2, #T_6469d_row3_col3, #T_6469d_row3_col4, #T_6469d_row3_col5, #T_6469d_row3_col6, #T_6469d_row4_col0, #T_6469d_row4_col1, #T_6469d_row4_col2, #T_6469d_row4_col3, #T_6469d_row4_col4, #T_6469d_row4_col5, #T_6469d_row4_col6, #T_6469d_row5_col0, #T_6469d_row5_col1, #T_6469d_row5_col2, #T_6469d_row5_col3, #T_6469d_row5_col4, #T_6469d_row5_col5, #T_6469d_row5_col6, #T_6469d_row6_col0, #T_6469d_row6_col1, #T_6469d_row6_col2, #T_6469d_row6_col3, #T_6469d_row6_col4, #T_6469d_row6_col5, #T_6469d_row6_col6, #T_6469d_row7_col0, #T_6469d_row7_col1, #T_6469d_row7_col2, #T_6469d_row7_col3, #T_6469d_row7_col4, #T_6469d_row7_col5, #T_6469d_row7_col6, #T_6469d_row8_col0, #T_6469d_row8_col1, #T_6469d_row8_col2, #T_6469d_row8_col3, #T_6469d_row8_col4, #T_6469d_row8_col5, #T_6469d_row8_col6, #T_6469d_row9_col0, #T_6469d_row9_col1, #T_6469d_row9_col2, #T_6469d_row9_col3, #T_6469d_row9_col4, #T_6469d_row9_col5, #T_6469d_row9_col6, #T_6469d_row10_col0, #T_6469d_row10_col1, #T_6469d_row10_col2, #T_6469d_row10_col3, #T_6469d_row10_col4, #T_6469d_row10_col5, #T_6469d_row10_col6, #T_6469d_row11_col0, #T_6469d_row11_col1, #T_6469d_row11_col2, #T_6469d_row11_col3, #T_6469d_row11_col4, #T_6469d_row11_col5, #T_6469d_row11_col6, #T_6469d_row12_col0, #T_6469d_row12_col1, #T_6469d_row12_col2, #T_6469d_row12_col3, #T_6469d_row12_col4, #T_6469d_row12_col5, #T_6469d_row12_col6, #T_6469d_row13_col0, #T_6469d_row13_col1, #T_6469d_row13_col2, #T_6469d_row13_col3, #T_6469d_row13_col4, #T_6469d_row13_col5, #T_6469d_row13_col6, #T_6469d_row14_col0, #T_6469d_row14_col1, #T_6469d_row14_col2, #T_6469d_row14_col3, #T_6469d_row14_col4, #T_6469d_row14_col5, #T_6469d_row14_col6, #T_6469d_row15_col0, #T_6469d_row15_col1, #T_6469d_row15_col2, #T_6469d_row15_col3, #T_6469d_row15_col4, #T_6469d_row15_col5, #T_6469d_row15_col6, #T_6469d_row16_col0, #T_6469d_row16_col1, #T_6469d_row16_col2, #T_6469d_row16_col3, #T_6469d_row16_col4, #T_6469d_row16_col5, #T_6469d_row16_col6, #T_6469d_row17_col0, #T_6469d_row17_col1, #T_6469d_row17_col2, #T_6469d_row17_col3, #T_6469d_row17_col4, #T_6469d_row17_col5, #T_6469d_row17_col6 {\n",
       "  text-align: left;\n",
       "}\n",
       "#T_6469d_row0_col1, #T_6469d_row0_col2, #T_6469d_row0_col3, #T_6469d_row0_col4, #T_6469d_row0_col5, #T_6469d_row0_col6 {\n",
       "  text-align: left;\n",
       "  background-color: yellow;\n",
       "}\n",
       "#T_6469d_row0_col7, #T_6469d_row6_col7, #T_6469d_row9_col7 {\n",
       "  text-align: left;\n",
       "  background-color: yellow;\n",
       "  background-color: lightgrey;\n",
       "}\n",
       "#T_6469d_row1_col7, #T_6469d_row2_col7, #T_6469d_row3_col7, #T_6469d_row4_col7, #T_6469d_row5_col7, #T_6469d_row7_col7, #T_6469d_row8_col7, #T_6469d_row10_col7, #T_6469d_row11_col7, #T_6469d_row12_col7, #T_6469d_row13_col7, #T_6469d_row14_col7, #T_6469d_row15_col7, #T_6469d_row16_col7, #T_6469d_row17_col7 {\n",
       "  text-align: left;\n",
       "  background-color: lightgrey;\n",
       "}\n",
       "</style>\n",
       "<table id=\"T_6469d\">\n",
       "  <thead>\n",
       "    <tr>\n",
       "      <th class=\"blank level0\" >&nbsp;</th>\n",
       "      <th id=\"T_6469d_level0_col0\" class=\"col_heading level0 col0\" >Model</th>\n",
       "      <th id=\"T_6469d_level0_col1\" class=\"col_heading level0 col1\" >MAE</th>\n",
       "      <th id=\"T_6469d_level0_col2\" class=\"col_heading level0 col2\" >MSE</th>\n",
       "      <th id=\"T_6469d_level0_col3\" class=\"col_heading level0 col3\" >RMSE</th>\n",
       "      <th id=\"T_6469d_level0_col4\" class=\"col_heading level0 col4\" >R2</th>\n",
       "      <th id=\"T_6469d_level0_col5\" class=\"col_heading level0 col5\" >RMSLE</th>\n",
       "      <th id=\"T_6469d_level0_col6\" class=\"col_heading level0 col6\" >MAPE</th>\n",
       "      <th id=\"T_6469d_level0_col7\" class=\"col_heading level0 col7\" >TT (Sec)</th>\n",
       "    </tr>\n",
       "  </thead>\n",
       "  <tbody>\n",
       "    <tr>\n",
       "      <th id=\"T_6469d_level0_row0\" class=\"row_heading level0 row0\" >par</th>\n",
       "      <td id=\"T_6469d_row0_col0\" class=\"data row0 col0\" >Passive Aggressive Regressor</td>\n",
       "      <td id=\"T_6469d_row0_col1\" class=\"data row0 col1\" >0.2474</td>\n",
       "      <td id=\"T_6469d_row0_col2\" class=\"data row0 col2\" >0.1098</td>\n",
       "      <td id=\"T_6469d_row0_col3\" class=\"data row0 col3\" >0.3284</td>\n",
       "      <td id=\"T_6469d_row0_col4\" class=\"data row0 col4\" >0.6768</td>\n",
       "      <td id=\"T_6469d_row0_col5\" class=\"data row0 col5\" >0.0260</td>\n",
       "      <td id=\"T_6469d_row0_col6\" class=\"data row0 col6\" >0.0211</td>\n",
       "      <td id=\"T_6469d_row0_col7\" class=\"data row0 col7\" >0.0280</td>\n",
       "    </tr>\n",
       "    <tr>\n",
       "      <th id=\"T_6469d_level0_row1\" class=\"row_heading level0 row1\" >knn</th>\n",
       "      <td id=\"T_6469d_row1_col0\" class=\"data row1 col0\" >K Neighbors Regressor</td>\n",
       "      <td id=\"T_6469d_row1_col1\" class=\"data row1 col1\" >0.2688</td>\n",
       "      <td id=\"T_6469d_row1_col2\" class=\"data row1 col2\" >0.1877</td>\n",
       "      <td id=\"T_6469d_row1_col3\" class=\"data row1 col3\" >0.4312</td>\n",
       "      <td id=\"T_6469d_row1_col4\" class=\"data row1 col4\" >0.4484</td>\n",
       "      <td id=\"T_6469d_row1_col5\" class=\"data row1 col5\" >0.0345</td>\n",
       "      <td id=\"T_6469d_row1_col6\" class=\"data row1 col6\" >0.0231</td>\n",
       "      <td id=\"T_6469d_row1_col7\" class=\"data row1 col7\" >0.0300</td>\n",
       "    </tr>\n",
       "    <tr>\n",
       "      <th id=\"T_6469d_level0_row2\" class=\"row_heading level0 row2\" >ridge</th>\n",
       "      <td id=\"T_6469d_row2_col0\" class=\"data row2 col0\" >Ridge Regression</td>\n",
       "      <td id=\"T_6469d_row2_col1\" class=\"data row2 col1\" >0.3137</td>\n",
       "      <td id=\"T_6469d_row2_col2\" class=\"data row2 col2\" >0.1683</td>\n",
       "      <td id=\"T_6469d_row2_col3\" class=\"data row2 col3\" >0.4072</td>\n",
       "      <td id=\"T_6469d_row2_col4\" class=\"data row2 col4\" >0.4993</td>\n",
       "      <td id=\"T_6469d_row2_col5\" class=\"data row2 col5\" >0.0326</td>\n",
       "      <td id=\"T_6469d_row2_col6\" class=\"data row2 col6\" >0.0270</td>\n",
       "      <td id=\"T_6469d_row2_col7\" class=\"data row2 col7\" >0.0320</td>\n",
       "    </tr>\n",
       "    <tr>\n",
       "      <th id=\"T_6469d_level0_row3\" class=\"row_heading level0 row3\" >en</th>\n",
       "      <td id=\"T_6469d_row3_col0\" class=\"data row3 col0\" >Elastic Net</td>\n",
       "      <td id=\"T_6469d_row3_col1\" class=\"data row3 col1\" >0.3712</td>\n",
       "      <td id=\"T_6469d_row3_col2\" class=\"data row3 col2\" >0.2719</td>\n",
       "      <td id=\"T_6469d_row3_col3\" class=\"data row3 col3\" >0.5210</td>\n",
       "      <td id=\"T_6469d_row3_col4\" class=\"data row3 col4\" >0.1963</td>\n",
       "      <td id=\"T_6469d_row3_col5\" class=\"data row3 col5\" >0.0418</td>\n",
       "      <td id=\"T_6469d_row3_col6\" class=\"data row3 col6\" >0.0322</td>\n",
       "      <td id=\"T_6469d_row3_col7\" class=\"data row3 col7\" >0.0300</td>\n",
       "    </tr>\n",
       "    <tr>\n",
       "      <th id=\"T_6469d_level0_row4\" class=\"row_heading level0 row4\" >lasso</th>\n",
       "      <td id=\"T_6469d_row4_col0\" class=\"data row4 col0\" >Lasso Regression</td>\n",
       "      <td id=\"T_6469d_row4_col1\" class=\"data row4 col1\" >0.3740</td>\n",
       "      <td id=\"T_6469d_row4_col2\" class=\"data row4 col2\" >0.2767</td>\n",
       "      <td id=\"T_6469d_row4_col3\" class=\"data row4 col3\" >0.5255</td>\n",
       "      <td id=\"T_6469d_row4_col4\" class=\"data row4 col4\" >0.1827</td>\n",
       "      <td id=\"T_6469d_row4_col5\" class=\"data row4 col5\" >0.0422</td>\n",
       "      <td id=\"T_6469d_row4_col6\" class=\"data row4 col6\" >0.0324</td>\n",
       "      <td id=\"T_6469d_row4_col7\" class=\"data row4 col7\" >0.3880</td>\n",
       "    </tr>\n",
       "    <tr>\n",
       "      <th id=\"T_6469d_level0_row5\" class=\"row_heading level0 row5\" >et</th>\n",
       "      <td id=\"T_6469d_row5_col0\" class=\"data row5 col0\" >Extra Trees Regressor</td>\n",
       "      <td id=\"T_6469d_row5_col1\" class=\"data row5 col1\" >0.4310</td>\n",
       "      <td id=\"T_6469d_row5_col2\" class=\"data row5 col2\" >0.2903</td>\n",
       "      <td id=\"T_6469d_row5_col3\" class=\"data row5 col3\" >0.5386</td>\n",
       "      <td id=\"T_6469d_row5_col4\" class=\"data row5 col4\" >0.1400</td>\n",
       "      <td id=\"T_6469d_row5_col5\" class=\"data row5 col5\" >0.0428</td>\n",
       "      <td id=\"T_6469d_row5_col6\" class=\"data row5 col6\" >0.0369</td>\n",
       "      <td id=\"T_6469d_row5_col7\" class=\"data row5 col7\" >0.0900</td>\n",
       "    </tr>\n",
       "    <tr>\n",
       "      <th id=\"T_6469d_level0_row6\" class=\"row_heading level0 row6\" >omp</th>\n",
       "      <td id=\"T_6469d_row6_col0\" class=\"data row6 col0\" >Orthogonal Matching Pursuit</td>\n",
       "      <td id=\"T_6469d_row6_col1\" class=\"data row6 col1\" >0.4505</td>\n",
       "      <td id=\"T_6469d_row6_col2\" class=\"data row6 col2\" >0.3396</td>\n",
       "      <td id=\"T_6469d_row6_col3\" class=\"data row6 col3\" >0.5823</td>\n",
       "      <td id=\"T_6469d_row6_col4\" class=\"data row6 col4\" >-0.0040</td>\n",
       "      <td id=\"T_6469d_row6_col5\" class=\"data row6 col5\" >0.0464</td>\n",
       "      <td id=\"T_6469d_row6_col6\" class=\"data row6 col6\" >0.0388</td>\n",
       "      <td id=\"T_6469d_row6_col7\" class=\"data row6 col7\" >0.0280</td>\n",
       "    </tr>\n",
       "    <tr>\n",
       "      <th id=\"T_6469d_level0_row7\" class=\"row_heading level0 row7\" >lr</th>\n",
       "      <td id=\"T_6469d_row7_col0\" class=\"data row7 col0\" >Linear Regression</td>\n",
       "      <td id=\"T_6469d_row7_col1\" class=\"data row7 col1\" >0.4505</td>\n",
       "      <td id=\"T_6469d_row7_col2\" class=\"data row7 col2\" >0.3396</td>\n",
       "      <td id=\"T_6469d_row7_col3\" class=\"data row7 col3\" >0.5823</td>\n",
       "      <td id=\"T_6469d_row7_col4\" class=\"data row7 col4\" >-0.0040</td>\n",
       "      <td id=\"T_6469d_row7_col5\" class=\"data row7 col5\" >0.0464</td>\n",
       "      <td id=\"T_6469d_row7_col6\" class=\"data row7 col6\" >0.0388</td>\n",
       "      <td id=\"T_6469d_row7_col7\" class=\"data row7 col7\" >0.8920</td>\n",
       "    </tr>\n",
       "    <tr>\n",
       "      <th id=\"T_6469d_level0_row8\" class=\"row_heading level0 row8\" >lar</th>\n",
       "      <td id=\"T_6469d_row8_col0\" class=\"data row8 col0\" >Least Angle Regression</td>\n",
       "      <td id=\"T_6469d_row8_col1\" class=\"data row8 col1\" >0.4505</td>\n",
       "      <td id=\"T_6469d_row8_col2\" class=\"data row8 col2\" >0.3396</td>\n",
       "      <td id=\"T_6469d_row8_col3\" class=\"data row8 col3\" >0.5823</td>\n",
       "      <td id=\"T_6469d_row8_col4\" class=\"data row8 col4\" >-0.0040</td>\n",
       "      <td id=\"T_6469d_row8_col5\" class=\"data row8 col5\" >0.0464</td>\n",
       "      <td id=\"T_6469d_row8_col6\" class=\"data row8 col6\" >0.0388</td>\n",
       "      <td id=\"T_6469d_row8_col7\" class=\"data row8 col7\" >0.4020</td>\n",
       "    </tr>\n",
       "    <tr>\n",
       "      <th id=\"T_6469d_level0_row9\" class=\"row_heading level0 row9\" >br</th>\n",
       "      <td id=\"T_6469d_row9_col0\" class=\"data row9 col0\" >Bayesian Ridge</td>\n",
       "      <td id=\"T_6469d_row9_col1\" class=\"data row9 col1\" >0.4505</td>\n",
       "      <td id=\"T_6469d_row9_col2\" class=\"data row9 col2\" >0.3396</td>\n",
       "      <td id=\"T_6469d_row9_col3\" class=\"data row9 col3\" >0.5823</td>\n",
       "      <td id=\"T_6469d_row9_col4\" class=\"data row9 col4\" >-0.0040</td>\n",
       "      <td id=\"T_6469d_row9_col5\" class=\"data row9 col5\" >0.0464</td>\n",
       "      <td id=\"T_6469d_row9_col6\" class=\"data row9 col6\" >0.0388</td>\n",
       "      <td id=\"T_6469d_row9_col7\" class=\"data row9 col7\" >0.0280</td>\n",
       "    </tr>\n",
       "    <tr>\n",
       "      <th id=\"T_6469d_level0_row10\" class=\"row_heading level0 row10\" >huber</th>\n",
       "      <td id=\"T_6469d_row10_col0\" class=\"data row10 col0\" >Huber Regressor</td>\n",
       "      <td id=\"T_6469d_row10_col1\" class=\"data row10 col1\" >0.4505</td>\n",
       "      <td id=\"T_6469d_row10_col2\" class=\"data row10 col2\" >0.3396</td>\n",
       "      <td id=\"T_6469d_row10_col3\" class=\"data row10 col3\" >0.5824</td>\n",
       "      <td id=\"T_6469d_row10_col4\" class=\"data row10 col4\" >-0.0041</td>\n",
       "      <td id=\"T_6469d_row10_col5\" class=\"data row10 col5\" >0.0464</td>\n",
       "      <td id=\"T_6469d_row10_col6\" class=\"data row10 col6\" >0.0388</td>\n",
       "      <td id=\"T_6469d_row10_col7\" class=\"data row10 col7\" >0.0320</td>\n",
       "    </tr>\n",
       "    <tr>\n",
       "      <th id=\"T_6469d_level0_row11\" class=\"row_heading level0 row11\" >gbr</th>\n",
       "      <td id=\"T_6469d_row11_col0\" class=\"data row11 col0\" >Gradient Boosting Regressor</td>\n",
       "      <td id=\"T_6469d_row11_col1\" class=\"data row11 col1\" >0.4505</td>\n",
       "      <td id=\"T_6469d_row11_col2\" class=\"data row11 col2\" >0.3393</td>\n",
       "      <td id=\"T_6469d_row11_col3\" class=\"data row11 col3\" >0.5821</td>\n",
       "      <td id=\"T_6469d_row11_col4\" class=\"data row11 col4\" >-0.0032</td>\n",
       "      <td id=\"T_6469d_row11_col5\" class=\"data row11 col5\" >0.0464</td>\n",
       "      <td id=\"T_6469d_row11_col6\" class=\"data row11 col6\" >0.0388</td>\n",
       "      <td id=\"T_6469d_row11_col7\" class=\"data row11 col7\" >0.0760</td>\n",
       "    </tr>\n",
       "    <tr>\n",
       "      <th id=\"T_6469d_level0_row12\" class=\"row_heading level0 row12\" >llar</th>\n",
       "      <td id=\"T_6469d_row12_col0\" class=\"data row12 col0\" >Lasso Least Angle Regression</td>\n",
       "      <td id=\"T_6469d_row12_col1\" class=\"data row12 col1\" >0.4505</td>\n",
       "      <td id=\"T_6469d_row12_col2\" class=\"data row12 col2\" >0.3396</td>\n",
       "      <td id=\"T_6469d_row12_col3\" class=\"data row12 col3\" >0.5823</td>\n",
       "      <td id=\"T_6469d_row12_col4\" class=\"data row12 col4\" >-0.0040</td>\n",
       "      <td id=\"T_6469d_row12_col5\" class=\"data row12 col5\" >0.0464</td>\n",
       "      <td id=\"T_6469d_row12_col6\" class=\"data row12 col6\" >0.0388</td>\n",
       "      <td id=\"T_6469d_row12_col7\" class=\"data row12 col7\" >0.0300</td>\n",
       "    </tr>\n",
       "    <tr>\n",
       "      <th id=\"T_6469d_level0_row13\" class=\"row_heading level0 row13\" >dummy</th>\n",
       "      <td id=\"T_6469d_row13_col0\" class=\"data row13 col0\" >Dummy Regressor</td>\n",
       "      <td id=\"T_6469d_row13_col1\" class=\"data row13 col1\" >0.4505</td>\n",
       "      <td id=\"T_6469d_row13_col2\" class=\"data row13 col2\" >0.3396</td>\n",
       "      <td id=\"T_6469d_row13_col3\" class=\"data row13 col3\" >0.5823</td>\n",
       "      <td id=\"T_6469d_row13_col4\" class=\"data row13 col4\" >-0.0040</td>\n",
       "      <td id=\"T_6469d_row13_col5\" class=\"data row13 col5\" >0.0464</td>\n",
       "      <td id=\"T_6469d_row13_col6\" class=\"data row13 col6\" >0.0388</td>\n",
       "      <td id=\"T_6469d_row13_col7\" class=\"data row13 col7\" >0.7280</td>\n",
       "    </tr>\n",
       "    <tr>\n",
       "      <th id=\"T_6469d_level0_row14\" class=\"row_heading level0 row14\" >dt</th>\n",
       "      <td id=\"T_6469d_row14_col0\" class=\"data row14 col0\" >Decision Tree Regressor</td>\n",
       "      <td id=\"T_6469d_row14_col1\" class=\"data row14 col1\" >0.4506</td>\n",
       "      <td id=\"T_6469d_row14_col2\" class=\"data row14 col2\" >0.3396</td>\n",
       "      <td id=\"T_6469d_row14_col3\" class=\"data row14 col3\" >0.5824</td>\n",
       "      <td id=\"T_6469d_row14_col4\" class=\"data row14 col4\" >-0.0041</td>\n",
       "      <td id=\"T_6469d_row14_col5\" class=\"data row14 col5\" >0.0464</td>\n",
       "      <td id=\"T_6469d_row14_col6\" class=\"data row14 col6\" >0.0388</td>\n",
       "      <td id=\"T_6469d_row14_col7\" class=\"data row14 col7\" >0.0300</td>\n",
       "    </tr>\n",
       "    <tr>\n",
       "      <th id=\"T_6469d_level0_row15\" class=\"row_heading level0 row15\" >rf</th>\n",
       "      <td id=\"T_6469d_row15_col0\" class=\"data row15 col0\" >Random Forest Regressor</td>\n",
       "      <td id=\"T_6469d_row15_col1\" class=\"data row15 col1\" >0.4506</td>\n",
       "      <td id=\"T_6469d_row15_col2\" class=\"data row15 col2\" >0.3396</td>\n",
       "      <td id=\"T_6469d_row15_col3\" class=\"data row15 col3\" >0.5824</td>\n",
       "      <td id=\"T_6469d_row15_col4\" class=\"data row15 col4\" >-0.0041</td>\n",
       "      <td id=\"T_6469d_row15_col5\" class=\"data row15 col5\" >0.0464</td>\n",
       "      <td id=\"T_6469d_row15_col6\" class=\"data row15 col6\" >0.0388</td>\n",
       "      <td id=\"T_6469d_row15_col7\" class=\"data row15 col7\" >0.0980</td>\n",
       "    </tr>\n",
       "    <tr>\n",
       "      <th id=\"T_6469d_level0_row16\" class=\"row_heading level0 row16\" >xgboost</th>\n",
       "      <td id=\"T_6469d_row16_col0\" class=\"data row16 col0\" >Extreme Gradient Boosting</td>\n",
       "      <td id=\"T_6469d_row16_col1\" class=\"data row16 col1\" >0.4508</td>\n",
       "      <td id=\"T_6469d_row16_col2\" class=\"data row16 col2\" >0.3393</td>\n",
       "      <td id=\"T_6469d_row16_col3\" class=\"data row16 col3\" >0.5822</td>\n",
       "      <td id=\"T_6469d_row16_col4\" class=\"data row16 col4\" >-0.0035</td>\n",
       "      <td id=\"T_6469d_row16_col5\" class=\"data row16 col5\" >0.0464</td>\n",
       "      <td id=\"T_6469d_row16_col6\" class=\"data row16 col6\" >0.0388</td>\n",
       "      <td id=\"T_6469d_row16_col7\" class=\"data row16 col7\" >0.0680</td>\n",
       "    </tr>\n",
       "    <tr>\n",
       "      <th id=\"T_6469d_level0_row17\" class=\"row_heading level0 row17\" >ada</th>\n",
       "      <td id=\"T_6469d_row17_col0\" class=\"data row17 col0\" >AdaBoost Regressor</td>\n",
       "      <td id=\"T_6469d_row17_col1\" class=\"data row17 col1\" >0.4539</td>\n",
       "      <td id=\"T_6469d_row17_col2\" class=\"data row17 col2\" >0.3410</td>\n",
       "      <td id=\"T_6469d_row17_col3\" class=\"data row17 col3\" >0.5836</td>\n",
       "      <td id=\"T_6469d_row17_col4\" class=\"data row17 col4\" >-0.0086</td>\n",
       "      <td id=\"T_6469d_row17_col5\" class=\"data row17 col5\" >0.0465</td>\n",
       "      <td id=\"T_6469d_row17_col6\" class=\"data row17 col6\" >0.0390</td>\n",
       "      <td id=\"T_6469d_row17_col7\" class=\"data row17 col7\" >0.0520</td>\n",
       "    </tr>\n",
       "  </tbody>\n",
       "</table>\n"
      ],
      "text/plain": [
       "<pandas.io.formats.style.Styler at 0x7f803503e8b0>"
      ]
     },
     "metadata": {},
     "output_type": "display_data"
    },
    {
     "data": {
      "application/vnd.jupyter.widget-view+json": {
       "model_id": "",
       "version_major": 2,
       "version_minor": 0
      },
      "text/plain": [
       "Processing:   0%|          | 0/81 [00:00<?, ?it/s]"
      ]
     },
     "metadata": {},
     "output_type": "display_data"
    }
   ],
   "source": [
    "best = compare_models(sort = 'MAE')"
   ]
  },
  {
   "cell_type": "markdown",
   "id": "02a51714",
   "metadata": {},
   "source": [
    "par 모델이 제일 성능이 좋았다. par을 포함하여 상위 3개의 모델을 생성해 활용한다"
   ]
  },
  {
   "cell_type": "markdown",
   "id": "9751b9ad",
   "metadata": {},
   "source": [
    "## 모델 생성"
   ]
  },
  {
   "cell_type": "code",
   "execution_count": 501,
   "id": "94d53c2d",
   "metadata": {
    "ExecuteTime": {
     "end_time": "2023-07-29T18:43:53.094694Z",
     "start_time": "2023-07-29T18:43:50.534074Z"
    }
   },
   "outputs": [
    {
     "data": {
      "text/html": [],
      "text/plain": [
       "<IPython.core.display.HTML object>"
      ]
     },
     "metadata": {},
     "output_type": "display_data"
    },
    {
     "data": {
      "text/html": [
       "<style type=\"text/css\">\n",
       "</style>\n",
       "<table id=\"T_1528e\">\n",
       "  <thead>\n",
       "    <tr>\n",
       "      <th class=\"blank level0\" >&nbsp;</th>\n",
       "      <th id=\"T_1528e_level0_col0\" class=\"col_heading level0 col0\" >MAE</th>\n",
       "      <th id=\"T_1528e_level0_col1\" class=\"col_heading level0 col1\" >MSE</th>\n",
       "      <th id=\"T_1528e_level0_col2\" class=\"col_heading level0 col2\" >RMSE</th>\n",
       "      <th id=\"T_1528e_level0_col3\" class=\"col_heading level0 col3\" >R2</th>\n",
       "      <th id=\"T_1528e_level0_col4\" class=\"col_heading level0 col4\" >RMSLE</th>\n",
       "      <th id=\"T_1528e_level0_col5\" class=\"col_heading level0 col5\" >MAPE</th>\n",
       "    </tr>\n",
       "  </thead>\n",
       "  <tbody>\n",
       "    <tr>\n",
       "      <th id=\"T_1528e_level0_row0\" class=\"row_heading level0 row0\" >Test</th>\n",
       "      <td id=\"T_1528e_row0_col0\" class=\"data row0 col0\" >0.1889</td>\n",
       "      <td id=\"T_1528e_row0_col1\" class=\"data row0 col1\" >0.0775</td>\n",
       "      <td id=\"T_1528e_row0_col2\" class=\"data row0 col2\" >0.2784</td>\n",
       "      <td id=\"T_1528e_row0_col3\" class=\"data row0 col3\" >0.7622</td>\n",
       "      <td id=\"T_1528e_row0_col4\" class=\"data row0 col4\" >0.0223</td>\n",
       "      <td id=\"T_1528e_row0_col5\" class=\"data row0 col5\" >0.0163</td>\n",
       "    </tr>\n",
       "  </tbody>\n",
       "</table>\n"
      ],
      "text/plain": [
       "<pandas.io.formats.style.Styler at 0x7f8002f1ab20>"
      ]
     },
     "metadata": {},
     "output_type": "display_data"
    },
    {
     "data": {
      "application/vnd.jupyter.widget-view+json": {
       "model_id": "",
       "version_major": 2,
       "version_minor": 0
      },
      "text/plain": [
       "Processing:   0%|          | 0/4 [00:00<?, ?it/s]"
      ]
     },
     "metadata": {},
     "output_type": "display_data"
    },
    {
     "data": {
      "text/html": [],
      "text/plain": [
       "<IPython.core.display.HTML object>"
      ]
     },
     "metadata": {},
     "output_type": "display_data"
    },
    {
     "data": {
      "text/html": [
       "<style type=\"text/css\">\n",
       "</style>\n",
       "<table id=\"T_d209a\">\n",
       "  <thead>\n",
       "    <tr>\n",
       "      <th class=\"blank level0\" >&nbsp;</th>\n",
       "      <th id=\"T_d209a_level0_col0\" class=\"col_heading level0 col0\" >MAE</th>\n",
       "      <th id=\"T_d209a_level0_col1\" class=\"col_heading level0 col1\" >MSE</th>\n",
       "      <th id=\"T_d209a_level0_col2\" class=\"col_heading level0 col2\" >RMSE</th>\n",
       "      <th id=\"T_d209a_level0_col3\" class=\"col_heading level0 col3\" >R2</th>\n",
       "      <th id=\"T_d209a_level0_col4\" class=\"col_heading level0 col4\" >RMSLE</th>\n",
       "      <th id=\"T_d209a_level0_col5\" class=\"col_heading level0 col5\" >MAPE</th>\n",
       "    </tr>\n",
       "  </thead>\n",
       "  <tbody>\n",
       "    <tr>\n",
       "      <th id=\"T_d209a_level0_row0\" class=\"row_heading level0 row0\" >Test</th>\n",
       "      <td id=\"T_d209a_row0_col0\" class=\"data row0 col0\" >0.2304</td>\n",
       "      <td id=\"T_d209a_row0_col1\" class=\"data row0 col1\" >0.1389</td>\n",
       "      <td id=\"T_d209a_row0_col2\" class=\"data row0 col2\" >0.3726</td>\n",
       "      <td id=\"T_d209a_row0_col3\" class=\"data row0 col3\" >0.5740</td>\n",
       "      <td id=\"T_d209a_row0_col4\" class=\"data row0 col4\" >0.0298</td>\n",
       "      <td id=\"T_d209a_row0_col5\" class=\"data row0 col5\" >0.0199</td>\n",
       "    </tr>\n",
       "  </tbody>\n",
       "</table>\n"
      ],
      "text/plain": [
       "<pandas.io.formats.style.Styler at 0x7f8036e96520>"
      ]
     },
     "metadata": {},
     "output_type": "display_data"
    },
    {
     "data": {
      "application/vnd.jupyter.widget-view+json": {
       "model_id": "",
       "version_major": 2,
       "version_minor": 0
      },
      "text/plain": [
       "Processing:   0%|          | 0/4 [00:00<?, ?it/s]"
      ]
     },
     "metadata": {},
     "output_type": "display_data"
    },
    {
     "data": {
      "text/html": [],
      "text/plain": [
       "<IPython.core.display.HTML object>"
      ]
     },
     "metadata": {},
     "output_type": "display_data"
    },
    {
     "data": {
      "text/html": [
       "<style type=\"text/css\">\n",
       "</style>\n",
       "<table id=\"T_25bcf\">\n",
       "  <thead>\n",
       "    <tr>\n",
       "      <th class=\"blank level0\" >&nbsp;</th>\n",
       "      <th id=\"T_25bcf_level0_col0\" class=\"col_heading level0 col0\" >MAE</th>\n",
       "      <th id=\"T_25bcf_level0_col1\" class=\"col_heading level0 col1\" >MSE</th>\n",
       "      <th id=\"T_25bcf_level0_col2\" class=\"col_heading level0 col2\" >RMSE</th>\n",
       "      <th id=\"T_25bcf_level0_col3\" class=\"col_heading level0 col3\" >R2</th>\n",
       "      <th id=\"T_25bcf_level0_col4\" class=\"col_heading level0 col4\" >RMSLE</th>\n",
       "      <th id=\"T_25bcf_level0_col5\" class=\"col_heading level0 col5\" >MAPE</th>\n",
       "    </tr>\n",
       "  </thead>\n",
       "  <tbody>\n",
       "    <tr>\n",
       "      <th id=\"T_25bcf_level0_row0\" class=\"row_heading level0 row0\" >Test</th>\n",
       "      <td id=\"T_25bcf_row0_col0\" class=\"data row0 col0\" >0.3628</td>\n",
       "      <td id=\"T_25bcf_row0_col1\" class=\"data row0 col1\" >0.2234</td>\n",
       "      <td id=\"T_25bcf_row0_col2\" class=\"data row0 col2\" >0.4727</td>\n",
       "      <td id=\"T_25bcf_row0_col3\" class=\"data row0 col3\" >0.3144</td>\n",
       "      <td id=\"T_25bcf_row0_col4\" class=\"data row0 col4\" >0.0378</td>\n",
       "      <td id=\"T_25bcf_row0_col5\" class=\"data row0 col5\" >0.0313</td>\n",
       "    </tr>\n",
       "  </tbody>\n",
       "</table>\n"
      ],
      "text/plain": [
       "<pandas.io.formats.style.Styler at 0x7f80038e2f40>"
      ]
     },
     "metadata": {},
     "output_type": "display_data"
    },
    {
     "data": {
      "application/vnd.jupyter.widget-view+json": {
       "model_id": "",
       "version_major": 2,
       "version_minor": 0
      },
      "text/plain": [
       "Processing:   0%|          | 0/4 [00:00<?, ?it/s]"
      ]
     },
     "metadata": {},
     "output_type": "display_data"
    }
   ],
   "source": [
    "par = create_model('par', cross_validation=False)\n",
    "knn = create_model('knn', cross_validation=False)\n",
    "ridge = create_model('ridge', cross_validation=False)"
   ]
  },
  {
   "cell_type": "markdown",
   "id": "a7d661f9",
   "metadata": {},
   "source": [
    "## 하이퍼 파라미터 튜닝"
   ]
  },
  {
   "cell_type": "markdown",
   "id": "de8892eb",
   "metadata": {},
   "source": [
    "모델 튜닝에는 기본적으로 K-Fold CV를 바탕으로 진행되며 최적화는 과업에 맞게 'MAE'를 선택해 진행했다.\n",
    "튜닝 방법은 일반적으로 Random Grid를 iter(default=10)만큼 최적화 시킨다.(해당 방법 외 custom grid 파라미터를 추가하여 튜닝을 진행할 수 있다.)"
   ]
  },
  {
   "cell_type": "code",
   "execution_count": 520,
   "id": "24770e48",
   "metadata": {
    "ExecuteTime": {
     "end_time": "2023-07-29T18:52:24.187177Z",
     "start_time": "2023-07-29T18:52:14.549578Z"
    },
    "scrolled": true
   },
   "outputs": [
    {
     "data": {
      "text/html": [],
      "text/plain": [
       "<IPython.core.display.HTML object>"
      ]
     },
     "metadata": {},
     "output_type": "display_data"
    },
    {
     "data": {
      "text/html": [
       "<style type=\"text/css\">\n",
       "#T_fdda3_row5_col0, #T_fdda3_row5_col1, #T_fdda3_row5_col2, #T_fdda3_row5_col3, #T_fdda3_row5_col4, #T_fdda3_row5_col5 {\n",
       "  background: yellow;\n",
       "}\n",
       "</style>\n",
       "<table id=\"T_fdda3\">\n",
       "  <thead>\n",
       "    <tr>\n",
       "      <th class=\"blank level0\" >&nbsp;</th>\n",
       "      <th id=\"T_fdda3_level0_col0\" class=\"col_heading level0 col0\" >MAE</th>\n",
       "      <th id=\"T_fdda3_level0_col1\" class=\"col_heading level0 col1\" >MSE</th>\n",
       "      <th id=\"T_fdda3_level0_col2\" class=\"col_heading level0 col2\" >RMSE</th>\n",
       "      <th id=\"T_fdda3_level0_col3\" class=\"col_heading level0 col3\" >R2</th>\n",
       "      <th id=\"T_fdda3_level0_col4\" class=\"col_heading level0 col4\" >RMSLE</th>\n",
       "      <th id=\"T_fdda3_level0_col5\" class=\"col_heading level0 col5\" >MAPE</th>\n",
       "    </tr>\n",
       "    <tr>\n",
       "      <th class=\"index_name level0\" >Fold</th>\n",
       "      <th class=\"blank col0\" >&nbsp;</th>\n",
       "      <th class=\"blank col1\" >&nbsp;</th>\n",
       "      <th class=\"blank col2\" >&nbsp;</th>\n",
       "      <th class=\"blank col3\" >&nbsp;</th>\n",
       "      <th class=\"blank col4\" >&nbsp;</th>\n",
       "      <th class=\"blank col5\" >&nbsp;</th>\n",
       "    </tr>\n",
       "  </thead>\n",
       "  <tbody>\n",
       "    <tr>\n",
       "      <th id=\"T_fdda3_level0_row0\" class=\"row_heading level0 row0\" >0</th>\n",
       "      <td id=\"T_fdda3_row0_col0\" class=\"data row0 col0\" >0.2815</td>\n",
       "      <td id=\"T_fdda3_row0_col1\" class=\"data row0 col1\" >0.1807</td>\n",
       "      <td id=\"T_fdda3_row0_col2\" class=\"data row0 col2\" >0.4251</td>\n",
       "      <td id=\"T_fdda3_row0_col3\" class=\"data row0 col3\" >0.4889</td>\n",
       "      <td id=\"T_fdda3_row0_col4\" class=\"data row0 col4\" >0.0345</td>\n",
       "      <td id=\"T_fdda3_row0_col5\" class=\"data row0 col5\" >0.0248</td>\n",
       "    </tr>\n",
       "    <tr>\n",
       "      <th id=\"T_fdda3_level0_row1\" class=\"row_heading level0 row1\" >1</th>\n",
       "      <td id=\"T_fdda3_row1_col0\" class=\"data row1 col0\" >0.2518</td>\n",
       "      <td id=\"T_fdda3_row1_col1\" class=\"data row1 col1\" >0.1299</td>\n",
       "      <td id=\"T_fdda3_row1_col2\" class=\"data row1 col2\" >0.3604</td>\n",
       "      <td id=\"T_fdda3_row1_col3\" class=\"data row1 col3\" >0.5977</td>\n",
       "      <td id=\"T_fdda3_row1_col4\" class=\"data row1 col4\" >0.0290</td>\n",
       "      <td id=\"T_fdda3_row1_col5\" class=\"data row1 col5\" >0.0218</td>\n",
       "    </tr>\n",
       "    <tr>\n",
       "      <th id=\"T_fdda3_level0_row2\" class=\"row_heading level0 row2\" >2</th>\n",
       "      <td id=\"T_fdda3_row2_col0\" class=\"data row2 col0\" >0.3483</td>\n",
       "      <td id=\"T_fdda3_row2_col1\" class=\"data row2 col1\" >0.1759</td>\n",
       "      <td id=\"T_fdda3_row2_col2\" class=\"data row2 col2\" >0.4194</td>\n",
       "      <td id=\"T_fdda3_row2_col3\" class=\"data row2 col3\" >0.5025</td>\n",
       "      <td id=\"T_fdda3_row2_col4\" class=\"data row2 col4\" >0.0332</td>\n",
       "      <td id=\"T_fdda3_row2_col5\" class=\"data row2 col5\" >0.0296</td>\n",
       "    </tr>\n",
       "    <tr>\n",
       "      <th id=\"T_fdda3_level0_row3\" class=\"row_heading level0 row3\" >3</th>\n",
       "      <td id=\"T_fdda3_row3_col0\" class=\"data row3 col0\" >0.3749</td>\n",
       "      <td id=\"T_fdda3_row3_col1\" class=\"data row3 col1\" >0.1911</td>\n",
       "      <td id=\"T_fdda3_row3_col2\" class=\"data row3 col2\" >0.4371</td>\n",
       "      <td id=\"T_fdda3_row3_col3\" class=\"data row3 col3\" >0.4775</td>\n",
       "      <td id=\"T_fdda3_row3_col4\" class=\"data row3 col4\" >0.0343</td>\n",
       "      <td id=\"T_fdda3_row3_col5\" class=\"data row3 col5\" >0.0316</td>\n",
       "    </tr>\n",
       "    <tr>\n",
       "      <th id=\"T_fdda3_level0_row4\" class=\"row_heading level0 row4\" >4</th>\n",
       "      <td id=\"T_fdda3_row4_col0\" class=\"data row4 col0\" >0.2581</td>\n",
       "      <td id=\"T_fdda3_row4_col1\" class=\"data row4 col1\" >0.1091</td>\n",
       "      <td id=\"T_fdda3_row4_col2\" class=\"data row4 col2\" >0.3303</td>\n",
       "      <td id=\"T_fdda3_row4_col3\" class=\"data row4 col3\" >0.6313</td>\n",
       "      <td id=\"T_fdda3_row4_col4\" class=\"data row4 col4\" >0.0261</td>\n",
       "      <td id=\"T_fdda3_row4_col5\" class=\"data row4 col5\" >0.0218</td>\n",
       "    </tr>\n",
       "    <tr>\n",
       "      <th id=\"T_fdda3_level0_row5\" class=\"row_heading level0 row5\" >Mean</th>\n",
       "      <td id=\"T_fdda3_row5_col0\" class=\"data row5 col0\" >0.3029</td>\n",
       "      <td id=\"T_fdda3_row5_col1\" class=\"data row5 col1\" >0.1573</td>\n",
       "      <td id=\"T_fdda3_row5_col2\" class=\"data row5 col2\" >0.3945</td>\n",
       "      <td id=\"T_fdda3_row5_col3\" class=\"data row5 col3\" >0.5396</td>\n",
       "      <td id=\"T_fdda3_row5_col4\" class=\"data row5 col4\" >0.0314</td>\n",
       "      <td id=\"T_fdda3_row5_col5\" class=\"data row5 col5\" >0.0259</td>\n",
       "    </tr>\n",
       "    <tr>\n",
       "      <th id=\"T_fdda3_level0_row6\" class=\"row_heading level0 row6\" >Std</th>\n",
       "      <td id=\"T_fdda3_row6_col0\" class=\"data row6 col0\" >0.0496</td>\n",
       "      <td id=\"T_fdda3_row6_col1\" class=\"data row6 col1\" >0.0320</td>\n",
       "      <td id=\"T_fdda3_row6_col2\" class=\"data row6 col2\" >0.0416</td>\n",
       "      <td id=\"T_fdda3_row6_col3\" class=\"data row6 col3\" >0.0626</td>\n",
       "      <td id=\"T_fdda3_row6_col4\" class=\"data row6 col4\" >0.0033</td>\n",
       "      <td id=\"T_fdda3_row6_col5\" class=\"data row6 col5\" >0.0040</td>\n",
       "    </tr>\n",
       "  </tbody>\n",
       "</table>\n"
      ],
      "text/plain": [
       "<pandas.io.formats.style.Styler at 0x7f8017e9c7f0>"
      ]
     },
     "metadata": {},
     "output_type": "display_data"
    },
    {
     "data": {
      "application/vnd.jupyter.widget-view+json": {
       "model_id": "",
       "version_major": 2,
       "version_minor": 0
      },
      "text/plain": [
       "Processing:   0%|          | 0/7 [00:00<?, ?it/s]"
      ]
     },
     "metadata": {},
     "output_type": "display_data"
    },
    {
     "name": "stdout",
     "output_type": "stream",
     "text": [
      "Fitting 5 folds for each of 6 candidates, totalling 30 fits\n",
      "Original model was better than the tuned model, hence it will be returned. NOTE: The display metrics are for the tuned model (not the original one).\n"
     ]
    },
    {
     "data": {
      "text/html": [],
      "text/plain": [
       "<IPython.core.display.HTML object>"
      ]
     },
     "metadata": {},
     "output_type": "display_data"
    },
    {
     "data": {
      "text/html": [
       "<style type=\"text/css\">\n",
       "#T_62781_row5_col0, #T_62781_row5_col1, #T_62781_row5_col2, #T_62781_row5_col3, #T_62781_row5_col4, #T_62781_row5_col5 {\n",
       "  background: yellow;\n",
       "}\n",
       "</style>\n",
       "<table id=\"T_62781\">\n",
       "  <thead>\n",
       "    <tr>\n",
       "      <th class=\"blank level0\" >&nbsp;</th>\n",
       "      <th id=\"T_62781_level0_col0\" class=\"col_heading level0 col0\" >MAE</th>\n",
       "      <th id=\"T_62781_level0_col1\" class=\"col_heading level0 col1\" >MSE</th>\n",
       "      <th id=\"T_62781_level0_col2\" class=\"col_heading level0 col2\" >RMSE</th>\n",
       "      <th id=\"T_62781_level0_col3\" class=\"col_heading level0 col3\" >R2</th>\n",
       "      <th id=\"T_62781_level0_col4\" class=\"col_heading level0 col4\" >RMSLE</th>\n",
       "      <th id=\"T_62781_level0_col5\" class=\"col_heading level0 col5\" >MAPE</th>\n",
       "    </tr>\n",
       "    <tr>\n",
       "      <th class=\"index_name level0\" >Fold</th>\n",
       "      <th class=\"blank col0\" >&nbsp;</th>\n",
       "      <th class=\"blank col1\" >&nbsp;</th>\n",
       "      <th class=\"blank col2\" >&nbsp;</th>\n",
       "      <th class=\"blank col3\" >&nbsp;</th>\n",
       "      <th class=\"blank col4\" >&nbsp;</th>\n",
       "      <th class=\"blank col5\" >&nbsp;</th>\n",
       "    </tr>\n",
       "  </thead>\n",
       "  <tbody>\n",
       "    <tr>\n",
       "      <th id=\"T_62781_level0_row0\" class=\"row_heading level0 row0\" >0</th>\n",
       "      <td id=\"T_62781_row0_col0\" class=\"data row0 col0\" >0.2602</td>\n",
       "      <td id=\"T_62781_row0_col1\" class=\"data row0 col1\" >0.1702</td>\n",
       "      <td id=\"T_62781_row0_col2\" class=\"data row0 col2\" >0.4125</td>\n",
       "      <td id=\"T_62781_row0_col3\" class=\"data row0 col3\" >0.5186</td>\n",
       "      <td id=\"T_62781_row0_col4\" class=\"data row0 col4\" >0.0332</td>\n",
       "      <td id=\"T_62781_row0_col5\" class=\"data row0 col5\" >0.0224</td>\n",
       "    </tr>\n",
       "    <tr>\n",
       "      <th id=\"T_62781_level0_row1\" class=\"row_heading level0 row1\" >1</th>\n",
       "      <td id=\"T_62781_row1_col0\" class=\"data row1 col0\" >0.2672</td>\n",
       "      <td id=\"T_62781_row1_col1\" class=\"data row1 col1\" >0.1958</td>\n",
       "      <td id=\"T_62781_row1_col2\" class=\"data row1 col2\" >0.4425</td>\n",
       "      <td id=\"T_62781_row1_col3\" class=\"data row1 col3\" >0.3935</td>\n",
       "      <td id=\"T_62781_row1_col4\" class=\"data row1 col4\" >0.0353</td>\n",
       "      <td id=\"T_62781_row1_col5\" class=\"data row1 col5\" >0.0230</td>\n",
       "    </tr>\n",
       "    <tr>\n",
       "      <th id=\"T_62781_level0_row2\" class=\"row_heading level0 row2\" >2</th>\n",
       "      <td id=\"T_62781_row2_col0\" class=\"data row2 col0\" >0.2626</td>\n",
       "      <td id=\"T_62781_row2_col1\" class=\"data row2 col1\" >0.2041</td>\n",
       "      <td id=\"T_62781_row2_col2\" class=\"data row2 col2\" >0.4518</td>\n",
       "      <td id=\"T_62781_row2_col3\" class=\"data row2 col3\" >0.4226</td>\n",
       "      <td id=\"T_62781_row2_col4\" class=\"data row2 col4\" >0.0364</td>\n",
       "      <td id=\"T_62781_row2_col5\" class=\"data row2 col5\" >0.0228</td>\n",
       "    </tr>\n",
       "    <tr>\n",
       "      <th id=\"T_62781_level0_row3\" class=\"row_heading level0 row3\" >3</th>\n",
       "      <td id=\"T_62781_row3_col0\" class=\"data row3 col0\" >0.2697</td>\n",
       "      <td id=\"T_62781_row3_col1\" class=\"data row3 col1\" >0.2081</td>\n",
       "      <td id=\"T_62781_row3_col2\" class=\"data row3 col2\" >0.4562</td>\n",
       "      <td id=\"T_62781_row3_col3\" class=\"data row3 col3\" >0.4310</td>\n",
       "      <td id=\"T_62781_row3_col4\" class=\"data row3 col4\" >0.0365</td>\n",
       "      <td id=\"T_62781_row3_col5\" class=\"data row3 col5\" >0.0232</td>\n",
       "    </tr>\n",
       "    <tr>\n",
       "      <th id=\"T_62781_level0_row4\" class=\"row_heading level0 row4\" >4</th>\n",
       "      <td id=\"T_62781_row4_col0\" class=\"data row4 col0\" >0.2151</td>\n",
       "      <td id=\"T_62781_row4_col1\" class=\"data row4 col1\" >0.1166</td>\n",
       "      <td id=\"T_62781_row4_col2\" class=\"data row4 col2\" >0.3414</td>\n",
       "      <td id=\"T_62781_row4_col3\" class=\"data row4 col3\" >0.6060</td>\n",
       "      <td id=\"T_62781_row4_col4\" class=\"data row4 col4\" >0.0270</td>\n",
       "      <td id=\"T_62781_row4_col5\" class=\"data row4 col5\" >0.0183</td>\n",
       "    </tr>\n",
       "    <tr>\n",
       "      <th id=\"T_62781_level0_row5\" class=\"row_heading level0 row5\" >Mean</th>\n",
       "      <td id=\"T_62781_row5_col0\" class=\"data row5 col0\" >0.2549</td>\n",
       "      <td id=\"T_62781_row5_col1\" class=\"data row5 col1\" >0.1790</td>\n",
       "      <td id=\"T_62781_row5_col2\" class=\"data row5 col2\" >0.4209</td>\n",
       "      <td id=\"T_62781_row5_col3\" class=\"data row5 col3\" >0.4743</td>\n",
       "      <td id=\"T_62781_row5_col4\" class=\"data row5 col4\" >0.0337</td>\n",
       "      <td id=\"T_62781_row5_col5\" class=\"data row5 col5\" >0.0219</td>\n",
       "    </tr>\n",
       "    <tr>\n",
       "      <th id=\"T_62781_level0_row6\" class=\"row_heading level0 row6\" >Std</th>\n",
       "      <td id=\"T_62781_row6_col0\" class=\"data row6 col0\" >0.0202</td>\n",
       "      <td id=\"T_62781_row6_col1\" class=\"data row6 col1\" >0.0339</td>\n",
       "      <td id=\"T_62781_row6_col2\" class=\"data row6 col2\" >0.0426</td>\n",
       "      <td id=\"T_62781_row6_col3\" class=\"data row6 col3\" >0.0780</td>\n",
       "      <td id=\"T_62781_row6_col4\" class=\"data row6 col4\" >0.0035</td>\n",
       "      <td id=\"T_62781_row6_col5\" class=\"data row6 col5\" >0.0018</td>\n",
       "    </tr>\n",
       "  </tbody>\n",
       "</table>\n"
      ],
      "text/plain": [
       "<pandas.io.formats.style.Styler at 0x7f7ff1a8d280>"
      ]
     },
     "metadata": {},
     "output_type": "display_data"
    },
    {
     "data": {
      "application/vnd.jupyter.widget-view+json": {
       "model_id": "",
       "version_major": 2,
       "version_minor": 0
      },
      "text/plain": [
       "Processing:   0%|          | 0/7 [00:00<?, ?it/s]"
      ]
     },
     "metadata": {},
     "output_type": "display_data"
    },
    {
     "name": "stdout",
     "output_type": "stream",
     "text": [
      "Fitting 5 folds for each of 6 candidates, totalling 30 fits\n"
     ]
    },
    {
     "data": {
      "text/html": [],
      "text/plain": [
       "<IPython.core.display.HTML object>"
      ]
     },
     "metadata": {},
     "output_type": "display_data"
    },
    {
     "data": {
      "text/html": [
       "<style type=\"text/css\">\n",
       "#T_34575_row5_col0, #T_34575_row5_col1, #T_34575_row5_col2, #T_34575_row5_col3, #T_34575_row5_col4, #T_34575_row5_col5 {\n",
       "  background: yellow;\n",
       "}\n",
       "</style>\n",
       "<table id=\"T_34575\">\n",
       "  <thead>\n",
       "    <tr>\n",
       "      <th class=\"blank level0\" >&nbsp;</th>\n",
       "      <th id=\"T_34575_level0_col0\" class=\"col_heading level0 col0\" >MAE</th>\n",
       "      <th id=\"T_34575_level0_col1\" class=\"col_heading level0 col1\" >MSE</th>\n",
       "      <th id=\"T_34575_level0_col2\" class=\"col_heading level0 col2\" >RMSE</th>\n",
       "      <th id=\"T_34575_level0_col3\" class=\"col_heading level0 col3\" >R2</th>\n",
       "      <th id=\"T_34575_level0_col4\" class=\"col_heading level0 col4\" >RMSLE</th>\n",
       "      <th id=\"T_34575_level0_col5\" class=\"col_heading level0 col5\" >MAPE</th>\n",
       "    </tr>\n",
       "    <tr>\n",
       "      <th class=\"index_name level0\" >Fold</th>\n",
       "      <th class=\"blank col0\" >&nbsp;</th>\n",
       "      <th class=\"blank col1\" >&nbsp;</th>\n",
       "      <th class=\"blank col2\" >&nbsp;</th>\n",
       "      <th class=\"blank col3\" >&nbsp;</th>\n",
       "      <th class=\"blank col4\" >&nbsp;</th>\n",
       "      <th class=\"blank col5\" >&nbsp;</th>\n",
       "    </tr>\n",
       "  </thead>\n",
       "  <tbody>\n",
       "    <tr>\n",
       "      <th id=\"T_34575_level0_row0\" class=\"row_heading level0 row0\" >0</th>\n",
       "      <td id=\"T_34575_row0_col0\" class=\"data row0 col0\" >0.1860</td>\n",
       "      <td id=\"T_34575_row0_col1\" class=\"data row0 col1\" >0.0664</td>\n",
       "      <td id=\"T_34575_row0_col2\" class=\"data row0 col2\" >0.2577</td>\n",
       "      <td id=\"T_34575_row0_col3\" class=\"data row0 col3\" >0.8121</td>\n",
       "      <td id=\"T_34575_row0_col4\" class=\"data row0 col4\" >0.0206</td>\n",
       "      <td id=\"T_34575_row0_col5\" class=\"data row0 col5\" >0.0160</td>\n",
       "    </tr>\n",
       "    <tr>\n",
       "      <th id=\"T_34575_level0_row1\" class=\"row_heading level0 row1\" >1</th>\n",
       "      <td id=\"T_34575_row1_col0\" class=\"data row1 col0\" >0.1833</td>\n",
       "      <td id=\"T_34575_row1_col1\" class=\"data row1 col1\" >0.0642</td>\n",
       "      <td id=\"T_34575_row1_col2\" class=\"data row1 col2\" >0.2535</td>\n",
       "      <td id=\"T_34575_row1_col3\" class=\"data row1 col3\" >0.8010</td>\n",
       "      <td id=\"T_34575_row1_col4\" class=\"data row1 col4\" >0.0201</td>\n",
       "      <td id=\"T_34575_row1_col5\" class=\"data row1 col5\" >0.0157</td>\n",
       "    </tr>\n",
       "    <tr>\n",
       "      <th id=\"T_34575_level0_row2\" class=\"row_heading level0 row2\" >2</th>\n",
       "      <td id=\"T_34575_row2_col0\" class=\"data row2 col0\" >0.1879</td>\n",
       "      <td id=\"T_34575_row2_col1\" class=\"data row2 col1\" >0.0672</td>\n",
       "      <td id=\"T_34575_row2_col2\" class=\"data row2 col2\" >0.2592</td>\n",
       "      <td id=\"T_34575_row2_col3\" class=\"data row2 col3\" >0.8100</td>\n",
       "      <td id=\"T_34575_row2_col4\" class=\"data row2 col4\" >0.0206</td>\n",
       "      <td id=\"T_34575_row2_col5\" class=\"data row2 col5\" >0.0162</td>\n",
       "    </tr>\n",
       "    <tr>\n",
       "      <th id=\"T_34575_level0_row3\" class=\"row_heading level0 row3\" >3</th>\n",
       "      <td id=\"T_34575_row3_col0\" class=\"data row3 col0\" >0.1941</td>\n",
       "      <td id=\"T_34575_row3_col1\" class=\"data row3 col1\" >0.0726</td>\n",
       "      <td id=\"T_34575_row3_col2\" class=\"data row3 col2\" >0.2694</td>\n",
       "      <td id=\"T_34575_row3_col3\" class=\"data row3 col3\" >0.8015</td>\n",
       "      <td id=\"T_34575_row3_col4\" class=\"data row3 col4\" >0.0215</td>\n",
       "      <td id=\"T_34575_row3_col5\" class=\"data row3 col5\" >0.0168</td>\n",
       "    </tr>\n",
       "    <tr>\n",
       "      <th id=\"T_34575_level0_row4\" class=\"row_heading level0 row4\" >4</th>\n",
       "      <td id=\"T_34575_row4_col0\" class=\"data row4 col0\" >0.1717</td>\n",
       "      <td id=\"T_34575_row4_col1\" class=\"data row4 col1\" >0.0589</td>\n",
       "      <td id=\"T_34575_row4_col2\" class=\"data row4 col2\" >0.2427</td>\n",
       "      <td id=\"T_34575_row4_col3\" class=\"data row4 col3\" >0.8008</td>\n",
       "      <td id=\"T_34575_row4_col4\" class=\"data row4 col4\" >0.0191</td>\n",
       "      <td id=\"T_34575_row4_col5\" class=\"data row4 col5\" >0.0146</td>\n",
       "    </tr>\n",
       "    <tr>\n",
       "      <th id=\"T_34575_level0_row5\" class=\"row_heading level0 row5\" >Mean</th>\n",
       "      <td id=\"T_34575_row5_col0\" class=\"data row5 col0\" >0.1846</td>\n",
       "      <td id=\"T_34575_row5_col1\" class=\"data row5 col1\" >0.0659</td>\n",
       "      <td id=\"T_34575_row5_col2\" class=\"data row5 col2\" >0.2565</td>\n",
       "      <td id=\"T_34575_row5_col3\" class=\"data row5 col3\" >0.8051</td>\n",
       "      <td id=\"T_34575_row5_col4\" class=\"data row5 col4\" >0.0204</td>\n",
       "      <td id=\"T_34575_row5_col5\" class=\"data row5 col5\" >0.0158</td>\n",
       "    </tr>\n",
       "    <tr>\n",
       "      <th id=\"T_34575_level0_row6\" class=\"row_heading level0 row6\" >Std</th>\n",
       "      <td id=\"T_34575_row6_col0\" class=\"data row6 col0\" >0.0073</td>\n",
       "      <td id=\"T_34575_row6_col1\" class=\"data row6 col1\" >0.0044</td>\n",
       "      <td id=\"T_34575_row6_col2\" class=\"data row6 col2\" >0.0086</td>\n",
       "      <td id=\"T_34575_row6_col3\" class=\"data row6 col3\" >0.0049</td>\n",
       "      <td id=\"T_34575_row6_col4\" class=\"data row6 col4\" >0.0008</td>\n",
       "      <td id=\"T_34575_row6_col5\" class=\"data row6 col5\" >0.0007</td>\n",
       "    </tr>\n",
       "  </tbody>\n",
       "</table>\n"
      ],
      "text/plain": [
       "<pandas.io.formats.style.Styler at 0x7f80366189a0>"
      ]
     },
     "metadata": {},
     "output_type": "display_data"
    },
    {
     "data": {
      "application/vnd.jupyter.widget-view+json": {
       "model_id": "",
       "version_major": 2,
       "version_minor": 0
      },
      "text/plain": [
       "Processing:   0%|          | 0/7 [00:00<?, ?it/s]"
      ]
     },
     "metadata": {},
     "output_type": "display_data"
    },
    {
     "name": "stdout",
     "output_type": "stream",
     "text": [
      "Fitting 5 folds for each of 6 candidates, totalling 30 fits\n"
     ]
    }
   ],
   "source": [
    "tuned_par = tune_model(par, optimize = 'MAE', n_iter = 6)\n",
    "tuned_knn = tune_model(knn, optimize = 'MAE', n_iter = 6)\n",
    "tuned_ridge = tune_model(ridge, optimize = 'MAE', n_iter = 6)\n"
   ]
  },
  {
   "cell_type": "markdown",
   "id": "dd0a1d4f",
   "metadata": {
    "ExecuteTime": {
     "end_time": "2023-07-29T18:18:10.518619Z",
     "start_time": "2023-07-29T18:18:10.507349Z"
    }
   },
   "source": [
    "튜닝을 해보니 ridge가 성능이 엄청 향상되었다."
   ]
  },
  {
   "cell_type": "markdown",
   "id": "010e3119",
   "metadata": {},
   "source": [
    "## 블렌딩"
   ]
  },
  {
   "cell_type": "code",
   "execution_count": 506,
   "id": "35d21234",
   "metadata": {
    "ExecuteTime": {
     "end_time": "2023-07-29T18:47:34.724216Z",
     "start_time": "2023-07-29T18:47:33.831676Z"
    },
    "scrolled": true
   },
   "outputs": [
    {
     "data": {
      "text/html": [],
      "text/plain": [
       "<IPython.core.display.HTML object>"
      ]
     },
     "metadata": {},
     "output_type": "display_data"
    },
    {
     "data": {
      "text/html": [
       "<style type=\"text/css\">\n",
       "#T_52817_row5_col0, #T_52817_row5_col1, #T_52817_row5_col2, #T_52817_row5_col3, #T_52817_row5_col4, #T_52817_row5_col5 {\n",
       "  background: yellow;\n",
       "}\n",
       "</style>\n",
       "<table id=\"T_52817\">\n",
       "  <thead>\n",
       "    <tr>\n",
       "      <th class=\"blank level0\" >&nbsp;</th>\n",
       "      <th id=\"T_52817_level0_col0\" class=\"col_heading level0 col0\" >MAE</th>\n",
       "      <th id=\"T_52817_level0_col1\" class=\"col_heading level0 col1\" >MSE</th>\n",
       "      <th id=\"T_52817_level0_col2\" class=\"col_heading level0 col2\" >RMSE</th>\n",
       "      <th id=\"T_52817_level0_col3\" class=\"col_heading level0 col3\" >R2</th>\n",
       "      <th id=\"T_52817_level0_col4\" class=\"col_heading level0 col4\" >RMSLE</th>\n",
       "      <th id=\"T_52817_level0_col5\" class=\"col_heading level0 col5\" >MAPE</th>\n",
       "    </tr>\n",
       "    <tr>\n",
       "      <th class=\"index_name level0\" >Fold</th>\n",
       "      <th class=\"blank col0\" >&nbsp;</th>\n",
       "      <th class=\"blank col1\" >&nbsp;</th>\n",
       "      <th class=\"blank col2\" >&nbsp;</th>\n",
       "      <th class=\"blank col3\" >&nbsp;</th>\n",
       "      <th class=\"blank col4\" >&nbsp;</th>\n",
       "      <th class=\"blank col5\" >&nbsp;</th>\n",
       "    </tr>\n",
       "  </thead>\n",
       "  <tbody>\n",
       "    <tr>\n",
       "      <th id=\"T_52817_level0_row0\" class=\"row_heading level0 row0\" >0</th>\n",
       "      <td id=\"T_52817_row0_col0\" class=\"data row0 col0\" >0.2217</td>\n",
       "      <td id=\"T_52817_row0_col1\" class=\"data row0 col1\" >0.0852</td>\n",
       "      <td id=\"T_52817_row0_col2\" class=\"data row0 col2\" >0.2918</td>\n",
       "      <td id=\"T_52817_row0_col3\" class=\"data row0 col3\" >0.7591</td>\n",
       "      <td id=\"T_52817_row0_col4\" class=\"data row0 col4\" >0.0233</td>\n",
       "      <td id=\"T_52817_row0_col5\" class=\"data row0 col5\" >0.0189</td>\n",
       "    </tr>\n",
       "    <tr>\n",
       "      <th id=\"T_52817_level0_row1\" class=\"row_heading level0 row1\" >1</th>\n",
       "      <td id=\"T_52817_row1_col0\" class=\"data row1 col0\" >0.1868</td>\n",
       "      <td id=\"T_52817_row1_col1\" class=\"data row1 col1\" >0.0732</td>\n",
       "      <td id=\"T_52817_row1_col2\" class=\"data row1 col2\" >0.2705</td>\n",
       "      <td id=\"T_52817_row1_col3\" class=\"data row1 col3\" >0.7734</td>\n",
       "      <td id=\"T_52817_row1_col4\" class=\"data row1 col4\" >0.0216</td>\n",
       "      <td id=\"T_52817_row1_col5\" class=\"data row1 col5\" >0.0161</td>\n",
       "    </tr>\n",
       "    <tr>\n",
       "      <th id=\"T_52817_level0_row2\" class=\"row_heading level0 row2\" >2</th>\n",
       "      <td id=\"T_52817_row2_col0\" class=\"data row2 col0\" >0.1786</td>\n",
       "      <td id=\"T_52817_row2_col1\" class=\"data row2 col1\" >0.0665</td>\n",
       "      <td id=\"T_52817_row2_col2\" class=\"data row2 col2\" >0.2579</td>\n",
       "      <td id=\"T_52817_row2_col3\" class=\"data row2 col3\" >0.8119</td>\n",
       "      <td id=\"T_52817_row2_col4\" class=\"data row2 col4\" >0.0210</td>\n",
       "      <td id=\"T_52817_row2_col5\" class=\"data row2 col5\" >0.0156</td>\n",
       "    </tr>\n",
       "    <tr>\n",
       "      <th id=\"T_52817_level0_row3\" class=\"row_heading level0 row3\" >3</th>\n",
       "      <td id=\"T_52817_row3_col0\" class=\"data row3 col0\" >0.1821</td>\n",
       "      <td id=\"T_52817_row3_col1\" class=\"data row3 col1\" >0.0704</td>\n",
       "      <td id=\"T_52817_row3_col2\" class=\"data row3 col2\" >0.2654</td>\n",
       "      <td id=\"T_52817_row3_col3\" class=\"data row3 col3\" >0.8074</td>\n",
       "      <td id=\"T_52817_row3_col4\" class=\"data row3 col4\" >0.0215</td>\n",
       "      <td id=\"T_52817_row3_col5\" class=\"data row3 col5\" >0.0159</td>\n",
       "    </tr>\n",
       "    <tr>\n",
       "      <th id=\"T_52817_level0_row4\" class=\"row_heading level0 row4\" >4</th>\n",
       "      <td id=\"T_52817_row4_col0\" class=\"data row4 col0\" >0.1433</td>\n",
       "      <td id=\"T_52817_row4_col1\" class=\"data row4 col1\" >0.0437</td>\n",
       "      <td id=\"T_52817_row4_col2\" class=\"data row4 col2\" >0.2091</td>\n",
       "      <td id=\"T_52817_row4_col3\" class=\"data row4 col3\" >0.8522</td>\n",
       "      <td id=\"T_52817_row4_col4\" class=\"data row4 col4\" >0.0169</td>\n",
       "      <td id=\"T_52817_row4_col5\" class=\"data row4 col5\" >0.0124</td>\n",
       "    </tr>\n",
       "    <tr>\n",
       "      <th id=\"T_52817_level0_row5\" class=\"row_heading level0 row5\" >Mean</th>\n",
       "      <td id=\"T_52817_row5_col0\" class=\"data row5 col0\" >0.1825</td>\n",
       "      <td id=\"T_52817_row5_col1\" class=\"data row5 col1\" >0.0678</td>\n",
       "      <td id=\"T_52817_row5_col2\" class=\"data row5 col2\" >0.2589</td>\n",
       "      <td id=\"T_52817_row5_col3\" class=\"data row5 col3\" >0.8008</td>\n",
       "      <td id=\"T_52817_row5_col4\" class=\"data row5 col4\" >0.0209</td>\n",
       "      <td id=\"T_52817_row5_col5\" class=\"data row5 col5\" >0.0158</td>\n",
       "    </tr>\n",
       "    <tr>\n",
       "      <th id=\"T_52817_level0_row6\" class=\"row_heading level0 row6\" >Std</th>\n",
       "      <td id=\"T_52817_row6_col0\" class=\"data row6 col0\" >0.0249</td>\n",
       "      <td id=\"T_52817_row6_col1\" class=\"data row6 col1\" >0.0136</td>\n",
       "      <td id=\"T_52817_row6_col2\" class=\"data row6 col2\" >0.0274</td>\n",
       "      <td id=\"T_52817_row6_col3\" class=\"data row6 col3\" >0.0326</td>\n",
       "      <td id=\"T_52817_row6_col4\" class=\"data row6 col4\" >0.0021</td>\n",
       "      <td id=\"T_52817_row6_col5\" class=\"data row6 col5\" >0.0021</td>\n",
       "    </tr>\n",
       "  </tbody>\n",
       "</table>\n"
      ],
      "text/plain": [
       "<pandas.io.formats.style.Styler at 0x7f802333ac40>"
      ]
     },
     "metadata": {},
     "output_type": "display_data"
    },
    {
     "data": {
      "application/vnd.jupyter.widget-view+json": {
       "model_id": "",
       "version_major": 2,
       "version_minor": 0
      },
      "text/plain": [
       "Processing:   0%|          | 0/6 [00:00<?, ?it/s]"
      ]
     },
     "metadata": {},
     "output_type": "display_data"
    }
   ],
   "source": [
    "blender_specific = blend_models(estimator_list = [tuned_knn,tuned_ridge,tuned_par], optimize = 'MAE')"
   ]
  },
  {
   "cell_type": "markdown",
   "id": "9f34a7c0",
   "metadata": {},
   "source": [
    "튜닝이 끝난 모델 3개를 앙상블 하니 좀 성능 괜찮다"
   ]
  },
  {
   "cell_type": "markdown",
   "id": "a4b3ecd6",
   "metadata": {},
   "source": [
    "## 시각화"
   ]
  },
  {
   "cell_type": "code",
   "execution_count": 521,
   "id": "679a7a05",
   "metadata": {
    "ExecuteTime": {
     "end_time": "2023-07-29T18:55:04.278035Z",
     "start_time": "2023-07-29T18:55:03.322899Z"
    },
    "scrolled": true
   },
   "outputs": [
    {
     "data": {
      "text/html": [],
      "text/plain": [
       "<IPython.core.display.HTML object>"
      ]
     },
     "metadata": {},
     "output_type": "display_data"
    },
    {
     "data": {
      "image/png": "[encoded data removed]",
      "text/plain": [
       "<Figure size 432x288 with 2 Axes>"
      ]
     },
     "metadata": {
      "needs_background": "light"
     },
     "output_type": "display_data"
    }
   ],
   "source": [
    "plot_model(par)"
   ]
  },
  {
   "cell_type": "markdown",
   "id": "41efe821",
   "metadata": {},
   "source": [
    "train과 test set 설명령이  비슷해 보인다. 크게 도드라지는 outlier도 눈에띄지 않는다"
   ]
  },
  {
   "cell_type": "code",
   "execution_count": 522,
   "id": "74dc7e59",
   "metadata": {
    "ExecuteTime": {
     "end_time": "2023-07-29T18:55:15.569551Z",
     "start_time": "2023-07-29T18:55:15.018690Z"
    },
    "scrolled": true
   },
   "outputs": [
    {
     "data": {
      "text/html": [],
      "text/plain": [
       "<IPython.core.display.HTML object>"
      ]
     },
     "metadata": {},
     "output_type": "display_data"
    },
    {
     "data": {
      "image/png": "[encoded data removed]",
      "text/plain": [
       "<Figure size 432x288 with 1 Axes>"
      ]
     },
     "metadata": {
      "needs_background": "light"
     },
     "output_type": "display_data"
    }
   ],
   "source": [
    "plot_model(par, plot='error')"
   ]
  },
  {
   "cell_type": "code",
   "execution_count": 523,
   "id": "54e499f8",
   "metadata": {
    "ExecuteTime": {
     "end_time": "2023-07-29T18:55:17.615422Z",
     "start_time": "2023-07-29T18:55:16.960720Z"
    },
    "scrolled": true
   },
   "outputs": [
    {
     "data": {
      "text/html": [],
      "text/plain": [
       "<IPython.core.display.HTML object>"
      ]
     },
     "metadata": {},
     "output_type": "display_data"
    },
    {
     "data": {
      "image/png": "[encoded data removed]",
      "text/plain": [
       "<Figure size 432x288 with 1 Axes>"
      ]
     },
     "metadata": {
      "needs_background": "light"
     },
     "output_type": "display_data"
    }
   ],
   "source": [
    "# 모델 시각화(plot)_plot = 'learning'\n",
    "\n",
    "plot_model(par, plot='learning')"
   ]
  },
  {
   "cell_type": "markdown",
   "id": "53bc3012",
   "metadata": {},
   "source": [
    "이거 해석 공부 더 해야합니다"
   ]
  },
  {
   "cell_type": "markdown",
   "id": "68b56205",
   "metadata": {},
   "source": [
    "## 학습 및 예측 "
   ]
  },
  {
   "cell_type": "code",
   "execution_count": 513,
   "id": "da4658d9",
   "metadata": {
    "ExecuteTime": {
     "end_time": "2023-07-29T18:48:41.813202Z",
     "start_time": "2023-07-29T18:48:40.861638Z"
    },
    "scrolled": false
   },
   "outputs": [
    {
     "data": {
      "text/html": [],
      "text/plain": [
       "<IPython.core.display.HTML object>"
      ]
     },
     "metadata": {},
     "output_type": "display_data"
    }
   ],
   "source": [
    "# 마지막 학습(Finalize)\n",
    "\n",
    "final_model = finalize_model(par)\n",
    "\n",
    "\n",
    "# 예측(Predict)\n",
    "\n",
    "pred = predict_model(final_model, data = test_modeling)"
   ]
  },
  {
   "cell_type": "code",
   "execution_count": 514,
   "id": "1a158d34",
   "metadata": {
    "ExecuteTime": {
     "end_time": "2023-07-29T18:48:42.008112Z",
     "start_time": "2023-07-29T18:48:42.005440Z"
    }
   },
   "outputs": [],
   "source": [
    "#로그 변환한 거래가이기 때문에 다시 변환해준다.\n",
    "submission['transaction_real_price'] = np.exp(pred['prediction_label'])"
   ]
  },
  {
   "cell_type": "code",
   "execution_count": 515,
   "id": "81c914e9",
   "metadata": {
    "ExecuteTime": {
     "end_time": "2023-07-29T18:48:45.319295Z",
     "start_time": "2023-07-29T18:48:45.307916Z"
    }
   },
   "outputs": [
    {
     "data": {
      "text/html": [
       "<div>\n",
       "<style scoped>\n",
       "    .dataframe tbody tr th:only-of-type {\n",
       "        vertical-align: middle;\n",
       "    }\n",
       "\n",
       "    .dataframe tbody tr th {\n",
       "        vertical-align: top;\n",
       "    }\n",
       "\n",
       "    .dataframe thead th {\n",
       "        text-align: right;\n",
       "    }\n",
       "</style>\n",
       "<table border=\"1\" class=\"dataframe\">\n",
       "  <thead>\n",
       "    <tr style=\"text-align: right;\">\n",
       "      <th></th>\n",
       "      <th>id</th>\n",
       "      <th>transaction_real_price</th>\n",
       "    </tr>\n",
       "  </thead>\n",
       "  <tbody>\n",
       "    <tr>\n",
       "      <th>0</th>\n",
       "      <td>TEST_0000</td>\n",
       "      <td>138505.380436</td>\n",
       "    </tr>\n",
       "    <tr>\n",
       "      <th>1</th>\n",
       "      <td>TEST_0001</td>\n",
       "      <td>106151.617315</td>\n",
       "    </tr>\n",
       "    <tr>\n",
       "      <th>2</th>\n",
       "      <td>TEST_0002</td>\n",
       "      <td>243252.233442</td>\n",
       "    </tr>\n",
       "    <tr>\n",
       "      <th>3</th>\n",
       "      <td>TEST_0003</td>\n",
       "      <td>251707.431835</td>\n",
       "    </tr>\n",
       "    <tr>\n",
       "      <th>4</th>\n",
       "      <td>TEST_0004</td>\n",
       "      <td>248319.999617</td>\n",
       "    </tr>\n",
       "  </tbody>\n",
       "</table>\n",
       "</div>"
      ],
      "text/plain": [
       "          id  transaction_real_price\n",
       "0  TEST_0000           138505.380436\n",
       "1  TEST_0001           106151.617315\n",
       "2  TEST_0002           243252.233442\n",
       "3  TEST_0003           251707.431835\n",
       "4  TEST_0004           248319.999617"
      ]
     },
     "execution_count": 515,
     "metadata": {},
     "output_type": "execute_result"
    }
   ],
   "source": [
    "submission.head()"
   ]
  },
  {
   "cell_type": "code",
   "execution_count": 524,
   "id": "90e93d24",
   "metadata": {
    "ExecuteTime": {
     "end_time": "2023-07-29T18:58:04.888322Z",
     "start_time": "2023-07-29T18:58:04.872525Z"
    }
   },
   "outputs": [],
   "source": [
    "submission['transaction_real_price'] \n",
    "submission.to_csv('submission.csv', index=False)"
   ]
  },
  {
   "cell_type": "code",
   "execution_count": null,
   "id": "3ce6cb3f",
   "metadata": {},
   "outputs": [],
   "source": []
  },
  {
   "cell_type": "code",
   "execution_count": null,
   "id": "0947b93b",
   "metadata": {},
   "outputs": [],
   "source": []
  },
  {
   "cell_type": "code",
   "execution_count": null,
   "id": "05487ec4",
   "metadata": {},
   "outputs": [],
   "source": []
  }
 ],
 "metadata": {
  "kernelspec": {
   "display_name": "Python 3 (ipykernel)",
   "language": "python",
   "name": "python3"
  },
  "language_info": {
   "codemirror_mode": {
    "name": "ipython",
    "version": 3
   },
   "file_extension": ".py",
   "mimetype": "text/x-python",
   "name": "python",
   "nbconvert_exporter": "python",
   "pygments_lexer": "ipython3",
   "version": "3.9.12"
  },
  "toc": {
   "base_numbering": 1,
   "nav_menu": {},
   "number_sections": true,
   "sideBar": true,
   "skip_h1_title": false,
   "title_cell": "Table of Contents",
   "title_sidebar": "Contents",
   "toc_cell": false,
   "toc_position": {},
   "toc_section_display": true,
   "toc_window_display": false
  },
  "varInspector": {
   "cols": {
    "lenName": 16,
    "lenType": 16,
    "lenVar": 40
   },
   "kernels_config": {
    "python": {
     "delete_cmd_postfix": "",
     "delete_cmd_prefix": "del ",
     "library": "var_list.py",
     "varRefreshCmd": "print(var_dic_list())"
    },
    "r": {
     "delete_cmd_postfix": ") ",
     "delete_cmd_prefix": "rm(",
     "library": "var_list.r",
     "varRefreshCmd": "cat(var_dic_list()) "
    }
   },
   "types_to_exclude": [
    "module",
    "function",
    "builtin_function_or_method",
    "instance",
    "_Feature"
   ],
   "window_display": false
  }
 },
 "nbformat": 4,
 "nbformat_minor": 5
}
